{
 "cells": [
  {
   "cell_type": "code",
   "execution_count": 0,
   "metadata": {
    "application/vnd.databricks.v1+cell": {
     "cellMetadata": {
      "byteLimit": 2048000,
      "rowLimit": 10000
     },
     "inputWidgets": {},
     "nuid": "dae568f8-5268-4aac-a922-bd8d1f40a381",
     "showTitle": false,
     "tableResultSettingsMap": {},
     "title": ""
    }
   },
   "outputs": [
    {
     "output_type": "stream",
     "name": "stdout",
     "output_type": "stream",
     "text": [
      "Bronze table created: retail_demand_catalog.retail_demand_schema.transactions_bronze\n"
     ]
    },
    {
     "output_type": "display_data",
     "data": {
      "text/html": [
       "<style scoped>\n",
       "  .table-result-container {\n",
       "    max-height: 300px;\n",
       "    overflow: auto;\n",
       "  }\n",
       "  table, th, td {\n",
       "    border: 1px solid black;\n",
       "    border-collapse: collapse;\n",
       "  }\n",
       "  th, td {\n",
       "    padding: 5px;\n",
       "  }\n",
       "  th {\n",
       "    text-align: left;\n",
       "  }\n",
       "</style><div class='table-result-container'><table class='table-result'><thead style='background-color: white'><tr><th>Transaction_ID</th><th>Date</th><th>Customer_Name</th><th>Product</th><th>Total_Items</th><th>Total_Cost</th><th>Payment_Method</th><th>City</th><th>Store_Type</th><th>Discount_Applied</th><th>Customer_Category</th><th>Season</th><th>Promotion</th></tr></thead><tbody><tr><td>1000000000</td><td>2022-01-21 06:27:29</td><td>Stacey Price</td><td>['Ketchup', 'Shaving Cream', 'Light Bulbs']</td><td>3</td><td>71.65</td><td>Mobile Payment</td><td>Los Angeles</td><td>Warehouse Club</td><td>True</td><td>Homemaker</td><td>Winter</td><td>None</td></tr><tr><td>1000000001</td><td>2023-03-01 13:01:21</td><td>Michelle Carlson</td><td>['Ice Cream', 'Milk', 'Olive Oil', 'Bread', 'Potatoes']</td><td>2</td><td>25.93</td><td>Cash</td><td>San Francisco</td><td>Specialty Store</td><td>True</td><td>Professional</td><td>Fall</td><td>BOGO (Buy One Get One)</td></tr><tr><td>1000000002</td><td>2024-03-21 15:37:04</td><td>Lisa Graves</td><td>['Spinach']</td><td>6</td><td>41.49</td><td>Credit Card</td><td>Houston</td><td>Department Store</td><td>True</td><td>Professional</td><td>Winter</td><td>None</td></tr><tr><td>1000000003</td><td>2020-10-31 09:59:47</td><td>Mrs. Patricia May</td><td>['Tissues', 'Mustard']</td><td>1</td><td>39.34</td><td>Mobile Payment</td><td>Chicago</td><td>Pharmacy</td><td>True</td><td>Homemaker</td><td>Spring</td><td>None</td></tr><tr><td>1000000004</td><td>2020-12-10 00:59:59</td><td>Susan Mitchell</td><td>['Dish Soap']</td><td>10</td><td>16.42</td><td>Debit Card</td><td>Houston</td><td>Specialty Store</td><td>False</td><td>Young Adult</td><td>Winter</td><td>Discount on Selected Items</td></tr><tr><td>1000000005</td><td>2021-10-07 12:37:26</td><td>Joshua Frazier</td><td>['Toothpaste', 'Chicken']</td><td>3</td><td>72.24</td><td>Cash</td><td>Houston</td><td>Supermarket</td><td>True</td><td>Retiree</td><td>Spring</td><td>Discount on Selected Items</td></tr><tr><td>1000000006</td><td>2023-01-08 10:40:03</td><td>Victoria Garrett</td><td>['Honey', 'BBQ Sauce', 'Soda', 'Olive Oil', 'Garden Hose']</td><td>4</td><td>5.28</td><td>Cash</td><td>Boston</td><td>Specialty Store</td><td>False</td><td>Student</td><td>Summer</td><td>Discount on Selected Items</td></tr><tr><td>1000000007</td><td>2020-09-03 12:39:59</td><td>Sydney Waller</td><td>['Syrup', 'Trash Cans', 'Pancake Mix', 'Water', 'Mayonnaise']</td><td>5</td><td>21.77</td><td>Debit Card</td><td>Chicago</td><td>Specialty Store</td><td>False</td><td>Young Adult</td><td>Winter</td><td>Discount on Selected Items</td></tr><tr><td>1000000008</td><td>2021-04-05 06:32:18</td><td>Kimberly Morgan</td><td>['Insect Repellent']</td><td>4</td><td>55.25</td><td>Mobile Payment</td><td>Los Angeles</td><td>Warehouse Club</td><td>False</td><td>Homemaker</td><td>Fall</td><td>None</td></tr><tr><td>1000000009</td><td>2021-07-08 10:08:59</td><td>Lori Conway</td><td>['Soap', 'Baby Wipes', 'Soda']</td><td>7</td><td>31.21</td><td>Mobile Payment</td><td>Boston</td><td>Convenience Store</td><td>True</td><td>Young Adult</td><td>Winter</td><td>None</td></tr></tbody></table></div>"
      ]
     },
     "metadata": {
      "application/vnd.databricks.v1+output": {
       "addedWidgets": {},
       "aggData": [],
       "aggError": "",
       "aggOverflow": false,
       "aggSchema": [],
       "aggSeriesLimitReached": false,
       "aggType": "",
       "arguments": {},
       "columnCustomDisplayInfos": {},
       "data": [
        [
         "1000000000",
         "2022-01-21 06:27:29",
         "Stacey Price",
         "['Ketchup', 'Shaving Cream', 'Light Bulbs']",
         "3",
         "71.65",
         "Mobile Payment",
         "Los Angeles",
         "Warehouse Club",
         "True",
         "Homemaker",
         "Winter",
         "None"
        ],
        [
         "1000000001",
         "2023-03-01 13:01:21",
         "Michelle Carlson",
         "['Ice Cream', 'Milk', 'Olive Oil', 'Bread', 'Potatoes']",
         "2",
         "25.93",
         "Cash",
         "San Francisco",
         "Specialty Store",
         "True",
         "Professional",
         "Fall",
         "BOGO (Buy One Get One)"
        ],
        [
         "1000000002",
         "2024-03-21 15:37:04",
         "Lisa Graves",
         "['Spinach']",
         "6",
         "41.49",
         "Credit Card",
         "Houston",
         "Department Store",
         "True",
         "Professional",
         "Winter",
         "None"
        ],
        [
         "1000000003",
         "2020-10-31 09:59:47",
         "Mrs. Patricia May",
         "['Tissues', 'Mustard']",
         "1",
         "39.34",
         "Mobile Payment",
         "Chicago",
         "Pharmacy",
         "True",
         "Homemaker",
         "Spring",
         "None"
        ],
        [
         "1000000004",
         "2020-12-10 00:59:59",
         "Susan Mitchell",
         "['Dish Soap']",
         "10",
         "16.42",
         "Debit Card",
         "Houston",
         "Specialty Store",
         "False",
         "Young Adult",
         "Winter",
         "Discount on Selected Items"
        ],
        [
         "1000000005",
         "2021-10-07 12:37:26",
         "Joshua Frazier",
         "['Toothpaste', 'Chicken']",
         "3",
         "72.24",
         "Cash",
         "Houston",
         "Supermarket",
         "True",
         "Retiree",
         "Spring",
         "Discount on Selected Items"
        ],
        [
         "1000000006",
         "2023-01-08 10:40:03",
         "Victoria Garrett",
         "['Honey', 'BBQ Sauce', 'Soda', 'Olive Oil', 'Garden Hose']",
         "4",
         "5.28",
         "Cash",
         "Boston",
         "Specialty Store",
         "False",
         "Student",
         "Summer",
         "Discount on Selected Items"
        ],
        [
         "1000000007",
         "2020-09-03 12:39:59",
         "Sydney Waller",
         "['Syrup', 'Trash Cans', 'Pancake Mix', 'Water', 'Mayonnaise']",
         "5",
         "21.77",
         "Debit Card",
         "Chicago",
         "Specialty Store",
         "False",
         "Young Adult",
         "Winter",
         "Discount on Selected Items"
        ],
        [
         "1000000008",
         "2021-04-05 06:32:18",
         "Kimberly Morgan",
         "['Insect Repellent']",
         "4",
         "55.25",
         "Mobile Payment",
         "Los Angeles",
         "Warehouse Club",
         "False",
         "Homemaker",
         "Fall",
         "None"
        ],
        [
         "1000000009",
         "2021-07-08 10:08:59",
         "Lori Conway",
         "['Soap', 'Baby Wipes', 'Soda']",
         "7",
         "31.21",
         "Mobile Payment",
         "Boston",
         "Convenience Store",
         "True",
         "Young Adult",
         "Winter",
         "None"
        ]
       ],
       "datasetInfos": [],
       "dbfsResultPath": null,
       "isJsonSchema": true,
       "metadata": {},
       "overflow": false,
       "plotOptions": {
        "customPlotOptions": {},
        "displayType": "table",
        "pivotAggregation": null,
        "pivotColumns": null,
        "xColumns": null,
        "yColumns": null
       },
       "removedWidgets": [],
       "schema": [
        {
         "metadata": "{}",
         "name": "Transaction_ID",
         "type": "\"string\""
        },
        {
         "metadata": "{}",
         "name": "Date",
         "type": "\"string\""
        },
        {
         "metadata": "{}",
         "name": "Customer_Name",
         "type": "\"string\""
        },
        {
         "metadata": "{}",
         "name": "Product",
         "type": "\"string\""
        },
        {
         "metadata": "{}",
         "name": "Total_Items",
         "type": "\"string\""
        },
        {
         "metadata": "{}",
         "name": "Total_Cost",
         "type": "\"string\""
        },
        {
         "metadata": "{}",
         "name": "Payment_Method",
         "type": "\"string\""
        },
        {
         "metadata": "{}",
         "name": "City",
         "type": "\"string\""
        },
        {
         "metadata": "{}",
         "name": "Store_Type",
         "type": "\"string\""
        },
        {
         "metadata": "{}",
         "name": "Discount_Applied",
         "type": "\"string\""
        },
        {
         "metadata": "{}",
         "name": "Customer_Category",
         "type": "\"string\""
        },
        {
         "metadata": "{}",
         "name": "Season",
         "type": "\"string\""
        },
        {
         "metadata": "{}",
         "name": "Promotion",
         "type": "\"string\""
        }
       ],
       "type": "table"
      }
     },
     "output_type": "display_data"
    }
   ],
   "source": [
    "# STEP 1 (REVISED): RAW INGESTION FROM UNITY CATALOG VOLUME → BRONZE TABLE (no cleaning)\n",
    "\n",
    "from pyspark.sql import functions as F\n",
    "\n",
    "# ==== ⬇️ FILL THESE IN WITH YOUR EXACT UC NAMES AND FILE NAME ====\n",
    "CATALOG = \"retail_demand_catalog\"     # e.g., retail_demand_catalogue\n",
    "SCHEMA  = \"retail_demand_schema\"        # e.g., retail_demand_schema  (check spelling)\n",
    "VOLUME  = \"retail_demand_volume\"       # e.g., retail_demand_volume  (check spelling)\n",
    "FILE    = \"Retail_Transactions_Dataset.csv\"            # e.g., the actual CSV file name in the volume\n",
    "# =================================================================\n",
    "\n",
    "SOURCE_PATH = f\"/Volumes/{CATALOG}/{SCHEMA}/{VOLUME}/{FILE}\"\n",
    "BRONZE_TABLE = f\"{CATALOG}.{SCHEMA}.transactions_bronze\"\n",
    "\n",
    "# Use the correct catalog & schema\n",
    "spark.sql(f\"USE CATALOG {CATALOG}\")\n",
    "spark.sql(f\"USE {SCHEMA}\")\n",
    "\n",
    "# Read CSV as raw strings, preserve complex fields like Product lists and commas\n",
    "df_raw = (\n",
    "    spark.read\n",
    "         .option(\"header\", \"true\")\n",
    "         .option(\"inferSchema\", \"false\")\n",
    "         .option(\"multiLine\", \"true\")\n",
    "         .option(\"quote\", \"\\\"\")\n",
    "         .option(\"escape\", \"\\\"\")\n",
    "         .option(\"mode\", \"PERMISSIVE\")\n",
    "         .csv(SOURCE_PATH)\n",
    ")\n",
    "\n",
    "# Standardize column names: trim + replace spaces with underscores\n",
    "std_cols = [c.strip().replace(\" \", \"_\") for c in df_raw.columns]\n",
    "df = df_raw.toDF(*std_cols)\n",
    "\n",
    "# Force all columns to string to preserve raw text\n",
    "for c in df.columns:\n",
    "    df = df.withColumn(c, F.col(c).cast(\"string\"))\n",
    "\n",
    "# Write a managed Delta BRONZE table in UC (idempotent overwrite for dev)\n",
    "(df.write\n",
    "   .format(\"delta\")\n",
    "   .mode(\"overwrite\")\n",
    "   .option(\"overwriteSchema\", \"true\")\n",
    "   .saveAsTable(BRONZE_TABLE)\n",
    ")\n",
    "\n",
    "print(\"Bronze table created:\", BRONZE_TABLE)\n",
    "display(spark.table(BRONZE_TABLE).limit(10))\n"
   ]
  },
  {
   "cell_type": "code",
   "execution_count": 0,
   "metadata": {
    "application/vnd.databricks.v1+cell": {
     "cellMetadata": {
      "byteLimit": 2048000,
      "rowLimit": 10000
     },
     "inputWidgets": {},
     "nuid": "f91d026d-85c5-4a9f-b366-df66f33fc58a",
     "showTitle": false,
     "tableResultSettingsMap": {},
     "title": ""
    }
   },
   "outputs": [
    {
     "output_type": "stream",
     "name": "stdout",
     "output_type": "stream",
     "text": [
      "Silver table created: retail_demand_catalog.retail_demand_schema.transactions_silver\n"
     ]
    },
    {
     "output_type": "display_data",
     "data": {
      "text/html": [
       "<style scoped>\n",
       "  .table-result-container {\n",
       "    max-height: 300px;\n",
       "    overflow: auto;\n",
       "  }\n",
       "  table, th, td {\n",
       "    border: 1px solid black;\n",
       "    border-collapse: collapse;\n",
       "  }\n",
       "  th, td {\n",
       "    padding: 5px;\n",
       "  }\n",
       "  th {\n",
       "    text-align: left;\n",
       "  }\n",
       "</style><div class='table-result-container'><table class='table-result'><thead style='background-color: white'><tr><th>Transaction_ID</th><th>Product</th><th>Product_Array</th><th>Total_Items</th><th>Total_Items_Calculated</th></tr></thead><tbody><tr><td>1000000000</td><td>['Ketchup', 'Shaving Cream', 'Light Bulbs']</td><td>List(Ketchup, Shaving Cream, Light Bulbs)</td><td>3</td><td>3</td></tr><tr><td>1000000001</td><td>['Ice Cream', 'Milk', 'Olive Oil', 'Bread', 'Potatoes']</td><td>List(Ice Cream, Milk, Olive Oil, Bread, Potatoes)</td><td>2</td><td>5</td></tr><tr><td>1000000002</td><td>['Spinach']</td><td>List(Spinach)</td><td>6</td><td>1</td></tr><tr><td>1000000003</td><td>['Tissues', 'Mustard']</td><td>List(Tissues, Mustard)</td><td>1</td><td>2</td></tr><tr><td>1000000004</td><td>['Dish Soap']</td><td>List(Dish Soap)</td><td>10</td><td>1</td></tr><tr><td>1000000005</td><td>['Toothpaste', 'Chicken']</td><td>List(Toothpaste, Chicken)</td><td>3</td><td>2</td></tr><tr><td>1000000006</td><td>['Honey', 'BBQ Sauce', 'Soda', 'Olive Oil', 'Garden Hose']</td><td>List(Honey, BBQ Sauce, Soda, Olive Oil, Garden Hose)</td><td>4</td><td>5</td></tr><tr><td>1000000007</td><td>['Syrup', 'Trash Cans', 'Pancake Mix', 'Water', 'Mayonnaise']</td><td>List(Syrup, Trash Cans, Pancake Mix, Water, Mayonnaise)</td><td>5</td><td>5</td></tr><tr><td>1000000008</td><td>['Insect Repellent']</td><td>List(Insect Repellent)</td><td>4</td><td>1</td></tr><tr><td>1000000009</td><td>['Soap', 'Baby Wipes', 'Soda']</td><td>List(Soap, Baby Wipes, Soda)</td><td>7</td><td>3</td></tr><tr><td>1000000010</td><td>['Extension Cords', 'Soda', 'Water', 'Garden Hose', 'Cleaning Spray']</td><td>List(Extension Cords, Soda, Water, Garden Hose, Cleaning Spray)</td><td>8</td><td>5</td></tr><tr><td>1000000011</td><td>['Tea', 'Paper Towels', 'Spinach']</td><td>List(Tea, Paper Towels, Spinach)</td><td>7</td><td>3</td></tr><tr><td>1000000012</td><td>['Salmon', 'Shaving Cream']</td><td>List(Salmon, Shaving Cream)</td><td>9</td><td>2</td></tr><tr><td>1000000013</td><td>['Trash Bags', 'Apple', 'Mop', 'Hair Gel']</td><td>List(Trash Bags, Apple, Mop, Hair Gel)</td><td>7</td><td>4</td></tr><tr><td>1000000014</td><td>['Razors', 'Laundry Detergent', 'Beef']</td><td>List(Razors, Laundry Detergent, Beef)</td><td>1</td><td>3</td></tr><tr><td>1000000015</td><td>['Cereal', 'Vinegar', 'Bath Towels']</td><td>List(Cereal, Vinegar, Bath Towels)</td><td>7</td><td>3</td></tr><tr><td>1000000016</td><td>['Air Freshener', 'Feminine Hygiene Products']</td><td>List(Air Freshener, Feminine Hygiene Products)</td><td>5</td><td>2</td></tr><tr><td>1000000017</td><td>['Power Strips', 'Honey', 'Ketchup', 'Tea', 'Shampoo']</td><td>List(Power Strips, Honey, Ketchup, Tea, Shampoo)</td><td>8</td><td>5</td></tr><tr><td>1000000018</td><td>['Mustard', 'Dustpan']</td><td>List(Mustard, Dustpan)</td><td>3</td><td>2</td></tr><tr><td>1000000019</td><td>['Coffee']</td><td>List(Coffee)</td><td>7</td><td>1</td></tr></tbody></table></div>"
      ]
     },
     "metadata": {
      "application/vnd.databricks.v1+output": {
       "addedWidgets": {},
       "aggData": [],
       "aggError": "",
       "aggOverflow": false,
       "aggSchema": [],
       "aggSeriesLimitReached": false,
       "aggType": "",
       "arguments": {},
       "columnCustomDisplayInfos": {},
       "data": [
        [
         "1000000000",
         "['Ketchup', 'Shaving Cream', 'Light Bulbs']",
         [
          "Ketchup",
          "Shaving Cream",
          "Light Bulbs"
         ],
         "3",
         3
        ],
        [
         "1000000001",
         "['Ice Cream', 'Milk', 'Olive Oil', 'Bread', 'Potatoes']",
         [
          "Ice Cream",
          "Milk",
          "Olive Oil",
          "Bread",
          "Potatoes"
         ],
         "2",
         5
        ],
        [
         "1000000002",
         "['Spinach']",
         [
          "Spinach"
         ],
         "6",
         1
        ],
        [
         "1000000003",
         "['Tissues', 'Mustard']",
         [
          "Tissues",
          "Mustard"
         ],
         "1",
         2
        ],
        [
         "1000000004",
         "['Dish Soap']",
         [
          "Dish Soap"
         ],
         "10",
         1
        ],
        [
         "1000000005",
         "['Toothpaste', 'Chicken']",
         [
          "Toothpaste",
          "Chicken"
         ],
         "3",
         2
        ],
        [
         "1000000006",
         "['Honey', 'BBQ Sauce', 'Soda', 'Olive Oil', 'Garden Hose']",
         [
          "Honey",
          "BBQ Sauce",
          "Soda",
          "Olive Oil",
          "Garden Hose"
         ],
         "4",
         5
        ],
        [
         "1000000007",
         "['Syrup', 'Trash Cans', 'Pancake Mix', 'Water', 'Mayonnaise']",
         [
          "Syrup",
          "Trash Cans",
          "Pancake Mix",
          "Water",
          "Mayonnaise"
         ],
         "5",
         5
        ],
        [
         "1000000008",
         "['Insect Repellent']",
         [
          "Insect Repellent"
         ],
         "4",
         1
        ],
        [
         "1000000009",
         "['Soap', 'Baby Wipes', 'Soda']",
         [
          "Soap",
          "Baby Wipes",
          "Soda"
         ],
         "7",
         3
        ],
        [
         "1000000010",
         "['Extension Cords', 'Soda', 'Water', 'Garden Hose', 'Cleaning Spray']",
         [
          "Extension Cords",
          "Soda",
          "Water",
          "Garden Hose",
          "Cleaning Spray"
         ],
         "8",
         5
        ],
        [
         "1000000011",
         "['Tea', 'Paper Towels', 'Spinach']",
         [
          "Tea",
          "Paper Towels",
          "Spinach"
         ],
         "7",
         3
        ],
        [
         "1000000012",
         "['Salmon', 'Shaving Cream']",
         [
          "Salmon",
          "Shaving Cream"
         ],
         "9",
         2
        ],
        [
         "1000000013",
         "['Trash Bags', 'Apple', 'Mop', 'Hair Gel']",
         [
          "Trash Bags",
          "Apple",
          "Mop",
          "Hair Gel"
         ],
         "7",
         4
        ],
        [
         "1000000014",
         "['Razors', 'Laundry Detergent', 'Beef']",
         [
          "Razors",
          "Laundry Detergent",
          "Beef"
         ],
         "1",
         3
        ],
        [
         "1000000015",
         "['Cereal', 'Vinegar', 'Bath Towels']",
         [
          "Cereal",
          "Vinegar",
          "Bath Towels"
         ],
         "7",
         3
        ],
        [
         "1000000016",
         "['Air Freshener', 'Feminine Hygiene Products']",
         [
          "Air Freshener",
          "Feminine Hygiene Products"
         ],
         "5",
         2
        ],
        [
         "1000000017",
         "['Power Strips', 'Honey', 'Ketchup', 'Tea', 'Shampoo']",
         [
          "Power Strips",
          "Honey",
          "Ketchup",
          "Tea",
          "Shampoo"
         ],
         "8",
         5
        ],
        [
         "1000000018",
         "['Mustard', 'Dustpan']",
         [
          "Mustard",
          "Dustpan"
         ],
         "3",
         2
        ],
        [
         "1000000019",
         "['Coffee']",
         [
          "Coffee"
         ],
         "7",
         1
        ]
       ],
       "datasetInfos": [],
       "dbfsResultPath": null,
       "isJsonSchema": true,
       "metadata": {},
       "overflow": false,
       "plotOptions": {
        "customPlotOptions": {},
        "displayType": "table",
        "pivotAggregation": null,
        "pivotColumns": null,
        "xColumns": null,
        "yColumns": null
       },
       "removedWidgets": [],
       "schema": [
        {
         "metadata": "{}",
         "name": "Transaction_ID",
         "type": "\"string\""
        },
        {
         "metadata": "{}",
         "name": "Product",
         "type": "\"string\""
        },
        {
         "metadata": "{}",
         "name": "Product_Array",
         "type": "{\"containsNull\":true,\"elementType\":\"string\",\"type\":\"array\"}"
        },
        {
         "metadata": "{}",
         "name": "Total_Items",
         "type": "\"string\""
        },
        {
         "metadata": "{}",
         "name": "Total_Items_Calculated",
         "type": "\"integer\""
        }
       ],
       "type": "table"
      }
     },
     "output_type": "display_data"
    }
   ],
   "source": [
    "# STEP 2: BRONZE → SILVER\n",
    "# - Parse Product string into array<string> as Product_Array\n",
    "# - Recalculate Total_Items as Total_Items_Calculated (size(Product_Array))\n",
    "\n",
    "from pyspark.sql import functions as F\n",
    "\n",
    "CATALOG = \"retail_demand_catalog\"\n",
    "SCHEMA  = \"retail_demand_schema\"  \n",
    "BRONZE  = f\"{CATALOG}.{SCHEMA}.transactions_bronze\"\n",
    "SILVER  = f\"{CATALOG}.{SCHEMA}.transactions_silver\"\n",
    "\n",
    "spark.sql(f\"USE CATALOG {CATALOG}\")\n",
    "spark.sql(f\"USE {SCHEMA}\")\n",
    "\n",
    "dfb = spark.table(BRONZE)\n",
    "\n",
    "# Clean and parse the Product column which looks like: \"['Item A', 'Item B']\"\n",
    "# Steps (inline): strip brackets, remove quotes, split by comma, trim whitespace.\n",
    "# Handle NULL/empty/[] gracefully to produce an empty array.\n",
    "prod_str = F.coalesce(F.col(\"Product\"), F.lit(\"\"))\n",
    "no_brackets = F.regexp_replace(prod_str, r\"^\\s*\\[|\\]\\s*$\", \"\")           # remove leading '[' and trailing ']'\n",
    "no_quotes   = F.regexp_replace(no_brackets, r\"['\\\"]\", \"\")                # remove both single/double quotes\n",
    "trimmed     = F.trim(no_quotes)\n",
    "\n",
    "empty_array = F.expr(\"CAST(array() AS array<string>)\")\n",
    "product_array = F.when(F.length(trimmed) == 0, empty_array) \\\n",
    "                 .otherwise(F.transform(F.split(trimmed, r\"\\s*,\\s*\"), lambda x: F.trim(x)))\n",
    "\n",
    "dfs = (\n",
    "    dfb\n",
    "    .withColumn(\"Product_Array\", product_array)\n",
    "    .withColumn(\"Total_Items_Calculated\", F.size(F.col(\"Product_Array\")))\n",
    ")\n",
    "\n",
    "# Persist SILVER table (managed Delta)\n",
    "(dfs.write\n",
    "    .format(\"delta\")\n",
    "    .mode(\"overwrite\")\n",
    "    .option(\"overwriteSchema\", \"true\")\n",
    "    .saveAsTable(SILVER)\n",
    ")\n",
    "\n",
    "print(\"Silver table created:\", SILVER)\n",
    "\n",
    "# Quick validation preview (helps you see mismatches for debugging)\n",
    "display(\n",
    "    spark.table(SILVER)\n",
    "         .select(\"Transaction_ID\",\"Product\",\"Product_Array\",\"Total_Items\",\"Total_Items_Calculated\")\n",
    "         .limit(20)\n",
    ")\n"
   ]
  },
  {
   "cell_type": "code",
   "execution_count": 0,
   "metadata": {
    "application/vnd.databricks.v1+cell": {
     "cellMetadata": {
      "byteLimit": 2048000,
      "rowLimit": 10000
     },
     "inputWidgets": {},
     "nuid": "176c9a68-6aba-4a64-8a14-4040fb8db077",
     "showTitle": false,
     "tableResultSettingsMap": {},
     "title": ""
    }
   },
   "outputs": [
    {
     "output_type": "stream",
     "name": "stdout",
     "output_type": "stream",
     "text": [
      "Updated Silver table with robust season normalization: retail_demand_catalog.retail_demand_schema.transactions_silver\n"
     ]
    },
    {
     "output_type": "display_data",
     "data": {
      "text/html": [
       "<style scoped>\n",
       "  .table-result-container {\n",
       "    max-height: 300px;\n",
       "    overflow: auto;\n",
       "  }\n",
       "  table, th, td {\n",
       "    border: 1px solid black;\n",
       "    border-collapse: collapse;\n",
       "  }\n",
       "  th, td {\n",
       "    padding: 5px;\n",
       "  }\n",
       "  th {\n",
       "    text-align: left;\n",
       "  }\n",
       "</style><div class='table-result-container'><table class='table-result'><thead style='background-color: white'><tr><th>Season_Source</th><th>count</th></tr></thead><tbody><tr><td>corrected_from_date</td><td>750358</td></tr><tr><td>original</td><td>249642</td></tr></tbody></table></div>"
      ]
     },
     "metadata": {
      "application/vnd.databricks.v1+output": {
       "addedWidgets": {},
       "aggData": [],
       "aggError": "",
       "aggOverflow": false,
       "aggSchema": [],
       "aggSeriesLimitReached": false,
       "aggType": "",
       "arguments": {},
       "columnCustomDisplayInfos": {},
       "data": [
        [
         "corrected_from_date",
         750358
        ],
        [
         "original",
         249642
        ]
       ],
       "datasetInfos": [],
       "dbfsResultPath": null,
       "isJsonSchema": true,
       "metadata": {},
       "overflow": false,
       "plotOptions": {
        "customPlotOptions": {},
        "displayType": "table",
        "pivotAggregation": null,
        "pivotColumns": null,
        "xColumns": null,
        "yColumns": null
       },
       "removedWidgets": [],
       "schema": [
        {
         "metadata": "{}",
         "name": "Season_Source",
         "type": "\"string\""
        },
        {
         "metadata": "{}",
         "name": "count",
         "type": "\"long\""
        }
       ],
       "type": "table"
      }
     },
     "output_type": "display_data"
    },
    {
     "output_type": "display_data",
     "data": {
      "text/html": [
       "<style scoped>\n",
       "  .table-result-container {\n",
       "    max-height: 300px;\n",
       "    overflow: auto;\n",
       "  }\n",
       "  table, th, td {\n",
       "    border: 1px solid black;\n",
       "    border-collapse: collapse;\n",
       "  }\n",
       "  th, td {\n",
       "    padding: 5px;\n",
       "  }\n",
       "  th {\n",
       "    text-align: left;\n",
       "  }\n",
       "</style><div class='table-result-container'><table class='table-result'><thead style='background-color: white'><tr><th>Transaction_ID</th><th>Date</th><th>Season</th><th>Season_Standardized</th><th>Season_Derived</th><th>Season_Normalized</th><th>Season_Source</th></tr></thead><tbody><tr><td>1000000001</td><td>2023-03-01 13:01:21</td><td>Fall</td><td>Fall</td><td>Spring</td><td>Spring</td><td>corrected_from_date</td></tr><tr><td>1000000002</td><td>2024-03-21 15:37:04</td><td>Winter</td><td>Winter</td><td>Spring</td><td>Spring</td><td>corrected_from_date</td></tr><tr><td>1000000003</td><td>2020-10-31 09:59:47</td><td>Spring</td><td>Spring</td><td>Fall</td><td>Fall</td><td>corrected_from_date</td></tr><tr><td>1000000005</td><td>2021-10-07 12:37:26</td><td>Spring</td><td>Spring</td><td>Fall</td><td>Fall</td><td>corrected_from_date</td></tr><tr><td>1000000006</td><td>2023-01-08 10:40:03</td><td>Summer</td><td>Summer</td><td>Winter</td><td>Winter</td><td>corrected_from_date</td></tr><tr><td>1000000007</td><td>2020-09-03 12:39:59</td><td>Winter</td><td>Winter</td><td>Fall</td><td>Fall</td><td>corrected_from_date</td></tr><tr><td>1000000008</td><td>2021-04-05 06:32:18</td><td>Fall</td><td>Fall</td><td>Spring</td><td>Spring</td><td>corrected_from_date</td></tr><tr><td>1000000009</td><td>2021-07-08 10:08:59</td><td>Winter</td><td>Winter</td><td>Summer</td><td>Summer</td><td>corrected_from_date</td></tr><tr><td>1000000010</td><td>2020-03-18 18:58:18</td><td>Fall</td><td>Fall</td><td>Spring</td><td>Spring</td><td>corrected_from_date</td></tr><tr><td>1000000011</td><td>2023-03-30 19:26:41</td><td>Fall</td><td>Fall</td><td>Spring</td><td>Spring</td><td>corrected_from_date</td></tr><tr><td>1000000012</td><td>2023-05-27 15:52:59</td><td>Summer</td><td>Summer</td><td>Spring</td><td>Spring</td><td>corrected_from_date</td></tr><tr><td>1000000013</td><td>2023-04-02 09:24:11</td><td>Winter</td><td>Winter</td><td>Spring</td><td>Spring</td><td>corrected_from_date</td></tr><tr><td>1000000016</td><td>2021-10-15 13:24:31</td><td>Spring</td><td>Spring</td><td>Fall</td><td>Fall</td><td>corrected_from_date</td></tr><tr><td>1000000018</td><td>2022-07-18 11:33:28</td><td>Fall</td><td>Fall</td><td>Summer</td><td>Summer</td><td>corrected_from_date</td></tr><tr><td>1000000020</td><td>2021-10-31 07:46:22</td><td>Winter</td><td>Winter</td><td>Fall</td><td>Fall</td><td>corrected_from_date</td></tr><tr><td>1000000021</td><td>2022-12-30 20:03:19</td><td>Summer</td><td>Summer</td><td>Winter</td><td>Winter</td><td>corrected_from_date</td></tr><tr><td>1000000022</td><td>2021-06-08 10:28:59</td><td>Spring</td><td>Spring</td><td>Summer</td><td>Summer</td><td>corrected_from_date</td></tr><tr><td>1000000023</td><td>2020-01-03 23:24:18</td><td>Spring</td><td>Spring</td><td>Winter</td><td>Winter</td><td>corrected_from_date</td></tr><tr><td>1000000025</td><td>2020-02-14 13:19:10</td><td>Fall</td><td>Fall</td><td>Winter</td><td>Winter</td><td>corrected_from_date</td></tr><tr><td>1000000026</td><td>2020-09-21 10:34:40</td><td>Winter</td><td>Winter</td><td>Fall</td><td>Fall</td><td>corrected_from_date</td></tr><tr><td>1000000028</td><td>2022-08-13 01:26:19</td><td>Fall</td><td>Fall</td><td>Summer</td><td>Summer</td><td>corrected_from_date</td></tr><tr><td>1000000029</td><td>2020-02-27 10:23:56</td><td>Summer</td><td>Summer</td><td>Winter</td><td>Winter</td><td>corrected_from_date</td></tr><tr><td>1000000030</td><td>2023-01-08 22:59:24</td><td>Spring</td><td>Spring</td><td>Winter</td><td>Winter</td><td>corrected_from_date</td></tr><tr><td>1000000031</td><td>2024-05-04 13:22:31</td><td>Summer</td><td>Summer</td><td>Spring</td><td>Spring</td><td>corrected_from_date</td></tr><tr><td>1000000034</td><td>2023-02-07 14:09:36</td><td>Summer</td><td>Summer</td><td>Winter</td><td>Winter</td><td>corrected_from_date</td></tr><tr><td>1000000035</td><td>2022-10-12 11:57:51</td><td>Spring</td><td>Spring</td><td>Fall</td><td>Fall</td><td>corrected_from_date</td></tr><tr><td>1000000036</td><td>2020-10-16 09:05:18</td><td>Winter</td><td>Winter</td><td>Fall</td><td>Fall</td><td>corrected_from_date</td></tr><tr><td>1000000037</td><td>2020-05-31 05:35:31</td><td>Fall</td><td>Fall</td><td>Spring</td><td>Spring</td><td>corrected_from_date</td></tr><tr><td>1000000038</td><td>2020-07-11 22:15:24</td><td>Fall</td><td>Fall</td><td>Summer</td><td>Summer</td><td>corrected_from_date</td></tr><tr><td>1000000039</td><td>2023-07-11 11:36:26</td><td>Spring</td><td>Spring</td><td>Summer</td><td>Summer</td><td>corrected_from_date</td></tr></tbody></table></div>"
      ]
     },
     "metadata": {
      "application/vnd.databricks.v1+output": {
       "addedWidgets": {},
       "aggData": [],
       "aggError": "",
       "aggOverflow": false,
       "aggSchema": [],
       "aggSeriesLimitReached": false,
       "aggType": "",
       "arguments": {},
       "columnCustomDisplayInfos": {},
       "data": [
        [
         "1000000001",
         "2023-03-01 13:01:21",
         "Fall",
         "Fall",
         "Spring",
         "Spring",
         "corrected_from_date"
        ],
        [
         "1000000002",
         "2024-03-21 15:37:04",
         "Winter",
         "Winter",
         "Spring",
         "Spring",
         "corrected_from_date"
        ],
        [
         "1000000003",
         "2020-10-31 09:59:47",
         "Spring",
         "Spring",
         "Fall",
         "Fall",
         "corrected_from_date"
        ],
        [
         "1000000005",
         "2021-10-07 12:37:26",
         "Spring",
         "Spring",
         "Fall",
         "Fall",
         "corrected_from_date"
        ],
        [
         "1000000006",
         "2023-01-08 10:40:03",
         "Summer",
         "Summer",
         "Winter",
         "Winter",
         "corrected_from_date"
        ],
        [
         "1000000007",
         "2020-09-03 12:39:59",
         "Winter",
         "Winter",
         "Fall",
         "Fall",
         "corrected_from_date"
        ],
        [
         "1000000008",
         "2021-04-05 06:32:18",
         "Fall",
         "Fall",
         "Spring",
         "Spring",
         "corrected_from_date"
        ],
        [
         "1000000009",
         "2021-07-08 10:08:59",
         "Winter",
         "Winter",
         "Summer",
         "Summer",
         "corrected_from_date"
        ],
        [
         "1000000010",
         "2020-03-18 18:58:18",
         "Fall",
         "Fall",
         "Spring",
         "Spring",
         "corrected_from_date"
        ],
        [
         "1000000011",
         "2023-03-30 19:26:41",
         "Fall",
         "Fall",
         "Spring",
         "Spring",
         "corrected_from_date"
        ],
        [
         "1000000012",
         "2023-05-27 15:52:59",
         "Summer",
         "Summer",
         "Spring",
         "Spring",
         "corrected_from_date"
        ],
        [
         "1000000013",
         "2023-04-02 09:24:11",
         "Winter",
         "Winter",
         "Spring",
         "Spring",
         "corrected_from_date"
        ],
        [
         "1000000016",
         "2021-10-15 13:24:31",
         "Spring",
         "Spring",
         "Fall",
         "Fall",
         "corrected_from_date"
        ],
        [
         "1000000018",
         "2022-07-18 11:33:28",
         "Fall",
         "Fall",
         "Summer",
         "Summer",
         "corrected_from_date"
        ],
        [
         "1000000020",
         "2021-10-31 07:46:22",
         "Winter",
         "Winter",
         "Fall",
         "Fall",
         "corrected_from_date"
        ],
        [
         "1000000021",
         "2022-12-30 20:03:19",
         "Summer",
         "Summer",
         "Winter",
         "Winter",
         "corrected_from_date"
        ],
        [
         "1000000022",
         "2021-06-08 10:28:59",
         "Spring",
         "Spring",
         "Summer",
         "Summer",
         "corrected_from_date"
        ],
        [
         "1000000023",
         "2020-01-03 23:24:18",
         "Spring",
         "Spring",
         "Winter",
         "Winter",
         "corrected_from_date"
        ],
        [
         "1000000025",
         "2020-02-14 13:19:10",
         "Fall",
         "Fall",
         "Winter",
         "Winter",
         "corrected_from_date"
        ],
        [
         "1000000026",
         "2020-09-21 10:34:40",
         "Winter",
         "Winter",
         "Fall",
         "Fall",
         "corrected_from_date"
        ],
        [
         "1000000028",
         "2022-08-13 01:26:19",
         "Fall",
         "Fall",
         "Summer",
         "Summer",
         "corrected_from_date"
        ],
        [
         "1000000029",
         "2020-02-27 10:23:56",
         "Summer",
         "Summer",
         "Winter",
         "Winter",
         "corrected_from_date"
        ],
        [
         "1000000030",
         "2023-01-08 22:59:24",
         "Spring",
         "Spring",
         "Winter",
         "Winter",
         "corrected_from_date"
        ],
        [
         "1000000031",
         "2024-05-04 13:22:31",
         "Summer",
         "Summer",
         "Spring",
         "Spring",
         "corrected_from_date"
        ],
        [
         "1000000034",
         "2023-02-07 14:09:36",
         "Summer",
         "Summer",
         "Winter",
         "Winter",
         "corrected_from_date"
        ],
        [
         "1000000035",
         "2022-10-12 11:57:51",
         "Spring",
         "Spring",
         "Fall",
         "Fall",
         "corrected_from_date"
        ],
        [
         "1000000036",
         "2020-10-16 09:05:18",
         "Winter",
         "Winter",
         "Fall",
         "Fall",
         "corrected_from_date"
        ],
        [
         "1000000037",
         "2020-05-31 05:35:31",
         "Fall",
         "Fall",
         "Spring",
         "Spring",
         "corrected_from_date"
        ],
        [
         "1000000038",
         "2020-07-11 22:15:24",
         "Fall",
         "Fall",
         "Summer",
         "Summer",
         "corrected_from_date"
        ],
        [
         "1000000039",
         "2023-07-11 11:36:26",
         "Spring",
         "Spring",
         "Summer",
         "Summer",
         "corrected_from_date"
        ]
       ],
       "datasetInfos": [],
       "dbfsResultPath": null,
       "isJsonSchema": true,
       "metadata": {},
       "overflow": false,
       "plotOptions": {
        "customPlotOptions": {},
        "displayType": "table",
        "pivotAggregation": null,
        "pivotColumns": null,
        "xColumns": null,
        "yColumns": null
       },
       "removedWidgets": [],
       "schema": [
        {
         "metadata": "{}",
         "name": "Transaction_ID",
         "type": "\"string\""
        },
        {
         "metadata": "{}",
         "name": "Date",
         "type": "\"string\""
        },
        {
         "metadata": "{}",
         "name": "Season",
         "type": "\"string\""
        },
        {
         "metadata": "{}",
         "name": "Season_Standardized",
         "type": "\"string\""
        },
        {
         "metadata": "{}",
         "name": "Season_Derived",
         "type": "\"string\""
        },
        {
         "metadata": "{}",
         "name": "Season_Normalized",
         "type": "\"string\""
        },
        {
         "metadata": "{}",
         "name": "Season_Source",
         "type": "\"string\""
        }
       ],
       "type": "table"
      }
     },
     "output_type": "display_data"
    },
    {
     "output_type": "display_data",
     "data": {
      "text/html": [
       "<style scoped>\n",
       "  .table-result-container {\n",
       "    max-height: 300px;\n",
       "    overflow: auto;\n",
       "  }\n",
       "  table, th, td {\n",
       "    border: 1px solid black;\n",
       "    border-collapse: collapse;\n",
       "  }\n",
       "  th, td {\n",
       "    padding: 5px;\n",
       "  }\n",
       "  th {\n",
       "    text-align: left;\n",
       "  }\n",
       "</style><div class='table-result-container'><table class='table-result'><thead style='background-color: white'><tr><th>Transaction_ID</th><th>Date</th><th>Season</th><th>City</th><th>Store_Type</th></tr></thead><tbody></tbody></table></div>"
      ]
     },
     "metadata": {
      "application/vnd.databricks.v1+output": {
       "addedWidgets": {},
       "aggData": [],
       "aggError": "",
       "aggOverflow": false,
       "aggSchema": [],
       "aggSeriesLimitReached": false,
       "aggType": "",
       "arguments": {},
       "columnCustomDisplayInfos": {},
       "data": [],
       "datasetInfos": [],
       "dbfsResultPath": null,
       "isJsonSchema": true,
       "metadata": {},
       "overflow": false,
       "plotOptions": {
        "customPlotOptions": {},
        "displayType": "table",
        "pivotAggregation": null,
        "pivotColumns": null,
        "xColumns": null,
        "yColumns": null
       },
       "removedWidgets": [],
       "schema": [
        {
         "metadata": "{}",
         "name": "Transaction_ID",
         "type": "\"string\""
        },
        {
         "metadata": "{}",
         "name": "Date",
         "type": "\"string\""
        },
        {
         "metadata": "{}",
         "name": "Season",
         "type": "\"string\""
        },
        {
         "metadata": "{}",
         "name": "City",
         "type": "\"string\""
        },
        {
         "metadata": "{}",
         "name": "Store_Type",
         "type": "\"string\""
        }
       ],
       "type": "table"
      }
     },
     "output_type": "display_data"
    }
   ],
   "source": [
    "# STEP 3 (REVISED): Normalize Season from Date using try_to_timestamp (tolerant & supports seconds)\n",
    "\n",
    "from pyspark.sql import functions as F\n",
    "\n",
    "CATALOG = \"retail_demand_catalog\"\n",
    "SCHEMA  = \"retail_demand_schema\"   # ensure spelling matches your environment\n",
    "SILVER  = f\"{CATALOG}.{SCHEMA}.transactions_silver\"\n",
    "\n",
    "spark.sql(f\"USE CATALOG {CATALOG}\")\n",
    "spark.sql(f\"USE {SCHEMA}\")\n",
    "\n",
    "df = spark.table(SILVER)\n",
    "\n",
    "# 1) Robust timestamp parsing with multiple patterns (with and without seconds)\n",
    "patterns = [\n",
    "    \"yyyy-MM-dd HH:mm:ss\", \"yyyy-MM-dd HH:mm\",\n",
    "    \"dd-MM-yyyy HH:mm:ss\", \"dd-MM-yyyy HH:mm\",\n",
    "    \"MM-dd-yyyy HH:mm:ss\", \"MM-dd-yyyy HH:mm\",\n",
    "    \"MM/dd/yyyy HH:mm:ss\", \"MM/dd/yyyy HH:mm\",\n",
    "    \"dd/MM/yyyy HH:mm:ss\", \"dd/MM/yyyy HH:mm\",\n",
    "    \"yyyy/MM/dd HH:mm:ss\", \"yyyy/MM/dd HH:mm\"\n",
    "]\n",
    "\n",
    "parsed_candidates = [F.expr(f\"try_to_timestamp(Date, '{p}')\") for p in patterns]\n",
    "parsed_ts = F.coalesce(*parsed_candidates)\n",
    "\n",
    "df = (\n",
    "    df.withColumn(\"Event_Timestamp\", parsed_ts)\n",
    "      .withColumn(\"Event_Date\", F.to_date(F.col(\"Event_Timestamp\")))\n",
    ")\n",
    "\n",
    "# 2) Standardize original Season text\n",
    "season_raw = F.trim(F.lower(F.coalesce(F.col(\"Season\"), F.lit(\"\"))))\n",
    "season_std = (\n",
    "    F.when(season_raw.rlike(r\"^$|^none$|^na$|^n/a$|^unknown$\"), F.lit(None).cast(\"string\"))\n",
    "     .when(season_raw.rlike(r\"^win\"), F.lit(\"Winter\"))\n",
    "     .when(season_raw.rlike(r\"^spr\"), F.lit(\"Spring\"))\n",
    "     .when(season_raw.rlike(r\"^sum\"), F.lit(\"Summer\"))\n",
    "     .when(season_raw.rlike(r\"^fal|^aut\"), F.lit(\"Fall\"))   # map Autumn → Fall\n",
    "     .otherwise(F.lit(None).cast(\"string\"))\n",
    ")\n",
    "\n",
    "# 3) Derive season from month (Northern Hemisphere)\n",
    "m = F.month(F.col(\"Event_Timestamp\"))\n",
    "season_derived = (\n",
    "    F.when(m.isNull(), F.lit(None).cast(\"string\"))\n",
    "     .when(m.isin(12, 1, 2), F.lit(\"Winter\"))\n",
    "     .when(m.isin(3, 4, 5), F.lit(\"Spring\"))\n",
    "     .when(m.isin(6, 7, 8), F.lit(\"Summer\"))\n",
    "     .otherwise(F.lit(\"Fall\"))\n",
    ")\n",
    "\n",
    "# 4) Choose normalized season + provenance\n",
    "season_normalized = (\n",
    "    F.when(F.col(\"Event_Timestamp\").isNotNull(),\n",
    "           F.when(season_std.eqNullSafe(season_derived), season_std).otherwise(season_derived))\n",
    "     .otherwise(season_std)\n",
    ")\n",
    "\n",
    "season_source = (\n",
    "    F.when(F.col(\"Event_Timestamp\").isNull() & season_std.isNotNull(), F.lit(\"original_date_missing\"))\n",
    "     .when(F.col(\"Event_Timestamp\").isNull() & season_std.isNull(), F.lit(\"unknown\"))\n",
    "     .when(season_std.eqNullSafe(season_derived), F.lit(\"original\"))\n",
    "     .otherwise(F.lit(\"corrected_from_date\"))\n",
    ")\n",
    "\n",
    "df_out = (\n",
    "    df.withColumn(\"Season_Standardized\", season_std)\n",
    "      .withColumn(\"Season_Derived\", season_derived)\n",
    "      .withColumn(\"Season_Normalized\", season_normalized)\n",
    "      .withColumn(\"Season_Source\", season_source)\n",
    ")\n",
    "\n",
    "# 5) Persist back to the same Silver table\n",
    "(df_out.write\n",
    "      .format(\"delta\")\n",
    "      .mode(\"overwrite\")\n",
    "      .option(\"overwriteSchema\", \"true\")\n",
    "      .saveAsTable(SILVER)\n",
    ")\n",
    "\n",
    "print(\"Updated Silver table with robust season normalization:\", SILVER)\n",
    "\n",
    "# 6) Quick validation\n",
    "display(\n",
    "    spark.table(SILVER)\n",
    "         .groupBy(\"Season_Source\")\n",
    "         .count()\n",
    "         .orderBy(F.desc(\"count\"))\n",
    ")\n",
    "\n",
    "display(\n",
    "    spark.table(SILVER)\n",
    "         .select(\"Transaction_ID\", \"Date\", \"Season\", \"Season_Standardized\",\n",
    "                 \"Season_Derived\", \"Season_Normalized\", \"Season_Source\")\n",
    "         .where(F.col(\"Season_Source\").isin(\"corrected_from_date\", \"original_date_missing\"))\n",
    "         .limit(30)\n",
    ")\n",
    "\n",
    "display(\n",
    "    spark.table(SILVER)\n",
    "         .filter(F.col(\"Event_Timestamp\").isNull())\n",
    "         .select(\"Transaction_ID\", \"Date\", \"Season\", \"City\", \"Store_Type\")\n",
    "         .limit(30)\n",
    ")\n"
   ]
  },
  {
   "cell_type": "code",
   "execution_count": 0,
   "metadata": {
    "application/vnd.databricks.v1+cell": {
     "cellMetadata": {
      "byteLimit": 2048000,
      "rowLimit": 10000
     },
     "inputWidgets": {},
     "nuid": "720b82bc-1292-4916-a483-435d67de3ef6",
     "showTitle": false,
     "tableResultSettingsMap": {},
     "title": ""
    }
   },
   "outputs": [
    {
     "output_type": "stream",
     "name": "stdout",
     "output_type": "stream",
     "text": [
      "Silver table updated: Total_Items now computed from Product_Array\n"
     ]
    },
    {
     "output_type": "display_data",
     "data": {
      "text/html": [
       "<style scoped>\n",
       "  .table-result-container {\n",
       "    max-height: 300px;\n",
       "    overflow: auto;\n",
       "  }\n",
       "  table, th, td {\n",
       "    border: 1px solid black;\n",
       "    border-collapse: collapse;\n",
       "  }\n",
       "  th, td {\n",
       "    padding: 5px;\n",
       "  }\n",
       "  th {\n",
       "    text-align: left;\n",
       "  }\n",
       "</style><div class='table-result-container'><table class='table-result'><thead style='background-color: white'><tr><th>Transaction_ID</th><th>Product_Array</th><th>Total_Items</th></tr></thead><tbody><tr><td>1000000000</td><td>List(Ketchup, Shaving Cream, Light Bulbs)</td><td>3</td></tr><tr><td>1000000001</td><td>List(Ice Cream, Milk, Olive Oil, Bread, Potatoes)</td><td>5</td></tr><tr><td>1000000002</td><td>List(Spinach)</td><td>1</td></tr><tr><td>1000000003</td><td>List(Tissues, Mustard)</td><td>2</td></tr><tr><td>1000000004</td><td>List(Dish Soap)</td><td>1</td></tr><tr><td>1000000005</td><td>List(Toothpaste, Chicken)</td><td>2</td></tr><tr><td>1000000006</td><td>List(Honey, BBQ Sauce, Soda, Olive Oil, Garden Hose)</td><td>5</td></tr><tr><td>1000000007</td><td>List(Syrup, Trash Cans, Pancake Mix, Water, Mayonnaise)</td><td>5</td></tr><tr><td>1000000008</td><td>List(Insect Repellent)</td><td>1</td></tr><tr><td>1000000009</td><td>List(Soap, Baby Wipes, Soda)</td><td>3</td></tr><tr><td>1000000010</td><td>List(Extension Cords, Soda, Water, Garden Hose, Cleaning Spray)</td><td>5</td></tr><tr><td>1000000011</td><td>List(Tea, Paper Towels, Spinach)</td><td>3</td></tr><tr><td>1000000012</td><td>List(Salmon, Shaving Cream)</td><td>2</td></tr><tr><td>1000000013</td><td>List(Trash Bags, Apple, Mop, Hair Gel)</td><td>4</td></tr><tr><td>1000000014</td><td>List(Razors, Laundry Detergent, Beef)</td><td>3</td></tr><tr><td>1000000015</td><td>List(Cereal, Vinegar, Bath Towels)</td><td>3</td></tr><tr><td>1000000016</td><td>List(Air Freshener, Feminine Hygiene Products)</td><td>2</td></tr><tr><td>1000000017</td><td>List(Power Strips, Honey, Ketchup, Tea, Shampoo)</td><td>5</td></tr><tr><td>1000000018</td><td>List(Mustard, Dustpan)</td><td>2</td></tr><tr><td>1000000019</td><td>List(Coffee)</td><td>1</td></tr></tbody></table></div>"
      ]
     },
     "metadata": {
      "application/vnd.databricks.v1+output": {
       "addedWidgets": {},
       "aggData": [],
       "aggError": "",
       "aggOverflow": false,
       "aggSchema": [],
       "aggSeriesLimitReached": false,
       "aggType": "",
       "arguments": {},
       "columnCustomDisplayInfos": {},
       "data": [
        [
         "1000000000",
         [
          "Ketchup",
          "Shaving Cream",
          "Light Bulbs"
         ],
         3
        ],
        [
         "1000000001",
         [
          "Ice Cream",
          "Milk",
          "Olive Oil",
          "Bread",
          "Potatoes"
         ],
         5
        ],
        [
         "1000000002",
         [
          "Spinach"
         ],
         1
        ],
        [
         "1000000003",
         [
          "Tissues",
          "Mustard"
         ],
         2
        ],
        [
         "1000000004",
         [
          "Dish Soap"
         ],
         1
        ],
        [
         "1000000005",
         [
          "Toothpaste",
          "Chicken"
         ],
         2
        ],
        [
         "1000000006",
         [
          "Honey",
          "BBQ Sauce",
          "Soda",
          "Olive Oil",
          "Garden Hose"
         ],
         5
        ],
        [
         "1000000007",
         [
          "Syrup",
          "Trash Cans",
          "Pancake Mix",
          "Water",
          "Mayonnaise"
         ],
         5
        ],
        [
         "1000000008",
         [
          "Insect Repellent"
         ],
         1
        ],
        [
         "1000000009",
         [
          "Soap",
          "Baby Wipes",
          "Soda"
         ],
         3
        ],
        [
         "1000000010",
         [
          "Extension Cords",
          "Soda",
          "Water",
          "Garden Hose",
          "Cleaning Spray"
         ],
         5
        ],
        [
         "1000000011",
         [
          "Tea",
          "Paper Towels",
          "Spinach"
         ],
         3
        ],
        [
         "1000000012",
         [
          "Salmon",
          "Shaving Cream"
         ],
         2
        ],
        [
         "1000000013",
         [
          "Trash Bags",
          "Apple",
          "Mop",
          "Hair Gel"
         ],
         4
        ],
        [
         "1000000014",
         [
          "Razors",
          "Laundry Detergent",
          "Beef"
         ],
         3
        ],
        [
         "1000000015",
         [
          "Cereal",
          "Vinegar",
          "Bath Towels"
         ],
         3
        ],
        [
         "1000000016",
         [
          "Air Freshener",
          "Feminine Hygiene Products"
         ],
         2
        ],
        [
         "1000000017",
         [
          "Power Strips",
          "Honey",
          "Ketchup",
          "Tea",
          "Shampoo"
         ],
         5
        ],
        [
         "1000000018",
         [
          "Mustard",
          "Dustpan"
         ],
         2
        ],
        [
         "1000000019",
         [
          "Coffee"
         ],
         1
        ]
       ],
       "datasetInfos": [],
       "dbfsResultPath": null,
       "isJsonSchema": true,
       "metadata": {},
       "overflow": false,
       "plotOptions": {
        "customPlotOptions": {},
        "displayType": "table",
        "pivotAggregation": null,
        "pivotColumns": null,
        "xColumns": null,
        "yColumns": null
       },
       "removedWidgets": [],
       "schema": [
        {
         "metadata": "{}",
         "name": "Transaction_ID",
         "type": "\"string\""
        },
        {
         "metadata": "{}",
         "name": "Product_Array",
         "type": "{\"containsNull\":true,\"elementType\":\"string\",\"type\":\"array\"}"
        },
        {
         "metadata": "{}",
         "name": "Total_Items",
         "type": "\"integer\""
        }
       ],
       "type": "table"
      }
     },
     "output_type": "display_data"
    }
   ],
   "source": [
    "# STEP 4 (Simplified): Replace Total_Items with computed size(Product_Array)\n",
    "\n",
    "from pyspark.sql import functions as F\n",
    "\n",
    "CATALOG = \"retail_demand_catalog\"\n",
    "SCHEMA  = \"retail_demand_schema\"\n",
    "SILVER  = f\"{CATALOG}.{SCHEMA}.transactions_silver\"\n",
    "\n",
    "spark.sql(f\"USE CATALOG {CATALOG}\")\n",
    "spark.sql(f\"USE {SCHEMA}\")\n",
    "\n",
    "df = spark.table(SILVER)\n",
    "\n",
    "# Replace Total_Items with computed size(Product_Array)\n",
    "df_out = (\n",
    "    df.drop(\"Total_Items\")  # remove old inaccurate column\n",
    "      .withColumn(\"Total_Items\", F.size(F.col(\"Product_Array\")))\n",
    "      .drop(\"Total_Items_Calculated\")  # remove intermediate column\n",
    ")\n",
    "\n",
    "# Persist back to the same Silver table\n",
    "(df_out.write\n",
    "      .format(\"delta\")\n",
    "      .mode(\"overwrite\")\n",
    "      .option(\"overwriteSchema\", \"true\")\n",
    "      .saveAsTable(SILVER)\n",
    ")\n",
    "\n",
    "print(\"Silver table updated: Total_Items now computed from Product_Array\")\n",
    "display(spark.table(SILVER).select(\"Transaction_ID\",\"Product_Array\",\"Total_Items\").limit(20))\n"
   ]
  },
  {
   "cell_type": "code",
   "execution_count": 0,
   "metadata": {
    "application/vnd.databricks.v1+cell": {
     "cellMetadata": {
      "byteLimit": 2048000,
      "rowLimit": 10000
     },
     "inputWidgets": {},
     "nuid": "653716bf-2bad-4691-bb66-4f7d0016ae76",
     "showTitle": false,
     "tableResultSettingsMap": {},
     "title": ""
    }
   },
   "outputs": [
    {
     "output_type": "stream",
     "name": "stdout",
     "output_type": "stream",
     "text": [
      "Silver table normalized with canonical types and values: retail_demand_catalog.retail_demand_schema.transactions_silver\nSchema:\nroot\n |-- Transaction_ID: string (nullable = true)\n |-- Date: string (nullable = true)\n |-- Customer_Name: string (nullable = true)\n |-- Product: string (nullable = true)\n |-- Total_Cost: double (nullable = true)\n |-- Payment_Method: string (nullable = true)\n |-- City: string (nullable = true)\n |-- Store_Type: string (nullable = true)\n |-- Discount_Applied: boolean (nullable = true)\n |-- Customer_Category: string (nullable = true)\n |-- Promotion: string (nullable = true)\n |-- Product_Array: array (nullable = true)\n |    |-- element: string (containsNull = true)\n |-- Event_Timestamp: timestamp (nullable = true)\n |-- Event_Date: date (nullable = true)\n |-- Season: string (nullable = true)\n |-- Total_Items: integer (nullable = true)\n\nNone\n"
     ]
    },
    {
     "output_type": "display_data",
     "data": {
      "text/html": [
       "<style scoped>\n",
       "  .table-result-container {\n",
       "    max-height: 300px;\n",
       "    overflow: auto;\n",
       "  }\n",
       "  table, th, td {\n",
       "    border: 1px solid black;\n",
       "    border-collapse: collapse;\n",
       "  }\n",
       "  th, td {\n",
       "    padding: 5px;\n",
       "  }\n",
       "  th {\n",
       "    text-align: left;\n",
       "  }\n",
       "</style><div class='table-result-container'><table class='table-result'><thead style='background-color: white'><tr><th>Transaction_ID</th><th>Event_Timestamp</th><th>City</th><th>Store_Type</th><th>Payment_Method</th><th>Discount_Applied</th><th>Total_Items</th><th>Total_Cost</th><th>Season</th><th>Promotion</th></tr></thead><tbody><tr><td>1000000000</td><td>2022-01-21T06:27:29.000Z</td><td>Los Angeles</td><td>Warehouse Club</td><td>Mobile Payment</td><td>true</td><td>3</td><td>71.65</td><td>Winter</td><td>None</td></tr><tr><td>1000000001</td><td>2023-03-01T13:01:21.000Z</td><td>San Francisco</td><td>Specialty Store</td><td>Cash</td><td>true</td><td>5</td><td>25.93</td><td>Spring</td><td>BOGO</td></tr><tr><td>1000000002</td><td>2024-03-21T15:37:04.000Z</td><td>Houston</td><td>Department Store</td><td>Credit Card</td><td>true</td><td>1</td><td>41.49</td><td>Spring</td><td>None</td></tr><tr><td>1000000003</td><td>2020-10-31T09:59:47.000Z</td><td>Chicago</td><td>Pharmacy</td><td>Mobile Payment</td><td>true</td><td>2</td><td>39.34</td><td>Fall</td><td>None</td></tr><tr><td>1000000004</td><td>2020-12-10T00:59:59.000Z</td><td>Houston</td><td>Specialty Store</td><td>Debit Card</td><td>false</td><td>1</td><td>16.42</td><td>Winter</td><td>Discount on Selected Items</td></tr><tr><td>1000000005</td><td>2021-10-07T12:37:26.000Z</td><td>Houston</td><td>Supermarket</td><td>Cash</td><td>true</td><td>2</td><td>72.24</td><td>Fall</td><td>Discount on Selected Items</td></tr><tr><td>1000000006</td><td>2023-01-08T10:40:03.000Z</td><td>Boston</td><td>Specialty Store</td><td>Cash</td><td>false</td><td>5</td><td>5.28</td><td>Winter</td><td>Discount on Selected Items</td></tr><tr><td>1000000007</td><td>2020-09-03T12:39:59.000Z</td><td>Chicago</td><td>Specialty Store</td><td>Debit Card</td><td>false</td><td>5</td><td>21.77</td><td>Fall</td><td>Discount on Selected Items</td></tr><tr><td>1000000008</td><td>2021-04-05T06:32:18.000Z</td><td>Los Angeles</td><td>Warehouse Club</td><td>Mobile Payment</td><td>false</td><td>1</td><td>55.25</td><td>Spring</td><td>None</td></tr><tr><td>1000000009</td><td>2021-07-08T10:08:59.000Z</td><td>Boston</td><td>Convenience Store</td><td>Mobile Payment</td><td>true</td><td>3</td><td>31.21</td><td>Summer</td><td>None</td></tr><tr><td>1000000010</td><td>2020-03-18T18:58:18.000Z</td><td>Boston</td><td>Department Store</td><td>Debit Card</td><td>true</td><td>5</td><td>91.59</td><td>Spring</td><td>BOGO</td></tr><tr><td>1000000011</td><td>2023-03-30T19:26:41.000Z</td><td>New York</td><td>Specialty Store</td><td>Mobile Payment</td><td>false</td><td>3</td><td>31.88</td><td>Spring</td><td>Discount on Selected Items</td></tr><tr><td>1000000012</td><td>2023-05-27T15:52:59.000Z</td><td>New York</td><td>Pharmacy</td><td>Debit Card</td><td>false</td><td>2</td><td>39.75</td><td>Spring</td><td>Discount on Selected Items</td></tr><tr><td>1000000013</td><td>2023-04-02T09:24:11.000Z</td><td>Seattle</td><td>Warehouse Club</td><td>Mobile Payment</td><td>false</td><td>4</td><td>17.51</td><td>Spring</td><td>BOGO</td></tr><tr><td>1000000014</td><td>2020-04-09T04:31:05.000Z</td><td>San Francisco</td><td>Warehouse Club</td><td>Credit Card</td><td>true</td><td>3</td><td>33.64</td><td>Spring</td><td>None</td></tr><tr><td>1000000015</td><td>2021-01-01T04:29:07.000Z</td><td>San Francisco</td><td>Convenience Store</td><td>Mobile Payment</td><td>false</td><td>3</td><td>29.57</td><td>Winter</td><td>BOGO</td></tr><tr><td>1000000016</td><td>2021-10-15T13:24:31.000Z</td><td>Miami</td><td>Specialty Store</td><td>Mobile Payment</td><td>true</td><td>2</td><td>99.7</td><td>Fall</td><td>None</td></tr><tr><td>1000000017</td><td>2021-09-16T09:28:28.000Z</td><td>San Francisco</td><td>Department Store</td><td>Credit Card</td><td>false</td><td>5</td><td>15.62</td><td>Fall</td><td>None</td></tr><tr><td>1000000018</td><td>2022-07-18T11:33:28.000Z</td><td>New York</td><td>Warehouse Club</td><td>Mobile Payment</td><td>false</td><td>2</td><td>98.28</td><td>Summer</td><td>BOGO</td></tr><tr><td>1000000019</td><td>2021-01-31T07:52:18.000Z</td><td>Chicago</td><td>Department Store</td><td>Debit Card</td><td>true</td><td>1</td><td>96.77</td><td>Winter</td><td>Discount on Selected Items</td></tr></tbody></table></div>"
      ]
     },
     "metadata": {
      "application/vnd.databricks.v1+output": {
       "addedWidgets": {},
       "aggData": [],
       "aggError": "",
       "aggOverflow": false,
       "aggSchema": [],
       "aggSeriesLimitReached": false,
       "aggType": "",
       "arguments": {},
       "columnCustomDisplayInfos": {},
       "data": [
        [
         "1000000000",
         "2022-01-21T06:27:29.000Z",
         "Los Angeles",
         "Warehouse Club",
         "Mobile Payment",
         true,
         3,
         71.65,
         "Winter",
         "None"
        ],
        [
         "1000000001",
         "2023-03-01T13:01:21.000Z",
         "San Francisco",
         "Specialty Store",
         "Cash",
         true,
         5,
         25.93,
         "Spring",
         "BOGO"
        ],
        [
         "1000000002",
         "2024-03-21T15:37:04.000Z",
         "Houston",
         "Department Store",
         "Credit Card",
         true,
         1,
         41.49,
         "Spring",
         "None"
        ],
        [
         "1000000003",
         "2020-10-31T09:59:47.000Z",
         "Chicago",
         "Pharmacy",
         "Mobile Payment",
         true,
         2,
         39.34,
         "Fall",
         "None"
        ],
        [
         "1000000004",
         "2020-12-10T00:59:59.000Z",
         "Houston",
         "Specialty Store",
         "Debit Card",
         false,
         1,
         16.42,
         "Winter",
         "Discount on Selected Items"
        ],
        [
         "1000000005",
         "2021-10-07T12:37:26.000Z",
         "Houston",
         "Supermarket",
         "Cash",
         true,
         2,
         72.24,
         "Fall",
         "Discount on Selected Items"
        ],
        [
         "1000000006",
         "2023-01-08T10:40:03.000Z",
         "Boston",
         "Specialty Store",
         "Cash",
         false,
         5,
         5.28,
         "Winter",
         "Discount on Selected Items"
        ],
        [
         "1000000007",
         "2020-09-03T12:39:59.000Z",
         "Chicago",
         "Specialty Store",
         "Debit Card",
         false,
         5,
         21.77,
         "Fall",
         "Discount on Selected Items"
        ],
        [
         "1000000008",
         "2021-04-05T06:32:18.000Z",
         "Los Angeles",
         "Warehouse Club",
         "Mobile Payment",
         false,
         1,
         55.25,
         "Spring",
         "None"
        ],
        [
         "1000000009",
         "2021-07-08T10:08:59.000Z",
         "Boston",
         "Convenience Store",
         "Mobile Payment",
         true,
         3,
         31.21,
         "Summer",
         "None"
        ],
        [
         "1000000010",
         "2020-03-18T18:58:18.000Z",
         "Boston",
         "Department Store",
         "Debit Card",
         true,
         5,
         91.59,
         "Spring",
         "BOGO"
        ],
        [
         "1000000011",
         "2023-03-30T19:26:41.000Z",
         "New York",
         "Specialty Store",
         "Mobile Payment",
         false,
         3,
         31.88,
         "Spring",
         "Discount on Selected Items"
        ],
        [
         "1000000012",
         "2023-05-27T15:52:59.000Z",
         "New York",
         "Pharmacy",
         "Debit Card",
         false,
         2,
         39.75,
         "Spring",
         "Discount on Selected Items"
        ],
        [
         "1000000013",
         "2023-04-02T09:24:11.000Z",
         "Seattle",
         "Warehouse Club",
         "Mobile Payment",
         false,
         4,
         17.51,
         "Spring",
         "BOGO"
        ],
        [
         "1000000014",
         "2020-04-09T04:31:05.000Z",
         "San Francisco",
         "Warehouse Club",
         "Credit Card",
         true,
         3,
         33.64,
         "Spring",
         "None"
        ],
        [
         "1000000015",
         "2021-01-01T04:29:07.000Z",
         "San Francisco",
         "Convenience Store",
         "Mobile Payment",
         false,
         3,
         29.57,
         "Winter",
         "BOGO"
        ],
        [
         "1000000016",
         "2021-10-15T13:24:31.000Z",
         "Miami",
         "Specialty Store",
         "Mobile Payment",
         true,
         2,
         99.7,
         "Fall",
         "None"
        ],
        [
         "1000000017",
         "2021-09-16T09:28:28.000Z",
         "San Francisco",
         "Department Store",
         "Credit Card",
         false,
         5,
         15.62,
         "Fall",
         "None"
        ],
        [
         "1000000018",
         "2022-07-18T11:33:28.000Z",
         "New York",
         "Warehouse Club",
         "Mobile Payment",
         false,
         2,
         98.28,
         "Summer",
         "BOGO"
        ],
        [
         "1000000019",
         "2021-01-31T07:52:18.000Z",
         "Chicago",
         "Department Store",
         "Debit Card",
         true,
         1,
         96.77,
         "Winter",
         "Discount on Selected Items"
        ]
       ],
       "datasetInfos": [],
       "dbfsResultPath": null,
       "isJsonSchema": true,
       "metadata": {},
       "overflow": false,
       "plotOptions": {
        "customPlotOptions": {},
        "displayType": "table",
        "pivotAggregation": null,
        "pivotColumns": null,
        "xColumns": null,
        "yColumns": null
       },
       "removedWidgets": [],
       "schema": [
        {
         "metadata": "{}",
         "name": "Transaction_ID",
         "type": "\"string\""
        },
        {
         "metadata": "{}",
         "name": "Event_Timestamp",
         "type": "\"timestamp\""
        },
        {
         "metadata": "{}",
         "name": "City",
         "type": "\"string\""
        },
        {
         "metadata": "{}",
         "name": "Store_Type",
         "type": "\"string\""
        },
        {
         "metadata": "{}",
         "name": "Payment_Method",
         "type": "\"string\""
        },
        {
         "metadata": "{}",
         "name": "Discount_Applied",
         "type": "\"boolean\""
        },
        {
         "metadata": "{}",
         "name": "Total_Items",
         "type": "\"integer\""
        },
        {
         "metadata": "{}",
         "name": "Total_Cost",
         "type": "\"double\""
        },
        {
         "metadata": "{}",
         "name": "Season",
         "type": "\"string\""
        },
        {
         "metadata": "{}",
         "name": "Promotion",
         "type": "\"string\""
        }
       ],
       "type": "table"
      }
     },
     "output_type": "display_data"
    }
   ],
   "source": [
    "# STEP 5: Type casting & normalization in one action\n",
    "\n",
    "from pyspark.sql import functions as F, types as T\n",
    "\n",
    "CATALOG = \"retail_demand_catalog\"\n",
    "SCHEMA  = \"retail_demand_schema\"\n",
    "SILVER  = f\"{CATALOG}.{SCHEMA}.transactions_silver\"\n",
    "\n",
    "spark.sql(f\"USE CATALOG {CATALOG}\")\n",
    "spark.sql(f\"USE {SCHEMA}\")\n",
    "\n",
    "df = spark.table(SILVER)\n",
    "\n",
    "# --- 1) Generic trim for all string-typed columns ---\n",
    "for c, t in df.dtypes:\n",
    "    if t == \"string\":\n",
    "        df = df.withColumn(c, F.trim(F.col(c)))\n",
    "\n",
    "# --- 2) Product_Array: ensure each element is trimmed (keep product names as-is otherwise) ---\n",
    "if \"Product_Array\" in df.columns:\n",
    "    df = df.withColumn(\n",
    "        \"Product_Array\",\n",
    "        F.when(\n",
    "            F.col(\"Product_Array\").isNotNull(),\n",
    "            F.transform(F.col(\"Product_Array\"), lambda x: F.trim(x))\n",
    "        ).otherwise(F.col(\"Product_Array\"))\n",
    "    )\n",
    "\n",
    "# --- 3) Total_Cost -> double (strip currency symbols/commas/whitespace) ---\n",
    "# Remove everything except digits, dot, minus\n",
    "if \"Total_Cost\" in df.columns:\n",
    "    clean_cost = F.regexp_replace(F.col(\"Total_Cost\"), r\"[^0-9\\.\\-]\", \"\")\n",
    "    df = df.withColumn(\"Total_Cost\", clean_cost.cast(\"double\"))\n",
    "\n",
    "# --- 4) Discount_Applied -> boolean (map common truthy/falsey) ---\n",
    "if \"Discount_Applied\" in df.columns:\n",
    "    da = F.lower(F.col(\"Discount_Applied\"))\n",
    "    df = df.withColumn(\n",
    "        \"Discount_Applied\",\n",
    "        F.when(da.isNull() | (da == \"\"), F.lit(None).cast(\"boolean\"))\n",
    "         .when(da.rlike(r\"^(true|t|yes|y|1)$\"), F.lit(True))\n",
    "         .when(da.rlike(r\"^(false|f|no|n|0)$\"), F.lit(False))\n",
    "         .otherwise(F.lit(None).cast(\"boolean\"))\n",
    "    )\n",
    "\n",
    "# --- 5) Normalize Payment_Method into a standard set ---\n",
    "# Standard mapping: Cash | Credit Card | Debit Card | Mobile Payment\n",
    "def normalize_payment(col):\n",
    "    lc = F.lower(col)\n",
    "    return (\n",
    "        F.when(lc.rlike(r\"^cash$\"), \"Cash\")\n",
    "         .when(lc.rlike(r\"^(credit\\s*card|cc|credit)$\"), \"Credit Card\")\n",
    "         .when(lc.rlike(r\"^(debit\\s*card|debit)$\"), \"Debit Card\")\n",
    "         .when(lc.rlike(r\"^(mobile(\\s*pay(ment)?)?|apple\\s*pay|google\\s*pay|upi)$\"), \"Mobile Payment\")\n",
    "         .otherwise(F.initcap(F.coalesce(col, F.lit(\"\"))))\n",
    "    )\n",
    "\n",
    "if \"Payment_Method\" in df.columns:\n",
    "    df = df.withColumn(\"Payment_Method\", normalize_payment(F.col(\"Payment_Method\")))\n",
    "\n",
    "# --- 6) Normalize City / Store_Type / Customer_Category / Promotion (trim + title case or mapped) ---\n",
    "if \"City\" in df.columns:\n",
    "    df = df.withColumn(\"City\", F.when(F.col(\"City\").isNotNull(), F.initcap(F.col(\"City\"))).otherwise(F.col(\"City\")))\n",
    "\n",
    "if \"Store_Type\" in df.columns:\n",
    "    df = df.withColumn(\"Store_Type\", F.when(F.col(\"Store_Type\").isNotNull(), F.initcap(F.col(\"Store_Type\"))).otherwise(F.col(\"Store_Type\")))\n",
    "\n",
    "if \"Customer_Category\" in df.columns:\n",
    "    df = df.withColumn(\"Customer_Category\", F.when(F.col(\"Customer_Category\").isNotNull(), F.initcap(F.col(\"Customer_Category\"))).otherwise(F.col(\"Customer_Category\")))\n",
    "\n",
    "# Promotion mapping: None | BOGO | Discount on Selected Items | (else Title Case)\n",
    "if \"Promotion\" in df.columns:\n",
    "    promo_lc = F.lower(F.col(\"Promotion\"))\n",
    "    df = df.withColumn(\n",
    "        \"Promotion\",\n",
    "        F.when(promo_lc.rlike(r\"^(none|na|n/a|null|no promo)$\"), F.lit(\"None\"))\n",
    "         .when(promo_lc.rlike(r\"^bogo\"), F.lit(\"BOGO\"))\n",
    "         .when(promo_lc.rlike(r\"discount\"), F.lit(\"Discount on Selected Items\"))\n",
    "         .otherwise(F.initcap(F.coalesce(F.col(\"Promotion\"), F.lit(\"\"))))\n",
    "    )\n",
    "\n",
    "# --- 7) Season: keep only ONE canonical column ---\n",
    "# Use Season_Normalized as Season; drop Season, Season_Standardized, Season_Derived, Season_Source\n",
    "if \"Season_Normalized\" in df.columns:\n",
    "    df = df.drop(\"Season\") if \"Season\" in df.columns else df\n",
    "    df = df.withColumnRenamed(\"Season_Normalized\", \"Season\")\n",
    "    drop_cols = [c for c in [\"Season_Standardized\", \"Season_Derived\", \"Season_Source\"] if c in df.columns]\n",
    "    df = df.drop(*drop_cols)\n",
    "\n",
    "# --- 8) Transaction_ID: ensure string (avoid scientific notation); Date columns already created in Step 3 ---\n",
    "if \"Transaction_ID\" in df.columns:\n",
    "    df = df.withColumn(\"Transaction_ID\", F.col(\"Transaction_ID\").cast(\"string\"))\n",
    "\n",
    "# --- 9) Persist back to the same SILVER table ---\n",
    "(df.write\n",
    "    .format(\"delta\")\n",
    "    .mode(\"overwrite\")\n",
    "    .option(\"overwriteSchema\", \"true\")\n",
    "    .saveAsTable(SILVER)\n",
    ")\n",
    "\n",
    "print(\"Silver table normalized with canonical types and values:\", SILVER)\n",
    "\n",
    "# --- 10) Quick sanity: show schema + sample ---\n",
    "print(\"Schema:\")\n",
    "print(spark.table(SILVER).printSchema())\n",
    "\n",
    "display(\n",
    "    spark.table(SILVER)\n",
    "         .select(\"Transaction_ID\",\"Event_Timestamp\",\"City\",\"Store_Type\",\"Payment_Method\",\n",
    "                 \"Discount_Applied\",\"Total_Items\",\"Total_Cost\",\"Season\",\"Promotion\")\n",
    "         .limit(20)\n",
    ")\n"
   ]
  },
  {
   "cell_type": "code",
   "execution_count": 0,
   "metadata": {
    "application/vnd.databricks.v1+cell": {
     "cellMetadata": {
      "byteLimit": 2048000,
      "rowLimit": 10000
     },
     "inputWidgets": {},
     "nuid": "b3a78de7-5e80-44e0-9237-abda43d7b916",
     "showTitle": false,
     "tableResultSettingsMap": {},
     "title": ""
    }
   },
   "outputs": [
    {
     "output_type": "stream",
     "name": "stdout",
     "output_type": "stream",
     "text": [
      "Gold star schema created/updated WITHOUT line_amount:\n - retail_demand_catalog.retail_demand_schema.dim_date\n - retail_demand_catalog.retail_demand_schema.dim_product\n - retail_demand_catalog.retail_demand_schema.dim_store\n - retail_demand_catalog.retail_demand_schema.dim_customer\n - retail_demand_catalog.retail_demand_schema.dim_promotion\n - retail_demand_catalog.retail_demand_schema.fact_sales\n"
     ]
    },
    {
     "output_type": "display_data",
     "data": {
      "text/html": [
       "<style scoped>\n",
       "  .table-result-container {\n",
       "    max-height: 300px;\n",
       "    overflow: auto;\n",
       "  }\n",
       "  table, th, td {\n",
       "    border: 1px solid black;\n",
       "    border-collapse: collapse;\n",
       "  }\n",
       "  th, td {\n",
       "    padding: 5px;\n",
       "  }\n",
       "  th {\n",
       "    text-align: left;\n",
       "  }\n",
       "</style><div class='table-result-container'><table class='table-result'><thead style='background-color: white'><tr><th>date_key</th><th>Event_Date</th><th>year</th><th>quarter</th><th>month</th><th>day</th><th>week_of_year</th><th>day_name</th><th>month_name</th><th>is_weekend</th><th>season</th></tr></thead><tbody><tr><td>20200101</td><td>2020-01-01</td><td>2020</td><td>1</td><td>1</td><td>1</td><td>1</td><td>Wednesday</td><td>January</td><td>false</td><td>Winter</td></tr><tr><td>20200102</td><td>2020-01-02</td><td>2020</td><td>1</td><td>1</td><td>2</td><td>1</td><td>Thursday</td><td>January</td><td>false</td><td>Winter</td></tr><tr><td>20200103</td><td>2020-01-03</td><td>2020</td><td>1</td><td>1</td><td>3</td><td>1</td><td>Friday</td><td>January</td><td>false</td><td>Winter</td></tr><tr><td>20200104</td><td>2020-01-04</td><td>2020</td><td>1</td><td>1</td><td>4</td><td>1</td><td>Saturday</td><td>January</td><td>true</td><td>Winter</td></tr><tr><td>20200105</td><td>2020-01-05</td><td>2020</td><td>1</td><td>1</td><td>5</td><td>1</td><td>Sunday</td><td>January</td><td>true</td><td>Winter</td></tr><tr><td>20200106</td><td>2020-01-06</td><td>2020</td><td>1</td><td>1</td><td>6</td><td>2</td><td>Monday</td><td>January</td><td>false</td><td>Winter</td></tr><tr><td>20200107</td><td>2020-01-07</td><td>2020</td><td>1</td><td>1</td><td>7</td><td>2</td><td>Tuesday</td><td>January</td><td>false</td><td>Winter</td></tr><tr><td>20200108</td><td>2020-01-08</td><td>2020</td><td>1</td><td>1</td><td>8</td><td>2</td><td>Wednesday</td><td>January</td><td>false</td><td>Winter</td></tr><tr><td>20200109</td><td>2020-01-09</td><td>2020</td><td>1</td><td>1</td><td>9</td><td>2</td><td>Thursday</td><td>January</td><td>false</td><td>Winter</td></tr><tr><td>20200110</td><td>2020-01-10</td><td>2020</td><td>1</td><td>1</td><td>10</td><td>2</td><td>Friday</td><td>January</td><td>false</td><td>Winter</td></tr></tbody></table></div>"
      ]
     },
     "metadata": {
      "application/vnd.databricks.v1+output": {
       "addedWidgets": {},
       "aggData": [],
       "aggError": "",
       "aggOverflow": false,
       "aggSchema": [],
       "aggSeriesLimitReached": false,
       "aggType": "",
       "arguments": {},
       "columnCustomDisplayInfos": {},
       "data": [
        [
         20200101,
         "2020-01-01",
         2020,
         1,
         1,
         1,
         1,
         "Wednesday",
         "January",
         false,
         "Winter"
        ],
        [
         20200102,
         "2020-01-02",
         2020,
         1,
         1,
         2,
         1,
         "Thursday",
         "January",
         false,
         "Winter"
        ],
        [
         20200103,
         "2020-01-03",
         2020,
         1,
         1,
         3,
         1,
         "Friday",
         "January",
         false,
         "Winter"
        ],
        [
         20200104,
         "2020-01-04",
         2020,
         1,
         1,
         4,
         1,
         "Saturday",
         "January",
         true,
         "Winter"
        ],
        [
         20200105,
         "2020-01-05",
         2020,
         1,
         1,
         5,
         1,
         "Sunday",
         "January",
         true,
         "Winter"
        ],
        [
         20200106,
         "2020-01-06",
         2020,
         1,
         1,
         6,
         2,
         "Monday",
         "January",
         false,
         "Winter"
        ],
        [
         20200107,
         "2020-01-07",
         2020,
         1,
         1,
         7,
         2,
         "Tuesday",
         "January",
         false,
         "Winter"
        ],
        [
         20200108,
         "2020-01-08",
         2020,
         1,
         1,
         8,
         2,
         "Wednesday",
         "January",
         false,
         "Winter"
        ],
        [
         20200109,
         "2020-01-09",
         2020,
         1,
         1,
         9,
         2,
         "Thursday",
         "January",
         false,
         "Winter"
        ],
        [
         20200110,
         "2020-01-10",
         2020,
         1,
         1,
         10,
         2,
         "Friday",
         "January",
         false,
         "Winter"
        ]
       ],
       "datasetInfos": [],
       "dbfsResultPath": null,
       "isJsonSchema": true,
       "metadata": {},
       "overflow": false,
       "plotOptions": {
        "customPlotOptions": {},
        "displayType": "table",
        "pivotAggregation": null,
        "pivotColumns": null,
        "xColumns": null,
        "yColumns": null
       },
       "removedWidgets": [],
       "schema": [
        {
         "metadata": "{}",
         "name": "date_key",
         "type": "\"integer\""
        },
        {
         "metadata": "{}",
         "name": "Event_Date",
         "type": "\"date\""
        },
        {
         "metadata": "{}",
         "name": "year",
         "type": "\"integer\""
        },
        {
         "metadata": "{}",
         "name": "quarter",
         "type": "\"integer\""
        },
        {
         "metadata": "{}",
         "name": "month",
         "type": "\"integer\""
        },
        {
         "metadata": "{}",
         "name": "day",
         "type": "\"integer\""
        },
        {
         "metadata": "{}",
         "name": "week_of_year",
         "type": "\"integer\""
        },
        {
         "metadata": "{}",
         "name": "day_name",
         "type": "\"string\""
        },
        {
         "metadata": "{}",
         "name": "month_name",
         "type": "\"string\""
        },
        {
         "metadata": "{}",
         "name": "is_weekend",
         "type": "\"boolean\""
        },
        {
         "metadata": "{}",
         "name": "season",
         "type": "\"string\""
        }
       ],
       "type": "table"
      }
     },
     "output_type": "display_data"
    },
    {
     "output_type": "display_data",
     "data": {
      "text/html": [
       "<style scoped>\n",
       "  .table-result-container {\n",
       "    max-height: 300px;\n",
       "    overflow: auto;\n",
       "  }\n",
       "  table, th, td {\n",
       "    border: 1px solid black;\n",
       "    border-collapse: collapse;\n",
       "  }\n",
       "  th, td {\n",
       "    padding: 5px;\n",
       "  }\n",
       "  th {\n",
       "    text-align: left;\n",
       "  }\n",
       "</style><div class='table-result-container'><table class='table-result'><thead style='background-color: white'><tr><th>product_key</th><th>product_name</th></tr></thead><tbody><tr><td>992225258223be743b7dda0aff0c07e4</td><td>Vacuum Cleaner</td></tr><tr><td>8a88e13a0f98a69147202be3d299decf</td><td>Light Bulbs</td></tr><tr><td>777c75804b0ea9caddc24eee229e7126</td><td>Feminine Hygiene Products</td></tr><tr><td>76aba95cba4ed1280a1e567b178f58a2</td><td>Spinach</td></tr><tr><td>b7208774faea1d155062bdb773b5f221</td><td>Mop</td></tr><tr><td>53f8d64113036808686b056cc0b0f649</td><td>Tomatoes</td></tr><tr><td>a2ec80d0f293d905a85479b63eb7b914</td><td>Cereal Bars</td></tr><tr><td>9460370bb0ca1c98a779b1bcc6861c2c</td><td>Water</td></tr><tr><td>180fd182f9a0742f483619781ccc36c4</td><td>Salmon</td></tr><tr><td>e041c9fb6512a32b495e94782d0fc933</td><td>Trash Bags</td></tr></tbody></table></div>"
      ]
     },
     "metadata": {
      "application/vnd.databricks.v1+output": {
       "addedWidgets": {},
       "aggData": [],
       "aggError": "",
       "aggOverflow": false,
       "aggSchema": [],
       "aggSeriesLimitReached": false,
       "aggType": "",
       "arguments": {},
       "columnCustomDisplayInfos": {},
       "data": [
        [
         "992225258223be743b7dda0aff0c07e4",
         "Vacuum Cleaner"
        ],
        [
         "8a88e13a0f98a69147202be3d299decf",
         "Light Bulbs"
        ],
        [
         "777c75804b0ea9caddc24eee229e7126",
         "Feminine Hygiene Products"
        ],
        [
         "76aba95cba4ed1280a1e567b178f58a2",
         "Spinach"
        ],
        [
         "b7208774faea1d155062bdb773b5f221",
         "Mop"
        ],
        [
         "53f8d64113036808686b056cc0b0f649",
         "Tomatoes"
        ],
        [
         "a2ec80d0f293d905a85479b63eb7b914",
         "Cereal Bars"
        ],
        [
         "9460370bb0ca1c98a779b1bcc6861c2c",
         "Water"
        ],
        [
         "180fd182f9a0742f483619781ccc36c4",
         "Salmon"
        ],
        [
         "e041c9fb6512a32b495e94782d0fc933",
         "Trash Bags"
        ]
       ],
       "datasetInfos": [],
       "dbfsResultPath": null,
       "isJsonSchema": true,
       "metadata": {},
       "overflow": false,
       "plotOptions": {
        "customPlotOptions": {},
        "displayType": "table",
        "pivotAggregation": null,
        "pivotColumns": null,
        "xColumns": null,
        "yColumns": null
       },
       "removedWidgets": [],
       "schema": [
        {
         "metadata": "{}",
         "name": "product_key",
         "type": "\"string\""
        },
        {
         "metadata": "{}",
         "name": "product_name",
         "type": "\"string\""
        }
       ],
       "type": "table"
      }
     },
     "output_type": "display_data"
    },
    {
     "output_type": "display_data",
     "data": {
      "text/html": [
       "<style scoped>\n",
       "  .table-result-container {\n",
       "    max-height: 300px;\n",
       "    overflow: auto;\n",
       "  }\n",
       "  table, th, td {\n",
       "    border: 1px solid black;\n",
       "    border-collapse: collapse;\n",
       "  }\n",
       "  th, td {\n",
       "    padding: 5px;\n",
       "  }\n",
       "  th {\n",
       "    text-align: left;\n",
       "  }\n",
       "</style><div class='table-result-container'><table class='table-result'><thead style='background-color: white'><tr><th>store_key</th><th>city</th><th>store_type</th></tr></thead><tbody><tr><td>81caee20c83fa3a044690f1160162975</td><td>San Francisco</td><td>Pharmacy</td></tr><tr><td>d75c781b099c6a8ee52a21e73eaa5c2a</td><td>Houston</td><td>Department Store</td></tr><tr><td>5aa48a4b3b693c59681ad61754798678</td><td>Seattle</td><td>Specialty Store</td></tr><tr><td>38a65553ea4724998402d8f0b70974da</td><td>Houston</td><td>Warehouse Club</td></tr><tr><td>c35f7b48a76d8ba8a14ecca8e3eba5f6</td><td>Miami</td><td>Supermarket</td></tr><tr><td>cfaec02aa1c5df5531c17e731cb0375f</td><td>Miami</td><td>Warehouse Club</td></tr><tr><td>3552d371a620fc7a3215216fe7c615e3</td><td>Atlanta</td><td>Specialty Store</td></tr><tr><td>e1cf036161b05e7832544ed6469b6545</td><td>San Francisco</td><td>Department Store</td></tr><tr><td>05fca3dbda658ee8db3d8ab483e9bf77</td><td>Miami</td><td>Pharmacy</td></tr><tr><td>fea215c9e971fb3b8fa1df6463a2b098</td><td>Los Angeles</td><td>Department Store</td></tr></tbody></table></div>"
      ]
     },
     "metadata": {
      "application/vnd.databricks.v1+output": {
       "addedWidgets": {},
       "aggData": [],
       "aggError": "",
       "aggOverflow": false,
       "aggSchema": [],
       "aggSeriesLimitReached": false,
       "aggType": "",
       "arguments": {},
       "columnCustomDisplayInfos": {},
       "data": [
        [
         "81caee20c83fa3a044690f1160162975",
         "San Francisco",
         "Pharmacy"
        ],
        [
         "d75c781b099c6a8ee52a21e73eaa5c2a",
         "Houston",
         "Department Store"
        ],
        [
         "5aa48a4b3b693c59681ad61754798678",
         "Seattle",
         "Specialty Store"
        ],
        [
         "38a65553ea4724998402d8f0b70974da",
         "Houston",
         "Warehouse Club"
        ],
        [
         "c35f7b48a76d8ba8a14ecca8e3eba5f6",
         "Miami",
         "Supermarket"
        ],
        [
         "cfaec02aa1c5df5531c17e731cb0375f",
         "Miami",
         "Warehouse Club"
        ],
        [
         "3552d371a620fc7a3215216fe7c615e3",
         "Atlanta",
         "Specialty Store"
        ],
        [
         "e1cf036161b05e7832544ed6469b6545",
         "San Francisco",
         "Department Store"
        ],
        [
         "05fca3dbda658ee8db3d8ab483e9bf77",
         "Miami",
         "Pharmacy"
        ],
        [
         "fea215c9e971fb3b8fa1df6463a2b098",
         "Los Angeles",
         "Department Store"
        ]
       ],
       "datasetInfos": [],
       "dbfsResultPath": null,
       "isJsonSchema": true,
       "metadata": {},
       "overflow": false,
       "plotOptions": {
        "customPlotOptions": {},
        "displayType": "table",
        "pivotAggregation": null,
        "pivotColumns": null,
        "xColumns": null,
        "yColumns": null
       },
       "removedWidgets": [],
       "schema": [
        {
         "metadata": "{}",
         "name": "store_key",
         "type": "\"string\""
        },
        {
         "metadata": "{}",
         "name": "city",
         "type": "\"string\""
        },
        {
         "metadata": "{}",
         "name": "store_type",
         "type": "\"string\""
        }
       ],
       "type": "table"
      }
     },
     "output_type": "display_data"
    },
    {
     "output_type": "display_data",
     "data": {
      "text/html": [
       "<style scoped>\n",
       "  .table-result-container {\n",
       "    max-height: 300px;\n",
       "    overflow: auto;\n",
       "  }\n",
       "  table, th, td {\n",
       "    border: 1px solid black;\n",
       "    border-collapse: collapse;\n",
       "  }\n",
       "  th, td {\n",
       "    padding: 5px;\n",
       "  }\n",
       "  th {\n",
       "    text-align: left;\n",
       "  }\n",
       "</style><div class='table-result-container'><table class='table-result'><thead style='background-color: white'><tr><th>customer_key</th><th>customer_name</th><th>customer_category</th></tr></thead><tbody><tr><td>b67811230f43589a79d86f203ba80d82</td><td>Lisa Graves</td><td>Professional</td></tr><tr><td>dd069750a6b5ca79eb7d376f6466d9bb</td><td>Victor Weeks</td><td>Teenager</td></tr><tr><td>984e2486c829d90cad3654b5c0b640f2</td><td>Krystal Mosley</td><td>Young Adult</td></tr><tr><td>31de3c80172c9db864002b093641a049</td><td>Joseph Pollard</td><td>Retiree</td></tr><tr><td>910a18d92dc903bf256fe79a75e9cd06</td><td>Joshua Williams</td><td>Professional</td></tr><tr><td>d8fcde8bc749c119ad5e95b836e448c6</td><td>David Welch</td><td>Middle-aged</td></tr><tr><td>0f4a7d846920f017add5f758ac5a6a9e</td><td>Tyler Owens</td><td>Retiree</td></tr><tr><td>5168f0f2c4250b9d4239d9cbf5069a69</td><td>Jasmine Miller</td><td>Professional</td></tr><tr><td>6cee5330a0a60c29546115d5c0a295e9</td><td>Maria Coleman</td><td>Professional</td></tr><tr><td>0afcf4c312383747cd2ddfe5a4aabd18</td><td>Alexa Jones</td><td>Retiree</td></tr></tbody></table></div>"
      ]
     },
     "metadata": {
      "application/vnd.databricks.v1+output": {
       "addedWidgets": {},
       "aggData": [],
       "aggError": "",
       "aggOverflow": false,
       "aggSchema": [],
       "aggSeriesLimitReached": false,
       "aggType": "",
       "arguments": {},
       "columnCustomDisplayInfos": {},
       "data": [
        [
         "b67811230f43589a79d86f203ba80d82",
         "Lisa Graves",
         "Professional"
        ],
        [
         "dd069750a6b5ca79eb7d376f6466d9bb",
         "Victor Weeks",
         "Teenager"
        ],
        [
         "984e2486c829d90cad3654b5c0b640f2",
         "Krystal Mosley",
         "Young Adult"
        ],
        [
         "31de3c80172c9db864002b093641a049",
         "Joseph Pollard",
         "Retiree"
        ],
        [
         "910a18d92dc903bf256fe79a75e9cd06",
         "Joshua Williams",
         "Professional"
        ],
        [
         "d8fcde8bc749c119ad5e95b836e448c6",
         "David Welch",
         "Middle-aged"
        ],
        [
         "0f4a7d846920f017add5f758ac5a6a9e",
         "Tyler Owens",
         "Retiree"
        ],
        [
         "5168f0f2c4250b9d4239d9cbf5069a69",
         "Jasmine Miller",
         "Professional"
        ],
        [
         "6cee5330a0a60c29546115d5c0a295e9",
         "Maria Coleman",
         "Professional"
        ],
        [
         "0afcf4c312383747cd2ddfe5a4aabd18",
         "Alexa Jones",
         "Retiree"
        ]
       ],
       "datasetInfos": [],
       "dbfsResultPath": null,
       "isJsonSchema": true,
       "metadata": {},
       "overflow": false,
       "plotOptions": {
        "customPlotOptions": {},
        "displayType": "table",
        "pivotAggregation": null,
        "pivotColumns": null,
        "xColumns": null,
        "yColumns": null
       },
       "removedWidgets": [],
       "schema": [
        {
         "metadata": "{}",
         "name": "customer_key",
         "type": "\"string\""
        },
        {
         "metadata": "{}",
         "name": "customer_name",
         "type": "\"string\""
        },
        {
         "metadata": "{}",
         "name": "customer_category",
         "type": "\"string\""
        }
       ],
       "type": "table"
      }
     },
     "output_type": "display_data"
    },
    {
     "output_type": "display_data",
     "data": {
      "text/html": [
       "<style scoped>\n",
       "  .table-result-container {\n",
       "    max-height: 300px;\n",
       "    overflow: auto;\n",
       "  }\n",
       "  table, th, td {\n",
       "    border: 1px solid black;\n",
       "    border-collapse: collapse;\n",
       "  }\n",
       "  th, td {\n",
       "    padding: 5px;\n",
       "  }\n",
       "  th {\n",
       "    text-align: left;\n",
       "  }\n",
       "</style><div class='table-result-container'><table class='table-result'><thead style='background-color: white'><tr><th>promotion_key</th><th>promotion</th><th>discount_applied</th></tr></thead><tbody><tr><td>5ac97c80320c88f1f4542ddcd63c23a2</td><td>BOGO</td><td>false</td></tr><tr><td>6cd3f2b8c9d131b596ec69f431cbe39e</td><td>None</td><td>false</td></tr><tr><td>0697121004a9dcf6a42e53aad128ec3d</td><td>BOGO</td><td>true</td></tr><tr><td>87e534bee9303dd883373eae7ba128db</td><td>None</td><td>true</td></tr><tr><td>3d48e76c1ff3987490d0948eef7cd051</td><td>Discount on Selected Items</td><td>false</td></tr><tr><td>60a5d6c8b702ad81a4e23b9db0356478</td><td>Discount on Selected Items</td><td>true</td></tr></tbody></table></div>"
      ]
     },
     "metadata": {
      "application/vnd.databricks.v1+output": {
       "addedWidgets": {},
       "aggData": [],
       "aggError": "",
       "aggOverflow": false,
       "aggSchema": [],
       "aggSeriesLimitReached": false,
       "aggType": "",
       "arguments": {},
       "columnCustomDisplayInfos": {},
       "data": [
        [
         "5ac97c80320c88f1f4542ddcd63c23a2",
         "BOGO",
         false
        ],
        [
         "6cd3f2b8c9d131b596ec69f431cbe39e",
         "None",
         false
        ],
        [
         "0697121004a9dcf6a42e53aad128ec3d",
         "BOGO",
         true
        ],
        [
         "87e534bee9303dd883373eae7ba128db",
         "None",
         true
        ],
        [
         "3d48e76c1ff3987490d0948eef7cd051",
         "Discount on Selected Items",
         false
        ],
        [
         "60a5d6c8b702ad81a4e23b9db0356478",
         "Discount on Selected Items",
         true
        ]
       ],
       "datasetInfos": [],
       "dbfsResultPath": null,
       "isJsonSchema": true,
       "metadata": {},
       "overflow": false,
       "plotOptions": {
        "customPlotOptions": {},
        "displayType": "table",
        "pivotAggregation": null,
        "pivotColumns": null,
        "xColumns": null,
        "yColumns": null
       },
       "removedWidgets": [],
       "schema": [
        {
         "metadata": "{}",
         "name": "promotion_key",
         "type": "\"string\""
        },
        {
         "metadata": "{}",
         "name": "promotion",
         "type": "\"string\""
        },
        {
         "metadata": "{}",
         "name": "discount_applied",
         "type": "\"boolean\""
        }
       ],
       "type": "table"
      }
     },
     "output_type": "display_data"
    },
    {
     "output_type": "display_data",
     "data": {
      "text/html": [
       "<style scoped>\n",
       "  .table-result-container {\n",
       "    max-height: 300px;\n",
       "    overflow: auto;\n",
       "  }\n",
       "  table, th, td {\n",
       "    border: 1px solid black;\n",
       "    border-collapse: collapse;\n",
       "  }\n",
       "  th, td {\n",
       "    padding: 5px;\n",
       "  }\n",
       "  th {\n",
       "    text-align: left;\n",
       "  }\n",
       "</style><div class='table-result-container'><table class='table-result'><thead style='background-color: white'><tr><th>transaction_id</th><th>date_key</th><th>product_key</th><th>store_key</th><th>customer_key</th><th>promotion_key</th><th>quantity</th><th>Event_Timestamp</th><th>Payment_Method</th><th>Discount_Applied</th></tr></thead><tbody><tr><td>1000000000</td><td>20220121</td><td>a2c9302603f371c4044b603fa8d96345</td><td>8cbceb80c3d1c19c60c3102bdb800f93</td><td>30d87b88ccd86bbca9def74cfd39efa8</td><td>87e534bee9303dd883373eae7ba128db</td><td>1</td><td>2022-01-21T06:27:29.000Z</td><td>Mobile Payment</td><td>true</td></tr><tr><td>1000000000</td><td>20220121</td><td>fb4daf5da9f923cc5b85633e917ea585</td><td>8cbceb80c3d1c19c60c3102bdb800f93</td><td>30d87b88ccd86bbca9def74cfd39efa8</td><td>87e534bee9303dd883373eae7ba128db</td><td>1</td><td>2022-01-21T06:27:29.000Z</td><td>Mobile Payment</td><td>true</td></tr><tr><td>1000000000</td><td>20220121</td><td>8a88e13a0f98a69147202be3d299decf</td><td>8cbceb80c3d1c19c60c3102bdb800f93</td><td>30d87b88ccd86bbca9def74cfd39efa8</td><td>87e534bee9303dd883373eae7ba128db</td><td>1</td><td>2022-01-21T06:27:29.000Z</td><td>Mobile Payment</td><td>true</td></tr><tr><td>1000000001</td><td>20230301</td><td>2d6cfc502a0f108b5f431a1e7aaac603</td><td>6bcb636114ea469b218629aeebbeea1e</td><td>e2fdc9ba2b777721950dbd76e201c417</td><td>0697121004a9dcf6a42e53aad128ec3d</td><td>1</td><td>2023-03-01T13:01:21.000Z</td><td>Cash</td><td>true</td></tr><tr><td>1000000001</td><td>20230301</td><td>ecbdb882ae865a07d87611437fda0772</td><td>6bcb636114ea469b218629aeebbeea1e</td><td>e2fdc9ba2b777721950dbd76e201c417</td><td>0697121004a9dcf6a42e53aad128ec3d</td><td>1</td><td>2023-03-01T13:01:21.000Z</td><td>Cash</td><td>true</td></tr><tr><td>1000000001</td><td>20230301</td><td>6e95889f3017bc7f1ababe3e9454c4ed</td><td>6bcb636114ea469b218629aeebbeea1e</td><td>e2fdc9ba2b777721950dbd76e201c417</td><td>0697121004a9dcf6a42e53aad128ec3d</td><td>1</td><td>2023-03-01T13:01:21.000Z</td><td>Cash</td><td>true</td></tr><tr><td>1000000001</td><td>20230301</td><td>dba7b12a19fe9d49fbb53d65c49bbce6</td><td>6bcb636114ea469b218629aeebbeea1e</td><td>e2fdc9ba2b777721950dbd76e201c417</td><td>0697121004a9dcf6a42e53aad128ec3d</td><td>1</td><td>2023-03-01T13:01:21.000Z</td><td>Cash</td><td>true</td></tr><tr><td>1000000001</td><td>20230301</td><td>e1a1f0be30cefc7d857ea6408cd00a12</td><td>6bcb636114ea469b218629aeebbeea1e</td><td>e2fdc9ba2b777721950dbd76e201c417</td><td>0697121004a9dcf6a42e53aad128ec3d</td><td>1</td><td>2023-03-01T13:01:21.000Z</td><td>Cash</td><td>true</td></tr><tr><td>1000000002</td><td>20240321</td><td>76aba95cba4ed1280a1e567b178f58a2</td><td>d75c781b099c6a8ee52a21e73eaa5c2a</td><td>b67811230f43589a79d86f203ba80d82</td><td>87e534bee9303dd883373eae7ba128db</td><td>1</td><td>2024-03-21T15:37:04.000Z</td><td>Credit Card</td><td>true</td></tr><tr><td>1000000003</td><td>20201031</td><td>79654ca5ba0bc2dbc0ee54a48bab4e31</td><td>fc575f87f6c5ba0688bf82a83026eaf3</td><td>6dffb2e12c9b1c9fbc2e42d16a79c69f</td><td>87e534bee9303dd883373eae7ba128db</td><td>1</td><td>2020-10-31T09:59:47.000Z</td><td>Mobile Payment</td><td>true</td></tr><tr><td>1000000003</td><td>20201031</td><td>7f3b6b9097e3d420cc518fee0618e60b</td><td>fc575f87f6c5ba0688bf82a83026eaf3</td><td>6dffb2e12c9b1c9fbc2e42d16a79c69f</td><td>87e534bee9303dd883373eae7ba128db</td><td>1</td><td>2020-10-31T09:59:47.000Z</td><td>Mobile Payment</td><td>true</td></tr><tr><td>1000000004</td><td>20201210</td><td>e94dee70d49d9cd2eeafc382bf192358</td><td>f51be0d200d6db8fbf5d92fd7c66b846</td><td>29198b502f6bac786339ca195a43b360</td><td>3d48e76c1ff3987490d0948eef7cd051</td><td>1</td><td>2020-12-10T00:59:59.000Z</td><td>Debit Card</td><td>false</td></tr><tr><td>1000000005</td><td>20211007</td><td>02cb3332853d4e8482bd85102a392be3</td><td>73e42f9e3cf43cc76b998f06d08e7ad3</td><td>63720e0e175b38215b4a7673d6335ad3</td><td>60a5d6c8b702ad81a4e23b9db0356478</td><td>1</td><td>2021-10-07T12:37:26.000Z</td><td>Cash</td><td>true</td></tr><tr><td>1000000005</td><td>20211007</td><td>742929dcb631403d7c1c1efad2ca2700</td><td>73e42f9e3cf43cc76b998f06d08e7ad3</td><td>63720e0e175b38215b4a7673d6335ad3</td><td>60a5d6c8b702ad81a4e23b9db0356478</td><td>1</td><td>2021-10-07T12:37:26.000Z</td><td>Cash</td><td>true</td></tr><tr><td>1000000006</td><td>20230108</td><td>b60eb83bf533eecf1bde65940925a981</td><td>8ba219c7f967d6b9f30521993d3beaee</td><td>64d88deb4dec06e9d64fb8c841fd06c1</td><td>3d48e76c1ff3987490d0948eef7cd051</td><td>1</td><td>2023-01-08T10:40:03.000Z</td><td>Cash</td><td>false</td></tr><tr><td>1000000006</td><td>20230108</td><td>ccd5280da762316e6587b75669341f5b</td><td>8ba219c7f967d6b9f30521993d3beaee</td><td>64d88deb4dec06e9d64fb8c841fd06c1</td><td>3d48e76c1ff3987490d0948eef7cd051</td><td>1</td><td>2023-01-08T10:40:03.000Z</td><td>Cash</td><td>false</td></tr><tr><td>1000000006</td><td>20230108</td><td>ac95c3e7a5e1685f4f63172cd680f7e6</td><td>8ba219c7f967d6b9f30521993d3beaee</td><td>64d88deb4dec06e9d64fb8c841fd06c1</td><td>3d48e76c1ff3987490d0948eef7cd051</td><td>1</td><td>2023-01-08T10:40:03.000Z</td><td>Cash</td><td>false</td></tr><tr><td>1000000006</td><td>20230108</td><td>6e95889f3017bc7f1ababe3e9454c4ed</td><td>8ba219c7f967d6b9f30521993d3beaee</td><td>64d88deb4dec06e9d64fb8c841fd06c1</td><td>3d48e76c1ff3987490d0948eef7cd051</td><td>1</td><td>2023-01-08T10:40:03.000Z</td><td>Cash</td><td>false</td></tr><tr><td>1000000006</td><td>20230108</td><td>0fedc266bd8c81fcd3de63e3152522a7</td><td>8ba219c7f967d6b9f30521993d3beaee</td><td>64d88deb4dec06e9d64fb8c841fd06c1</td><td>3d48e76c1ff3987490d0948eef7cd051</td><td>1</td><td>2023-01-08T10:40:03.000Z</td><td>Cash</td><td>false</td></tr><tr><td>1000000007</td><td>20200903</td><td>205e7fab3ea6baf03e2f18a779f89a7d</td><td>fc4dbe18f086e7f59caa4fa99d79bdce</td><td>d615b611aa070aeffeced188a880501a</td><td>3d48e76c1ff3987490d0948eef7cd051</td><td>1</td><td>2020-09-03T12:39:59.000Z</td><td>Debit Card</td><td>false</td></tr></tbody></table></div>"
      ]
     },
     "metadata": {
      "application/vnd.databricks.v1+output": {
       "addedWidgets": {},
       "aggData": [],
       "aggError": "",
       "aggOverflow": false,
       "aggSchema": [],
       "aggSeriesLimitReached": false,
       "aggType": "",
       "arguments": {},
       "columnCustomDisplayInfos": {},
       "data": [
        [
         "1000000000",
         20220121,
         "a2c9302603f371c4044b603fa8d96345",
         "8cbceb80c3d1c19c60c3102bdb800f93",
         "30d87b88ccd86bbca9def74cfd39efa8",
         "87e534bee9303dd883373eae7ba128db",
         1,
         "2022-01-21T06:27:29.000Z",
         "Mobile Payment",
         true
        ],
        [
         "1000000000",
         20220121,
         "fb4daf5da9f923cc5b85633e917ea585",
         "8cbceb80c3d1c19c60c3102bdb800f93",
         "30d87b88ccd86bbca9def74cfd39efa8",
         "87e534bee9303dd883373eae7ba128db",
         1,
         "2022-01-21T06:27:29.000Z",
         "Mobile Payment",
         true
        ],
        [
         "1000000000",
         20220121,
         "8a88e13a0f98a69147202be3d299decf",
         "8cbceb80c3d1c19c60c3102bdb800f93",
         "30d87b88ccd86bbca9def74cfd39efa8",
         "87e534bee9303dd883373eae7ba128db",
         1,
         "2022-01-21T06:27:29.000Z",
         "Mobile Payment",
         true
        ],
        [
         "1000000001",
         20230301,
         "2d6cfc502a0f108b5f431a1e7aaac603",
         "6bcb636114ea469b218629aeebbeea1e",
         "e2fdc9ba2b777721950dbd76e201c417",
         "0697121004a9dcf6a42e53aad128ec3d",
         1,
         "2023-03-01T13:01:21.000Z",
         "Cash",
         true
        ],
        [
         "1000000001",
         20230301,
         "ecbdb882ae865a07d87611437fda0772",
         "6bcb636114ea469b218629aeebbeea1e",
         "e2fdc9ba2b777721950dbd76e201c417",
         "0697121004a9dcf6a42e53aad128ec3d",
         1,
         "2023-03-01T13:01:21.000Z",
         "Cash",
         true
        ],
        [
         "1000000001",
         20230301,
         "6e95889f3017bc7f1ababe3e9454c4ed",
         "6bcb636114ea469b218629aeebbeea1e",
         "e2fdc9ba2b777721950dbd76e201c417",
         "0697121004a9dcf6a42e53aad128ec3d",
         1,
         "2023-03-01T13:01:21.000Z",
         "Cash",
         true
        ],
        [
         "1000000001",
         20230301,
         "dba7b12a19fe9d49fbb53d65c49bbce6",
         "6bcb636114ea469b218629aeebbeea1e",
         "e2fdc9ba2b777721950dbd76e201c417",
         "0697121004a9dcf6a42e53aad128ec3d",
         1,
         "2023-03-01T13:01:21.000Z",
         "Cash",
         true
        ],
        [
         "1000000001",
         20230301,
         "e1a1f0be30cefc7d857ea6408cd00a12",
         "6bcb636114ea469b218629aeebbeea1e",
         "e2fdc9ba2b777721950dbd76e201c417",
         "0697121004a9dcf6a42e53aad128ec3d",
         1,
         "2023-03-01T13:01:21.000Z",
         "Cash",
         true
        ],
        [
         "1000000002",
         20240321,
         "76aba95cba4ed1280a1e567b178f58a2",
         "d75c781b099c6a8ee52a21e73eaa5c2a",
         "b67811230f43589a79d86f203ba80d82",
         "87e534bee9303dd883373eae7ba128db",
         1,
         "2024-03-21T15:37:04.000Z",
         "Credit Card",
         true
        ],
        [
         "1000000003",
         20201031,
         "79654ca5ba0bc2dbc0ee54a48bab4e31",
         "fc575f87f6c5ba0688bf82a83026eaf3",
         "6dffb2e12c9b1c9fbc2e42d16a79c69f",
         "87e534bee9303dd883373eae7ba128db",
         1,
         "2020-10-31T09:59:47.000Z",
         "Mobile Payment",
         true
        ],
        [
         "1000000003",
         20201031,
         "7f3b6b9097e3d420cc518fee0618e60b",
         "fc575f87f6c5ba0688bf82a83026eaf3",
         "6dffb2e12c9b1c9fbc2e42d16a79c69f",
         "87e534bee9303dd883373eae7ba128db",
         1,
         "2020-10-31T09:59:47.000Z",
         "Mobile Payment",
         true
        ],
        [
         "1000000004",
         20201210,
         "e94dee70d49d9cd2eeafc382bf192358",
         "f51be0d200d6db8fbf5d92fd7c66b846",
         "29198b502f6bac786339ca195a43b360",
         "3d48e76c1ff3987490d0948eef7cd051",
         1,
         "2020-12-10T00:59:59.000Z",
         "Debit Card",
         false
        ],
        [
         "1000000005",
         20211007,
         "02cb3332853d4e8482bd85102a392be3",
         "73e42f9e3cf43cc76b998f06d08e7ad3",
         "63720e0e175b38215b4a7673d6335ad3",
         "60a5d6c8b702ad81a4e23b9db0356478",
         1,
         "2021-10-07T12:37:26.000Z",
         "Cash",
         true
        ],
        [
         "1000000005",
         20211007,
         "742929dcb631403d7c1c1efad2ca2700",
         "73e42f9e3cf43cc76b998f06d08e7ad3",
         "63720e0e175b38215b4a7673d6335ad3",
         "60a5d6c8b702ad81a4e23b9db0356478",
         1,
         "2021-10-07T12:37:26.000Z",
         "Cash",
         true
        ],
        [
         "1000000006",
         20230108,
         "b60eb83bf533eecf1bde65940925a981",
         "8ba219c7f967d6b9f30521993d3beaee",
         "64d88deb4dec06e9d64fb8c841fd06c1",
         "3d48e76c1ff3987490d0948eef7cd051",
         1,
         "2023-01-08T10:40:03.000Z",
         "Cash",
         false
        ],
        [
         "1000000006",
         20230108,
         "ccd5280da762316e6587b75669341f5b",
         "8ba219c7f967d6b9f30521993d3beaee",
         "64d88deb4dec06e9d64fb8c841fd06c1",
         "3d48e76c1ff3987490d0948eef7cd051",
         1,
         "2023-01-08T10:40:03.000Z",
         "Cash",
         false
        ],
        [
         "1000000006",
         20230108,
         "ac95c3e7a5e1685f4f63172cd680f7e6",
         "8ba219c7f967d6b9f30521993d3beaee",
         "64d88deb4dec06e9d64fb8c841fd06c1",
         "3d48e76c1ff3987490d0948eef7cd051",
         1,
         "2023-01-08T10:40:03.000Z",
         "Cash",
         false
        ],
        [
         "1000000006",
         20230108,
         "6e95889f3017bc7f1ababe3e9454c4ed",
         "8ba219c7f967d6b9f30521993d3beaee",
         "64d88deb4dec06e9d64fb8c841fd06c1",
         "3d48e76c1ff3987490d0948eef7cd051",
         1,
         "2023-01-08T10:40:03.000Z",
         "Cash",
         false
        ],
        [
         "1000000006",
         20230108,
         "0fedc266bd8c81fcd3de63e3152522a7",
         "8ba219c7f967d6b9f30521993d3beaee",
         "64d88deb4dec06e9d64fb8c841fd06c1",
         "3d48e76c1ff3987490d0948eef7cd051",
         1,
         "2023-01-08T10:40:03.000Z",
         "Cash",
         false
        ],
        [
         "1000000007",
         20200903,
         "205e7fab3ea6baf03e2f18a779f89a7d",
         "fc4dbe18f086e7f59caa4fa99d79bdce",
         "d615b611aa070aeffeced188a880501a",
         "3d48e76c1ff3987490d0948eef7cd051",
         1,
         "2020-09-03T12:39:59.000Z",
         "Debit Card",
         false
        ]
       ],
       "datasetInfos": [],
       "dbfsResultPath": null,
       "isJsonSchema": true,
       "metadata": {},
       "overflow": false,
       "plotOptions": {
        "customPlotOptions": {},
        "displayType": "table",
        "pivotAggregation": null,
        "pivotColumns": null,
        "xColumns": null,
        "yColumns": null
       },
       "removedWidgets": [],
       "schema": [
        {
         "metadata": "{}",
         "name": "transaction_id",
         "type": "\"string\""
        },
        {
         "metadata": "{}",
         "name": "date_key",
         "type": "\"integer\""
        },
        {
         "metadata": "{}",
         "name": "product_key",
         "type": "\"string\""
        },
        {
         "metadata": "{}",
         "name": "store_key",
         "type": "\"string\""
        },
        {
         "metadata": "{}",
         "name": "customer_key",
         "type": "\"string\""
        },
        {
         "metadata": "{}",
         "name": "promotion_key",
         "type": "\"string\""
        },
        {
         "metadata": "{}",
         "name": "quantity",
         "type": "\"integer\""
        },
        {
         "metadata": "{}",
         "name": "Event_Timestamp",
         "type": "\"timestamp\""
        },
        {
         "metadata": "{}",
         "name": "Payment_Method",
         "type": "\"string\""
        },
        {
         "metadata": "{}",
         "name": "Discount_Applied",
         "type": "\"boolean\""
        }
       ],
       "type": "table"
      }
     },
     "output_type": "display_data"
    }
   ],
   "source": [
    "# STEP 6 (CORRECTED): Build Gold Star Schema (dimensions + fact) WITHOUT line_amount\n",
    "\n",
    "from pyspark.sql import functions as F, types as T\n",
    "\n",
    "CATALOG = \"retail_demand_catalog\"\n",
    "SCHEMA  = \"retail_demand_schema\"\n",
    "SILVER  = f\"{CATALOG}.{SCHEMA}.transactions_silver\"\n",
    "\n",
    "spark.sql(f\"USE CATALOG {CATALOG}\")\n",
    "spark.sql(f\"USE {SCHEMA}\")\n",
    "\n",
    "silver = spark.table(SILVER)\n",
    "\n",
    "# Ensure Event_Date exists for dimensionality\n",
    "silver = silver.withColumn(\"Event_Date\", F.to_date(\"Event_Timestamp\"))\n",
    "\n",
    "# ==========================\n",
    "# DIMENSIONS\n",
    "# ==========================\n",
    "\n",
    "# dim_date\n",
    "m = F.month(\"Event_Date\")\n",
    "season_from_month = (\n",
    "    F.when(m.isNull(), F.lit(None).cast(\"string\"))\n",
    "     .when(m.isin(12,1,2), \"Winter\")\n",
    "     .when(m.isin(3,4,5), \"Spring\")\n",
    "     .when(m.isin(6,7,8), \"Summer\")\n",
    "     .otherwise(\"Fall\")\n",
    ")\n",
    "\n",
    "dim_date = (\n",
    "    silver\n",
    "      .select(\"Event_Date\")\n",
    "      .where(F.col(\"Event_Date\").isNotNull())\n",
    "      .distinct()\n",
    "      .withColumn(\"date_key\", F.date_format(\"Event_Date\", \"yyyyMMdd\").cast(\"int\"))\n",
    "      .withColumn(\"year\", F.year(\"Event_Date\"))\n",
    "      .withColumn(\"quarter\", F.quarter(\"Event_Date\"))\n",
    "      .withColumn(\"month\", F.month(\"Event_Date\"))\n",
    "      .withColumn(\"day\", F.dayofmonth(\"Event_Date\"))\n",
    "      .withColumn(\"week_of_year\", F.weekofyear(\"Event_Date\"))\n",
    "      .withColumn(\"day_name\", F.date_format(\"Event_Date\", \"EEEE\"))\n",
    "      .withColumn(\"month_name\", F.date_format(\"Event_Date\", \"MMMM\"))\n",
    "      .withColumn(\"is_weekend\", F.col(\"day_name\").isin(\"Saturday\",\"Sunday\"))\n",
    "      .withColumn(\"season\", season_from_month)\n",
    "      .select(\"date_key\",\"Event_Date\",\"year\",\"quarter\",\"month\",\"day\",\"week_of_year\",\"day_name\",\"month_name\",\"is_weekend\",\"season\")\n",
    ")\n",
    "dim_date.write.mode(\"overwrite\").format(\"delta\").option(\"overwriteSchema\",\"true\").saveAsTable(f\"{CATALOG}.{SCHEMA}.dim_date\")\n",
    "\n",
    "# dim_product\n",
    "dim_product = (\n",
    "    silver\n",
    "      .select(F.explode_outer(\"Product_Array\").alias(\"product_name\"))\n",
    "      .where(F.col(\"product_name\").isNotNull() & (F.col(\"product_name\") != \"\"))\n",
    "      .distinct()\n",
    "      .withColumn(\"product_key\", F.md5(F.lower(F.col(\"product_name\"))))\n",
    "      .select(\"product_key\",\"product_name\")\n",
    ")\n",
    "dim_product.write.mode(\"overwrite\").format(\"delta\").option(\"overwriteSchema\",\"true\").saveAsTable(f\"{CATALOG}.{SCHEMA}.dim_product\")\n",
    "\n",
    "# dim_store\n",
    "dim_store = (\n",
    "    silver\n",
    "      .select(\n",
    "          F.initcap(F.col(\"City\")).alias(\"city\"),\n",
    "          F.initcap(F.col(\"Store_Type\")).alias(\"store_type\")\n",
    "      )\n",
    "      .where(F.col(\"city\").isNotNull() & F.col(\"store_type\").isNotNull())\n",
    "      .distinct()\n",
    "      .withColumn(\"store_key\", F.md5(F.lower(F.concat_ws(\"|\", \"city\", \"store_type\"))))\n",
    "      .select(\"store_key\",\"city\",\"store_type\")\n",
    ")\n",
    "dim_store.write.mode(\"overwrite\").format(\"delta\").option(\"overwriteSchema\",\"true\").saveAsTable(f\"{CATALOG}.{SCHEMA}.dim_store\")\n",
    "\n",
    "# dim_customer\n",
    "dim_customer = (\n",
    "    silver\n",
    "      .select(\n",
    "          F.col(\"Customer_Name\").alias(\"customer_name\"),\n",
    "          F.initcap(F.col(\"Customer_Category\")).alias(\"customer_category\")\n",
    "      )\n",
    "      .where(F.col(\"customer_name\").isNotNull())\n",
    "      .distinct()\n",
    "      .withColumn(\"customer_key\", F.md5(F.lower(F.concat_ws(\"|\", \"customer_name\", \"customer_category\"))))\n",
    "      .select(\"customer_key\",\"customer_name\",\"customer_category\")\n",
    ")\n",
    "dim_customer.write.mode(\"overwrite\").format(\"delta\").option(\"overwriteSchema\",\"true\").saveAsTable(f\"{CATALOG}.{SCHEMA}.dim_customer\")\n",
    "\n",
    "# dim_promotion\n",
    "dim_promotion = (\n",
    "    silver\n",
    "      .select(\n",
    "          F.when(F.lower(\"Promotion\").rlike(r\"^(none|na|n/a|null|no promo)$\"), F.lit(\"None\"))\n",
    "           .otherwise(F.col(\"Promotion\")).alias(\"promotion\"),\n",
    "          F.col(\"Discount_Applied\").alias(\"discount_applied\")\n",
    "      )\n",
    "      .distinct()\n",
    "      .withColumn(\"promotion_key\",\n",
    "                  F.md5(F.lower(F.concat_ws(\"|\",\n",
    "                                            \"promotion\",\n",
    "                                            F.coalesce(F.col(\"discount_applied\").cast(\"string\"), F.lit(\"null\"))))))\n",
    "      .select(\"promotion_key\",\"promotion\",\"discount_applied\")\n",
    ")\n",
    "dim_promotion.write.mode(\"overwrite\").format(\"delta\").option(\"overwriteSchema\",\"true\").saveAsTable(f\"{CATALOG}.{SCHEMA}.dim_promotion\")\n",
    "\n",
    "# ==========================\n",
    "# FACT (NO line_amount)\n",
    "# ==========================\n",
    "\n",
    "# We only keep rows where product_name is present to represent a product sale line\n",
    "fact = (\n",
    "    silver\n",
    "      .where(F.col(\"Event_Date\").isNotNull())\n",
    "      .select(\n",
    "          F.col(\"Transaction_ID\").alias(\"transaction_id\"),\n",
    "          F.col(\"Event_Timestamp\"),\n",
    "          F.col(\"Event_Date\"),\n",
    "          F.initcap(F.col(\"City\")).alias(\"City\"),\n",
    "          F.initcap(F.col(\"Store_Type\")).alias(\"Store_Type\"),\n",
    "          F.col(\"Customer_Name\"),\n",
    "          F.initcap(F.col(\"Customer_Category\")).alias(\"Customer_Category\"),\n",
    "          F.col(\"Promotion\"),\n",
    "          F.col(\"Discount_Applied\"),\n",
    "          F.col(\"Payment_Method\"),\n",
    "          F.explode_outer(\"Product_Array\").alias(\"product_name\")\n",
    "      )\n",
    "      .where(F.col(\"product_name\").isNotNull() & (F.col(\"product_name\") != \"\"))\n",
    "      .withColumn(\"date_key\", F.date_format(\"Event_Date\",\"yyyyMMdd\").cast(\"int\"))\n",
    "      .withColumn(\"product_key\", F.md5(F.lower(F.col(\"product_name\"))))\n",
    "      .withColumn(\"store_key\", F.md5(F.lower(F.concat_ws(\"|\", F.col(\"City\"), F.col(\"Store_Type\")))))\n",
    "      .withColumn(\"customer_key\", F.md5(F.lower(F.concat_ws(\"|\", \"Customer_Name\", \"Customer_Category\"))))\n",
    "      .withColumn(\"promotion_norm\",\n",
    "                  F.when(F.lower(\"Promotion\").rlike(r\"^(none|na|n/a|null|no promo)$\"), F.lit(\"None\"))\n",
    "                   .otherwise(F.col(\"Promotion\")))\n",
    "      .withColumn(\"promotion_key\",\n",
    "                  F.md5(F.lower(F.concat_ws(\"|\",\n",
    "                                            \"promotion_norm\",\n",
    "                                            F.coalesce(F.col(\"Discount_Applied\").cast(\"string\"), F.lit(\"null\"))))))\n",
    "      .withColumn(\"quantity\", F.lit(1))\n",
    "      .select(\n",
    "          \"transaction_id\",\"date_key\",\"product_key\",\"store_key\",\"customer_key\",\"promotion_key\",\n",
    "          \"quantity\",\n",
    "          \"Event_Timestamp\",\"Payment_Method\",\"Discount_Applied\"\n",
    "      )\n",
    ")\n",
    "\n",
    "fact.write.mode(\"overwrite\").format(\"delta\").option(\"overwriteSchema\",\"true\").saveAsTable(f\"{CATALOG}.{SCHEMA}.fact_sales\")\n",
    "\n",
    "print(\"Gold star schema created/updated WITHOUT line_amount:\")\n",
    "print(f\" - {CATALOG}.{SCHEMA}.dim_date\")\n",
    "print(f\" - {CATALOG}.{SCHEMA}.dim_product\")\n",
    "print(f\" - {CATALOG}.{SCHEMA}.dim_store\")\n",
    "print(f\" - {CATALOG}.{SCHEMA}.dim_customer\")\n",
    "print(f\" - {CATALOG}.{SCHEMA}.dim_promotion\")\n",
    "print(f\" - {CATALOG}.{SCHEMA}.fact_sales\")\n",
    "\n",
    "# Quick sanity checks\n",
    "display(spark.table(f\"{CATALOG}.{SCHEMA}.dim_date\").orderBy(\"Event_Date\").limit(10))\n",
    "display(spark.table(f\"{CATALOG}.{SCHEMA}.dim_product\").limit(10))\n",
    "display(spark.table(f\"{CATALOG}.{SCHEMA}.dim_store\").limit(10))\n",
    "display(spark.table(f\"{CATALOG}.{SCHEMA}.dim_customer\").limit(10))\n",
    "display(spark.table(f\"{CATALOG}.{SCHEMA}.dim_promotion\").limit(10))\n",
    "display(spark.table(f\"{CATALOG}.{SCHEMA}.fact_sales\").limit(20))\n"
   ]
  },
  {
   "cell_type": "code",
   "execution_count": 0,
   "metadata": {
    "application/vnd.databricks.v1+cell": {
     "cellMetadata": {
      "byteLimit": 2048000,
      "rowLimit": 10000
     },
     "inputWidgets": {},
     "nuid": "754caabe-3e0e-4fed-a011-d7e0026527e5",
     "showTitle": false,
     "tableResultSettingsMap": {},
     "title": ""
    }
   },
   "outputs": [
    {
     "output_type": "stream",
     "name": "stdout",
     "output_type": "stream",
     "text": [
      "Gold aggregate created: gold_daily_product_demand\n"
     ]
    },
    {
     "output_type": "display_data",
     "data": {
      "text/html": [
       "<style scoped>\n",
       "  .table-result-container {\n",
       "    max-height: 300px;\n",
       "    overflow: auto;\n",
       "  }\n",
       "  table, th, td {\n",
       "    border: 1px solid black;\n",
       "    border-collapse: collapse;\n",
       "  }\n",
       "  th, td {\n",
       "    padding: 5px;\n",
       "  }\n",
       "  th {\n",
       "    text-align: left;\n",
       "  }\n",
       "</style><div class='table-result-container'><table class='table-result'><thead style='background-color: white'><tr><th>date_key</th><th>product_key</th><th>product_name</th><th>total_quantity</th><th>Event_Date</th></tr></thead><tbody><tr><td>20200101</td><td>e80f9290d4767ae136c9c44e5a2c6ffc</td><td>Air Freshener</td><td>21</td><td>2020-01-01</td></tr><tr><td>20200101</td><td>1f3870be274f6c49b3e31a0c6728957f</td><td>Apple</td><td>26</td><td>2020-01-01</td></tr><tr><td>20200101</td><td>ccd5280da762316e6587b75669341f5b</td><td>BBQ Sauce</td><td>25</td><td>2020-01-01</td></tr><tr><td>20200101</td><td>2a92a853a070ee65ee84c2628b4f25fa</td><td>Baby Wipes</td><td>21</td><td>2020-01-01</td></tr><tr><td>20200101</td><td>72b302bf297a228a75730123efef7c41</td><td>Banana</td><td>24</td><td>2020-01-01</td></tr><tr><td>20200101</td><td>1412835889f85cf13d127fe1b69bc046</td><td>Bath Towels</td><td>24</td><td>2020-01-01</td></tr><tr><td>20200101</td><td>34902903de8d4fee8e6afe868982f0dd</td><td>Beef</td><td>19</td><td>2020-01-01</td></tr><tr><td>20200101</td><td>dba7b12a19fe9d49fbb53d65c49bbce6</td><td>Bread</td><td>18</td><td>2020-01-01</td></tr><tr><td>20200101</td><td>5bfab488f433de37ce0c779dcf2074cb</td><td>Broom</td><td>20</td><td>2020-01-01</td></tr><tr><td>20200101</td><td>d74fdde2944f475adc4a85e349d4ee7b</td><td>Butter</td><td>19</td><td>2020-01-01</td></tr><tr><td>20200101</td><td>1c9dad72560630eea5c0fd2128dbd58b</td><td>Canned Soup</td><td>18</td><td>2020-01-01</td></tr><tr><td>20200101</td><td>186a8b72fe696268c330f725f52be9ff</td><td>Carrots</td><td>24</td><td>2020-01-01</td></tr><tr><td>20200101</td><td>42a1751fa85f0a5024720bd40f350ba3</td><td>Cereal</td><td>27</td><td>2020-01-01</td></tr><tr><td>20200101</td><td>a2ec80d0f293d905a85479b63eb7b914</td><td>Cereal Bars</td><td>28</td><td>2020-01-01</td></tr><tr><td>20200101</td><td>fea0f1f6fede90bd0a925b4194deac11</td><td>Cheese</td><td>25</td><td>2020-01-01</td></tr><tr><td>20200101</td><td>742929dcb631403d7c1c1efad2ca2700</td><td>Chicken</td><td>25</td><td>2020-01-01</td></tr><tr><td>20200101</td><td>19136e394ab695f9b071eb24e88ab14d</td><td>Chips</td><td>22</td><td>2020-01-01</td></tr><tr><td>20200101</td><td>2a630e71e11d9ed6f19f49ee50596f2f</td><td>Cleaning Rags</td><td>15</td><td>2020-01-01</td></tr><tr><td>20200101</td><td>4709a79ce8864bde864a013154048915</td><td>Cleaning Spray</td><td>23</td><td>2020-01-01</td></tr><tr><td>20200101</td><td>24eb05d18318ac2db8b2b959315d10f2</td><td>Coffee</td><td>17</td><td>2020-01-01</td></tr></tbody></table></div>"
      ]
     },
     "metadata": {
      "application/vnd.databricks.v1+output": {
       "addedWidgets": {},
       "aggData": [],
       "aggError": "",
       "aggOverflow": false,
       "aggSchema": [],
       "aggSeriesLimitReached": false,
       "aggType": "",
       "arguments": {},
       "columnCustomDisplayInfos": {},
       "data": [
        [
         20200101,
         "e80f9290d4767ae136c9c44e5a2c6ffc",
         "Air Freshener",
         21,
         "2020-01-01"
        ],
        [
         20200101,
         "1f3870be274f6c49b3e31a0c6728957f",
         "Apple",
         26,
         "2020-01-01"
        ],
        [
         20200101,
         "ccd5280da762316e6587b75669341f5b",
         "BBQ Sauce",
         25,
         "2020-01-01"
        ],
        [
         20200101,
         "2a92a853a070ee65ee84c2628b4f25fa",
         "Baby Wipes",
         21,
         "2020-01-01"
        ],
        [
         20200101,
         "72b302bf297a228a75730123efef7c41",
         "Banana",
         24,
         "2020-01-01"
        ],
        [
         20200101,
         "1412835889f85cf13d127fe1b69bc046",
         "Bath Towels",
         24,
         "2020-01-01"
        ],
        [
         20200101,
         "34902903de8d4fee8e6afe868982f0dd",
         "Beef",
         19,
         "2020-01-01"
        ],
        [
         20200101,
         "dba7b12a19fe9d49fbb53d65c49bbce6",
         "Bread",
         18,
         "2020-01-01"
        ],
        [
         20200101,
         "5bfab488f433de37ce0c779dcf2074cb",
         "Broom",
         20,
         "2020-01-01"
        ],
        [
         20200101,
         "d74fdde2944f475adc4a85e349d4ee7b",
         "Butter",
         19,
         "2020-01-01"
        ],
        [
         20200101,
         "1c9dad72560630eea5c0fd2128dbd58b",
         "Canned Soup",
         18,
         "2020-01-01"
        ],
        [
         20200101,
         "186a8b72fe696268c330f725f52be9ff",
         "Carrots",
         24,
         "2020-01-01"
        ],
        [
         20200101,
         "42a1751fa85f0a5024720bd40f350ba3",
         "Cereal",
         27,
         "2020-01-01"
        ],
        [
         20200101,
         "a2ec80d0f293d905a85479b63eb7b914",
         "Cereal Bars",
         28,
         "2020-01-01"
        ],
        [
         20200101,
         "fea0f1f6fede90bd0a925b4194deac11",
         "Cheese",
         25,
         "2020-01-01"
        ],
        [
         20200101,
         "742929dcb631403d7c1c1efad2ca2700",
         "Chicken",
         25,
         "2020-01-01"
        ],
        [
         20200101,
         "19136e394ab695f9b071eb24e88ab14d",
         "Chips",
         22,
         "2020-01-01"
        ],
        [
         20200101,
         "2a630e71e11d9ed6f19f49ee50596f2f",
         "Cleaning Rags",
         15,
         "2020-01-01"
        ],
        [
         20200101,
         "4709a79ce8864bde864a013154048915",
         "Cleaning Spray",
         23,
         "2020-01-01"
        ],
        [
         20200101,
         "24eb05d18318ac2db8b2b959315d10f2",
         "Coffee",
         17,
         "2020-01-01"
        ]
       ],
       "datasetInfos": [],
       "dbfsResultPath": null,
       "isJsonSchema": true,
       "metadata": {},
       "overflow": false,
       "plotOptions": {
        "customPlotOptions": {},
        "displayType": "table",
        "pivotAggregation": null,
        "pivotColumns": null,
        "xColumns": null,
        "yColumns": null
       },
       "removedWidgets": [],
       "schema": [
        {
         "metadata": "{}",
         "name": "date_key",
         "type": "\"integer\""
        },
        {
         "metadata": "{}",
         "name": "product_key",
         "type": "\"string\""
        },
        {
         "metadata": "{}",
         "name": "product_name",
         "type": "\"string\""
        },
        {
         "metadata": "{}",
         "name": "total_quantity",
         "type": "\"long\""
        },
        {
         "metadata": "{}",
         "name": "Event_Date",
         "type": "\"date\""
        }
       ],
       "type": "table"
      }
     },
     "output_type": "display_data"
    }
   ],
   "source": [
    "# STEP 7: Create daily product demand aggregate for forecasting\n",
    "\n",
    "from pyspark.sql import functions as F\n",
    "\n",
    "CATALOG = \"retail_demand_catalog\"\n",
    "SCHEMA  = \"retail_demand_schema\"\n",
    "FACT    = f\"{CATALOG}.{SCHEMA}.fact_sales\"\n",
    "DIM_PRODUCT = f\"{CATALOG}.{SCHEMA}.dim_product\"\n",
    "\n",
    "spark.sql(f\"USE CATALOG {CATALOG}\")\n",
    "spark.sql(f\"USE {SCHEMA}\")\n",
    "\n",
    "fact = spark.table(FACT)\n",
    "dim_product = spark.table(DIM_PRODUCT)\n",
    "\n",
    "# Join to get product_name for readability\n",
    "fact_with_product = fact.join(dim_product, \"product_key\", \"left\")\n",
    "\n",
    "# Aggregate: daily product demand\n",
    "daily_product_demand = (\n",
    "    fact_with_product\n",
    "      .groupBy(\"date_key\", \"product_key\", \"product_name\")\n",
    "      .agg(F.sum(\"quantity\").alias(\"total_quantity\"))\n",
    "      .withColumn(\"Event_Date\", F.to_date(F.col(\"date_key\").cast(\"string\"), \"yyyyMMdd\"))\n",
    "      .orderBy(\"Event_Date\", \"product_name\")\n",
    ")\n",
    "\n",
    "# Save as Gold table\n",
    "daily_product_demand.write.mode(\"overwrite\").format(\"delta\").option(\"overwriteSchema\",\"true\").saveAsTable(f\"{CATALOG}.{SCHEMA}.gold_daily_product_demand\")\n",
    "\n",
    "print(\"Gold aggregate created: gold_daily_product_demand\")\n",
    "display(spark.table(f\"{CATALOG}.{SCHEMA}.gold_daily_product_demand\").limit(20))\n"
   ]
  },
  {
   "cell_type": "code",
   "execution_count": 0,
   "metadata": {
    "application/vnd.databricks.v1+cell": {
     "cellMetadata": {
      "byteLimit": 2048000,
      "rowLimit": 10000
     },
     "inputWidgets": {},
     "nuid": "f4034966-d272-410f-9989-ab2b8892e3d7",
     "showTitle": false,
     "tableResultSettingsMap": {},
     "title": ""
    }
   },
   "outputs": [
    {
     "output_type": "stream",
     "name": "stderr",
     "output_type": "stream",
     "text": [
      "/databricks/python/lib/python3.12/site-packages/pyspark/sql/connect/expressions.py:1061: UserWarning: WARN WindowExpression: No Partition Defined for Window operation! Moving all data to a single partition, this can cause serious performance degradation.\n  warnings.warn(\n"
     ]
    },
    {
     "output_type": "display_data",
     "data": {
      "text/html": [
       "<html>\n",
       "<head><meta charset=\"utf-8\" /></head>\n",
       "<body>\n",
       "    <div>                        <script type=\"text/javascript\">window.PlotlyConfig = {MathJaxConfig: 'local'};</script>\n",
       "        <script charset=\"utf-8\" src=\"https://cdn.plot.ly/plotly-2.32.0.min.js\"></script>                <div id=\"c6cd88a8-1e5f-454b-b52d-1f9f26a01e3e\" class=\"plotly-graph-div\" style=\"height:100%; width:100%;\"></div>            <script type=\"text/javascript\">                                    window.PLOTLYENV=window.PLOTLYENV || {};                                    if (document.getElementById(\"c6cd88a8-1e5f-454b-b52d-1f9f26a01e3e\")) {                    Plotly.newPlot(                        \"c6cd88a8-1e5f-454b-b52d-1f9f26a01e3e\",                        [{\"hovertemplate\":\"Series=total_quantity\\u003cbr\\u003eDate=%{x}\\u003cbr\\u003eQuantity=%{y}\\u003cextra\\u003e\\u003c\\u002fextra\\u003e\",\"legendgroup\":\"total_quantity\",\"line\":{\"color\":\"#636efa\",\"dash\":\"solid\"},\"marker\":{\"symbol\":\"circle\"},\"mode\":\"lines\",\"name\":\"total_quantity\",\"showlegend\":true,\"x\":[\"2020-01-01\",\"2020-01-02\",\"2020-01-03\",\"2020-01-04\",\"2020-01-05\",\"2020-01-06\",\"2020-01-07\",\"2020-01-08\",\"2020-01-09\",\"2020-01-10\",\"2020-01-11\",\"2020-01-12\",\"2020-01-13\",\"2020-01-14\",\"2020-01-15\",\"2020-01-16\",\"2020-01-17\",\"2020-01-18\",\"2020-01-19\",\"2020-01-20\",\"2020-01-21\",\"2020-01-22\",\"2020-01-23\",\"2020-01-24\",\"2020-01-25\",\"2020-01-26\",\"2020-01-27\",\"2020-01-28\",\"2020-01-29\",\"2020-01-30\",\"2020-01-31\",\"2020-02-01\",\"2020-02-02\",\"2020-02-03\",\"2020-02-04\",\"2020-02-05\",\"2020-02-06\",\"2020-02-07\",\"2020-02-08\",\"2020-02-09\",\"2020-02-10\",\"2020-02-11\",\"2020-02-12\",\"2020-02-13\",\"2020-02-14\",\"2020-02-15\",\"2020-02-16\",\"2020-02-17\",\"2020-02-18\",\"2020-02-19\",\"2020-02-20\",\"2020-02-21\",\"2020-02-22\",\"2020-02-23\",\"2020-02-24\",\"2020-02-25\",\"2020-02-26\",\"2020-02-27\",\"2020-02-28\",\"2020-02-29\",\"2020-03-01\",\"2020-03-02\",\"2020-03-03\",\"2020-03-04\",\"2020-03-05\",\"2020-03-06\",\"2020-03-07\",\"2020-03-08\",\"2020-03-09\",\"2020-03-10\",\"2020-03-11\",\"2020-03-12\",\"2020-03-13\",\"2020-03-14\",\"2020-03-15\",\"2020-03-16\",\"2020-03-17\",\"2020-03-18\",\"2020-03-19\",\"2020-03-20\",\"2020-03-21\",\"2020-03-22\",\"2020-03-23\",\"2020-03-24\",\"2020-03-25\",\"2020-03-26\",\"2020-03-27\",\"2020-03-28\",\"2020-03-29\",\"2020-03-30\",\"2020-03-31\",\"2020-04-01\",\"2020-04-02\",\"2020-04-03\",\"2020-04-04\",\"2020-04-05\",\"2020-04-06\",\"2020-04-07\",\"2020-04-08\",\"2020-04-09\",\"2020-04-10\",\"2020-04-11\",\"2020-04-12\",\"2020-04-13\",\"2020-04-14\",\"2020-04-15\",\"2020-04-16\",\"2020-04-17\",\"2020-04-18\",\"2020-04-19\",\"2020-04-20\",\"2020-04-21\",\"2020-04-22\",\"2020-04-23\",\"2020-04-24\",\"2020-04-25\",\"2020-04-26\",\"2020-04-27\",\"2020-04-28\",\"2020-04-29\",\"2020-04-30\",\"2020-05-01\",\"2020-05-02\",\"2020-05-03\",\"2020-05-04\",\"2020-05-05\",\"2020-05-06\",\"2020-05-07\",\"2020-05-08\",\"2020-05-09\",\"2020-05-10\",\"2020-05-11\",\"2020-05-12\",\"2020-05-13\",\"2020-05-14\",\"2020-05-15\",\"2020-05-16\",\"2020-05-17\",\"2020-05-18\",\"2020-05-19\",\"2020-05-20\",\"2020-05-21\",\"2020-05-22\",\"2020-05-23\",\"2020-05-24\",\"2020-05-25\",\"2020-05-26\",\"2020-05-27\",\"2020-05-28\",\"2020-05-29\",\"2020-05-30\",\"2020-05-31\",\"2020-06-01\",\"2020-06-02\",\"2020-06-03\",\"2020-06-04\",\"2020-06-05\",\"2020-06-06\",\"2020-06-07\",\"2020-06-08\",\"2020-06-09\",\"2020-06-10\",\"2020-06-11\",\"2020-06-12\",\"2020-06-13\",\"2020-06-14\",\"2020-06-15\",\"2020-06-16\",\"2020-06-17\",\"2020-06-18\",\"2020-06-19\",\"2020-06-20\",\"2020-06-21\",\"2020-06-22\",\"2020-06-23\",\"2020-06-24\",\"2020-06-25\",\"2020-06-26\",\"2020-06-27\",\"2020-06-28\",\"2020-06-29\",\"2020-06-30\",\"2020-07-01\",\"2020-07-02\",\"2020-07-03\",\"2020-07-04\",\"2020-07-05\",\"2020-07-06\",\"2020-07-07\",\"2020-07-08\",\"2020-07-09\",\"2020-07-10\",\"2020-07-11\",\"2020-07-12\",\"2020-07-13\",\"2020-07-14\",\"2020-07-15\",\"2020-07-16\",\"2020-07-17\",\"2020-07-18\",\"2020-07-19\",\"2020-07-20\",\"2020-07-21\",\"2020-07-22\",\"2020-07-23\",\"2020-07-24\",\"2020-07-25\",\"2020-07-26\",\"2020-07-27\",\"2020-07-28\",\"2020-07-29\",\"2020-07-30\",\"2020-07-31\",\"2020-08-01\",\"2020-08-02\",\"2020-08-03\",\"2020-08-04\",\"2020-08-05\",\"2020-08-06\",\"2020-08-07\",\"2020-08-08\",\"2020-08-09\",\"2020-08-10\",\"2020-08-11\",\"2020-08-12\",\"2020-08-13\",\"2020-08-14\",\"2020-08-15\",\"2020-08-16\",\"2020-08-17\",\"2020-08-18\",\"2020-08-19\",\"2020-08-20\",\"2020-08-21\",\"2020-08-22\",\"2020-08-23\",\"2020-08-24\",\"2020-08-25\",\"2020-08-26\",\"2020-08-27\",\"2020-08-28\",\"2020-08-29\",\"2020-08-30\",\"2020-08-31\",\"2020-09-01\",\"2020-09-02\",\"2020-09-03\",\"2020-09-04\",\"2020-09-05\",\"2020-09-06\",\"2020-09-07\",\"2020-09-08\",\"2020-09-09\",\"2020-09-10\",\"2020-09-11\",\"2020-09-12\",\"2020-09-13\",\"2020-09-14\",\"2020-09-15\",\"2020-09-16\",\"2020-09-17\",\"2020-09-18\",\"2020-09-19\",\"2020-09-20\",\"2020-09-21\",\"2020-09-22\",\"2020-09-23\",\"2020-09-24\",\"2020-09-25\",\"2020-09-26\",\"2020-09-27\",\"2020-09-28\",\"2020-09-29\",\"2020-09-30\",\"2020-10-01\",\"2020-10-02\",\"2020-10-03\",\"2020-10-04\",\"2020-10-05\",\"2020-10-06\",\"2020-10-07\",\"2020-10-08\",\"2020-10-09\",\"2020-10-10\",\"2020-10-11\",\"2020-10-12\",\"2020-10-13\",\"2020-10-14\",\"2020-10-15\",\"2020-10-16\",\"2020-10-17\",\"2020-10-18\",\"2020-10-19\",\"2020-10-20\",\"2020-10-21\",\"2020-10-22\",\"2020-10-23\",\"2020-10-24\",\"2020-10-25\",\"2020-10-26\",\"2020-10-27\",\"2020-10-28\",\"2020-10-29\",\"2020-10-30\",\"2020-10-31\",\"2020-11-01\",\"2020-11-02\",\"2020-11-03\",\"2020-11-04\",\"2020-11-05\",\"2020-11-06\",\"2020-11-07\",\"2020-11-08\",\"2020-11-09\",\"2020-11-10\",\"2020-11-11\",\"2020-11-12\",\"2020-11-13\",\"2020-11-14\",\"2020-11-15\",\"2020-11-16\",\"2020-11-17\",\"2020-11-18\",\"2020-11-19\",\"2020-11-20\",\"2020-11-21\",\"2020-11-22\",\"2020-11-23\",\"2020-11-24\",\"2020-11-25\",\"2020-11-26\",\"2020-11-27\",\"2020-11-28\",\"2020-11-29\",\"2020-11-30\",\"2020-12-01\",\"2020-12-02\",\"2020-12-03\",\"2020-12-04\",\"2020-12-05\",\"2020-12-06\",\"2020-12-07\",\"2020-12-08\",\"2020-12-09\",\"2020-12-10\",\"2020-12-11\",\"2020-12-12\",\"2020-12-13\",\"2020-12-14\",\"2020-12-15\",\"2020-12-16\",\"2020-12-17\",\"2020-12-18\",\"2020-12-19\",\"2020-12-20\",\"2020-12-21\",\"2020-12-22\",\"2020-12-23\",\"2020-12-24\",\"2020-12-25\",\"2020-12-26\",\"2020-12-27\",\"2020-12-28\",\"2020-12-29\",\"2020-12-30\",\"2020-12-31\",\"2021-01-01\",\"2021-01-02\",\"2021-01-03\",\"2021-01-04\",\"2021-01-05\",\"2021-01-06\",\"2021-01-07\",\"2021-01-08\",\"2021-01-09\",\"2021-01-10\",\"2021-01-11\",\"2021-01-12\",\"2021-01-13\",\"2021-01-14\",\"2021-01-15\",\"2021-01-16\",\"2021-01-17\",\"2021-01-18\",\"2021-01-19\",\"2021-01-20\",\"2021-01-21\",\"2021-01-22\",\"2021-01-23\",\"2021-01-24\",\"2021-01-25\",\"2021-01-26\",\"2021-01-27\",\"2021-01-28\",\"2021-01-29\",\"2021-01-30\",\"2021-01-31\",\"2021-02-01\",\"2021-02-02\",\"2021-02-03\",\"2021-02-04\",\"2021-02-05\",\"2021-02-06\",\"2021-02-07\",\"2021-02-08\",\"2021-02-09\",\"2021-02-10\",\"2021-02-11\",\"2021-02-12\",\"2021-02-13\",\"2021-02-14\",\"2021-02-15\",\"2021-02-16\",\"2021-02-17\",\"2021-02-18\",\"2021-02-19\",\"2021-02-20\",\"2021-02-21\",\"2021-02-22\",\"2021-02-23\",\"2021-02-24\",\"2021-02-25\",\"2021-02-26\",\"2021-02-27\",\"2021-02-28\",\"2021-03-01\",\"2021-03-02\",\"2021-03-03\",\"2021-03-04\",\"2021-03-05\",\"2021-03-06\",\"2021-03-07\",\"2021-03-08\",\"2021-03-09\",\"2021-03-10\",\"2021-03-11\",\"2021-03-12\",\"2021-03-13\",\"2021-03-14\",\"2021-03-15\",\"2021-03-16\",\"2021-03-17\",\"2021-03-18\",\"2021-03-19\",\"2021-03-20\",\"2021-03-21\",\"2021-03-22\",\"2021-03-23\",\"2021-03-24\",\"2021-03-25\",\"2021-03-26\",\"2021-03-27\",\"2021-03-28\",\"2021-03-29\",\"2021-03-30\",\"2021-03-31\",\"2021-04-01\",\"2021-04-02\",\"2021-04-03\",\"2021-04-04\",\"2021-04-05\",\"2021-04-06\",\"2021-04-07\",\"2021-04-08\",\"2021-04-09\",\"2021-04-10\",\"2021-04-11\",\"2021-04-12\",\"2021-04-13\",\"2021-04-14\",\"2021-04-15\",\"2021-04-16\",\"2021-04-17\",\"2021-04-18\",\"2021-04-19\",\"2021-04-20\",\"2021-04-21\",\"2021-04-22\",\"2021-04-23\",\"2021-04-24\",\"2021-04-25\",\"2021-04-26\",\"2021-04-27\",\"2021-04-28\",\"2021-04-29\",\"2021-04-30\",\"2021-05-01\",\"2021-05-02\",\"2021-05-03\",\"2021-05-04\",\"2021-05-05\",\"2021-05-06\",\"2021-05-07\",\"2021-05-08\",\"2021-05-09\",\"2021-05-10\",\"2021-05-11\",\"2021-05-12\",\"2021-05-13\",\"2021-05-14\",\"2021-05-15\",\"2021-05-16\",\"2021-05-17\",\"2021-05-18\",\"2021-05-19\",\"2021-05-20\",\"2021-05-21\",\"2021-05-22\",\"2021-05-23\",\"2021-05-24\",\"2021-05-25\",\"2021-05-26\",\"2021-05-27\",\"2021-05-28\",\"2021-05-29\",\"2021-05-30\",\"2021-05-31\",\"2021-06-01\",\"2021-06-02\",\"2021-06-03\",\"2021-06-04\",\"2021-06-05\",\"2021-06-06\",\"2021-06-07\",\"2021-06-08\",\"2021-06-09\",\"2021-06-10\",\"2021-06-11\",\"2021-06-12\",\"2021-06-13\",\"2021-06-14\",\"2021-06-15\",\"2021-06-16\",\"2021-06-17\",\"2021-06-18\",\"2021-06-19\",\"2021-06-20\",\"2021-06-21\",\"2021-06-22\",\"2021-06-23\",\"2021-06-24\",\"2021-06-25\",\"2021-06-26\",\"2021-06-27\",\"2021-06-28\",\"2021-06-29\",\"2021-06-30\",\"2021-07-01\",\"2021-07-02\",\"2021-07-03\",\"2021-07-04\",\"2021-07-05\",\"2021-07-06\",\"2021-07-07\",\"2021-07-08\",\"2021-07-09\",\"2021-07-10\",\"2021-07-11\",\"2021-07-12\",\"2021-07-13\",\"2021-07-14\",\"2021-07-15\",\"2021-07-16\",\"2021-07-17\",\"2021-07-18\",\"2021-07-19\",\"2021-07-20\",\"2021-07-21\",\"2021-07-22\",\"2021-07-23\",\"2021-07-24\",\"2021-07-25\",\"2021-07-26\",\"2021-07-27\",\"2021-07-28\",\"2021-07-29\",\"2021-07-30\",\"2021-07-31\",\"2021-08-01\",\"2021-08-02\",\"2021-08-03\",\"2021-08-04\",\"2021-08-05\",\"2021-08-06\",\"2021-08-07\",\"2021-08-08\",\"2021-08-09\",\"2021-08-10\",\"2021-08-11\",\"2021-08-12\",\"2021-08-13\",\"2021-08-14\",\"2021-08-15\",\"2021-08-16\",\"2021-08-17\",\"2021-08-18\",\"2021-08-19\",\"2021-08-20\",\"2021-08-21\",\"2021-08-22\",\"2021-08-23\",\"2021-08-24\",\"2021-08-25\",\"2021-08-26\",\"2021-08-27\",\"2021-08-28\",\"2021-08-29\",\"2021-08-30\",\"2021-08-31\",\"2021-09-01\",\"2021-09-02\",\"2021-09-03\",\"2021-09-04\",\"2021-09-05\",\"2021-09-06\",\"2021-09-07\",\"2021-09-08\",\"2021-09-09\",\"2021-09-10\",\"2021-09-11\",\"2021-09-12\",\"2021-09-13\",\"2021-09-14\",\"2021-09-15\",\"2021-09-16\",\"2021-09-17\",\"2021-09-18\",\"2021-09-19\",\"2021-09-20\",\"2021-09-21\",\"2021-09-22\",\"2021-09-23\",\"2021-09-24\",\"2021-09-25\",\"2021-09-26\",\"2021-09-27\",\"2021-09-28\",\"2021-09-29\",\"2021-09-30\",\"2021-10-01\",\"2021-10-02\",\"2021-10-03\",\"2021-10-04\",\"2021-10-05\",\"2021-10-06\",\"2021-10-07\",\"2021-10-08\",\"2021-10-09\",\"2021-10-10\",\"2021-10-11\",\"2021-10-12\",\"2021-10-13\",\"2021-10-14\",\"2021-10-15\",\"2021-10-16\",\"2021-10-17\",\"2021-10-18\",\"2021-10-19\",\"2021-10-20\",\"2021-10-21\",\"2021-10-22\",\"2021-10-23\",\"2021-10-24\",\"2021-10-25\",\"2021-10-26\",\"2021-10-27\",\"2021-10-28\",\"2021-10-29\",\"2021-10-30\",\"2021-10-31\",\"2021-11-01\",\"2021-11-02\",\"2021-11-03\",\"2021-11-04\",\"2021-11-05\",\"2021-11-06\",\"2021-11-07\",\"2021-11-08\",\"2021-11-09\",\"2021-11-10\",\"2021-11-11\",\"2021-11-12\",\"2021-11-13\",\"2021-11-14\",\"2021-11-15\",\"2021-11-16\",\"2021-11-17\",\"2021-11-18\",\"2021-11-19\",\"2021-11-20\",\"2021-11-21\",\"2021-11-22\",\"2021-11-23\",\"2021-11-24\",\"2021-11-25\",\"2021-11-26\",\"2021-11-27\",\"2021-11-28\",\"2021-11-29\",\"2021-11-30\",\"2021-12-01\",\"2021-12-02\",\"2021-12-03\",\"2021-12-04\",\"2021-12-05\",\"2021-12-06\",\"2021-12-07\",\"2021-12-08\",\"2021-12-09\",\"2021-12-10\",\"2021-12-11\",\"2021-12-12\",\"2021-12-13\",\"2021-12-14\",\"2021-12-15\",\"2021-12-16\",\"2021-12-17\",\"2021-12-18\",\"2021-12-19\",\"2021-12-20\",\"2021-12-21\",\"2021-12-22\",\"2021-12-23\",\"2021-12-24\",\"2021-12-25\",\"2021-12-26\",\"2021-12-27\",\"2021-12-28\",\"2021-12-29\",\"2021-12-30\",\"2021-12-31\",\"2022-01-01\",\"2022-01-02\",\"2022-01-03\",\"2022-01-04\",\"2022-01-05\",\"2022-01-06\",\"2022-01-07\",\"2022-01-08\",\"2022-01-09\",\"2022-01-10\",\"2022-01-11\",\"2022-01-12\",\"2022-01-13\",\"2022-01-14\",\"2022-01-15\",\"2022-01-16\",\"2022-01-17\",\"2022-01-18\",\"2022-01-19\",\"2022-01-20\",\"2022-01-21\",\"2022-01-22\",\"2022-01-23\",\"2022-01-24\",\"2022-01-25\",\"2022-01-26\",\"2022-01-27\",\"2022-01-28\",\"2022-01-29\",\"2022-01-30\",\"2022-01-31\",\"2022-02-01\",\"2022-02-02\",\"2022-02-03\",\"2022-02-04\",\"2022-02-05\",\"2022-02-06\",\"2022-02-07\",\"2022-02-08\",\"2022-02-09\",\"2022-02-10\",\"2022-02-11\",\"2022-02-12\",\"2022-02-13\",\"2022-02-14\",\"2022-02-15\",\"2022-02-16\",\"2022-02-17\",\"2022-02-18\",\"2022-02-19\",\"2022-02-20\",\"2022-02-21\",\"2022-02-22\",\"2022-02-23\",\"2022-02-24\",\"2022-02-25\",\"2022-02-26\",\"2022-02-27\",\"2022-02-28\",\"2022-03-01\",\"2022-03-02\",\"2022-03-03\",\"2022-03-04\",\"2022-03-05\",\"2022-03-06\",\"2022-03-07\",\"2022-03-08\",\"2022-03-09\",\"2022-03-10\",\"2022-03-11\",\"2022-03-12\",\"2022-03-13\",\"2022-03-14\",\"2022-03-15\",\"2022-03-16\",\"2022-03-17\",\"2022-03-18\",\"2022-03-19\",\"2022-03-20\",\"2022-03-21\",\"2022-03-22\",\"2022-03-23\",\"2022-03-24\",\"2022-03-25\",\"2022-03-26\",\"2022-03-27\",\"2022-03-28\",\"2022-03-29\",\"2022-03-30\",\"2022-03-31\",\"2022-04-01\",\"2022-04-02\",\"2022-04-03\",\"2022-04-04\",\"2022-04-05\",\"2022-04-06\",\"2022-04-07\",\"2022-04-08\",\"2022-04-09\",\"2022-04-10\",\"2022-04-11\",\"2022-04-12\",\"2022-04-13\",\"2022-04-14\",\"2022-04-15\",\"2022-04-16\",\"2022-04-17\",\"2022-04-18\",\"2022-04-19\",\"2022-04-20\",\"2022-04-21\",\"2022-04-22\",\"2022-04-23\",\"2022-04-24\",\"2022-04-25\",\"2022-04-26\",\"2022-04-27\",\"2022-04-28\",\"2022-04-29\",\"2022-04-30\",\"2022-05-01\",\"2022-05-02\",\"2022-05-03\",\"2022-05-04\",\"2022-05-05\",\"2022-05-06\",\"2022-05-07\",\"2022-05-08\",\"2022-05-09\",\"2022-05-10\",\"2022-05-11\",\"2022-05-12\",\"2022-05-13\",\"2022-05-14\",\"2022-05-15\",\"2022-05-16\",\"2022-05-17\",\"2022-05-18\",\"2022-05-19\",\"2022-05-20\",\"2022-05-21\",\"2022-05-22\",\"2022-05-23\",\"2022-05-24\",\"2022-05-25\",\"2022-05-26\",\"2022-05-27\",\"2022-05-28\",\"2022-05-29\",\"2022-05-30\",\"2022-05-31\",\"2022-06-01\",\"2022-06-02\",\"2022-06-03\",\"2022-06-04\",\"2022-06-05\",\"2022-06-06\",\"2022-06-07\",\"2022-06-08\",\"2022-06-09\",\"2022-06-10\",\"2022-06-11\",\"2022-06-12\",\"2022-06-13\",\"2022-06-14\",\"2022-06-15\",\"2022-06-16\",\"2022-06-17\",\"2022-06-18\",\"2022-06-19\",\"2022-06-20\",\"2022-06-21\",\"2022-06-22\",\"2022-06-23\",\"2022-06-24\",\"2022-06-25\",\"2022-06-26\",\"2022-06-27\",\"2022-06-28\",\"2022-06-29\",\"2022-06-30\",\"2022-07-01\",\"2022-07-02\",\"2022-07-03\",\"2022-07-04\",\"2022-07-05\",\"2022-07-06\",\"2022-07-07\",\"2022-07-08\",\"2022-07-09\",\"2022-07-10\",\"2022-07-11\",\"2022-07-12\",\"2022-07-13\",\"2022-07-14\",\"2022-07-15\",\"2022-07-16\",\"2022-07-17\",\"2022-07-18\",\"2022-07-19\",\"2022-07-20\",\"2022-07-21\",\"2022-07-22\",\"2022-07-23\",\"2022-07-24\",\"2022-07-25\",\"2022-07-26\",\"2022-07-27\",\"2022-07-28\",\"2022-07-29\",\"2022-07-30\",\"2022-07-31\",\"2022-08-01\",\"2022-08-02\",\"2022-08-03\",\"2022-08-04\",\"2022-08-05\",\"2022-08-06\",\"2022-08-07\",\"2022-08-08\",\"2022-08-09\",\"2022-08-10\",\"2022-08-11\",\"2022-08-12\",\"2022-08-13\",\"2022-08-14\",\"2022-08-15\",\"2022-08-16\",\"2022-08-17\",\"2022-08-18\",\"2022-08-19\",\"2022-08-20\",\"2022-08-21\",\"2022-08-22\",\"2022-08-23\",\"2022-08-24\",\"2022-08-25\",\"2022-08-26\",\"2022-08-27\",\"2022-08-28\",\"2022-08-29\",\"2022-08-30\",\"2022-08-31\",\"2022-09-01\",\"2022-09-02\",\"2022-09-03\",\"2022-09-04\",\"2022-09-05\",\"2022-09-06\",\"2022-09-07\",\"2022-09-08\",\"2022-09-09\",\"2022-09-10\",\"2022-09-11\",\"2022-09-12\",\"2022-09-13\",\"2022-09-14\",\"2022-09-15\",\"2022-09-16\",\"2022-09-17\",\"2022-09-18\",\"2022-09-19\",\"2022-09-20\",\"2022-09-21\",\"2022-09-22\",\"2022-09-23\",\"2022-09-24\",\"2022-09-25\",\"2022-09-26\",\"2022-09-27\",\"2022-09-28\",\"2022-09-29\",\"2022-09-30\",\"2022-10-01\",\"2022-10-02\",\"2022-10-03\",\"2022-10-04\",\"2022-10-05\",\"2022-10-06\",\"2022-10-07\",\"2022-10-08\",\"2022-10-09\",\"2022-10-10\",\"2022-10-11\",\"2022-10-12\",\"2022-10-13\",\"2022-10-14\",\"2022-10-15\",\"2022-10-16\",\"2022-10-17\",\"2022-10-18\",\"2022-10-19\",\"2022-10-20\",\"2022-10-21\",\"2022-10-22\",\"2022-10-23\",\"2022-10-24\",\"2022-10-25\",\"2022-10-26\",\"2022-10-27\",\"2022-10-28\",\"2022-10-29\",\"2022-10-30\",\"2022-10-31\",\"2022-11-01\",\"2022-11-02\",\"2022-11-03\",\"2022-11-04\",\"2022-11-05\",\"2022-11-06\",\"2022-11-07\",\"2022-11-08\",\"2022-11-09\",\"2022-11-10\",\"2022-11-11\",\"2022-11-12\",\"2022-11-13\",\"2022-11-14\",\"2022-11-15\",\"2022-11-16\",\"2022-11-17\",\"2022-11-18\",\"2022-11-19\",\"2022-11-20\",\"2022-11-21\",\"2022-11-22\",\"2022-11-23\",\"2022-11-24\",\"2022-11-25\",\"2022-11-26\",\"2022-11-27\",\"2022-11-28\",\"2022-11-29\",\"2022-11-30\",\"2022-12-01\",\"2022-12-02\",\"2022-12-03\",\"2022-12-04\",\"2022-12-05\",\"2022-12-06\",\"2022-12-07\",\"2022-12-08\",\"2022-12-09\",\"2022-12-10\",\"2022-12-11\",\"2022-12-12\",\"2022-12-13\",\"2022-12-14\",\"2022-12-15\",\"2022-12-16\",\"2022-12-17\",\"2022-12-18\",\"2022-12-19\",\"2022-12-20\",\"2022-12-21\",\"2022-12-22\",\"2022-12-23\",\"2022-12-24\",\"2022-12-25\",\"2022-12-26\",\"2022-12-27\",\"2022-12-28\",\"2022-12-29\",\"2022-12-30\",\"2022-12-31\",\"2023-01-01\",\"2023-01-02\",\"2023-01-03\",\"2023-01-04\",\"2023-01-05\",\"2023-01-06\",\"2023-01-07\",\"2023-01-08\",\"2023-01-09\",\"2023-01-10\",\"2023-01-11\",\"2023-01-12\",\"2023-01-13\",\"2023-01-14\",\"2023-01-15\",\"2023-01-16\",\"2023-01-17\",\"2023-01-18\",\"2023-01-19\",\"2023-01-20\",\"2023-01-21\",\"2023-01-22\",\"2023-01-23\",\"2023-01-24\",\"2023-01-25\",\"2023-01-26\",\"2023-01-27\",\"2023-01-28\",\"2023-01-29\",\"2023-01-30\",\"2023-01-31\",\"2023-02-01\",\"2023-02-02\",\"2023-02-03\",\"2023-02-04\",\"2023-02-05\",\"2023-02-06\",\"2023-02-07\",\"2023-02-08\",\"2023-02-09\",\"2023-02-10\",\"2023-02-11\",\"2023-02-12\",\"2023-02-13\",\"2023-02-14\",\"2023-02-15\",\"2023-02-16\",\"2023-02-17\",\"2023-02-18\",\"2023-02-19\",\"2023-02-20\",\"2023-02-21\",\"2023-02-22\",\"2023-02-23\",\"2023-02-24\",\"2023-02-25\",\"2023-02-26\",\"2023-02-27\",\"2023-02-28\",\"2023-03-01\",\"2023-03-02\",\"2023-03-03\",\"2023-03-04\",\"2023-03-05\",\"2023-03-06\",\"2023-03-07\",\"2023-03-08\",\"2023-03-09\",\"2023-03-10\",\"2023-03-11\",\"2023-03-12\",\"2023-03-13\",\"2023-03-14\",\"2023-03-15\",\"2023-03-16\",\"2023-03-17\",\"2023-03-18\",\"2023-03-19\",\"2023-03-20\",\"2023-03-21\",\"2023-03-22\",\"2023-03-23\",\"2023-03-24\",\"2023-03-25\",\"2023-03-26\",\"2023-03-27\",\"2023-03-28\",\"2023-03-29\",\"2023-03-30\",\"2023-03-31\",\"2023-04-01\",\"2023-04-02\",\"2023-04-03\",\"2023-04-04\",\"2023-04-05\",\"2023-04-06\",\"2023-04-07\",\"2023-04-08\",\"2023-04-09\",\"2023-04-10\",\"2023-04-11\",\"2023-04-12\",\"2023-04-13\",\"2023-04-14\",\"2023-04-15\",\"2023-04-16\",\"2023-04-17\",\"2023-04-18\",\"2023-04-19\",\"2023-04-20\",\"2023-04-21\",\"2023-04-22\",\"2023-04-23\",\"2023-04-24\",\"2023-04-25\",\"2023-04-26\",\"2023-04-27\",\"2023-04-28\",\"2023-04-29\",\"2023-04-30\",\"2023-05-01\",\"2023-05-02\",\"2023-05-03\",\"2023-05-04\",\"2023-05-05\",\"2023-05-06\",\"2023-05-07\",\"2023-05-08\",\"2023-05-09\",\"2023-05-10\",\"2023-05-11\",\"2023-05-12\",\"2023-05-13\",\"2023-05-14\",\"2023-05-15\",\"2023-05-16\",\"2023-05-17\",\"2023-05-18\",\"2023-05-19\",\"2023-05-20\",\"2023-05-21\",\"2023-05-22\",\"2023-05-23\",\"2023-05-24\",\"2023-05-25\",\"2023-05-26\",\"2023-05-27\",\"2023-05-28\",\"2023-05-29\",\"2023-05-30\",\"2023-05-31\",\"2023-06-01\",\"2023-06-02\",\"2023-06-03\",\"2023-06-04\",\"2023-06-05\",\"2023-06-06\",\"2023-06-07\",\"2023-06-08\",\"2023-06-09\",\"2023-06-10\",\"2023-06-11\",\"2023-06-12\",\"2023-06-13\",\"2023-06-14\",\"2023-06-15\",\"2023-06-16\",\"2023-06-17\",\"2023-06-18\",\"2023-06-19\",\"2023-06-20\",\"2023-06-21\",\"2023-06-22\",\"2023-06-23\",\"2023-06-24\",\"2023-06-25\",\"2023-06-26\",\"2023-06-27\",\"2023-06-28\",\"2023-06-29\",\"2023-06-30\",\"2023-07-01\",\"2023-07-02\",\"2023-07-03\",\"2023-07-04\",\"2023-07-05\",\"2023-07-06\",\"2023-07-07\",\"2023-07-08\",\"2023-07-09\",\"2023-07-10\",\"2023-07-11\",\"2023-07-12\",\"2023-07-13\",\"2023-07-14\",\"2023-07-15\",\"2023-07-16\",\"2023-07-17\",\"2023-07-18\",\"2023-07-19\",\"2023-07-20\",\"2023-07-21\",\"2023-07-22\",\"2023-07-23\",\"2023-07-24\",\"2023-07-25\",\"2023-07-26\",\"2023-07-27\",\"2023-07-28\",\"2023-07-29\",\"2023-07-30\",\"2023-07-31\",\"2023-08-01\",\"2023-08-02\",\"2023-08-03\",\"2023-08-04\",\"2023-08-05\",\"2023-08-06\",\"2023-08-07\",\"2023-08-08\",\"2023-08-09\",\"2023-08-10\",\"2023-08-11\",\"2023-08-12\",\"2023-08-13\",\"2023-08-14\",\"2023-08-15\",\"2023-08-16\",\"2023-08-17\",\"2023-08-18\",\"2023-08-19\",\"2023-08-20\",\"2023-08-21\",\"2023-08-22\",\"2023-08-23\",\"2023-08-24\",\"2023-08-25\",\"2023-08-26\",\"2023-08-27\",\"2023-08-28\",\"2023-08-29\",\"2023-08-30\",\"2023-08-31\",\"2023-09-01\",\"2023-09-02\",\"2023-09-03\",\"2023-09-04\",\"2023-09-05\",\"2023-09-06\",\"2023-09-07\",\"2023-09-08\",\"2023-09-09\",\"2023-09-10\",\"2023-09-11\",\"2023-09-12\",\"2023-09-13\",\"2023-09-14\",\"2023-09-15\",\"2023-09-16\",\"2023-09-17\",\"2023-09-18\",\"2023-09-19\",\"2023-09-20\",\"2023-09-21\",\"2023-09-22\",\"2023-09-23\",\"2023-09-24\",\"2023-09-25\",\"2023-09-26\",\"2023-09-27\",\"2023-09-28\",\"2023-09-29\",\"2023-09-30\",\"2023-10-01\",\"2023-10-02\",\"2023-10-03\",\"2023-10-04\",\"2023-10-05\",\"2023-10-06\",\"2023-10-07\",\"2023-10-08\",\"2023-10-09\",\"2023-10-10\",\"2023-10-11\",\"2023-10-12\",\"2023-10-13\",\"2023-10-14\",\"2023-10-15\",\"2023-10-16\",\"2023-10-17\",\"2023-10-18\",\"2023-10-19\",\"2023-10-20\",\"2023-10-21\",\"2023-10-22\",\"2023-10-23\",\"2023-10-24\",\"2023-10-25\",\"2023-10-26\",\"2023-10-27\",\"2023-10-28\",\"2023-10-29\",\"2023-10-30\",\"2023-10-31\",\"2023-11-01\",\"2023-11-02\",\"2023-11-03\",\"2023-11-04\",\"2023-11-05\",\"2023-11-06\",\"2023-11-07\",\"2023-11-08\",\"2023-11-09\",\"2023-11-10\",\"2023-11-11\",\"2023-11-12\",\"2023-11-13\",\"2023-11-14\",\"2023-11-15\",\"2023-11-16\",\"2023-11-17\",\"2023-11-18\",\"2023-11-19\",\"2023-11-20\",\"2023-11-21\",\"2023-11-22\",\"2023-11-23\",\"2023-11-24\",\"2023-11-25\",\"2023-11-26\",\"2023-11-27\",\"2023-11-28\",\"2023-11-29\",\"2023-11-30\",\"2023-12-01\",\"2023-12-02\",\"2023-12-03\",\"2023-12-04\",\"2023-12-05\",\"2023-12-06\",\"2023-12-07\",\"2023-12-08\",\"2023-12-09\",\"2023-12-10\",\"2023-12-11\",\"2023-12-12\",\"2023-12-13\",\"2023-12-14\",\"2023-12-15\",\"2023-12-16\",\"2023-12-17\",\"2023-12-18\",\"2023-12-19\",\"2023-12-20\",\"2023-12-21\",\"2023-12-22\",\"2023-12-23\",\"2023-12-24\",\"2023-12-25\",\"2023-12-26\",\"2023-12-27\",\"2023-12-28\",\"2023-12-29\",\"2023-12-30\",\"2023-12-31\",\"2024-01-01\",\"2024-01-02\",\"2024-01-03\",\"2024-01-04\",\"2024-01-05\",\"2024-01-06\",\"2024-01-07\",\"2024-01-08\",\"2024-01-09\",\"2024-01-10\",\"2024-01-11\",\"2024-01-12\",\"2024-01-13\",\"2024-01-14\",\"2024-01-15\",\"2024-01-16\",\"2024-01-17\",\"2024-01-18\",\"2024-01-19\",\"2024-01-20\",\"2024-01-21\",\"2024-01-22\",\"2024-01-23\",\"2024-01-24\",\"2024-01-25\",\"2024-01-26\",\"2024-01-27\",\"2024-01-28\",\"2024-01-29\",\"2024-01-30\",\"2024-01-31\",\"2024-02-01\",\"2024-02-02\",\"2024-02-03\",\"2024-02-04\",\"2024-02-05\",\"2024-02-06\",\"2024-02-07\",\"2024-02-08\",\"2024-02-09\",\"2024-02-10\",\"2024-02-11\",\"2024-02-12\",\"2024-02-13\",\"2024-02-14\",\"2024-02-15\",\"2024-02-16\",\"2024-02-17\",\"2024-02-18\",\"2024-02-19\",\"2024-02-20\",\"2024-02-21\",\"2024-02-22\",\"2024-02-23\",\"2024-02-24\",\"2024-02-25\",\"2024-02-26\",\"2024-02-27\",\"2024-02-28\",\"2024-02-29\",\"2024-03-01\",\"2024-03-02\",\"2024-03-03\",\"2024-03-04\",\"2024-03-05\",\"2024-03-06\",\"2024-03-07\",\"2024-03-08\",\"2024-03-09\",\"2024-03-10\",\"2024-03-11\",\"2024-03-12\",\"2024-03-13\",\"2024-03-14\",\"2024-03-15\",\"2024-03-16\",\"2024-03-17\",\"2024-03-18\",\"2024-03-19\",\"2024-03-20\",\"2024-03-21\",\"2024-03-22\",\"2024-03-23\",\"2024-03-24\",\"2024-03-25\",\"2024-03-26\",\"2024-03-27\",\"2024-03-28\",\"2024-03-29\",\"2024-03-30\",\"2024-03-31\",\"2024-04-01\",\"2024-04-02\",\"2024-04-03\",\"2024-04-04\",\"2024-04-05\",\"2024-04-06\",\"2024-04-07\",\"2024-04-08\",\"2024-04-09\",\"2024-04-10\",\"2024-04-11\",\"2024-04-12\",\"2024-04-13\",\"2024-04-14\",\"2024-04-15\",\"2024-04-16\",\"2024-04-17\",\"2024-04-18\",\"2024-04-19\",\"2024-04-20\",\"2024-04-21\",\"2024-04-22\",\"2024-04-23\",\"2024-04-24\",\"2024-04-25\",\"2024-04-26\",\"2024-04-27\",\"2024-04-28\",\"2024-04-29\",\"2024-04-30\",\"2024-05-01\",\"2024-05-02\",\"2024-05-03\",\"2024-05-04\",\"2024-05-05\",\"2024-05-06\",\"2024-05-07\",\"2024-05-08\",\"2024-05-09\",\"2024-05-10\",\"2024-05-11\",\"2024-05-12\",\"2024-05-13\",\"2024-05-14\",\"2024-05-15\",\"2024-05-16\",\"2024-05-17\",\"2024-05-18\"],\"xaxis\":\"x\",\"y\":[51.0,37.0,46.0,36.0,40.0,44.0,46.0,50.0,30.0,28.0,43.0,47.0,55.0,53.0,45.0,39.0,46.0,49.0,44.0,47.0,68.0,36.0,43.0,47.0,47.0,61.0,41.0,46.0,39.0,45.0,40.0,45.0,59.0,43.0,32.0,44.0,45.0,46.0,46.0,47.0,40.0,52.0,45.0,30.0,36.0,43.0,51.0,47.0,36.0,55.0,48.0,55.0,50.0,50.0,47.0,61.0,49.0,40.0,52.0,47.0,49.0,41.0,40.0,46.0,41.0,43.0,45.0,60.0,25.0,48.0,42.0,56.0,44.0,43.0,37.0,46.0,44.0,51.0,51.0,55.0,51.0,54.0,47.0,46.0,36.0,41.0,50.0,44.0,58.0,59.0,50.0,41.0,51.0,59.0,44.0,36.0,57.0,47.0,42.0,39.0,41.0,53.0,47.0,47.0,49.0,43.0,41.0,45.0,36.0,39.0,39.0,39.0,52.0,42.0,37.0,46.0,57.0,43.0,51.0,39.0,38.0,36.0,45.0,39.0,47.0,46.0,47.0,47.0,35.0,47.0,36.0,38.0,41.0,48.0,43.0,36.0,36.0,54.0,45.0,56.0,47.0,35.0,56.0,48.0,46.0,45.0,46.0,39.0,52.0,48.0,50.0,44.0,46.0,44.0,61.0,55.0,39.0,39.0,39.0,39.0,51.0,33.0,38.0,51.0,54.0,49.0,46.0,55.0,33.0,47.0,57.0,54.0,61.0,52.0,56.0,55.0,58.0,35.0,34.0,41.0,46.0,55.0,48.0,49.0,44.0,43.0,33.0,39.0,58.0,50.0,54.0,36.0,45.0,48.0,42.0,48.0,36.0,50.0,53.0,51.0,38.0,44.0,31.0,60.0,44.0,60.0,43.0,30.0,44.0,60.0,41.0,41.0,34.0,42.0,31.0,50.0,45.0,37.0,50.0,40.0,48.0,51.0,48.0,48.0,41.0,61.0,38.0,47.0,63.0,53.0,42.0,61.0,42.0,38.0,43.0,56.0,51.0,38.0,43.0,38.0,56.0,49.0,41.0,39.0,57.0,51.0,49.0,52.0,37.0,38.0,59.0,47.0,53.0,39.0,43.0,46.0,38.0,44.0,40.0,43.0,42.0,55.0,40.0,48.0,39.0,61.0,43.0,48.0,39.0,43.0,41.0,50.0,52.0,41.0,58.0,47.0,57.0,46.0,47.0,45.0,44.0,56.0,48.0,37.0,39.0,36.0,42.0,52.0,38.0,63.0,46.0,38.0,49.0,40.0,47.0,58.0,40.0,41.0,44.0,52.0,36.0,52.0,38.0,39.0,42.0,42.0,56.0,48.0,43.0,55.0,50.0,50.0,46.0,49.0,54.0,57.0,36.0,33.0,57.0,39.0,50.0,43.0,51.0,44.0,56.0,45.0,37.0,48.0,32.0,51.0,45.0,34.0,40.0,38.0,50.0,43.0,38.0,36.0,50.0,44.0,47.0,29.0,49.0,48.0,41.0,64.0,44.0,44.0,40.0,40.0,34.0,42.0,53.0,39.0,57.0,33.0,39.0,54.0,47.0,41.0,48.0,54.0,43.0,40.0,41.0,50.0,32.0,46.0,39.0,55.0,38.0,46.0,50.0,56.0,35.0,46.0,38.0,48.0,55.0,49.0,48.0,45.0,44.0,47.0,42.0,47.0,54.0,38.0,46.0,47.0,45.0,50.0,39.0,46.0,45.0,44.0,42.0,48.0,36.0,48.0,45.0,42.0,51.0,56.0,50.0,38.0,44.0,43.0,49.0,46.0,44.0,50.0,41.0,53.0,60.0,42.0,42.0,46.0,53.0,50.0,39.0,42.0,48.0,53.0,45.0,55.0,35.0,53.0,43.0,49.0,44.0,47.0,37.0,56.0,43.0,46.0,41.0,36.0,49.0,51.0,39.0,48.0,45.0,46.0,53.0,37.0,38.0,43.0,50.0,44.0,32.0,37.0,43.0,43.0,61.0,60.0,52.0,43.0,40.0,44.0,51.0,33.0,55.0,62.0,30.0,42.0,53.0,63.0,55.0,39.0,56.0,53.0,37.0,50.0,57.0,56.0,37.0,47.0,44.0,44.0,41.0,45.0,40.0,65.0,51.0,44.0,39.0,39.0,50.0,52.0,58.0,39.0,38.0,40.0,41.0,42.0,46.0,59.0,39.0,52.0,43.0,53.0,36.0,48.0,43.0,37.0,52.0,35.0,50.0,43.0,49.0,52.0,36.0,51.0,58.0,36.0,47.0,49.0,42.0,47.0,42.0,41.0,37.0,48.0,35.0,47.0,51.0,36.0,53.0,43.0,44.0,37.0,51.0,49.0,34.0,40.0,46.0,51.0,41.0,37.0,49.0,44.0,44.0,42.0,53.0,47.0,53.0,43.0,54.0,46.0,48.0,48.0,39.0,40.0,41.0,45.0,59.0,36.0,41.0,53.0,53.0,48.0,56.0,49.0,33.0,50.0,38.0,40.0,51.0,48.0,42.0,48.0,45.0,43.0,64.0,56.0,47.0,53.0,41.0,42.0,48.0,46.0,55.0,46.0,55.0,58.0,45.0,38.0,49.0,47.0,41.0,34.0,35.0,44.0,43.0,39.0,52.0,50.0,69.0,38.0,42.0,42.0,56.0,47.0,39.0,45.0,55.0,32.0,36.0,48.0,50.0,39.0,50.0,40.0,35.0,38.0,49.0,42.0,54.0,27.0,43.0,45.0,51.0,43.0,41.0,43.0,49.0,40.0,39.0,39.0,38.0,58.0,61.0,47.0,48.0,49.0,52.0,47.0,54.0,37.0,46.0,59.0,41.0,48.0,53.0,43.0,60.0,50.0,48.0,44.0,46.0,42.0,61.0,41.0,45.0,53.0,55.0,45.0,43.0,45.0,49.0,44.0,46.0,49.0,49.0,54.0,52.0,57.0,52.0,40.0,39.0,44.0,52.0,48.0,51.0,46.0,57.0,32.0,37.0,39.0,32.0,47.0,49.0,42.0,46.0,53.0,57.0,55.0,48.0,48.0,39.0,34.0,67.0,53.0,38.0,42.0,37.0,50.0,51.0,58.0,57.0,54.0,37.0,44.0,41.0,46.0,29.0,46.0,53.0,39.0,41.0,43.0,44.0,45.0,40.0,46.0,45.0,43.0,37.0,35.0,41.0,41.0,44.0,33.0,39.0,44.0,36.0,55.0,42.0,43.0,39.0,39.0,50.0,36.0,63.0,49.0,48.0,36.0,44.0,45.0,48.0,45.0,47.0,41.0,38.0,39.0,52.0,57.0,42.0,47.0,52.0,65.0,44.0,44.0,33.0,42.0,55.0,65.0,49.0,48.0,51.0,51.0,59.0,32.0,44.0,52.0,57.0,53.0,38.0,46.0,46.0,37.0,55.0,47.0,52.0,34.0,42.0,43.0,42.0,39.0,43.0,40.0,49.0,48.0,45.0,49.0,41.0,44.0,43.0,37.0,51.0,60.0,49.0,49.0,60.0,59.0,49.0,40.0,59.0,45.0,47.0,39.0,42.0,47.0,60.0,43.0,46.0,45.0,36.0,47.0,38.0,47.0,51.0,43.0,55.0,50.0,44.0,45.0,42.0,52.0,55.0,48.0,49.0,53.0,62.0,44.0,53.0,47.0,43.0,51.0,54.0,53.0,48.0,63.0,34.0,47.0,53.0,59.0,42.0,35.0,49.0,56.0,44.0,58.0,44.0,38.0,50.0,57.0,46.0,40.0,59.0,39.0,42.0,58.0,43.0,35.0,41.0,42.0,54.0,51.0,47.0,43.0,59.0,34.0,37.0,41.0,71.0,39.0,38.0,48.0,51.0,45.0,32.0,48.0,50.0,40.0,46.0,55.0,47.0,39.0,49.0,43.0,55.0,36.0,49.0,46.0,48.0,41.0,51.0,41.0,40.0,40.0,40.0,49.0,42.0,37.0,50.0,55.0,53.0,42.0,52.0,53.0,46.0,32.0,44.0,43.0,36.0,53.0,54.0,48.0,49.0,45.0,48.0,43.0,56.0,44.0,41.0,42.0,38.0,52.0,37.0,48.0,38.0,33.0,46.0,41.0,43.0,45.0,60.0,58.0,38.0,52.0,51.0,48.0,50.0,45.0,38.0,59.0,49.0,52.0,40.0,50.0,50.0,50.0,39.0,42.0,46.0,42.0,46.0,47.0,50.0,38.0,44.0,40.0,51.0,50.0,35.0,56.0,41.0,47.0,52.0,54.0,43.0,56.0,38.0,48.0,28.0,39.0,43.0,45.0,48.0,39.0,51.0,47.0,37.0,41.0,53.0,41.0,47.0,52.0,55.0,63.0,48.0,34.0,33.0,36.0,35.0,39.0,51.0,53.0,33.0,34.0,61.0,43.0,48.0,37.0,44.0,38.0,41.0,39.0,46.0,48.0,36.0,35.0,52.0,33.0,42.0,43.0,54.0,47.0,50.0,44.0,46.0,47.0,52.0,45.0,48.0,38.0,59.0,59.0,51.0,61.0,40.0,41.0,39.0,39.0,50.0,43.0,44.0,33.0,41.0,42.0,53.0,51.0,34.0,40.0,45.0,51.0,40.0,45.0,46.0,45.0,41.0,56.0,49.0,31.0,40.0,48.0,50.0,33.0,45.0,29.0,37.0,45.0,36.0,50.0,39.0,39.0,37.0,42.0,40.0,43.0,39.0,43.0,48.0,52.0,58.0,47.0,47.0,48.0,49.0,45.0,31.0,44.0,44.0,43.0,49.0,52.0,54.0,50.0,30.0,39.0,35.0,55.0,48.0,44.0,45.0,54.0,34.0,49.0,51.0,51.0,39.0,39.0,40.0,39.0,38.0,44.0,45.0,49.0,48.0,48.0,44.0,44.0,50.0,38.0,50.0,44.0,51.0,38.0,50.0,40.0,46.0,38.0,50.0,51.0,40.0,57.0,47.0,39.0,29.0,39.0,47.0,54.0,55.0,49.0,44.0,49.0,45.0,55.0,39.0,61.0,49.0,47.0,42.0,44.0,44.0,35.0,41.0,50.0,41.0,44.0,31.0,42.0,49.0,43.0,53.0,53.0,52.0,58.0,51.0,49.0,40.0,46.0,54.0,42.0,63.0,38.0,44.0,48.0,49.0,41.0,43.0,53.0,50.0,40.0,40.0,46.0,43.0,57.0,53.0,42.0,51.0,45.0,44.0,45.0,47.0,50.0,50.0,48.0,44.0,45.0,42.0,39.0,51.0,60.0,48.0,41.0,49.0,42.0,42.0,37.0,37.0,39.0,39.0,59.0,52.0,40.0,47.0,40.0,55.0,44.0,50.0,42.0,49.0,45.0,52.0,47.0,47.0,42.0,57.0,48.0,43.0,48.0,36.0,55.0,61.0,46.0,58.0,52.0,52.0,40.0,49.0,45.0,43.0,43.0,36.0,44.0,47.0,41.0,49.0,57.0,32.0,43.0,40.0,47.0,40.0,38.0,63.0,46.0,40.0,31.0,48.0,35.0,58.0,51.0,64.0,52.0,58.0,43.0,48.0,45.0,59.0,49.0,50.0,43.0,31.0,56.0,45.0,37.0,41.0,46.0,41.0,44.0,34.0,55.0,47.0,57.0,52.0,50.0,43.0,44.0,39.0,47.0,60.0,40.0,51.0,45.0,45.0,58.0,41.0,44.0,33.0,39.0,38.0,54.0,37.0,45.0,54.0,49.0,60.0,53.0,40.0,51.0,48.0,36.0,38.0,41.0,65.0,43.0,55.0,44.0,58.0,52.0,61.0,46.0,35.0,54.0,43.0,44.0,39.0,50.0,52.0,42.0,50.0,31.0,40.0,39.0,51.0,46.0,35.0,55.0,43.0,46.0,49.0,47.0,53.0,42.0,48.0,43.0,31.0,50.0,38.0,49.0,45.0,51.0,49.0,43.0,44.0,56.0,58.0,39.0,51.0,43.0,49.0,55.0,59.0,50.0,42.0,67.0,48.0,46.0,42.0,45.0,49.0,39.0,52.0,38.0,35.0,45.0,52.0,36.0,55.0,38.0,45.0,53.0,44.0,56.0,43.0,53.0,51.0,48.0,41.0,48.0,39.0,48.0,41.0,43.0,41.0,48.0,51.0,45.0,51.0,42.0,39.0,54.0,45.0,33.0,47.0,65.0,47.0,34.0,44.0,52.0,56.0,43.0,57.0,47.0,37.0,39.0,50.0,53.0,51.0,50.0,43.0,59.0,42.0,53.0,34.0,34.0,37.0,49.0,55.0,36.0,39.0,47.0,45.0,43.0,50.0,28.0,50.0,44.0,49.0,58.0,50.0,41.0,47.0,42.0,34.0,49.0,52.0,49.0,39.0,57.0,44.0,43.0,39.0,56.0,65.0,46.0,51.0,43.0,42.0,39.0,45.0,59.0,35.0,53.0,50.0,54.0,40.0,43.0,51.0,46.0,36.0,32.0,46.0,57.0,44.0,48.0,48.0,52.0,35.0,42.0,52.0,39.0,36.0,54.0,55.0,44.0,41.0,48.0,45.0,51.0,33.0,46.0,40.0,50.0,36.0,46.0,34.0,42.0,39.0,43.0,41.0,56.0,49.0,48.0,47.0,52.0,52.0,39.0,47.0,50.0,52.0,47.0,48.0,39.0,58.0,55.0,44.0,45.0,41.0,42.0,47.0,53.0,37.0,47.0,62.0,41.0,43.0,51.0,44.0,50.0,44.0,51.0,43.0,56.0,44.0,48.0,38.0,53.0,49.0,51.0,37.0,56.0,43.0,50.0,48.0,38.0,52.0,47.0,49.0,35.0,33.0,36.0,49.0,42.0,41.0,54.0,44.0,50.0,55.0,45.0,57.0,51.0,38.0,35.0,38.0,40.0,59.0,47.0,58.0,34.0,37.0,47.0,44.0,56.0,31.0,44.0,55.0,46.0,53.0,50.0,44.0,42.0,48.0,56.0,50.0,46.0,33.0,33.0,52.0,36.0,44.0,41.0,36.0,39.0,35.0,56.0,34.0,45.0,44.0,42.0,41.0,51.0,62.0,43.0,45.0,40.0,52.0,48.0,58.0,37.0,55.0,53.0,31.0,38.0,41.0,36.0],\"yaxis\":\"y\",\"type\":\"scattergl\"},{\"hovertemplate\":\"Series=ma7\\u003cbr\\u003eDate=%{x}\\u003cbr\\u003eQuantity=%{y}\\u003cextra\\u003e\\u003c\\u002fextra\\u003e\",\"legendgroup\":\"ma7\",\"line\":{\"color\":\"#EF553B\",\"dash\":\"solid\"},\"marker\":{\"symbol\":\"circle\"},\"mode\":\"lines\",\"name\":\"ma7\",\"showlegend\":true,\"x\":[\"2020-01-01\",\"2020-01-02\",\"2020-01-03\",\"2020-01-04\",\"2020-01-05\",\"2020-01-06\",\"2020-01-07\",\"2020-01-08\",\"2020-01-09\",\"2020-01-10\",\"2020-01-11\",\"2020-01-12\",\"2020-01-13\",\"2020-01-14\",\"2020-01-15\",\"2020-01-16\",\"2020-01-17\",\"2020-01-18\",\"2020-01-19\",\"2020-01-20\",\"2020-01-21\",\"2020-01-22\",\"2020-01-23\",\"2020-01-24\",\"2020-01-25\",\"2020-01-26\",\"2020-01-27\",\"2020-01-28\",\"2020-01-29\",\"2020-01-30\",\"2020-01-31\",\"2020-02-01\",\"2020-02-02\",\"2020-02-03\",\"2020-02-04\",\"2020-02-05\",\"2020-02-06\",\"2020-02-07\",\"2020-02-08\",\"2020-02-09\",\"2020-02-10\",\"2020-02-11\",\"2020-02-12\",\"2020-02-13\",\"2020-02-14\",\"2020-02-15\",\"2020-02-16\",\"2020-02-17\",\"2020-02-18\",\"2020-02-19\",\"2020-02-20\",\"2020-02-21\",\"2020-02-22\",\"2020-02-23\",\"2020-02-24\",\"2020-02-25\",\"2020-02-26\",\"2020-02-27\",\"2020-02-28\",\"2020-02-29\",\"2020-03-01\",\"2020-03-02\",\"2020-03-03\",\"2020-03-04\",\"2020-03-05\",\"2020-03-06\",\"2020-03-07\",\"2020-03-08\",\"2020-03-09\",\"2020-03-10\",\"2020-03-11\",\"2020-03-12\",\"2020-03-13\",\"2020-03-14\",\"2020-03-15\",\"2020-03-16\",\"2020-03-17\",\"2020-03-18\",\"2020-03-19\",\"2020-03-20\",\"2020-03-21\",\"2020-03-22\",\"2020-03-23\",\"2020-03-24\",\"2020-03-25\",\"2020-03-26\",\"2020-03-27\",\"2020-03-28\",\"2020-03-29\",\"2020-03-30\",\"2020-03-31\",\"2020-04-01\",\"2020-04-02\",\"2020-04-03\",\"2020-04-04\",\"2020-04-05\",\"2020-04-06\",\"2020-04-07\",\"2020-04-08\",\"2020-04-09\",\"2020-04-10\",\"2020-04-11\",\"2020-04-12\",\"2020-04-13\",\"2020-04-14\",\"2020-04-15\",\"2020-04-16\",\"2020-04-17\",\"2020-04-18\",\"2020-04-19\",\"2020-04-20\",\"2020-04-21\",\"2020-04-22\",\"2020-04-23\",\"2020-04-24\",\"2020-04-25\",\"2020-04-26\",\"2020-04-27\",\"2020-04-28\",\"2020-04-29\",\"2020-04-30\",\"2020-05-01\",\"2020-05-02\",\"2020-05-03\",\"2020-05-04\",\"2020-05-05\",\"2020-05-06\",\"2020-05-07\",\"2020-05-08\",\"2020-05-09\",\"2020-05-10\",\"2020-05-11\",\"2020-05-12\",\"2020-05-13\",\"2020-05-14\",\"2020-05-15\",\"2020-05-16\",\"2020-05-17\",\"2020-05-18\",\"2020-05-19\",\"2020-05-20\",\"2020-05-21\",\"2020-05-22\",\"2020-05-23\",\"2020-05-24\",\"2020-05-25\",\"2020-05-26\",\"2020-05-27\",\"2020-05-28\",\"2020-05-29\",\"2020-05-30\",\"2020-05-31\",\"2020-06-01\",\"2020-06-02\",\"2020-06-03\",\"2020-06-04\",\"2020-06-05\",\"2020-06-06\",\"2020-06-07\",\"2020-06-08\",\"2020-06-09\",\"2020-06-10\",\"2020-06-11\",\"2020-06-12\",\"2020-06-13\",\"2020-06-14\",\"2020-06-15\",\"2020-06-16\",\"2020-06-17\",\"2020-06-18\",\"2020-06-19\",\"2020-06-20\",\"2020-06-21\",\"2020-06-22\",\"2020-06-23\",\"2020-06-24\",\"2020-06-25\",\"2020-06-26\",\"2020-06-27\",\"2020-06-28\",\"2020-06-29\",\"2020-06-30\",\"2020-07-01\",\"2020-07-02\",\"2020-07-03\",\"2020-07-04\",\"2020-07-05\",\"2020-07-06\",\"2020-07-07\",\"2020-07-08\",\"2020-07-09\",\"2020-07-10\",\"2020-07-11\",\"2020-07-12\",\"2020-07-13\",\"2020-07-14\",\"2020-07-15\",\"2020-07-16\",\"2020-07-17\",\"2020-07-18\",\"2020-07-19\",\"2020-07-20\",\"2020-07-21\",\"2020-07-22\",\"2020-07-23\",\"2020-07-24\",\"2020-07-25\",\"2020-07-26\",\"2020-07-27\",\"2020-07-28\",\"2020-07-29\",\"2020-07-30\",\"2020-07-31\",\"2020-08-01\",\"2020-08-02\",\"2020-08-03\",\"2020-08-04\",\"2020-08-05\",\"2020-08-06\",\"2020-08-07\",\"2020-08-08\",\"2020-08-09\",\"2020-08-10\",\"2020-08-11\",\"2020-08-12\",\"2020-08-13\",\"2020-08-14\",\"2020-08-15\",\"2020-08-16\",\"2020-08-17\",\"2020-08-18\",\"2020-08-19\",\"2020-08-20\",\"2020-08-21\",\"2020-08-22\",\"2020-08-23\",\"2020-08-24\",\"2020-08-25\",\"2020-08-26\",\"2020-08-27\",\"2020-08-28\",\"2020-08-29\",\"2020-08-30\",\"2020-08-31\",\"2020-09-01\",\"2020-09-02\",\"2020-09-03\",\"2020-09-04\",\"2020-09-05\",\"2020-09-06\",\"2020-09-07\",\"2020-09-08\",\"2020-09-09\",\"2020-09-10\",\"2020-09-11\",\"2020-09-12\",\"2020-09-13\",\"2020-09-14\",\"2020-09-15\",\"2020-09-16\",\"2020-09-17\",\"2020-09-18\",\"2020-09-19\",\"2020-09-20\",\"2020-09-21\",\"2020-09-22\",\"2020-09-23\",\"2020-09-24\",\"2020-09-25\",\"2020-09-26\",\"2020-09-27\",\"2020-09-28\",\"2020-09-29\",\"2020-09-30\",\"2020-10-01\",\"2020-10-02\",\"2020-10-03\",\"2020-10-04\",\"2020-10-05\",\"2020-10-06\",\"2020-10-07\",\"2020-10-08\",\"2020-10-09\",\"2020-10-10\",\"2020-10-11\",\"2020-10-12\",\"2020-10-13\",\"2020-10-14\",\"2020-10-15\",\"2020-10-16\",\"2020-10-17\",\"2020-10-18\",\"2020-10-19\",\"2020-10-20\",\"2020-10-21\",\"2020-10-22\",\"2020-10-23\",\"2020-10-24\",\"2020-10-25\",\"2020-10-26\",\"2020-10-27\",\"2020-10-28\",\"2020-10-29\",\"2020-10-30\",\"2020-10-31\",\"2020-11-01\",\"2020-11-02\",\"2020-11-03\",\"2020-11-04\",\"2020-11-05\",\"2020-11-06\",\"2020-11-07\",\"2020-11-08\",\"2020-11-09\",\"2020-11-10\",\"2020-11-11\",\"2020-11-12\",\"2020-11-13\",\"2020-11-14\",\"2020-11-15\",\"2020-11-16\",\"2020-11-17\",\"2020-11-18\",\"2020-11-19\",\"2020-11-20\",\"2020-11-21\",\"2020-11-22\",\"2020-11-23\",\"2020-11-24\",\"2020-11-25\",\"2020-11-26\",\"2020-11-27\",\"2020-11-28\",\"2020-11-29\",\"2020-11-30\",\"2020-12-01\",\"2020-12-02\",\"2020-12-03\",\"2020-12-04\",\"2020-12-05\",\"2020-12-06\",\"2020-12-07\",\"2020-12-08\",\"2020-12-09\",\"2020-12-10\",\"2020-12-11\",\"2020-12-12\",\"2020-12-13\",\"2020-12-14\",\"2020-12-15\",\"2020-12-16\",\"2020-12-17\",\"2020-12-18\",\"2020-12-19\",\"2020-12-20\",\"2020-12-21\",\"2020-12-22\",\"2020-12-23\",\"2020-12-24\",\"2020-12-25\",\"2020-12-26\",\"2020-12-27\",\"2020-12-28\",\"2020-12-29\",\"2020-12-30\",\"2020-12-31\",\"2021-01-01\",\"2021-01-02\",\"2021-01-03\",\"2021-01-04\",\"2021-01-05\",\"2021-01-06\",\"2021-01-07\",\"2021-01-08\",\"2021-01-09\",\"2021-01-10\",\"2021-01-11\",\"2021-01-12\",\"2021-01-13\",\"2021-01-14\",\"2021-01-15\",\"2021-01-16\",\"2021-01-17\",\"2021-01-18\",\"2021-01-19\",\"2021-01-20\",\"2021-01-21\",\"2021-01-22\",\"2021-01-23\",\"2021-01-24\",\"2021-01-25\",\"2021-01-26\",\"2021-01-27\",\"2021-01-28\",\"2021-01-29\",\"2021-01-30\",\"2021-01-31\",\"2021-02-01\",\"2021-02-02\",\"2021-02-03\",\"2021-02-04\",\"2021-02-05\",\"2021-02-06\",\"2021-02-07\",\"2021-02-08\",\"2021-02-09\",\"2021-02-10\",\"2021-02-11\",\"2021-02-12\",\"2021-02-13\",\"2021-02-14\",\"2021-02-15\",\"2021-02-16\",\"2021-02-17\",\"2021-02-18\",\"2021-02-19\",\"2021-02-20\",\"2021-02-21\",\"2021-02-22\",\"2021-02-23\",\"2021-02-24\",\"2021-02-25\",\"2021-02-26\",\"2021-02-27\",\"2021-02-28\",\"2021-03-01\",\"2021-03-02\",\"2021-03-03\",\"2021-03-04\",\"2021-03-05\",\"2021-03-06\",\"2021-03-07\",\"2021-03-08\",\"2021-03-09\",\"2021-03-10\",\"2021-03-11\",\"2021-03-12\",\"2021-03-13\",\"2021-03-14\",\"2021-03-15\",\"2021-03-16\",\"2021-03-17\",\"2021-03-18\",\"2021-03-19\",\"2021-03-20\",\"2021-03-21\",\"2021-03-22\",\"2021-03-23\",\"2021-03-24\",\"2021-03-25\",\"2021-03-26\",\"2021-03-27\",\"2021-03-28\",\"2021-03-29\",\"2021-03-30\",\"2021-03-31\",\"2021-04-01\",\"2021-04-02\",\"2021-04-03\",\"2021-04-04\",\"2021-04-05\",\"2021-04-06\",\"2021-04-07\",\"2021-04-08\",\"2021-04-09\",\"2021-04-10\",\"2021-04-11\",\"2021-04-12\",\"2021-04-13\",\"2021-04-14\",\"2021-04-15\",\"2021-04-16\",\"2021-04-17\",\"2021-04-18\",\"2021-04-19\",\"2021-04-20\",\"2021-04-21\",\"2021-04-22\",\"2021-04-23\",\"2021-04-24\",\"2021-04-25\",\"2021-04-26\",\"2021-04-27\",\"2021-04-28\",\"2021-04-29\",\"2021-04-30\",\"2021-05-01\",\"2021-05-02\",\"2021-05-03\",\"2021-05-04\",\"2021-05-05\",\"2021-05-06\",\"2021-05-07\",\"2021-05-08\",\"2021-05-09\",\"2021-05-10\",\"2021-05-11\",\"2021-05-12\",\"2021-05-13\",\"2021-05-14\",\"2021-05-15\",\"2021-05-16\",\"2021-05-17\",\"2021-05-18\",\"2021-05-19\",\"2021-05-20\",\"2021-05-21\",\"2021-05-22\",\"2021-05-23\",\"2021-05-24\",\"2021-05-25\",\"2021-05-26\",\"2021-05-27\",\"2021-05-28\",\"2021-05-29\",\"2021-05-30\",\"2021-05-31\",\"2021-06-01\",\"2021-06-02\",\"2021-06-03\",\"2021-06-04\",\"2021-06-05\",\"2021-06-06\",\"2021-06-07\",\"2021-06-08\",\"2021-06-09\",\"2021-06-10\",\"2021-06-11\",\"2021-06-12\",\"2021-06-13\",\"2021-06-14\",\"2021-06-15\",\"2021-06-16\",\"2021-06-17\",\"2021-06-18\",\"2021-06-19\",\"2021-06-20\",\"2021-06-21\",\"2021-06-22\",\"2021-06-23\",\"2021-06-24\",\"2021-06-25\",\"2021-06-26\",\"2021-06-27\",\"2021-06-28\",\"2021-06-29\",\"2021-06-30\",\"2021-07-01\",\"2021-07-02\",\"2021-07-03\",\"2021-07-04\",\"2021-07-05\",\"2021-07-06\",\"2021-07-07\",\"2021-07-08\",\"2021-07-09\",\"2021-07-10\",\"2021-07-11\",\"2021-07-12\",\"2021-07-13\",\"2021-07-14\",\"2021-07-15\",\"2021-07-16\",\"2021-07-17\",\"2021-07-18\",\"2021-07-19\",\"2021-07-20\",\"2021-07-21\",\"2021-07-22\",\"2021-07-23\",\"2021-07-24\",\"2021-07-25\",\"2021-07-26\",\"2021-07-27\",\"2021-07-28\",\"2021-07-29\",\"2021-07-30\",\"2021-07-31\",\"2021-08-01\",\"2021-08-02\",\"2021-08-03\",\"2021-08-04\",\"2021-08-05\",\"2021-08-06\",\"2021-08-07\",\"2021-08-08\",\"2021-08-09\",\"2021-08-10\",\"2021-08-11\",\"2021-08-12\",\"2021-08-13\",\"2021-08-14\",\"2021-08-15\",\"2021-08-16\",\"2021-08-17\",\"2021-08-18\",\"2021-08-19\",\"2021-08-20\",\"2021-08-21\",\"2021-08-22\",\"2021-08-23\",\"2021-08-24\",\"2021-08-25\",\"2021-08-26\",\"2021-08-27\",\"2021-08-28\",\"2021-08-29\",\"2021-08-30\",\"2021-08-31\",\"2021-09-01\",\"2021-09-02\",\"2021-09-03\",\"2021-09-04\",\"2021-09-05\",\"2021-09-06\",\"2021-09-07\",\"2021-09-08\",\"2021-09-09\",\"2021-09-10\",\"2021-09-11\",\"2021-09-12\",\"2021-09-13\",\"2021-09-14\",\"2021-09-15\",\"2021-09-16\",\"2021-09-17\",\"2021-09-18\",\"2021-09-19\",\"2021-09-20\",\"2021-09-21\",\"2021-09-22\",\"2021-09-23\",\"2021-09-24\",\"2021-09-25\",\"2021-09-26\",\"2021-09-27\",\"2021-09-28\",\"2021-09-29\",\"2021-09-30\",\"2021-10-01\",\"2021-10-02\",\"2021-10-03\",\"2021-10-04\",\"2021-10-05\",\"2021-10-06\",\"2021-10-07\",\"2021-10-08\",\"2021-10-09\",\"2021-10-10\",\"2021-10-11\",\"2021-10-12\",\"2021-10-13\",\"2021-10-14\",\"2021-10-15\",\"2021-10-16\",\"2021-10-17\",\"2021-10-18\",\"2021-10-19\",\"2021-10-20\",\"2021-10-21\",\"2021-10-22\",\"2021-10-23\",\"2021-10-24\",\"2021-10-25\",\"2021-10-26\",\"2021-10-27\",\"2021-10-28\",\"2021-10-29\",\"2021-10-30\",\"2021-10-31\",\"2021-11-01\",\"2021-11-02\",\"2021-11-03\",\"2021-11-04\",\"2021-11-05\",\"2021-11-06\",\"2021-11-07\",\"2021-11-08\",\"2021-11-09\",\"2021-11-10\",\"2021-11-11\",\"2021-11-12\",\"2021-11-13\",\"2021-11-14\",\"2021-11-15\",\"2021-11-16\",\"2021-11-17\",\"2021-11-18\",\"2021-11-19\",\"2021-11-20\",\"2021-11-21\",\"2021-11-22\",\"2021-11-23\",\"2021-11-24\",\"2021-11-25\",\"2021-11-26\",\"2021-11-27\",\"2021-11-28\",\"2021-11-29\",\"2021-11-30\",\"2021-12-01\",\"2021-12-02\",\"2021-12-03\",\"2021-12-04\",\"2021-12-05\",\"2021-12-06\",\"2021-12-07\",\"2021-12-08\",\"2021-12-09\",\"2021-12-10\",\"2021-12-11\",\"2021-12-12\",\"2021-12-13\",\"2021-12-14\",\"2021-12-15\",\"2021-12-16\",\"2021-12-17\",\"2021-12-18\",\"2021-12-19\",\"2021-12-20\",\"2021-12-21\",\"2021-12-22\",\"2021-12-23\",\"2021-12-24\",\"2021-12-25\",\"2021-12-26\",\"2021-12-27\",\"2021-12-28\",\"2021-12-29\",\"2021-12-30\",\"2021-12-31\",\"2022-01-01\",\"2022-01-02\",\"2022-01-03\",\"2022-01-04\",\"2022-01-05\",\"2022-01-06\",\"2022-01-07\",\"2022-01-08\",\"2022-01-09\",\"2022-01-10\",\"2022-01-11\",\"2022-01-12\",\"2022-01-13\",\"2022-01-14\",\"2022-01-15\",\"2022-01-16\",\"2022-01-17\",\"2022-01-18\",\"2022-01-19\",\"2022-01-20\",\"2022-01-21\",\"2022-01-22\",\"2022-01-23\",\"2022-01-24\",\"2022-01-25\",\"2022-01-26\",\"2022-01-27\",\"2022-01-28\",\"2022-01-29\",\"2022-01-30\",\"2022-01-31\",\"2022-02-01\",\"2022-02-02\",\"2022-02-03\",\"2022-02-04\",\"2022-02-05\",\"2022-02-06\",\"2022-02-07\",\"2022-02-08\",\"2022-02-09\",\"2022-02-10\",\"2022-02-11\",\"2022-02-12\",\"2022-02-13\",\"2022-02-14\",\"2022-02-15\",\"2022-02-16\",\"2022-02-17\",\"2022-02-18\",\"2022-02-19\",\"2022-02-20\",\"2022-02-21\",\"2022-02-22\",\"2022-02-23\",\"2022-02-24\",\"2022-02-25\",\"2022-02-26\",\"2022-02-27\",\"2022-02-28\",\"2022-03-01\",\"2022-03-02\",\"2022-03-03\",\"2022-03-04\",\"2022-03-05\",\"2022-03-06\",\"2022-03-07\",\"2022-03-08\",\"2022-03-09\",\"2022-03-10\",\"2022-03-11\",\"2022-03-12\",\"2022-03-13\",\"2022-03-14\",\"2022-03-15\",\"2022-03-16\",\"2022-03-17\",\"2022-03-18\",\"2022-03-19\",\"2022-03-20\",\"2022-03-21\",\"2022-03-22\",\"2022-03-23\",\"2022-03-24\",\"2022-03-25\",\"2022-03-26\",\"2022-03-27\",\"2022-03-28\",\"2022-03-29\",\"2022-03-30\",\"2022-03-31\",\"2022-04-01\",\"2022-04-02\",\"2022-04-03\",\"2022-04-04\",\"2022-04-05\",\"2022-04-06\",\"2022-04-07\",\"2022-04-08\",\"2022-04-09\",\"2022-04-10\",\"2022-04-11\",\"2022-04-12\",\"2022-04-13\",\"2022-04-14\",\"2022-04-15\",\"2022-04-16\",\"2022-04-17\",\"2022-04-18\",\"2022-04-19\",\"2022-04-20\",\"2022-04-21\",\"2022-04-22\",\"2022-04-23\",\"2022-04-24\",\"2022-04-25\",\"2022-04-26\",\"2022-04-27\",\"2022-04-28\",\"2022-04-29\",\"2022-04-30\",\"2022-05-01\",\"2022-05-02\",\"2022-05-03\",\"2022-05-04\",\"2022-05-05\",\"2022-05-06\",\"2022-05-07\",\"2022-05-08\",\"2022-05-09\",\"2022-05-10\",\"2022-05-11\",\"2022-05-12\",\"2022-05-13\",\"2022-05-14\",\"2022-05-15\",\"2022-05-16\",\"2022-05-17\",\"2022-05-18\",\"2022-05-19\",\"2022-05-20\",\"2022-05-21\",\"2022-05-22\",\"2022-05-23\",\"2022-05-24\",\"2022-05-25\",\"2022-05-26\",\"2022-05-27\",\"2022-05-28\",\"2022-05-29\",\"2022-05-30\",\"2022-05-31\",\"2022-06-01\",\"2022-06-02\",\"2022-06-03\",\"2022-06-04\",\"2022-06-05\",\"2022-06-06\",\"2022-06-07\",\"2022-06-08\",\"2022-06-09\",\"2022-06-10\",\"2022-06-11\",\"2022-06-12\",\"2022-06-13\",\"2022-06-14\",\"2022-06-15\",\"2022-06-16\",\"2022-06-17\",\"2022-06-18\",\"2022-06-19\",\"2022-06-20\",\"2022-06-21\",\"2022-06-22\",\"2022-06-23\",\"2022-06-24\",\"2022-06-25\",\"2022-06-26\",\"2022-06-27\",\"2022-06-28\",\"2022-06-29\",\"2022-06-30\",\"2022-07-01\",\"2022-07-02\",\"2022-07-03\",\"2022-07-04\",\"2022-07-05\",\"2022-07-06\",\"2022-07-07\",\"2022-07-08\",\"2022-07-09\",\"2022-07-10\",\"2022-07-11\",\"2022-07-12\",\"2022-07-13\",\"2022-07-14\",\"2022-07-15\",\"2022-07-16\",\"2022-07-17\",\"2022-07-18\",\"2022-07-19\",\"2022-07-20\",\"2022-07-21\",\"2022-07-22\",\"2022-07-23\",\"2022-07-24\",\"2022-07-25\",\"2022-07-26\",\"2022-07-27\",\"2022-07-28\",\"2022-07-29\",\"2022-07-30\",\"2022-07-31\",\"2022-08-01\",\"2022-08-02\",\"2022-08-03\",\"2022-08-04\",\"2022-08-05\",\"2022-08-06\",\"2022-08-07\",\"2022-08-08\",\"2022-08-09\",\"2022-08-10\",\"2022-08-11\",\"2022-08-12\",\"2022-08-13\",\"2022-08-14\",\"2022-08-15\",\"2022-08-16\",\"2022-08-17\",\"2022-08-18\",\"2022-08-19\",\"2022-08-20\",\"2022-08-21\",\"2022-08-22\",\"2022-08-23\",\"2022-08-24\",\"2022-08-25\",\"2022-08-26\",\"2022-08-27\",\"2022-08-28\",\"2022-08-29\",\"2022-08-30\",\"2022-08-31\",\"2022-09-01\",\"2022-09-02\",\"2022-09-03\",\"2022-09-04\",\"2022-09-05\",\"2022-09-06\",\"2022-09-07\",\"2022-09-08\",\"2022-09-09\",\"2022-09-10\",\"2022-09-11\",\"2022-09-12\",\"2022-09-13\",\"2022-09-14\",\"2022-09-15\",\"2022-09-16\",\"2022-09-17\",\"2022-09-18\",\"2022-09-19\",\"2022-09-20\",\"2022-09-21\",\"2022-09-22\",\"2022-09-23\",\"2022-09-24\",\"2022-09-25\",\"2022-09-26\",\"2022-09-27\",\"2022-09-28\",\"2022-09-29\",\"2022-09-30\",\"2022-10-01\",\"2022-10-02\",\"2022-10-03\",\"2022-10-04\",\"2022-10-05\",\"2022-10-06\",\"2022-10-07\",\"2022-10-08\",\"2022-10-09\",\"2022-10-10\",\"2022-10-11\",\"2022-10-12\",\"2022-10-13\",\"2022-10-14\",\"2022-10-15\",\"2022-10-16\",\"2022-10-17\",\"2022-10-18\",\"2022-10-19\",\"2022-10-20\",\"2022-10-21\",\"2022-10-22\",\"2022-10-23\",\"2022-10-24\",\"2022-10-25\",\"2022-10-26\",\"2022-10-27\",\"2022-10-28\",\"2022-10-29\",\"2022-10-30\",\"2022-10-31\",\"2022-11-01\",\"2022-11-02\",\"2022-11-03\",\"2022-11-04\",\"2022-11-05\",\"2022-11-06\",\"2022-11-07\",\"2022-11-08\",\"2022-11-09\",\"2022-11-10\",\"2022-11-11\",\"2022-11-12\",\"2022-11-13\",\"2022-11-14\",\"2022-11-15\",\"2022-11-16\",\"2022-11-17\",\"2022-11-18\",\"2022-11-19\",\"2022-11-20\",\"2022-11-21\",\"2022-11-22\",\"2022-11-23\",\"2022-11-24\",\"2022-11-25\",\"2022-11-26\",\"2022-11-27\",\"2022-11-28\",\"2022-11-29\",\"2022-11-30\",\"2022-12-01\",\"2022-12-02\",\"2022-12-03\",\"2022-12-04\",\"2022-12-05\",\"2022-12-06\",\"2022-12-07\",\"2022-12-08\",\"2022-12-09\",\"2022-12-10\",\"2022-12-11\",\"2022-12-12\",\"2022-12-13\",\"2022-12-14\",\"2022-12-15\",\"2022-12-16\",\"2022-12-17\",\"2022-12-18\",\"2022-12-19\",\"2022-12-20\",\"2022-12-21\",\"2022-12-22\",\"2022-12-23\",\"2022-12-24\",\"2022-12-25\",\"2022-12-26\",\"2022-12-27\",\"2022-12-28\",\"2022-12-29\",\"2022-12-30\",\"2022-12-31\",\"2023-01-01\",\"2023-01-02\",\"2023-01-03\",\"2023-01-04\",\"2023-01-05\",\"2023-01-06\",\"2023-01-07\",\"2023-01-08\",\"2023-01-09\",\"2023-01-10\",\"2023-01-11\",\"2023-01-12\",\"2023-01-13\",\"2023-01-14\",\"2023-01-15\",\"2023-01-16\",\"2023-01-17\",\"2023-01-18\",\"2023-01-19\",\"2023-01-20\",\"2023-01-21\",\"2023-01-22\",\"2023-01-23\",\"2023-01-24\",\"2023-01-25\",\"2023-01-26\",\"2023-01-27\",\"2023-01-28\",\"2023-01-29\",\"2023-01-30\",\"2023-01-31\",\"2023-02-01\",\"2023-02-02\",\"2023-02-03\",\"2023-02-04\",\"2023-02-05\",\"2023-02-06\",\"2023-02-07\",\"2023-02-08\",\"2023-02-09\",\"2023-02-10\",\"2023-02-11\",\"2023-02-12\",\"2023-02-13\",\"2023-02-14\",\"2023-02-15\",\"2023-02-16\",\"2023-02-17\",\"2023-02-18\",\"2023-02-19\",\"2023-02-20\",\"2023-02-21\",\"2023-02-22\",\"2023-02-23\",\"2023-02-24\",\"2023-02-25\",\"2023-02-26\",\"2023-02-27\",\"2023-02-28\",\"2023-03-01\",\"2023-03-02\",\"2023-03-03\",\"2023-03-04\",\"2023-03-05\",\"2023-03-06\",\"2023-03-07\",\"2023-03-08\",\"2023-03-09\",\"2023-03-10\",\"2023-03-11\",\"2023-03-12\",\"2023-03-13\",\"2023-03-14\",\"2023-03-15\",\"2023-03-16\",\"2023-03-17\",\"2023-03-18\",\"2023-03-19\",\"2023-03-20\",\"2023-03-21\",\"2023-03-22\",\"2023-03-23\",\"2023-03-24\",\"2023-03-25\",\"2023-03-26\",\"2023-03-27\",\"2023-03-28\",\"2023-03-29\",\"2023-03-30\",\"2023-03-31\",\"2023-04-01\",\"2023-04-02\",\"2023-04-03\",\"2023-04-04\",\"2023-04-05\",\"2023-04-06\",\"2023-04-07\",\"2023-04-08\",\"2023-04-09\",\"2023-04-10\",\"2023-04-11\",\"2023-04-12\",\"2023-04-13\",\"2023-04-14\",\"2023-04-15\",\"2023-04-16\",\"2023-04-17\",\"2023-04-18\",\"2023-04-19\",\"2023-04-20\",\"2023-04-21\",\"2023-04-22\",\"2023-04-23\",\"2023-04-24\",\"2023-04-25\",\"2023-04-26\",\"2023-04-27\",\"2023-04-28\",\"2023-04-29\",\"2023-04-30\",\"2023-05-01\",\"2023-05-02\",\"2023-05-03\",\"2023-05-04\",\"2023-05-05\",\"2023-05-06\",\"2023-05-07\",\"2023-05-08\",\"2023-05-09\",\"2023-05-10\",\"2023-05-11\",\"2023-05-12\",\"2023-05-13\",\"2023-05-14\",\"2023-05-15\",\"2023-05-16\",\"2023-05-17\",\"2023-05-18\",\"2023-05-19\",\"2023-05-20\",\"2023-05-21\",\"2023-05-22\",\"2023-05-23\",\"2023-05-24\",\"2023-05-25\",\"2023-05-26\",\"2023-05-27\",\"2023-05-28\",\"2023-05-29\",\"2023-05-30\",\"2023-05-31\",\"2023-06-01\",\"2023-06-02\",\"2023-06-03\",\"2023-06-04\",\"2023-06-05\",\"2023-06-06\",\"2023-06-07\",\"2023-06-08\",\"2023-06-09\",\"2023-06-10\",\"2023-06-11\",\"2023-06-12\",\"2023-06-13\",\"2023-06-14\",\"2023-06-15\",\"2023-06-16\",\"2023-06-17\",\"2023-06-18\",\"2023-06-19\",\"2023-06-20\",\"2023-06-21\",\"2023-06-22\",\"2023-06-23\",\"2023-06-24\",\"2023-06-25\",\"2023-06-26\",\"2023-06-27\",\"2023-06-28\",\"2023-06-29\",\"2023-06-30\",\"2023-07-01\",\"2023-07-02\",\"2023-07-03\",\"2023-07-04\",\"2023-07-05\",\"2023-07-06\",\"2023-07-07\",\"2023-07-08\",\"2023-07-09\",\"2023-07-10\",\"2023-07-11\",\"2023-07-12\",\"2023-07-13\",\"2023-07-14\",\"2023-07-15\",\"2023-07-16\",\"2023-07-17\",\"2023-07-18\",\"2023-07-19\",\"2023-07-20\",\"2023-07-21\",\"2023-07-22\",\"2023-07-23\",\"2023-07-24\",\"2023-07-25\",\"2023-07-26\",\"2023-07-27\",\"2023-07-28\",\"2023-07-29\",\"2023-07-30\",\"2023-07-31\",\"2023-08-01\",\"2023-08-02\",\"2023-08-03\",\"2023-08-04\",\"2023-08-05\",\"2023-08-06\",\"2023-08-07\",\"2023-08-08\",\"2023-08-09\",\"2023-08-10\",\"2023-08-11\",\"2023-08-12\",\"2023-08-13\",\"2023-08-14\",\"2023-08-15\",\"2023-08-16\",\"2023-08-17\",\"2023-08-18\",\"2023-08-19\",\"2023-08-20\",\"2023-08-21\",\"2023-08-22\",\"2023-08-23\",\"2023-08-24\",\"2023-08-25\",\"2023-08-26\",\"2023-08-27\",\"2023-08-28\",\"2023-08-29\",\"2023-08-30\",\"2023-08-31\",\"2023-09-01\",\"2023-09-02\",\"2023-09-03\",\"2023-09-04\",\"2023-09-05\",\"2023-09-06\",\"2023-09-07\",\"2023-09-08\",\"2023-09-09\",\"2023-09-10\",\"2023-09-11\",\"2023-09-12\",\"2023-09-13\",\"2023-09-14\",\"2023-09-15\",\"2023-09-16\",\"2023-09-17\",\"2023-09-18\",\"2023-09-19\",\"2023-09-20\",\"2023-09-21\",\"2023-09-22\",\"2023-09-23\",\"2023-09-24\",\"2023-09-25\",\"2023-09-26\",\"2023-09-27\",\"2023-09-28\",\"2023-09-29\",\"2023-09-30\",\"2023-10-01\",\"2023-10-02\",\"2023-10-03\",\"2023-10-04\",\"2023-10-05\",\"2023-10-06\",\"2023-10-07\",\"2023-10-08\",\"2023-10-09\",\"2023-10-10\",\"2023-10-11\",\"2023-10-12\",\"2023-10-13\",\"2023-10-14\",\"2023-10-15\",\"2023-10-16\",\"2023-10-17\",\"2023-10-18\",\"2023-10-19\",\"2023-10-20\",\"2023-10-21\",\"2023-10-22\",\"2023-10-23\",\"2023-10-24\",\"2023-10-25\",\"2023-10-26\",\"2023-10-27\",\"2023-10-28\",\"2023-10-29\",\"2023-10-30\",\"2023-10-31\",\"2023-11-01\",\"2023-11-02\",\"2023-11-03\",\"2023-11-04\",\"2023-11-05\",\"2023-11-06\",\"2023-11-07\",\"2023-11-08\",\"2023-11-09\",\"2023-11-10\",\"2023-11-11\",\"2023-11-12\",\"2023-11-13\",\"2023-11-14\",\"2023-11-15\",\"2023-11-16\",\"2023-11-17\",\"2023-11-18\",\"2023-11-19\",\"2023-11-20\",\"2023-11-21\",\"2023-11-22\",\"2023-11-23\",\"2023-11-24\",\"2023-11-25\",\"2023-11-26\",\"2023-11-27\",\"2023-11-28\",\"2023-11-29\",\"2023-11-30\",\"2023-12-01\",\"2023-12-02\",\"2023-12-03\",\"2023-12-04\",\"2023-12-05\",\"2023-12-06\",\"2023-12-07\",\"2023-12-08\",\"2023-12-09\",\"2023-12-10\",\"2023-12-11\",\"2023-12-12\",\"2023-12-13\",\"2023-12-14\",\"2023-12-15\",\"2023-12-16\",\"2023-12-17\",\"2023-12-18\",\"2023-12-19\",\"2023-12-20\",\"2023-12-21\",\"2023-12-22\",\"2023-12-23\",\"2023-12-24\",\"2023-12-25\",\"2023-12-26\",\"2023-12-27\",\"2023-12-28\",\"2023-12-29\",\"2023-12-30\",\"2023-12-31\",\"2024-01-01\",\"2024-01-02\",\"2024-01-03\",\"2024-01-04\",\"2024-01-05\",\"2024-01-06\",\"2024-01-07\",\"2024-01-08\",\"2024-01-09\",\"2024-01-10\",\"2024-01-11\",\"2024-01-12\",\"2024-01-13\",\"2024-01-14\",\"2024-01-15\",\"2024-01-16\",\"2024-01-17\",\"2024-01-18\",\"2024-01-19\",\"2024-01-20\",\"2024-01-21\",\"2024-01-22\",\"2024-01-23\",\"2024-01-24\",\"2024-01-25\",\"2024-01-26\",\"2024-01-27\",\"2024-01-28\",\"2024-01-29\",\"2024-01-30\",\"2024-01-31\",\"2024-02-01\",\"2024-02-02\",\"2024-02-03\",\"2024-02-04\",\"2024-02-05\",\"2024-02-06\",\"2024-02-07\",\"2024-02-08\",\"2024-02-09\",\"2024-02-10\",\"2024-02-11\",\"2024-02-12\",\"2024-02-13\",\"2024-02-14\",\"2024-02-15\",\"2024-02-16\",\"2024-02-17\",\"2024-02-18\",\"2024-02-19\",\"2024-02-20\",\"2024-02-21\",\"2024-02-22\",\"2024-02-23\",\"2024-02-24\",\"2024-02-25\",\"2024-02-26\",\"2024-02-27\",\"2024-02-28\",\"2024-02-29\",\"2024-03-01\",\"2024-03-02\",\"2024-03-03\",\"2024-03-04\",\"2024-03-05\",\"2024-03-06\",\"2024-03-07\",\"2024-03-08\",\"2024-03-09\",\"2024-03-10\",\"2024-03-11\",\"2024-03-12\",\"2024-03-13\",\"2024-03-14\",\"2024-03-15\",\"2024-03-16\",\"2024-03-17\",\"2024-03-18\",\"2024-03-19\",\"2024-03-20\",\"2024-03-21\",\"2024-03-22\",\"2024-03-23\",\"2024-03-24\",\"2024-03-25\",\"2024-03-26\",\"2024-03-27\",\"2024-03-28\",\"2024-03-29\",\"2024-03-30\",\"2024-03-31\",\"2024-04-01\",\"2024-04-02\",\"2024-04-03\",\"2024-04-04\",\"2024-04-05\",\"2024-04-06\",\"2024-04-07\",\"2024-04-08\",\"2024-04-09\",\"2024-04-10\",\"2024-04-11\",\"2024-04-12\",\"2024-04-13\",\"2024-04-14\",\"2024-04-15\",\"2024-04-16\",\"2024-04-17\",\"2024-04-18\",\"2024-04-19\",\"2024-04-20\",\"2024-04-21\",\"2024-04-22\",\"2024-04-23\",\"2024-04-24\",\"2024-04-25\",\"2024-04-26\",\"2024-04-27\",\"2024-04-28\",\"2024-04-29\",\"2024-04-30\",\"2024-05-01\",\"2024-05-02\",\"2024-05-03\",\"2024-05-04\",\"2024-05-05\",\"2024-05-06\",\"2024-05-07\",\"2024-05-08\",\"2024-05-09\",\"2024-05-10\",\"2024-05-11\",\"2024-05-12\",\"2024-05-13\",\"2024-05-14\",\"2024-05-15\",\"2024-05-16\",\"2024-05-17\",\"2024-05-18\"],\"xaxis\":\"x\",\"y\":[51.0,44.0,44.666666666666664,42.5,42.0,42.333333333333336,42.857142857142854,42.714285714285715,41.714285714285715,39.142857142857146,40.142857142857146,41.142857142857146,42.714285714285715,43.714285714285715,43.0,44.285714285714285,46.857142857142854,47.714285714285715,47.285714285714285,46.142857142857146,48.285714285714285,47.0,47.57142857142857,47.714285714285715,47.42857142857143,49.857142857142854,49.0,45.857142857142854,46.285714285714285,46.57142857142857,45.57142857142857,45.285714285714285,45.0,45.285714285714285,43.285714285714285,44.0,44.0,44.857142857142854,45.0,43.285714285714285,42.857142857142854,45.714285714285715,45.857142857142854,43.714285714285715,42.285714285714285,41.857142857142854,42.42857142857143,43.42857142857143,41.142857142857146,42.57142857142857,45.142857142857146,47.857142857142854,48.857142857142854,48.714285714285715,48.714285714285715,52.285714285714285,51.42857142857143,50.285714285714285,49.857142857142854,49.42857142857143,49.285714285714285,48.42857142857143,45.42857142857143,45.0,45.142857142857146,43.857142857142854,43.57142857142857,45.142857142857146,42.857142857142854,44.0,43.42857142857143,45.57142857142857,45.714285714285715,45.42857142857143,42.142857142857146,45.142857142857146,44.57142857142857,45.857142857142854,45.142857142857146,46.714285714285715,47.857142857142854,50.285714285714285,50.42857142857143,50.714285714285715,48.57142857142857,47.142857142857146,46.42857142857143,45.42857142857143,46.0,47.714285714285715,48.285714285714285,49.0,50.42857142857143,51.714285714285715,51.714285714285715,48.57142857142857,48.285714285714285,47.857142857142854,48.0,46.285714285714285,43.714285714285715,45.0,46.57142857142857,45.142857142857146,45.42857142857143,45.57142857142857,45.857142857142854,46.42857142857143,44.0,42.857142857142854,41.714285714285715,40.285714285714285,41.57142857142857,41.714285714285715,40.57142857142857,42.0,44.57142857142857,45.142857142857146,46.857142857142854,45.0,44.42857142857143,44.285714285714285,44.142857142857146,41.57142857142857,42.142857142857146,41.42857142857143,42.57142857142857,43.857142857142854,43.714285714285715,44.0,43.57142857142857,42.285714285714285,41.57142857142857,41.714285714285715,41.142857142857146,41.285714285714285,39.714285714285715,42.285714285714285,43.285714285714285,45.42857142857143,45.285714285714285,44.142857142857146,47.0,48.714285714285715,47.57142857142857,47.57142857142857,46.142857142857146,45.0,47.42857142857143,46.285714285714285,46.57142857142857,46.285714285714285,46.42857142857143,46.142857142857146,49.285714285714285,49.714285714285715,48.42857142857143,46.857142857142854,46.142857142857146,45.142857142857146,46.142857142857146,42.142857142857146,39.714285714285715,41.42857142857143,43.57142857142857,45.0,46.0,46.57142857142857,46.57142857142857,47.857142857142854,48.714285714285715,48.714285714285715,50.42857142857143,51.285714285714285,51.42857142857143,54.57142857142857,56.142857142857146,53.0,50.142857142857146,47.285714285714285,46.42857142857143,46.285714285714285,45.285714285714285,44.0,45.285714285714285,46.57142857142857,45.42857142857143,44.42857142857143,44.857142857142854,45.142857142857146,45.857142857142854,44.714285714285715,45.0,47.142857142857146,47.57142857142857,46.142857142857146,44.142857142857146,43.57142857142857,46.0,46.857142857142854,45.42857142857143,45.714285714285715,43.285714285714285,46.714285714285715,45.857142857142854,46.857142857142854,45.714285714285715,44.57142857142857,44.57142857142857,48.714285714285715,46.0,45.57142857142857,41.857142857142854,41.714285714285715,41.857142857142854,42.714285714285715,40.57142857142857,40.0,41.285714285714285,42.142857142857146,43.0,45.857142857142854,45.57142857142857,46.0,46.57142857142857,48.142857142857146,47.857142857142854,47.714285714285715,49.42857142857143,50.142857142857146,49.285714285714285,52.142857142857146,49.42857142857143,49.42857142857143,48.857142857142854,47.857142857142854,47.57142857142857,47.0,44.42857142857143,43.857142857142854,46.42857142857143,47.285714285714285,45.142857142857146,43.42857142857143,46.142857142857146,47.285714285714285,48.857142857142854,48.285714285714285,46.57142857142857,46.142857142857146,49.0,47.57142857142857,47.857142857142854,46.42857142857143,45.142857142857146,46.42857142857143,46.42857142857143,44.285714285714285,43.285714285714285,41.857142857142854,42.285714285714285,44.0,43.142857142857146,44.57142857142857,43.857142857142854,46.857142857142854,46.857142857142854,47.714285714285715,45.42857142857143,45.857142857142854,44.857142857142854,46.42857142857143,45.142857142857146,44.857142857142854,46.285714285714285,47.42857142857143,49.42857142857143,50.142857142857146,49.714285714285715,48.714285714285715,49.142857142857146,48.857142857142854,49.0,46.142857142857146,45.142857142857146,43.57142857142857,43.142857142857146,44.285714285714285,41.714285714285715,43.857142857142854,45.142857142857146,45.0,46.857142857142854,46.57142857142857,45.857142857142854,48.714285714285715,45.42857142857143,44.714285714285715,45.57142857142857,46.0,45.42857142857143,46.142857142857146,43.285714285714285,43.142857142857146,43.285714285714285,43.0,43.57142857142857,45.285714285714285,44.0,46.42857142857143,48.0,49.142857142857146,49.714285714285715,48.714285714285715,49.57142857142857,51.57142857142857,48.857142857142854,46.42857142857143,47.42857142857143,46.42857142857143,46.57142857142857,45.0,44.142857142857146,45.285714285714285,48.57142857142857,46.857142857142854,46.57142857142857,46.285714285714285,44.714285714285715,44.714285714285715,44.857142857142854,41.714285714285715,41.0,41.142857142857146,41.42857142857143,43.0,41.142857142857146,39.857142857142854,42.142857142857146,42.714285714285715,44.0,41.0,41.857142857142854,43.285714285714285,44.0,46.0,46.0,45.57142857142857,47.142857142857146,45.857142857142854,43.857142857142854,44.0,42.42857142857143,41.714285714285715,43.57142857142857,42.57142857142857,42.42857142857143,45.285714285714285,46.0,44.285714285714285,45.57142857142857,45.142857142857146,46.57142857142857,46.714285714285715,44.857142857142854,45.285714285714285,44.0,43.714285714285715,41.57142857142857,43.285714285714285,43.0,43.714285714285715,43.714285714285715,47.142857142857146,45.57142857142857,46.57142857142857,44.142857142857146,45.57142857142857,46.857142857142854,46.714285714285715,45.57142857142857,47.0,46.714285714285715,48.0,47.142857142857146,46.0,46.714285714285715,45.285714285714285,45.42857142857143,45.857142857142854,45.57142857142857,46.714285714285715,45.57142857142857,44.42857142857143,45.42857142857143,45.142857142857146,44.42857142857143,44.857142857142854,42.857142857142854,44.142857142857146,44.0,43.57142857142857,44.57142857142857,46.57142857142857,46.857142857142854,47.142857142857146,46.57142857142857,46.285714285714285,47.285714285714285,46.57142857142857,44.857142857142854,44.857142857142854,45.285714285714285,46.57142857142857,49.0,48.0,47.42857142857143,47.714285714285715,48.142857142857146,49.42857142857143,47.42857142857143,44.857142857142854,45.714285714285715,47.285714285714285,47.142857142857146,47.42857142857143,45.285714285714285,47.285714285714285,47.42857142857143,47.57142857142857,46.285714285714285,46.57142857142857,44.0,47.0,45.57142857142857,46.0,44.857142857142854,43.714285714285715,44.0,46.0,43.57142857142857,44.285714285714285,44.142857142857146,44.857142857142854,47.285714285714285,45.57142857142857,43.714285714285715,44.285714285714285,44.57142857142857,44.42857142857143,42.42857142857143,40.142857142857146,41.0,41.714285714285715,44.285714285714285,45.714285714285715,46.857142857142854,48.42857142857143,48.857142857142854,49.0,50.142857142857146,46.142857142857146,45.42857142857143,46.857142857142854,45.0,45.285714285714285,46.57142857142857,48.285714285714285,51.42857142857143,49.142857142857146,48.285714285714285,51.57142857142857,50.857142857142854,50.42857142857143,49.57142857142857,49.714285714285715,49.42857142857143,48.142857142857146,46.857142857142854,47.857142857142854,46.57142857142857,44.857142857142854,42.57142857142857,46.57142857142857,47.142857142857146,47.142857142857146,46.42857142857143,46.142857142857146,46.857142857142854,48.57142857142857,47.57142857142857,45.857142857142854,45.0,45.142857142857146,45.42857142857143,44.285714285714285,43.42857142857143,43.57142857142857,43.57142857142857,45.57142857142857,46.0,47.714285714285715,46.857142857142854,47.142857142857146,44.857142857142854,44.57142857142857,44.57142857142857,43.42857142857143,43.0,44.0,44.142857142857146,45.42857142857143,45.285714285714285,45.142857142857146,48.42857142857143,46.42857142857143,47.0,47.0,45.57142857142857,47.142857142857146,45.857142857142854,43.42857142857143,43.57142857142857,43.714285714285715,41.714285714285715,42.42857142857143,43.0,42.142857142857146,43.857142857142854,44.714285714285715,44.142857142857146,44.42857142857143,45.0,44.714285714285715,44.42857142857143,42.57142857142857,43.0,44.0,44.57142857142857,42.57142857142857,42.57142857142857,44.0,44.57142857142857,44.0,44.285714285714285,45.142857142857146,47.42857142857143,46.57142857142857,48.0,48.285714285714285,49.142857142857146,48.42857142857143,47.285714285714285,45.42857142857143,45.142857142857146,43.857142857142854,45.714285714285715,44.0,43.0,45.0,46.857142857142854,47.857142857142854,49.42857142857143,48.0,47.57142857142857,48.857142857142854,46.714285714285715,44.857142857142854,45.285714285714285,44.142857142857146,43.142857142857146,45.285714285714285,44.57142857142857,45.285714285714285,48.714285714285715,49.42857142857143,49.285714285714285,50.857142857142854,49.857142857142854,49.42857142857143,50.142857142857146,47.57142857142857,47.42857142857143,47.285714285714285,47.57142857142857,50.0,50.42857142857143,49.0,49.42857142857143,48.285714285714285,47.57142857142857,44.57142857142857,41.285714285714285,41.142857142857146,41.857142857142854,40.42857142857143,41.142857142857146,42.42857142857143,47.42857142857143,47.857142857142854,47.57142857142857,47.42857142857143,49.857142857142854,49.142857142857146,47.57142857142857,44.142857142857146,46.57142857142857,45.142857142857146,44.285714285714285,43.142857142857146,43.57142857142857,43.57142857142857,44.285714285714285,42.142857142857146,42.57142857142857,42.857142857142854,43.0,41.857142857142854,44.0,40.714285714285715,41.142857142857146,42.57142857142857,44.42857142857143,43.57142857142857,43.42857142857143,41.857142857142854,45.0,44.57142857142857,43.714285714285715,42.0,41.285714285714285,43.714285714285715,46.285714285714285,46.0,47.142857142857146,48.57142857142857,50.42857142857143,51.714285714285715,51.142857142857146,47.714285714285715,47.57142857142857,49.142857142857146,48.0,47.42857142857143,48.285714285714285,46.714285714285715,50.0,50.57142857142857,49.0,49.42857142857143,49.142857142857146,47.57142857142857,50.142857142857146,47.42857142857143,46.714285714285715,47.42857142857143,49.0,48.857142857142854,49.0,46.714285714285715,47.857142857142854,47.714285714285715,46.714285714285715,45.857142857142854,46.42857142857143,48.0,49.0,50.142857142857146,51.285714285714285,50.42857142857143,49.0,48.285714285714285,48.0,47.42857142857143,46.57142857142857,45.714285714285715,48.142857142857146,47.142857142857146,46.142857142857146,44.285714285714285,42.0,41.42857142857143,41.857142857142854,39.714285714285715,41.714285714285715,44.0,46.57142857142857,49.857142857142854,50.0,49.857142857142854,49.42857142857143,47.714285714285715,49.714285714285715,49.142857142857146,46.714285714285715,45.857142857142854,44.285714285714285,45.857142857142854,48.285714285714285,47.0,47.57142857142857,49.857142857142854,49.142857142857146,50.142857142857146,48.857142857142854,48.142857142857146,44.0,42.42857142857143,42.285714285714285,42.57142857142857,42.142857142857146,42.42857142857143,42.142857142857146,44.42857142857143,43.57142857142857,42.57142857142857,43.42857142857143,43.714285714285715,42.857142857142854,41.57142857142857,41.0,41.142857142857146,40.857142857142854,39.142857142857146,38.57142857142857,39.57142857142857,39.714285714285715,41.714285714285715,41.857142857142854,41.714285714285715,42.57142857142857,42.57142857142857,43.42857142857143,43.42857142857143,44.57142857142857,45.57142857142857,46.285714285714285,45.857142857142854,46.57142857142857,45.857142857142854,47.57142857142857,45.0,44.714285714285715,43.714285714285715,44.0,43.285714285714285,44.285714285714285,45.57142857142857,45.142857142857146,45.142857142857146,46.714285714285715,50.57142857142857,51.285714285714285,50.142857142857146,46.714285714285715,46.714285714285715,47.857142857142854,49.714285714285715,47.42857142857143,48.0,49.0,51.57142857142857,54.0,50.714285714285715,47.714285714285715,48.142857142857146,49.42857142857143,49.714285714285715,47.857142857142854,46.0,48.0,47.0,47.42857142857143,46.0,45.857142857142854,45.285714285714285,44.714285714285715,44.285714285714285,45.0,42.714285714285715,42.142857142857146,40.42857142857143,42.57142857142857,43.42857142857143,43.714285714285715,44.714285714285715,45.0,45.142857142857146,45.57142857142857,43.857142857142854,44.285714285714285,46.42857142857143,46.42857142857143,47.57142857142857,49.857142857142854,52.142857142857146,53.857142857142854,52.285714285714285,52.142857142857146,51.57142857142857,51.285714285714285,48.285714285714285,45.857142857142854,45.57142857142857,48.42857142857143,46.142857142857146,46.285714285714285,46.0,45.57142857142857,46.285714285714285,45.0,43.142857142857146,44.285714285714285,43.857142857142854,45.285714285714285,47.285714285714285,46.857142857142854,47.857142857142854,47.142857142857146,47.285714285714285,49.0,48.0,47.857142857142854,49.142857142857146,51.57142857142857,51.857142857142854,52.0,50.857142857142854,50.142857142857146,50.42857142857143,50.57142857142857,49.285714285714285,49.857142857142854,51.285714285714285,49.42857142857143,50.0,50.285714285714285,51.0,49.42857142857143,47.57142857142857,45.57142857142857,48.714285714285715,48.285714285714285,49.0,46.857142857142854,46.285714285714285,48.42857142857143,49.57142857142857,48.142857142857146,47.57142857142857,47.714285714285715,47.0,47.57142857142857,48.714285714285715,46.714285714285715,45.142857142857146,45.285714285714285,42.857142857142854,45.0,46.285714285714285,44.714285714285715,44.714285714285715,48.142857142857146,47.142857142857146,46.42857142857143,44.57142857142857,47.42857142857143,46.285714285714285,45.57142857142857,44.0,46.42857142857143,47.57142857142857,46.285714285714285,43.0,44.57142857142857,44.857142857142854,44.57142857142857,45.142857142857146,45.42857142857143,46.42857142857143,46.57142857142857,45.57142857142857,47.714285714285715,46.285714285714285,45.42857142857143,45.285714285714285,46.57142857142857,45.42857142857143,46.57142857142857,44.57142857142857,45.142857142857146,43.857142857142854,43.0,43.142857142857146,43.285714285714285,41.285714285714285,42.57142857142857,44.714285714285715,46.57142857142857,46.857142857142854,47.285714285714285,48.857142857142854,50.142857142857146,47.57142857142857,46.0,44.57142857142857,43.714285714285715,43.857142857142854,44.0,44.285714285714285,46.714285714285715,46.857142857142854,47.57142857142857,48.57142857142857,49.0,47.57142857142857,46.57142857142857,45.57142857142857,44.57142857142857,45.142857142857146,44.285714285714285,43.142857142857146,42.285714285714285,41.142857142857146,41.714285714285715,42.142857142857146,40.857142857142854,42.0,43.714285714285715,46.57142857142857,47.285714285714285,48.142857142857146,49.57142857142857,50.285714285714285,51.0,48.857142857142854,46.0,49.0,48.57142857142857,48.714285714285715,47.57142857142857,47.57142857142857,48.285714285714285,50.0,47.142857142857146,46.142857142857146,45.285714285714285,45.57142857142857,45.0,44.57142857142857,44.57142857142857,44.42857142857143,44.714285714285715,43.857142857142854,45.142857142857146,45.714285714285715,44.0,44.857142857142854,45.285714285714285,45.714285714285715,47.42857142857143,47.857142857142854,46.857142857142854,49.857142857142854,47.285714285714285,48.285714285714285,45.57142857142857,43.714285714285715,42.142857142857146,42.42857142857143,41.285714285714285,41.42857142857143,41.857142857142854,44.57142857142857,44.285714285714285,44.0,45.142857142857146,44.142857142857146,45.285714285714285,45.42857142857143,46.57142857142857,50.285714285714285,51.285714285714285,48.57142857142857,47.42857142857143,45.857142857142854,43.42857142857143,41.142857142857146,39.42857142857143,40.142857142857146,40.0,40.142857142857146,43.714285714285715,44.857142857142854,46.142857142857146,44.142857142857146,42.857142857142854,43.57142857142857,44.57142857142857,41.42857142857143,41.857142857142854,41.857142857142854,41.714285714285715,40.42857142857143,42.42857142857143,41.285714285714285,41.714285714285715,41.285714285714285,42.142857142857146,43.714285714285715,45.857142857142854,44.714285714285715,46.57142857142857,47.285714285714285,48.57142857142857,47.285714285714285,47.42857142857143,45.714285714285715,47.857142857142854,49.714285714285715,50.285714285714285,51.57142857142857,50.857142857142854,49.857142857142854,50.0,47.142857142857146,45.857142857142854,44.714285714285715,42.285714285714285,41.285714285714285,41.285714285714285,41.714285714285715,43.714285714285715,43.857142857142854,42.57142857142857,42.0,43.714285714285715,45.142857142857146,44.857142857142854,43.714285714285715,43.0,44.57142857142857,44.714285714285715,46.285714285714285,46.0,44.714285714285715,44.0,44.285714285714285,45.0,43.857142857142854,42.285714285714285,39.42857142857143,40.285714285714285,41.0,39.285714285714285,39.285714285714285,40.142857142857146,39.285714285714285,40.42857142857143,41.142857142857146,40.42857142857143,41.42857142857143,39.857142857142854,40.42857142857143,41.714285714285715,43.857142857142854,46.142857142857146,47.142857142857146,47.714285714285715,49.0,49.857142857142854,49.42857142857143,46.42857142857143,44.42857142857143,44.0,43.42857142857143,43.57142857142857,44.0,45.285714285714285,48.0,46.0,45.285714285714285,44.142857142857146,45.0,44.42857142857143,43.0,42.285714285714285,45.714285714285715,45.0,47.0,46.42857142857143,46.857142857142854,46.142857142857146,45.285714285714285,43.285714285714285,44.0,42.42857142857143,41.42857142857143,40.57142857142857,42.0,43.285714285714285,44.42857142857143,45.142857142857146,46.0,46.857142857142854,45.857142857142854,46.0,45.42857142857143,45.857142857142854,45.0,45.857142857142854,44.42857142857143,45.57142857142857,43.857142857142854,44.714285714285715,44.714285714285715,45.0,46.0,47.0,46.0,44.714285714285715,43.142857142857146,42.57142857142857,44.57142857142857,44.285714285714285,44.57142857142857,45.285714285714285,48.142857142857146,49.0,50.142857142857146,48.0,48.857142857142854,48.857142857142854,49.285714285714285,48.285714285714285,48.142857142857146,46.57142857142857,46.0,43.142857142857146,43.285714285714285,42.42857142857143,42.714285714285715,40.857142857142854,40.57142857142857,42.57142857142857,42.857142857142854,43.285714285714285,45.0,46.142857142857146,50.0,51.285714285714285,51.285714285714285,50.857142857142854,49.857142857142854,50.0,48.57142857142857,49.285714285714285,47.42857142857143,46.714285714285715,47.857142857142854,48.285714285714285,46.42857142857143,46.57142857142857,45.142857142857146,46.857142857142854,46.285714285714285,45.142857142857146,44.714285714285715,45.0,47.0,47.0,45.857142857142854,47.42857142857143,48.142857142857146,47.857142857142854,48.142857142857146,46.714285714285715,46.285714285714285,47.42857142857143,47.0,46.857142857142854,47.0,46.57142857142857,45.42857142857143,45.57142857142857,47.0,47.0,46.57142857142857,47.142857142857146,47.142857142857146,47.57142857142857,45.57142857142857,42.285714285714285,41.0,40.714285714285715,42.142857142857146,43.57142857142857,43.285714285714285,44.714285714285715,45.142857142857146,47.42857142857143,48.142857142857146,46.857142857142854,45.42857142857143,46.714285714285715,46.42857142857143,48.142857142857146,47.0,47.42857142857143,46.285714285714285,48.42857142857143,48.285714285714285,48.0,47.42857142857143,45.857142857142854,47.0,49.714285714285715,48.142857142857146,49.57142857142857,50.857142857142854,51.42857142857143,52.0,51.142857142857146,48.857142857142854,48.42857142857143,46.285714285714285,44.0,42.857142857142854,43.857142857142854,42.714285714285715,43.285714285714285,45.285714285714285,43.714285714285715,44.714285714285715,44.142857142857146,44.142857142857146,44.0,42.42857142857143,43.285714285714285,45.285714285714285,44.857142857142854,43.57142857142857,43.714285714285715,43.0,45.857142857142854,44.142857142857146,46.714285714285715,48.42857142857143,52.285714285714285,51.57142857142857,53.42857142857143,51.57142857142857,52.714285714285715,50.57142857142857,50.285714285714285,48.142857142857146,46.42857142857143,47.57142857142857,47.57142857142857,44.42857142857143,43.285714285714285,42.714285714285715,42.42857142857143,44.285714285714285,41.142857142857146,42.57142857142857,44.0,46.285714285714285,47.142857142857146,48.42857142857143,48.285714285714285,49.714285714285715,47.42857142857143,47.42857142857143,47.857142857142854,46.142857142857146,46.285714285714285,46.57142857142857,46.714285714285715,49.42857142857143,48.57142857142857,46.285714285714285,45.285714285714285,43.57142857142857,42.57142857142857,43.857142857142854,40.857142857142854,41.42857142857143,42.857142857142854,45.142857142857146,48.142857142857146,50.285714285714285,48.285714285714285,50.285714285714285,50.714285714285715,48.142857142857146,46.57142857142857,43.857142857142854,45.57142857142857,46.0,46.57142857142857,46.0,49.142857142857146,51.142857142857146,54.0,51.285714285714285,50.142857142857146,50.0,49.857142857142854,47.857142857142854,46.0,44.42857142857143,45.285714285714285,46.285714285714285,45.714285714285715,44.0,43.42857142857143,43.42857142857143,43.57142857142857,42.714285714285715,41.714285714285715,42.42857142857143,44.142857142857146,45.0,46.42857142857143,45.857142857142854,46.857142857142854,47.857142857142854,46.857142857142854,46.857142857142854,44.714285714285715,44.857142857142854,43.57142857142857,43.0,43.42857142857143,43.857142857142854,44.714285714285715,46.42857142857143,45.57142857142857,48.142857142857146,49.42857142857143,48.57142857142857,48.57142857142857,47.714285714285715,48.57142857142857,50.142857142857146,50.57142857142857,49.42857142857143,49.857142857142854,52.142857142857146,52.857142857142854,52.42857142857143,50.57142857142857,48.57142857142857,48.42857142857143,48.0,45.857142857142854,44.42857142857143,42.857142857142854,43.285714285714285,44.285714285714285,42.42857142857143,44.714285714285715,42.714285714285715,43.714285714285715,46.285714285714285,46.142857142857146,46.714285714285715,47.714285714285715,47.42857142857143,49.285714285714285,49.714285714285715,48.0,48.57142857142857,46.142857142857146,46.857142857142854,45.142857142857146,44.0,43.0,44.0,44.42857142857143,45.285714285714285,45.714285714285715,45.857142857142854,45.285714285714285,47.142857142857146,46.714285714285715,44.142857142857146,44.42857142857143,46.42857142857143,47.142857142857146,46.42857142857143,45.0,46.0,49.285714285714285,48.714285714285715,47.57142857142857,47.57142857142857,48.0,47.285714285714285,47.0,46.57142857142857,47.714285714285715,46.714285714285715,46.142857142857146,49.285714285714285,49.714285714285715,50.142857142857146,47.42857142857143,45.0,43.142857142857146,44.0,43.42857142857143,42.57142857142857,40.57142857142857,42.42857142857143,44.0,44.857142857142854,45.0,41.142857142857146,43.142857142857146,43.857142857142854,44.142857142857146,46.0,47.0,45.714285714285715,48.42857142857143,47.285714285714285,45.857142857142854,45.857142857142854,45.0,44.857142857142854,44.57142857142857,46.0,46.285714285714285,47.57142857142857,46.142857142857146,46.714285714285715,49.0,50.0,49.142857142857146,49.0,48.857142857142854,48.857142857142854,47.285714285714285,46.42857142857143,44.857142857142854,45.142857142857146,46.142857142857146,47.857142857142854,48.0,47.714285714285715,46.57142857142857,48.142857142857146,45.714285714285715,43.142857142857146,42.0,44.42857142857143,44.57142857142857,44.142857142857146,44.42857142857143,46.714285714285715,47.142857142857146,46.57142857142857,45.857142857142854,45.142857142857146,43.42857142857143,44.285714285714285,44.714285714285715,46.0,45.857142857142854,45.285714285714285,46.142857142857146,48.285714285714285,45.285714285714285,44.0,43.42857142857143,44.714285714285715,43.0,43.142857142857146,40.714285714285715,42.0,41.0,41.42857142857143,40.142857142857146,43.0,43.42857142857143,45.42857142857143,46.142857142857146,48.0,49.285714285714285,49.0,47.714285714285715,47.857142857142854,48.42857142857143,48.42857142857143,47.857142857142854,46.0,48.714285714285715,49.857142857142854,49.0,48.0,47.142857142857146,46.285714285714285,47.42857142857143,46.714285714285715,44.142857142857146,44.57142857142857,47.0,47.0,47.142857142857146,47.714285714285715,46.42857142857143,48.285714285714285,47.857142857142854,46.285714285714285,46.57142857142857,48.42857142857143,47.42857142857143,48.0,46.285714285714285,47.57142857142857,47.285714285714285,48.42857142857143,45.714285714285715,47.42857142857143,46.714285714285715,48.42857142857143,47.714285714285715,46.142857142857146,46.285714285714285,47.714285714285715,46.714285714285715,45.57142857142857,43.142857142857146,41.42857142857143,43.0,41.57142857142857,40.714285714285715,41.42857142857143,42.714285714285715,45.142857142857146,47.857142857142854,47.285714285714285,49.42857142857143,50.857142857142854,48.57142857142857,47.285714285714285,45.57142857142857,43.42857142857143,45.42857142857143,44.0,45.0,44.42857142857143,44.714285714285715,46.0,46.57142857142857,46.142857142857146,43.857142857142854,41.857142857142854,44.857142857142854,46.142857142857146,47.0,47.857142857142854,46.142857142857146,47.714285714285715,48.285714285714285,48.42857142857143,49.0,48.0,45.57142857142857,44.0,45.42857142857143,43.714285714285715,42.0,40.714285714285715,39.285714285714285,40.142857142857146,40.42857142857143,41.0,40.714285714285715,40.857142857142854,41.285714285714285,42.142857142857146,42.42857142857143,44.714285714285715,45.57142857142857,46.857142857142854,46.857142857142854,46.285714285714285,47.714285714285715,48.714285714285715,49.714285714285715,46.142857142857146,47.857142857142854,49.0,47.714285714285715,45.714285714285715,44.714285714285715,41.57142857142857],\"yaxis\":\"y\",\"type\":\"scattergl\"}],                        {\"template\":{\"data\":{\"histogram2dcontour\":[{\"type\":\"histogram2dcontour\",\"colorbar\":{\"outlinewidth\":0,\"ticks\":\"\"},\"colorscale\":[[0.0,\"#0d0887\"],[0.1111111111111111,\"#46039f\"],[0.2222222222222222,\"#7201a8\"],[0.3333333333333333,\"#9c179e\"],[0.4444444444444444,\"#bd3786\"],[0.5555555555555556,\"#d8576b\"],[0.6666666666666666,\"#ed7953\"],[0.7777777777777778,\"#fb9f3a\"],[0.8888888888888888,\"#fdca26\"],[1.0,\"#f0f921\"]]}],\"choropleth\":[{\"type\":\"choropleth\",\"colorbar\":{\"outlinewidth\":0,\"ticks\":\"\"}}],\"histogram2d\":[{\"type\":\"histogram2d\",\"colorbar\":{\"outlinewidth\":0,\"ticks\":\"\"},\"colorscale\":[[0.0,\"#0d0887\"],[0.1111111111111111,\"#46039f\"],[0.2222222222222222,\"#7201a8\"],[0.3333333333333333,\"#9c179e\"],[0.4444444444444444,\"#bd3786\"],[0.5555555555555556,\"#d8576b\"],[0.6666666666666666,\"#ed7953\"],[0.7777777777777778,\"#fb9f3a\"],[0.8888888888888888,\"#fdca26\"],[1.0,\"#f0f921\"]]}],\"heatmap\":[{\"type\":\"heatmap\",\"colorbar\":{\"outlinewidth\":0,\"ticks\":\"\"},\"colorscale\":[[0.0,\"#0d0887\"],[0.1111111111111111,\"#46039f\"],[0.2222222222222222,\"#7201a8\"],[0.3333333333333333,\"#9c179e\"],[0.4444444444444444,\"#bd3786\"],[0.5555555555555556,\"#d8576b\"],[0.6666666666666666,\"#ed7953\"],[0.7777777777777778,\"#fb9f3a\"],[0.8888888888888888,\"#fdca26\"],[1.0,\"#f0f921\"]]}],\"heatmapgl\":[{\"type\":\"heatmapgl\",\"colorbar\":{\"outlinewidth\":0,\"ticks\":\"\"},\"colorscale\":[[0.0,\"#0d0887\"],[0.1111111111111111,\"#46039f\"],[0.2222222222222222,\"#7201a8\"],[0.3333333333333333,\"#9c179e\"],[0.4444444444444444,\"#bd3786\"],[0.5555555555555556,\"#d8576b\"],[0.6666666666666666,\"#ed7953\"],[0.7777777777777778,\"#fb9f3a\"],[0.8888888888888888,\"#fdca26\"],[1.0,\"#f0f921\"]]}],\"contourcarpet\":[{\"type\":\"contourcarpet\",\"colorbar\":{\"outlinewidth\":0,\"ticks\":\"\"}}],\"contour\":[{\"type\":\"contour\",\"colorbar\":{\"outlinewidth\":0,\"ticks\":\"\"},\"colorscale\":[[0.0,\"#0d0887\"],[0.1111111111111111,\"#46039f\"],[0.2222222222222222,\"#7201a8\"],[0.3333333333333333,\"#9c179e\"],[0.4444444444444444,\"#bd3786\"],[0.5555555555555556,\"#d8576b\"],[0.6666666666666666,\"#ed7953\"],[0.7777777777777778,\"#fb9f3a\"],[0.8888888888888888,\"#fdca26\"],[1.0,\"#f0f921\"]]}],\"surface\":[{\"type\":\"surface\",\"colorbar\":{\"outlinewidth\":0,\"ticks\":\"\"},\"colorscale\":[[0.0,\"#0d0887\"],[0.1111111111111111,\"#46039f\"],[0.2222222222222222,\"#7201a8\"],[0.3333333333333333,\"#9c179e\"],[0.4444444444444444,\"#bd3786\"],[0.5555555555555556,\"#d8576b\"],[0.6666666666666666,\"#ed7953\"],[0.7777777777777778,\"#fb9f3a\"],[0.8888888888888888,\"#fdca26\"],[1.0,\"#f0f921\"]]}],\"mesh3d\":[{\"type\":\"mesh3d\",\"colorbar\":{\"outlinewidth\":0,\"ticks\":\"\"}}],\"scatter\":[{\"fillpattern\":{\"fillmode\":\"overlay\",\"size\":10,\"solidity\":0.2},\"type\":\"scatter\"}],\"parcoords\":[{\"type\":\"parcoords\",\"line\":{\"colorbar\":{\"outlinewidth\":0,\"ticks\":\"\"}}}],\"scatterpolargl\":[{\"type\":\"scatterpolargl\",\"marker\":{\"colorbar\":{\"outlinewidth\":0,\"ticks\":\"\"}}}],\"bar\":[{\"error_x\":{\"color\":\"#2a3f5f\"},\"error_y\":{\"color\":\"#2a3f5f\"},\"marker\":{\"line\":{\"color\":\"#E5ECF6\",\"width\":0.5},\"pattern\":{\"fillmode\":\"overlay\",\"size\":10,\"solidity\":0.2}},\"type\":\"bar\"}],\"scattergeo\":[{\"type\":\"scattergeo\",\"marker\":{\"colorbar\":{\"outlinewidth\":0,\"ticks\":\"\"}}}],\"scatterpolar\":[{\"type\":\"scatterpolar\",\"marker\":{\"colorbar\":{\"outlinewidth\":0,\"ticks\":\"\"}}}],\"histogram\":[{\"marker\":{\"pattern\":{\"fillmode\":\"overlay\",\"size\":10,\"solidity\":0.2}},\"type\":\"histogram\"}],\"scattergl\":[{\"type\":\"scattergl\",\"marker\":{\"colorbar\":{\"outlinewidth\":0,\"ticks\":\"\"}}}],\"scatter3d\":[{\"type\":\"scatter3d\",\"line\":{\"colorbar\":{\"outlinewidth\":0,\"ticks\":\"\"}},\"marker\":{\"colorbar\":{\"outlinewidth\":0,\"ticks\":\"\"}}}],\"scattermapbox\":[{\"type\":\"scattermapbox\",\"marker\":{\"colorbar\":{\"outlinewidth\":0,\"ticks\":\"\"}}}],\"scatterternary\":[{\"type\":\"scatterternary\",\"marker\":{\"colorbar\":{\"outlinewidth\":0,\"ticks\":\"\"}}}],\"scattercarpet\":[{\"type\":\"scattercarpet\",\"marker\":{\"colorbar\":{\"outlinewidth\":0,\"ticks\":\"\"}}}],\"carpet\":[{\"aaxis\":{\"endlinecolor\":\"#2a3f5f\",\"gridcolor\":\"white\",\"linecolor\":\"white\",\"minorgridcolor\":\"white\",\"startlinecolor\":\"#2a3f5f\"},\"baxis\":{\"endlinecolor\":\"#2a3f5f\",\"gridcolor\":\"white\",\"linecolor\":\"white\",\"minorgridcolor\":\"white\",\"startlinecolor\":\"#2a3f5f\"},\"type\":\"carpet\"}],\"table\":[{\"cells\":{\"fill\":{\"color\":\"#EBF0F8\"},\"line\":{\"color\":\"white\"}},\"header\":{\"fill\":{\"color\":\"#C8D4E3\"},\"line\":{\"color\":\"white\"}},\"type\":\"table\"}],\"barpolar\":[{\"marker\":{\"line\":{\"color\":\"#E5ECF6\",\"width\":0.5},\"pattern\":{\"fillmode\":\"overlay\",\"size\":10,\"solidity\":0.2}},\"type\":\"barpolar\"}],\"pie\":[{\"automargin\":true,\"type\":\"pie\"}]},\"layout\":{\"autotypenumbers\":\"strict\",\"colorway\":[\"#636efa\",\"#EF553B\",\"#00cc96\",\"#ab63fa\",\"#FFA15A\",\"#19d3f3\",\"#FF6692\",\"#B6E880\",\"#FF97FF\",\"#FECB52\"],\"font\":{\"color\":\"#2a3f5f\"},\"hovermode\":\"closest\",\"hoverlabel\":{\"align\":\"left\"},\"paper_bgcolor\":\"white\",\"plot_bgcolor\":\"#E5ECF6\",\"polar\":{\"bgcolor\":\"#E5ECF6\",\"angularaxis\":{\"gridcolor\":\"white\",\"linecolor\":\"white\",\"ticks\":\"\"},\"radialaxis\":{\"gridcolor\":\"white\",\"linecolor\":\"white\",\"ticks\":\"\"}},\"ternary\":{\"bgcolor\":\"#E5ECF6\",\"aaxis\":{\"gridcolor\":\"white\",\"linecolor\":\"white\",\"ticks\":\"\"},\"baxis\":{\"gridcolor\":\"white\",\"linecolor\":\"white\",\"ticks\":\"\"},\"caxis\":{\"gridcolor\":\"white\",\"linecolor\":\"white\",\"ticks\":\"\"}},\"coloraxis\":{\"colorbar\":{\"outlinewidth\":0,\"ticks\":\"\"}},\"colorscale\":{\"sequential\":[[0.0,\"#0d0887\"],[0.1111111111111111,\"#46039f\"],[0.2222222222222222,\"#7201a8\"],[0.3333333333333333,\"#9c179e\"],[0.4444444444444444,\"#bd3786\"],[0.5555555555555556,\"#d8576b\"],[0.6666666666666666,\"#ed7953\"],[0.7777777777777778,\"#fb9f3a\"],[0.8888888888888888,\"#fdca26\"],[1.0,\"#f0f921\"]],\"sequentialminus\":[[0.0,\"#0d0887\"],[0.1111111111111111,\"#46039f\"],[0.2222222222222222,\"#7201a8\"],[0.3333333333333333,\"#9c179e\"],[0.4444444444444444,\"#bd3786\"],[0.5555555555555556,\"#d8576b\"],[0.6666666666666666,\"#ed7953\"],[0.7777777777777778,\"#fb9f3a\"],[0.8888888888888888,\"#fdca26\"],[1.0,\"#f0f921\"]],\"diverging\":[[0,\"#8e0152\"],[0.1,\"#c51b7d\"],[0.2,\"#de77ae\"],[0.3,\"#f1b6da\"],[0.4,\"#fde0ef\"],[0.5,\"#f7f7f7\"],[0.6,\"#e6f5d0\"],[0.7,\"#b8e186\"],[0.8,\"#7fbc41\"],[0.9,\"#4d9221\"],[1,\"#276419\"]]},\"xaxis\":{\"gridcolor\":\"white\",\"linecolor\":\"white\",\"ticks\":\"\",\"title\":{\"standoff\":15},\"zerolinecolor\":\"white\",\"automargin\":true,\"zerolinewidth\":2},\"yaxis\":{\"gridcolor\":\"white\",\"linecolor\":\"white\",\"ticks\":\"\",\"title\":{\"standoff\":15},\"zerolinecolor\":\"white\",\"automargin\":true,\"zerolinewidth\":2},\"scene\":{\"xaxis\":{\"backgroundcolor\":\"#E5ECF6\",\"gridcolor\":\"white\",\"linecolor\":\"white\",\"showbackground\":true,\"ticks\":\"\",\"zerolinecolor\":\"white\",\"gridwidth\":2},\"yaxis\":{\"backgroundcolor\":\"#E5ECF6\",\"gridcolor\":\"white\",\"linecolor\":\"white\",\"showbackground\":true,\"ticks\":\"\",\"zerolinecolor\":\"white\",\"gridwidth\":2},\"zaxis\":{\"backgroundcolor\":\"#E5ECF6\",\"gridcolor\":\"white\",\"linecolor\":\"white\",\"showbackground\":true,\"ticks\":\"\",\"zerolinecolor\":\"white\",\"gridwidth\":2}},\"shapedefaults\":{\"line\":{\"color\":\"#2a3f5f\"}},\"annotationdefaults\":{\"arrowcolor\":\"#2a3f5f\",\"arrowhead\":0,\"arrowwidth\":1},\"geo\":{\"bgcolor\":\"white\",\"landcolor\":\"#E5ECF6\",\"subunitcolor\":\"white\",\"showland\":true,\"showlakes\":true,\"lakecolor\":\"white\"},\"title\":{\"x\":0.05},\"mapbox\":{\"style\":\"light\"}}},\"xaxis\":{\"anchor\":\"y\",\"domain\":[0.0,1.0],\"title\":{\"text\":\"Date\"}},\"yaxis\":{\"anchor\":\"x\",\"domain\":[0.0,1.0],\"title\":{\"text\":\"Quantity\"}},\"legend\":{\"title\":{\"text\":\"Series\"},\"tracegroupgap\":0},\"title\":{\"text\":\"Daily Demand for Toothpaste\"}},                        {\"responsive\": true}                    )                };                            </script>        </div>\n",
       "</body>\n",
       "</html>"
      ]
     },
     "metadata": {},
     "output_type": "display_data"
    },
    {
     "output_type": "stream",
     "name": "stderr",
     "output_type": "stream",
     "text": [
      "/databricks/python/lib/python3.12/site-packages/pyspark/sql/connect/expressions.py:1061: UserWarning:\n\nWARN WindowExpression: No Partition Defined for Window operation! Moving all data to a single partition, this can cause serious performance degradation.\n\n"
     ]
    }
   ],
   "source": [
    "# STEP 8: Visualization — Daily demand per product (interactive with widgets)\n",
    "\n",
    "from pyspark.sql import functions as F\n",
    "from pyspark.sql.window import Window\n",
    "import plotly.express as px\n",
    "\n",
    "CATALOG = \"retail_demand_catalog\"\n",
    "SCHEMA  = \"retail_demand_schema\"\n",
    "GOLD_DAILY = f\"{CATALOG}.{SCHEMA}.gold_daily_product_demand\"\n",
    "\n",
    "spark.sql(f\"USE CATALOG {CATALOG}\")\n",
    "spark.sql(f\"USE {SCHEMA}\")\n",
    "\n",
    "daily = spark.table(GOLD_DAILY)\n",
    "\n",
    "# ------- Widgets (choose product & time window) -------\n",
    "# Default product = highest total demand overall\n",
    "default_product_row = (\n",
    "    daily.groupBy(\"product_name\")\n",
    "         .agg(F.sum(\"total_quantity\").alias(\"qty\"))\n",
    "         .orderBy(F.desc(\"qty\"))\n",
    "         .limit(1)\n",
    "         .collect()\n",
    ")\n",
    "default_product = default_product_row[0][\"product_name\"] if default_product_row else \"\"\n",
    "\n",
    "dbutils.widgets.removeAll()\n",
    "dbutils.widgets.text(\"product_name\", default_product, \"Product to plot\")\n",
    "dbutils.widgets.dropdown(\"period\", \"all\", [\"all\", \"last_30d\", \"last_90d\", \"last_365d\"], \"Period\")\n",
    "\n",
    "product = dbutils.widgets.get(\"product_name\")\n",
    "period  = dbutils.widgets.get(\"period\")\n",
    "\n",
    "# ------- Filter for the selected product -------\n",
    "df = daily.filter(F.col(\"product_name\") == product)\n",
    "\n",
    "# Handle empty selection gracefully\n",
    "if df.limit(1).count() == 0:\n",
    "    displayHTML(f\"<h3>No data found for product: <code>{product}</code></h3>\")\n",
    "else:\n",
    "    # Optional time filtering\n",
    "    max_date = df.agg(F.max(\"Event_Date\")).collect()[0][0]\n",
    "    if max_date and period != \"all\":\n",
    "        days_map = {\"last_30d\": 30, \"last_90d\": 90, \"last_365d\": 365}\n",
    "        start_days = days_map.get(period, 365)\n",
    "        df = df.filter(F.col(\"Event_Date\") >= F.date_sub(F.lit(max_date), start_days))\n",
    "\n",
    "    # 7-day moving average over ordered dates\n",
    "    w = Window.orderBy(\"Event_Date\").rowsBetween(-6, 0)\n",
    "    df = (df\n",
    "          .orderBy(\"Event_Date\")\n",
    "          .withColumn(\"ma7\", F.avg(\"total_quantity\").over(w)))\n",
    "\n",
    "    # Convert to pandas for Plotly (fine for CE/sample data)\n",
    "    pdf = df.select(\"Event_Date\", \"total_quantity\", \"ma7\").toPandas()\n",
    "\n",
    "    # Plotly line chart\n",
    "    fig = px.line(\n",
    "        pdf, x=\"Event_Date\",\n",
    "        y=[\"total_quantity\", \"ma7\"],\n",
    "        labels={\"value\": \"Quantity\", \"variable\": \"Series\", \"Event_Date\": \"Date\"},\n",
    "        title=f\"Daily Demand for {product}\"\n",
    "    )\n",
    "    fig.update_traces(mode=\"lines\")\n",
    "    fig.update_layout(legend_title_text=\"Series\")\n",
    "    displayHTML(fig.to_html(include_plotlyjs=\"cdn\"))\n"
   ]
  },
  {
   "cell_type": "code",
   "execution_count": 0,
   "metadata": {
    "application/vnd.databricks.v1+cell": {
     "cellMetadata": {
      "byteLimit": 2048000,
      "rowLimit": 10000
     },
     "inputWidgets": {},
     "nuid": "fd6cae4d-6c18-4b16-a55d-2a24c8b246e4",
     "showTitle": false,
     "tableResultSettingsMap": {},
     "title": ""
    }
   },
   "outputs": [
    {
     "output_type": "display_data",
     "data": {
      "text/html": [
       "<html>\n",
       "<head><meta charset=\"utf-8\" /></head>\n",
       "<body>\n",
       "    <div>                        <script type=\"text/javascript\">window.PlotlyConfig = {MathJaxConfig: 'local'};</script>\n",
       "        <script charset=\"utf-8\" src=\"https://cdn.plot.ly/plotly-2.32.0.min.js\"></script>                <div id=\"da05e83f-edb9-4b2d-a9f3-12f226da3de2\" class=\"plotly-graph-div\" style=\"height:420px; width:100%;\"></div>            <script type=\"text/javascript\">                                    window.PLOTLYENV=window.PLOTLYENV || {};                                    if (document.getElementById(\"da05e83f-edb9-4b2d-a9f3-12f226da3de2\")) {                    Plotly.newPlot(                        \"da05e83f-edb9-4b2d-a9f3-12f226da3de2\",                        [{\"alignmentgroup\":\"True\",\"hovertemplate\":\"Product=%{x}\\u003cbr\\u003eTotal Quantity=%{y}\\u003cextra\\u003e\\u003c\\u002fextra\\u003e\",\"legendgroup\":\"\",\"marker\":{\"color\":\"#636efa\",\"pattern\":{\"shape\":\"\"}},\"name\":\"\",\"offsetgroup\":\"\",\"orientation\":\"v\",\"showlegend\":false,\"textposition\":\"auto\",\"x\":[\"Toothpaste\",\"Ice Cream\",\"Soap\",\"Jam\",\"Orange\",\"Soda\",\"Deodorant\",\"Cleaning Rags\",\"Air Freshener\",\"Peanut Butter\"],\"xaxis\":\"x\",\"y\":[73324,37094,37076,36956,36928,36924,36910,36870,36846,36818],\"yaxis\":\"y\",\"type\":\"bar\"}],                        {\"template\":{\"data\":{\"histogram2dcontour\":[{\"type\":\"histogram2dcontour\",\"colorbar\":{\"outlinewidth\":0,\"ticks\":\"\"},\"colorscale\":[[0.0,\"#0d0887\"],[0.1111111111111111,\"#46039f\"],[0.2222222222222222,\"#7201a8\"],[0.3333333333333333,\"#9c179e\"],[0.4444444444444444,\"#bd3786\"],[0.5555555555555556,\"#d8576b\"],[0.6666666666666666,\"#ed7953\"],[0.7777777777777778,\"#fb9f3a\"],[0.8888888888888888,\"#fdca26\"],[1.0,\"#f0f921\"]]}],\"choropleth\":[{\"type\":\"choropleth\",\"colorbar\":{\"outlinewidth\":0,\"ticks\":\"\"}}],\"histogram2d\":[{\"type\":\"histogram2d\",\"colorbar\":{\"outlinewidth\":0,\"ticks\":\"\"},\"colorscale\":[[0.0,\"#0d0887\"],[0.1111111111111111,\"#46039f\"],[0.2222222222222222,\"#7201a8\"],[0.3333333333333333,\"#9c179e\"],[0.4444444444444444,\"#bd3786\"],[0.5555555555555556,\"#d8576b\"],[0.6666666666666666,\"#ed7953\"],[0.7777777777777778,\"#fb9f3a\"],[0.8888888888888888,\"#fdca26\"],[1.0,\"#f0f921\"]]}],\"heatmap\":[{\"type\":\"heatmap\",\"colorbar\":{\"outlinewidth\":0,\"ticks\":\"\"},\"colorscale\":[[0.0,\"#0d0887\"],[0.1111111111111111,\"#46039f\"],[0.2222222222222222,\"#7201a8\"],[0.3333333333333333,\"#9c179e\"],[0.4444444444444444,\"#bd3786\"],[0.5555555555555556,\"#d8576b\"],[0.6666666666666666,\"#ed7953\"],[0.7777777777777778,\"#fb9f3a\"],[0.8888888888888888,\"#fdca26\"],[1.0,\"#f0f921\"]]}],\"heatmapgl\":[{\"type\":\"heatmapgl\",\"colorbar\":{\"outlinewidth\":0,\"ticks\":\"\"},\"colorscale\":[[0.0,\"#0d0887\"],[0.1111111111111111,\"#46039f\"],[0.2222222222222222,\"#7201a8\"],[0.3333333333333333,\"#9c179e\"],[0.4444444444444444,\"#bd3786\"],[0.5555555555555556,\"#d8576b\"],[0.6666666666666666,\"#ed7953\"],[0.7777777777777778,\"#fb9f3a\"],[0.8888888888888888,\"#fdca26\"],[1.0,\"#f0f921\"]]}],\"contourcarpet\":[{\"type\":\"contourcarpet\",\"colorbar\":{\"outlinewidth\":0,\"ticks\":\"\"}}],\"contour\":[{\"type\":\"contour\",\"colorbar\":{\"outlinewidth\":0,\"ticks\":\"\"},\"colorscale\":[[0.0,\"#0d0887\"],[0.1111111111111111,\"#46039f\"],[0.2222222222222222,\"#7201a8\"],[0.3333333333333333,\"#9c179e\"],[0.4444444444444444,\"#bd3786\"],[0.5555555555555556,\"#d8576b\"],[0.6666666666666666,\"#ed7953\"],[0.7777777777777778,\"#fb9f3a\"],[0.8888888888888888,\"#fdca26\"],[1.0,\"#f0f921\"]]}],\"surface\":[{\"type\":\"surface\",\"colorbar\":{\"outlinewidth\":0,\"ticks\":\"\"},\"colorscale\":[[0.0,\"#0d0887\"],[0.1111111111111111,\"#46039f\"],[0.2222222222222222,\"#7201a8\"],[0.3333333333333333,\"#9c179e\"],[0.4444444444444444,\"#bd3786\"],[0.5555555555555556,\"#d8576b\"],[0.6666666666666666,\"#ed7953\"],[0.7777777777777778,\"#fb9f3a\"],[0.8888888888888888,\"#fdca26\"],[1.0,\"#f0f921\"]]}],\"mesh3d\":[{\"type\":\"mesh3d\",\"colorbar\":{\"outlinewidth\":0,\"ticks\":\"\"}}],\"scatter\":[{\"fillpattern\":{\"fillmode\":\"overlay\",\"size\":10,\"solidity\":0.2},\"type\":\"scatter\"}],\"parcoords\":[{\"type\":\"parcoords\",\"line\":{\"colorbar\":{\"outlinewidth\":0,\"ticks\":\"\"}}}],\"scatterpolargl\":[{\"type\":\"scatterpolargl\",\"marker\":{\"colorbar\":{\"outlinewidth\":0,\"ticks\":\"\"}}}],\"bar\":[{\"error_x\":{\"color\":\"#2a3f5f\"},\"error_y\":{\"color\":\"#2a3f5f\"},\"marker\":{\"line\":{\"color\":\"#E5ECF6\",\"width\":0.5},\"pattern\":{\"fillmode\":\"overlay\",\"size\":10,\"solidity\":0.2}},\"type\":\"bar\"}],\"scattergeo\":[{\"type\":\"scattergeo\",\"marker\":{\"colorbar\":{\"outlinewidth\":0,\"ticks\":\"\"}}}],\"scatterpolar\":[{\"type\":\"scatterpolar\",\"marker\":{\"colorbar\":{\"outlinewidth\":0,\"ticks\":\"\"}}}],\"histogram\":[{\"marker\":{\"pattern\":{\"fillmode\":\"overlay\",\"size\":10,\"solidity\":0.2}},\"type\":\"histogram\"}],\"scattergl\":[{\"type\":\"scattergl\",\"marker\":{\"colorbar\":{\"outlinewidth\":0,\"ticks\":\"\"}}}],\"scatter3d\":[{\"type\":\"scatter3d\",\"line\":{\"colorbar\":{\"outlinewidth\":0,\"ticks\":\"\"}},\"marker\":{\"colorbar\":{\"outlinewidth\":0,\"ticks\":\"\"}}}],\"scattermapbox\":[{\"type\":\"scattermapbox\",\"marker\":{\"colorbar\":{\"outlinewidth\":0,\"ticks\":\"\"}}}],\"scatterternary\":[{\"type\":\"scatterternary\",\"marker\":{\"colorbar\":{\"outlinewidth\":0,\"ticks\":\"\"}}}],\"scattercarpet\":[{\"type\":\"scattercarpet\",\"marker\":{\"colorbar\":{\"outlinewidth\":0,\"ticks\":\"\"}}}],\"carpet\":[{\"aaxis\":{\"endlinecolor\":\"#2a3f5f\",\"gridcolor\":\"white\",\"linecolor\":\"white\",\"minorgridcolor\":\"white\",\"startlinecolor\":\"#2a3f5f\"},\"baxis\":{\"endlinecolor\":\"#2a3f5f\",\"gridcolor\":\"white\",\"linecolor\":\"white\",\"minorgridcolor\":\"white\",\"startlinecolor\":\"#2a3f5f\"},\"type\":\"carpet\"}],\"table\":[{\"cells\":{\"fill\":{\"color\":\"#EBF0F8\"},\"line\":{\"color\":\"white\"}},\"header\":{\"fill\":{\"color\":\"#C8D4E3\"},\"line\":{\"color\":\"white\"}},\"type\":\"table\"}],\"barpolar\":[{\"marker\":{\"line\":{\"color\":\"#E5ECF6\",\"width\":0.5},\"pattern\":{\"fillmode\":\"overlay\",\"size\":10,\"solidity\":0.2}},\"type\":\"barpolar\"}],\"pie\":[{\"automargin\":true,\"type\":\"pie\"}]},\"layout\":{\"autotypenumbers\":\"strict\",\"colorway\":[\"#636efa\",\"#EF553B\",\"#00cc96\",\"#ab63fa\",\"#FFA15A\",\"#19d3f3\",\"#FF6692\",\"#B6E880\",\"#FF97FF\",\"#FECB52\"],\"font\":{\"color\":\"#2a3f5f\"},\"hovermode\":\"closest\",\"hoverlabel\":{\"align\":\"left\"},\"paper_bgcolor\":\"white\",\"plot_bgcolor\":\"#E5ECF6\",\"polar\":{\"bgcolor\":\"#E5ECF6\",\"angularaxis\":{\"gridcolor\":\"white\",\"linecolor\":\"white\",\"ticks\":\"\"},\"radialaxis\":{\"gridcolor\":\"white\",\"linecolor\":\"white\",\"ticks\":\"\"}},\"ternary\":{\"bgcolor\":\"#E5ECF6\",\"aaxis\":{\"gridcolor\":\"white\",\"linecolor\":\"white\",\"ticks\":\"\"},\"baxis\":{\"gridcolor\":\"white\",\"linecolor\":\"white\",\"ticks\":\"\"},\"caxis\":{\"gridcolor\":\"white\",\"linecolor\":\"white\",\"ticks\":\"\"}},\"coloraxis\":{\"colorbar\":{\"outlinewidth\":0,\"ticks\":\"\"}},\"colorscale\":{\"sequential\":[[0.0,\"#0d0887\"],[0.1111111111111111,\"#46039f\"],[0.2222222222222222,\"#7201a8\"],[0.3333333333333333,\"#9c179e\"],[0.4444444444444444,\"#bd3786\"],[0.5555555555555556,\"#d8576b\"],[0.6666666666666666,\"#ed7953\"],[0.7777777777777778,\"#fb9f3a\"],[0.8888888888888888,\"#fdca26\"],[1.0,\"#f0f921\"]],\"sequentialminus\":[[0.0,\"#0d0887\"],[0.1111111111111111,\"#46039f\"],[0.2222222222222222,\"#7201a8\"],[0.3333333333333333,\"#9c179e\"],[0.4444444444444444,\"#bd3786\"],[0.5555555555555556,\"#d8576b\"],[0.6666666666666666,\"#ed7953\"],[0.7777777777777778,\"#fb9f3a\"],[0.8888888888888888,\"#fdca26\"],[1.0,\"#f0f921\"]],\"diverging\":[[0,\"#8e0152\"],[0.1,\"#c51b7d\"],[0.2,\"#de77ae\"],[0.3,\"#f1b6da\"],[0.4,\"#fde0ef\"],[0.5,\"#f7f7f7\"],[0.6,\"#e6f5d0\"],[0.7,\"#b8e186\"],[0.8,\"#7fbc41\"],[0.9,\"#4d9221\"],[1,\"#276419\"]]},\"xaxis\":{\"gridcolor\":\"white\",\"linecolor\":\"white\",\"ticks\":\"\",\"title\":{\"standoff\":15},\"zerolinecolor\":\"white\",\"automargin\":true,\"zerolinewidth\":2},\"yaxis\":{\"gridcolor\":\"white\",\"linecolor\":\"white\",\"ticks\":\"\",\"title\":{\"standoff\":15},\"zerolinecolor\":\"white\",\"automargin\":true,\"zerolinewidth\":2},\"scene\":{\"xaxis\":{\"backgroundcolor\":\"#E5ECF6\",\"gridcolor\":\"white\",\"linecolor\":\"white\",\"showbackground\":true,\"ticks\":\"\",\"zerolinecolor\":\"white\",\"gridwidth\":2},\"yaxis\":{\"backgroundcolor\":\"#E5ECF6\",\"gridcolor\":\"white\",\"linecolor\":\"white\",\"showbackground\":true,\"ticks\":\"\",\"zerolinecolor\":\"white\",\"gridwidth\":2},\"zaxis\":{\"backgroundcolor\":\"#E5ECF6\",\"gridcolor\":\"white\",\"linecolor\":\"white\",\"showbackground\":true,\"ticks\":\"\",\"zerolinecolor\":\"white\",\"gridwidth\":2}},\"shapedefaults\":{\"line\":{\"color\":\"#2a3f5f\"}},\"annotationdefaults\":{\"arrowcolor\":\"#2a3f5f\",\"arrowhead\":0,\"arrowwidth\":1},\"geo\":{\"bgcolor\":\"white\",\"landcolor\":\"#E5ECF6\",\"subunitcolor\":\"white\",\"showland\":true,\"showlakes\":true,\"lakecolor\":\"white\"},\"title\":{\"x\":0.05},\"mapbox\":{\"style\":\"light\"}}},\"xaxis\":{\"anchor\":\"y\",\"domain\":[0.0,1.0],\"title\":{\"text\":\"Product\"},\"tickangle\":-30},\"yaxis\":{\"anchor\":\"x\",\"domain\":[0.0,1.0],\"title\":{\"text\":\"Total Quantity\"}},\"legend\":{\"tracegroupgap\":0},\"title\":{\"text\":\"Top 10 Products by Quantity\"},\"barmode\":\"relative\",\"height\":420},                        {\"responsive\": true}                    )                };                            </script>        </div>\n",
       "</body>\n",
       "</html>"
      ]
     },
     "metadata": {},
     "output_type": "display_data"
    },
    {
     "output_type": "display_data",
     "data": {
      "text/html": [
       "<html>\n",
       "<head><meta charset=\"utf-8\" /></head>\n",
       "<body>\n",
       "    <div>                        <script type=\"text/javascript\">window.PlotlyConfig = {MathJaxConfig: 'local'};</script>\n",
       "        <script charset=\"utf-8\" src=\"https://cdn.plot.ly/plotly-2.32.0.min.js\"></script>                <div id=\"e588df91-ef0e-4371-bfc0-d9c16c8488c9\" class=\"plotly-graph-div\" style=\"height:420px; width:100%;\"></div>            <script type=\"text/javascript\">                                    window.PLOTLYENV=window.PLOTLYENV || {};                                    if (document.getElementById(\"e588df91-ef0e-4371-bfc0-d9c16c8488c9\")) {                    Plotly.newPlot(                        \"e588df91-ef0e-4371-bfc0-d9c16c8488c9\",                        [{\"alignmentgroup\":\"True\",\"hovertemplate\":\"Product=%{x}\\u003cbr\\u003eTotal Quantity=%{y}\\u003cextra\\u003e\\u003c\\u002fextra\\u003e\",\"legendgroup\":\"\",\"marker\":{\"color\":\"#636efa\",\"pattern\":{\"shape\":\"\"}},\"name\":\"\",\"offsetgroup\":\"\",\"orientation\":\"v\",\"showlegend\":false,\"textposition\":\"auto\",\"x\":[\"Trash Bags\",\"Canned Soup\",\"Water\",\"Chicken\",\"Dustpan\",\"Toilet Paper\",\"Cereal\",\"Bread\",\"Spinach\",\"Tissues\"],\"xaxis\":\"x\",\"y\":[36187,36213,36217,36260,36289,36290,36290,36307,36322,36330],\"yaxis\":\"y\",\"type\":\"bar\"}],                        {\"template\":{\"data\":{\"histogram2dcontour\":[{\"type\":\"histogram2dcontour\",\"colorbar\":{\"outlinewidth\":0,\"ticks\":\"\"},\"colorscale\":[[0.0,\"#0d0887\"],[0.1111111111111111,\"#46039f\"],[0.2222222222222222,\"#7201a8\"],[0.3333333333333333,\"#9c179e\"],[0.4444444444444444,\"#bd3786\"],[0.5555555555555556,\"#d8576b\"],[0.6666666666666666,\"#ed7953\"],[0.7777777777777778,\"#fb9f3a\"],[0.8888888888888888,\"#fdca26\"],[1.0,\"#f0f921\"]]}],\"choropleth\":[{\"type\":\"choropleth\",\"colorbar\":{\"outlinewidth\":0,\"ticks\":\"\"}}],\"histogram2d\":[{\"type\":\"histogram2d\",\"colorbar\":{\"outlinewidth\":0,\"ticks\":\"\"},\"colorscale\":[[0.0,\"#0d0887\"],[0.1111111111111111,\"#46039f\"],[0.2222222222222222,\"#7201a8\"],[0.3333333333333333,\"#9c179e\"],[0.4444444444444444,\"#bd3786\"],[0.5555555555555556,\"#d8576b\"],[0.6666666666666666,\"#ed7953\"],[0.7777777777777778,\"#fb9f3a\"],[0.8888888888888888,\"#fdca26\"],[1.0,\"#f0f921\"]]}],\"heatmap\":[{\"type\":\"heatmap\",\"colorbar\":{\"outlinewidth\":0,\"ticks\":\"\"},\"colorscale\":[[0.0,\"#0d0887\"],[0.1111111111111111,\"#46039f\"],[0.2222222222222222,\"#7201a8\"],[0.3333333333333333,\"#9c179e\"],[0.4444444444444444,\"#bd3786\"],[0.5555555555555556,\"#d8576b\"],[0.6666666666666666,\"#ed7953\"],[0.7777777777777778,\"#fb9f3a\"],[0.8888888888888888,\"#fdca26\"],[1.0,\"#f0f921\"]]}],\"heatmapgl\":[{\"type\":\"heatmapgl\",\"colorbar\":{\"outlinewidth\":0,\"ticks\":\"\"},\"colorscale\":[[0.0,\"#0d0887\"],[0.1111111111111111,\"#46039f\"],[0.2222222222222222,\"#7201a8\"],[0.3333333333333333,\"#9c179e\"],[0.4444444444444444,\"#bd3786\"],[0.5555555555555556,\"#d8576b\"],[0.6666666666666666,\"#ed7953\"],[0.7777777777777778,\"#fb9f3a\"],[0.8888888888888888,\"#fdca26\"],[1.0,\"#f0f921\"]]}],\"contourcarpet\":[{\"type\":\"contourcarpet\",\"colorbar\":{\"outlinewidth\":0,\"ticks\":\"\"}}],\"contour\":[{\"type\":\"contour\",\"colorbar\":{\"outlinewidth\":0,\"ticks\":\"\"},\"colorscale\":[[0.0,\"#0d0887\"],[0.1111111111111111,\"#46039f\"],[0.2222222222222222,\"#7201a8\"],[0.3333333333333333,\"#9c179e\"],[0.4444444444444444,\"#bd3786\"],[0.5555555555555556,\"#d8576b\"],[0.6666666666666666,\"#ed7953\"],[0.7777777777777778,\"#fb9f3a\"],[0.8888888888888888,\"#fdca26\"],[1.0,\"#f0f921\"]]}],\"surface\":[{\"type\":\"surface\",\"colorbar\":{\"outlinewidth\":0,\"ticks\":\"\"},\"colorscale\":[[0.0,\"#0d0887\"],[0.1111111111111111,\"#46039f\"],[0.2222222222222222,\"#7201a8\"],[0.3333333333333333,\"#9c179e\"],[0.4444444444444444,\"#bd3786\"],[0.5555555555555556,\"#d8576b\"],[0.6666666666666666,\"#ed7953\"],[0.7777777777777778,\"#fb9f3a\"],[0.8888888888888888,\"#fdca26\"],[1.0,\"#f0f921\"]]}],\"mesh3d\":[{\"type\":\"mesh3d\",\"colorbar\":{\"outlinewidth\":0,\"ticks\":\"\"}}],\"scatter\":[{\"fillpattern\":{\"fillmode\":\"overlay\",\"size\":10,\"solidity\":0.2},\"type\":\"scatter\"}],\"parcoords\":[{\"type\":\"parcoords\",\"line\":{\"colorbar\":{\"outlinewidth\":0,\"ticks\":\"\"}}}],\"scatterpolargl\":[{\"type\":\"scatterpolargl\",\"marker\":{\"colorbar\":{\"outlinewidth\":0,\"ticks\":\"\"}}}],\"bar\":[{\"error_x\":{\"color\":\"#2a3f5f\"},\"error_y\":{\"color\":\"#2a3f5f\"},\"marker\":{\"line\":{\"color\":\"#E5ECF6\",\"width\":0.5},\"pattern\":{\"fillmode\":\"overlay\",\"size\":10,\"solidity\":0.2}},\"type\":\"bar\"}],\"scattergeo\":[{\"type\":\"scattergeo\",\"marker\":{\"colorbar\":{\"outlinewidth\":0,\"ticks\":\"\"}}}],\"scatterpolar\":[{\"type\":\"scatterpolar\",\"marker\":{\"colorbar\":{\"outlinewidth\":0,\"ticks\":\"\"}}}],\"histogram\":[{\"marker\":{\"pattern\":{\"fillmode\":\"overlay\",\"size\":10,\"solidity\":0.2}},\"type\":\"histogram\"}],\"scattergl\":[{\"type\":\"scattergl\",\"marker\":{\"colorbar\":{\"outlinewidth\":0,\"ticks\":\"\"}}}],\"scatter3d\":[{\"type\":\"scatter3d\",\"line\":{\"colorbar\":{\"outlinewidth\":0,\"ticks\":\"\"}},\"marker\":{\"colorbar\":{\"outlinewidth\":0,\"ticks\":\"\"}}}],\"scattermapbox\":[{\"type\":\"scattermapbox\",\"marker\":{\"colorbar\":{\"outlinewidth\":0,\"ticks\":\"\"}}}],\"scatterternary\":[{\"type\":\"scatterternary\",\"marker\":{\"colorbar\":{\"outlinewidth\":0,\"ticks\":\"\"}}}],\"scattercarpet\":[{\"type\":\"scattercarpet\",\"marker\":{\"colorbar\":{\"outlinewidth\":0,\"ticks\":\"\"}}}],\"carpet\":[{\"aaxis\":{\"endlinecolor\":\"#2a3f5f\",\"gridcolor\":\"white\",\"linecolor\":\"white\",\"minorgridcolor\":\"white\",\"startlinecolor\":\"#2a3f5f\"},\"baxis\":{\"endlinecolor\":\"#2a3f5f\",\"gridcolor\":\"white\",\"linecolor\":\"white\",\"minorgridcolor\":\"white\",\"startlinecolor\":\"#2a3f5f\"},\"type\":\"carpet\"}],\"table\":[{\"cells\":{\"fill\":{\"color\":\"#EBF0F8\"},\"line\":{\"color\":\"white\"}},\"header\":{\"fill\":{\"color\":\"#C8D4E3\"},\"line\":{\"color\":\"white\"}},\"type\":\"table\"}],\"barpolar\":[{\"marker\":{\"line\":{\"color\":\"#E5ECF6\",\"width\":0.5},\"pattern\":{\"fillmode\":\"overlay\",\"size\":10,\"solidity\":0.2}},\"type\":\"barpolar\"}],\"pie\":[{\"automargin\":true,\"type\":\"pie\"}]},\"layout\":{\"autotypenumbers\":\"strict\",\"colorway\":[\"#636efa\",\"#EF553B\",\"#00cc96\",\"#ab63fa\",\"#FFA15A\",\"#19d3f3\",\"#FF6692\",\"#B6E880\",\"#FF97FF\",\"#FECB52\"],\"font\":{\"color\":\"#2a3f5f\"},\"hovermode\":\"closest\",\"hoverlabel\":{\"align\":\"left\"},\"paper_bgcolor\":\"white\",\"plot_bgcolor\":\"#E5ECF6\",\"polar\":{\"bgcolor\":\"#E5ECF6\",\"angularaxis\":{\"gridcolor\":\"white\",\"linecolor\":\"white\",\"ticks\":\"\"},\"radialaxis\":{\"gridcolor\":\"white\",\"linecolor\":\"white\",\"ticks\":\"\"}},\"ternary\":{\"bgcolor\":\"#E5ECF6\",\"aaxis\":{\"gridcolor\":\"white\",\"linecolor\":\"white\",\"ticks\":\"\"},\"baxis\":{\"gridcolor\":\"white\",\"linecolor\":\"white\",\"ticks\":\"\"},\"caxis\":{\"gridcolor\":\"white\",\"linecolor\":\"white\",\"ticks\":\"\"}},\"coloraxis\":{\"colorbar\":{\"outlinewidth\":0,\"ticks\":\"\"}},\"colorscale\":{\"sequential\":[[0.0,\"#0d0887\"],[0.1111111111111111,\"#46039f\"],[0.2222222222222222,\"#7201a8\"],[0.3333333333333333,\"#9c179e\"],[0.4444444444444444,\"#bd3786\"],[0.5555555555555556,\"#d8576b\"],[0.6666666666666666,\"#ed7953\"],[0.7777777777777778,\"#fb9f3a\"],[0.8888888888888888,\"#fdca26\"],[1.0,\"#f0f921\"]],\"sequentialminus\":[[0.0,\"#0d0887\"],[0.1111111111111111,\"#46039f\"],[0.2222222222222222,\"#7201a8\"],[0.3333333333333333,\"#9c179e\"],[0.4444444444444444,\"#bd3786\"],[0.5555555555555556,\"#d8576b\"],[0.6666666666666666,\"#ed7953\"],[0.7777777777777778,\"#fb9f3a\"],[0.8888888888888888,\"#fdca26\"],[1.0,\"#f0f921\"]],\"diverging\":[[0,\"#8e0152\"],[0.1,\"#c51b7d\"],[0.2,\"#de77ae\"],[0.3,\"#f1b6da\"],[0.4,\"#fde0ef\"],[0.5,\"#f7f7f7\"],[0.6,\"#e6f5d0\"],[0.7,\"#b8e186\"],[0.8,\"#7fbc41\"],[0.9,\"#4d9221\"],[1,\"#276419\"]]},\"xaxis\":{\"gridcolor\":\"white\",\"linecolor\":\"white\",\"ticks\":\"\",\"title\":{\"standoff\":15},\"zerolinecolor\":\"white\",\"automargin\":true,\"zerolinewidth\":2},\"yaxis\":{\"gridcolor\":\"white\",\"linecolor\":\"white\",\"ticks\":\"\",\"title\":{\"standoff\":15},\"zerolinecolor\":\"white\",\"automargin\":true,\"zerolinewidth\":2},\"scene\":{\"xaxis\":{\"backgroundcolor\":\"#E5ECF6\",\"gridcolor\":\"white\",\"linecolor\":\"white\",\"showbackground\":true,\"ticks\":\"\",\"zerolinecolor\":\"white\",\"gridwidth\":2},\"yaxis\":{\"backgroundcolor\":\"#E5ECF6\",\"gridcolor\":\"white\",\"linecolor\":\"white\",\"showbackground\":true,\"ticks\":\"\",\"zerolinecolor\":\"white\",\"gridwidth\":2},\"zaxis\":{\"backgroundcolor\":\"#E5ECF6\",\"gridcolor\":\"white\",\"linecolor\":\"white\",\"showbackground\":true,\"ticks\":\"\",\"zerolinecolor\":\"white\",\"gridwidth\":2}},\"shapedefaults\":{\"line\":{\"color\":\"#2a3f5f\"}},\"annotationdefaults\":{\"arrowcolor\":\"#2a3f5f\",\"arrowhead\":0,\"arrowwidth\":1},\"geo\":{\"bgcolor\":\"white\",\"landcolor\":\"#E5ECF6\",\"subunitcolor\":\"white\",\"showland\":true,\"showlakes\":true,\"lakecolor\":\"white\"},\"title\":{\"x\":0.05},\"mapbox\":{\"style\":\"light\"}}},\"xaxis\":{\"anchor\":\"y\",\"domain\":[0.0,1.0],\"title\":{\"text\":\"Product\"},\"tickangle\":-30},\"yaxis\":{\"anchor\":\"x\",\"domain\":[0.0,1.0],\"title\":{\"text\":\"Total Quantity\"}},\"legend\":{\"tracegroupgap\":0},\"title\":{\"text\":\"Bottom 10 Products by Quantity (qty\\u003e0)\"},\"barmode\":\"relative\",\"height\":420},                        {\"responsive\": true}                    )                };                            </script>        </div>\n",
       "</body>\n",
       "</html>"
      ]
     },
     "metadata": {},
     "output_type": "display_data"
    },
    {
     "output_type": "display_data",
     "data": {
      "text/html": [
       "<html>\n",
       "<head><meta charset=\"utf-8\" /></head>\n",
       "<body>\n",
       "    <div>                        <script type=\"text/javascript\">window.PlotlyConfig = {MathJaxConfig: 'local'};</script>\n",
       "        <script charset=\"utf-8\" src=\"https://cdn.plot.ly/plotly-2.32.0.min.js\"></script>                <div id=\"ae6921f7-a69d-42d7-8092-71e9b92f7d72\" class=\"plotly-graph-div\" style=\"height:100%; width:100%;\"></div>            <script type=\"text/javascript\">                                    window.PLOTLYENV=window.PLOTLYENV || {};                                    if (document.getElementById(\"ae6921f7-a69d-42d7-8092-71e9b92f7d72\")) {                    Plotly.newPlot(                        \"ae6921f7-a69d-42d7-8092-71e9b92f7d72\",                        [{\"alignmentgroup\":\"True\",\"hovertemplate\":\"Season=%{x}\\u003cbr\\u003eTotal Quantity=%{y}\\u003cextra\\u003e\\u003c\\u002fextra\\u003e\",\"legendgroup\":\"\",\"marker\":{\"color\":\"#636efa\",\"pattern\":{\"shape\":\"\"}},\"name\":\"\",\"offsetgroup\":\"\",\"orientation\":\"v\",\"showlegend\":false,\"textposition\":\"auto\",\"x\":[\"Spring\",\"Winter\",\"Summer\",\"Fall\"],\"xaxis\":\"x\",\"y\":[838057,789989,689453,682844],\"yaxis\":\"y\",\"type\":\"bar\"}],                        {\"template\":{\"data\":{\"histogram2dcontour\":[{\"type\":\"histogram2dcontour\",\"colorbar\":{\"outlinewidth\":0,\"ticks\":\"\"},\"colorscale\":[[0.0,\"#0d0887\"],[0.1111111111111111,\"#46039f\"],[0.2222222222222222,\"#7201a8\"],[0.3333333333333333,\"#9c179e\"],[0.4444444444444444,\"#bd3786\"],[0.5555555555555556,\"#d8576b\"],[0.6666666666666666,\"#ed7953\"],[0.7777777777777778,\"#fb9f3a\"],[0.8888888888888888,\"#fdca26\"],[1.0,\"#f0f921\"]]}],\"choropleth\":[{\"type\":\"choropleth\",\"colorbar\":{\"outlinewidth\":0,\"ticks\":\"\"}}],\"histogram2d\":[{\"type\":\"histogram2d\",\"colorbar\":{\"outlinewidth\":0,\"ticks\":\"\"},\"colorscale\":[[0.0,\"#0d0887\"],[0.1111111111111111,\"#46039f\"],[0.2222222222222222,\"#7201a8\"],[0.3333333333333333,\"#9c179e\"],[0.4444444444444444,\"#bd3786\"],[0.5555555555555556,\"#d8576b\"],[0.6666666666666666,\"#ed7953\"],[0.7777777777777778,\"#fb9f3a\"],[0.8888888888888888,\"#fdca26\"],[1.0,\"#f0f921\"]]}],\"heatmap\":[{\"type\":\"heatmap\",\"colorbar\":{\"outlinewidth\":0,\"ticks\":\"\"},\"colorscale\":[[0.0,\"#0d0887\"],[0.1111111111111111,\"#46039f\"],[0.2222222222222222,\"#7201a8\"],[0.3333333333333333,\"#9c179e\"],[0.4444444444444444,\"#bd3786\"],[0.5555555555555556,\"#d8576b\"],[0.6666666666666666,\"#ed7953\"],[0.7777777777777778,\"#fb9f3a\"],[0.8888888888888888,\"#fdca26\"],[1.0,\"#f0f921\"]]}],\"heatmapgl\":[{\"type\":\"heatmapgl\",\"colorbar\":{\"outlinewidth\":0,\"ticks\":\"\"},\"colorscale\":[[0.0,\"#0d0887\"],[0.1111111111111111,\"#46039f\"],[0.2222222222222222,\"#7201a8\"],[0.3333333333333333,\"#9c179e\"],[0.4444444444444444,\"#bd3786\"],[0.5555555555555556,\"#d8576b\"],[0.6666666666666666,\"#ed7953\"],[0.7777777777777778,\"#fb9f3a\"],[0.8888888888888888,\"#fdca26\"],[1.0,\"#f0f921\"]]}],\"contourcarpet\":[{\"type\":\"contourcarpet\",\"colorbar\":{\"outlinewidth\":0,\"ticks\":\"\"}}],\"contour\":[{\"type\":\"contour\",\"colorbar\":{\"outlinewidth\":0,\"ticks\":\"\"},\"colorscale\":[[0.0,\"#0d0887\"],[0.1111111111111111,\"#46039f\"],[0.2222222222222222,\"#7201a8\"],[0.3333333333333333,\"#9c179e\"],[0.4444444444444444,\"#bd3786\"],[0.5555555555555556,\"#d8576b\"],[0.6666666666666666,\"#ed7953\"],[0.7777777777777778,\"#fb9f3a\"],[0.8888888888888888,\"#fdca26\"],[1.0,\"#f0f921\"]]}],\"surface\":[{\"type\":\"surface\",\"colorbar\":{\"outlinewidth\":0,\"ticks\":\"\"},\"colorscale\":[[0.0,\"#0d0887\"],[0.1111111111111111,\"#46039f\"],[0.2222222222222222,\"#7201a8\"],[0.3333333333333333,\"#9c179e\"],[0.4444444444444444,\"#bd3786\"],[0.5555555555555556,\"#d8576b\"],[0.6666666666666666,\"#ed7953\"],[0.7777777777777778,\"#fb9f3a\"],[0.8888888888888888,\"#fdca26\"],[1.0,\"#f0f921\"]]}],\"mesh3d\":[{\"type\":\"mesh3d\",\"colorbar\":{\"outlinewidth\":0,\"ticks\":\"\"}}],\"scatter\":[{\"fillpattern\":{\"fillmode\":\"overlay\",\"size\":10,\"solidity\":0.2},\"type\":\"scatter\"}],\"parcoords\":[{\"type\":\"parcoords\",\"line\":{\"colorbar\":{\"outlinewidth\":0,\"ticks\":\"\"}}}],\"scatterpolargl\":[{\"type\":\"scatterpolargl\",\"marker\":{\"colorbar\":{\"outlinewidth\":0,\"ticks\":\"\"}}}],\"bar\":[{\"error_x\":{\"color\":\"#2a3f5f\"},\"error_y\":{\"color\":\"#2a3f5f\"},\"marker\":{\"line\":{\"color\":\"#E5ECF6\",\"width\":0.5},\"pattern\":{\"fillmode\":\"overlay\",\"size\":10,\"solidity\":0.2}},\"type\":\"bar\"}],\"scattergeo\":[{\"type\":\"scattergeo\",\"marker\":{\"colorbar\":{\"outlinewidth\":0,\"ticks\":\"\"}}}],\"scatterpolar\":[{\"type\":\"scatterpolar\",\"marker\":{\"colorbar\":{\"outlinewidth\":0,\"ticks\":\"\"}}}],\"histogram\":[{\"marker\":{\"pattern\":{\"fillmode\":\"overlay\",\"size\":10,\"solidity\":0.2}},\"type\":\"histogram\"}],\"scattergl\":[{\"type\":\"scattergl\",\"marker\":{\"colorbar\":{\"outlinewidth\":0,\"ticks\":\"\"}}}],\"scatter3d\":[{\"type\":\"scatter3d\",\"line\":{\"colorbar\":{\"outlinewidth\":0,\"ticks\":\"\"}},\"marker\":{\"colorbar\":{\"outlinewidth\":0,\"ticks\":\"\"}}}],\"scattermapbox\":[{\"type\":\"scattermapbox\",\"marker\":{\"colorbar\":{\"outlinewidth\":0,\"ticks\":\"\"}}}],\"scatterternary\":[{\"type\":\"scatterternary\",\"marker\":{\"colorbar\":{\"outlinewidth\":0,\"ticks\":\"\"}}}],\"scattercarpet\":[{\"type\":\"scattercarpet\",\"marker\":{\"colorbar\":{\"outlinewidth\":0,\"ticks\":\"\"}}}],\"carpet\":[{\"aaxis\":{\"endlinecolor\":\"#2a3f5f\",\"gridcolor\":\"white\",\"linecolor\":\"white\",\"minorgridcolor\":\"white\",\"startlinecolor\":\"#2a3f5f\"},\"baxis\":{\"endlinecolor\":\"#2a3f5f\",\"gridcolor\":\"white\",\"linecolor\":\"white\",\"minorgridcolor\":\"white\",\"startlinecolor\":\"#2a3f5f\"},\"type\":\"carpet\"}],\"table\":[{\"cells\":{\"fill\":{\"color\":\"#EBF0F8\"},\"line\":{\"color\":\"white\"}},\"header\":{\"fill\":{\"color\":\"#C8D4E3\"},\"line\":{\"color\":\"white\"}},\"type\":\"table\"}],\"barpolar\":[{\"marker\":{\"line\":{\"color\":\"#E5ECF6\",\"width\":0.5},\"pattern\":{\"fillmode\":\"overlay\",\"size\":10,\"solidity\":0.2}},\"type\":\"barpolar\"}],\"pie\":[{\"automargin\":true,\"type\":\"pie\"}]},\"layout\":{\"autotypenumbers\":\"strict\",\"colorway\":[\"#636efa\",\"#EF553B\",\"#00cc96\",\"#ab63fa\",\"#FFA15A\",\"#19d3f3\",\"#FF6692\",\"#B6E880\",\"#FF97FF\",\"#FECB52\"],\"font\":{\"color\":\"#2a3f5f\"},\"hovermode\":\"closest\",\"hoverlabel\":{\"align\":\"left\"},\"paper_bgcolor\":\"white\",\"plot_bgcolor\":\"#E5ECF6\",\"polar\":{\"bgcolor\":\"#E5ECF6\",\"angularaxis\":{\"gridcolor\":\"white\",\"linecolor\":\"white\",\"ticks\":\"\"},\"radialaxis\":{\"gridcolor\":\"white\",\"linecolor\":\"white\",\"ticks\":\"\"}},\"ternary\":{\"bgcolor\":\"#E5ECF6\",\"aaxis\":{\"gridcolor\":\"white\",\"linecolor\":\"white\",\"ticks\":\"\"},\"baxis\":{\"gridcolor\":\"white\",\"linecolor\":\"white\",\"ticks\":\"\"},\"caxis\":{\"gridcolor\":\"white\",\"linecolor\":\"white\",\"ticks\":\"\"}},\"coloraxis\":{\"colorbar\":{\"outlinewidth\":0,\"ticks\":\"\"}},\"colorscale\":{\"sequential\":[[0.0,\"#0d0887\"],[0.1111111111111111,\"#46039f\"],[0.2222222222222222,\"#7201a8\"],[0.3333333333333333,\"#9c179e\"],[0.4444444444444444,\"#bd3786\"],[0.5555555555555556,\"#d8576b\"],[0.6666666666666666,\"#ed7953\"],[0.7777777777777778,\"#fb9f3a\"],[0.8888888888888888,\"#fdca26\"],[1.0,\"#f0f921\"]],\"sequentialminus\":[[0.0,\"#0d0887\"],[0.1111111111111111,\"#46039f\"],[0.2222222222222222,\"#7201a8\"],[0.3333333333333333,\"#9c179e\"],[0.4444444444444444,\"#bd3786\"],[0.5555555555555556,\"#d8576b\"],[0.6666666666666666,\"#ed7953\"],[0.7777777777777778,\"#fb9f3a\"],[0.8888888888888888,\"#fdca26\"],[1.0,\"#f0f921\"]],\"diverging\":[[0,\"#8e0152\"],[0.1,\"#c51b7d\"],[0.2,\"#de77ae\"],[0.3,\"#f1b6da\"],[0.4,\"#fde0ef\"],[0.5,\"#f7f7f7\"],[0.6,\"#e6f5d0\"],[0.7,\"#b8e186\"],[0.8,\"#7fbc41\"],[0.9,\"#4d9221\"],[1,\"#276419\"]]},\"xaxis\":{\"gridcolor\":\"white\",\"linecolor\":\"white\",\"ticks\":\"\",\"title\":{\"standoff\":15},\"zerolinecolor\":\"white\",\"automargin\":true,\"zerolinewidth\":2},\"yaxis\":{\"gridcolor\":\"white\",\"linecolor\":\"white\",\"ticks\":\"\",\"title\":{\"standoff\":15},\"zerolinecolor\":\"white\",\"automargin\":true,\"zerolinewidth\":2},\"scene\":{\"xaxis\":{\"backgroundcolor\":\"#E5ECF6\",\"gridcolor\":\"white\",\"linecolor\":\"white\",\"showbackground\":true,\"ticks\":\"\",\"zerolinecolor\":\"white\",\"gridwidth\":2},\"yaxis\":{\"backgroundcolor\":\"#E5ECF6\",\"gridcolor\":\"white\",\"linecolor\":\"white\",\"showbackground\":true,\"ticks\":\"\",\"zerolinecolor\":\"white\",\"gridwidth\":2},\"zaxis\":{\"backgroundcolor\":\"#E5ECF6\",\"gridcolor\":\"white\",\"linecolor\":\"white\",\"showbackground\":true,\"ticks\":\"\",\"zerolinecolor\":\"white\",\"gridwidth\":2}},\"shapedefaults\":{\"line\":{\"color\":\"#2a3f5f\"}},\"annotationdefaults\":{\"arrowcolor\":\"#2a3f5f\",\"arrowhead\":0,\"arrowwidth\":1},\"geo\":{\"bgcolor\":\"white\",\"landcolor\":\"#E5ECF6\",\"subunitcolor\":\"white\",\"showland\":true,\"showlakes\":true,\"lakecolor\":\"white\"},\"title\":{\"x\":0.05},\"mapbox\":{\"style\":\"light\"}}},\"xaxis\":{\"anchor\":\"y\",\"domain\":[0.0,1.0],\"title\":{\"text\":\"Season\"}},\"yaxis\":{\"anchor\":\"x\",\"domain\":[0.0,1.0],\"title\":{\"text\":\"Total Quantity\"}},\"legend\":{\"tracegroupgap\":0},\"title\":{\"text\":\"Demand by Season (Total)\"},\"barmode\":\"relative\"},                        {\"responsive\": true}                    )                };                            </script>        </div>\n",
       "</body>\n",
       "</html>"
      ]
     },
     "metadata": {},
     "output_type": "display_data"
    },
    {
     "output_type": "display_data",
     "data": {
      "text/html": [
       "<html>\n",
       "<head><meta charset=\"utf-8\" /></head>\n",
       "<body>\n",
       "    <div>                        <script type=\"text/javascript\">window.PlotlyConfig = {MathJaxConfig: 'local'};</script>\n",
       "        <script charset=\"utf-8\" src=\"https://cdn.plot.ly/plotly-2.32.0.min.js\"></script>                <div id=\"81b54104-5a35-431f-9f39-f791abdc4db5\" class=\"plotly-graph-div\" style=\"height:500px; width:100%;\"></div>            <script type=\"text/javascript\">                                    window.PLOTLYENV=window.PLOTLYENV || {};                                    if (document.getElementById(\"81b54104-5a35-431f-9f39-f791abdc4db5\")) {                    Plotly.newPlot(                        \"81b54104-5a35-431f-9f39-f791abdc4db5\",                        [{\"alignmentgroup\":\"True\",\"hovertemplate\":\"Season \\u2014 Product=%{x}\\u003cbr\\u003eQuantity=%{y}\\u003cextra\\u003e\\u003c\\u002fextra\\u003e\",\"legendgroup\":\"\",\"marker\":{\"color\":\"#636efa\",\"pattern\":{\"shape\":\"\"}},\"name\":\"\",\"offsetgroup\":\"\",\"orientation\":\"v\",\"showlegend\":false,\"textposition\":\"auto\",\"x\":[\"Fall \\u2014 Toothpaste\",\"Fall \\u2014 Ironing Board\",\"Fall \\u2014 BBQ Sauce\",\"Fall \\u2014 Carrots\",\"Fall \\u2014 Light Bulbs\",\"Fall \\u2014 Deodorant\",\"Fall \\u2014 Soda\",\"Fall \\u2014 Dish Soap\",\"Fall \\u2014 Toothbrush\",\"Fall \\u2014 Mustard\",\"Spring \\u2014 Toothpaste\",\"Spring \\u2014 Tomatoes\",\"Spring \\u2014 Ice Cream\",\"Spring \\u2014 Jam\",\"Spring \\u2014 Banana\",\"Spring \\u2014 Rice\",\"Spring \\u2014 Bath Towels\",\"Spring \\u2014 Beef\",\"Spring \\u2014 Orange\",\"Spring \\u2014 Insect Repellent\",\"Summer \\u2014 Toothpaste\",\"Summer \\u2014 Cleaning Rags\",\"Summer \\u2014 Carrots\",\"Summer \\u2014 Honey\",\"Summer \\u2014 Ice Cream\",\"Summer \\u2014 Garden Hose\",\"Summer \\u2014 Air Freshener\",\"Summer \\u2014 Laundry Detergent\",\"Summer \\u2014 Tea\",\"Summer \\u2014 Plant Fertilizer\",\"Winter \\u2014 Toothpaste\",\"Winter \\u2014 Soap\",\"Winter \\u2014 Cleaning Spray\",\"Winter \\u2014 Soda\",\"Winter \\u2014 Ice Cream\",\"Winter \\u2014 Lawn Mower\",\"Winter \\u2014 Shower Gel\",\"Winter \\u2014 Extension Cords\",\"Winter \\u2014 Deodorant\",\"Winter \\u2014 Banana\"],\"xaxis\":\"x\",\"y\":[16636,8562,8506,8489,8478,8452,8449,8444,8442,8437,20606,10473,10419,10380,10370,10368,10357,10354,10350,10349,16906,8693,8581,8568,8557,8552,8551,8541,8537,8533,19176,9937,9881,9878,9845,9783,9764,9754,9753,9752],\"yaxis\":\"y\",\"type\":\"bar\"}],                        {\"template\":{\"data\":{\"histogram2dcontour\":[{\"type\":\"histogram2dcontour\",\"colorbar\":{\"outlinewidth\":0,\"ticks\":\"\"},\"colorscale\":[[0.0,\"#0d0887\"],[0.1111111111111111,\"#46039f\"],[0.2222222222222222,\"#7201a8\"],[0.3333333333333333,\"#9c179e\"],[0.4444444444444444,\"#bd3786\"],[0.5555555555555556,\"#d8576b\"],[0.6666666666666666,\"#ed7953\"],[0.7777777777777778,\"#fb9f3a\"],[0.8888888888888888,\"#fdca26\"],[1.0,\"#f0f921\"]]}],\"choropleth\":[{\"type\":\"choropleth\",\"colorbar\":{\"outlinewidth\":0,\"ticks\":\"\"}}],\"histogram2d\":[{\"type\":\"histogram2d\",\"colorbar\":{\"outlinewidth\":0,\"ticks\":\"\"},\"colorscale\":[[0.0,\"#0d0887\"],[0.1111111111111111,\"#46039f\"],[0.2222222222222222,\"#7201a8\"],[0.3333333333333333,\"#9c179e\"],[0.4444444444444444,\"#bd3786\"],[0.5555555555555556,\"#d8576b\"],[0.6666666666666666,\"#ed7953\"],[0.7777777777777778,\"#fb9f3a\"],[0.8888888888888888,\"#fdca26\"],[1.0,\"#f0f921\"]]}],\"heatmap\":[{\"type\":\"heatmap\",\"colorbar\":{\"outlinewidth\":0,\"ticks\":\"\"},\"colorscale\":[[0.0,\"#0d0887\"],[0.1111111111111111,\"#46039f\"],[0.2222222222222222,\"#7201a8\"],[0.3333333333333333,\"#9c179e\"],[0.4444444444444444,\"#bd3786\"],[0.5555555555555556,\"#d8576b\"],[0.6666666666666666,\"#ed7953\"],[0.7777777777777778,\"#fb9f3a\"],[0.8888888888888888,\"#fdca26\"],[1.0,\"#f0f921\"]]}],\"heatmapgl\":[{\"type\":\"heatmapgl\",\"colorbar\":{\"outlinewidth\":0,\"ticks\":\"\"},\"colorscale\":[[0.0,\"#0d0887\"],[0.1111111111111111,\"#46039f\"],[0.2222222222222222,\"#7201a8\"],[0.3333333333333333,\"#9c179e\"],[0.4444444444444444,\"#bd3786\"],[0.5555555555555556,\"#d8576b\"],[0.6666666666666666,\"#ed7953\"],[0.7777777777777778,\"#fb9f3a\"],[0.8888888888888888,\"#fdca26\"],[1.0,\"#f0f921\"]]}],\"contourcarpet\":[{\"type\":\"contourcarpet\",\"colorbar\":{\"outlinewidth\":0,\"ticks\":\"\"}}],\"contour\":[{\"type\":\"contour\",\"colorbar\":{\"outlinewidth\":0,\"ticks\":\"\"},\"colorscale\":[[0.0,\"#0d0887\"],[0.1111111111111111,\"#46039f\"],[0.2222222222222222,\"#7201a8\"],[0.3333333333333333,\"#9c179e\"],[0.4444444444444444,\"#bd3786\"],[0.5555555555555556,\"#d8576b\"],[0.6666666666666666,\"#ed7953\"],[0.7777777777777778,\"#fb9f3a\"],[0.8888888888888888,\"#fdca26\"],[1.0,\"#f0f921\"]]}],\"surface\":[{\"type\":\"surface\",\"colorbar\":{\"outlinewidth\":0,\"ticks\":\"\"},\"colorscale\":[[0.0,\"#0d0887\"],[0.1111111111111111,\"#46039f\"],[0.2222222222222222,\"#7201a8\"],[0.3333333333333333,\"#9c179e\"],[0.4444444444444444,\"#bd3786\"],[0.5555555555555556,\"#d8576b\"],[0.6666666666666666,\"#ed7953\"],[0.7777777777777778,\"#fb9f3a\"],[0.8888888888888888,\"#fdca26\"],[1.0,\"#f0f921\"]]}],\"mesh3d\":[{\"type\":\"mesh3d\",\"colorbar\":{\"outlinewidth\":0,\"ticks\":\"\"}}],\"scatter\":[{\"fillpattern\":{\"fillmode\":\"overlay\",\"size\":10,\"solidity\":0.2},\"type\":\"scatter\"}],\"parcoords\":[{\"type\":\"parcoords\",\"line\":{\"colorbar\":{\"outlinewidth\":0,\"ticks\":\"\"}}}],\"scatterpolargl\":[{\"type\":\"scatterpolargl\",\"marker\":{\"colorbar\":{\"outlinewidth\":0,\"ticks\":\"\"}}}],\"bar\":[{\"error_x\":{\"color\":\"#2a3f5f\"},\"error_y\":{\"color\":\"#2a3f5f\"},\"marker\":{\"line\":{\"color\":\"#E5ECF6\",\"width\":0.5},\"pattern\":{\"fillmode\":\"overlay\",\"size\":10,\"solidity\":0.2}},\"type\":\"bar\"}],\"scattergeo\":[{\"type\":\"scattergeo\",\"marker\":{\"colorbar\":{\"outlinewidth\":0,\"ticks\":\"\"}}}],\"scatterpolar\":[{\"type\":\"scatterpolar\",\"marker\":{\"colorbar\":{\"outlinewidth\":0,\"ticks\":\"\"}}}],\"histogram\":[{\"marker\":{\"pattern\":{\"fillmode\":\"overlay\",\"size\":10,\"solidity\":0.2}},\"type\":\"histogram\"}],\"scattergl\":[{\"type\":\"scattergl\",\"marker\":{\"colorbar\":{\"outlinewidth\":0,\"ticks\":\"\"}}}],\"scatter3d\":[{\"type\":\"scatter3d\",\"line\":{\"colorbar\":{\"outlinewidth\":0,\"ticks\":\"\"}},\"marker\":{\"colorbar\":{\"outlinewidth\":0,\"ticks\":\"\"}}}],\"scattermapbox\":[{\"type\":\"scattermapbox\",\"marker\":{\"colorbar\":{\"outlinewidth\":0,\"ticks\":\"\"}}}],\"scatterternary\":[{\"type\":\"scatterternary\",\"marker\":{\"colorbar\":{\"outlinewidth\":0,\"ticks\":\"\"}}}],\"scattercarpet\":[{\"type\":\"scattercarpet\",\"marker\":{\"colorbar\":{\"outlinewidth\":0,\"ticks\":\"\"}}}],\"carpet\":[{\"aaxis\":{\"endlinecolor\":\"#2a3f5f\",\"gridcolor\":\"white\",\"linecolor\":\"white\",\"minorgridcolor\":\"white\",\"startlinecolor\":\"#2a3f5f\"},\"baxis\":{\"endlinecolor\":\"#2a3f5f\",\"gridcolor\":\"white\",\"linecolor\":\"white\",\"minorgridcolor\":\"white\",\"startlinecolor\":\"#2a3f5f\"},\"type\":\"carpet\"}],\"table\":[{\"cells\":{\"fill\":{\"color\":\"#EBF0F8\"},\"line\":{\"color\":\"white\"}},\"header\":{\"fill\":{\"color\":\"#C8D4E3\"},\"line\":{\"color\":\"white\"}},\"type\":\"table\"}],\"barpolar\":[{\"marker\":{\"line\":{\"color\":\"#E5ECF6\",\"width\":0.5},\"pattern\":{\"fillmode\":\"overlay\",\"size\":10,\"solidity\":0.2}},\"type\":\"barpolar\"}],\"pie\":[{\"automargin\":true,\"type\":\"pie\"}]},\"layout\":{\"autotypenumbers\":\"strict\",\"colorway\":[\"#636efa\",\"#EF553B\",\"#00cc96\",\"#ab63fa\",\"#FFA15A\",\"#19d3f3\",\"#FF6692\",\"#B6E880\",\"#FF97FF\",\"#FECB52\"],\"font\":{\"color\":\"#2a3f5f\"},\"hovermode\":\"closest\",\"hoverlabel\":{\"align\":\"left\"},\"paper_bgcolor\":\"white\",\"plot_bgcolor\":\"#E5ECF6\",\"polar\":{\"bgcolor\":\"#E5ECF6\",\"angularaxis\":{\"gridcolor\":\"white\",\"linecolor\":\"white\",\"ticks\":\"\"},\"radialaxis\":{\"gridcolor\":\"white\",\"linecolor\":\"white\",\"ticks\":\"\"}},\"ternary\":{\"bgcolor\":\"#E5ECF6\",\"aaxis\":{\"gridcolor\":\"white\",\"linecolor\":\"white\",\"ticks\":\"\"},\"baxis\":{\"gridcolor\":\"white\",\"linecolor\":\"white\",\"ticks\":\"\"},\"caxis\":{\"gridcolor\":\"white\",\"linecolor\":\"white\",\"ticks\":\"\"}},\"coloraxis\":{\"colorbar\":{\"outlinewidth\":0,\"ticks\":\"\"}},\"colorscale\":{\"sequential\":[[0.0,\"#0d0887\"],[0.1111111111111111,\"#46039f\"],[0.2222222222222222,\"#7201a8\"],[0.3333333333333333,\"#9c179e\"],[0.4444444444444444,\"#bd3786\"],[0.5555555555555556,\"#d8576b\"],[0.6666666666666666,\"#ed7953\"],[0.7777777777777778,\"#fb9f3a\"],[0.8888888888888888,\"#fdca26\"],[1.0,\"#f0f921\"]],\"sequentialminus\":[[0.0,\"#0d0887\"],[0.1111111111111111,\"#46039f\"],[0.2222222222222222,\"#7201a8\"],[0.3333333333333333,\"#9c179e\"],[0.4444444444444444,\"#bd3786\"],[0.5555555555555556,\"#d8576b\"],[0.6666666666666666,\"#ed7953\"],[0.7777777777777778,\"#fb9f3a\"],[0.8888888888888888,\"#fdca26\"],[1.0,\"#f0f921\"]],\"diverging\":[[0,\"#8e0152\"],[0.1,\"#c51b7d\"],[0.2,\"#de77ae\"],[0.3,\"#f1b6da\"],[0.4,\"#fde0ef\"],[0.5,\"#f7f7f7\"],[0.6,\"#e6f5d0\"],[0.7,\"#b8e186\"],[0.8,\"#7fbc41\"],[0.9,\"#4d9221\"],[1,\"#276419\"]]},\"xaxis\":{\"gridcolor\":\"white\",\"linecolor\":\"white\",\"ticks\":\"\",\"title\":{\"standoff\":15},\"zerolinecolor\":\"white\",\"automargin\":true,\"zerolinewidth\":2},\"yaxis\":{\"gridcolor\":\"white\",\"linecolor\":\"white\",\"ticks\":\"\",\"title\":{\"standoff\":15},\"zerolinecolor\":\"white\",\"automargin\":true,\"zerolinewidth\":2},\"scene\":{\"xaxis\":{\"backgroundcolor\":\"#E5ECF6\",\"gridcolor\":\"white\",\"linecolor\":\"white\",\"showbackground\":true,\"ticks\":\"\",\"zerolinecolor\":\"white\",\"gridwidth\":2},\"yaxis\":{\"backgroundcolor\":\"#E5ECF6\",\"gridcolor\":\"white\",\"linecolor\":\"white\",\"showbackground\":true,\"ticks\":\"\",\"zerolinecolor\":\"white\",\"gridwidth\":2},\"zaxis\":{\"backgroundcolor\":\"#E5ECF6\",\"gridcolor\":\"white\",\"linecolor\":\"white\",\"showbackground\":true,\"ticks\":\"\",\"zerolinecolor\":\"white\",\"gridwidth\":2}},\"shapedefaults\":{\"line\":{\"color\":\"#2a3f5f\"}},\"annotationdefaults\":{\"arrowcolor\":\"#2a3f5f\",\"arrowhead\":0,\"arrowwidth\":1},\"geo\":{\"bgcolor\":\"white\",\"landcolor\":\"#E5ECF6\",\"subunitcolor\":\"white\",\"showland\":true,\"showlakes\":true,\"lakecolor\":\"white\"},\"title\":{\"x\":0.05},\"mapbox\":{\"style\":\"light\"}}},\"xaxis\":{\"anchor\":\"y\",\"domain\":[0.0,1.0],\"title\":{\"text\":\"Season \\u2014 Product\"},\"tickangle\":-30},\"yaxis\":{\"anchor\":\"x\",\"domain\":[0.0,1.0],\"title\":{\"text\":\"Quantity\"}},\"legend\":{\"tracegroupgap\":0},\"title\":{\"text\":\"Top 10 Products Within Each Season\"},\"barmode\":\"relative\",\"height\":500},                        {\"responsive\": true}                    )                };                            </script>        </div>\n",
       "</body>\n",
       "</html>"
      ]
     },
     "metadata": {},
     "output_type": "display_data"
    },
    {
     "output_type": "display_data",
     "data": {
      "text/html": [
       "<html>\n",
       "<head><meta charset=\"utf-8\" /></head>\n",
       "<body>\n",
       "    <div>                        <script type=\"text/javascript\">window.PlotlyConfig = {MathJaxConfig: 'local'};</script>\n",
       "        <script charset=\"utf-8\" src=\"https://cdn.plot.ly/plotly-2.32.0.min.js\"></script>                <div id=\"b94a3abb-3a91-48f0-afe5-8ca652055c2c\" class=\"plotly-graph-div\" style=\"height:420px; width:100%;\"></div>            <script type=\"text/javascript\">                                    window.PLOTLYENV=window.PLOTLYENV || {};                                    if (document.getElementById(\"b94a3abb-3a91-48f0-afe5-8ca652055c2c\")) {                    Plotly.newPlot(                        \"b94a3abb-3a91-48f0-afe5-8ca652055c2c\",                        [{\"alignmentgroup\":\"True\",\"hovertemplate\":\"Product=%{x}\\u003cbr\\u003eDiscounted Lines=%{y}\\u003cextra\\u003e\\u003c\\u002fextra\\u003e\",\"legendgroup\":\"\",\"marker\":{\"color\":\"#636efa\",\"pattern\":{\"shape\":\"\"}},\"name\":\"\",\"offsetgroup\":\"\",\"orientation\":\"v\",\"showlegend\":false,\"textposition\":\"auto\",\"x\":[\"Toothpaste\",\"Orange\",\"Soda\",\"Soap\",\"Insect Repellent\",\"Lawn Mower\",\"Ice Cream\",\"Cleaning Rags\",\"Ironing Board\",\"Baby Wipes\"],\"xaxis\":\"x\",\"y\":[36713,18664,18584,18563,18551,18550,18538,18500,18476,18475],\"yaxis\":\"y\",\"type\":\"bar\"}],                        {\"template\":{\"data\":{\"histogram2dcontour\":[{\"type\":\"histogram2dcontour\",\"colorbar\":{\"outlinewidth\":0,\"ticks\":\"\"},\"colorscale\":[[0.0,\"#0d0887\"],[0.1111111111111111,\"#46039f\"],[0.2222222222222222,\"#7201a8\"],[0.3333333333333333,\"#9c179e\"],[0.4444444444444444,\"#bd3786\"],[0.5555555555555556,\"#d8576b\"],[0.6666666666666666,\"#ed7953\"],[0.7777777777777778,\"#fb9f3a\"],[0.8888888888888888,\"#fdca26\"],[1.0,\"#f0f921\"]]}],\"choropleth\":[{\"type\":\"choropleth\",\"colorbar\":{\"outlinewidth\":0,\"ticks\":\"\"}}],\"histogram2d\":[{\"type\":\"histogram2d\",\"colorbar\":{\"outlinewidth\":0,\"ticks\":\"\"},\"colorscale\":[[0.0,\"#0d0887\"],[0.1111111111111111,\"#46039f\"],[0.2222222222222222,\"#7201a8\"],[0.3333333333333333,\"#9c179e\"],[0.4444444444444444,\"#bd3786\"],[0.5555555555555556,\"#d8576b\"],[0.6666666666666666,\"#ed7953\"],[0.7777777777777778,\"#fb9f3a\"],[0.8888888888888888,\"#fdca26\"],[1.0,\"#f0f921\"]]}],\"heatmap\":[{\"type\":\"heatmap\",\"colorbar\":{\"outlinewidth\":0,\"ticks\":\"\"},\"colorscale\":[[0.0,\"#0d0887\"],[0.1111111111111111,\"#46039f\"],[0.2222222222222222,\"#7201a8\"],[0.3333333333333333,\"#9c179e\"],[0.4444444444444444,\"#bd3786\"],[0.5555555555555556,\"#d8576b\"],[0.6666666666666666,\"#ed7953\"],[0.7777777777777778,\"#fb9f3a\"],[0.8888888888888888,\"#fdca26\"],[1.0,\"#f0f921\"]]}],\"heatmapgl\":[{\"type\":\"heatmapgl\",\"colorbar\":{\"outlinewidth\":0,\"ticks\":\"\"},\"colorscale\":[[0.0,\"#0d0887\"],[0.1111111111111111,\"#46039f\"],[0.2222222222222222,\"#7201a8\"],[0.3333333333333333,\"#9c179e\"],[0.4444444444444444,\"#bd3786\"],[0.5555555555555556,\"#d8576b\"],[0.6666666666666666,\"#ed7953\"],[0.7777777777777778,\"#fb9f3a\"],[0.8888888888888888,\"#fdca26\"],[1.0,\"#f0f921\"]]}],\"contourcarpet\":[{\"type\":\"contourcarpet\",\"colorbar\":{\"outlinewidth\":0,\"ticks\":\"\"}}],\"contour\":[{\"type\":\"contour\",\"colorbar\":{\"outlinewidth\":0,\"ticks\":\"\"},\"colorscale\":[[0.0,\"#0d0887\"],[0.1111111111111111,\"#46039f\"],[0.2222222222222222,\"#7201a8\"],[0.3333333333333333,\"#9c179e\"],[0.4444444444444444,\"#bd3786\"],[0.5555555555555556,\"#d8576b\"],[0.6666666666666666,\"#ed7953\"],[0.7777777777777778,\"#fb9f3a\"],[0.8888888888888888,\"#fdca26\"],[1.0,\"#f0f921\"]]}],\"surface\":[{\"type\":\"surface\",\"colorbar\":{\"outlinewidth\":0,\"ticks\":\"\"},\"colorscale\":[[0.0,\"#0d0887\"],[0.1111111111111111,\"#46039f\"],[0.2222222222222222,\"#7201a8\"],[0.3333333333333333,\"#9c179e\"],[0.4444444444444444,\"#bd3786\"],[0.5555555555555556,\"#d8576b\"],[0.6666666666666666,\"#ed7953\"],[0.7777777777777778,\"#fb9f3a\"],[0.8888888888888888,\"#fdca26\"],[1.0,\"#f0f921\"]]}],\"mesh3d\":[{\"type\":\"mesh3d\",\"colorbar\":{\"outlinewidth\":0,\"ticks\":\"\"}}],\"scatter\":[{\"fillpattern\":{\"fillmode\":\"overlay\",\"size\":10,\"solidity\":0.2},\"type\":\"scatter\"}],\"parcoords\":[{\"type\":\"parcoords\",\"line\":{\"colorbar\":{\"outlinewidth\":0,\"ticks\":\"\"}}}],\"scatterpolargl\":[{\"type\":\"scatterpolargl\",\"marker\":{\"colorbar\":{\"outlinewidth\":0,\"ticks\":\"\"}}}],\"bar\":[{\"error_x\":{\"color\":\"#2a3f5f\"},\"error_y\":{\"color\":\"#2a3f5f\"},\"marker\":{\"line\":{\"color\":\"#E5ECF6\",\"width\":0.5},\"pattern\":{\"fillmode\":\"overlay\",\"size\":10,\"solidity\":0.2}},\"type\":\"bar\"}],\"scattergeo\":[{\"type\":\"scattergeo\",\"marker\":{\"colorbar\":{\"outlinewidth\":0,\"ticks\":\"\"}}}],\"scatterpolar\":[{\"type\":\"scatterpolar\",\"marker\":{\"colorbar\":{\"outlinewidth\":0,\"ticks\":\"\"}}}],\"histogram\":[{\"marker\":{\"pattern\":{\"fillmode\":\"overlay\",\"size\":10,\"solidity\":0.2}},\"type\":\"histogram\"}],\"scattergl\":[{\"type\":\"scattergl\",\"marker\":{\"colorbar\":{\"outlinewidth\":0,\"ticks\":\"\"}}}],\"scatter3d\":[{\"type\":\"scatter3d\",\"line\":{\"colorbar\":{\"outlinewidth\":0,\"ticks\":\"\"}},\"marker\":{\"colorbar\":{\"outlinewidth\":0,\"ticks\":\"\"}}}],\"scattermapbox\":[{\"type\":\"scattermapbox\",\"marker\":{\"colorbar\":{\"outlinewidth\":0,\"ticks\":\"\"}}}],\"scatterternary\":[{\"type\":\"scatterternary\",\"marker\":{\"colorbar\":{\"outlinewidth\":0,\"ticks\":\"\"}}}],\"scattercarpet\":[{\"type\":\"scattercarpet\",\"marker\":{\"colorbar\":{\"outlinewidth\":0,\"ticks\":\"\"}}}],\"carpet\":[{\"aaxis\":{\"endlinecolor\":\"#2a3f5f\",\"gridcolor\":\"white\",\"linecolor\":\"white\",\"minorgridcolor\":\"white\",\"startlinecolor\":\"#2a3f5f\"},\"baxis\":{\"endlinecolor\":\"#2a3f5f\",\"gridcolor\":\"white\",\"linecolor\":\"white\",\"minorgridcolor\":\"white\",\"startlinecolor\":\"#2a3f5f\"},\"type\":\"carpet\"}],\"table\":[{\"cells\":{\"fill\":{\"color\":\"#EBF0F8\"},\"line\":{\"color\":\"white\"}},\"header\":{\"fill\":{\"color\":\"#C8D4E3\"},\"line\":{\"color\":\"white\"}},\"type\":\"table\"}],\"barpolar\":[{\"marker\":{\"line\":{\"color\":\"#E5ECF6\",\"width\":0.5},\"pattern\":{\"fillmode\":\"overlay\",\"size\":10,\"solidity\":0.2}},\"type\":\"barpolar\"}],\"pie\":[{\"automargin\":true,\"type\":\"pie\"}]},\"layout\":{\"autotypenumbers\":\"strict\",\"colorway\":[\"#636efa\",\"#EF553B\",\"#00cc96\",\"#ab63fa\",\"#FFA15A\",\"#19d3f3\",\"#FF6692\",\"#B6E880\",\"#FF97FF\",\"#FECB52\"],\"font\":{\"color\":\"#2a3f5f\"},\"hovermode\":\"closest\",\"hoverlabel\":{\"align\":\"left\"},\"paper_bgcolor\":\"white\",\"plot_bgcolor\":\"#E5ECF6\",\"polar\":{\"bgcolor\":\"#E5ECF6\",\"angularaxis\":{\"gridcolor\":\"white\",\"linecolor\":\"white\",\"ticks\":\"\"},\"radialaxis\":{\"gridcolor\":\"white\",\"linecolor\":\"white\",\"ticks\":\"\"}},\"ternary\":{\"bgcolor\":\"#E5ECF6\",\"aaxis\":{\"gridcolor\":\"white\",\"linecolor\":\"white\",\"ticks\":\"\"},\"baxis\":{\"gridcolor\":\"white\",\"linecolor\":\"white\",\"ticks\":\"\"},\"caxis\":{\"gridcolor\":\"white\",\"linecolor\":\"white\",\"ticks\":\"\"}},\"coloraxis\":{\"colorbar\":{\"outlinewidth\":0,\"ticks\":\"\"}},\"colorscale\":{\"sequential\":[[0.0,\"#0d0887\"],[0.1111111111111111,\"#46039f\"],[0.2222222222222222,\"#7201a8\"],[0.3333333333333333,\"#9c179e\"],[0.4444444444444444,\"#bd3786\"],[0.5555555555555556,\"#d8576b\"],[0.6666666666666666,\"#ed7953\"],[0.7777777777777778,\"#fb9f3a\"],[0.8888888888888888,\"#fdca26\"],[1.0,\"#f0f921\"]],\"sequentialminus\":[[0.0,\"#0d0887\"],[0.1111111111111111,\"#46039f\"],[0.2222222222222222,\"#7201a8\"],[0.3333333333333333,\"#9c179e\"],[0.4444444444444444,\"#bd3786\"],[0.5555555555555556,\"#d8576b\"],[0.6666666666666666,\"#ed7953\"],[0.7777777777777778,\"#fb9f3a\"],[0.8888888888888888,\"#fdca26\"],[1.0,\"#f0f921\"]],\"diverging\":[[0,\"#8e0152\"],[0.1,\"#c51b7d\"],[0.2,\"#de77ae\"],[0.3,\"#f1b6da\"],[0.4,\"#fde0ef\"],[0.5,\"#f7f7f7\"],[0.6,\"#e6f5d0\"],[0.7,\"#b8e186\"],[0.8,\"#7fbc41\"],[0.9,\"#4d9221\"],[1,\"#276419\"]]},\"xaxis\":{\"gridcolor\":\"white\",\"linecolor\":\"white\",\"ticks\":\"\",\"title\":{\"standoff\":15},\"zerolinecolor\":\"white\",\"automargin\":true,\"zerolinewidth\":2},\"yaxis\":{\"gridcolor\":\"white\",\"linecolor\":\"white\",\"ticks\":\"\",\"title\":{\"standoff\":15},\"zerolinecolor\":\"white\",\"automargin\":true,\"zerolinewidth\":2},\"scene\":{\"xaxis\":{\"backgroundcolor\":\"#E5ECF6\",\"gridcolor\":\"white\",\"linecolor\":\"white\",\"showbackground\":true,\"ticks\":\"\",\"zerolinecolor\":\"white\",\"gridwidth\":2},\"yaxis\":{\"backgroundcolor\":\"#E5ECF6\",\"gridcolor\":\"white\",\"linecolor\":\"white\",\"showbackground\":true,\"ticks\":\"\",\"zerolinecolor\":\"white\",\"gridwidth\":2},\"zaxis\":{\"backgroundcolor\":\"#E5ECF6\",\"gridcolor\":\"white\",\"linecolor\":\"white\",\"showbackground\":true,\"ticks\":\"\",\"zerolinecolor\":\"white\",\"gridwidth\":2}},\"shapedefaults\":{\"line\":{\"color\":\"#2a3f5f\"}},\"annotationdefaults\":{\"arrowcolor\":\"#2a3f5f\",\"arrowhead\":0,\"arrowwidth\":1},\"geo\":{\"bgcolor\":\"white\",\"landcolor\":\"#E5ECF6\",\"subunitcolor\":\"white\",\"showland\":true,\"showlakes\":true,\"lakecolor\":\"white\"},\"title\":{\"x\":0.05},\"mapbox\":{\"style\":\"light\"}}},\"xaxis\":{\"anchor\":\"y\",\"domain\":[0.0,1.0],\"title\":{\"text\":\"Product\"},\"tickangle\":-30},\"yaxis\":{\"anchor\":\"x\",\"domain\":[0.0,1.0],\"title\":{\"text\":\"Discounted Lines\"}},\"legend\":{\"tracegroupgap\":0},\"title\":{\"text\":\"Top 10 Products by Discount Applications\"},\"barmode\":\"relative\",\"height\":420},                        {\"responsive\": true}                    )                };                            </script>        </div>\n",
       "</body>\n",
       "</html>"
      ]
     },
     "metadata": {},
     "output_type": "display_data"
    },
    {
     "output_type": "display_data",
     "data": {
      "text/html": [
       "<html>\n",
       "<head><meta charset=\"utf-8\" /></head>\n",
       "<body>\n",
       "    <div>                        <script type=\"text/javascript\">window.PlotlyConfig = {MathJaxConfig: 'local'};</script>\n",
       "        <script charset=\"utf-8\" src=\"https://cdn.plot.ly/plotly-2.32.0.min.js\"></script>                <div id=\"14868ed4-3a5f-40e5-bb03-2fee3d8ffdc6\" class=\"plotly-graph-div\" style=\"height:420px; width:100%;\"></div>            <script type=\"text/javascript\">                                    window.PLOTLYENV=window.PLOTLYENV || {};                                    if (document.getElementById(\"14868ed4-3a5f-40e5-bb03-2fee3d8ffdc6\")) {                    Plotly.newPlot(                        \"14868ed4-3a5f-40e5-bb03-2fee3d8ffdc6\",                        [{\"alignmentgroup\":\"True\",\"hovertemplate\":\"Promotion=%{x}\\u003cbr\\u003eRate=%{y}\\u003cextra\\u003e\\u003c\\u002fextra\\u003e\",\"legendgroup\":\"\",\"marker\":{\"color\":\"#636efa\",\"pattern\":{\"shape\":\"\"}},\"name\":\"\",\"offsetgroup\":\"\",\"orientation\":\"v\",\"showlegend\":false,\"textposition\":\"auto\",\"x\":[\"BOGO\",\"Discount on Selected Items\",\"None\"],\"xaxis\":\"x\",\"y\":[0.501,0.5,0.5],\"yaxis\":\"y\",\"type\":\"bar\"}],                        {\"template\":{\"data\":{\"histogram2dcontour\":[{\"type\":\"histogram2dcontour\",\"colorbar\":{\"outlinewidth\":0,\"ticks\":\"\"},\"colorscale\":[[0.0,\"#0d0887\"],[0.1111111111111111,\"#46039f\"],[0.2222222222222222,\"#7201a8\"],[0.3333333333333333,\"#9c179e\"],[0.4444444444444444,\"#bd3786\"],[0.5555555555555556,\"#d8576b\"],[0.6666666666666666,\"#ed7953\"],[0.7777777777777778,\"#fb9f3a\"],[0.8888888888888888,\"#fdca26\"],[1.0,\"#f0f921\"]]}],\"choropleth\":[{\"type\":\"choropleth\",\"colorbar\":{\"outlinewidth\":0,\"ticks\":\"\"}}],\"histogram2d\":[{\"type\":\"histogram2d\",\"colorbar\":{\"outlinewidth\":0,\"ticks\":\"\"},\"colorscale\":[[0.0,\"#0d0887\"],[0.1111111111111111,\"#46039f\"],[0.2222222222222222,\"#7201a8\"],[0.3333333333333333,\"#9c179e\"],[0.4444444444444444,\"#bd3786\"],[0.5555555555555556,\"#d8576b\"],[0.6666666666666666,\"#ed7953\"],[0.7777777777777778,\"#fb9f3a\"],[0.8888888888888888,\"#fdca26\"],[1.0,\"#f0f921\"]]}],\"heatmap\":[{\"type\":\"heatmap\",\"colorbar\":{\"outlinewidth\":0,\"ticks\":\"\"},\"colorscale\":[[0.0,\"#0d0887\"],[0.1111111111111111,\"#46039f\"],[0.2222222222222222,\"#7201a8\"],[0.3333333333333333,\"#9c179e\"],[0.4444444444444444,\"#bd3786\"],[0.5555555555555556,\"#d8576b\"],[0.6666666666666666,\"#ed7953\"],[0.7777777777777778,\"#fb9f3a\"],[0.8888888888888888,\"#fdca26\"],[1.0,\"#f0f921\"]]}],\"heatmapgl\":[{\"type\":\"heatmapgl\",\"colorbar\":{\"outlinewidth\":0,\"ticks\":\"\"},\"colorscale\":[[0.0,\"#0d0887\"],[0.1111111111111111,\"#46039f\"],[0.2222222222222222,\"#7201a8\"],[0.3333333333333333,\"#9c179e\"],[0.4444444444444444,\"#bd3786\"],[0.5555555555555556,\"#d8576b\"],[0.6666666666666666,\"#ed7953\"],[0.7777777777777778,\"#fb9f3a\"],[0.8888888888888888,\"#fdca26\"],[1.0,\"#f0f921\"]]}],\"contourcarpet\":[{\"type\":\"contourcarpet\",\"colorbar\":{\"outlinewidth\":0,\"ticks\":\"\"}}],\"contour\":[{\"type\":\"contour\",\"colorbar\":{\"outlinewidth\":0,\"ticks\":\"\"},\"colorscale\":[[0.0,\"#0d0887\"],[0.1111111111111111,\"#46039f\"],[0.2222222222222222,\"#7201a8\"],[0.3333333333333333,\"#9c179e\"],[0.4444444444444444,\"#bd3786\"],[0.5555555555555556,\"#d8576b\"],[0.6666666666666666,\"#ed7953\"],[0.7777777777777778,\"#fb9f3a\"],[0.8888888888888888,\"#fdca26\"],[1.0,\"#f0f921\"]]}],\"surface\":[{\"type\":\"surface\",\"colorbar\":{\"outlinewidth\":0,\"ticks\":\"\"},\"colorscale\":[[0.0,\"#0d0887\"],[0.1111111111111111,\"#46039f\"],[0.2222222222222222,\"#7201a8\"],[0.3333333333333333,\"#9c179e\"],[0.4444444444444444,\"#bd3786\"],[0.5555555555555556,\"#d8576b\"],[0.6666666666666666,\"#ed7953\"],[0.7777777777777778,\"#fb9f3a\"],[0.8888888888888888,\"#fdca26\"],[1.0,\"#f0f921\"]]}],\"mesh3d\":[{\"type\":\"mesh3d\",\"colorbar\":{\"outlinewidth\":0,\"ticks\":\"\"}}],\"scatter\":[{\"fillpattern\":{\"fillmode\":\"overlay\",\"size\":10,\"solidity\":0.2},\"type\":\"scatter\"}],\"parcoords\":[{\"type\":\"parcoords\",\"line\":{\"colorbar\":{\"outlinewidth\":0,\"ticks\":\"\"}}}],\"scatterpolargl\":[{\"type\":\"scatterpolargl\",\"marker\":{\"colorbar\":{\"outlinewidth\":0,\"ticks\":\"\"}}}],\"bar\":[{\"error_x\":{\"color\":\"#2a3f5f\"},\"error_y\":{\"color\":\"#2a3f5f\"},\"marker\":{\"line\":{\"color\":\"#E5ECF6\",\"width\":0.5},\"pattern\":{\"fillmode\":\"overlay\",\"size\":10,\"solidity\":0.2}},\"type\":\"bar\"}],\"scattergeo\":[{\"type\":\"scattergeo\",\"marker\":{\"colorbar\":{\"outlinewidth\":0,\"ticks\":\"\"}}}],\"scatterpolar\":[{\"type\":\"scatterpolar\",\"marker\":{\"colorbar\":{\"outlinewidth\":0,\"ticks\":\"\"}}}],\"histogram\":[{\"marker\":{\"pattern\":{\"fillmode\":\"overlay\",\"size\":10,\"solidity\":0.2}},\"type\":\"histogram\"}],\"scattergl\":[{\"type\":\"scattergl\",\"marker\":{\"colorbar\":{\"outlinewidth\":0,\"ticks\":\"\"}}}],\"scatter3d\":[{\"type\":\"scatter3d\",\"line\":{\"colorbar\":{\"outlinewidth\":0,\"ticks\":\"\"}},\"marker\":{\"colorbar\":{\"outlinewidth\":0,\"ticks\":\"\"}}}],\"scattermapbox\":[{\"type\":\"scattermapbox\",\"marker\":{\"colorbar\":{\"outlinewidth\":0,\"ticks\":\"\"}}}],\"scatterternary\":[{\"type\":\"scatterternary\",\"marker\":{\"colorbar\":{\"outlinewidth\":0,\"ticks\":\"\"}}}],\"scattercarpet\":[{\"type\":\"scattercarpet\",\"marker\":{\"colorbar\":{\"outlinewidth\":0,\"ticks\":\"\"}}}],\"carpet\":[{\"aaxis\":{\"endlinecolor\":\"#2a3f5f\",\"gridcolor\":\"white\",\"linecolor\":\"white\",\"minorgridcolor\":\"white\",\"startlinecolor\":\"#2a3f5f\"},\"baxis\":{\"endlinecolor\":\"#2a3f5f\",\"gridcolor\":\"white\",\"linecolor\":\"white\",\"minorgridcolor\":\"white\",\"startlinecolor\":\"#2a3f5f\"},\"type\":\"carpet\"}],\"table\":[{\"cells\":{\"fill\":{\"color\":\"#EBF0F8\"},\"line\":{\"color\":\"white\"}},\"header\":{\"fill\":{\"color\":\"#C8D4E3\"},\"line\":{\"color\":\"white\"}},\"type\":\"table\"}],\"barpolar\":[{\"marker\":{\"line\":{\"color\":\"#E5ECF6\",\"width\":0.5},\"pattern\":{\"fillmode\":\"overlay\",\"size\":10,\"solidity\":0.2}},\"type\":\"barpolar\"}],\"pie\":[{\"automargin\":true,\"type\":\"pie\"}]},\"layout\":{\"autotypenumbers\":\"strict\",\"colorway\":[\"#636efa\",\"#EF553B\",\"#00cc96\",\"#ab63fa\",\"#FFA15A\",\"#19d3f3\",\"#FF6692\",\"#B6E880\",\"#FF97FF\",\"#FECB52\"],\"font\":{\"color\":\"#2a3f5f\"},\"hovermode\":\"closest\",\"hoverlabel\":{\"align\":\"left\"},\"paper_bgcolor\":\"white\",\"plot_bgcolor\":\"#E5ECF6\",\"polar\":{\"bgcolor\":\"#E5ECF6\",\"angularaxis\":{\"gridcolor\":\"white\",\"linecolor\":\"white\",\"ticks\":\"\"},\"radialaxis\":{\"gridcolor\":\"white\",\"linecolor\":\"white\",\"ticks\":\"\"}},\"ternary\":{\"bgcolor\":\"#E5ECF6\",\"aaxis\":{\"gridcolor\":\"white\",\"linecolor\":\"white\",\"ticks\":\"\"},\"baxis\":{\"gridcolor\":\"white\",\"linecolor\":\"white\",\"ticks\":\"\"},\"caxis\":{\"gridcolor\":\"white\",\"linecolor\":\"white\",\"ticks\":\"\"}},\"coloraxis\":{\"colorbar\":{\"outlinewidth\":0,\"ticks\":\"\"}},\"colorscale\":{\"sequential\":[[0.0,\"#0d0887\"],[0.1111111111111111,\"#46039f\"],[0.2222222222222222,\"#7201a8\"],[0.3333333333333333,\"#9c179e\"],[0.4444444444444444,\"#bd3786\"],[0.5555555555555556,\"#d8576b\"],[0.6666666666666666,\"#ed7953\"],[0.7777777777777778,\"#fb9f3a\"],[0.8888888888888888,\"#fdca26\"],[1.0,\"#f0f921\"]],\"sequentialminus\":[[0.0,\"#0d0887\"],[0.1111111111111111,\"#46039f\"],[0.2222222222222222,\"#7201a8\"],[0.3333333333333333,\"#9c179e\"],[0.4444444444444444,\"#bd3786\"],[0.5555555555555556,\"#d8576b\"],[0.6666666666666666,\"#ed7953\"],[0.7777777777777778,\"#fb9f3a\"],[0.8888888888888888,\"#fdca26\"],[1.0,\"#f0f921\"]],\"diverging\":[[0,\"#8e0152\"],[0.1,\"#c51b7d\"],[0.2,\"#de77ae\"],[0.3,\"#f1b6da\"],[0.4,\"#fde0ef\"],[0.5,\"#f7f7f7\"],[0.6,\"#e6f5d0\"],[0.7,\"#b8e186\"],[0.8,\"#7fbc41\"],[0.9,\"#4d9221\"],[1,\"#276419\"]]},\"xaxis\":{\"gridcolor\":\"white\",\"linecolor\":\"white\",\"ticks\":\"\",\"title\":{\"standoff\":15},\"zerolinecolor\":\"white\",\"automargin\":true,\"zerolinewidth\":2},\"yaxis\":{\"gridcolor\":\"white\",\"linecolor\":\"white\",\"ticks\":\"\",\"title\":{\"standoff\":15},\"zerolinecolor\":\"white\",\"automargin\":true,\"zerolinewidth\":2},\"scene\":{\"xaxis\":{\"backgroundcolor\":\"#E5ECF6\",\"gridcolor\":\"white\",\"linecolor\":\"white\",\"showbackground\":true,\"ticks\":\"\",\"zerolinecolor\":\"white\",\"gridwidth\":2},\"yaxis\":{\"backgroundcolor\":\"#E5ECF6\",\"gridcolor\":\"white\",\"linecolor\":\"white\",\"showbackground\":true,\"ticks\":\"\",\"zerolinecolor\":\"white\",\"gridwidth\":2},\"zaxis\":{\"backgroundcolor\":\"#E5ECF6\",\"gridcolor\":\"white\",\"linecolor\":\"white\",\"showbackground\":true,\"ticks\":\"\",\"zerolinecolor\":\"white\",\"gridwidth\":2}},\"shapedefaults\":{\"line\":{\"color\":\"#2a3f5f\"}},\"annotationdefaults\":{\"arrowcolor\":\"#2a3f5f\",\"arrowhead\":0,\"arrowwidth\":1},\"geo\":{\"bgcolor\":\"white\",\"landcolor\":\"#E5ECF6\",\"subunitcolor\":\"white\",\"showland\":true,\"showlakes\":true,\"lakecolor\":\"white\"},\"title\":{\"x\":0.05},\"mapbox\":{\"style\":\"light\"}}},\"xaxis\":{\"anchor\":\"y\",\"domain\":[0.0,1.0],\"title\":{\"text\":\"Promotion\"},\"tickangle\":-20},\"yaxis\":{\"anchor\":\"x\",\"domain\":[0.0,1.0],\"title\":{\"text\":\"Rate\"}},\"legend\":{\"tracegroupgap\":0},\"title\":{\"text\":\"Promotion Conversion Rate (Discount Applied %)\"},\"barmode\":\"relative\",\"height\":420},                        {\"responsive\": true}                    )                };                            </script>        </div>\n",
       "</body>\n",
       "</html>"
      ]
     },
     "metadata": {},
     "output_type": "display_data"
    },
    {
     "output_type": "display_data",
     "data": {
      "text/html": [
       "<html>\n",
       "<head><meta charset=\"utf-8\" /></head>\n",
       "<body>\n",
       "    <div>                        <script type=\"text/javascript\">window.PlotlyConfig = {MathJaxConfig: 'local'};</script>\n",
       "        <script charset=\"utf-8\" src=\"https://cdn.plot.ly/plotly-2.32.0.min.js\"></script>                <div id=\"089fb46b-aabc-40ae-a651-3913e5756509\" class=\"plotly-graph-div\" style=\"height:520px; width:100%;\"></div>            <script type=\"text/javascript\">                                    window.PLOTLYENV=window.PLOTLYENV || {};                                    if (document.getElementById(\"089fb46b-aabc-40ae-a651-3913e5756509\")) {                    Plotly.newPlot(                        \"089fb46b-aabc-40ae-a651-3913e5756509\",                        [{\"colorbar\":{\"title\":{\"text\":\"Qty\"}},\"colorscale\":[[0.0,\"rgb(247,251,255)\"],[0.125,\"rgb(222,235,247)\"],[0.25,\"rgb(198,219,239)\"],[0.375,\"rgb(158,202,225)\"],[0.5,\"rgb(107,174,214)\"],[0.625,\"rgb(66,146,198)\"],[0.75,\"rgb(33,113,181)\"],[0.875,\"rgb(8,81,156)\"],[1.0,\"rgb(8,48,107)\"]],\"x\":[\"January\",\"February\",\"March\",\"April\",\"May\",\"June\",\"July\",\"August\",\"September\",\"October\",\"November\",\"December\"],\"y\":[\"Atlanta\",\"Boston\",\"Chicago\",\"Dallas\",\"Houston\",\"Los Angeles\",\"Miami\",\"New York\",\"San Francisco\",\"Seattle\"],\"z\":[[29016,26312,28850,28566,26183,22571,22760,22622,22271,22780,22230,22907],[28958,27012,29173,28331,26439,22797,23693,23474,22730,23159,22612,23508],[29229,26530,29365,28441,26772,22064,23470,23152,22293,23526,22666,23470],[29420,26894,29443,28306,26529,22102,23182,23008,22868,23257,23050,23115],[28915,26916,29336,27838,26579,22658,23142,23043,22184,22886,23081,23223],[28897,26666,29788,28047,26281,22325,23788,23281,22114,22628,22455,23075],[28903,26288,29330,27549,26341,22554,23343,23135,22400,23071,23040,23306],[29692,26925,28543,28101,26554,23094,23261,22689,22629,23594,22387,23017],[29165,26668,29057,27308,26579,22699,23035,23091,22750,23875,22360,23387],[28788,26357,29310,28475,26643,22635,23692,23093,22381,22853,22714,23430]],\"type\":\"heatmap\"}],                        {\"template\":{\"data\":{\"histogram2dcontour\":[{\"type\":\"histogram2dcontour\",\"colorbar\":{\"outlinewidth\":0,\"ticks\":\"\"},\"colorscale\":[[0.0,\"#0d0887\"],[0.1111111111111111,\"#46039f\"],[0.2222222222222222,\"#7201a8\"],[0.3333333333333333,\"#9c179e\"],[0.4444444444444444,\"#bd3786\"],[0.5555555555555556,\"#d8576b\"],[0.6666666666666666,\"#ed7953\"],[0.7777777777777778,\"#fb9f3a\"],[0.8888888888888888,\"#fdca26\"],[1.0,\"#f0f921\"]]}],\"choropleth\":[{\"type\":\"choropleth\",\"colorbar\":{\"outlinewidth\":0,\"ticks\":\"\"}}],\"histogram2d\":[{\"type\":\"histogram2d\",\"colorbar\":{\"outlinewidth\":0,\"ticks\":\"\"},\"colorscale\":[[0.0,\"#0d0887\"],[0.1111111111111111,\"#46039f\"],[0.2222222222222222,\"#7201a8\"],[0.3333333333333333,\"#9c179e\"],[0.4444444444444444,\"#bd3786\"],[0.5555555555555556,\"#d8576b\"],[0.6666666666666666,\"#ed7953\"],[0.7777777777777778,\"#fb9f3a\"],[0.8888888888888888,\"#fdca26\"],[1.0,\"#f0f921\"]]}],\"heatmap\":[{\"type\":\"heatmap\",\"colorbar\":{\"outlinewidth\":0,\"ticks\":\"\"},\"colorscale\":[[0.0,\"#0d0887\"],[0.1111111111111111,\"#46039f\"],[0.2222222222222222,\"#7201a8\"],[0.3333333333333333,\"#9c179e\"],[0.4444444444444444,\"#bd3786\"],[0.5555555555555556,\"#d8576b\"],[0.6666666666666666,\"#ed7953\"],[0.7777777777777778,\"#fb9f3a\"],[0.8888888888888888,\"#fdca26\"],[1.0,\"#f0f921\"]]}],\"heatmapgl\":[{\"type\":\"heatmapgl\",\"colorbar\":{\"outlinewidth\":0,\"ticks\":\"\"},\"colorscale\":[[0.0,\"#0d0887\"],[0.1111111111111111,\"#46039f\"],[0.2222222222222222,\"#7201a8\"],[0.3333333333333333,\"#9c179e\"],[0.4444444444444444,\"#bd3786\"],[0.5555555555555556,\"#d8576b\"],[0.6666666666666666,\"#ed7953\"],[0.7777777777777778,\"#fb9f3a\"],[0.8888888888888888,\"#fdca26\"],[1.0,\"#f0f921\"]]}],\"contourcarpet\":[{\"type\":\"contourcarpet\",\"colorbar\":{\"outlinewidth\":0,\"ticks\":\"\"}}],\"contour\":[{\"type\":\"contour\",\"colorbar\":{\"outlinewidth\":0,\"ticks\":\"\"},\"colorscale\":[[0.0,\"#0d0887\"],[0.1111111111111111,\"#46039f\"],[0.2222222222222222,\"#7201a8\"],[0.3333333333333333,\"#9c179e\"],[0.4444444444444444,\"#bd3786\"],[0.5555555555555556,\"#d8576b\"],[0.6666666666666666,\"#ed7953\"],[0.7777777777777778,\"#fb9f3a\"],[0.8888888888888888,\"#fdca26\"],[1.0,\"#f0f921\"]]}],\"surface\":[{\"type\":\"surface\",\"colorbar\":{\"outlinewidth\":0,\"ticks\":\"\"},\"colorscale\":[[0.0,\"#0d0887\"],[0.1111111111111111,\"#46039f\"],[0.2222222222222222,\"#7201a8\"],[0.3333333333333333,\"#9c179e\"],[0.4444444444444444,\"#bd3786\"],[0.5555555555555556,\"#d8576b\"],[0.6666666666666666,\"#ed7953\"],[0.7777777777777778,\"#fb9f3a\"],[0.8888888888888888,\"#fdca26\"],[1.0,\"#f0f921\"]]}],\"mesh3d\":[{\"type\":\"mesh3d\",\"colorbar\":{\"outlinewidth\":0,\"ticks\":\"\"}}],\"scatter\":[{\"fillpattern\":{\"fillmode\":\"overlay\",\"size\":10,\"solidity\":0.2},\"type\":\"scatter\"}],\"parcoords\":[{\"type\":\"parcoords\",\"line\":{\"colorbar\":{\"outlinewidth\":0,\"ticks\":\"\"}}}],\"scatterpolargl\":[{\"type\":\"scatterpolargl\",\"marker\":{\"colorbar\":{\"outlinewidth\":0,\"ticks\":\"\"}}}],\"bar\":[{\"error_x\":{\"color\":\"#2a3f5f\"},\"error_y\":{\"color\":\"#2a3f5f\"},\"marker\":{\"line\":{\"color\":\"#E5ECF6\",\"width\":0.5},\"pattern\":{\"fillmode\":\"overlay\",\"size\":10,\"solidity\":0.2}},\"type\":\"bar\"}],\"scattergeo\":[{\"type\":\"scattergeo\",\"marker\":{\"colorbar\":{\"outlinewidth\":0,\"ticks\":\"\"}}}],\"scatterpolar\":[{\"type\":\"scatterpolar\",\"marker\":{\"colorbar\":{\"outlinewidth\":0,\"ticks\":\"\"}}}],\"histogram\":[{\"marker\":{\"pattern\":{\"fillmode\":\"overlay\",\"size\":10,\"solidity\":0.2}},\"type\":\"histogram\"}],\"scattergl\":[{\"type\":\"scattergl\",\"marker\":{\"colorbar\":{\"outlinewidth\":0,\"ticks\":\"\"}}}],\"scatter3d\":[{\"type\":\"scatter3d\",\"line\":{\"colorbar\":{\"outlinewidth\":0,\"ticks\":\"\"}},\"marker\":{\"colorbar\":{\"outlinewidth\":0,\"ticks\":\"\"}}}],\"scattermapbox\":[{\"type\":\"scattermapbox\",\"marker\":{\"colorbar\":{\"outlinewidth\":0,\"ticks\":\"\"}}}],\"scatterternary\":[{\"type\":\"scatterternary\",\"marker\":{\"colorbar\":{\"outlinewidth\":0,\"ticks\":\"\"}}}],\"scattercarpet\":[{\"type\":\"scattercarpet\",\"marker\":{\"colorbar\":{\"outlinewidth\":0,\"ticks\":\"\"}}}],\"carpet\":[{\"aaxis\":{\"endlinecolor\":\"#2a3f5f\",\"gridcolor\":\"white\",\"linecolor\":\"white\",\"minorgridcolor\":\"white\",\"startlinecolor\":\"#2a3f5f\"},\"baxis\":{\"endlinecolor\":\"#2a3f5f\",\"gridcolor\":\"white\",\"linecolor\":\"white\",\"minorgridcolor\":\"white\",\"startlinecolor\":\"#2a3f5f\"},\"type\":\"carpet\"}],\"table\":[{\"cells\":{\"fill\":{\"color\":\"#EBF0F8\"},\"line\":{\"color\":\"white\"}},\"header\":{\"fill\":{\"color\":\"#C8D4E3\"},\"line\":{\"color\":\"white\"}},\"type\":\"table\"}],\"barpolar\":[{\"marker\":{\"line\":{\"color\":\"#E5ECF6\",\"width\":0.5},\"pattern\":{\"fillmode\":\"overlay\",\"size\":10,\"solidity\":0.2}},\"type\":\"barpolar\"}],\"pie\":[{\"automargin\":true,\"type\":\"pie\"}]},\"layout\":{\"autotypenumbers\":\"strict\",\"colorway\":[\"#636efa\",\"#EF553B\",\"#00cc96\",\"#ab63fa\",\"#FFA15A\",\"#19d3f3\",\"#FF6692\",\"#B6E880\",\"#FF97FF\",\"#FECB52\"],\"font\":{\"color\":\"#2a3f5f\"},\"hovermode\":\"closest\",\"hoverlabel\":{\"align\":\"left\"},\"paper_bgcolor\":\"white\",\"plot_bgcolor\":\"#E5ECF6\",\"polar\":{\"bgcolor\":\"#E5ECF6\",\"angularaxis\":{\"gridcolor\":\"white\",\"linecolor\":\"white\",\"ticks\":\"\"},\"radialaxis\":{\"gridcolor\":\"white\",\"linecolor\":\"white\",\"ticks\":\"\"}},\"ternary\":{\"bgcolor\":\"#E5ECF6\",\"aaxis\":{\"gridcolor\":\"white\",\"linecolor\":\"white\",\"ticks\":\"\"},\"baxis\":{\"gridcolor\":\"white\",\"linecolor\":\"white\",\"ticks\":\"\"},\"caxis\":{\"gridcolor\":\"white\",\"linecolor\":\"white\",\"ticks\":\"\"}},\"coloraxis\":{\"colorbar\":{\"outlinewidth\":0,\"ticks\":\"\"}},\"colorscale\":{\"sequential\":[[0.0,\"#0d0887\"],[0.1111111111111111,\"#46039f\"],[0.2222222222222222,\"#7201a8\"],[0.3333333333333333,\"#9c179e\"],[0.4444444444444444,\"#bd3786\"],[0.5555555555555556,\"#d8576b\"],[0.6666666666666666,\"#ed7953\"],[0.7777777777777778,\"#fb9f3a\"],[0.8888888888888888,\"#fdca26\"],[1.0,\"#f0f921\"]],\"sequentialminus\":[[0.0,\"#0d0887\"],[0.1111111111111111,\"#46039f\"],[0.2222222222222222,\"#7201a8\"],[0.3333333333333333,\"#9c179e\"],[0.4444444444444444,\"#bd3786\"],[0.5555555555555556,\"#d8576b\"],[0.6666666666666666,\"#ed7953\"],[0.7777777777777778,\"#fb9f3a\"],[0.8888888888888888,\"#fdca26\"],[1.0,\"#f0f921\"]],\"diverging\":[[0,\"#8e0152\"],[0.1,\"#c51b7d\"],[0.2,\"#de77ae\"],[0.3,\"#f1b6da\"],[0.4,\"#fde0ef\"],[0.5,\"#f7f7f7\"],[0.6,\"#e6f5d0\"],[0.7,\"#b8e186\"],[0.8,\"#7fbc41\"],[0.9,\"#4d9221\"],[1,\"#276419\"]]},\"xaxis\":{\"gridcolor\":\"white\",\"linecolor\":\"white\",\"ticks\":\"\",\"title\":{\"standoff\":15},\"zerolinecolor\":\"white\",\"automargin\":true,\"zerolinewidth\":2},\"yaxis\":{\"gridcolor\":\"white\",\"linecolor\":\"white\",\"ticks\":\"\",\"title\":{\"standoff\":15},\"zerolinecolor\":\"white\",\"automargin\":true,\"zerolinewidth\":2},\"scene\":{\"xaxis\":{\"backgroundcolor\":\"#E5ECF6\",\"gridcolor\":\"white\",\"linecolor\":\"white\",\"showbackground\":true,\"ticks\":\"\",\"zerolinecolor\":\"white\",\"gridwidth\":2},\"yaxis\":{\"backgroundcolor\":\"#E5ECF6\",\"gridcolor\":\"white\",\"linecolor\":\"white\",\"showbackground\":true,\"ticks\":\"\",\"zerolinecolor\":\"white\",\"gridwidth\":2},\"zaxis\":{\"backgroundcolor\":\"#E5ECF6\",\"gridcolor\":\"white\",\"linecolor\":\"white\",\"showbackground\":true,\"ticks\":\"\",\"zerolinecolor\":\"white\",\"gridwidth\":2}},\"shapedefaults\":{\"line\":{\"color\":\"#2a3f5f\"}},\"annotationdefaults\":{\"arrowcolor\":\"#2a3f5f\",\"arrowhead\":0,\"arrowwidth\":1},\"geo\":{\"bgcolor\":\"white\",\"landcolor\":\"#E5ECF6\",\"subunitcolor\":\"white\",\"showland\":true,\"showlakes\":true,\"lakecolor\":\"white\"},\"title\":{\"x\":0.05},\"mapbox\":{\"style\":\"light\"}}},\"title\":{\"text\":\"City \\u00d7 Month Demand Heatmap\"},\"height\":520},                        {\"responsive\": true}                    )                };                            </script>        </div>\n",
       "</body>\n",
       "</html>"
      ]
     },
     "metadata": {},
     "output_type": "display_data"
    },
    {
     "output_type": "display_data",
     "data": {
      "text/html": [
       "<html>\n",
       "<head><meta charset=\"utf-8\" /></head>\n",
       "<body>\n",
       "    <div>                        <script type=\"text/javascript\">window.PlotlyConfig = {MathJaxConfig: 'local'};</script>\n",
       "        <script charset=\"utf-8\" src=\"https://cdn.plot.ly/plotly-2.32.0.min.js\"></script>                <div id=\"b799b155-f1db-4d7b-8d1c-fa5aad334e9e\" class=\"plotly-graph-div\" style=\"height:100%; width:100%;\"></div>            <script type=\"text/javascript\">                                    window.PLOTLYENV=window.PLOTLYENV || {};                                    if (document.getElementById(\"b799b155-f1db-4d7b-8d1c-fa5aad334e9e\")) {                    Plotly.newPlot(                        \"b799b155-f1db-4d7b-8d1c-fa5aad334e9e\",                        [{\"alignmentgroup\":\"True\",\"hovertemplate\":\"Day=%{x}\\u003cbr\\u003eTotal Quantity=%{y}\\u003cextra\\u003e\\u003c\\u002fextra\\u003e\",\"legendgroup\":\"\",\"marker\":{\"color\":\"#636efa\",\"pattern\":{\"shape\":\"\"}},\"name\":\"\",\"offsetgroup\":\"\",\"orientation\":\"v\",\"showlegend\":false,\"textposition\":\"auto\",\"x\":[\"Friday\",\"Monday\",\"Saturday\",\"Sunday\",\"Thursday\",\"Tuesday\",\"Wednesday\"],\"xaxis\":\"x\",\"y\":[430178,426864,430087,426101,430545,427421,429147],\"yaxis\":\"y\",\"type\":\"bar\"}],                        {\"template\":{\"data\":{\"histogram2dcontour\":[{\"type\":\"histogram2dcontour\",\"colorbar\":{\"outlinewidth\":0,\"ticks\":\"\"},\"colorscale\":[[0.0,\"#0d0887\"],[0.1111111111111111,\"#46039f\"],[0.2222222222222222,\"#7201a8\"],[0.3333333333333333,\"#9c179e\"],[0.4444444444444444,\"#bd3786\"],[0.5555555555555556,\"#d8576b\"],[0.6666666666666666,\"#ed7953\"],[0.7777777777777778,\"#fb9f3a\"],[0.8888888888888888,\"#fdca26\"],[1.0,\"#f0f921\"]]}],\"choropleth\":[{\"type\":\"choropleth\",\"colorbar\":{\"outlinewidth\":0,\"ticks\":\"\"}}],\"histogram2d\":[{\"type\":\"histogram2d\",\"colorbar\":{\"outlinewidth\":0,\"ticks\":\"\"},\"colorscale\":[[0.0,\"#0d0887\"],[0.1111111111111111,\"#46039f\"],[0.2222222222222222,\"#7201a8\"],[0.3333333333333333,\"#9c179e\"],[0.4444444444444444,\"#bd3786\"],[0.5555555555555556,\"#d8576b\"],[0.6666666666666666,\"#ed7953\"],[0.7777777777777778,\"#fb9f3a\"],[0.8888888888888888,\"#fdca26\"],[1.0,\"#f0f921\"]]}],\"heatmap\":[{\"type\":\"heatmap\",\"colorbar\":{\"outlinewidth\":0,\"ticks\":\"\"},\"colorscale\":[[0.0,\"#0d0887\"],[0.1111111111111111,\"#46039f\"],[0.2222222222222222,\"#7201a8\"],[0.3333333333333333,\"#9c179e\"],[0.4444444444444444,\"#bd3786\"],[0.5555555555555556,\"#d8576b\"],[0.6666666666666666,\"#ed7953\"],[0.7777777777777778,\"#fb9f3a\"],[0.8888888888888888,\"#fdca26\"],[1.0,\"#f0f921\"]]}],\"heatmapgl\":[{\"type\":\"heatmapgl\",\"colorbar\":{\"outlinewidth\":0,\"ticks\":\"\"},\"colorscale\":[[0.0,\"#0d0887\"],[0.1111111111111111,\"#46039f\"],[0.2222222222222222,\"#7201a8\"],[0.3333333333333333,\"#9c179e\"],[0.4444444444444444,\"#bd3786\"],[0.5555555555555556,\"#d8576b\"],[0.6666666666666666,\"#ed7953\"],[0.7777777777777778,\"#fb9f3a\"],[0.8888888888888888,\"#fdca26\"],[1.0,\"#f0f921\"]]}],\"contourcarpet\":[{\"type\":\"contourcarpet\",\"colorbar\":{\"outlinewidth\":0,\"ticks\":\"\"}}],\"contour\":[{\"type\":\"contour\",\"colorbar\":{\"outlinewidth\":0,\"ticks\":\"\"},\"colorscale\":[[0.0,\"#0d0887\"],[0.1111111111111111,\"#46039f\"],[0.2222222222222222,\"#7201a8\"],[0.3333333333333333,\"#9c179e\"],[0.4444444444444444,\"#bd3786\"],[0.5555555555555556,\"#d8576b\"],[0.6666666666666666,\"#ed7953\"],[0.7777777777777778,\"#fb9f3a\"],[0.8888888888888888,\"#fdca26\"],[1.0,\"#f0f921\"]]}],\"surface\":[{\"type\":\"surface\",\"colorbar\":{\"outlinewidth\":0,\"ticks\":\"\"},\"colorscale\":[[0.0,\"#0d0887\"],[0.1111111111111111,\"#46039f\"],[0.2222222222222222,\"#7201a8\"],[0.3333333333333333,\"#9c179e\"],[0.4444444444444444,\"#bd3786\"],[0.5555555555555556,\"#d8576b\"],[0.6666666666666666,\"#ed7953\"],[0.7777777777777778,\"#fb9f3a\"],[0.8888888888888888,\"#fdca26\"],[1.0,\"#f0f921\"]]}],\"mesh3d\":[{\"type\":\"mesh3d\",\"colorbar\":{\"outlinewidth\":0,\"ticks\":\"\"}}],\"scatter\":[{\"fillpattern\":{\"fillmode\":\"overlay\",\"size\":10,\"solidity\":0.2},\"type\":\"scatter\"}],\"parcoords\":[{\"type\":\"parcoords\",\"line\":{\"colorbar\":{\"outlinewidth\":0,\"ticks\":\"\"}}}],\"scatterpolargl\":[{\"type\":\"scatterpolargl\",\"marker\":{\"colorbar\":{\"outlinewidth\":0,\"ticks\":\"\"}}}],\"bar\":[{\"error_x\":{\"color\":\"#2a3f5f\"},\"error_y\":{\"color\":\"#2a3f5f\"},\"marker\":{\"line\":{\"color\":\"#E5ECF6\",\"width\":0.5},\"pattern\":{\"fillmode\":\"overlay\",\"size\":10,\"solidity\":0.2}},\"type\":\"bar\"}],\"scattergeo\":[{\"type\":\"scattergeo\",\"marker\":{\"colorbar\":{\"outlinewidth\":0,\"ticks\":\"\"}}}],\"scatterpolar\":[{\"type\":\"scatterpolar\",\"marker\":{\"colorbar\":{\"outlinewidth\":0,\"ticks\":\"\"}}}],\"histogram\":[{\"marker\":{\"pattern\":{\"fillmode\":\"overlay\",\"size\":10,\"solidity\":0.2}},\"type\":\"histogram\"}],\"scattergl\":[{\"type\":\"scattergl\",\"marker\":{\"colorbar\":{\"outlinewidth\":0,\"ticks\":\"\"}}}],\"scatter3d\":[{\"type\":\"scatter3d\",\"line\":{\"colorbar\":{\"outlinewidth\":0,\"ticks\":\"\"}},\"marker\":{\"colorbar\":{\"outlinewidth\":0,\"ticks\":\"\"}}}],\"scattermapbox\":[{\"type\":\"scattermapbox\",\"marker\":{\"colorbar\":{\"outlinewidth\":0,\"ticks\":\"\"}}}],\"scatterternary\":[{\"type\":\"scatterternary\",\"marker\":{\"colorbar\":{\"outlinewidth\":0,\"ticks\":\"\"}}}],\"scattercarpet\":[{\"type\":\"scattercarpet\",\"marker\":{\"colorbar\":{\"outlinewidth\":0,\"ticks\":\"\"}}}],\"carpet\":[{\"aaxis\":{\"endlinecolor\":\"#2a3f5f\",\"gridcolor\":\"white\",\"linecolor\":\"white\",\"minorgridcolor\":\"white\",\"startlinecolor\":\"#2a3f5f\"},\"baxis\":{\"endlinecolor\":\"#2a3f5f\",\"gridcolor\":\"white\",\"linecolor\":\"white\",\"minorgridcolor\":\"white\",\"startlinecolor\":\"#2a3f5f\"},\"type\":\"carpet\"}],\"table\":[{\"cells\":{\"fill\":{\"color\":\"#EBF0F8\"},\"line\":{\"color\":\"white\"}},\"header\":{\"fill\":{\"color\":\"#C8D4E3\"},\"line\":{\"color\":\"white\"}},\"type\":\"table\"}],\"barpolar\":[{\"marker\":{\"line\":{\"color\":\"#E5ECF6\",\"width\":0.5},\"pattern\":{\"fillmode\":\"overlay\",\"size\":10,\"solidity\":0.2}},\"type\":\"barpolar\"}],\"pie\":[{\"automargin\":true,\"type\":\"pie\"}]},\"layout\":{\"autotypenumbers\":\"strict\",\"colorway\":[\"#636efa\",\"#EF553B\",\"#00cc96\",\"#ab63fa\",\"#FFA15A\",\"#19d3f3\",\"#FF6692\",\"#B6E880\",\"#FF97FF\",\"#FECB52\"],\"font\":{\"color\":\"#2a3f5f\"},\"hovermode\":\"closest\",\"hoverlabel\":{\"align\":\"left\"},\"paper_bgcolor\":\"white\",\"plot_bgcolor\":\"#E5ECF6\",\"polar\":{\"bgcolor\":\"#E5ECF6\",\"angularaxis\":{\"gridcolor\":\"white\",\"linecolor\":\"white\",\"ticks\":\"\"},\"radialaxis\":{\"gridcolor\":\"white\",\"linecolor\":\"white\",\"ticks\":\"\"}},\"ternary\":{\"bgcolor\":\"#E5ECF6\",\"aaxis\":{\"gridcolor\":\"white\",\"linecolor\":\"white\",\"ticks\":\"\"},\"baxis\":{\"gridcolor\":\"white\",\"linecolor\":\"white\",\"ticks\":\"\"},\"caxis\":{\"gridcolor\":\"white\",\"linecolor\":\"white\",\"ticks\":\"\"}},\"coloraxis\":{\"colorbar\":{\"outlinewidth\":0,\"ticks\":\"\"}},\"colorscale\":{\"sequential\":[[0.0,\"#0d0887\"],[0.1111111111111111,\"#46039f\"],[0.2222222222222222,\"#7201a8\"],[0.3333333333333333,\"#9c179e\"],[0.4444444444444444,\"#bd3786\"],[0.5555555555555556,\"#d8576b\"],[0.6666666666666666,\"#ed7953\"],[0.7777777777777778,\"#fb9f3a\"],[0.8888888888888888,\"#fdca26\"],[1.0,\"#f0f921\"]],\"sequentialminus\":[[0.0,\"#0d0887\"],[0.1111111111111111,\"#46039f\"],[0.2222222222222222,\"#7201a8\"],[0.3333333333333333,\"#9c179e\"],[0.4444444444444444,\"#bd3786\"],[0.5555555555555556,\"#d8576b\"],[0.6666666666666666,\"#ed7953\"],[0.7777777777777778,\"#fb9f3a\"],[0.8888888888888888,\"#fdca26\"],[1.0,\"#f0f921\"]],\"diverging\":[[0,\"#8e0152\"],[0.1,\"#c51b7d\"],[0.2,\"#de77ae\"],[0.3,\"#f1b6da\"],[0.4,\"#fde0ef\"],[0.5,\"#f7f7f7\"],[0.6,\"#e6f5d0\"],[0.7,\"#b8e186\"],[0.8,\"#7fbc41\"],[0.9,\"#4d9221\"],[1,\"#276419\"]]},\"xaxis\":{\"gridcolor\":\"white\",\"linecolor\":\"white\",\"ticks\":\"\",\"title\":{\"standoff\":15},\"zerolinecolor\":\"white\",\"automargin\":true,\"zerolinewidth\":2},\"yaxis\":{\"gridcolor\":\"white\",\"linecolor\":\"white\",\"ticks\":\"\",\"title\":{\"standoff\":15},\"zerolinecolor\":\"white\",\"automargin\":true,\"zerolinewidth\":2},\"scene\":{\"xaxis\":{\"backgroundcolor\":\"#E5ECF6\",\"gridcolor\":\"white\",\"linecolor\":\"white\",\"showbackground\":true,\"ticks\":\"\",\"zerolinecolor\":\"white\",\"gridwidth\":2},\"yaxis\":{\"backgroundcolor\":\"#E5ECF6\",\"gridcolor\":\"white\",\"linecolor\":\"white\",\"showbackground\":true,\"ticks\":\"\",\"zerolinecolor\":\"white\",\"gridwidth\":2},\"zaxis\":{\"backgroundcolor\":\"#E5ECF6\",\"gridcolor\":\"white\",\"linecolor\":\"white\",\"showbackground\":true,\"ticks\":\"\",\"zerolinecolor\":\"white\",\"gridwidth\":2}},\"shapedefaults\":{\"line\":{\"color\":\"#2a3f5f\"}},\"annotationdefaults\":{\"arrowcolor\":\"#2a3f5f\",\"arrowhead\":0,\"arrowwidth\":1},\"geo\":{\"bgcolor\":\"white\",\"landcolor\":\"#E5ECF6\",\"subunitcolor\":\"white\",\"showland\":true,\"showlakes\":true,\"lakecolor\":\"white\"},\"title\":{\"x\":0.05},\"mapbox\":{\"style\":\"light\"}}},\"xaxis\":{\"anchor\":\"y\",\"domain\":[0.0,1.0],\"title\":{\"text\":\"Day\"}},\"yaxis\":{\"anchor\":\"x\",\"domain\":[0.0,1.0],\"title\":{\"text\":\"Total Quantity\"}},\"legend\":{\"tracegroupgap\":0},\"title\":{\"text\":\"Total Quantity by Day of Week\"},\"barmode\":\"relative\"},                        {\"responsive\": true}                    )                };                            </script>        </div>\n",
       "</body>\n",
       "</html>"
      ]
     },
     "metadata": {},
     "output_type": "display_data"
    },
    {
     "output_type": "display_data",
     "data": {
      "text/html": [
       "<html>\n",
       "<head><meta charset=\"utf-8\" /></head>\n",
       "<body>\n",
       "    <div>                        <script type=\"text/javascript\">window.PlotlyConfig = {MathJaxConfig: 'local'};</script>\n",
       "        <script charset=\"utf-8\" src=\"https://cdn.plot.ly/plotly-2.32.0.min.js\"></script>                <div id=\"09462515-4c19-440b-adae-0146a9bdca22\" class=\"plotly-graph-div\" style=\"height:100%; width:100%;\"></div>            <script type=\"text/javascript\">                                    window.PLOTLYENV=window.PLOTLYENV || {};                                    if (document.getElementById(\"09462515-4c19-440b-adae-0146a9bdca22\")) {                    Plotly.newPlot(                        \"09462515-4c19-440b-adae-0146a9bdca22\",                        [{\"domain\":{\"x\":[0.0,1.0],\"y\":[0.0,1.0]},\"hovertemplate\":\"Payment_Method=%{label}\\u003cbr\\u003eqty=%{value}\\u003cextra\\u003e\\u003c\\u002fextra\\u003e\",\"labels\":[\"Cash\",\"Credit Card\",\"Debit Card\",\"Mobile Payment\"],\"legendgroup\":\"\",\"name\":\"\",\"showlegend\":true,\"values\":[751266,750418,750261,748398],\"type\":\"pie\"}],                        {\"template\":{\"data\":{\"histogram2dcontour\":[{\"type\":\"histogram2dcontour\",\"colorbar\":{\"outlinewidth\":0,\"ticks\":\"\"},\"colorscale\":[[0.0,\"#0d0887\"],[0.1111111111111111,\"#46039f\"],[0.2222222222222222,\"#7201a8\"],[0.3333333333333333,\"#9c179e\"],[0.4444444444444444,\"#bd3786\"],[0.5555555555555556,\"#d8576b\"],[0.6666666666666666,\"#ed7953\"],[0.7777777777777778,\"#fb9f3a\"],[0.8888888888888888,\"#fdca26\"],[1.0,\"#f0f921\"]]}],\"choropleth\":[{\"type\":\"choropleth\",\"colorbar\":{\"outlinewidth\":0,\"ticks\":\"\"}}],\"histogram2d\":[{\"type\":\"histogram2d\",\"colorbar\":{\"outlinewidth\":0,\"ticks\":\"\"},\"colorscale\":[[0.0,\"#0d0887\"],[0.1111111111111111,\"#46039f\"],[0.2222222222222222,\"#7201a8\"],[0.3333333333333333,\"#9c179e\"],[0.4444444444444444,\"#bd3786\"],[0.5555555555555556,\"#d8576b\"],[0.6666666666666666,\"#ed7953\"],[0.7777777777777778,\"#fb9f3a\"],[0.8888888888888888,\"#fdca26\"],[1.0,\"#f0f921\"]]}],\"heatmap\":[{\"type\":\"heatmap\",\"colorbar\":{\"outlinewidth\":0,\"ticks\":\"\"},\"colorscale\":[[0.0,\"#0d0887\"],[0.1111111111111111,\"#46039f\"],[0.2222222222222222,\"#7201a8\"],[0.3333333333333333,\"#9c179e\"],[0.4444444444444444,\"#bd3786\"],[0.5555555555555556,\"#d8576b\"],[0.6666666666666666,\"#ed7953\"],[0.7777777777777778,\"#fb9f3a\"],[0.8888888888888888,\"#fdca26\"],[1.0,\"#f0f921\"]]}],\"heatmapgl\":[{\"type\":\"heatmapgl\",\"colorbar\":{\"outlinewidth\":0,\"ticks\":\"\"},\"colorscale\":[[0.0,\"#0d0887\"],[0.1111111111111111,\"#46039f\"],[0.2222222222222222,\"#7201a8\"],[0.3333333333333333,\"#9c179e\"],[0.4444444444444444,\"#bd3786\"],[0.5555555555555556,\"#d8576b\"],[0.6666666666666666,\"#ed7953\"],[0.7777777777777778,\"#fb9f3a\"],[0.8888888888888888,\"#fdca26\"],[1.0,\"#f0f921\"]]}],\"contourcarpet\":[{\"type\":\"contourcarpet\",\"colorbar\":{\"outlinewidth\":0,\"ticks\":\"\"}}],\"contour\":[{\"type\":\"contour\",\"colorbar\":{\"outlinewidth\":0,\"ticks\":\"\"},\"colorscale\":[[0.0,\"#0d0887\"],[0.1111111111111111,\"#46039f\"],[0.2222222222222222,\"#7201a8\"],[0.3333333333333333,\"#9c179e\"],[0.4444444444444444,\"#bd3786\"],[0.5555555555555556,\"#d8576b\"],[0.6666666666666666,\"#ed7953\"],[0.7777777777777778,\"#fb9f3a\"],[0.8888888888888888,\"#fdca26\"],[1.0,\"#f0f921\"]]}],\"surface\":[{\"type\":\"surface\",\"colorbar\":{\"outlinewidth\":0,\"ticks\":\"\"},\"colorscale\":[[0.0,\"#0d0887\"],[0.1111111111111111,\"#46039f\"],[0.2222222222222222,\"#7201a8\"],[0.3333333333333333,\"#9c179e\"],[0.4444444444444444,\"#bd3786\"],[0.5555555555555556,\"#d8576b\"],[0.6666666666666666,\"#ed7953\"],[0.7777777777777778,\"#fb9f3a\"],[0.8888888888888888,\"#fdca26\"],[1.0,\"#f0f921\"]]}],\"mesh3d\":[{\"type\":\"mesh3d\",\"colorbar\":{\"outlinewidth\":0,\"ticks\":\"\"}}],\"scatter\":[{\"fillpattern\":{\"fillmode\":\"overlay\",\"size\":10,\"solidity\":0.2},\"type\":\"scatter\"}],\"parcoords\":[{\"type\":\"parcoords\",\"line\":{\"colorbar\":{\"outlinewidth\":0,\"ticks\":\"\"}}}],\"scatterpolargl\":[{\"type\":\"scatterpolargl\",\"marker\":{\"colorbar\":{\"outlinewidth\":0,\"ticks\":\"\"}}}],\"bar\":[{\"error_x\":{\"color\":\"#2a3f5f\"},\"error_y\":{\"color\":\"#2a3f5f\"},\"marker\":{\"line\":{\"color\":\"#E5ECF6\",\"width\":0.5},\"pattern\":{\"fillmode\":\"overlay\",\"size\":10,\"solidity\":0.2}},\"type\":\"bar\"}],\"scattergeo\":[{\"type\":\"scattergeo\",\"marker\":{\"colorbar\":{\"outlinewidth\":0,\"ticks\":\"\"}}}],\"scatterpolar\":[{\"type\":\"scatterpolar\",\"marker\":{\"colorbar\":{\"outlinewidth\":0,\"ticks\":\"\"}}}],\"histogram\":[{\"marker\":{\"pattern\":{\"fillmode\":\"overlay\",\"size\":10,\"solidity\":0.2}},\"type\":\"histogram\"}],\"scattergl\":[{\"type\":\"scattergl\",\"marker\":{\"colorbar\":{\"outlinewidth\":0,\"ticks\":\"\"}}}],\"scatter3d\":[{\"type\":\"scatter3d\",\"line\":{\"colorbar\":{\"outlinewidth\":0,\"ticks\":\"\"}},\"marker\":{\"colorbar\":{\"outlinewidth\":0,\"ticks\":\"\"}}}],\"scattermapbox\":[{\"type\":\"scattermapbox\",\"marker\":{\"colorbar\":{\"outlinewidth\":0,\"ticks\":\"\"}}}],\"scatterternary\":[{\"type\":\"scatterternary\",\"marker\":{\"colorbar\":{\"outlinewidth\":0,\"ticks\":\"\"}}}],\"scattercarpet\":[{\"type\":\"scattercarpet\",\"marker\":{\"colorbar\":{\"outlinewidth\":0,\"ticks\":\"\"}}}],\"carpet\":[{\"aaxis\":{\"endlinecolor\":\"#2a3f5f\",\"gridcolor\":\"white\",\"linecolor\":\"white\",\"minorgridcolor\":\"white\",\"startlinecolor\":\"#2a3f5f\"},\"baxis\":{\"endlinecolor\":\"#2a3f5f\",\"gridcolor\":\"white\",\"linecolor\":\"white\",\"minorgridcolor\":\"white\",\"startlinecolor\":\"#2a3f5f\"},\"type\":\"carpet\"}],\"table\":[{\"cells\":{\"fill\":{\"color\":\"#EBF0F8\"},\"line\":{\"color\":\"white\"}},\"header\":{\"fill\":{\"color\":\"#C8D4E3\"},\"line\":{\"color\":\"white\"}},\"type\":\"table\"}],\"barpolar\":[{\"marker\":{\"line\":{\"color\":\"#E5ECF6\",\"width\":0.5},\"pattern\":{\"fillmode\":\"overlay\",\"size\":10,\"solidity\":0.2}},\"type\":\"barpolar\"}],\"pie\":[{\"automargin\":true,\"type\":\"pie\"}]},\"layout\":{\"autotypenumbers\":\"strict\",\"colorway\":[\"#636efa\",\"#EF553B\",\"#00cc96\",\"#ab63fa\",\"#FFA15A\",\"#19d3f3\",\"#FF6692\",\"#B6E880\",\"#FF97FF\",\"#FECB52\"],\"font\":{\"color\":\"#2a3f5f\"},\"hovermode\":\"closest\",\"hoverlabel\":{\"align\":\"left\"},\"paper_bgcolor\":\"white\",\"plot_bgcolor\":\"#E5ECF6\",\"polar\":{\"bgcolor\":\"#E5ECF6\",\"angularaxis\":{\"gridcolor\":\"white\",\"linecolor\":\"white\",\"ticks\":\"\"},\"radialaxis\":{\"gridcolor\":\"white\",\"linecolor\":\"white\",\"ticks\":\"\"}},\"ternary\":{\"bgcolor\":\"#E5ECF6\",\"aaxis\":{\"gridcolor\":\"white\",\"linecolor\":\"white\",\"ticks\":\"\"},\"baxis\":{\"gridcolor\":\"white\",\"linecolor\":\"white\",\"ticks\":\"\"},\"caxis\":{\"gridcolor\":\"white\",\"linecolor\":\"white\",\"ticks\":\"\"}},\"coloraxis\":{\"colorbar\":{\"outlinewidth\":0,\"ticks\":\"\"}},\"colorscale\":{\"sequential\":[[0.0,\"#0d0887\"],[0.1111111111111111,\"#46039f\"],[0.2222222222222222,\"#7201a8\"],[0.3333333333333333,\"#9c179e\"],[0.4444444444444444,\"#bd3786\"],[0.5555555555555556,\"#d8576b\"],[0.6666666666666666,\"#ed7953\"],[0.7777777777777778,\"#fb9f3a\"],[0.8888888888888888,\"#fdca26\"],[1.0,\"#f0f921\"]],\"sequentialminus\":[[0.0,\"#0d0887\"],[0.1111111111111111,\"#46039f\"],[0.2222222222222222,\"#7201a8\"],[0.3333333333333333,\"#9c179e\"],[0.4444444444444444,\"#bd3786\"],[0.5555555555555556,\"#d8576b\"],[0.6666666666666666,\"#ed7953\"],[0.7777777777777778,\"#fb9f3a\"],[0.8888888888888888,\"#fdca26\"],[1.0,\"#f0f921\"]],\"diverging\":[[0,\"#8e0152\"],[0.1,\"#c51b7d\"],[0.2,\"#de77ae\"],[0.3,\"#f1b6da\"],[0.4,\"#fde0ef\"],[0.5,\"#f7f7f7\"],[0.6,\"#e6f5d0\"],[0.7,\"#b8e186\"],[0.8,\"#7fbc41\"],[0.9,\"#4d9221\"],[1,\"#276419\"]]},\"xaxis\":{\"gridcolor\":\"white\",\"linecolor\":\"white\",\"ticks\":\"\",\"title\":{\"standoff\":15},\"zerolinecolor\":\"white\",\"automargin\":true,\"zerolinewidth\":2},\"yaxis\":{\"gridcolor\":\"white\",\"linecolor\":\"white\",\"ticks\":\"\",\"title\":{\"standoff\":15},\"zerolinecolor\":\"white\",\"automargin\":true,\"zerolinewidth\":2},\"scene\":{\"xaxis\":{\"backgroundcolor\":\"#E5ECF6\",\"gridcolor\":\"white\",\"linecolor\":\"white\",\"showbackground\":true,\"ticks\":\"\",\"zerolinecolor\":\"white\",\"gridwidth\":2},\"yaxis\":{\"backgroundcolor\":\"#E5ECF6\",\"gridcolor\":\"white\",\"linecolor\":\"white\",\"showbackground\":true,\"ticks\":\"\",\"zerolinecolor\":\"white\",\"gridwidth\":2},\"zaxis\":{\"backgroundcolor\":\"#E5ECF6\",\"gridcolor\":\"white\",\"linecolor\":\"white\",\"showbackground\":true,\"ticks\":\"\",\"zerolinecolor\":\"white\",\"gridwidth\":2}},\"shapedefaults\":{\"line\":{\"color\":\"#2a3f5f\"}},\"annotationdefaults\":{\"arrowcolor\":\"#2a3f5f\",\"arrowhead\":0,\"arrowwidth\":1},\"geo\":{\"bgcolor\":\"white\",\"landcolor\":\"#E5ECF6\",\"subunitcolor\":\"white\",\"showland\":true,\"showlakes\":true,\"lakecolor\":\"white\"},\"title\":{\"x\":0.05},\"mapbox\":{\"style\":\"light\"}}},\"legend\":{\"tracegroupgap\":0},\"title\":{\"text\":\"Payment Method Share (by Quantity)\"}},                        {\"responsive\": true}                    )                };                            </script>        </div>\n",
       "</body>\n",
       "</html>"
      ]
     },
     "metadata": {},
     "output_type": "display_data"
    },
    {
     "output_type": "display_data",
     "data": {
      "text/html": [
       "\n",
       "<div style=\"margin-top:10px;padding:8px;border-left:4px solid #3b82f6;background:#f0f7ff;\">\n",
       "<b>Tips:</b>\n",
       "<ul>\n",
       "  <li>Use the widgets at the top to change <i>Period</i>, filter by <i>Season</i> or <i>City</i>, and set <i>Top/Bottom N</i>.</li>\n",
       "  <li>Right-click → <i>Pin to dashboard</i> to build a presentable board.</li>\n",
       "  <li>For larger data, use <i>last_90d</i> or <i>last_365d</i> to keep the plots responsive.</li>\n",
       "</ul>\n",
       "</div>\n"
      ]
     },
     "metadata": {},
     "output_type": "display_data"
    }
   ],
   "source": [
    "# STEP 8 (Extended) - REVISED: Multi-viz dashboard without cache/persist\n",
    "\n",
    "from pyspark.sql import functions as F, Window\n",
    "import plotly.express as px\n",
    "import plotly.graph_objects as go\n",
    "\n",
    "CATALOG = \"retail_demand_catalog\"\n",
    "SCHEMA  = \"retail_demand_schema\"\n",
    "FACT    = f\"{CATALOG}.{SCHEMA}.fact_sales\"\n",
    "D_DATE  = f\"{CATALOG}.{SCHEMA}.dim_date\"\n",
    "D_PROD  = f\"{CATALOG}.{SCHEMA}.dim_product\"\n",
    "D_STORE = f\"{CATALOG}.{SCHEMA}.dim_store\"\n",
    "D_PROMO = f\"{CATALOG}.{SCHEMA}.dim_promotion\"\n",
    "\n",
    "spark.sql(f\"USE CATALOG {CATALOG}\")\n",
    "spark.sql(f\"USE {SCHEMA}\")\n",
    "\n",
    "f = spark.table(FACT)\n",
    "dd = spark.table(D_DATE)\n",
    "dp = spark.table(D_PROD)\n",
    "ds = spark.table(D_STORE)\n",
    "dpr = spark.table(D_PROMO)\n",
    "\n",
    "# -------- Widgets --------\n",
    "max_date_key = f.agg(F.max(\"date_key\")).collect()[0][0]\n",
    "default_period = \"all\"\n",
    "\n",
    "dbutils.widgets.removeAll()\n",
    "dbutils.widgets.dropdown(\"period\", default_period, [\"all\", \"last_30d\", \"last_90d\", \"last_365d\"], \"Period\")\n",
    "dbutils.widgets.text(\"season\", \"All\", \"Season (All/Winter/Spring/Summer/Fall)\")\n",
    "dbutils.widgets.text(\"city\", \"All\", \"City (All or exact match)\")\n",
    "dbutils.widgets.text(\"top_n\", \"10\", \"Top/Bottom N\")\n",
    "\n",
    "period = dbutils.widgets.get(\"period\")\n",
    "season_filter = dbutils.widgets.get(\"season\").strip()\n",
    "city_filter = dbutils.widgets.get(\"city\").strip()\n",
    "top_n = int(dbutils.widgets.get(\"top_n\") or \"10\")\n",
    "\n",
    "# -------- Base joined frame with filters (no cache) --------\n",
    "base = (\n",
    "    f.join(dd.select(\"date_key\",\"Event_Date\",\"year\",\"month\",\"month_name\",\"day_name\",\"season\"), \"date_key\", \"left\")\n",
    "     .join(dp, \"product_key\", \"left\")\n",
    "     .join(ds, \"store_key\", \"left\")\n",
    "     .join(dpr.select(\"promotion_key\",\"promotion\"), \"promotion_key\", \"left\")\n",
    "     .withColumn(\"Event_Date\", F.to_date(\"Event_Date\"))\n",
    ")\n",
    "\n",
    "# Time window filter\n",
    "if period != \"all\" and max_date_key:\n",
    "    max_date = base.agg(F.max(\"Event_Date\")).collect()[0][0]\n",
    "    if max_date:\n",
    "        days_map = {\"last_30d\": 30, \"last_90d\": 90, \"last_365d\": 365}\n",
    "        start_days = days_map.get(period, 365)\n",
    "        base = base.filter(F.col(\"Event_Date\") >= F.date_sub(F.lit(max_date), start_days))\n",
    "\n",
    "# Season filter\n",
    "if season_filter and season_filter.lower() != \"all\":\n",
    "    base = base.filter(F.col(\"season\") == F.initcap(F.lit(season_filter)))\n",
    "\n",
    "# City filter\n",
    "if city_filter and city_filter.lower() != \"all\":\n",
    "    base = base.filter(F.col(\"city\") == F.initcap(F.lit(city_filter)))\n",
    "\n",
    "# ========== 1) TOP & BOTTOM SELLING PRODUCTS ==========\n",
    "prod_agg = (base.groupBy(\"product_key\",\"product_name\")\n",
    "                 .agg(F.sum(\"quantity\").alias(\"qty\"))\n",
    "                 .orderBy(F.desc(\"qty\")))\n",
    "\n",
    "top_products = prod_agg.limit(top_n)\n",
    "bottom_products = (prod_agg.orderBy(\"qty\")\n",
    "                            .filter(F.col(\"qty\") > 0)\n",
    "                            .limit(top_n))\n",
    "\n",
    "pdf_top = top_products.toPandas()\n",
    "pdf_bottom = bottom_products.toPandas()\n",
    "\n",
    "fig_top = px.bar(pdf_top, x=\"product_name\", y=\"qty\", title=f\"Top {top_n} Products by Quantity\",\n",
    "                 labels={\"qty\":\"Total Quantity\",\"product_name\":\"Product\"})\n",
    "fig_top.update_layout(xaxis_tickangle=-30, height=420)\n",
    "displayHTML(fig_top.to_html(include_plotlyjs=\"cdn\"))\n",
    "\n",
    "fig_bottom = px.bar(pdf_bottom, x=\"product_name\", y=\"qty\", title=f\"Bottom {top_n} Products by Quantity (qty>0)\",\n",
    "                    labels={\"qty\":\"Total Quantity\",\"product_name\":\"Product\"})\n",
    "fig_bottom.update_layout(xaxis_tickangle=-30, height=420)\n",
    "displayHTML(fig_bottom.to_html(include_plotlyjs=\"cdn\"))\n",
    "\n",
    "# ========== 2) SEASON-WISE SELLERS ==========\n",
    "season_tot = (base.groupBy(\"season\")\n",
    "                   .agg(F.sum(\"quantity\").alias(\"qty\"))\n",
    "                   .orderBy(F.desc(\"qty\")))\n",
    "pdf_season_tot = season_tot.toPandas()\n",
    "fig_season_tot = px.bar(pdf_season_tot, x=\"season\", y=\"qty\", title=\"Demand by Season (Total)\",\n",
    "                        labels={\"qty\":\"Total Quantity\",\"season\":\"Season\"})\n",
    "displayHTML(fig_season_tot.to_html(include_plotlyjs=\"cdn\"))\n",
    "\n",
    "w = Window.partitionBy(\"season\").orderBy(F.desc(\"qty\"))\n",
    "season_prod = (base.groupBy(\"season\",\"product_name\")\n",
    "                    .agg(F.sum(\"quantity\").alias(\"qty\")))\n",
    "season_topN = (season_prod.withColumn(\"rn\", F.row_number().over(w))\n",
    "                         .filter(F.col(\"rn\") <= top_n)\n",
    "                         .orderBy(\"season\", F.desc(\"qty\")))\n",
    "pdf_season_top = season_topN.select(\n",
    "    F.concat_ws(\" — \", \"season\", \"product_name\").alias(\"season_product\"),\n",
    "    \"qty\"\n",
    ").toPandas()\n",
    "\n",
    "fig_season_top = px.bar(pdf_season_top, x=\"season_product\", y=\"qty\",\n",
    "                        title=f\"Top {top_n} Products Within Each Season\",\n",
    "                        labels={\"season_product\":\"Season — Product\",\"qty\":\"Quantity\"})\n",
    "fig_season_top.update_layout(xaxis_tickangle=-30, height=500)\n",
    "displayHTML(fig_season_top.to_html(include_plotlyjs=\"cdn\"))\n",
    "\n",
    "# ========== 3) MOST DISCOUNT-APPLIED PRODUCTS & PROMO CONVERSION ==========\n",
    "disc_by_prod = (base.groupBy(\"product_name\")\n",
    "                     .agg(F.sum(F.when(F.col(\"Discount_Applied\") == True, 1).otherwise(0)).alias(\"discounted_lines\"),\n",
    "                          F.count(\"*\").alias(\"total_lines\"))\n",
    "                     .withColumn(\"discount_rate\", F.round(F.col(\"discounted_lines\")/F.col(\"total_lines\"), 3))\n",
    "                     .orderBy(F.desc(\"discounted_lines\"))\n",
    "                     .limit(top_n))\n",
    "\n",
    "pdf_disc_prod = disc_by_prod.toPandas()\n",
    "fig_disc_prod = px.bar(pdf_disc_prod, x=\"product_name\", y=\"discounted_lines\",\n",
    "                       title=f\"Top {top_n} Products by Discount Applications\",\n",
    "                       labels={\"discounted_lines\":\"Discounted Lines\",\"product_name\":\"Product\"})\n",
    "fig_disc_prod.update_layout(xaxis_tickangle=-30, height=420)\n",
    "displayHTML(fig_disc_prod.to_html(include_plotlyjs=\"cdn\"))\n",
    "\n",
    "promo_conv = (base.groupBy(\"promotion\")\n",
    "                   .agg(F.sum(F.when(F.col(\"Discount_Applied\") == True, 1).otherwise(0)).alias(\"discounted_lines\"),\n",
    "                        F.count(\"*\").alias(\"total_lines\"))\n",
    "                   .withColumn(\"conversion_rate\", F.round(F.col(\"discounted_lines\")/F.col(\"total_lines\"), 3))\n",
    "                   .orderBy(F.desc(\"conversion_rate\")))\n",
    "pdf_promo = promo_conv.toPandas()\n",
    "fig_promo = px.bar(pdf_promo, x=\"promotion\", y=\"conversion_rate\",\n",
    "                   title=\"Promotion Conversion Rate (Discount Applied %)\",\n",
    "                   labels={\"conversion_rate\":\"Rate\",\"promotion\":\"Promotion\"})\n",
    "fig_promo.update_layout(xaxis_tickangle=-20, height=420)\n",
    "displayHTML(fig_promo.to_html(include_plotlyjs=\"cdn\"))\n",
    "\n",
    "# ========== 4) CITY × MONTH HEATMAP ==========\n",
    "city_month = (base.groupBy(\"city\",\"month\",\"month_name\")\n",
    "                   .agg(F.sum(\"quantity\").alias(\"qty\")))\n",
    "pdf_cm = city_month.orderBy(\"city\",\"month\").toPandas()\n",
    "if not pdf_cm.empty:\n",
    "    pivot = pdf_cm.pivot(index=\"city\", columns=\"month_name\", values=\"qty\").fillna(0)\n",
    "    month_order = (pdf_cm[[\"month\",\"month_name\"]].drop_duplicates().sort_values(\"month\")[\"month_name\"].tolist())\n",
    "    pivot = pivot.reindex(columns=month_order)\n",
    "    fig_heat = go.Figure(data=go.Heatmap(\n",
    "        z=pivot.values,\n",
    "        x=pivot.columns,\n",
    "        y=pivot.index,\n",
    "        colorscale=\"Blues\",\n",
    "        colorbar_title=\"Qty\"\n",
    "    ))\n",
    "    fig_heat.update_layout(title=\"City × Month Demand Heatmap\", height=520)\n",
    "    displayHTML(fig_heat.to_html(include_plotlyjs=\"cdn\"))\n",
    "else:\n",
    "    displayHTML(\"<p><em>No data for City × Month heatmap after filters.</em></p>\")\n",
    "\n",
    "# ========== 5) DAY-OF-WEEK PROFILE ==========\n",
    "dow = (base.groupBy(\"day_name\")\n",
    "            .agg(F.avg(\"quantity\").alias(\"avg_qty_per_line\"),\n",
    "                 F.sum(\"quantity\").alias(\"total_qty\"))\n",
    "            .orderBy(\"day_name\"))\n",
    "pdf_dow = dow.toPandas()\n",
    "fig_dow = px.bar(pdf_dow, x=\"day_name\", y=\"total_qty\",\n",
    "                 title=\"Total Quantity by Day of Week\",\n",
    "                 labels={\"total_qty\":\"Total Quantity\",\"day_name\":\"Day\"})\n",
    "displayHTML(fig_dow.to_html(include_plotlyjs=\"cdn\"))\n",
    "\n",
    "# ========== 6) PAYMENT METHOD MIX ==========\n",
    "paymix = (base.groupBy(\"Payment_Method\")\n",
    "               .agg(F.sum(\"quantity\").alias(\"qty\"))\n",
    "               .orderBy(F.desc(\"qty\")))\n",
    "pdf_pay = paymix.toPandas()\n",
    "fig_pay = px.pie(pdf_pay, names=\"Payment_Method\", values=\"qty\", title=\"Payment Method Share (by Quantity)\")\n",
    "displayHTML(fig_pay.to_html(include_plotlyjs=\"cdn\"))\n",
    "\n",
    "displayHTML(\"\"\"\n",
    "<div style=\"margin-top:10px;padding:8px;border-left:4px solid #3b82f6;background:#f0f7ff;\">\n",
    "<b>Tips:</b>\n",
    "<ul>\n",
    "  <li>Use the widgets at the top to change <i>Period</i>, filter by <i>Season</i> or <i>City</i>, and set <i>Top/Bottom N</i>.</li>\n",
    "  <li>Right-click → <i>Pin to dashboard</i> to build a presentable board.</li>\n",
    "  <li>For larger data, use <i>last_90d</i> or <i>last_365d</i> to keep the plots responsive.</li>\n",
    "</ul>\n",
    "</div>\n",
    "\"\"\")\n"
   ]
  },
  {
   "cell_type": "code",
   "execution_count": 0,
   "metadata": {
    "application/vnd.databricks.v1+cell": {
     "cellMetadata": {
      "byteLimit": 2048000,
      "rowLimit": 10000
     },
     "inputWidgets": {},
     "nuid": "430e9dd5-557c-4435-a710-c96e127e3b3e",
     "showTitle": false,
     "tableResultSettingsMap": {},
     "title": ""
    }
   },
   "outputs": [
    {
     "output_type": "stream",
     "name": "stderr",
     "output_type": "stream",
     "text": [
      "18:58:54 - cmdstanpy - INFO - Chain [1] start processing\n18:58:54 - cmdstanpy - INFO - Chain [1] done processing\n"
     ]
    },
    {
     "output_type": "display_data",
     "data": {
      "text/html": [
       "\n",
       "            <div style=\"margin:10px 0;padding:10px;border-left:4px solid #22c55e;background:#f0fff4;\">\n",
       "              <b>Backtest metrics (last 14 days)</b><br/>\n",
       "              MAE: <code>7.782</code> &nbsp;&nbsp;\n",
       "              RMSE: <code>9.150</code> &nbsp;&nbsp;\n",
       "              sMAPE: <code>17.11%</code>\n",
       "            </div>\n",
       "            "
      ]
     },
     "metadata": {},
     "output_type": "display_data"
    },
    {
     "output_type": "display_data",
     "data": {
      "text/html": [
       "<html>\n",
       "<head><meta charset=\"utf-8\" /></head>\n",
       "<body>\n",
       "    <div>                        <script type=\"text/javascript\">window.PlotlyConfig = {MathJaxConfig: 'local'};</script>\n",
       "        <script charset=\"utf-8\" src=\"https://cdn.plot.ly/plotly-2.32.0.min.js\"></script>                <div id=\"9859d5a4-8db7-44ca-8200-a3e4e9973a68\" class=\"plotly-graph-div\" style=\"height:520px; width:100%;\"></div>            <script type=\"text/javascript\">                                    window.PLOTLYENV=window.PLOTLYENV || {};                                    if (document.getElementById(\"9859d5a4-8db7-44ca-8200-a3e4e9973a68\")) {                    Plotly.newPlot(                        \"9859d5a4-8db7-44ca-8200-a3e4e9973a68\",                        [{\"line\":{\"color\":\"#2563eb\"},\"mode\":\"lines+markers\",\"name\":\"Actual (history)\",\"x\":[\"2020-01-01T00:00:00\",\"2020-01-02T00:00:00\",\"2020-01-03T00:00:00\",\"2020-01-04T00:00:00\",\"2020-01-05T00:00:00\",\"2020-01-06T00:00:00\",\"2020-01-07T00:00:00\",\"2020-01-08T00:00:00\",\"2020-01-09T00:00:00\",\"2020-01-10T00:00:00\",\"2020-01-11T00:00:00\",\"2020-01-12T00:00:00\",\"2020-01-13T00:00:00\",\"2020-01-14T00:00:00\",\"2020-01-15T00:00:00\",\"2020-01-16T00:00:00\",\"2020-01-17T00:00:00\",\"2020-01-18T00:00:00\",\"2020-01-19T00:00:00\",\"2020-01-20T00:00:00\",\"2020-01-21T00:00:00\",\"2020-01-22T00:00:00\",\"2020-01-23T00:00:00\",\"2020-01-24T00:00:00\",\"2020-01-25T00:00:00\",\"2020-01-26T00:00:00\",\"2020-01-27T00:00:00\",\"2020-01-28T00:00:00\",\"2020-01-29T00:00:00\",\"2020-01-30T00:00:00\",\"2020-01-31T00:00:00\",\"2020-02-01T00:00:00\",\"2020-02-02T00:00:00\",\"2020-02-03T00:00:00\",\"2020-02-04T00:00:00\",\"2020-02-05T00:00:00\",\"2020-02-06T00:00:00\",\"2020-02-07T00:00:00\",\"2020-02-08T00:00:00\",\"2020-02-09T00:00:00\",\"2020-02-10T00:00:00\",\"2020-02-11T00:00:00\",\"2020-02-12T00:00:00\",\"2020-02-13T00:00:00\",\"2020-02-14T00:00:00\",\"2020-02-15T00:00:00\",\"2020-02-16T00:00:00\",\"2020-02-17T00:00:00\",\"2020-02-18T00:00:00\",\"2020-02-19T00:00:00\",\"2020-02-20T00:00:00\",\"2020-02-21T00:00:00\",\"2020-02-22T00:00:00\",\"2020-02-23T00:00:00\",\"2020-02-24T00:00:00\",\"2020-02-25T00:00:00\",\"2020-02-26T00:00:00\",\"2020-02-27T00:00:00\",\"2020-02-28T00:00:00\",\"2020-02-29T00:00:00\",\"2020-03-01T00:00:00\",\"2020-03-02T00:00:00\",\"2020-03-03T00:00:00\",\"2020-03-04T00:00:00\",\"2020-03-05T00:00:00\",\"2020-03-06T00:00:00\",\"2020-03-07T00:00:00\",\"2020-03-08T00:00:00\",\"2020-03-09T00:00:00\",\"2020-03-10T00:00:00\",\"2020-03-11T00:00:00\",\"2020-03-12T00:00:00\",\"2020-03-13T00:00:00\",\"2020-03-14T00:00:00\",\"2020-03-15T00:00:00\",\"2020-03-16T00:00:00\",\"2020-03-17T00:00:00\",\"2020-03-18T00:00:00\",\"2020-03-19T00:00:00\",\"2020-03-20T00:00:00\",\"2020-03-21T00:00:00\",\"2020-03-22T00:00:00\",\"2020-03-23T00:00:00\",\"2020-03-24T00:00:00\",\"2020-03-25T00:00:00\",\"2020-03-26T00:00:00\",\"2020-03-27T00:00:00\",\"2020-03-28T00:00:00\",\"2020-03-29T00:00:00\",\"2020-03-30T00:00:00\",\"2020-03-31T00:00:00\",\"2020-04-01T00:00:00\",\"2020-04-02T00:00:00\",\"2020-04-03T00:00:00\",\"2020-04-04T00:00:00\",\"2020-04-05T00:00:00\",\"2020-04-06T00:00:00\",\"2020-04-07T00:00:00\",\"2020-04-08T00:00:00\",\"2020-04-09T00:00:00\",\"2020-04-10T00:00:00\",\"2020-04-11T00:00:00\",\"2020-04-12T00:00:00\",\"2020-04-13T00:00:00\",\"2020-04-14T00:00:00\",\"2020-04-15T00:00:00\",\"2020-04-16T00:00:00\",\"2020-04-17T00:00:00\",\"2020-04-18T00:00:00\",\"2020-04-19T00:00:00\",\"2020-04-20T00:00:00\",\"2020-04-21T00:00:00\",\"2020-04-22T00:00:00\",\"2020-04-23T00:00:00\",\"2020-04-24T00:00:00\",\"2020-04-25T00:00:00\",\"2020-04-26T00:00:00\",\"2020-04-27T00:00:00\",\"2020-04-28T00:00:00\",\"2020-04-29T00:00:00\",\"2020-04-30T00:00:00\",\"2020-05-01T00:00:00\",\"2020-05-02T00:00:00\",\"2020-05-03T00:00:00\",\"2020-05-04T00:00:00\",\"2020-05-05T00:00:00\",\"2020-05-06T00:00:00\",\"2020-05-07T00:00:00\",\"2020-05-08T00:00:00\",\"2020-05-09T00:00:00\",\"2020-05-10T00:00:00\",\"2020-05-11T00:00:00\",\"2020-05-12T00:00:00\",\"2020-05-13T00:00:00\",\"2020-05-14T00:00:00\",\"2020-05-15T00:00:00\",\"2020-05-16T00:00:00\",\"2020-05-17T00:00:00\",\"2020-05-18T00:00:00\",\"2020-05-19T00:00:00\",\"2020-05-20T00:00:00\",\"2020-05-21T00:00:00\",\"2020-05-22T00:00:00\",\"2020-05-23T00:00:00\",\"2020-05-24T00:00:00\",\"2020-05-25T00:00:00\",\"2020-05-26T00:00:00\",\"2020-05-27T00:00:00\",\"2020-05-28T00:00:00\",\"2020-05-29T00:00:00\",\"2020-05-30T00:00:00\",\"2020-05-31T00:00:00\",\"2020-06-01T00:00:00\",\"2020-06-02T00:00:00\",\"2020-06-03T00:00:00\",\"2020-06-04T00:00:00\",\"2020-06-05T00:00:00\",\"2020-06-06T00:00:00\",\"2020-06-07T00:00:00\",\"2020-06-08T00:00:00\",\"2020-06-09T00:00:00\",\"2020-06-10T00:00:00\",\"2020-06-11T00:00:00\",\"2020-06-12T00:00:00\",\"2020-06-13T00:00:00\",\"2020-06-14T00:00:00\",\"2020-06-15T00:00:00\",\"2020-06-16T00:00:00\",\"2020-06-17T00:00:00\",\"2020-06-18T00:00:00\",\"2020-06-19T00:00:00\",\"2020-06-20T00:00:00\",\"2020-06-21T00:00:00\",\"2020-06-22T00:00:00\",\"2020-06-23T00:00:00\",\"2020-06-24T00:00:00\",\"2020-06-25T00:00:00\",\"2020-06-26T00:00:00\",\"2020-06-27T00:00:00\",\"2020-06-28T00:00:00\",\"2020-06-29T00:00:00\",\"2020-06-30T00:00:00\",\"2020-07-01T00:00:00\",\"2020-07-02T00:00:00\",\"2020-07-03T00:00:00\",\"2020-07-04T00:00:00\",\"2020-07-05T00:00:00\",\"2020-07-06T00:00:00\",\"2020-07-07T00:00:00\",\"2020-07-08T00:00:00\",\"2020-07-09T00:00:00\",\"2020-07-10T00:00:00\",\"2020-07-11T00:00:00\",\"2020-07-12T00:00:00\",\"2020-07-13T00:00:00\",\"2020-07-14T00:00:00\",\"2020-07-15T00:00:00\",\"2020-07-16T00:00:00\",\"2020-07-17T00:00:00\",\"2020-07-18T00:00:00\",\"2020-07-19T00:00:00\",\"2020-07-20T00:00:00\",\"2020-07-21T00:00:00\",\"2020-07-22T00:00:00\",\"2020-07-23T00:00:00\",\"2020-07-24T00:00:00\",\"2020-07-25T00:00:00\",\"2020-07-26T00:00:00\",\"2020-07-27T00:00:00\",\"2020-07-28T00:00:00\",\"2020-07-29T00:00:00\",\"2020-07-30T00:00:00\",\"2020-07-31T00:00:00\",\"2020-08-01T00:00:00\",\"2020-08-02T00:00:00\",\"2020-08-03T00:00:00\",\"2020-08-04T00:00:00\",\"2020-08-05T00:00:00\",\"2020-08-06T00:00:00\",\"2020-08-07T00:00:00\",\"2020-08-08T00:00:00\",\"2020-08-09T00:00:00\",\"2020-08-10T00:00:00\",\"2020-08-11T00:00:00\",\"2020-08-12T00:00:00\",\"2020-08-13T00:00:00\",\"2020-08-14T00:00:00\",\"2020-08-15T00:00:00\",\"2020-08-16T00:00:00\",\"2020-08-17T00:00:00\",\"2020-08-18T00:00:00\",\"2020-08-19T00:00:00\",\"2020-08-20T00:00:00\",\"2020-08-21T00:00:00\",\"2020-08-22T00:00:00\",\"2020-08-23T00:00:00\",\"2020-08-24T00:00:00\",\"2020-08-25T00:00:00\",\"2020-08-26T00:00:00\",\"2020-08-27T00:00:00\",\"2020-08-28T00:00:00\",\"2020-08-29T00:00:00\",\"2020-08-30T00:00:00\",\"2020-08-31T00:00:00\",\"2020-09-01T00:00:00\",\"2020-09-02T00:00:00\",\"2020-09-03T00:00:00\",\"2020-09-04T00:00:00\",\"2020-09-05T00:00:00\",\"2020-09-06T00:00:00\",\"2020-09-07T00:00:00\",\"2020-09-08T00:00:00\",\"2020-09-09T00:00:00\",\"2020-09-10T00:00:00\",\"2020-09-11T00:00:00\",\"2020-09-12T00:00:00\",\"2020-09-13T00:00:00\",\"2020-09-14T00:00:00\",\"2020-09-15T00:00:00\",\"2020-09-16T00:00:00\",\"2020-09-17T00:00:00\",\"2020-09-18T00:00:00\",\"2020-09-19T00:00:00\",\"2020-09-20T00:00:00\",\"2020-09-21T00:00:00\",\"2020-09-22T00:00:00\",\"2020-09-23T00:00:00\",\"2020-09-24T00:00:00\",\"2020-09-25T00:00:00\",\"2020-09-26T00:00:00\",\"2020-09-27T00:00:00\",\"2020-09-28T00:00:00\",\"2020-09-29T00:00:00\",\"2020-09-30T00:00:00\",\"2020-10-01T00:00:00\",\"2020-10-02T00:00:00\",\"2020-10-03T00:00:00\",\"2020-10-04T00:00:00\",\"2020-10-05T00:00:00\",\"2020-10-06T00:00:00\",\"2020-10-07T00:00:00\",\"2020-10-08T00:00:00\",\"2020-10-09T00:00:00\",\"2020-10-10T00:00:00\",\"2020-10-11T00:00:00\",\"2020-10-12T00:00:00\",\"2020-10-13T00:00:00\",\"2020-10-14T00:00:00\",\"2020-10-15T00:00:00\",\"2020-10-16T00:00:00\",\"2020-10-17T00:00:00\",\"2020-10-18T00:00:00\",\"2020-10-19T00:00:00\",\"2020-10-20T00:00:00\",\"2020-10-21T00:00:00\",\"2020-10-22T00:00:00\",\"2020-10-23T00:00:00\",\"2020-10-24T00:00:00\",\"2020-10-25T00:00:00\",\"2020-10-26T00:00:00\",\"2020-10-27T00:00:00\",\"2020-10-28T00:00:00\",\"2020-10-29T00:00:00\",\"2020-10-30T00:00:00\",\"2020-10-31T00:00:00\",\"2020-11-01T00:00:00\",\"2020-11-02T00:00:00\",\"2020-11-03T00:00:00\",\"2020-11-04T00:00:00\",\"2020-11-05T00:00:00\",\"2020-11-06T00:00:00\",\"2020-11-07T00:00:00\",\"2020-11-08T00:00:00\",\"2020-11-09T00:00:00\",\"2020-11-10T00:00:00\",\"2020-11-11T00:00:00\",\"2020-11-12T00:00:00\",\"2020-11-13T00:00:00\",\"2020-11-14T00:00:00\",\"2020-11-15T00:00:00\",\"2020-11-16T00:00:00\",\"2020-11-17T00:00:00\",\"2020-11-18T00:00:00\",\"2020-11-19T00:00:00\",\"2020-11-20T00:00:00\",\"2020-11-21T00:00:00\",\"2020-11-22T00:00:00\",\"2020-11-23T00:00:00\",\"2020-11-24T00:00:00\",\"2020-11-25T00:00:00\",\"2020-11-26T00:00:00\",\"2020-11-27T00:00:00\",\"2020-11-28T00:00:00\",\"2020-11-29T00:00:00\",\"2020-11-30T00:00:00\",\"2020-12-01T00:00:00\",\"2020-12-02T00:00:00\",\"2020-12-03T00:00:00\",\"2020-12-04T00:00:00\",\"2020-12-05T00:00:00\",\"2020-12-06T00:00:00\",\"2020-12-07T00:00:00\",\"2020-12-08T00:00:00\",\"2020-12-09T00:00:00\",\"2020-12-10T00:00:00\",\"2020-12-11T00:00:00\",\"2020-12-12T00:00:00\",\"2020-12-13T00:00:00\",\"2020-12-14T00:00:00\",\"2020-12-15T00:00:00\",\"2020-12-16T00:00:00\",\"2020-12-17T00:00:00\",\"2020-12-18T00:00:00\",\"2020-12-19T00:00:00\",\"2020-12-20T00:00:00\",\"2020-12-21T00:00:00\",\"2020-12-22T00:00:00\",\"2020-12-23T00:00:00\",\"2020-12-24T00:00:00\",\"2020-12-25T00:00:00\",\"2020-12-26T00:00:00\",\"2020-12-27T00:00:00\",\"2020-12-28T00:00:00\",\"2020-12-29T00:00:00\",\"2020-12-30T00:00:00\",\"2020-12-31T00:00:00\",\"2021-01-01T00:00:00\",\"2021-01-02T00:00:00\",\"2021-01-03T00:00:00\",\"2021-01-04T00:00:00\",\"2021-01-05T00:00:00\",\"2021-01-06T00:00:00\",\"2021-01-07T00:00:00\",\"2021-01-08T00:00:00\",\"2021-01-09T00:00:00\",\"2021-01-10T00:00:00\",\"2021-01-11T00:00:00\",\"2021-01-12T00:00:00\",\"2021-01-13T00:00:00\",\"2021-01-14T00:00:00\",\"2021-01-15T00:00:00\",\"2021-01-16T00:00:00\",\"2021-01-17T00:00:00\",\"2021-01-18T00:00:00\",\"2021-01-19T00:00:00\",\"2021-01-20T00:00:00\",\"2021-01-21T00:00:00\",\"2021-01-22T00:00:00\",\"2021-01-23T00:00:00\",\"2021-01-24T00:00:00\",\"2021-01-25T00:00:00\",\"2021-01-26T00:00:00\",\"2021-01-27T00:00:00\",\"2021-01-28T00:00:00\",\"2021-01-29T00:00:00\",\"2021-01-30T00:00:00\",\"2021-01-31T00:00:00\",\"2021-02-01T00:00:00\",\"2021-02-02T00:00:00\",\"2021-02-03T00:00:00\",\"2021-02-04T00:00:00\",\"2021-02-05T00:00:00\",\"2021-02-06T00:00:00\",\"2021-02-07T00:00:00\",\"2021-02-08T00:00:00\",\"2021-02-09T00:00:00\",\"2021-02-10T00:00:00\",\"2021-02-11T00:00:00\",\"2021-02-12T00:00:00\",\"2021-02-13T00:00:00\",\"2021-02-14T00:00:00\",\"2021-02-15T00:00:00\",\"2021-02-16T00:00:00\",\"2021-02-17T00:00:00\",\"2021-02-18T00:00:00\",\"2021-02-19T00:00:00\",\"2021-02-20T00:00:00\",\"2021-02-21T00:00:00\",\"2021-02-22T00:00:00\",\"2021-02-23T00:00:00\",\"2021-02-24T00:00:00\",\"2021-02-25T00:00:00\",\"2021-02-26T00:00:00\",\"2021-02-27T00:00:00\",\"2021-02-28T00:00:00\",\"2021-03-01T00:00:00\",\"2021-03-02T00:00:00\",\"2021-03-03T00:00:00\",\"2021-03-04T00:00:00\",\"2021-03-05T00:00:00\",\"2021-03-06T00:00:00\",\"2021-03-07T00:00:00\",\"2021-03-08T00:00:00\",\"2021-03-09T00:00:00\",\"2021-03-10T00:00:00\",\"2021-03-11T00:00:00\",\"2021-03-12T00:00:00\",\"2021-03-13T00:00:00\",\"2021-03-14T00:00:00\",\"2021-03-15T00:00:00\",\"2021-03-16T00:00:00\",\"2021-03-17T00:00:00\",\"2021-03-18T00:00:00\",\"2021-03-19T00:00:00\",\"2021-03-20T00:00:00\",\"2021-03-21T00:00:00\",\"2021-03-22T00:00:00\",\"2021-03-23T00:00:00\",\"2021-03-24T00:00:00\",\"2021-03-25T00:00:00\",\"2021-03-26T00:00:00\",\"2021-03-27T00:00:00\",\"2021-03-28T00:00:00\",\"2021-03-29T00:00:00\",\"2021-03-30T00:00:00\",\"2021-03-31T00:00:00\",\"2021-04-01T00:00:00\",\"2021-04-02T00:00:00\",\"2021-04-03T00:00:00\",\"2021-04-04T00:00:00\",\"2021-04-05T00:00:00\",\"2021-04-06T00:00:00\",\"2021-04-07T00:00:00\",\"2021-04-08T00:00:00\",\"2021-04-09T00:00:00\",\"2021-04-10T00:00:00\",\"2021-04-11T00:00:00\",\"2021-04-12T00:00:00\",\"2021-04-13T00:00:00\",\"2021-04-14T00:00:00\",\"2021-04-15T00:00:00\",\"2021-04-16T00:00:00\",\"2021-04-17T00:00:00\",\"2021-04-18T00:00:00\",\"2021-04-19T00:00:00\",\"2021-04-20T00:00:00\",\"2021-04-21T00:00:00\",\"2021-04-22T00:00:00\",\"2021-04-23T00:00:00\",\"2021-04-24T00:00:00\",\"2021-04-25T00:00:00\",\"2021-04-26T00:00:00\",\"2021-04-27T00:00:00\",\"2021-04-28T00:00:00\",\"2021-04-29T00:00:00\",\"2021-04-30T00:00:00\",\"2021-05-01T00:00:00\",\"2021-05-02T00:00:00\",\"2021-05-03T00:00:00\",\"2021-05-04T00:00:00\",\"2021-05-05T00:00:00\",\"2021-05-06T00:00:00\",\"2021-05-07T00:00:00\",\"2021-05-08T00:00:00\",\"2021-05-09T00:00:00\",\"2021-05-10T00:00:00\",\"2021-05-11T00:00:00\",\"2021-05-12T00:00:00\",\"2021-05-13T00:00:00\",\"2021-05-14T00:00:00\",\"2021-05-15T00:00:00\",\"2021-05-16T00:00:00\",\"2021-05-17T00:00:00\",\"2021-05-18T00:00:00\",\"2021-05-19T00:00:00\",\"2021-05-20T00:00:00\",\"2021-05-21T00:00:00\",\"2021-05-22T00:00:00\",\"2021-05-23T00:00:00\",\"2021-05-24T00:00:00\",\"2021-05-25T00:00:00\",\"2021-05-26T00:00:00\",\"2021-05-27T00:00:00\",\"2021-05-28T00:00:00\",\"2021-05-29T00:00:00\",\"2021-05-30T00:00:00\",\"2021-05-31T00:00:00\",\"2021-06-01T00:00:00\",\"2021-06-02T00:00:00\",\"2021-06-03T00:00:00\",\"2021-06-04T00:00:00\",\"2021-06-05T00:00:00\",\"2021-06-06T00:00:00\",\"2021-06-07T00:00:00\",\"2021-06-08T00:00:00\",\"2021-06-09T00:00:00\",\"2021-06-10T00:00:00\",\"2021-06-11T00:00:00\",\"2021-06-12T00:00:00\",\"2021-06-13T00:00:00\",\"2021-06-14T00:00:00\",\"2021-06-15T00:00:00\",\"2021-06-16T00:00:00\",\"2021-06-17T00:00:00\",\"2021-06-18T00:00:00\",\"2021-06-19T00:00:00\",\"2021-06-20T00:00:00\",\"2021-06-21T00:00:00\",\"2021-06-22T00:00:00\",\"2021-06-23T00:00:00\",\"2021-06-24T00:00:00\",\"2021-06-25T00:00:00\",\"2021-06-26T00:00:00\",\"2021-06-27T00:00:00\",\"2021-06-28T00:00:00\",\"2021-06-29T00:00:00\",\"2021-06-30T00:00:00\",\"2021-07-01T00:00:00\",\"2021-07-02T00:00:00\",\"2021-07-03T00:00:00\",\"2021-07-04T00:00:00\",\"2021-07-05T00:00:00\",\"2021-07-06T00:00:00\",\"2021-07-07T00:00:00\",\"2021-07-08T00:00:00\",\"2021-07-09T00:00:00\",\"2021-07-10T00:00:00\",\"2021-07-11T00:00:00\",\"2021-07-12T00:00:00\",\"2021-07-13T00:00:00\",\"2021-07-14T00:00:00\",\"2021-07-15T00:00:00\",\"2021-07-16T00:00:00\",\"2021-07-17T00:00:00\",\"2021-07-18T00:00:00\",\"2021-07-19T00:00:00\",\"2021-07-20T00:00:00\",\"2021-07-21T00:00:00\",\"2021-07-22T00:00:00\",\"2021-07-23T00:00:00\",\"2021-07-24T00:00:00\",\"2021-07-25T00:00:00\",\"2021-07-26T00:00:00\",\"2021-07-27T00:00:00\",\"2021-07-28T00:00:00\",\"2021-07-29T00:00:00\",\"2021-07-30T00:00:00\",\"2021-07-31T00:00:00\",\"2021-08-01T00:00:00\",\"2021-08-02T00:00:00\",\"2021-08-03T00:00:00\",\"2021-08-04T00:00:00\",\"2021-08-05T00:00:00\",\"2021-08-06T00:00:00\",\"2021-08-07T00:00:00\",\"2021-08-08T00:00:00\",\"2021-08-09T00:00:00\",\"2021-08-10T00:00:00\",\"2021-08-11T00:00:00\",\"2021-08-12T00:00:00\",\"2021-08-13T00:00:00\",\"2021-08-14T00:00:00\",\"2021-08-15T00:00:00\",\"2021-08-16T00:00:00\",\"2021-08-17T00:00:00\",\"2021-08-18T00:00:00\",\"2021-08-19T00:00:00\",\"2021-08-20T00:00:00\",\"2021-08-21T00:00:00\",\"2021-08-22T00:00:00\",\"2021-08-23T00:00:00\",\"2021-08-24T00:00:00\",\"2021-08-25T00:00:00\",\"2021-08-26T00:00:00\",\"2021-08-27T00:00:00\",\"2021-08-28T00:00:00\",\"2021-08-29T00:00:00\",\"2021-08-30T00:00:00\",\"2021-08-31T00:00:00\",\"2021-09-01T00:00:00\",\"2021-09-02T00:00:00\",\"2021-09-03T00:00:00\",\"2021-09-04T00:00:00\",\"2021-09-05T00:00:00\",\"2021-09-06T00:00:00\",\"2021-09-07T00:00:00\",\"2021-09-08T00:00:00\",\"2021-09-09T00:00:00\",\"2021-09-10T00:00:00\",\"2021-09-11T00:00:00\",\"2021-09-12T00:00:00\",\"2021-09-13T00:00:00\",\"2021-09-14T00:00:00\",\"2021-09-15T00:00:00\",\"2021-09-16T00:00:00\",\"2021-09-17T00:00:00\",\"2021-09-18T00:00:00\",\"2021-09-19T00:00:00\",\"2021-09-20T00:00:00\",\"2021-09-21T00:00:00\",\"2021-09-22T00:00:00\",\"2021-09-23T00:00:00\",\"2021-09-24T00:00:00\",\"2021-09-25T00:00:00\",\"2021-09-26T00:00:00\",\"2021-09-27T00:00:00\",\"2021-09-28T00:00:00\",\"2021-09-29T00:00:00\",\"2021-09-30T00:00:00\",\"2021-10-01T00:00:00\",\"2021-10-02T00:00:00\",\"2021-10-03T00:00:00\",\"2021-10-04T00:00:00\",\"2021-10-05T00:00:00\",\"2021-10-06T00:00:00\",\"2021-10-07T00:00:00\",\"2021-10-08T00:00:00\",\"2021-10-09T00:00:00\",\"2021-10-10T00:00:00\",\"2021-10-11T00:00:00\",\"2021-10-12T00:00:00\",\"2021-10-13T00:00:00\",\"2021-10-14T00:00:00\",\"2021-10-15T00:00:00\",\"2021-10-16T00:00:00\",\"2021-10-17T00:00:00\",\"2021-10-18T00:00:00\",\"2021-10-19T00:00:00\",\"2021-10-20T00:00:00\",\"2021-10-21T00:00:00\",\"2021-10-22T00:00:00\",\"2021-10-23T00:00:00\",\"2021-10-24T00:00:00\",\"2021-10-25T00:00:00\",\"2021-10-26T00:00:00\",\"2021-10-27T00:00:00\",\"2021-10-28T00:00:00\",\"2021-10-29T00:00:00\",\"2021-10-30T00:00:00\",\"2021-10-31T00:00:00\",\"2021-11-01T00:00:00\",\"2021-11-02T00:00:00\",\"2021-11-03T00:00:00\",\"2021-11-04T00:00:00\",\"2021-11-05T00:00:00\",\"2021-11-06T00:00:00\",\"2021-11-07T00:00:00\",\"2021-11-08T00:00:00\",\"2021-11-09T00:00:00\",\"2021-11-10T00:00:00\",\"2021-11-11T00:00:00\",\"2021-11-12T00:00:00\",\"2021-11-13T00:00:00\",\"2021-11-14T00:00:00\",\"2021-11-15T00:00:00\",\"2021-11-16T00:00:00\",\"2021-11-17T00:00:00\",\"2021-11-18T00:00:00\",\"2021-11-19T00:00:00\",\"2021-11-20T00:00:00\",\"2021-11-21T00:00:00\",\"2021-11-22T00:00:00\",\"2021-11-23T00:00:00\",\"2021-11-24T00:00:00\",\"2021-11-25T00:00:00\",\"2021-11-26T00:00:00\",\"2021-11-27T00:00:00\",\"2021-11-28T00:00:00\",\"2021-11-29T00:00:00\",\"2021-11-30T00:00:00\",\"2021-12-01T00:00:00\",\"2021-12-02T00:00:00\",\"2021-12-03T00:00:00\",\"2021-12-04T00:00:00\",\"2021-12-05T00:00:00\",\"2021-12-06T00:00:00\",\"2021-12-07T00:00:00\",\"2021-12-08T00:00:00\",\"2021-12-09T00:00:00\",\"2021-12-10T00:00:00\",\"2021-12-11T00:00:00\",\"2021-12-12T00:00:00\",\"2021-12-13T00:00:00\",\"2021-12-14T00:00:00\",\"2021-12-15T00:00:00\",\"2021-12-16T00:00:00\",\"2021-12-17T00:00:00\",\"2021-12-18T00:00:00\",\"2021-12-19T00:00:00\",\"2021-12-20T00:00:00\",\"2021-12-21T00:00:00\",\"2021-12-22T00:00:00\",\"2021-12-23T00:00:00\",\"2021-12-24T00:00:00\",\"2021-12-25T00:00:00\",\"2021-12-26T00:00:00\",\"2021-12-27T00:00:00\",\"2021-12-28T00:00:00\",\"2021-12-29T00:00:00\",\"2021-12-30T00:00:00\",\"2021-12-31T00:00:00\",\"2022-01-01T00:00:00\",\"2022-01-02T00:00:00\",\"2022-01-03T00:00:00\",\"2022-01-04T00:00:00\",\"2022-01-05T00:00:00\",\"2022-01-06T00:00:00\",\"2022-01-07T00:00:00\",\"2022-01-08T00:00:00\",\"2022-01-09T00:00:00\",\"2022-01-10T00:00:00\",\"2022-01-11T00:00:00\",\"2022-01-12T00:00:00\",\"2022-01-13T00:00:00\",\"2022-01-14T00:00:00\",\"2022-01-15T00:00:00\",\"2022-01-16T00:00:00\",\"2022-01-17T00:00:00\",\"2022-01-18T00:00:00\",\"2022-01-19T00:00:00\",\"2022-01-20T00:00:00\",\"2022-01-21T00:00:00\",\"2022-01-22T00:00:00\",\"2022-01-23T00:00:00\",\"2022-01-24T00:00:00\",\"2022-01-25T00:00:00\",\"2022-01-26T00:00:00\",\"2022-01-27T00:00:00\",\"2022-01-28T00:00:00\",\"2022-01-29T00:00:00\",\"2022-01-30T00:00:00\",\"2022-01-31T00:00:00\",\"2022-02-01T00:00:00\",\"2022-02-02T00:00:00\",\"2022-02-03T00:00:00\",\"2022-02-04T00:00:00\",\"2022-02-05T00:00:00\",\"2022-02-06T00:00:00\",\"2022-02-07T00:00:00\",\"2022-02-08T00:00:00\",\"2022-02-09T00:00:00\",\"2022-02-10T00:00:00\",\"2022-02-11T00:00:00\",\"2022-02-12T00:00:00\",\"2022-02-13T00:00:00\",\"2022-02-14T00:00:00\",\"2022-02-15T00:00:00\",\"2022-02-16T00:00:00\",\"2022-02-17T00:00:00\",\"2022-02-18T00:00:00\",\"2022-02-19T00:00:00\",\"2022-02-20T00:00:00\",\"2022-02-21T00:00:00\",\"2022-02-22T00:00:00\",\"2022-02-23T00:00:00\",\"2022-02-24T00:00:00\",\"2022-02-25T00:00:00\",\"2022-02-26T00:00:00\",\"2022-02-27T00:00:00\",\"2022-02-28T00:00:00\",\"2022-03-01T00:00:00\",\"2022-03-02T00:00:00\",\"2022-03-03T00:00:00\",\"2022-03-04T00:00:00\",\"2022-03-05T00:00:00\",\"2022-03-06T00:00:00\",\"2022-03-07T00:00:00\",\"2022-03-08T00:00:00\",\"2022-03-09T00:00:00\",\"2022-03-10T00:00:00\",\"2022-03-11T00:00:00\",\"2022-03-12T00:00:00\",\"2022-03-13T00:00:00\",\"2022-03-14T00:00:00\",\"2022-03-15T00:00:00\",\"2022-03-16T00:00:00\",\"2022-03-17T00:00:00\",\"2022-03-18T00:00:00\",\"2022-03-19T00:00:00\",\"2022-03-20T00:00:00\",\"2022-03-21T00:00:00\",\"2022-03-22T00:00:00\",\"2022-03-23T00:00:00\",\"2022-03-24T00:00:00\",\"2022-03-25T00:00:00\",\"2022-03-26T00:00:00\",\"2022-03-27T00:00:00\",\"2022-03-28T00:00:00\",\"2022-03-29T00:00:00\",\"2022-03-30T00:00:00\",\"2022-03-31T00:00:00\",\"2022-04-01T00:00:00\",\"2022-04-02T00:00:00\",\"2022-04-03T00:00:00\",\"2022-04-04T00:00:00\",\"2022-04-05T00:00:00\",\"2022-04-06T00:00:00\",\"2022-04-07T00:00:00\",\"2022-04-08T00:00:00\",\"2022-04-09T00:00:00\",\"2022-04-10T00:00:00\",\"2022-04-11T00:00:00\",\"2022-04-12T00:00:00\",\"2022-04-13T00:00:00\",\"2022-04-14T00:00:00\",\"2022-04-15T00:00:00\",\"2022-04-16T00:00:00\",\"2022-04-17T00:00:00\",\"2022-04-18T00:00:00\",\"2022-04-19T00:00:00\",\"2022-04-20T00:00:00\",\"2022-04-21T00:00:00\",\"2022-04-22T00:00:00\",\"2022-04-23T00:00:00\",\"2022-04-24T00:00:00\",\"2022-04-25T00:00:00\",\"2022-04-26T00:00:00\",\"2022-04-27T00:00:00\",\"2022-04-28T00:00:00\",\"2022-04-29T00:00:00\",\"2022-04-30T00:00:00\",\"2022-05-01T00:00:00\",\"2022-05-02T00:00:00\",\"2022-05-03T00:00:00\",\"2022-05-04T00:00:00\",\"2022-05-05T00:00:00\",\"2022-05-06T00:00:00\",\"2022-05-07T00:00:00\",\"2022-05-08T00:00:00\",\"2022-05-09T00:00:00\",\"2022-05-10T00:00:00\",\"2022-05-11T00:00:00\",\"2022-05-12T00:00:00\",\"2022-05-13T00:00:00\",\"2022-05-14T00:00:00\",\"2022-05-15T00:00:00\",\"2022-05-16T00:00:00\",\"2022-05-17T00:00:00\",\"2022-05-18T00:00:00\",\"2022-05-19T00:00:00\",\"2022-05-20T00:00:00\",\"2022-05-21T00:00:00\",\"2022-05-22T00:00:00\",\"2022-05-23T00:00:00\",\"2022-05-24T00:00:00\",\"2022-05-25T00:00:00\",\"2022-05-26T00:00:00\",\"2022-05-27T00:00:00\",\"2022-05-28T00:00:00\",\"2022-05-29T00:00:00\",\"2022-05-30T00:00:00\",\"2022-05-31T00:00:00\",\"2022-06-01T00:00:00\",\"2022-06-02T00:00:00\",\"2022-06-03T00:00:00\",\"2022-06-04T00:00:00\",\"2022-06-05T00:00:00\",\"2022-06-06T00:00:00\",\"2022-06-07T00:00:00\",\"2022-06-08T00:00:00\",\"2022-06-09T00:00:00\",\"2022-06-10T00:00:00\",\"2022-06-11T00:00:00\",\"2022-06-12T00:00:00\",\"2022-06-13T00:00:00\",\"2022-06-14T00:00:00\",\"2022-06-15T00:00:00\",\"2022-06-16T00:00:00\",\"2022-06-17T00:00:00\",\"2022-06-18T00:00:00\",\"2022-06-19T00:00:00\",\"2022-06-20T00:00:00\",\"2022-06-21T00:00:00\",\"2022-06-22T00:00:00\",\"2022-06-23T00:00:00\",\"2022-06-24T00:00:00\",\"2022-06-25T00:00:00\",\"2022-06-26T00:00:00\",\"2022-06-27T00:00:00\",\"2022-06-28T00:00:00\",\"2022-06-29T00:00:00\",\"2022-06-30T00:00:00\",\"2022-07-01T00:00:00\",\"2022-07-02T00:00:00\",\"2022-07-03T00:00:00\",\"2022-07-04T00:00:00\",\"2022-07-05T00:00:00\",\"2022-07-06T00:00:00\",\"2022-07-07T00:00:00\",\"2022-07-08T00:00:00\",\"2022-07-09T00:00:00\",\"2022-07-10T00:00:00\",\"2022-07-11T00:00:00\",\"2022-07-12T00:00:00\",\"2022-07-13T00:00:00\",\"2022-07-14T00:00:00\",\"2022-07-15T00:00:00\",\"2022-07-16T00:00:00\",\"2022-07-17T00:00:00\",\"2022-07-18T00:00:00\",\"2022-07-19T00:00:00\",\"2022-07-20T00:00:00\",\"2022-07-21T00:00:00\",\"2022-07-22T00:00:00\",\"2022-07-23T00:00:00\",\"2022-07-24T00:00:00\",\"2022-07-25T00:00:00\",\"2022-07-26T00:00:00\",\"2022-07-27T00:00:00\",\"2022-07-28T00:00:00\",\"2022-07-29T00:00:00\",\"2022-07-30T00:00:00\",\"2022-07-31T00:00:00\",\"2022-08-01T00:00:00\",\"2022-08-02T00:00:00\",\"2022-08-03T00:00:00\",\"2022-08-04T00:00:00\",\"2022-08-05T00:00:00\",\"2022-08-06T00:00:00\",\"2022-08-07T00:00:00\",\"2022-08-08T00:00:00\",\"2022-08-09T00:00:00\",\"2022-08-10T00:00:00\",\"2022-08-11T00:00:00\",\"2022-08-12T00:00:00\",\"2022-08-13T00:00:00\",\"2022-08-14T00:00:00\",\"2022-08-15T00:00:00\",\"2022-08-16T00:00:00\",\"2022-08-17T00:00:00\",\"2022-08-18T00:00:00\",\"2022-08-19T00:00:00\",\"2022-08-20T00:00:00\",\"2022-08-21T00:00:00\",\"2022-08-22T00:00:00\",\"2022-08-23T00:00:00\",\"2022-08-24T00:00:00\",\"2022-08-25T00:00:00\",\"2022-08-26T00:00:00\",\"2022-08-27T00:00:00\",\"2022-08-28T00:00:00\",\"2022-08-29T00:00:00\",\"2022-08-30T00:00:00\",\"2022-08-31T00:00:00\",\"2022-09-01T00:00:00\",\"2022-09-02T00:00:00\",\"2022-09-03T00:00:00\",\"2022-09-04T00:00:00\",\"2022-09-05T00:00:00\",\"2022-09-06T00:00:00\",\"2022-09-07T00:00:00\",\"2022-09-08T00:00:00\",\"2022-09-09T00:00:00\",\"2022-09-10T00:00:00\",\"2022-09-11T00:00:00\",\"2022-09-12T00:00:00\",\"2022-09-13T00:00:00\",\"2022-09-14T00:00:00\",\"2022-09-15T00:00:00\",\"2022-09-16T00:00:00\",\"2022-09-17T00:00:00\",\"2022-09-18T00:00:00\",\"2022-09-19T00:00:00\",\"2022-09-20T00:00:00\",\"2022-09-21T00:00:00\",\"2022-09-22T00:00:00\",\"2022-09-23T00:00:00\",\"2022-09-24T00:00:00\",\"2022-09-25T00:00:00\",\"2022-09-26T00:00:00\",\"2022-09-27T00:00:00\",\"2022-09-28T00:00:00\",\"2022-09-29T00:00:00\",\"2022-09-30T00:00:00\",\"2022-10-01T00:00:00\",\"2022-10-02T00:00:00\",\"2022-10-03T00:00:00\",\"2022-10-04T00:00:00\",\"2022-10-05T00:00:00\",\"2022-10-06T00:00:00\",\"2022-10-07T00:00:00\",\"2022-10-08T00:00:00\",\"2022-10-09T00:00:00\",\"2022-10-10T00:00:00\",\"2022-10-11T00:00:00\",\"2022-10-12T00:00:00\",\"2022-10-13T00:00:00\",\"2022-10-14T00:00:00\",\"2022-10-15T00:00:00\",\"2022-10-16T00:00:00\",\"2022-10-17T00:00:00\",\"2022-10-18T00:00:00\",\"2022-10-19T00:00:00\",\"2022-10-20T00:00:00\",\"2022-10-21T00:00:00\",\"2022-10-22T00:00:00\",\"2022-10-23T00:00:00\",\"2022-10-24T00:00:00\",\"2022-10-25T00:00:00\",\"2022-10-26T00:00:00\",\"2022-10-27T00:00:00\",\"2022-10-28T00:00:00\",\"2022-10-29T00:00:00\",\"2022-10-30T00:00:00\",\"2022-10-31T00:00:00\",\"2022-11-01T00:00:00\",\"2022-11-02T00:00:00\",\"2022-11-03T00:00:00\",\"2022-11-04T00:00:00\",\"2022-11-05T00:00:00\",\"2022-11-06T00:00:00\",\"2022-11-07T00:00:00\",\"2022-11-08T00:00:00\",\"2022-11-09T00:00:00\",\"2022-11-10T00:00:00\",\"2022-11-11T00:00:00\",\"2022-11-12T00:00:00\",\"2022-11-13T00:00:00\",\"2022-11-14T00:00:00\",\"2022-11-15T00:00:00\",\"2022-11-16T00:00:00\",\"2022-11-17T00:00:00\",\"2022-11-18T00:00:00\",\"2022-11-19T00:00:00\",\"2022-11-20T00:00:00\",\"2022-11-21T00:00:00\",\"2022-11-22T00:00:00\",\"2022-11-23T00:00:00\",\"2022-11-24T00:00:00\",\"2022-11-25T00:00:00\",\"2022-11-26T00:00:00\",\"2022-11-27T00:00:00\",\"2022-11-28T00:00:00\",\"2022-11-29T00:00:00\",\"2022-11-30T00:00:00\",\"2022-12-01T00:00:00\",\"2022-12-02T00:00:00\",\"2022-12-03T00:00:00\",\"2022-12-04T00:00:00\",\"2022-12-05T00:00:00\",\"2022-12-06T00:00:00\",\"2022-12-07T00:00:00\",\"2022-12-08T00:00:00\",\"2022-12-09T00:00:00\",\"2022-12-10T00:00:00\",\"2022-12-11T00:00:00\",\"2022-12-12T00:00:00\",\"2022-12-13T00:00:00\",\"2022-12-14T00:00:00\",\"2022-12-15T00:00:00\",\"2022-12-16T00:00:00\",\"2022-12-17T00:00:00\",\"2022-12-18T00:00:00\",\"2022-12-19T00:00:00\",\"2022-12-20T00:00:00\",\"2022-12-21T00:00:00\",\"2022-12-22T00:00:00\",\"2022-12-23T00:00:00\",\"2022-12-24T00:00:00\",\"2022-12-25T00:00:00\",\"2022-12-26T00:00:00\",\"2022-12-27T00:00:00\",\"2022-12-28T00:00:00\",\"2022-12-29T00:00:00\",\"2022-12-30T00:00:00\",\"2022-12-31T00:00:00\",\"2023-01-01T00:00:00\",\"2023-01-02T00:00:00\",\"2023-01-03T00:00:00\",\"2023-01-04T00:00:00\",\"2023-01-05T00:00:00\",\"2023-01-06T00:00:00\",\"2023-01-07T00:00:00\",\"2023-01-08T00:00:00\",\"2023-01-09T00:00:00\",\"2023-01-10T00:00:00\",\"2023-01-11T00:00:00\",\"2023-01-12T00:00:00\",\"2023-01-13T00:00:00\",\"2023-01-14T00:00:00\",\"2023-01-15T00:00:00\",\"2023-01-16T00:00:00\",\"2023-01-17T00:00:00\",\"2023-01-18T00:00:00\",\"2023-01-19T00:00:00\",\"2023-01-20T00:00:00\",\"2023-01-21T00:00:00\",\"2023-01-22T00:00:00\",\"2023-01-23T00:00:00\",\"2023-01-24T00:00:00\",\"2023-01-25T00:00:00\",\"2023-01-26T00:00:00\",\"2023-01-27T00:00:00\",\"2023-01-28T00:00:00\",\"2023-01-29T00:00:00\",\"2023-01-30T00:00:00\",\"2023-01-31T00:00:00\",\"2023-02-01T00:00:00\",\"2023-02-02T00:00:00\",\"2023-02-03T00:00:00\",\"2023-02-04T00:00:00\",\"2023-02-05T00:00:00\",\"2023-02-06T00:00:00\",\"2023-02-07T00:00:00\",\"2023-02-08T00:00:00\",\"2023-02-09T00:00:00\",\"2023-02-10T00:00:00\",\"2023-02-11T00:00:00\",\"2023-02-12T00:00:00\",\"2023-02-13T00:00:00\",\"2023-02-14T00:00:00\",\"2023-02-15T00:00:00\",\"2023-02-16T00:00:00\",\"2023-02-17T00:00:00\",\"2023-02-18T00:00:00\",\"2023-02-19T00:00:00\",\"2023-02-20T00:00:00\",\"2023-02-21T00:00:00\",\"2023-02-22T00:00:00\",\"2023-02-23T00:00:00\",\"2023-02-24T00:00:00\",\"2023-02-25T00:00:00\",\"2023-02-26T00:00:00\",\"2023-02-27T00:00:00\",\"2023-02-28T00:00:00\",\"2023-03-01T00:00:00\",\"2023-03-02T00:00:00\",\"2023-03-03T00:00:00\",\"2023-03-04T00:00:00\",\"2023-03-05T00:00:00\",\"2023-03-06T00:00:00\",\"2023-03-07T00:00:00\",\"2023-03-08T00:00:00\",\"2023-03-09T00:00:00\",\"2023-03-10T00:00:00\",\"2023-03-11T00:00:00\",\"2023-03-12T00:00:00\",\"2023-03-13T00:00:00\",\"2023-03-14T00:00:00\",\"2023-03-15T00:00:00\",\"2023-03-16T00:00:00\",\"2023-03-17T00:00:00\",\"2023-03-18T00:00:00\",\"2023-03-19T00:00:00\",\"2023-03-20T00:00:00\",\"2023-03-21T00:00:00\",\"2023-03-22T00:00:00\",\"2023-03-23T00:00:00\",\"2023-03-24T00:00:00\",\"2023-03-25T00:00:00\",\"2023-03-26T00:00:00\",\"2023-03-27T00:00:00\",\"2023-03-28T00:00:00\",\"2023-03-29T00:00:00\",\"2023-03-30T00:00:00\",\"2023-03-31T00:00:00\",\"2023-04-01T00:00:00\",\"2023-04-02T00:00:00\",\"2023-04-03T00:00:00\",\"2023-04-04T00:00:00\",\"2023-04-05T00:00:00\",\"2023-04-06T00:00:00\",\"2023-04-07T00:00:00\",\"2023-04-08T00:00:00\",\"2023-04-09T00:00:00\",\"2023-04-10T00:00:00\",\"2023-04-11T00:00:00\",\"2023-04-12T00:00:00\",\"2023-04-13T00:00:00\",\"2023-04-14T00:00:00\",\"2023-04-15T00:00:00\",\"2023-04-16T00:00:00\",\"2023-04-17T00:00:00\",\"2023-04-18T00:00:00\",\"2023-04-19T00:00:00\",\"2023-04-20T00:00:00\",\"2023-04-21T00:00:00\",\"2023-04-22T00:00:00\",\"2023-04-23T00:00:00\",\"2023-04-24T00:00:00\",\"2023-04-25T00:00:00\",\"2023-04-26T00:00:00\",\"2023-04-27T00:00:00\",\"2023-04-28T00:00:00\",\"2023-04-29T00:00:00\",\"2023-04-30T00:00:00\",\"2023-05-01T00:00:00\",\"2023-05-02T00:00:00\",\"2023-05-03T00:00:00\",\"2023-05-04T00:00:00\",\"2023-05-05T00:00:00\",\"2023-05-06T00:00:00\",\"2023-05-07T00:00:00\",\"2023-05-08T00:00:00\",\"2023-05-09T00:00:00\",\"2023-05-10T00:00:00\",\"2023-05-11T00:00:00\",\"2023-05-12T00:00:00\",\"2023-05-13T00:00:00\",\"2023-05-14T00:00:00\",\"2023-05-15T00:00:00\",\"2023-05-16T00:00:00\",\"2023-05-17T00:00:00\",\"2023-05-18T00:00:00\",\"2023-05-19T00:00:00\",\"2023-05-20T00:00:00\",\"2023-05-21T00:00:00\",\"2023-05-22T00:00:00\",\"2023-05-23T00:00:00\",\"2023-05-24T00:00:00\",\"2023-05-25T00:00:00\",\"2023-05-26T00:00:00\",\"2023-05-27T00:00:00\",\"2023-05-28T00:00:00\",\"2023-05-29T00:00:00\",\"2023-05-30T00:00:00\",\"2023-05-31T00:00:00\",\"2023-06-01T00:00:00\",\"2023-06-02T00:00:00\",\"2023-06-03T00:00:00\",\"2023-06-04T00:00:00\",\"2023-06-05T00:00:00\",\"2023-06-06T00:00:00\",\"2023-06-07T00:00:00\",\"2023-06-08T00:00:00\",\"2023-06-09T00:00:00\",\"2023-06-10T00:00:00\",\"2023-06-11T00:00:00\",\"2023-06-12T00:00:00\",\"2023-06-13T00:00:00\",\"2023-06-14T00:00:00\",\"2023-06-15T00:00:00\",\"2023-06-16T00:00:00\",\"2023-06-17T00:00:00\",\"2023-06-18T00:00:00\",\"2023-06-19T00:00:00\",\"2023-06-20T00:00:00\",\"2023-06-21T00:00:00\",\"2023-06-22T00:00:00\",\"2023-06-23T00:00:00\",\"2023-06-24T00:00:00\",\"2023-06-25T00:00:00\",\"2023-06-26T00:00:00\",\"2023-06-27T00:00:00\",\"2023-06-28T00:00:00\",\"2023-06-29T00:00:00\",\"2023-06-30T00:00:00\",\"2023-07-01T00:00:00\",\"2023-07-02T00:00:00\",\"2023-07-03T00:00:00\",\"2023-07-04T00:00:00\",\"2023-07-05T00:00:00\",\"2023-07-06T00:00:00\",\"2023-07-07T00:00:00\",\"2023-07-08T00:00:00\",\"2023-07-09T00:00:00\",\"2023-07-10T00:00:00\",\"2023-07-11T00:00:00\",\"2023-07-12T00:00:00\",\"2023-07-13T00:00:00\",\"2023-07-14T00:00:00\",\"2023-07-15T00:00:00\",\"2023-07-16T00:00:00\",\"2023-07-17T00:00:00\",\"2023-07-18T00:00:00\",\"2023-07-19T00:00:00\",\"2023-07-20T00:00:00\",\"2023-07-21T00:00:00\",\"2023-07-22T00:00:00\",\"2023-07-23T00:00:00\",\"2023-07-24T00:00:00\",\"2023-07-25T00:00:00\",\"2023-07-26T00:00:00\",\"2023-07-27T00:00:00\",\"2023-07-28T00:00:00\",\"2023-07-29T00:00:00\",\"2023-07-30T00:00:00\",\"2023-07-31T00:00:00\",\"2023-08-01T00:00:00\",\"2023-08-02T00:00:00\",\"2023-08-03T00:00:00\",\"2023-08-04T00:00:00\",\"2023-08-05T00:00:00\",\"2023-08-06T00:00:00\",\"2023-08-07T00:00:00\",\"2023-08-08T00:00:00\",\"2023-08-09T00:00:00\",\"2023-08-10T00:00:00\",\"2023-08-11T00:00:00\",\"2023-08-12T00:00:00\",\"2023-08-13T00:00:00\",\"2023-08-14T00:00:00\",\"2023-08-15T00:00:00\",\"2023-08-16T00:00:00\",\"2023-08-17T00:00:00\",\"2023-08-18T00:00:00\",\"2023-08-19T00:00:00\",\"2023-08-20T00:00:00\",\"2023-08-21T00:00:00\",\"2023-08-22T00:00:00\",\"2023-08-23T00:00:00\",\"2023-08-24T00:00:00\",\"2023-08-25T00:00:00\",\"2023-08-26T00:00:00\",\"2023-08-27T00:00:00\",\"2023-08-28T00:00:00\",\"2023-08-29T00:00:00\",\"2023-08-30T00:00:00\",\"2023-08-31T00:00:00\",\"2023-09-01T00:00:00\",\"2023-09-02T00:00:00\",\"2023-09-03T00:00:00\",\"2023-09-04T00:00:00\",\"2023-09-05T00:00:00\",\"2023-09-06T00:00:00\",\"2023-09-07T00:00:00\",\"2023-09-08T00:00:00\",\"2023-09-09T00:00:00\",\"2023-09-10T00:00:00\",\"2023-09-11T00:00:00\",\"2023-09-12T00:00:00\",\"2023-09-13T00:00:00\",\"2023-09-14T00:00:00\",\"2023-09-15T00:00:00\",\"2023-09-16T00:00:00\",\"2023-09-17T00:00:00\",\"2023-09-18T00:00:00\",\"2023-09-19T00:00:00\",\"2023-09-20T00:00:00\",\"2023-09-21T00:00:00\",\"2023-09-22T00:00:00\",\"2023-09-23T00:00:00\",\"2023-09-24T00:00:00\",\"2023-09-25T00:00:00\",\"2023-09-26T00:00:00\",\"2023-09-27T00:00:00\",\"2023-09-28T00:00:00\",\"2023-09-29T00:00:00\",\"2023-09-30T00:00:00\",\"2023-10-01T00:00:00\",\"2023-10-02T00:00:00\",\"2023-10-03T00:00:00\",\"2023-10-04T00:00:00\",\"2023-10-05T00:00:00\",\"2023-10-06T00:00:00\",\"2023-10-07T00:00:00\",\"2023-10-08T00:00:00\",\"2023-10-09T00:00:00\",\"2023-10-10T00:00:00\",\"2023-10-11T00:00:00\",\"2023-10-12T00:00:00\",\"2023-10-13T00:00:00\",\"2023-10-14T00:00:00\",\"2023-10-15T00:00:00\",\"2023-10-16T00:00:00\",\"2023-10-17T00:00:00\",\"2023-10-18T00:00:00\",\"2023-10-19T00:00:00\",\"2023-10-20T00:00:00\",\"2023-10-21T00:00:00\",\"2023-10-22T00:00:00\",\"2023-10-23T00:00:00\",\"2023-10-24T00:00:00\",\"2023-10-25T00:00:00\",\"2023-10-26T00:00:00\",\"2023-10-27T00:00:00\",\"2023-10-28T00:00:00\",\"2023-10-29T00:00:00\",\"2023-10-30T00:00:00\",\"2023-10-31T00:00:00\",\"2023-11-01T00:00:00\",\"2023-11-02T00:00:00\",\"2023-11-03T00:00:00\",\"2023-11-04T00:00:00\",\"2023-11-05T00:00:00\",\"2023-11-06T00:00:00\",\"2023-11-07T00:00:00\",\"2023-11-08T00:00:00\",\"2023-11-09T00:00:00\",\"2023-11-10T00:00:00\",\"2023-11-11T00:00:00\",\"2023-11-12T00:00:00\",\"2023-11-13T00:00:00\",\"2023-11-14T00:00:00\",\"2023-11-15T00:00:00\",\"2023-11-16T00:00:00\",\"2023-11-17T00:00:00\",\"2023-11-18T00:00:00\",\"2023-11-19T00:00:00\",\"2023-11-20T00:00:00\",\"2023-11-21T00:00:00\",\"2023-11-22T00:00:00\",\"2023-11-23T00:00:00\",\"2023-11-24T00:00:00\",\"2023-11-25T00:00:00\",\"2023-11-26T00:00:00\",\"2023-11-27T00:00:00\",\"2023-11-28T00:00:00\",\"2023-11-29T00:00:00\",\"2023-11-30T00:00:00\",\"2023-12-01T00:00:00\",\"2023-12-02T00:00:00\",\"2023-12-03T00:00:00\",\"2023-12-04T00:00:00\",\"2023-12-05T00:00:00\",\"2023-12-06T00:00:00\",\"2023-12-07T00:00:00\",\"2023-12-08T00:00:00\",\"2023-12-09T00:00:00\",\"2023-12-10T00:00:00\",\"2023-12-11T00:00:00\",\"2023-12-12T00:00:00\",\"2023-12-13T00:00:00\",\"2023-12-14T00:00:00\",\"2023-12-15T00:00:00\",\"2023-12-16T00:00:00\",\"2023-12-17T00:00:00\",\"2023-12-18T00:00:00\",\"2023-12-19T00:00:00\",\"2023-12-20T00:00:00\",\"2023-12-21T00:00:00\",\"2023-12-22T00:00:00\",\"2023-12-23T00:00:00\",\"2023-12-24T00:00:00\",\"2023-12-25T00:00:00\",\"2023-12-26T00:00:00\",\"2023-12-27T00:00:00\",\"2023-12-28T00:00:00\",\"2023-12-29T00:00:00\",\"2023-12-30T00:00:00\",\"2023-12-31T00:00:00\",\"2024-01-01T00:00:00\",\"2024-01-02T00:00:00\",\"2024-01-03T00:00:00\",\"2024-01-04T00:00:00\",\"2024-01-05T00:00:00\",\"2024-01-06T00:00:00\",\"2024-01-07T00:00:00\",\"2024-01-08T00:00:00\",\"2024-01-09T00:00:00\",\"2024-01-10T00:00:00\",\"2024-01-11T00:00:00\",\"2024-01-12T00:00:00\",\"2024-01-13T00:00:00\",\"2024-01-14T00:00:00\",\"2024-01-15T00:00:00\",\"2024-01-16T00:00:00\",\"2024-01-17T00:00:00\",\"2024-01-18T00:00:00\",\"2024-01-19T00:00:00\",\"2024-01-20T00:00:00\",\"2024-01-21T00:00:00\",\"2024-01-22T00:00:00\",\"2024-01-23T00:00:00\",\"2024-01-24T00:00:00\",\"2024-01-25T00:00:00\",\"2024-01-26T00:00:00\",\"2024-01-27T00:00:00\",\"2024-01-28T00:00:00\",\"2024-01-29T00:00:00\",\"2024-01-30T00:00:00\",\"2024-01-31T00:00:00\",\"2024-02-01T00:00:00\",\"2024-02-02T00:00:00\",\"2024-02-03T00:00:00\",\"2024-02-04T00:00:00\",\"2024-02-05T00:00:00\",\"2024-02-06T00:00:00\",\"2024-02-07T00:00:00\",\"2024-02-08T00:00:00\",\"2024-02-09T00:00:00\",\"2024-02-10T00:00:00\",\"2024-02-11T00:00:00\",\"2024-02-12T00:00:00\",\"2024-02-13T00:00:00\",\"2024-02-14T00:00:00\",\"2024-02-15T00:00:00\",\"2024-02-16T00:00:00\",\"2024-02-17T00:00:00\",\"2024-02-18T00:00:00\",\"2024-02-19T00:00:00\",\"2024-02-20T00:00:00\",\"2024-02-21T00:00:00\",\"2024-02-22T00:00:00\",\"2024-02-23T00:00:00\",\"2024-02-24T00:00:00\",\"2024-02-25T00:00:00\",\"2024-02-26T00:00:00\",\"2024-02-27T00:00:00\",\"2024-02-28T00:00:00\",\"2024-02-29T00:00:00\",\"2024-03-01T00:00:00\",\"2024-03-02T00:00:00\",\"2024-03-03T00:00:00\",\"2024-03-04T00:00:00\",\"2024-03-05T00:00:00\",\"2024-03-06T00:00:00\",\"2024-03-07T00:00:00\",\"2024-03-08T00:00:00\",\"2024-03-09T00:00:00\",\"2024-03-10T00:00:00\",\"2024-03-11T00:00:00\",\"2024-03-12T00:00:00\",\"2024-03-13T00:00:00\",\"2024-03-14T00:00:00\",\"2024-03-15T00:00:00\",\"2024-03-16T00:00:00\",\"2024-03-17T00:00:00\",\"2024-03-18T00:00:00\",\"2024-03-19T00:00:00\",\"2024-03-20T00:00:00\",\"2024-03-21T00:00:00\",\"2024-03-22T00:00:00\",\"2024-03-23T00:00:00\",\"2024-03-24T00:00:00\",\"2024-03-25T00:00:00\",\"2024-03-26T00:00:00\",\"2024-03-27T00:00:00\",\"2024-03-28T00:00:00\",\"2024-03-29T00:00:00\",\"2024-03-30T00:00:00\",\"2024-03-31T00:00:00\",\"2024-04-01T00:00:00\",\"2024-04-02T00:00:00\",\"2024-04-03T00:00:00\",\"2024-04-04T00:00:00\",\"2024-04-05T00:00:00\",\"2024-04-06T00:00:00\",\"2024-04-07T00:00:00\",\"2024-04-08T00:00:00\",\"2024-04-09T00:00:00\",\"2024-04-10T00:00:00\",\"2024-04-11T00:00:00\",\"2024-04-12T00:00:00\",\"2024-04-13T00:00:00\",\"2024-04-14T00:00:00\",\"2024-04-15T00:00:00\",\"2024-04-16T00:00:00\",\"2024-04-17T00:00:00\",\"2024-04-18T00:00:00\",\"2024-04-19T00:00:00\",\"2024-04-20T00:00:00\",\"2024-04-21T00:00:00\",\"2024-04-22T00:00:00\",\"2024-04-23T00:00:00\",\"2024-04-24T00:00:00\",\"2024-04-25T00:00:00\",\"2024-04-26T00:00:00\",\"2024-04-27T00:00:00\",\"2024-04-28T00:00:00\",\"2024-04-29T00:00:00\",\"2024-04-30T00:00:00\",\"2024-05-01T00:00:00\",\"2024-05-02T00:00:00\",\"2024-05-03T00:00:00\",\"2024-05-04T00:00:00\",\"2024-05-05T00:00:00\",\"2024-05-06T00:00:00\",\"2024-05-07T00:00:00\",\"2024-05-08T00:00:00\",\"2024-05-09T00:00:00\",\"2024-05-10T00:00:00\",\"2024-05-11T00:00:00\",\"2024-05-12T00:00:00\",\"2024-05-13T00:00:00\",\"2024-05-14T00:00:00\",\"2024-05-15T00:00:00\",\"2024-05-16T00:00:00\",\"2024-05-17T00:00:00\",\"2024-05-18T00:00:00\"],\"y\":[51,37,46,36,40,44,46,50,30,28,43,47,55,53,45,39,46,49,44,47,68,36,43,47,47,61,41,46,39,45,40,45,59,43,32,44,45,46,46,47,40,52,45,30,36,43,51,47,36,55,48,55,50,50,47,61,49,40,52,47,49,41,40,46,41,43,45,60,25,48,42,56,44,43,37,46,44,51,51,55,51,54,47,46,36,41,50,44,58,59,50,41,51,59,44,36,57,47,42,39,41,53,47,47,49,43,41,45,36,39,39,39,52,42,37,46,57,43,51,39,38,36,45,39,47,46,47,47,35,47,36,38,41,48,43,36,36,54,45,56,47,35,56,48,46,45,46,39,52,48,50,44,46,44,61,55,39,39,39,39,51,33,38,51,54,49,46,55,33,47,57,54,61,52,56,55,58,35,34,41,46,55,48,49,44,43,33,39,58,50,54,36,45,48,42,48,36,50,53,51,38,44,31,60,44,60,43,30,44,60,41,41,34,42,31,50,45,37,50,40,48,51,48,48,41,61,38,47,63,53,42,61,42,38,43,56,51,38,43,38,56,49,41,39,57,51,49,52,37,38,59,47,53,39,43,46,38,44,40,43,42,55,40,48,39,61,43,48,39,43,41,50,52,41,58,47,57,46,47,45,44,56,48,37,39,36,42,52,38,63,46,38,49,40,47,58,40,41,44,52,36,52,38,39,42,42,56,48,43,55,50,50,46,49,54,57,36,33,57,39,50,43,51,44,56,45,37,48,32,51,45,34,40,38,50,43,38,36,50,44,47,29,49,48,41,64,44,44,40,40,34,42,53,39,57,33,39,54,47,41,48,54,43,40,41,50,32,46,39,55,38,46,50,56,35,46,38,48,55,49,48,45,44,47,42,47,54,38,46,47,45,50,39,46,45,44,42,48,36,48,45,42,51,56,50,38,44,43,49,46,44,50,41,53,60,42,42,46,53,50,39,42,48,53,45,55,35,53,43,49,44,47,37,56,43,46,41,36,49,51,39,48,45,46,53,37,38,43,50,44,32,37,43,43,61,60,52,43,40,44,51,33,55,62,30,42,53,63,55,39,56,53,37,50,57,56,37,47,44,44,41,45,40,65,51,44,39,39,50,52,58,39,38,40,41,42,46,59,39,52,43,53,36,48,43,37,52,35,50,43,49,52,36,51,58,36,47,49,42,47,42,41,37,48,35,47,51,36,53,43,44,37,51,49,34,40,46,51,41,37,49,44,44,42,53,47,53,43,54,46,48,48,39,40,41,45,59,36,41,53,53,48,56,49,33,50,38,40,51,48,42,48,45,43,64,56,47,53,41,42,48,46,55,46,55,58,45,38,49,47,41,34,35,44,43,39,52,50,69,38,42,42,56,47,39,45,55,32,36,48,50,39,50,40,35,38,49,42,54,27,43,45,51,43,41,43,49,40,39,39,38,58,61,47,48,49,52,47,54,37,46,59,41,48,53,43,60,50,48,44,46,42,61,41,45,53,55,45,43,45,49,44,46,49,49,54,52,57,52,40,39,44,52,48,51,46,57,32,37,39,32,47,49,42,46,53,57,55,48,48,39,34,67,53,38,42,37,50,51,58,57,54,37,44,41,46,29,46,53,39,41,43,44,45,40,46,45,43,37,35,41,41,44,33,39,44,36,55,42,43,39,39,50,36,63,49,48,36,44,45,48,45,47,41,38,39,52,57,42,47,52,65,44,44,33,42,55,65,49,48,51,51,59,32,44,52,57,53,38,46,46,37,55,47,52,34,42,43,42,39,43,40,49,48,45,49,41,44,43,37,51,60,49,49,60,59,49,40,59,45,47,39,42,47,60,43,46,45,36,47,38,47,51,43,55,50,44,45,42,52,55,48,49,53,62,44,53,47,43,51,54,53,48,63,34,47,53,59,42,35,49,56,44,58,44,38,50,57,46,40,59,39,42,58,43,35,41,42,54,51,47,43,59,34,37,41,71,39,38,48,51,45,32,48,50,40,46,55,47,39,49,43,55,36,49,46,48,41,51,41,40,40,40,49,42,37,50,55,53,42,52,53,46,32,44,43,36,53,54,48,49,45,48,43,56,44,41,42,38,52,37,48,38,33,46,41,43,45,60,58,38,52,51,48,50,45,38,59,49,52,40,50,50,50,39,42,46,42,46,47,50,38,44,40,51,50,35,56,41,47,52,54,43,56,38,48,28,39,43,45,48,39,51,47,37,41,53,41,47,52,55,63,48,34,33,36,35,39,51,53,33,34,61,43,48,37,44,38,41,39,46,48,36,35,52,33,42,43,54,47,50,44,46,47,52,45,48,38,59,59,51,61,40,41,39,39,50,43,44,33,41,42,53,51,34,40,45,51,40,45,46,45,41,56,49,31,40,48,50,33,45,29,37,45,36,50,39,39,37,42,40,43,39,43,48,52,58,47,47,48,49,45,31,44,44,43,49,52,54,50,30,39,35,55,48,44,45,54,34,49,51,51,39,39,40,39,38,44,45,49,48,48,44,44,50,38,50,44,51,38,50,40,46,38,50,51,40,57,47,39,29,39,47,54,55,49,44,49,45,55,39,61,49,47,42,44,44,35,41,50,41,44,31,42,49,43,53,53,52,58,51,49,40,46,54,42,63,38,44,48,49,41,43,53,50,40,40,46,43,57,53,42,51,45,44,45,47,50,50,48,44,45,42,39,51,60,48,41,49,42,42,37,37,39,39,59,52,40,47,40,55,44,50,42,49,45,52,47,47,42,57,48,43,48,36,55,61,46,58,52,52,40,49,45,43,43,36,44,47,41,49,57,32,43,40,47,40,38,63,46,40,31,48,35,58,51,64,52,58,43,48,45,59,49,50,43,31,56,45,37,41,46,41,44,34,55,47,57,52,50,43,44,39,47,60,40,51,45,45,58,41,44,33,39,38,54,37,45,54,49,60,53,40,51,48,36,38,41,65,43,55,44,58,52,61,46,35,54,43,44,39,50,52,42,50,31,40,39,51,46,35,55,43,46,49,47,53,42,48,43,31,50,38,49,45,51,49,43,44,56,58,39,51,43,49,55,59,50,42,67,48,46,42,45,49,39,52,38,35,45,52,36,55,38,45,53,44,56,43,53,51,48,41,48,39,48,41,43,41,48,51,45,51,42,39,54,45,33,47,65,47,34,44,52,56,43,57,47,37,39,50,53,51,50,43,59,42,53,34,34,37,49,55,36,39,47,45,43,50,28,50,44,49,58,50,41,47,42,34,49,52,49,39,57,44,43,39,56,65,46,51,43,42,39,45,59,35,53,50,54,40,43,51,46,36,32,46,57,44,48,48,52,35,42,52,39,36,54,55,44,41,48,45,51,33,46,40,50,36,46,34,42,39,43,41,56,49,48,47,52,52,39,47,50,52,47,48,39,58,55,44,45,41,42,47,53,37,47,62,41,43,51,44,50,44,51,43,56,44,48,38,53,49,51,37,56,43,50,48,38,52,47,49,35,33,36,49,42,41,54,44,50,55,45,57,51,38,35,38,40,59,47,58,34,37,47,44,56,31,44,55,46,53,50,44,42,48,56,50,46,33,33,52,36,44,41,36,39,35,56,34,45,44,42,41,51,62,43,45,40,52,48,58,37,55,53,31,38,41,36],\"type\":\"scatter\"},{\"line\":{\"color\":\"#10b981\",\"dash\":\"solid\",\"width\":3},\"mode\":\"lines\",\"name\":\"Forecast (yhat)\",\"x\":[\"2020-01-01T00:00:00\",\"2020-01-02T00:00:00\",\"2020-01-03T00:00:00\",\"2020-01-04T00:00:00\",\"2020-01-05T00:00:00\",\"2020-01-06T00:00:00\",\"2020-01-07T00:00:00\",\"2020-01-08T00:00:00\",\"2020-01-09T00:00:00\",\"2020-01-10T00:00:00\",\"2020-01-11T00:00:00\",\"2020-01-12T00:00:00\",\"2020-01-13T00:00:00\",\"2020-01-14T00:00:00\",\"2020-01-15T00:00:00\",\"2020-01-16T00:00:00\",\"2020-01-17T00:00:00\",\"2020-01-18T00:00:00\",\"2020-01-19T00:00:00\",\"2020-01-20T00:00:00\",\"2020-01-21T00:00:00\",\"2020-01-22T00:00:00\",\"2020-01-23T00:00:00\",\"2020-01-24T00:00:00\",\"2020-01-25T00:00:00\",\"2020-01-26T00:00:00\",\"2020-01-27T00:00:00\",\"2020-01-28T00:00:00\",\"2020-01-29T00:00:00\",\"2020-01-30T00:00:00\",\"2020-01-31T00:00:00\",\"2020-02-01T00:00:00\",\"2020-02-02T00:00:00\",\"2020-02-03T00:00:00\",\"2020-02-04T00:00:00\",\"2020-02-05T00:00:00\",\"2020-02-06T00:00:00\",\"2020-02-07T00:00:00\",\"2020-02-08T00:00:00\",\"2020-02-09T00:00:00\",\"2020-02-10T00:00:00\",\"2020-02-11T00:00:00\",\"2020-02-12T00:00:00\",\"2020-02-13T00:00:00\",\"2020-02-14T00:00:00\",\"2020-02-15T00:00:00\",\"2020-02-16T00:00:00\",\"2020-02-17T00:00:00\",\"2020-02-18T00:00:00\",\"2020-02-19T00:00:00\",\"2020-02-20T00:00:00\",\"2020-02-21T00:00:00\",\"2020-02-22T00:00:00\",\"2020-02-23T00:00:00\",\"2020-02-24T00:00:00\",\"2020-02-25T00:00:00\",\"2020-02-26T00:00:00\",\"2020-02-27T00:00:00\",\"2020-02-28T00:00:00\",\"2020-02-29T00:00:00\",\"2020-03-01T00:00:00\",\"2020-03-02T00:00:00\",\"2020-03-03T00:00:00\",\"2020-03-04T00:00:00\",\"2020-03-05T00:00:00\",\"2020-03-06T00:00:00\",\"2020-03-07T00:00:00\",\"2020-03-08T00:00:00\",\"2020-03-09T00:00:00\",\"2020-03-10T00:00:00\",\"2020-03-11T00:00:00\",\"2020-03-12T00:00:00\",\"2020-03-13T00:00:00\",\"2020-03-14T00:00:00\",\"2020-03-15T00:00:00\",\"2020-03-16T00:00:00\",\"2020-03-17T00:00:00\",\"2020-03-18T00:00:00\",\"2020-03-19T00:00:00\",\"2020-03-20T00:00:00\",\"2020-03-21T00:00:00\",\"2020-03-22T00:00:00\",\"2020-03-23T00:00:00\",\"2020-03-24T00:00:00\",\"2020-03-25T00:00:00\",\"2020-03-26T00:00:00\",\"2020-03-27T00:00:00\",\"2020-03-28T00:00:00\",\"2020-03-29T00:00:00\",\"2020-03-30T00:00:00\",\"2020-03-31T00:00:00\",\"2020-04-01T00:00:00\",\"2020-04-02T00:00:00\",\"2020-04-03T00:00:00\",\"2020-04-04T00:00:00\",\"2020-04-05T00:00:00\",\"2020-04-06T00:00:00\",\"2020-04-07T00:00:00\",\"2020-04-08T00:00:00\",\"2020-04-09T00:00:00\",\"2020-04-10T00:00:00\",\"2020-04-11T00:00:00\",\"2020-04-12T00:00:00\",\"2020-04-13T00:00:00\",\"2020-04-14T00:00:00\",\"2020-04-15T00:00:00\",\"2020-04-16T00:00:00\",\"2020-04-17T00:00:00\",\"2020-04-18T00:00:00\",\"2020-04-19T00:00:00\",\"2020-04-20T00:00:00\",\"2020-04-21T00:00:00\",\"2020-04-22T00:00:00\",\"2020-04-23T00:00:00\",\"2020-04-24T00:00:00\",\"2020-04-25T00:00:00\",\"2020-04-26T00:00:00\",\"2020-04-27T00:00:00\",\"2020-04-28T00:00:00\",\"2020-04-29T00:00:00\",\"2020-04-30T00:00:00\",\"2020-05-01T00:00:00\",\"2020-05-02T00:00:00\",\"2020-05-03T00:00:00\",\"2020-05-04T00:00:00\",\"2020-05-05T00:00:00\",\"2020-05-06T00:00:00\",\"2020-05-07T00:00:00\",\"2020-05-08T00:00:00\",\"2020-05-09T00:00:00\",\"2020-05-10T00:00:00\",\"2020-05-11T00:00:00\",\"2020-05-12T00:00:00\",\"2020-05-13T00:00:00\",\"2020-05-14T00:00:00\",\"2020-05-15T00:00:00\",\"2020-05-16T00:00:00\",\"2020-05-17T00:00:00\",\"2020-05-18T00:00:00\",\"2020-05-19T00:00:00\",\"2020-05-20T00:00:00\",\"2020-05-21T00:00:00\",\"2020-05-22T00:00:00\",\"2020-05-23T00:00:00\",\"2020-05-24T00:00:00\",\"2020-05-25T00:00:00\",\"2020-05-26T00:00:00\",\"2020-05-27T00:00:00\",\"2020-05-28T00:00:00\",\"2020-05-29T00:00:00\",\"2020-05-30T00:00:00\",\"2020-05-31T00:00:00\",\"2020-06-01T00:00:00\",\"2020-06-02T00:00:00\",\"2020-06-03T00:00:00\",\"2020-06-04T00:00:00\",\"2020-06-05T00:00:00\",\"2020-06-06T00:00:00\",\"2020-06-07T00:00:00\",\"2020-06-08T00:00:00\",\"2020-06-09T00:00:00\",\"2020-06-10T00:00:00\",\"2020-06-11T00:00:00\",\"2020-06-12T00:00:00\",\"2020-06-13T00:00:00\",\"2020-06-14T00:00:00\",\"2020-06-15T00:00:00\",\"2020-06-16T00:00:00\",\"2020-06-17T00:00:00\",\"2020-06-18T00:00:00\",\"2020-06-19T00:00:00\",\"2020-06-20T00:00:00\",\"2020-06-21T00:00:00\",\"2020-06-22T00:00:00\",\"2020-06-23T00:00:00\",\"2020-06-24T00:00:00\",\"2020-06-25T00:00:00\",\"2020-06-26T00:00:00\",\"2020-06-27T00:00:00\",\"2020-06-28T00:00:00\",\"2020-06-29T00:00:00\",\"2020-06-30T00:00:00\",\"2020-07-01T00:00:00\",\"2020-07-02T00:00:00\",\"2020-07-03T00:00:00\",\"2020-07-04T00:00:00\",\"2020-07-05T00:00:00\",\"2020-07-06T00:00:00\",\"2020-07-07T00:00:00\",\"2020-07-08T00:00:00\",\"2020-07-09T00:00:00\",\"2020-07-10T00:00:00\",\"2020-07-11T00:00:00\",\"2020-07-12T00:00:00\",\"2020-07-13T00:00:00\",\"2020-07-14T00:00:00\",\"2020-07-15T00:00:00\",\"2020-07-16T00:00:00\",\"2020-07-17T00:00:00\",\"2020-07-18T00:00:00\",\"2020-07-19T00:00:00\",\"2020-07-20T00:00:00\",\"2020-07-21T00:00:00\",\"2020-07-22T00:00:00\",\"2020-07-23T00:00:00\",\"2020-07-24T00:00:00\",\"2020-07-25T00:00:00\",\"2020-07-26T00:00:00\",\"2020-07-27T00:00:00\",\"2020-07-28T00:00:00\",\"2020-07-29T00:00:00\",\"2020-07-30T00:00:00\",\"2020-07-31T00:00:00\",\"2020-08-01T00:00:00\",\"2020-08-02T00:00:00\",\"2020-08-03T00:00:00\",\"2020-08-04T00:00:00\",\"2020-08-05T00:00:00\",\"2020-08-06T00:00:00\",\"2020-08-07T00:00:00\",\"2020-08-08T00:00:00\",\"2020-08-09T00:00:00\",\"2020-08-10T00:00:00\",\"2020-08-11T00:00:00\",\"2020-08-12T00:00:00\",\"2020-08-13T00:00:00\",\"2020-08-14T00:00:00\",\"2020-08-15T00:00:00\",\"2020-08-16T00:00:00\",\"2020-08-17T00:00:00\",\"2020-08-18T00:00:00\",\"2020-08-19T00:00:00\",\"2020-08-20T00:00:00\",\"2020-08-21T00:00:00\",\"2020-08-22T00:00:00\",\"2020-08-23T00:00:00\",\"2020-08-24T00:00:00\",\"2020-08-25T00:00:00\",\"2020-08-26T00:00:00\",\"2020-08-27T00:00:00\",\"2020-08-28T00:00:00\",\"2020-08-29T00:00:00\",\"2020-08-30T00:00:00\",\"2020-08-31T00:00:00\",\"2020-09-01T00:00:00\",\"2020-09-02T00:00:00\",\"2020-09-03T00:00:00\",\"2020-09-04T00:00:00\",\"2020-09-05T00:00:00\",\"2020-09-06T00:00:00\",\"2020-09-07T00:00:00\",\"2020-09-08T00:00:00\",\"2020-09-09T00:00:00\",\"2020-09-10T00:00:00\",\"2020-09-11T00:00:00\",\"2020-09-12T00:00:00\",\"2020-09-13T00:00:00\",\"2020-09-14T00:00:00\",\"2020-09-15T00:00:00\",\"2020-09-16T00:00:00\",\"2020-09-17T00:00:00\",\"2020-09-18T00:00:00\",\"2020-09-19T00:00:00\",\"2020-09-20T00:00:00\",\"2020-09-21T00:00:00\",\"2020-09-22T00:00:00\",\"2020-09-23T00:00:00\",\"2020-09-24T00:00:00\",\"2020-09-25T00:00:00\",\"2020-09-26T00:00:00\",\"2020-09-27T00:00:00\",\"2020-09-28T00:00:00\",\"2020-09-29T00:00:00\",\"2020-09-30T00:00:00\",\"2020-10-01T00:00:00\",\"2020-10-02T00:00:00\",\"2020-10-03T00:00:00\",\"2020-10-04T00:00:00\",\"2020-10-05T00:00:00\",\"2020-10-06T00:00:00\",\"2020-10-07T00:00:00\",\"2020-10-08T00:00:00\",\"2020-10-09T00:00:00\",\"2020-10-10T00:00:00\",\"2020-10-11T00:00:00\",\"2020-10-12T00:00:00\",\"2020-10-13T00:00:00\",\"2020-10-14T00:00:00\",\"2020-10-15T00:00:00\",\"2020-10-16T00:00:00\",\"2020-10-17T00:00:00\",\"2020-10-18T00:00:00\",\"2020-10-19T00:00:00\",\"2020-10-20T00:00:00\",\"2020-10-21T00:00:00\",\"2020-10-22T00:00:00\",\"2020-10-23T00:00:00\",\"2020-10-24T00:00:00\",\"2020-10-25T00:00:00\",\"2020-10-26T00:00:00\",\"2020-10-27T00:00:00\",\"2020-10-28T00:00:00\",\"2020-10-29T00:00:00\",\"2020-10-30T00:00:00\",\"2020-10-31T00:00:00\",\"2020-11-01T00:00:00\",\"2020-11-02T00:00:00\",\"2020-11-03T00:00:00\",\"2020-11-04T00:00:00\",\"2020-11-05T00:00:00\",\"2020-11-06T00:00:00\",\"2020-11-07T00:00:00\",\"2020-11-08T00:00:00\",\"2020-11-09T00:00:00\",\"2020-11-10T00:00:00\",\"2020-11-11T00:00:00\",\"2020-11-12T00:00:00\",\"2020-11-13T00:00:00\",\"2020-11-14T00:00:00\",\"2020-11-15T00:00:00\",\"2020-11-16T00:00:00\",\"2020-11-17T00:00:00\",\"2020-11-18T00:00:00\",\"2020-11-19T00:00:00\",\"2020-11-20T00:00:00\",\"2020-11-21T00:00:00\",\"2020-11-22T00:00:00\",\"2020-11-23T00:00:00\",\"2020-11-24T00:00:00\",\"2020-11-25T00:00:00\",\"2020-11-26T00:00:00\",\"2020-11-27T00:00:00\",\"2020-11-28T00:00:00\",\"2020-11-29T00:00:00\",\"2020-11-30T00:00:00\",\"2020-12-01T00:00:00\",\"2020-12-02T00:00:00\",\"2020-12-03T00:00:00\",\"2020-12-04T00:00:00\",\"2020-12-05T00:00:00\",\"2020-12-06T00:00:00\",\"2020-12-07T00:00:00\",\"2020-12-08T00:00:00\",\"2020-12-09T00:00:00\",\"2020-12-10T00:00:00\",\"2020-12-11T00:00:00\",\"2020-12-12T00:00:00\",\"2020-12-13T00:00:00\",\"2020-12-14T00:00:00\",\"2020-12-15T00:00:00\",\"2020-12-16T00:00:00\",\"2020-12-17T00:00:00\",\"2020-12-18T00:00:00\",\"2020-12-19T00:00:00\",\"2020-12-20T00:00:00\",\"2020-12-21T00:00:00\",\"2020-12-22T00:00:00\",\"2020-12-23T00:00:00\",\"2020-12-24T00:00:00\",\"2020-12-25T00:00:00\",\"2020-12-26T00:00:00\",\"2020-12-27T00:00:00\",\"2020-12-28T00:00:00\",\"2020-12-29T00:00:00\",\"2020-12-30T00:00:00\",\"2020-12-31T00:00:00\",\"2021-01-01T00:00:00\",\"2021-01-02T00:00:00\",\"2021-01-03T00:00:00\",\"2021-01-04T00:00:00\",\"2021-01-05T00:00:00\",\"2021-01-06T00:00:00\",\"2021-01-07T00:00:00\",\"2021-01-08T00:00:00\",\"2021-01-09T00:00:00\",\"2021-01-10T00:00:00\",\"2021-01-11T00:00:00\",\"2021-01-12T00:00:00\",\"2021-01-13T00:00:00\",\"2021-01-14T00:00:00\",\"2021-01-15T00:00:00\",\"2021-01-16T00:00:00\",\"2021-01-17T00:00:00\",\"2021-01-18T00:00:00\",\"2021-01-19T00:00:00\",\"2021-01-20T00:00:00\",\"2021-01-21T00:00:00\",\"2021-01-22T00:00:00\",\"2021-01-23T00:00:00\",\"2021-01-24T00:00:00\",\"2021-01-25T00:00:00\",\"2021-01-26T00:00:00\",\"2021-01-27T00:00:00\",\"2021-01-28T00:00:00\",\"2021-01-29T00:00:00\",\"2021-01-30T00:00:00\",\"2021-01-31T00:00:00\",\"2021-02-01T00:00:00\",\"2021-02-02T00:00:00\",\"2021-02-03T00:00:00\",\"2021-02-04T00:00:00\",\"2021-02-05T00:00:00\",\"2021-02-06T00:00:00\",\"2021-02-07T00:00:00\",\"2021-02-08T00:00:00\",\"2021-02-09T00:00:00\",\"2021-02-10T00:00:00\",\"2021-02-11T00:00:00\",\"2021-02-12T00:00:00\",\"2021-02-13T00:00:00\",\"2021-02-14T00:00:00\",\"2021-02-15T00:00:00\",\"2021-02-16T00:00:00\",\"2021-02-17T00:00:00\",\"2021-02-18T00:00:00\",\"2021-02-19T00:00:00\",\"2021-02-20T00:00:00\",\"2021-02-21T00:00:00\",\"2021-02-22T00:00:00\",\"2021-02-23T00:00:00\",\"2021-02-24T00:00:00\",\"2021-02-25T00:00:00\",\"2021-02-26T00:00:00\",\"2021-02-27T00:00:00\",\"2021-02-28T00:00:00\",\"2021-03-01T00:00:00\",\"2021-03-02T00:00:00\",\"2021-03-03T00:00:00\",\"2021-03-04T00:00:00\",\"2021-03-05T00:00:00\",\"2021-03-06T00:00:00\",\"2021-03-07T00:00:00\",\"2021-03-08T00:00:00\",\"2021-03-09T00:00:00\",\"2021-03-10T00:00:00\",\"2021-03-11T00:00:00\",\"2021-03-12T00:00:00\",\"2021-03-13T00:00:00\",\"2021-03-14T00:00:00\",\"2021-03-15T00:00:00\",\"2021-03-16T00:00:00\",\"2021-03-17T00:00:00\",\"2021-03-18T00:00:00\",\"2021-03-19T00:00:00\",\"2021-03-20T00:00:00\",\"2021-03-21T00:00:00\",\"2021-03-22T00:00:00\",\"2021-03-23T00:00:00\",\"2021-03-24T00:00:00\",\"2021-03-25T00:00:00\",\"2021-03-26T00:00:00\",\"2021-03-27T00:00:00\",\"2021-03-28T00:00:00\",\"2021-03-29T00:00:00\",\"2021-03-30T00:00:00\",\"2021-03-31T00:00:00\",\"2021-04-01T00:00:00\",\"2021-04-02T00:00:00\",\"2021-04-03T00:00:00\",\"2021-04-04T00:00:00\",\"2021-04-05T00:00:00\",\"2021-04-06T00:00:00\",\"2021-04-07T00:00:00\",\"2021-04-08T00:00:00\",\"2021-04-09T00:00:00\",\"2021-04-10T00:00:00\",\"2021-04-11T00:00:00\",\"2021-04-12T00:00:00\",\"2021-04-13T00:00:00\",\"2021-04-14T00:00:00\",\"2021-04-15T00:00:00\",\"2021-04-16T00:00:00\",\"2021-04-17T00:00:00\",\"2021-04-18T00:00:00\",\"2021-04-19T00:00:00\",\"2021-04-20T00:00:00\",\"2021-04-21T00:00:00\",\"2021-04-22T00:00:00\",\"2021-04-23T00:00:00\",\"2021-04-24T00:00:00\",\"2021-04-25T00:00:00\",\"2021-04-26T00:00:00\",\"2021-04-27T00:00:00\",\"2021-04-28T00:00:00\",\"2021-04-29T00:00:00\",\"2021-04-30T00:00:00\",\"2021-05-01T00:00:00\",\"2021-05-02T00:00:00\",\"2021-05-03T00:00:00\",\"2021-05-04T00:00:00\",\"2021-05-05T00:00:00\",\"2021-05-06T00:00:00\",\"2021-05-07T00:00:00\",\"2021-05-08T00:00:00\",\"2021-05-09T00:00:00\",\"2021-05-10T00:00:00\",\"2021-05-11T00:00:00\",\"2021-05-12T00:00:00\",\"2021-05-13T00:00:00\",\"2021-05-14T00:00:00\",\"2021-05-15T00:00:00\",\"2021-05-16T00:00:00\",\"2021-05-17T00:00:00\",\"2021-05-18T00:00:00\",\"2021-05-19T00:00:00\",\"2021-05-20T00:00:00\",\"2021-05-21T00:00:00\",\"2021-05-22T00:00:00\",\"2021-05-23T00:00:00\",\"2021-05-24T00:00:00\",\"2021-05-25T00:00:00\",\"2021-05-26T00:00:00\",\"2021-05-27T00:00:00\",\"2021-05-28T00:00:00\",\"2021-05-29T00:00:00\",\"2021-05-30T00:00:00\",\"2021-05-31T00:00:00\",\"2021-06-01T00:00:00\",\"2021-06-02T00:00:00\",\"2021-06-03T00:00:00\",\"2021-06-04T00:00:00\",\"2021-06-05T00:00:00\",\"2021-06-06T00:00:00\",\"2021-06-07T00:00:00\",\"2021-06-08T00:00:00\",\"2021-06-09T00:00:00\",\"2021-06-10T00:00:00\",\"2021-06-11T00:00:00\",\"2021-06-12T00:00:00\",\"2021-06-13T00:00:00\",\"2021-06-14T00:00:00\",\"2021-06-15T00:00:00\",\"2021-06-16T00:00:00\",\"2021-06-17T00:00:00\",\"2021-06-18T00:00:00\",\"2021-06-19T00:00:00\",\"2021-06-20T00:00:00\",\"2021-06-21T00:00:00\",\"2021-06-22T00:00:00\",\"2021-06-23T00:00:00\",\"2021-06-24T00:00:00\",\"2021-06-25T00:00:00\",\"2021-06-26T00:00:00\",\"2021-06-27T00:00:00\",\"2021-06-28T00:00:00\",\"2021-06-29T00:00:00\",\"2021-06-30T00:00:00\",\"2021-07-01T00:00:00\",\"2021-07-02T00:00:00\",\"2021-07-03T00:00:00\",\"2021-07-04T00:00:00\",\"2021-07-05T00:00:00\",\"2021-07-06T00:00:00\",\"2021-07-07T00:00:00\",\"2021-07-08T00:00:00\",\"2021-07-09T00:00:00\",\"2021-07-10T00:00:00\",\"2021-07-11T00:00:00\",\"2021-07-12T00:00:00\",\"2021-07-13T00:00:00\",\"2021-07-14T00:00:00\",\"2021-07-15T00:00:00\",\"2021-07-16T00:00:00\",\"2021-07-17T00:00:00\",\"2021-07-18T00:00:00\",\"2021-07-19T00:00:00\",\"2021-07-20T00:00:00\",\"2021-07-21T00:00:00\",\"2021-07-22T00:00:00\",\"2021-07-23T00:00:00\",\"2021-07-24T00:00:00\",\"2021-07-25T00:00:00\",\"2021-07-26T00:00:00\",\"2021-07-27T00:00:00\",\"2021-07-28T00:00:00\",\"2021-07-29T00:00:00\",\"2021-07-30T00:00:00\",\"2021-07-31T00:00:00\",\"2021-08-01T00:00:00\",\"2021-08-02T00:00:00\",\"2021-08-03T00:00:00\",\"2021-08-04T00:00:00\",\"2021-08-05T00:00:00\",\"2021-08-06T00:00:00\",\"2021-08-07T00:00:00\",\"2021-08-08T00:00:00\",\"2021-08-09T00:00:00\",\"2021-08-10T00:00:00\",\"2021-08-11T00:00:00\",\"2021-08-12T00:00:00\",\"2021-08-13T00:00:00\",\"2021-08-14T00:00:00\",\"2021-08-15T00:00:00\",\"2021-08-16T00:00:00\",\"2021-08-17T00:00:00\",\"2021-08-18T00:00:00\",\"2021-08-19T00:00:00\",\"2021-08-20T00:00:00\",\"2021-08-21T00:00:00\",\"2021-08-22T00:00:00\",\"2021-08-23T00:00:00\",\"2021-08-24T00:00:00\",\"2021-08-25T00:00:00\",\"2021-08-26T00:00:00\",\"2021-08-27T00:00:00\",\"2021-08-28T00:00:00\",\"2021-08-29T00:00:00\",\"2021-08-30T00:00:00\",\"2021-08-31T00:00:00\",\"2021-09-01T00:00:00\",\"2021-09-02T00:00:00\",\"2021-09-03T00:00:00\",\"2021-09-04T00:00:00\",\"2021-09-05T00:00:00\",\"2021-09-06T00:00:00\",\"2021-09-07T00:00:00\",\"2021-09-08T00:00:00\",\"2021-09-09T00:00:00\",\"2021-09-10T00:00:00\",\"2021-09-11T00:00:00\",\"2021-09-12T00:00:00\",\"2021-09-13T00:00:00\",\"2021-09-14T00:00:00\",\"2021-09-15T00:00:00\",\"2021-09-16T00:00:00\",\"2021-09-17T00:00:00\",\"2021-09-18T00:00:00\",\"2021-09-19T00:00:00\",\"2021-09-20T00:00:00\",\"2021-09-21T00:00:00\",\"2021-09-22T00:00:00\",\"2021-09-23T00:00:00\",\"2021-09-24T00:00:00\",\"2021-09-25T00:00:00\",\"2021-09-26T00:00:00\",\"2021-09-27T00:00:00\",\"2021-09-28T00:00:00\",\"2021-09-29T00:00:00\",\"2021-09-30T00:00:00\",\"2021-10-01T00:00:00\",\"2021-10-02T00:00:00\",\"2021-10-03T00:00:00\",\"2021-10-04T00:00:00\",\"2021-10-05T00:00:00\",\"2021-10-06T00:00:00\",\"2021-10-07T00:00:00\",\"2021-10-08T00:00:00\",\"2021-10-09T00:00:00\",\"2021-10-10T00:00:00\",\"2021-10-11T00:00:00\",\"2021-10-12T00:00:00\",\"2021-10-13T00:00:00\",\"2021-10-14T00:00:00\",\"2021-10-15T00:00:00\",\"2021-10-16T00:00:00\",\"2021-10-17T00:00:00\",\"2021-10-18T00:00:00\",\"2021-10-19T00:00:00\",\"2021-10-20T00:00:00\",\"2021-10-21T00:00:00\",\"2021-10-22T00:00:00\",\"2021-10-23T00:00:00\",\"2021-10-24T00:00:00\",\"2021-10-25T00:00:00\",\"2021-10-26T00:00:00\",\"2021-10-27T00:00:00\",\"2021-10-28T00:00:00\",\"2021-10-29T00:00:00\",\"2021-10-30T00:00:00\",\"2021-10-31T00:00:00\",\"2021-11-01T00:00:00\",\"2021-11-02T00:00:00\",\"2021-11-03T00:00:00\",\"2021-11-04T00:00:00\",\"2021-11-05T00:00:00\",\"2021-11-06T00:00:00\",\"2021-11-07T00:00:00\",\"2021-11-08T00:00:00\",\"2021-11-09T00:00:00\",\"2021-11-10T00:00:00\",\"2021-11-11T00:00:00\",\"2021-11-12T00:00:00\",\"2021-11-13T00:00:00\",\"2021-11-14T00:00:00\",\"2021-11-15T00:00:00\",\"2021-11-16T00:00:00\",\"2021-11-17T00:00:00\",\"2021-11-18T00:00:00\",\"2021-11-19T00:00:00\",\"2021-11-20T00:00:00\",\"2021-11-21T00:00:00\",\"2021-11-22T00:00:00\",\"2021-11-23T00:00:00\",\"2021-11-24T00:00:00\",\"2021-11-25T00:00:00\",\"2021-11-26T00:00:00\",\"2021-11-27T00:00:00\",\"2021-11-28T00:00:00\",\"2021-11-29T00:00:00\",\"2021-11-30T00:00:00\",\"2021-12-01T00:00:00\",\"2021-12-02T00:00:00\",\"2021-12-03T00:00:00\",\"2021-12-04T00:00:00\",\"2021-12-05T00:00:00\",\"2021-12-06T00:00:00\",\"2021-12-07T00:00:00\",\"2021-12-08T00:00:00\",\"2021-12-09T00:00:00\",\"2021-12-10T00:00:00\",\"2021-12-11T00:00:00\",\"2021-12-12T00:00:00\",\"2021-12-13T00:00:00\",\"2021-12-14T00:00:00\",\"2021-12-15T00:00:00\",\"2021-12-16T00:00:00\",\"2021-12-17T00:00:00\",\"2021-12-18T00:00:00\",\"2021-12-19T00:00:00\",\"2021-12-20T00:00:00\",\"2021-12-21T00:00:00\",\"2021-12-22T00:00:00\",\"2021-12-23T00:00:00\",\"2021-12-24T00:00:00\",\"2021-12-25T00:00:00\",\"2021-12-26T00:00:00\",\"2021-12-27T00:00:00\",\"2021-12-28T00:00:00\",\"2021-12-29T00:00:00\",\"2021-12-30T00:00:00\",\"2021-12-31T00:00:00\",\"2022-01-01T00:00:00\",\"2022-01-02T00:00:00\",\"2022-01-03T00:00:00\",\"2022-01-04T00:00:00\",\"2022-01-05T00:00:00\",\"2022-01-06T00:00:00\",\"2022-01-07T00:00:00\",\"2022-01-08T00:00:00\",\"2022-01-09T00:00:00\",\"2022-01-10T00:00:00\",\"2022-01-11T00:00:00\",\"2022-01-12T00:00:00\",\"2022-01-13T00:00:00\",\"2022-01-14T00:00:00\",\"2022-01-15T00:00:00\",\"2022-01-16T00:00:00\",\"2022-01-17T00:00:00\",\"2022-01-18T00:00:00\",\"2022-01-19T00:00:00\",\"2022-01-20T00:00:00\",\"2022-01-21T00:00:00\",\"2022-01-22T00:00:00\",\"2022-01-23T00:00:00\",\"2022-01-24T00:00:00\",\"2022-01-25T00:00:00\",\"2022-01-26T00:00:00\",\"2022-01-27T00:00:00\",\"2022-01-28T00:00:00\",\"2022-01-29T00:00:00\",\"2022-01-30T00:00:00\",\"2022-01-31T00:00:00\",\"2022-02-01T00:00:00\",\"2022-02-02T00:00:00\",\"2022-02-03T00:00:00\",\"2022-02-04T00:00:00\",\"2022-02-05T00:00:00\",\"2022-02-06T00:00:00\",\"2022-02-07T00:00:00\",\"2022-02-08T00:00:00\",\"2022-02-09T00:00:00\",\"2022-02-10T00:00:00\",\"2022-02-11T00:00:00\",\"2022-02-12T00:00:00\",\"2022-02-13T00:00:00\",\"2022-02-14T00:00:00\",\"2022-02-15T00:00:00\",\"2022-02-16T00:00:00\",\"2022-02-17T00:00:00\",\"2022-02-18T00:00:00\",\"2022-02-19T00:00:00\",\"2022-02-20T00:00:00\",\"2022-02-21T00:00:00\",\"2022-02-22T00:00:00\",\"2022-02-23T00:00:00\",\"2022-02-24T00:00:00\",\"2022-02-25T00:00:00\",\"2022-02-26T00:00:00\",\"2022-02-27T00:00:00\",\"2022-02-28T00:00:00\",\"2022-03-01T00:00:00\",\"2022-03-02T00:00:00\",\"2022-03-03T00:00:00\",\"2022-03-04T00:00:00\",\"2022-03-05T00:00:00\",\"2022-03-06T00:00:00\",\"2022-03-07T00:00:00\",\"2022-03-08T00:00:00\",\"2022-03-09T00:00:00\",\"2022-03-10T00:00:00\",\"2022-03-11T00:00:00\",\"2022-03-12T00:00:00\",\"2022-03-13T00:00:00\",\"2022-03-14T00:00:00\",\"2022-03-15T00:00:00\",\"2022-03-16T00:00:00\",\"2022-03-17T00:00:00\",\"2022-03-18T00:00:00\",\"2022-03-19T00:00:00\",\"2022-03-20T00:00:00\",\"2022-03-21T00:00:00\",\"2022-03-22T00:00:00\",\"2022-03-23T00:00:00\",\"2022-03-24T00:00:00\",\"2022-03-25T00:00:00\",\"2022-03-26T00:00:00\",\"2022-03-27T00:00:00\",\"2022-03-28T00:00:00\",\"2022-03-29T00:00:00\",\"2022-03-30T00:00:00\",\"2022-03-31T00:00:00\",\"2022-04-01T00:00:00\",\"2022-04-02T00:00:00\",\"2022-04-03T00:00:00\",\"2022-04-04T00:00:00\",\"2022-04-05T00:00:00\",\"2022-04-06T00:00:00\",\"2022-04-07T00:00:00\",\"2022-04-08T00:00:00\",\"2022-04-09T00:00:00\",\"2022-04-10T00:00:00\",\"2022-04-11T00:00:00\",\"2022-04-12T00:00:00\",\"2022-04-13T00:00:00\",\"2022-04-14T00:00:00\",\"2022-04-15T00:00:00\",\"2022-04-16T00:00:00\",\"2022-04-17T00:00:00\",\"2022-04-18T00:00:00\",\"2022-04-19T00:00:00\",\"2022-04-20T00:00:00\",\"2022-04-21T00:00:00\",\"2022-04-22T00:00:00\",\"2022-04-23T00:00:00\",\"2022-04-24T00:00:00\",\"2022-04-25T00:00:00\",\"2022-04-26T00:00:00\",\"2022-04-27T00:00:00\",\"2022-04-28T00:00:00\",\"2022-04-29T00:00:00\",\"2022-04-30T00:00:00\",\"2022-05-01T00:00:00\",\"2022-05-02T00:00:00\",\"2022-05-03T00:00:00\",\"2022-05-04T00:00:00\",\"2022-05-05T00:00:00\",\"2022-05-06T00:00:00\",\"2022-05-07T00:00:00\",\"2022-05-08T00:00:00\",\"2022-05-09T00:00:00\",\"2022-05-10T00:00:00\",\"2022-05-11T00:00:00\",\"2022-05-12T00:00:00\",\"2022-05-13T00:00:00\",\"2022-05-14T00:00:00\",\"2022-05-15T00:00:00\",\"2022-05-16T00:00:00\",\"2022-05-17T00:00:00\",\"2022-05-18T00:00:00\",\"2022-05-19T00:00:00\",\"2022-05-20T00:00:00\",\"2022-05-21T00:00:00\",\"2022-05-22T00:00:00\",\"2022-05-23T00:00:00\",\"2022-05-24T00:00:00\",\"2022-05-25T00:00:00\",\"2022-05-26T00:00:00\",\"2022-05-27T00:00:00\",\"2022-05-28T00:00:00\",\"2022-05-29T00:00:00\",\"2022-05-30T00:00:00\",\"2022-05-31T00:00:00\",\"2022-06-01T00:00:00\",\"2022-06-02T00:00:00\",\"2022-06-03T00:00:00\",\"2022-06-04T00:00:00\",\"2022-06-05T00:00:00\",\"2022-06-06T00:00:00\",\"2022-06-07T00:00:00\",\"2022-06-08T00:00:00\",\"2022-06-09T00:00:00\",\"2022-06-10T00:00:00\",\"2022-06-11T00:00:00\",\"2022-06-12T00:00:00\",\"2022-06-13T00:00:00\",\"2022-06-14T00:00:00\",\"2022-06-15T00:00:00\",\"2022-06-16T00:00:00\",\"2022-06-17T00:00:00\",\"2022-06-18T00:00:00\",\"2022-06-19T00:00:00\",\"2022-06-20T00:00:00\",\"2022-06-21T00:00:00\",\"2022-06-22T00:00:00\",\"2022-06-23T00:00:00\",\"2022-06-24T00:00:00\",\"2022-06-25T00:00:00\",\"2022-06-26T00:00:00\",\"2022-06-27T00:00:00\",\"2022-06-28T00:00:00\",\"2022-06-29T00:00:00\",\"2022-06-30T00:00:00\",\"2022-07-01T00:00:00\",\"2022-07-02T00:00:00\",\"2022-07-03T00:00:00\",\"2022-07-04T00:00:00\",\"2022-07-05T00:00:00\",\"2022-07-06T00:00:00\",\"2022-07-07T00:00:00\",\"2022-07-08T00:00:00\",\"2022-07-09T00:00:00\",\"2022-07-10T00:00:00\",\"2022-07-11T00:00:00\",\"2022-07-12T00:00:00\",\"2022-07-13T00:00:00\",\"2022-07-14T00:00:00\",\"2022-07-15T00:00:00\",\"2022-07-16T00:00:00\",\"2022-07-17T00:00:00\",\"2022-07-18T00:00:00\",\"2022-07-19T00:00:00\",\"2022-07-20T00:00:00\",\"2022-07-21T00:00:00\",\"2022-07-22T00:00:00\",\"2022-07-23T00:00:00\",\"2022-07-24T00:00:00\",\"2022-07-25T00:00:00\",\"2022-07-26T00:00:00\",\"2022-07-27T00:00:00\",\"2022-07-28T00:00:00\",\"2022-07-29T00:00:00\",\"2022-07-30T00:00:00\",\"2022-07-31T00:00:00\",\"2022-08-01T00:00:00\",\"2022-08-02T00:00:00\",\"2022-08-03T00:00:00\",\"2022-08-04T00:00:00\",\"2022-08-05T00:00:00\",\"2022-08-06T00:00:00\",\"2022-08-07T00:00:00\",\"2022-08-08T00:00:00\",\"2022-08-09T00:00:00\",\"2022-08-10T00:00:00\",\"2022-08-11T00:00:00\",\"2022-08-12T00:00:00\",\"2022-08-13T00:00:00\",\"2022-08-14T00:00:00\",\"2022-08-15T00:00:00\",\"2022-08-16T00:00:00\",\"2022-08-17T00:00:00\",\"2022-08-18T00:00:00\",\"2022-08-19T00:00:00\",\"2022-08-20T00:00:00\",\"2022-08-21T00:00:00\",\"2022-08-22T00:00:00\",\"2022-08-23T00:00:00\",\"2022-08-24T00:00:00\",\"2022-08-25T00:00:00\",\"2022-08-26T00:00:00\",\"2022-08-27T00:00:00\",\"2022-08-28T00:00:00\",\"2022-08-29T00:00:00\",\"2022-08-30T00:00:00\",\"2022-08-31T00:00:00\",\"2022-09-01T00:00:00\",\"2022-09-02T00:00:00\",\"2022-09-03T00:00:00\",\"2022-09-04T00:00:00\",\"2022-09-05T00:00:00\",\"2022-09-06T00:00:00\",\"2022-09-07T00:00:00\",\"2022-09-08T00:00:00\",\"2022-09-09T00:00:00\",\"2022-09-10T00:00:00\",\"2022-09-11T00:00:00\",\"2022-09-12T00:00:00\",\"2022-09-13T00:00:00\",\"2022-09-14T00:00:00\",\"2022-09-15T00:00:00\",\"2022-09-16T00:00:00\",\"2022-09-17T00:00:00\",\"2022-09-18T00:00:00\",\"2022-09-19T00:00:00\",\"2022-09-20T00:00:00\",\"2022-09-21T00:00:00\",\"2022-09-22T00:00:00\",\"2022-09-23T00:00:00\",\"2022-09-24T00:00:00\",\"2022-09-25T00:00:00\",\"2022-09-26T00:00:00\",\"2022-09-27T00:00:00\",\"2022-09-28T00:00:00\",\"2022-09-29T00:00:00\",\"2022-09-30T00:00:00\",\"2022-10-01T00:00:00\",\"2022-10-02T00:00:00\",\"2022-10-03T00:00:00\",\"2022-10-04T00:00:00\",\"2022-10-05T00:00:00\",\"2022-10-06T00:00:00\",\"2022-10-07T00:00:00\",\"2022-10-08T00:00:00\",\"2022-10-09T00:00:00\",\"2022-10-10T00:00:00\",\"2022-10-11T00:00:00\",\"2022-10-12T00:00:00\",\"2022-10-13T00:00:00\",\"2022-10-14T00:00:00\",\"2022-10-15T00:00:00\",\"2022-10-16T00:00:00\",\"2022-10-17T00:00:00\",\"2022-10-18T00:00:00\",\"2022-10-19T00:00:00\",\"2022-10-20T00:00:00\",\"2022-10-21T00:00:00\",\"2022-10-22T00:00:00\",\"2022-10-23T00:00:00\",\"2022-10-24T00:00:00\",\"2022-10-25T00:00:00\",\"2022-10-26T00:00:00\",\"2022-10-27T00:00:00\",\"2022-10-28T00:00:00\",\"2022-10-29T00:00:00\",\"2022-10-30T00:00:00\",\"2022-10-31T00:00:00\",\"2022-11-01T00:00:00\",\"2022-11-02T00:00:00\",\"2022-11-03T00:00:00\",\"2022-11-04T00:00:00\",\"2022-11-05T00:00:00\",\"2022-11-06T00:00:00\",\"2022-11-07T00:00:00\",\"2022-11-08T00:00:00\",\"2022-11-09T00:00:00\",\"2022-11-10T00:00:00\",\"2022-11-11T00:00:00\",\"2022-11-12T00:00:00\",\"2022-11-13T00:00:00\",\"2022-11-14T00:00:00\",\"2022-11-15T00:00:00\",\"2022-11-16T00:00:00\",\"2022-11-17T00:00:00\",\"2022-11-18T00:00:00\",\"2022-11-19T00:00:00\",\"2022-11-20T00:00:00\",\"2022-11-21T00:00:00\",\"2022-11-22T00:00:00\",\"2022-11-23T00:00:00\",\"2022-11-24T00:00:00\",\"2022-11-25T00:00:00\",\"2022-11-26T00:00:00\",\"2022-11-27T00:00:00\",\"2022-11-28T00:00:00\",\"2022-11-29T00:00:00\",\"2022-11-30T00:00:00\",\"2022-12-01T00:00:00\",\"2022-12-02T00:00:00\",\"2022-12-03T00:00:00\",\"2022-12-04T00:00:00\",\"2022-12-05T00:00:00\",\"2022-12-06T00:00:00\",\"2022-12-07T00:00:00\",\"2022-12-08T00:00:00\",\"2022-12-09T00:00:00\",\"2022-12-10T00:00:00\",\"2022-12-11T00:00:00\",\"2022-12-12T00:00:00\",\"2022-12-13T00:00:00\",\"2022-12-14T00:00:00\",\"2022-12-15T00:00:00\",\"2022-12-16T00:00:00\",\"2022-12-17T00:00:00\",\"2022-12-18T00:00:00\",\"2022-12-19T00:00:00\",\"2022-12-20T00:00:00\",\"2022-12-21T00:00:00\",\"2022-12-22T00:00:00\",\"2022-12-23T00:00:00\",\"2022-12-24T00:00:00\",\"2022-12-25T00:00:00\",\"2022-12-26T00:00:00\",\"2022-12-27T00:00:00\",\"2022-12-28T00:00:00\",\"2022-12-29T00:00:00\",\"2022-12-30T00:00:00\",\"2022-12-31T00:00:00\",\"2023-01-01T00:00:00\",\"2023-01-02T00:00:00\",\"2023-01-03T00:00:00\",\"2023-01-04T00:00:00\",\"2023-01-05T00:00:00\",\"2023-01-06T00:00:00\",\"2023-01-07T00:00:00\",\"2023-01-08T00:00:00\",\"2023-01-09T00:00:00\",\"2023-01-10T00:00:00\",\"2023-01-11T00:00:00\",\"2023-01-12T00:00:00\",\"2023-01-13T00:00:00\",\"2023-01-14T00:00:00\",\"2023-01-15T00:00:00\",\"2023-01-16T00:00:00\",\"2023-01-17T00:00:00\",\"2023-01-18T00:00:00\",\"2023-01-19T00:00:00\",\"2023-01-20T00:00:00\",\"2023-01-21T00:00:00\",\"2023-01-22T00:00:00\",\"2023-01-23T00:00:00\",\"2023-01-24T00:00:00\",\"2023-01-25T00:00:00\",\"2023-01-26T00:00:00\",\"2023-01-27T00:00:00\",\"2023-01-28T00:00:00\",\"2023-01-29T00:00:00\",\"2023-01-30T00:00:00\",\"2023-01-31T00:00:00\",\"2023-02-01T00:00:00\",\"2023-02-02T00:00:00\",\"2023-02-03T00:00:00\",\"2023-02-04T00:00:00\",\"2023-02-05T00:00:00\",\"2023-02-06T00:00:00\",\"2023-02-07T00:00:00\",\"2023-02-08T00:00:00\",\"2023-02-09T00:00:00\",\"2023-02-10T00:00:00\",\"2023-02-11T00:00:00\",\"2023-02-12T00:00:00\",\"2023-02-13T00:00:00\",\"2023-02-14T00:00:00\",\"2023-02-15T00:00:00\",\"2023-02-16T00:00:00\",\"2023-02-17T00:00:00\",\"2023-02-18T00:00:00\",\"2023-02-19T00:00:00\",\"2023-02-20T00:00:00\",\"2023-02-21T00:00:00\",\"2023-02-22T00:00:00\",\"2023-02-23T00:00:00\",\"2023-02-24T00:00:00\",\"2023-02-25T00:00:00\",\"2023-02-26T00:00:00\",\"2023-02-27T00:00:00\",\"2023-02-28T00:00:00\",\"2023-03-01T00:00:00\",\"2023-03-02T00:00:00\",\"2023-03-03T00:00:00\",\"2023-03-04T00:00:00\",\"2023-03-05T00:00:00\",\"2023-03-06T00:00:00\",\"2023-03-07T00:00:00\",\"2023-03-08T00:00:00\",\"2023-03-09T00:00:00\",\"2023-03-10T00:00:00\",\"2023-03-11T00:00:00\",\"2023-03-12T00:00:00\",\"2023-03-13T00:00:00\",\"2023-03-14T00:00:00\",\"2023-03-15T00:00:00\",\"2023-03-16T00:00:00\",\"2023-03-17T00:00:00\",\"2023-03-18T00:00:00\",\"2023-03-19T00:00:00\",\"2023-03-20T00:00:00\",\"2023-03-21T00:00:00\",\"2023-03-22T00:00:00\",\"2023-03-23T00:00:00\",\"2023-03-24T00:00:00\",\"2023-03-25T00:00:00\",\"2023-03-26T00:00:00\",\"2023-03-27T00:00:00\",\"2023-03-28T00:00:00\",\"2023-03-29T00:00:00\",\"2023-03-30T00:00:00\",\"2023-03-31T00:00:00\",\"2023-04-01T00:00:00\",\"2023-04-02T00:00:00\",\"2023-04-03T00:00:00\",\"2023-04-04T00:00:00\",\"2023-04-05T00:00:00\",\"2023-04-06T00:00:00\",\"2023-04-07T00:00:00\",\"2023-04-08T00:00:00\",\"2023-04-09T00:00:00\",\"2023-04-10T00:00:00\",\"2023-04-11T00:00:00\",\"2023-04-12T00:00:00\",\"2023-04-13T00:00:00\",\"2023-04-14T00:00:00\",\"2023-04-15T00:00:00\",\"2023-04-16T00:00:00\",\"2023-04-17T00:00:00\",\"2023-04-18T00:00:00\",\"2023-04-19T00:00:00\",\"2023-04-20T00:00:00\",\"2023-04-21T00:00:00\",\"2023-04-22T00:00:00\",\"2023-04-23T00:00:00\",\"2023-04-24T00:00:00\",\"2023-04-25T00:00:00\",\"2023-04-26T00:00:00\",\"2023-04-27T00:00:00\",\"2023-04-28T00:00:00\",\"2023-04-29T00:00:00\",\"2023-04-30T00:00:00\",\"2023-05-01T00:00:00\",\"2023-05-02T00:00:00\",\"2023-05-03T00:00:00\",\"2023-05-04T00:00:00\",\"2023-05-05T00:00:00\",\"2023-05-06T00:00:00\",\"2023-05-07T00:00:00\",\"2023-05-08T00:00:00\",\"2023-05-09T00:00:00\",\"2023-05-10T00:00:00\",\"2023-05-11T00:00:00\",\"2023-05-12T00:00:00\",\"2023-05-13T00:00:00\",\"2023-05-14T00:00:00\",\"2023-05-15T00:00:00\",\"2023-05-16T00:00:00\",\"2023-05-17T00:00:00\",\"2023-05-18T00:00:00\",\"2023-05-19T00:00:00\",\"2023-05-20T00:00:00\",\"2023-05-21T00:00:00\",\"2023-05-22T00:00:00\",\"2023-05-23T00:00:00\",\"2023-05-24T00:00:00\",\"2023-05-25T00:00:00\",\"2023-05-26T00:00:00\",\"2023-05-27T00:00:00\",\"2023-05-28T00:00:00\",\"2023-05-29T00:00:00\",\"2023-05-30T00:00:00\",\"2023-05-31T00:00:00\",\"2023-06-01T00:00:00\",\"2023-06-02T00:00:00\",\"2023-06-03T00:00:00\",\"2023-06-04T00:00:00\",\"2023-06-05T00:00:00\",\"2023-06-06T00:00:00\",\"2023-06-07T00:00:00\",\"2023-06-08T00:00:00\",\"2023-06-09T00:00:00\",\"2023-06-10T00:00:00\",\"2023-06-11T00:00:00\",\"2023-06-12T00:00:00\",\"2023-06-13T00:00:00\",\"2023-06-14T00:00:00\",\"2023-06-15T00:00:00\",\"2023-06-16T00:00:00\",\"2023-06-17T00:00:00\",\"2023-06-18T00:00:00\",\"2023-06-19T00:00:00\",\"2023-06-20T00:00:00\",\"2023-06-21T00:00:00\",\"2023-06-22T00:00:00\",\"2023-06-23T00:00:00\",\"2023-06-24T00:00:00\",\"2023-06-25T00:00:00\",\"2023-06-26T00:00:00\",\"2023-06-27T00:00:00\",\"2023-06-28T00:00:00\",\"2023-06-29T00:00:00\",\"2023-06-30T00:00:00\",\"2023-07-01T00:00:00\",\"2023-07-02T00:00:00\",\"2023-07-03T00:00:00\",\"2023-07-04T00:00:00\",\"2023-07-05T00:00:00\",\"2023-07-06T00:00:00\",\"2023-07-07T00:00:00\",\"2023-07-08T00:00:00\",\"2023-07-09T00:00:00\",\"2023-07-10T00:00:00\",\"2023-07-11T00:00:00\",\"2023-07-12T00:00:00\",\"2023-07-13T00:00:00\",\"2023-07-14T00:00:00\",\"2023-07-15T00:00:00\",\"2023-07-16T00:00:00\",\"2023-07-17T00:00:00\",\"2023-07-18T00:00:00\",\"2023-07-19T00:00:00\",\"2023-07-20T00:00:00\",\"2023-07-21T00:00:00\",\"2023-07-22T00:00:00\",\"2023-07-23T00:00:00\",\"2023-07-24T00:00:00\",\"2023-07-25T00:00:00\",\"2023-07-26T00:00:00\",\"2023-07-27T00:00:00\",\"2023-07-28T00:00:00\",\"2023-07-29T00:00:00\",\"2023-07-30T00:00:00\",\"2023-07-31T00:00:00\",\"2023-08-01T00:00:00\",\"2023-08-02T00:00:00\",\"2023-08-03T00:00:00\",\"2023-08-04T00:00:00\",\"2023-08-05T00:00:00\",\"2023-08-06T00:00:00\",\"2023-08-07T00:00:00\",\"2023-08-08T00:00:00\",\"2023-08-09T00:00:00\",\"2023-08-10T00:00:00\",\"2023-08-11T00:00:00\",\"2023-08-12T00:00:00\",\"2023-08-13T00:00:00\",\"2023-08-14T00:00:00\",\"2023-08-15T00:00:00\",\"2023-08-16T00:00:00\",\"2023-08-17T00:00:00\",\"2023-08-18T00:00:00\",\"2023-08-19T00:00:00\",\"2023-08-20T00:00:00\",\"2023-08-21T00:00:00\",\"2023-08-22T00:00:00\",\"2023-08-23T00:00:00\",\"2023-08-24T00:00:00\",\"2023-08-25T00:00:00\",\"2023-08-26T00:00:00\",\"2023-08-27T00:00:00\",\"2023-08-28T00:00:00\",\"2023-08-29T00:00:00\",\"2023-08-30T00:00:00\",\"2023-08-31T00:00:00\",\"2023-09-01T00:00:00\",\"2023-09-02T00:00:00\",\"2023-09-03T00:00:00\",\"2023-09-04T00:00:00\",\"2023-09-05T00:00:00\",\"2023-09-06T00:00:00\",\"2023-09-07T00:00:00\",\"2023-09-08T00:00:00\",\"2023-09-09T00:00:00\",\"2023-09-10T00:00:00\",\"2023-09-11T00:00:00\",\"2023-09-12T00:00:00\",\"2023-09-13T00:00:00\",\"2023-09-14T00:00:00\",\"2023-09-15T00:00:00\",\"2023-09-16T00:00:00\",\"2023-09-17T00:00:00\",\"2023-09-18T00:00:00\",\"2023-09-19T00:00:00\",\"2023-09-20T00:00:00\",\"2023-09-21T00:00:00\",\"2023-09-22T00:00:00\",\"2023-09-23T00:00:00\",\"2023-09-24T00:00:00\",\"2023-09-25T00:00:00\",\"2023-09-26T00:00:00\",\"2023-09-27T00:00:00\",\"2023-09-28T00:00:00\",\"2023-09-29T00:00:00\",\"2023-09-30T00:00:00\",\"2023-10-01T00:00:00\",\"2023-10-02T00:00:00\",\"2023-10-03T00:00:00\",\"2023-10-04T00:00:00\",\"2023-10-05T00:00:00\",\"2023-10-06T00:00:00\",\"2023-10-07T00:00:00\",\"2023-10-08T00:00:00\",\"2023-10-09T00:00:00\",\"2023-10-10T00:00:00\",\"2023-10-11T00:00:00\",\"2023-10-12T00:00:00\",\"2023-10-13T00:00:00\",\"2023-10-14T00:00:00\",\"2023-10-15T00:00:00\",\"2023-10-16T00:00:00\",\"2023-10-17T00:00:00\",\"2023-10-18T00:00:00\",\"2023-10-19T00:00:00\",\"2023-10-20T00:00:00\",\"2023-10-21T00:00:00\",\"2023-10-22T00:00:00\",\"2023-10-23T00:00:00\",\"2023-10-24T00:00:00\",\"2023-10-25T00:00:00\",\"2023-10-26T00:00:00\",\"2023-10-27T00:00:00\",\"2023-10-28T00:00:00\",\"2023-10-29T00:00:00\",\"2023-10-30T00:00:00\",\"2023-10-31T00:00:00\",\"2023-11-01T00:00:00\",\"2023-11-02T00:00:00\",\"2023-11-03T00:00:00\",\"2023-11-04T00:00:00\",\"2023-11-05T00:00:00\",\"2023-11-06T00:00:00\",\"2023-11-07T00:00:00\",\"2023-11-08T00:00:00\",\"2023-11-09T00:00:00\",\"2023-11-10T00:00:00\",\"2023-11-11T00:00:00\",\"2023-11-12T00:00:00\",\"2023-11-13T00:00:00\",\"2023-11-14T00:00:00\",\"2023-11-15T00:00:00\",\"2023-11-16T00:00:00\",\"2023-11-17T00:00:00\",\"2023-11-18T00:00:00\",\"2023-11-19T00:00:00\",\"2023-11-20T00:00:00\",\"2023-11-21T00:00:00\",\"2023-11-22T00:00:00\",\"2023-11-23T00:00:00\",\"2023-11-24T00:00:00\",\"2023-11-25T00:00:00\",\"2023-11-26T00:00:00\",\"2023-11-27T00:00:00\",\"2023-11-28T00:00:00\",\"2023-11-29T00:00:00\",\"2023-11-30T00:00:00\",\"2023-12-01T00:00:00\",\"2023-12-02T00:00:00\",\"2023-12-03T00:00:00\",\"2023-12-04T00:00:00\",\"2023-12-05T00:00:00\",\"2023-12-06T00:00:00\",\"2023-12-07T00:00:00\",\"2023-12-08T00:00:00\",\"2023-12-09T00:00:00\",\"2023-12-10T00:00:00\",\"2023-12-11T00:00:00\",\"2023-12-12T00:00:00\",\"2023-12-13T00:00:00\",\"2023-12-14T00:00:00\",\"2023-12-15T00:00:00\",\"2023-12-16T00:00:00\",\"2023-12-17T00:00:00\",\"2023-12-18T00:00:00\",\"2023-12-19T00:00:00\",\"2023-12-20T00:00:00\",\"2023-12-21T00:00:00\",\"2023-12-22T00:00:00\",\"2023-12-23T00:00:00\",\"2023-12-24T00:00:00\",\"2023-12-25T00:00:00\",\"2023-12-26T00:00:00\",\"2023-12-27T00:00:00\",\"2023-12-28T00:00:00\",\"2023-12-29T00:00:00\",\"2023-12-30T00:00:00\",\"2023-12-31T00:00:00\",\"2024-01-01T00:00:00\",\"2024-01-02T00:00:00\",\"2024-01-03T00:00:00\",\"2024-01-04T00:00:00\",\"2024-01-05T00:00:00\",\"2024-01-06T00:00:00\",\"2024-01-07T00:00:00\",\"2024-01-08T00:00:00\",\"2024-01-09T00:00:00\",\"2024-01-10T00:00:00\",\"2024-01-11T00:00:00\",\"2024-01-12T00:00:00\",\"2024-01-13T00:00:00\",\"2024-01-14T00:00:00\",\"2024-01-15T00:00:00\",\"2024-01-16T00:00:00\",\"2024-01-17T00:00:00\",\"2024-01-18T00:00:00\",\"2024-01-19T00:00:00\",\"2024-01-20T00:00:00\",\"2024-01-21T00:00:00\",\"2024-01-22T00:00:00\",\"2024-01-23T00:00:00\",\"2024-01-24T00:00:00\",\"2024-01-25T00:00:00\",\"2024-01-26T00:00:00\",\"2024-01-27T00:00:00\",\"2024-01-28T00:00:00\",\"2024-01-29T00:00:00\",\"2024-01-30T00:00:00\",\"2024-01-31T00:00:00\",\"2024-02-01T00:00:00\",\"2024-02-02T00:00:00\",\"2024-02-03T00:00:00\",\"2024-02-04T00:00:00\",\"2024-02-05T00:00:00\",\"2024-02-06T00:00:00\",\"2024-02-07T00:00:00\",\"2024-02-08T00:00:00\",\"2024-02-09T00:00:00\",\"2024-02-10T00:00:00\",\"2024-02-11T00:00:00\",\"2024-02-12T00:00:00\",\"2024-02-13T00:00:00\",\"2024-02-14T00:00:00\",\"2024-02-15T00:00:00\",\"2024-02-16T00:00:00\",\"2024-02-17T00:00:00\",\"2024-02-18T00:00:00\",\"2024-02-19T00:00:00\",\"2024-02-20T00:00:00\",\"2024-02-21T00:00:00\",\"2024-02-22T00:00:00\",\"2024-02-23T00:00:00\",\"2024-02-24T00:00:00\",\"2024-02-25T00:00:00\",\"2024-02-26T00:00:00\",\"2024-02-27T00:00:00\",\"2024-02-28T00:00:00\",\"2024-02-29T00:00:00\",\"2024-03-01T00:00:00\",\"2024-03-02T00:00:00\",\"2024-03-03T00:00:00\",\"2024-03-04T00:00:00\",\"2024-03-05T00:00:00\",\"2024-03-06T00:00:00\",\"2024-03-07T00:00:00\",\"2024-03-08T00:00:00\",\"2024-03-09T00:00:00\",\"2024-03-10T00:00:00\",\"2024-03-11T00:00:00\",\"2024-03-12T00:00:00\",\"2024-03-13T00:00:00\",\"2024-03-14T00:00:00\",\"2024-03-15T00:00:00\",\"2024-03-16T00:00:00\",\"2024-03-17T00:00:00\",\"2024-03-18T00:00:00\",\"2024-03-19T00:00:00\",\"2024-03-20T00:00:00\",\"2024-03-21T00:00:00\",\"2024-03-22T00:00:00\",\"2024-03-23T00:00:00\",\"2024-03-24T00:00:00\",\"2024-03-25T00:00:00\",\"2024-03-26T00:00:00\",\"2024-03-27T00:00:00\",\"2024-03-28T00:00:00\",\"2024-03-29T00:00:00\",\"2024-03-30T00:00:00\",\"2024-03-31T00:00:00\",\"2024-04-01T00:00:00\",\"2024-04-02T00:00:00\",\"2024-04-03T00:00:00\",\"2024-04-04T00:00:00\",\"2024-04-05T00:00:00\",\"2024-04-06T00:00:00\",\"2024-04-07T00:00:00\",\"2024-04-08T00:00:00\",\"2024-04-09T00:00:00\",\"2024-04-10T00:00:00\",\"2024-04-11T00:00:00\",\"2024-04-12T00:00:00\",\"2024-04-13T00:00:00\",\"2024-04-14T00:00:00\",\"2024-04-15T00:00:00\",\"2024-04-16T00:00:00\",\"2024-04-17T00:00:00\",\"2024-04-18T00:00:00\",\"2024-04-19T00:00:00\",\"2024-04-20T00:00:00\",\"2024-04-21T00:00:00\",\"2024-04-22T00:00:00\",\"2024-04-23T00:00:00\",\"2024-04-24T00:00:00\",\"2024-04-25T00:00:00\",\"2024-04-26T00:00:00\",\"2024-04-27T00:00:00\",\"2024-04-28T00:00:00\",\"2024-04-29T00:00:00\",\"2024-04-30T00:00:00\",\"2024-05-01T00:00:00\",\"2024-05-02T00:00:00\",\"2024-05-03T00:00:00\",\"2024-05-04T00:00:00\",\"2024-05-05T00:00:00\",\"2024-05-06T00:00:00\",\"2024-05-07T00:00:00\",\"2024-05-08T00:00:00\",\"2024-05-09T00:00:00\",\"2024-05-10T00:00:00\",\"2024-05-11T00:00:00\",\"2024-05-12T00:00:00\",\"2024-05-13T00:00:00\",\"2024-05-14T00:00:00\",\"2024-05-15T00:00:00\",\"2024-05-16T00:00:00\",\"2024-05-17T00:00:00\",\"2024-05-18T00:00:00\",\"2024-05-19T00:00:00\",\"2024-05-20T00:00:00\",\"2024-05-21T00:00:00\",\"2024-05-22T00:00:00\",\"2024-05-23T00:00:00\",\"2024-05-24T00:00:00\",\"2024-05-25T00:00:00\",\"2024-05-26T00:00:00\",\"2024-05-27T00:00:00\",\"2024-05-28T00:00:00\",\"2024-05-29T00:00:00\",\"2024-05-30T00:00:00\",\"2024-05-31T00:00:00\",\"2024-06-01T00:00:00\",\"2024-06-02T00:00:00\",\"2024-06-03T00:00:00\"],\"y\":[43.63686086643481,43.260378887889566,43.13590794993829,43.18368860026103,43.018226334374916,43.996868318240985,43.661861748096115,44.41511674178093,44.172762731258935,44.169525909454514,44.322834365219926,44.244715703930666,45.290442042048866,45.00064697922264,45.77613570913017,45.532475799428994,45.504395092164884,45.60989262920615,45.46212706791037,46.418037554239504,46.02042214813055,46.67269585731789,46.29341708699357,46.12061058399735,46.075794715327675,45.77577973827914,46.581194419133915,46.03846861793777,46.55449648178811,46.051071632441314,45.769124925609404,45.632674970761,45.26056020164418,46.01491171051234,45.44309598976769,45.95235337489874,45.4642243175576,45.218794377555795,45.138667991545724,44.840739236498194,45.68471780150634,45.215137910455894,45.83607422392459,45.46565476631142,45.34039942370417,45.379291530149494,45.195648093594556,46.1457441545417,45.77091632143689,46.47236690909722,46.16575629328724,46.08560983077575,46.14944478555556,45.96968216269986,46.902295998602966,46.48892622148688,47.13167533694504,46.74767691296402,46.573462848149575,46.529036112935124,46.22971444466386,47.03470118038278,46.48910970462061,46.99866507589774,46.48417322803236,46.185787447918834,46.0269815791324,45.62629815715906,46.345830274957464,45.733166088811345,46.19602171137826,45.65665476179953,45.35608978728332,45.218066115979326,44.86077702508932,45.645359250740846,45.11786152148064,45.68391718593634,45.26321209920176,45.093777480070784,45.09601644208342,44.88453092345082,45.81670564178275,45.434775180774935,46.14059660187623,45.85021603993,45.798256335842034,45.90203187029018,45.77345497388379,46.76768844379726,46.42526848817089,47.146919063307124,46.848145029984195,46.76363057076761,46.81134885685269,46.60444760223993,47.49986572500499,47.04040653200962,47.62948985913514,47.185672388480214,46.94696465546239,46.8348530210999,46.466093689484026,47.20123648328243,46.58660637192878,47.028967602015186,46.44996201475994,46.09035220347817,45.87397967989339,45.4195067155473,46.08890084410548,45.429390841741714,45.848119562497736,45.26658526127285,44.92490173342116,44.74578672309724,44.34634618738756,45.08661199519508,44.51156018824209,45.02583325978536,44.54825598931808,44.31617295693036,44.2495149384214,43.96265953681999,44.81304148202929,44.34323772388767,44.955748973683555,44.56756568310266,44.414545328116304,44.41550726861555,44.18410995807732,45.07746571466887,44.6382183215694,45.269305607619636,44.888495827296516,44.732725842394736,44.722148777809025,44.4719575485618,45.34094126184395,44.8735016675727,45.474353768531,45.06300136330583,44.87801741341881,44.84103867426624,44.568542579597704,45.42036475483051,44.94168544315542,45.53770977371704,45.12813314873907,44.95142181764246,44.928817925091536,44.676136548298956,45.55231232033831,45.101363029027034,45.72729301440313,45.3484277586673,45.20180647051046,45.207241008490435,44.979166703224344,45.875240893379186,45.43841468998006,46.071700007924186,45.6927202222033,45.538071660734644,45.527402517376295,45.2752742349766,46.13976080425724,45.66451143717114,46.25349891289232,45.82554251964124,45.618633658993495,45.553971813199084,45.24777726988738,46.05983758025622,45.53551487807212,46.08043811288133,45.61497090805369,45.37848487432938,45.29334776535387,44.976694424719845,45.788938876609315,45.275755840912,45.84275662078994,45.40995068051537,45.21602304394348,45.18233688194529,44.924728901182874,45.80205523924769,45.35821520803656,45.996876629904634,45.63599265152987,45.51213854615024,45.54457611393862,45.34711144828397,46.27670189732167,45.87553771270141,46.54582036157122,46.204325753462086,46.08677944438318,46.11195020906593,45.8935267973351,46.788733049466636,46.34040652603319,46.951762621815185,46.5401527352965,46.34374423312987,46.2832295004878,45.97443018394072,46.776853253190914,46.23570572385081,46.75659184488206,46.25998326154253,45.985491842272985,45.85585447796811,45.48869779411256,46.245041190724315,45.67126662708894,46.17378030746983,45.673457863058815,45.409903502067046,45.305432894894096,44.97684785376441,45.78396099663789,45.27159824815241,45.84430344632824,45.42083546387971,45.23848686458313,45.21713218623403,44.97107205846104,45.85762937112234,45.41922330632411,46.05814345576502,45.69111243738071,45.55366414647183,45.56424401193264,45.33609595879338,46.22589104380889,45.77582262187951,46.388389631614956,45.980956120849285,45.790114202906636,45.73575721722058,45.432928534502494,46.240402026731395,45.70272039792981,46.224914548228966,45.72699387681158,45.448236648787294,45.31118922780357,44.93344167885363,45.676137802697525,45.085947758049656,45.56972826722223,45.048961945670065,44.764005626454605,44.63806088009222,44.288928512378945,45.07751214054698,44.54979588710529,45.11152165415015,44.682656995498235,44.50168326993866,44.48961286872419,44.26180244904283,45.17651911744837,44.77698609158686,45.466130747225904,45.16112410347312,45.097739458373674,45.19443704701981,45.06423983733957,46.06335574682055,45.733271349898466,46.47553876643489,46.20634384242298,46.16088269258132,46.2574531489323,46.109326223297394,47.07335317696245,46.69203388180814,47.368269061140154,47.01988567233793,46.88396386865795,46.88087362530627,46.62608780478394,47.478728996519266,46.98357757924398,47.54576532780301,47.085245478160054,46.84106920925868,46.73537797420776,46.38517959058278,47.1508663163602,46.57820298398403,47.073009856099844,46.55563116976691,46.26521909475286,46.12374203046533,45.747784388457845,46.497095096540065,45.916611713244095,46.41118347917091,45.900082826212596,45.62133356303473,45.49576314194329,45.13884465303174,45.90928447404581,45.35108101281722,45.868276949566045,45.3794935111507,45.12227434679547,45.017145994491315,44.679460449423615,45.4679757857285,44.92690082560901,45.46062670429127,44.98823480307007,44.74780964825244,44.66046497336104,44.34214978540289,45.15219179212035,44.63530561934758,45.19629008258961,44.75450533382028,44.54815971689306,44.498315609225926,44.22068197752932,45.074151666977315,44.60281126607692,45.21064795869087,44.816044057614086,44.65608865326732,44.65061499154027,44.41403039944327,45.30389564946824,44.862980290708414,45.49401689835789,45.11424337546765,44.9597611284761,44.94961611805406,44.697668043112216,45.56120309064028,45.083015472617824,45.6661795904986,45.228601085060866,45.00737398429568,44.92285063390873,44.59048965891634,45.36943769412601,44.80457072097655,45.30121776638004,44.779656413208855,44.479408773016914,44.323246250766665,43.92897015694081,44.657925822079775,44.05697805887187,44.533172519722804,44.00817466083497,43.72251639730766,43.59956056903015,43.25725162458567,44.056611294829246,43.54370787420415,44.124324305469905,43.718416538831875,43.56439235112144,43.58311994974818,43.38973383241911,44.342195371339784,43.98333513799013,44.71560030447867,44.455596524287415,44.43845225757017,44.58191255379413,44.4982274240417,45.542789972133036,45.25624910598529,46.039318139009815,45.807366885781335,45.794823699927655,45.9192932772663,45.79345453126764,46.77369327695001,46.402194519868324,47.08171604869403,46.73013173118691,46.58477214559004,46.56646991379027,46.29137590615049,47.119503187088185,46.59672584444133,47.129456896788824,46.63909625561336,46.366278961425394,46.234833585517244,45.86351936006187,46.614501098477774,46.0352909797751,46.533383004137136,46.030672345449375,45.76769066760995,45.66756771710441,45.34778773444835,46.168699283926045,45.67550668048219,46.272973314605885,45.87989843692355,45.733454431515256,45.75323463591931,45.55310673858037,46.48982191401983,46.105105160649074,46.80044863380277,46.49169588797754,46.41344360491678,46.483166574778814,46.313129998057214,47.2590434270199,46.8621805581907,47.524185835623456,47.1616553907302,47.01051896300499,46.990129091208374,46.71512260597283,47.54401012040405,47.0212194849189,47.55181624937097,47.05599101257514,46.77334286399202,46.62686790274682,46.2347206213175,46.95870659111766,46.346235065601036,46.8049570286031,46.25718081960111,45.94409649691016,45.78971953135401,45.4126228319527,46.17441632939627,45.621703074162056,46.16073726282658,45.71187575850375,45.513853265897524,45.487790346807905,45.24900150497334,46.155560477120886,45.75034934098824,46.435814315982654,46.12851716377887,46.06350964366466,46.15843753089702,46.02543885121554,47.019791065162664,46.68203164802964,47.4127730728414,47.12729958232307,47.05998330280234,47.12836932712077,46.945106460276435,47.86656618921915,47.434931069929384,48.052963303168895,47.638542262456255,47.428999012489754,47.34515561525055,47.00313583074171,47.76290450527715,47.17026318224234,47.63152647159808,47.06797043095439,46.720083373264075,46.51152909755592,46.06089111093593,46.73015680614069,46.066670466430146,46.477780603029785,45.88527345529938,45.52962324287379,45.33396893672957,44.915885495829286,45.635907541967875,45.03953301601038,45.53193069695683,45.03244154541481,44.77890240387074,44.69169963712877,44.38561841381148,45.21844335908353,44.7330359476948,45.33211047484669,44.93279671063017,44.77101615402806,44.7655781369776,44.5300604650501,45.42142965482324,44.982125825754906,45.61483413643407,45.23703127997114,45.08533470349684,45.079561864103304,44.834565546768665,45.708801876412906,45.246357837111745,45.85166207108473,45.443969424330426,45.26164886504974,45.22618399808131,44.95474431193117,45.806333889613455,45.32614891093388,45.91946581399445,45.5061030184419,45.324696112102224,45.29669598319257,45.038157655691414,45.908277705715015,45.45140779805292,46.07176830490207,45.6879521258508,45.53724746629458,45.53968743910455,45.309892516894564,46.205661924353535,45.77003971977348,46.40607779206223,46.03138426516618,45.882484599181325,45.87890198976321,45.635022073708306,46.50869728608127,46.04331617164755,46.64255974236456,46.224933553613646,46.02810327891418,45.97294116932407,45.675349459805034,46.494817359170014,45.976438414539984,46.52561198079167,46.06251920636942,45.82640309970355,45.739561837592134,45.41912308825668,46.225557578301704,45.70466011961639,46.26222303945011,45.81849338747548,45.61244416528684,45.56576911760837,45.29466891972799,46.15838673254805,45.70122077027794,46.327237955906064,45.95477889779028,45.82078305367137,45.844842043988145,45.64104722050729,46.566603042981285,46.16385498737809,46.83510829595349,46.49717191168124,46.3857318397686,46.41944498962865,46.21181832301665,47.11982842999907,46.686006573366434,47.31321099750268,46.919174851624625,46.74085716445132,46.69850390297927,46.40748482223455,47.226862395816084,46.70141928981648,47.236367811145,46.751831480796085,46.48712808320284,46.364763195761526,46.00220187665454,46.76037671349266,46.185660493567646,46.68452855674107,46.17800239513737,45.90590500564338,45.79083786057225,45.449947716128456,46.2434416658818,45.71657856065255,46.274361375504235,45.83602127927754,45.63932279824331,45.60459855039446,45.34658014639559,46.22298185232402,45.77656318713782,46.409893006726925,46.03990377927317,45.902263430011814,45.9154713141212,45.69274314671658,46.59063992032979,46.151165665533,46.77655557490939,46.38384247919016,46.20922867418986,46.17216962542294,45.88723469625396,46.71270058649548,46.19260331454698,46.7314735358536,46.2488347019774,45.98351282050962,45.8576462223048,45.488472503173455,46.23684838542205,45.64923038484167,46.13234105939402,45.60761221754177,45.315435510661146,45.17913030122663,44.816697161115684,45.58931564836668,45.04331482623168,45.58484154167406,45.13431773926287,44.93071679454822,44.89556799419236,44.64475645226178,45.53707577747344,45.116260392995436,45.78572078080886,45.46307104979247,45.384476857572544,45.46873083871047,45.32912088984157,46.32204677889102,45.98911027583647,46.73190056375491,46.466563048907,46.4281785868439,46.53485955791856,46.39962773522787,47.37902932471557,47.015212606228296,47.71069047460843,47.3828768288471,47.26842491731907,47.28727538966212,47.054480500486,47.928761484662246,47.45452626118985,48.03657152807975,47.59455994243893,47.36730217042179,47.27675311600103,46.93979016816869,47.71673167771626,47.15332377528702,47.655420285847974,47.14344684710149,46.85667909220344,46.71724429186947,46.34191335790558,47.090641214774244,46.508582465884,47.000806020508875,46.48679848609308,46.20478481305523,46.07577384227601,45.7153946332337,46.48247958591866,45.9211201077831,46.43541713581406,45.94401517171427,45.68444736561747,45.577198571597016,45.237551772713914,46.02417366963926,45.48116523131844,46.01279982869989,45.53803817234335,45.29484838450545,45.20423912911811,44.882072368898676,45.68761284667318,45.165541480424935,45.720656725269954,45.27235454824655,45.05891671631571,45.00151658915393,44.71601010865344,45.561470020866466,45.08219124105731,45.682391892373694,45.280700878957596,45.11446163607055,45.10376091665864,44.86324970735601,45.75071345965479,45.30911847039432,45.94135767085832,45.564785257718405,45.41556826864517,45.41276235807686,45.17017724894281,46.04498746738608,45.57981370621032,46.17749672719311,45.75565207164496,45.55103274383276,45.48360644453351,45.16841241556251,45.964153530490634,45.41524897304438,45.926570183165175,45.41794906692302,45.128486783225185,44.980571064251464,44.591668751012044,45.32285083502019,44.72077747276601,45.19236738639701,44.65924273753456,44.36197969250736,44.224074459029836,43.863693137385866,44.64216412524947,44.10594173102904,44.66126629751345,44.2286124802422,44.046956103209595,44.03776921115912,43.816811134048535,44.74267341797081,44.3588060545261,45.06824877980432,44.78815728773387,44.7541527593997,44.88440213956096,44.79149468102572,45.83107027289415,45.543924669233974,46.33081316232688,46.107040471169135,46.10686338605329,46.24761200834622,46.141593830476936,47.14473525299974,46.798685122082034,47.50560170384077,47.18271115172192,47.06666470286917,47.07760153182506,46.83098296352454,47.686154429508356,47.18836182137167,47.74344595650746,47.27230567702664,47.015159381072586,46.89551450622306,46.53191321444089,47.28641309640162,46.706531790500385,47.199881248642676,46.68858385153691,46.41350152418826,46.29818832057847,45.96063525628502,46.76176629621213,46.24741404780479,46.82300008826618,46.40801093960858,46.24029924590333,46.240118692498605,46.021959225399996,46.94313902783488,46.545879191984746,47.23208331129309,46.91791028834094,46.838167253024466,46.91042860463457,46.746945413268286,47.703299583511686,47.3205269902609,47.99993045857438,47.65766994195636,47.529156292856115,47.53315459223556,47.2836616832299,48.138513166832794,47.641445346675454,48.19683465960561,47.72420395247623,47.46252429146844,47.334220786115296,46.95694974176263,47.69210514665037,47.08678273248599,47.548426824371745,46.999251873023034,46.68046967151395,46.51623277425074,46.12536313090372,46.86982525768416,46.29667308212529,46.81269613160676,46.3388569584119,46.114550349564404,46.061593945082976,45.79601796895591,46.67661170964091,46.24695387131266,46.90274879786077,46.56856486830491,46.47998917209837,46.55511919147797,46.406449601369935,47.38951059603665,47.0449824110328,47.77350719257871,47.49028566331167,47.42948488508433,47.508362807189144,47.33917378826687,48.27780972634171,47.865901509439354,48.505602417075934,48.11414181745077,47.92817674691005,47.86784869715516,47.548611738650465,48.329788801441005,47.756583196271265,48.234769492773744,47.685154631656275,47.34783936402675,47.14618975467843,46.69858712713117,47.36691529773762,46.698513930003195,47.10082354999625,46.495814163300366,46.124228243480694,45.90954810432483,45.469755904505945,46.16584460673763,45.54380782077737,46.009332823171626,45.48228713979556,45.20102764871065,45.086440200150605,44.75377584451456,45.561239753947305,45.052058517582836,45.62924790606523,45.2101694094171,45.03090259776349,45.01033962109918,44.762066531416586,45.64298641625606,45.195409265529186,45.82183026561757,45.43948478635471,45.282602682416844,45.272792636799366,45.02457472561723,45.89606495751363,45.431014482530195,46.03353162785251,45.62257688237688,45.436260140997035,45.39584915548207,45.1175567909586,45.96106518533676,45.47151493823612,46.05418422512636,45.62894920413275,45.43455599408291,45.392613833820654,45.119377362812564,45.974276132155445,45.501919157246036,46.10679877876097,45.707784278112186,45.54243434398224,45.53103659568475,45.2884405225694,46.17264024136949,45.72683310380331,46.35417662607567,45.97233243197896,45.81782464696994,45.81011943684056,45.56349073174632,46.43562745399259,45.96970746632576,46.56916019000159,46.15220637105632,45.9562025343067,45.901697232729575,45.60426484609839,46.42307323690998,45.902911715915316,46.4489027095699,45.98098721354279,45.73821329041843,45.6427364975326,45.31159978146094,46.105250878889755,45.56952530316265,46.11031978009033,45.648047486956976,45.421905381033135,45.35386325923204,45.060442531860176,45.90124290958621,45.42094488681006,46.02401240027304,45.62918621907197,45.47379727730468,45.47780826607768,45.255649944835326,46.16480865781128,45.74789114824641,46.407389173102914,46.060232606442405,45.94215842647337,45.9718021957405,45.762576947546,46.67129462571084,46.240255080787264,46.87202431904585,46.48399019488534,46.312722769405525,46.278046104387656,45.994886893854655,46.82185588541094,46.303288193750305,46.84396556471777,46.36361036646666,46.10118029448354,45.978872450496965,45.613904160015856,46.367028457276334,45.78451227288045,46.2728022143588,45.75296939308345,45.46496375621759,45.331587806893104,44.9702580146975,45.74151246892385,45.19099309952728,45.724127303012196,45.26060003062145,45.0386460692135,44.979071357331634,44.697070315035354,45.55079617075321,45.08341084060582,45.69783727783909,45.31130333562637,45.15970482277166,45.161694566623765,44.9305625145627,45.823332237923196,45.38144782286975,46.006974584973364,45.61669964240977,45.44651018122238,45.41548557168987,45.137768248015895,45.971168755048076,45.45923047066298,46.00597643791299,45.53042744418639,45.27091969619551,45.14913013061566,44.78187613880607,45.52964709765666,44.93859526883245,45.41521056052383,44.88077029681713,44.57559424186456,44.423014653958134,44.0411296707132,44.79129868555395,44.22010825536186,44.734033694148444,44.25388782396975,44.01908711396465,43.95164462586089,43.66795738197868,44.52734582331141,44.07407262781639,44.712064534571965,44.35942694100142,44.25277965514362,44.311321281351496,44.14868788060233,45.12156161988898,44.77175480546572,45.50099120078568,45.22547283125449,45.180259315632235,45.28336611968162,45.14764657862502,46.12941291628042,45.77052148775341,46.47314429901758,46.15431546989729,46.05028043966538,46.08055533948574,45.85976264259048,46.74619978007923,46.283867559537974,46.886545863577446,46.464188489802446,46.25530381606219,46.181593284751784,45.85973397392182,46.649899669728605,46.09774852276389,46.60910206914189,46.10440680262723,45.8230083366775,45.68714747714636,45.313745817903175,46.06293861433907,45.48008237899928,45.9704610996264,45.45378117410174,45.168483835525905,45.03578299092001,44.67149460328015,45.43461385242067,44.869366011663786,45.379953494161676,44.88508782377308,44.62233411348561,44.51217497140318,44.16985917846,44.95399082990889,44.408584592236224,44.93780950995913,44.46051036298605,44.21453465889072,44.120772919477965,43.79497855769995,44.59632416904274,44.069421163240065,44.61902654405169,44.16452726420414,43.94423167120656,43.87937709153698,43.58592114699263,44.42307479026567,43.93530497362805,44.52703153670082,44.117109280777285,43.94312502724054,43.925418718367325,43.67889589051753,44.56158897325088,44.11669453910298,44.747310067442655,44.376978300180475,44.23597591310597,44.243437407810895,44.01319659886105,44.902393212383124,44.45355179137634,45.06935495541406,44.66719936781696,44.483561601234086,44.4380804457743,44.14542065101692,44.96387347125537,44.43741938100933,44.97047515606212,44.4824141347965,44.21188761861367,44.08085501240567,43.706389015580676,44.449212779949306,43.85569613358447,44.332534934729225,43.80120432236011,43.502215800318226,43.359087701628894,42.990097198354896,43.75677248027877,43.20585370778357,43.743948060075724,43.29197061205449,43.08940161936775,43.058270052431126,42.81493147577553,43.718598459916294,43.31335133392717,44.00285345933265,43.704861301431265,43.655558141134065,43.773619297506364,43.67207480576237,44.70692546371989,44.41923772147426,45.209939267427096,44.99440333164934,45.00684843137531,45.1644595094704,45.07929474635306,46.10693259966561,45.78858353495558,46.52588766853897,46.235486113292566,46.15339293425063,46.19907431253577,45.987299920854404,46.87672297307696,46.41191457957368,46.9980759042484,46.555518107161646,46.3239394090064,46.22640836702387,45.88112122683341,46.64989183757823,46.080102770096744,46.57934316486309,46.06982541681815,45.79261181159687,45.67156163901133,45.325067700357785,46.11454133388097,45.58637479928831,46.146606306265554,45.71537911332201,45.53122470877924,45.51507910356189,45.282099302714876,46.19023692637152,45.782295422383626,46.460693577046705,46.142024062983296,46.061434313925055,46.136736074713106,45.98030812704572,46.94774678177948,46.57998845308526,47.27812520626054,46.95800056715295,46.8546118361347,46.886224642182995,46.666264076663126,47.55193729366585,47.086312637409264,47.673077363194636,47.23106281145817,46.9985652035735,46.89737002140105,46.544546776204356,47.3009716908385,46.7133060912865,47.18865533198454,46.64899981896818,46.33542887532771,46.1720877874283,45.777906948536156,46.515072414811755,45.930967070457754,46.43280826094066,45.94207399535627,45.69874859114596,45.625297755294575,45.33844123274645,46.19768112604168,45.747313502498976,46.391147180552494,46.047019600679015,45.95113818873564,46.0221546014151,45.873037293122216,46.8596978072024,46.523095772189336,47.26404399656342,46.99780127565266,46.95847929499254,47.0631693194676,46.92385277515522,47.896050197702586,47.52093302458523,48.20011955919331,47.85024309090804,47.707319349188545,47.69082017252125,47.415519052754235,48.24006489790412,47.709010621705595,48.22752021850435,47.7158447716742,47.413597100892204,47.24373444883114,46.824317309181815,47.51700303504409,46.86900292326008,47.28772825564301,46.695217254289986,46.332373812851884,46.12292817960578,45.68518807084819,46.380538825278805,45.75542086726657,46.216009149966915,45.68268537056074,45.3943323375388,45.27235891296841,44.93252203813276,45.73350232501263,45.21687829576416,45.78812650363001,45.36492648166702,45.183607412302855,45.16323816916093,44.91750646026396,45.80334207564081,45.363009106923045,45.998888712828574,45.62804051466475,45.48656975594525,45.49370692446542,45.26366518482935,46.1542315337422,45.70881775112351,46.3311941823421,45.93999610604665,45.773031647715875,45.751299862241375,45.49078629765783,46.35099389573591,45.87693716626486,46.473824398579744,46.06151920631258,45.87881167512974,45.847408776751905,45.583712102679996,46.44734119602666,45.98313051239248,46.59582453916245,46.20456181672595,46.0471772806562,46.04423146793539,45.8108332879986,46.70521309566612,46.270772416420286,46.91083308710228,46.54317475927298,46.404388414424886,46.41395274617324,46.18609855653618,47.07841653257881,46.63393360809534,47.25587978818979,46.86223378649075,46.690074832658276,46.65964752849562,46.38620523679994,47.22858800916088,46.73126118058851,47.29903768616544,46.841012986551824,46.6065458198001,46.51758477260637,46.191016504075705,46.98718912473478,46.45189946633075,46.99106895562249,46.52519935180913,46.29363859898953,46.21856645915264,45.91676800341148,46.74815328632982,46.25775130161129,46.85040283417524,46.44524305246007,46.28000337020487,46.27504123524267,46.04516465858171,46.94820832481456,46.52708772302968,47.184554128070886,46.83773941837907,46.72251838510188,46.75759535530322,46.55638020288046,47.475608996732085,47.05743433046049,47.70420700810433,47.333037192249904,47.180162092537664,47.165026762770154,46.90214315694166,47.74968310127294,47.25153095430547,47.81201865801406,47.3504325858442,47.10532079981526,46.998509008894985,46.6468922432233,47.41095985106645,46.836781569245495,47.33067931908789,46.81367599623976,46.52575158688336,46.38981643021502,46.02346993069257,46.78750333895357,46.22787505623219,46.75038348889003,46.27512875438116,46.04079326034688,45.9686503298667,45.67436821151589,46.516566836948925,46.03885426927441,46.64456614476871,46.251297522201504,46.09525516560553,46.095337386348056,45.86500674373565,46.76091099399542,46.324977381834394,46.95920190516995,46.580221521007736,46.423696139573,46.408406655583434,46.14813376613185,47.000272758775594,46.507909506818116,47.074579791024824,46.61880073556878,46.37840233329778,46.27456671270049,45.92364153496491,46.685684531793655,46.10646638409854,46.592156103481685,46.063779768346265,45.761482615993025,45.60850407413791,45.222933900959625,45.96620802463421,45.385072617858725,45.88624162233079,45.39083931705851,45.13865834271799,45.052142834958644,44.748164563460904,45.58655006293322,45.11208637333525,45.729229400599095,45.35660503841175,45.23133180349923,45.27307281968628,45.09588312518159,46.05680831773775,45.697960191252314,46.42129147506321,46.143158034341255,46.09869566968909,46.20591794963472,46.07759989978383,47.06990269454498,46.72446443980807,47.44317890994737,47.14275067021214,47.05905411036807,47.11120351095731,46.91339993015606,47.823511265979825,47.38511199750638,48.00220604562139,47.59372287497141,47.397816115297324,47.335873584938135,47.024306222241655,47.823073902980006,47.27767612931863,47.79383232823491,47.29194295782051,47.011361526070964,46.87438695960423,46.49804409785542,47.24261027188333,46.65361565003417,47.136541514696106,46.611306845815776,46.31657227362543,46.17376961192183,45.79892337902013,46.55122079971032,45.97505645567947,46.47477423366881,45.96919548099575,45.69596106037514,45.575594284191546,45.223350081822694,45.99780605096642,45.44292095444495,45.96278296096886,45.476136453289755,45.22071527575415,45.11728984017033,44.78149412561036,45.572389124549545,45.03448938732068,45.572476205786515,45.10568761247785,44.872414484743494,44.79391160752299,44.48619113378522,45.308556319613636,44.805603386585354,45.38191608750204,44.95654398541369,44.767294337505874,44.73474678543275,44.47405837038949,45.343516554656446,44.886567635119484,45.506544397941305,45.12118305748283,44.96695819278011,44.963143528514884,44.723664589434634,45.6056993317627,45.15175252013518,45.76442609478896,45.360974032227226,45.1776689878332,45.13388730555798,44.84397736777221,45.665866576874706,45.1431321993224,45.679758075579606,45.19466576826382,44.92604782047852,44.79541040197861,44.419391303037244,45.158309824106574,44.5581752856329,45.02537785170155,44.48115207921272,44.165842800947416,44.002882597123225,43.61054877468793,44.350458285264,43.7695290553814,44.274632983726086,43.78703234070222,43.54663022140359,43.4759450329491,43.1918773183477,44.054227370642295,43.60769176618817,44.25656336390189,43.919225448782235,43.83246928975372,43.91554342214325,43.78200104024358,44.788301842027764,44.47589420559807,45.24599991945375,45.0141898097818,45.01477725535188,45.164935741992764,45.076604867412684,46.10513940541772,45.79142586980883,46.53668769821196,46.25706666980682,46.18800721537257,46.248349850224066,46.05219863236008,46.95751814964529,46.50818575341358,47.10872178608306,46.6787873519685,46.457478481782715,46.3673253111597,46.026063698208326,46.79513737015776,46.22165889490343,46.7130547237346,46.19148620344958,45.898077541186474,45.756861198577724,45.3865096660782,46.148812859307895,45.590630176059456,46.11854277171996,45.653297820270694,45.434075172083304,45.38248588561086,45.114370182807164,45.98835230437361,45.54787922085587,46.195966413911584,45.84973995491721,45.74480262522102,45.79933083468715,45.62596718982896,46.58046358558851,46.20379934386797,46.89699541702577,46.57571198569912,46.47465564903741,46.511701812802144,46.29979640326841,47.19559150616373,46.741539635610934,47.34066828580142,46.91112316448367,46.690507782408545,46.599926845984996,46.25579973780522,47.01840109652001,46.433855802082746,46.908812736970546,46.36488848208491,46.04291134630466,45.86687579196194,45.45567597339995,46.171577583402744,45.56215718725431,46.03493492774241,45.51179287033459,45.23321006564122,45.122224619151076,44.796191257471534,45.61529290936517,45.12453437606188,45.72844247193121,45.345563047839846,45.21278381540394,45.249390861594605,45.068924768169154,46.027792176708886,45.667358168190646,46.38874117910618,46.10739832745367,46.057527717240724,46.15619351501476,46.01523792697019,46.98993448954336,46.62110700965026,47.30993526543457,46.97253516541517,46.84434019700067,46.844190647623584,46.58619582221197,47.42832513677381,46.914454219549484,47.449089201529084,46.951859181065146,46.66180613064807,46.50138124730659,46.08821549853705,46.783622711060644,46.13456367223595,46.548296570957916,45.94680565626576,45.57103897312042,45.34486542454,44.88681978475801,45.55859448795165,44.90700673515754,45.33866591730851,44.77443251588001,44.45369826137208,44.29839639203999,43.9248089476692,44.69212800165057,44.14449727961422,44.685756957228755,44.23398054761573,44.02583142720961,43.98064569528195,43.71230629972434,44.57786353195689,44.11962678980752,44.739949144822624,44.35579269421757,44.203101664879604,44.200889744331846,43.96310671381581,44.84723998230373,44.39637675041348,45.01394947551242,44.61825401982356,44.446769071774014,44.42018510791541,44.1542098762291,45.00810795962507,44.52670210282939,45.115060862946706,44.6929637326902,44.49917391921751,44.45542841731433,44.17821346822031,45.02728378122042,44.54765370467094,45.14428508358082,44.73656279992732,44.56258770433035,44.54319579922948,44.29377070894287,45.17280651519819],\"type\":\"scatter\"},{\"line\":{\"width\":0},\"mode\":\"lines\",\"showlegend\":false,\"x\":[\"2020-01-01T00:00:00\",\"2020-01-02T00:00:00\",\"2020-01-03T00:00:00\",\"2020-01-04T00:00:00\",\"2020-01-05T00:00:00\",\"2020-01-06T00:00:00\",\"2020-01-07T00:00:00\",\"2020-01-08T00:00:00\",\"2020-01-09T00:00:00\",\"2020-01-10T00:00:00\",\"2020-01-11T00:00:00\",\"2020-01-12T00:00:00\",\"2020-01-13T00:00:00\",\"2020-01-14T00:00:00\",\"2020-01-15T00:00:00\",\"2020-01-16T00:00:00\",\"2020-01-17T00:00:00\",\"2020-01-18T00:00:00\",\"2020-01-19T00:00:00\",\"2020-01-20T00:00:00\",\"2020-01-21T00:00:00\",\"2020-01-22T00:00:00\",\"2020-01-23T00:00:00\",\"2020-01-24T00:00:00\",\"2020-01-25T00:00:00\",\"2020-01-26T00:00:00\",\"2020-01-27T00:00:00\",\"2020-01-28T00:00:00\",\"2020-01-29T00:00:00\",\"2020-01-30T00:00:00\",\"2020-01-31T00:00:00\",\"2020-02-01T00:00:00\",\"2020-02-02T00:00:00\",\"2020-02-03T00:00:00\",\"2020-02-04T00:00:00\",\"2020-02-05T00:00:00\",\"2020-02-06T00:00:00\",\"2020-02-07T00:00:00\",\"2020-02-08T00:00:00\",\"2020-02-09T00:00:00\",\"2020-02-10T00:00:00\",\"2020-02-11T00:00:00\",\"2020-02-12T00:00:00\",\"2020-02-13T00:00:00\",\"2020-02-14T00:00:00\",\"2020-02-15T00:00:00\",\"2020-02-16T00:00:00\",\"2020-02-17T00:00:00\",\"2020-02-18T00:00:00\",\"2020-02-19T00:00:00\",\"2020-02-20T00:00:00\",\"2020-02-21T00:00:00\",\"2020-02-22T00:00:00\",\"2020-02-23T00:00:00\",\"2020-02-24T00:00:00\",\"2020-02-25T00:00:00\",\"2020-02-26T00:00:00\",\"2020-02-27T00:00:00\",\"2020-02-28T00:00:00\",\"2020-02-29T00:00:00\",\"2020-03-01T00:00:00\",\"2020-03-02T00:00:00\",\"2020-03-03T00:00:00\",\"2020-03-04T00:00:00\",\"2020-03-05T00:00:00\",\"2020-03-06T00:00:00\",\"2020-03-07T00:00:00\",\"2020-03-08T00:00:00\",\"2020-03-09T00:00:00\",\"2020-03-10T00:00:00\",\"2020-03-11T00:00:00\",\"2020-03-12T00:00:00\",\"2020-03-13T00:00:00\",\"2020-03-14T00:00:00\",\"2020-03-15T00:00:00\",\"2020-03-16T00:00:00\",\"2020-03-17T00:00:00\",\"2020-03-18T00:00:00\",\"2020-03-19T00:00:00\",\"2020-03-20T00:00:00\",\"2020-03-21T00:00:00\",\"2020-03-22T00:00:00\",\"2020-03-23T00:00:00\",\"2020-03-24T00:00:00\",\"2020-03-25T00:00:00\",\"2020-03-26T00:00:00\",\"2020-03-27T00:00:00\",\"2020-03-28T00:00:00\",\"2020-03-29T00:00:00\",\"2020-03-30T00:00:00\",\"2020-03-31T00:00:00\",\"2020-04-01T00:00:00\",\"2020-04-02T00:00:00\",\"2020-04-03T00:00:00\",\"2020-04-04T00:00:00\",\"2020-04-05T00:00:00\",\"2020-04-06T00:00:00\",\"2020-04-07T00:00:00\",\"2020-04-08T00:00:00\",\"2020-04-09T00:00:00\",\"2020-04-10T00:00:00\",\"2020-04-11T00:00:00\",\"2020-04-12T00:00:00\",\"2020-04-13T00:00:00\",\"2020-04-14T00:00:00\",\"2020-04-15T00:00:00\",\"2020-04-16T00:00:00\",\"2020-04-17T00:00:00\",\"2020-04-18T00:00:00\",\"2020-04-19T00:00:00\",\"2020-04-20T00:00:00\",\"2020-04-21T00:00:00\",\"2020-04-22T00:00:00\",\"2020-04-23T00:00:00\",\"2020-04-24T00:00:00\",\"2020-04-25T00:00:00\",\"2020-04-26T00:00:00\",\"2020-04-27T00:00:00\",\"2020-04-28T00:00:00\",\"2020-04-29T00:00:00\",\"2020-04-30T00:00:00\",\"2020-05-01T00:00:00\",\"2020-05-02T00:00:00\",\"2020-05-03T00:00:00\",\"2020-05-04T00:00:00\",\"2020-05-05T00:00:00\",\"2020-05-06T00:00:00\",\"2020-05-07T00:00:00\",\"2020-05-08T00:00:00\",\"2020-05-09T00:00:00\",\"2020-05-10T00:00:00\",\"2020-05-11T00:00:00\",\"2020-05-12T00:00:00\",\"2020-05-13T00:00:00\",\"2020-05-14T00:00:00\",\"2020-05-15T00:00:00\",\"2020-05-16T00:00:00\",\"2020-05-17T00:00:00\",\"2020-05-18T00:00:00\",\"2020-05-19T00:00:00\",\"2020-05-20T00:00:00\",\"2020-05-21T00:00:00\",\"2020-05-22T00:00:00\",\"2020-05-23T00:00:00\",\"2020-05-24T00:00:00\",\"2020-05-25T00:00:00\",\"2020-05-26T00:00:00\",\"2020-05-27T00:00:00\",\"2020-05-28T00:00:00\",\"2020-05-29T00:00:00\",\"2020-05-30T00:00:00\",\"2020-05-31T00:00:00\",\"2020-06-01T00:00:00\",\"2020-06-02T00:00:00\",\"2020-06-03T00:00:00\",\"2020-06-04T00:00:00\",\"2020-06-05T00:00:00\",\"2020-06-06T00:00:00\",\"2020-06-07T00:00:00\",\"2020-06-08T00:00:00\",\"2020-06-09T00:00:00\",\"2020-06-10T00:00:00\",\"2020-06-11T00:00:00\",\"2020-06-12T00:00:00\",\"2020-06-13T00:00:00\",\"2020-06-14T00:00:00\",\"2020-06-15T00:00:00\",\"2020-06-16T00:00:00\",\"2020-06-17T00:00:00\",\"2020-06-18T00:00:00\",\"2020-06-19T00:00:00\",\"2020-06-20T00:00:00\",\"2020-06-21T00:00:00\",\"2020-06-22T00:00:00\",\"2020-06-23T00:00:00\",\"2020-06-24T00:00:00\",\"2020-06-25T00:00:00\",\"2020-06-26T00:00:00\",\"2020-06-27T00:00:00\",\"2020-06-28T00:00:00\",\"2020-06-29T00:00:00\",\"2020-06-30T00:00:00\",\"2020-07-01T00:00:00\",\"2020-07-02T00:00:00\",\"2020-07-03T00:00:00\",\"2020-07-04T00:00:00\",\"2020-07-05T00:00:00\",\"2020-07-06T00:00:00\",\"2020-07-07T00:00:00\",\"2020-07-08T00:00:00\",\"2020-07-09T00:00:00\",\"2020-07-10T00:00:00\",\"2020-07-11T00:00:00\",\"2020-07-12T00:00:00\",\"2020-07-13T00:00:00\",\"2020-07-14T00:00:00\",\"2020-07-15T00:00:00\",\"2020-07-16T00:00:00\",\"2020-07-17T00:00:00\",\"2020-07-18T00:00:00\",\"2020-07-19T00:00:00\",\"2020-07-20T00:00:00\",\"2020-07-21T00:00:00\",\"2020-07-22T00:00:00\",\"2020-07-23T00:00:00\",\"2020-07-24T00:00:00\",\"2020-07-25T00:00:00\",\"2020-07-26T00:00:00\",\"2020-07-27T00:00:00\",\"2020-07-28T00:00:00\",\"2020-07-29T00:00:00\",\"2020-07-30T00:00:00\",\"2020-07-31T00:00:00\",\"2020-08-01T00:00:00\",\"2020-08-02T00:00:00\",\"2020-08-03T00:00:00\",\"2020-08-04T00:00:00\",\"2020-08-05T00:00:00\",\"2020-08-06T00:00:00\",\"2020-08-07T00:00:00\",\"2020-08-08T00:00:00\",\"2020-08-09T00:00:00\",\"2020-08-10T00:00:00\",\"2020-08-11T00:00:00\",\"2020-08-12T00:00:00\",\"2020-08-13T00:00:00\",\"2020-08-14T00:00:00\",\"2020-08-15T00:00:00\",\"2020-08-16T00:00:00\",\"2020-08-17T00:00:00\",\"2020-08-18T00:00:00\",\"2020-08-19T00:00:00\",\"2020-08-20T00:00:00\",\"2020-08-21T00:00:00\",\"2020-08-22T00:00:00\",\"2020-08-23T00:00:00\",\"2020-08-24T00:00:00\",\"2020-08-25T00:00:00\",\"2020-08-26T00:00:00\",\"2020-08-27T00:00:00\",\"2020-08-28T00:00:00\",\"2020-08-29T00:00:00\",\"2020-08-30T00:00:00\",\"2020-08-31T00:00:00\",\"2020-09-01T00:00:00\",\"2020-09-02T00:00:00\",\"2020-09-03T00:00:00\",\"2020-09-04T00:00:00\",\"2020-09-05T00:00:00\",\"2020-09-06T00:00:00\",\"2020-09-07T00:00:00\",\"2020-09-08T00:00:00\",\"2020-09-09T00:00:00\",\"2020-09-10T00:00:00\",\"2020-09-11T00:00:00\",\"2020-09-12T00:00:00\",\"2020-09-13T00:00:00\",\"2020-09-14T00:00:00\",\"2020-09-15T00:00:00\",\"2020-09-16T00:00:00\",\"2020-09-17T00:00:00\",\"2020-09-18T00:00:00\",\"2020-09-19T00:00:00\",\"2020-09-20T00:00:00\",\"2020-09-21T00:00:00\",\"2020-09-22T00:00:00\",\"2020-09-23T00:00:00\",\"2020-09-24T00:00:00\",\"2020-09-25T00:00:00\",\"2020-09-26T00:00:00\",\"2020-09-27T00:00:00\",\"2020-09-28T00:00:00\",\"2020-09-29T00:00:00\",\"2020-09-30T00:00:00\",\"2020-10-01T00:00:00\",\"2020-10-02T00:00:00\",\"2020-10-03T00:00:00\",\"2020-10-04T00:00:00\",\"2020-10-05T00:00:00\",\"2020-10-06T00:00:00\",\"2020-10-07T00:00:00\",\"2020-10-08T00:00:00\",\"2020-10-09T00:00:00\",\"2020-10-10T00:00:00\",\"2020-10-11T00:00:00\",\"2020-10-12T00:00:00\",\"2020-10-13T00:00:00\",\"2020-10-14T00:00:00\",\"2020-10-15T00:00:00\",\"2020-10-16T00:00:00\",\"2020-10-17T00:00:00\",\"2020-10-18T00:00:00\",\"2020-10-19T00:00:00\",\"2020-10-20T00:00:00\",\"2020-10-21T00:00:00\",\"2020-10-22T00:00:00\",\"2020-10-23T00:00:00\",\"2020-10-24T00:00:00\",\"2020-10-25T00:00:00\",\"2020-10-26T00:00:00\",\"2020-10-27T00:00:00\",\"2020-10-28T00:00:00\",\"2020-10-29T00:00:00\",\"2020-10-30T00:00:00\",\"2020-10-31T00:00:00\",\"2020-11-01T00:00:00\",\"2020-11-02T00:00:00\",\"2020-11-03T00:00:00\",\"2020-11-04T00:00:00\",\"2020-11-05T00:00:00\",\"2020-11-06T00:00:00\",\"2020-11-07T00:00:00\",\"2020-11-08T00:00:00\",\"2020-11-09T00:00:00\",\"2020-11-10T00:00:00\",\"2020-11-11T00:00:00\",\"2020-11-12T00:00:00\",\"2020-11-13T00:00:00\",\"2020-11-14T00:00:00\",\"2020-11-15T00:00:00\",\"2020-11-16T00:00:00\",\"2020-11-17T00:00:00\",\"2020-11-18T00:00:00\",\"2020-11-19T00:00:00\",\"2020-11-20T00:00:00\",\"2020-11-21T00:00:00\",\"2020-11-22T00:00:00\",\"2020-11-23T00:00:00\",\"2020-11-24T00:00:00\",\"2020-11-25T00:00:00\",\"2020-11-26T00:00:00\",\"2020-11-27T00:00:00\",\"2020-11-28T00:00:00\",\"2020-11-29T00:00:00\",\"2020-11-30T00:00:00\",\"2020-12-01T00:00:00\",\"2020-12-02T00:00:00\",\"2020-12-03T00:00:00\",\"2020-12-04T00:00:00\",\"2020-12-05T00:00:00\",\"2020-12-06T00:00:00\",\"2020-12-07T00:00:00\",\"2020-12-08T00:00:00\",\"2020-12-09T00:00:00\",\"2020-12-10T00:00:00\",\"2020-12-11T00:00:00\",\"2020-12-12T00:00:00\",\"2020-12-13T00:00:00\",\"2020-12-14T00:00:00\",\"2020-12-15T00:00:00\",\"2020-12-16T00:00:00\",\"2020-12-17T00:00:00\",\"2020-12-18T00:00:00\",\"2020-12-19T00:00:00\",\"2020-12-20T00:00:00\",\"2020-12-21T00:00:00\",\"2020-12-22T00:00:00\",\"2020-12-23T00:00:00\",\"2020-12-24T00:00:00\",\"2020-12-25T00:00:00\",\"2020-12-26T00:00:00\",\"2020-12-27T00:00:00\",\"2020-12-28T00:00:00\",\"2020-12-29T00:00:00\",\"2020-12-30T00:00:00\",\"2020-12-31T00:00:00\",\"2021-01-01T00:00:00\",\"2021-01-02T00:00:00\",\"2021-01-03T00:00:00\",\"2021-01-04T00:00:00\",\"2021-01-05T00:00:00\",\"2021-01-06T00:00:00\",\"2021-01-07T00:00:00\",\"2021-01-08T00:00:00\",\"2021-01-09T00:00:00\",\"2021-01-10T00:00:00\",\"2021-01-11T00:00:00\",\"2021-01-12T00:00:00\",\"2021-01-13T00:00:00\",\"2021-01-14T00:00:00\",\"2021-01-15T00:00:00\",\"2021-01-16T00:00:00\",\"2021-01-17T00:00:00\",\"2021-01-18T00:00:00\",\"2021-01-19T00:00:00\",\"2021-01-20T00:00:00\",\"2021-01-21T00:00:00\",\"2021-01-22T00:00:00\",\"2021-01-23T00:00:00\",\"2021-01-24T00:00:00\",\"2021-01-25T00:00:00\",\"2021-01-26T00:00:00\",\"2021-01-27T00:00:00\",\"2021-01-28T00:00:00\",\"2021-01-29T00:00:00\",\"2021-01-30T00:00:00\",\"2021-01-31T00:00:00\",\"2021-02-01T00:00:00\",\"2021-02-02T00:00:00\",\"2021-02-03T00:00:00\",\"2021-02-04T00:00:00\",\"2021-02-05T00:00:00\",\"2021-02-06T00:00:00\",\"2021-02-07T00:00:00\",\"2021-02-08T00:00:00\",\"2021-02-09T00:00:00\",\"2021-02-10T00:00:00\",\"2021-02-11T00:00:00\",\"2021-02-12T00:00:00\",\"2021-02-13T00:00:00\",\"2021-02-14T00:00:00\",\"2021-02-15T00:00:00\",\"2021-02-16T00:00:00\",\"2021-02-17T00:00:00\",\"2021-02-18T00:00:00\",\"2021-02-19T00:00:00\",\"2021-02-20T00:00:00\",\"2021-02-21T00:00:00\",\"2021-02-22T00:00:00\",\"2021-02-23T00:00:00\",\"2021-02-24T00:00:00\",\"2021-02-25T00:00:00\",\"2021-02-26T00:00:00\",\"2021-02-27T00:00:00\",\"2021-02-28T00:00:00\",\"2021-03-01T00:00:00\",\"2021-03-02T00:00:00\",\"2021-03-03T00:00:00\",\"2021-03-04T00:00:00\",\"2021-03-05T00:00:00\",\"2021-03-06T00:00:00\",\"2021-03-07T00:00:00\",\"2021-03-08T00:00:00\",\"2021-03-09T00:00:00\",\"2021-03-10T00:00:00\",\"2021-03-11T00:00:00\",\"2021-03-12T00:00:00\",\"2021-03-13T00:00:00\",\"2021-03-14T00:00:00\",\"2021-03-15T00:00:00\",\"2021-03-16T00:00:00\",\"2021-03-17T00:00:00\",\"2021-03-18T00:00:00\",\"2021-03-19T00:00:00\",\"2021-03-20T00:00:00\",\"2021-03-21T00:00:00\",\"2021-03-22T00:00:00\",\"2021-03-23T00:00:00\",\"2021-03-24T00:00:00\",\"2021-03-25T00:00:00\",\"2021-03-26T00:00:00\",\"2021-03-27T00:00:00\",\"2021-03-28T00:00:00\",\"2021-03-29T00:00:00\",\"2021-03-30T00:00:00\",\"2021-03-31T00:00:00\",\"2021-04-01T00:00:00\",\"2021-04-02T00:00:00\",\"2021-04-03T00:00:00\",\"2021-04-04T00:00:00\",\"2021-04-05T00:00:00\",\"2021-04-06T00:00:00\",\"2021-04-07T00:00:00\",\"2021-04-08T00:00:00\",\"2021-04-09T00:00:00\",\"2021-04-10T00:00:00\",\"2021-04-11T00:00:00\",\"2021-04-12T00:00:00\",\"2021-04-13T00:00:00\",\"2021-04-14T00:00:00\",\"2021-04-15T00:00:00\",\"2021-04-16T00:00:00\",\"2021-04-17T00:00:00\",\"2021-04-18T00:00:00\",\"2021-04-19T00:00:00\",\"2021-04-20T00:00:00\",\"2021-04-21T00:00:00\",\"2021-04-22T00:00:00\",\"2021-04-23T00:00:00\",\"2021-04-24T00:00:00\",\"2021-04-25T00:00:00\",\"2021-04-26T00:00:00\",\"2021-04-27T00:00:00\",\"2021-04-28T00:00:00\",\"2021-04-29T00:00:00\",\"2021-04-30T00:00:00\",\"2021-05-01T00:00:00\",\"2021-05-02T00:00:00\",\"2021-05-03T00:00:00\",\"2021-05-04T00:00:00\",\"2021-05-05T00:00:00\",\"2021-05-06T00:00:00\",\"2021-05-07T00:00:00\",\"2021-05-08T00:00:00\",\"2021-05-09T00:00:00\",\"2021-05-10T00:00:00\",\"2021-05-11T00:00:00\",\"2021-05-12T00:00:00\",\"2021-05-13T00:00:00\",\"2021-05-14T00:00:00\",\"2021-05-15T00:00:00\",\"2021-05-16T00:00:00\",\"2021-05-17T00:00:00\",\"2021-05-18T00:00:00\",\"2021-05-19T00:00:00\",\"2021-05-20T00:00:00\",\"2021-05-21T00:00:00\",\"2021-05-22T00:00:00\",\"2021-05-23T00:00:00\",\"2021-05-24T00:00:00\",\"2021-05-25T00:00:00\",\"2021-05-26T00:00:00\",\"2021-05-27T00:00:00\",\"2021-05-28T00:00:00\",\"2021-05-29T00:00:00\",\"2021-05-30T00:00:00\",\"2021-05-31T00:00:00\",\"2021-06-01T00:00:00\",\"2021-06-02T00:00:00\",\"2021-06-03T00:00:00\",\"2021-06-04T00:00:00\",\"2021-06-05T00:00:00\",\"2021-06-06T00:00:00\",\"2021-06-07T00:00:00\",\"2021-06-08T00:00:00\",\"2021-06-09T00:00:00\",\"2021-06-10T00:00:00\",\"2021-06-11T00:00:00\",\"2021-06-12T00:00:00\",\"2021-06-13T00:00:00\",\"2021-06-14T00:00:00\",\"2021-06-15T00:00:00\",\"2021-06-16T00:00:00\",\"2021-06-17T00:00:00\",\"2021-06-18T00:00:00\",\"2021-06-19T00:00:00\",\"2021-06-20T00:00:00\",\"2021-06-21T00:00:00\",\"2021-06-22T00:00:00\",\"2021-06-23T00:00:00\",\"2021-06-24T00:00:00\",\"2021-06-25T00:00:00\",\"2021-06-26T00:00:00\",\"2021-06-27T00:00:00\",\"2021-06-28T00:00:00\",\"2021-06-29T00:00:00\",\"2021-06-30T00:00:00\",\"2021-07-01T00:00:00\",\"2021-07-02T00:00:00\",\"2021-07-03T00:00:00\",\"2021-07-04T00:00:00\",\"2021-07-05T00:00:00\",\"2021-07-06T00:00:00\",\"2021-07-07T00:00:00\",\"2021-07-08T00:00:00\",\"2021-07-09T00:00:00\",\"2021-07-10T00:00:00\",\"2021-07-11T00:00:00\",\"2021-07-12T00:00:00\",\"2021-07-13T00:00:00\",\"2021-07-14T00:00:00\",\"2021-07-15T00:00:00\",\"2021-07-16T00:00:00\",\"2021-07-17T00:00:00\",\"2021-07-18T00:00:00\",\"2021-07-19T00:00:00\",\"2021-07-20T00:00:00\",\"2021-07-21T00:00:00\",\"2021-07-22T00:00:00\",\"2021-07-23T00:00:00\",\"2021-07-24T00:00:00\",\"2021-07-25T00:00:00\",\"2021-07-26T00:00:00\",\"2021-07-27T00:00:00\",\"2021-07-28T00:00:00\",\"2021-07-29T00:00:00\",\"2021-07-30T00:00:00\",\"2021-07-31T00:00:00\",\"2021-08-01T00:00:00\",\"2021-08-02T00:00:00\",\"2021-08-03T00:00:00\",\"2021-08-04T00:00:00\",\"2021-08-05T00:00:00\",\"2021-08-06T00:00:00\",\"2021-08-07T00:00:00\",\"2021-08-08T00:00:00\",\"2021-08-09T00:00:00\",\"2021-08-10T00:00:00\",\"2021-08-11T00:00:00\",\"2021-08-12T00:00:00\",\"2021-08-13T00:00:00\",\"2021-08-14T00:00:00\",\"2021-08-15T00:00:00\",\"2021-08-16T00:00:00\",\"2021-08-17T00:00:00\",\"2021-08-18T00:00:00\",\"2021-08-19T00:00:00\",\"2021-08-20T00:00:00\",\"2021-08-21T00:00:00\",\"2021-08-22T00:00:00\",\"2021-08-23T00:00:00\",\"2021-08-24T00:00:00\",\"2021-08-25T00:00:00\",\"2021-08-26T00:00:00\",\"2021-08-27T00:00:00\",\"2021-08-28T00:00:00\",\"2021-08-29T00:00:00\",\"2021-08-30T00:00:00\",\"2021-08-31T00:00:00\",\"2021-09-01T00:00:00\",\"2021-09-02T00:00:00\",\"2021-09-03T00:00:00\",\"2021-09-04T00:00:00\",\"2021-09-05T00:00:00\",\"2021-09-06T00:00:00\",\"2021-09-07T00:00:00\",\"2021-09-08T00:00:00\",\"2021-09-09T00:00:00\",\"2021-09-10T00:00:00\",\"2021-09-11T00:00:00\",\"2021-09-12T00:00:00\",\"2021-09-13T00:00:00\",\"2021-09-14T00:00:00\",\"2021-09-15T00:00:00\",\"2021-09-16T00:00:00\",\"2021-09-17T00:00:00\",\"2021-09-18T00:00:00\",\"2021-09-19T00:00:00\",\"2021-09-20T00:00:00\",\"2021-09-21T00:00:00\",\"2021-09-22T00:00:00\",\"2021-09-23T00:00:00\",\"2021-09-24T00:00:00\",\"2021-09-25T00:00:00\",\"2021-09-26T00:00:00\",\"2021-09-27T00:00:00\",\"2021-09-28T00:00:00\",\"2021-09-29T00:00:00\",\"2021-09-30T00:00:00\",\"2021-10-01T00:00:00\",\"2021-10-02T00:00:00\",\"2021-10-03T00:00:00\",\"2021-10-04T00:00:00\",\"2021-10-05T00:00:00\",\"2021-10-06T00:00:00\",\"2021-10-07T00:00:00\",\"2021-10-08T00:00:00\",\"2021-10-09T00:00:00\",\"2021-10-10T00:00:00\",\"2021-10-11T00:00:00\",\"2021-10-12T00:00:00\",\"2021-10-13T00:00:00\",\"2021-10-14T00:00:00\",\"2021-10-15T00:00:00\",\"2021-10-16T00:00:00\",\"2021-10-17T00:00:00\",\"2021-10-18T00:00:00\",\"2021-10-19T00:00:00\",\"2021-10-20T00:00:00\",\"2021-10-21T00:00:00\",\"2021-10-22T00:00:00\",\"2021-10-23T00:00:00\",\"2021-10-24T00:00:00\",\"2021-10-25T00:00:00\",\"2021-10-26T00:00:00\",\"2021-10-27T00:00:00\",\"2021-10-28T00:00:00\",\"2021-10-29T00:00:00\",\"2021-10-30T00:00:00\",\"2021-10-31T00:00:00\",\"2021-11-01T00:00:00\",\"2021-11-02T00:00:00\",\"2021-11-03T00:00:00\",\"2021-11-04T00:00:00\",\"2021-11-05T00:00:00\",\"2021-11-06T00:00:00\",\"2021-11-07T00:00:00\",\"2021-11-08T00:00:00\",\"2021-11-09T00:00:00\",\"2021-11-10T00:00:00\",\"2021-11-11T00:00:00\",\"2021-11-12T00:00:00\",\"2021-11-13T00:00:00\",\"2021-11-14T00:00:00\",\"2021-11-15T00:00:00\",\"2021-11-16T00:00:00\",\"2021-11-17T00:00:00\",\"2021-11-18T00:00:00\",\"2021-11-19T00:00:00\",\"2021-11-20T00:00:00\",\"2021-11-21T00:00:00\",\"2021-11-22T00:00:00\",\"2021-11-23T00:00:00\",\"2021-11-24T00:00:00\",\"2021-11-25T00:00:00\",\"2021-11-26T00:00:00\",\"2021-11-27T00:00:00\",\"2021-11-28T00:00:00\",\"2021-11-29T00:00:00\",\"2021-11-30T00:00:00\",\"2021-12-01T00:00:00\",\"2021-12-02T00:00:00\",\"2021-12-03T00:00:00\",\"2021-12-04T00:00:00\",\"2021-12-05T00:00:00\",\"2021-12-06T00:00:00\",\"2021-12-07T00:00:00\",\"2021-12-08T00:00:00\",\"2021-12-09T00:00:00\",\"2021-12-10T00:00:00\",\"2021-12-11T00:00:00\",\"2021-12-12T00:00:00\",\"2021-12-13T00:00:00\",\"2021-12-14T00:00:00\",\"2021-12-15T00:00:00\",\"2021-12-16T00:00:00\",\"2021-12-17T00:00:00\",\"2021-12-18T00:00:00\",\"2021-12-19T00:00:00\",\"2021-12-20T00:00:00\",\"2021-12-21T00:00:00\",\"2021-12-22T00:00:00\",\"2021-12-23T00:00:00\",\"2021-12-24T00:00:00\",\"2021-12-25T00:00:00\",\"2021-12-26T00:00:00\",\"2021-12-27T00:00:00\",\"2021-12-28T00:00:00\",\"2021-12-29T00:00:00\",\"2021-12-30T00:00:00\",\"2021-12-31T00:00:00\",\"2022-01-01T00:00:00\",\"2022-01-02T00:00:00\",\"2022-01-03T00:00:00\",\"2022-01-04T00:00:00\",\"2022-01-05T00:00:00\",\"2022-01-06T00:00:00\",\"2022-01-07T00:00:00\",\"2022-01-08T00:00:00\",\"2022-01-09T00:00:00\",\"2022-01-10T00:00:00\",\"2022-01-11T00:00:00\",\"2022-01-12T00:00:00\",\"2022-01-13T00:00:00\",\"2022-01-14T00:00:00\",\"2022-01-15T00:00:00\",\"2022-01-16T00:00:00\",\"2022-01-17T00:00:00\",\"2022-01-18T00:00:00\",\"2022-01-19T00:00:00\",\"2022-01-20T00:00:00\",\"2022-01-21T00:00:00\",\"2022-01-22T00:00:00\",\"2022-01-23T00:00:00\",\"2022-01-24T00:00:00\",\"2022-01-25T00:00:00\",\"2022-01-26T00:00:00\",\"2022-01-27T00:00:00\",\"2022-01-28T00:00:00\",\"2022-01-29T00:00:00\",\"2022-01-30T00:00:00\",\"2022-01-31T00:00:00\",\"2022-02-01T00:00:00\",\"2022-02-02T00:00:00\",\"2022-02-03T00:00:00\",\"2022-02-04T00:00:00\",\"2022-02-05T00:00:00\",\"2022-02-06T00:00:00\",\"2022-02-07T00:00:00\",\"2022-02-08T00:00:00\",\"2022-02-09T00:00:00\",\"2022-02-10T00:00:00\",\"2022-02-11T00:00:00\",\"2022-02-12T00:00:00\",\"2022-02-13T00:00:00\",\"2022-02-14T00:00:00\",\"2022-02-15T00:00:00\",\"2022-02-16T00:00:00\",\"2022-02-17T00:00:00\",\"2022-02-18T00:00:00\",\"2022-02-19T00:00:00\",\"2022-02-20T00:00:00\",\"2022-02-21T00:00:00\",\"2022-02-22T00:00:00\",\"2022-02-23T00:00:00\",\"2022-02-24T00:00:00\",\"2022-02-25T00:00:00\",\"2022-02-26T00:00:00\",\"2022-02-27T00:00:00\",\"2022-02-28T00:00:00\",\"2022-03-01T00:00:00\",\"2022-03-02T00:00:00\",\"2022-03-03T00:00:00\",\"2022-03-04T00:00:00\",\"2022-03-05T00:00:00\",\"2022-03-06T00:00:00\",\"2022-03-07T00:00:00\",\"2022-03-08T00:00:00\",\"2022-03-09T00:00:00\",\"2022-03-10T00:00:00\",\"2022-03-11T00:00:00\",\"2022-03-12T00:00:00\",\"2022-03-13T00:00:00\",\"2022-03-14T00:00:00\",\"2022-03-15T00:00:00\",\"2022-03-16T00:00:00\",\"2022-03-17T00:00:00\",\"2022-03-18T00:00:00\",\"2022-03-19T00:00:00\",\"2022-03-20T00:00:00\",\"2022-03-21T00:00:00\",\"2022-03-22T00:00:00\",\"2022-03-23T00:00:00\",\"2022-03-24T00:00:00\",\"2022-03-25T00:00:00\",\"2022-03-26T00:00:00\",\"2022-03-27T00:00:00\",\"2022-03-28T00:00:00\",\"2022-03-29T00:00:00\",\"2022-03-30T00:00:00\",\"2022-03-31T00:00:00\",\"2022-04-01T00:00:00\",\"2022-04-02T00:00:00\",\"2022-04-03T00:00:00\",\"2022-04-04T00:00:00\",\"2022-04-05T00:00:00\",\"2022-04-06T00:00:00\",\"2022-04-07T00:00:00\",\"2022-04-08T00:00:00\",\"2022-04-09T00:00:00\",\"2022-04-10T00:00:00\",\"2022-04-11T00:00:00\",\"2022-04-12T00:00:00\",\"2022-04-13T00:00:00\",\"2022-04-14T00:00:00\",\"2022-04-15T00:00:00\",\"2022-04-16T00:00:00\",\"2022-04-17T00:00:00\",\"2022-04-18T00:00:00\",\"2022-04-19T00:00:00\",\"2022-04-20T00:00:00\",\"2022-04-21T00:00:00\",\"2022-04-22T00:00:00\",\"2022-04-23T00:00:00\",\"2022-04-24T00:00:00\",\"2022-04-25T00:00:00\",\"2022-04-26T00:00:00\",\"2022-04-27T00:00:00\",\"2022-04-28T00:00:00\",\"2022-04-29T00:00:00\",\"2022-04-30T00:00:00\",\"2022-05-01T00:00:00\",\"2022-05-02T00:00:00\",\"2022-05-03T00:00:00\",\"2022-05-04T00:00:00\",\"2022-05-05T00:00:00\",\"2022-05-06T00:00:00\",\"2022-05-07T00:00:00\",\"2022-05-08T00:00:00\",\"2022-05-09T00:00:00\",\"2022-05-10T00:00:00\",\"2022-05-11T00:00:00\",\"2022-05-12T00:00:00\",\"2022-05-13T00:00:00\",\"2022-05-14T00:00:00\",\"2022-05-15T00:00:00\",\"2022-05-16T00:00:00\",\"2022-05-17T00:00:00\",\"2022-05-18T00:00:00\",\"2022-05-19T00:00:00\",\"2022-05-20T00:00:00\",\"2022-05-21T00:00:00\",\"2022-05-22T00:00:00\",\"2022-05-23T00:00:00\",\"2022-05-24T00:00:00\",\"2022-05-25T00:00:00\",\"2022-05-26T00:00:00\",\"2022-05-27T00:00:00\",\"2022-05-28T00:00:00\",\"2022-05-29T00:00:00\",\"2022-05-30T00:00:00\",\"2022-05-31T00:00:00\",\"2022-06-01T00:00:00\",\"2022-06-02T00:00:00\",\"2022-06-03T00:00:00\",\"2022-06-04T00:00:00\",\"2022-06-05T00:00:00\",\"2022-06-06T00:00:00\",\"2022-06-07T00:00:00\",\"2022-06-08T00:00:00\",\"2022-06-09T00:00:00\",\"2022-06-10T00:00:00\",\"2022-06-11T00:00:00\",\"2022-06-12T00:00:00\",\"2022-06-13T00:00:00\",\"2022-06-14T00:00:00\",\"2022-06-15T00:00:00\",\"2022-06-16T00:00:00\",\"2022-06-17T00:00:00\",\"2022-06-18T00:00:00\",\"2022-06-19T00:00:00\",\"2022-06-20T00:00:00\",\"2022-06-21T00:00:00\",\"2022-06-22T00:00:00\",\"2022-06-23T00:00:00\",\"2022-06-24T00:00:00\",\"2022-06-25T00:00:00\",\"2022-06-26T00:00:00\",\"2022-06-27T00:00:00\",\"2022-06-28T00:00:00\",\"2022-06-29T00:00:00\",\"2022-06-30T00:00:00\",\"2022-07-01T00:00:00\",\"2022-07-02T00:00:00\",\"2022-07-03T00:00:00\",\"2022-07-04T00:00:00\",\"2022-07-05T00:00:00\",\"2022-07-06T00:00:00\",\"2022-07-07T00:00:00\",\"2022-07-08T00:00:00\",\"2022-07-09T00:00:00\",\"2022-07-10T00:00:00\",\"2022-07-11T00:00:00\",\"2022-07-12T00:00:00\",\"2022-07-13T00:00:00\",\"2022-07-14T00:00:00\",\"2022-07-15T00:00:00\",\"2022-07-16T00:00:00\",\"2022-07-17T00:00:00\",\"2022-07-18T00:00:00\",\"2022-07-19T00:00:00\",\"2022-07-20T00:00:00\",\"2022-07-21T00:00:00\",\"2022-07-22T00:00:00\",\"2022-07-23T00:00:00\",\"2022-07-24T00:00:00\",\"2022-07-25T00:00:00\",\"2022-07-26T00:00:00\",\"2022-07-27T00:00:00\",\"2022-07-28T00:00:00\",\"2022-07-29T00:00:00\",\"2022-07-30T00:00:00\",\"2022-07-31T00:00:00\",\"2022-08-01T00:00:00\",\"2022-08-02T00:00:00\",\"2022-08-03T00:00:00\",\"2022-08-04T00:00:00\",\"2022-08-05T00:00:00\",\"2022-08-06T00:00:00\",\"2022-08-07T00:00:00\",\"2022-08-08T00:00:00\",\"2022-08-09T00:00:00\",\"2022-08-10T00:00:00\",\"2022-08-11T00:00:00\",\"2022-08-12T00:00:00\",\"2022-08-13T00:00:00\",\"2022-08-14T00:00:00\",\"2022-08-15T00:00:00\",\"2022-08-16T00:00:00\",\"2022-08-17T00:00:00\",\"2022-08-18T00:00:00\",\"2022-08-19T00:00:00\",\"2022-08-20T00:00:00\",\"2022-08-21T00:00:00\",\"2022-08-22T00:00:00\",\"2022-08-23T00:00:00\",\"2022-08-24T00:00:00\",\"2022-08-25T00:00:00\",\"2022-08-26T00:00:00\",\"2022-08-27T00:00:00\",\"2022-08-28T00:00:00\",\"2022-08-29T00:00:00\",\"2022-08-30T00:00:00\",\"2022-08-31T00:00:00\",\"2022-09-01T00:00:00\",\"2022-09-02T00:00:00\",\"2022-09-03T00:00:00\",\"2022-09-04T00:00:00\",\"2022-09-05T00:00:00\",\"2022-09-06T00:00:00\",\"2022-09-07T00:00:00\",\"2022-09-08T00:00:00\",\"2022-09-09T00:00:00\",\"2022-09-10T00:00:00\",\"2022-09-11T00:00:00\",\"2022-09-12T00:00:00\",\"2022-09-13T00:00:00\",\"2022-09-14T00:00:00\",\"2022-09-15T00:00:00\",\"2022-09-16T00:00:00\",\"2022-09-17T00:00:00\",\"2022-09-18T00:00:00\",\"2022-09-19T00:00:00\",\"2022-09-20T00:00:00\",\"2022-09-21T00:00:00\",\"2022-09-22T00:00:00\",\"2022-09-23T00:00:00\",\"2022-09-24T00:00:00\",\"2022-09-25T00:00:00\",\"2022-09-26T00:00:00\",\"2022-09-27T00:00:00\",\"2022-09-28T00:00:00\",\"2022-09-29T00:00:00\",\"2022-09-30T00:00:00\",\"2022-10-01T00:00:00\",\"2022-10-02T00:00:00\",\"2022-10-03T00:00:00\",\"2022-10-04T00:00:00\",\"2022-10-05T00:00:00\",\"2022-10-06T00:00:00\",\"2022-10-07T00:00:00\",\"2022-10-08T00:00:00\",\"2022-10-09T00:00:00\",\"2022-10-10T00:00:00\",\"2022-10-11T00:00:00\",\"2022-10-12T00:00:00\",\"2022-10-13T00:00:00\",\"2022-10-14T00:00:00\",\"2022-10-15T00:00:00\",\"2022-10-16T00:00:00\",\"2022-10-17T00:00:00\",\"2022-10-18T00:00:00\",\"2022-10-19T00:00:00\",\"2022-10-20T00:00:00\",\"2022-10-21T00:00:00\",\"2022-10-22T00:00:00\",\"2022-10-23T00:00:00\",\"2022-10-24T00:00:00\",\"2022-10-25T00:00:00\",\"2022-10-26T00:00:00\",\"2022-10-27T00:00:00\",\"2022-10-28T00:00:00\",\"2022-10-29T00:00:00\",\"2022-10-30T00:00:00\",\"2022-10-31T00:00:00\",\"2022-11-01T00:00:00\",\"2022-11-02T00:00:00\",\"2022-11-03T00:00:00\",\"2022-11-04T00:00:00\",\"2022-11-05T00:00:00\",\"2022-11-06T00:00:00\",\"2022-11-07T00:00:00\",\"2022-11-08T00:00:00\",\"2022-11-09T00:00:00\",\"2022-11-10T00:00:00\",\"2022-11-11T00:00:00\",\"2022-11-12T00:00:00\",\"2022-11-13T00:00:00\",\"2022-11-14T00:00:00\",\"2022-11-15T00:00:00\",\"2022-11-16T00:00:00\",\"2022-11-17T00:00:00\",\"2022-11-18T00:00:00\",\"2022-11-19T00:00:00\",\"2022-11-20T00:00:00\",\"2022-11-21T00:00:00\",\"2022-11-22T00:00:00\",\"2022-11-23T00:00:00\",\"2022-11-24T00:00:00\",\"2022-11-25T00:00:00\",\"2022-11-26T00:00:00\",\"2022-11-27T00:00:00\",\"2022-11-28T00:00:00\",\"2022-11-29T00:00:00\",\"2022-11-30T00:00:00\",\"2022-12-01T00:00:00\",\"2022-12-02T00:00:00\",\"2022-12-03T00:00:00\",\"2022-12-04T00:00:00\",\"2022-12-05T00:00:00\",\"2022-12-06T00:00:00\",\"2022-12-07T00:00:00\",\"2022-12-08T00:00:00\",\"2022-12-09T00:00:00\",\"2022-12-10T00:00:00\",\"2022-12-11T00:00:00\",\"2022-12-12T00:00:00\",\"2022-12-13T00:00:00\",\"2022-12-14T00:00:00\",\"2022-12-15T00:00:00\",\"2022-12-16T00:00:00\",\"2022-12-17T00:00:00\",\"2022-12-18T00:00:00\",\"2022-12-19T00:00:00\",\"2022-12-20T00:00:00\",\"2022-12-21T00:00:00\",\"2022-12-22T00:00:00\",\"2022-12-23T00:00:00\",\"2022-12-24T00:00:00\",\"2022-12-25T00:00:00\",\"2022-12-26T00:00:00\",\"2022-12-27T00:00:00\",\"2022-12-28T00:00:00\",\"2022-12-29T00:00:00\",\"2022-12-30T00:00:00\",\"2022-12-31T00:00:00\",\"2023-01-01T00:00:00\",\"2023-01-02T00:00:00\",\"2023-01-03T00:00:00\",\"2023-01-04T00:00:00\",\"2023-01-05T00:00:00\",\"2023-01-06T00:00:00\",\"2023-01-07T00:00:00\",\"2023-01-08T00:00:00\",\"2023-01-09T00:00:00\",\"2023-01-10T00:00:00\",\"2023-01-11T00:00:00\",\"2023-01-12T00:00:00\",\"2023-01-13T00:00:00\",\"2023-01-14T00:00:00\",\"2023-01-15T00:00:00\",\"2023-01-16T00:00:00\",\"2023-01-17T00:00:00\",\"2023-01-18T00:00:00\",\"2023-01-19T00:00:00\",\"2023-01-20T00:00:00\",\"2023-01-21T00:00:00\",\"2023-01-22T00:00:00\",\"2023-01-23T00:00:00\",\"2023-01-24T00:00:00\",\"2023-01-25T00:00:00\",\"2023-01-26T00:00:00\",\"2023-01-27T00:00:00\",\"2023-01-28T00:00:00\",\"2023-01-29T00:00:00\",\"2023-01-30T00:00:00\",\"2023-01-31T00:00:00\",\"2023-02-01T00:00:00\",\"2023-02-02T00:00:00\",\"2023-02-03T00:00:00\",\"2023-02-04T00:00:00\",\"2023-02-05T00:00:00\",\"2023-02-06T00:00:00\",\"2023-02-07T00:00:00\",\"2023-02-08T00:00:00\",\"2023-02-09T00:00:00\",\"2023-02-10T00:00:00\",\"2023-02-11T00:00:00\",\"2023-02-12T00:00:00\",\"2023-02-13T00:00:00\",\"2023-02-14T00:00:00\",\"2023-02-15T00:00:00\",\"2023-02-16T00:00:00\",\"2023-02-17T00:00:00\",\"2023-02-18T00:00:00\",\"2023-02-19T00:00:00\",\"2023-02-20T00:00:00\",\"2023-02-21T00:00:00\",\"2023-02-22T00:00:00\",\"2023-02-23T00:00:00\",\"2023-02-24T00:00:00\",\"2023-02-25T00:00:00\",\"2023-02-26T00:00:00\",\"2023-02-27T00:00:00\",\"2023-02-28T00:00:00\",\"2023-03-01T00:00:00\",\"2023-03-02T00:00:00\",\"2023-03-03T00:00:00\",\"2023-03-04T00:00:00\",\"2023-03-05T00:00:00\",\"2023-03-06T00:00:00\",\"2023-03-07T00:00:00\",\"2023-03-08T00:00:00\",\"2023-03-09T00:00:00\",\"2023-03-10T00:00:00\",\"2023-03-11T00:00:00\",\"2023-03-12T00:00:00\",\"2023-03-13T00:00:00\",\"2023-03-14T00:00:00\",\"2023-03-15T00:00:00\",\"2023-03-16T00:00:00\",\"2023-03-17T00:00:00\",\"2023-03-18T00:00:00\",\"2023-03-19T00:00:00\",\"2023-03-20T00:00:00\",\"2023-03-21T00:00:00\",\"2023-03-22T00:00:00\",\"2023-03-23T00:00:00\",\"2023-03-24T00:00:00\",\"2023-03-25T00:00:00\",\"2023-03-26T00:00:00\",\"2023-03-27T00:00:00\",\"2023-03-28T00:00:00\",\"2023-03-29T00:00:00\",\"2023-03-30T00:00:00\",\"2023-03-31T00:00:00\",\"2023-04-01T00:00:00\",\"2023-04-02T00:00:00\",\"2023-04-03T00:00:00\",\"2023-04-04T00:00:00\",\"2023-04-05T00:00:00\",\"2023-04-06T00:00:00\",\"2023-04-07T00:00:00\",\"2023-04-08T00:00:00\",\"2023-04-09T00:00:00\",\"2023-04-10T00:00:00\",\"2023-04-11T00:00:00\",\"2023-04-12T00:00:00\",\"2023-04-13T00:00:00\",\"2023-04-14T00:00:00\",\"2023-04-15T00:00:00\",\"2023-04-16T00:00:00\",\"2023-04-17T00:00:00\",\"2023-04-18T00:00:00\",\"2023-04-19T00:00:00\",\"2023-04-20T00:00:00\",\"2023-04-21T00:00:00\",\"2023-04-22T00:00:00\",\"2023-04-23T00:00:00\",\"2023-04-24T00:00:00\",\"2023-04-25T00:00:00\",\"2023-04-26T00:00:00\",\"2023-04-27T00:00:00\",\"2023-04-28T00:00:00\",\"2023-04-29T00:00:00\",\"2023-04-30T00:00:00\",\"2023-05-01T00:00:00\",\"2023-05-02T00:00:00\",\"2023-05-03T00:00:00\",\"2023-05-04T00:00:00\",\"2023-05-05T00:00:00\",\"2023-05-06T00:00:00\",\"2023-05-07T00:00:00\",\"2023-05-08T00:00:00\",\"2023-05-09T00:00:00\",\"2023-05-10T00:00:00\",\"2023-05-11T00:00:00\",\"2023-05-12T00:00:00\",\"2023-05-13T00:00:00\",\"2023-05-14T00:00:00\",\"2023-05-15T00:00:00\",\"2023-05-16T00:00:00\",\"2023-05-17T00:00:00\",\"2023-05-18T00:00:00\",\"2023-05-19T00:00:00\",\"2023-05-20T00:00:00\",\"2023-05-21T00:00:00\",\"2023-05-22T00:00:00\",\"2023-05-23T00:00:00\",\"2023-05-24T00:00:00\",\"2023-05-25T00:00:00\",\"2023-05-26T00:00:00\",\"2023-05-27T00:00:00\",\"2023-05-28T00:00:00\",\"2023-05-29T00:00:00\",\"2023-05-30T00:00:00\",\"2023-05-31T00:00:00\",\"2023-06-01T00:00:00\",\"2023-06-02T00:00:00\",\"2023-06-03T00:00:00\",\"2023-06-04T00:00:00\",\"2023-06-05T00:00:00\",\"2023-06-06T00:00:00\",\"2023-06-07T00:00:00\",\"2023-06-08T00:00:00\",\"2023-06-09T00:00:00\",\"2023-06-10T00:00:00\",\"2023-06-11T00:00:00\",\"2023-06-12T00:00:00\",\"2023-06-13T00:00:00\",\"2023-06-14T00:00:00\",\"2023-06-15T00:00:00\",\"2023-06-16T00:00:00\",\"2023-06-17T00:00:00\",\"2023-06-18T00:00:00\",\"2023-06-19T00:00:00\",\"2023-06-20T00:00:00\",\"2023-06-21T00:00:00\",\"2023-06-22T00:00:00\",\"2023-06-23T00:00:00\",\"2023-06-24T00:00:00\",\"2023-06-25T00:00:00\",\"2023-06-26T00:00:00\",\"2023-06-27T00:00:00\",\"2023-06-28T00:00:00\",\"2023-06-29T00:00:00\",\"2023-06-30T00:00:00\",\"2023-07-01T00:00:00\",\"2023-07-02T00:00:00\",\"2023-07-03T00:00:00\",\"2023-07-04T00:00:00\",\"2023-07-05T00:00:00\",\"2023-07-06T00:00:00\",\"2023-07-07T00:00:00\",\"2023-07-08T00:00:00\",\"2023-07-09T00:00:00\",\"2023-07-10T00:00:00\",\"2023-07-11T00:00:00\",\"2023-07-12T00:00:00\",\"2023-07-13T00:00:00\",\"2023-07-14T00:00:00\",\"2023-07-15T00:00:00\",\"2023-07-16T00:00:00\",\"2023-07-17T00:00:00\",\"2023-07-18T00:00:00\",\"2023-07-19T00:00:00\",\"2023-07-20T00:00:00\",\"2023-07-21T00:00:00\",\"2023-07-22T00:00:00\",\"2023-07-23T00:00:00\",\"2023-07-24T00:00:00\",\"2023-07-25T00:00:00\",\"2023-07-26T00:00:00\",\"2023-07-27T00:00:00\",\"2023-07-28T00:00:00\",\"2023-07-29T00:00:00\",\"2023-07-30T00:00:00\",\"2023-07-31T00:00:00\",\"2023-08-01T00:00:00\",\"2023-08-02T00:00:00\",\"2023-08-03T00:00:00\",\"2023-08-04T00:00:00\",\"2023-08-05T00:00:00\",\"2023-08-06T00:00:00\",\"2023-08-07T00:00:00\",\"2023-08-08T00:00:00\",\"2023-08-09T00:00:00\",\"2023-08-10T00:00:00\",\"2023-08-11T00:00:00\",\"2023-08-12T00:00:00\",\"2023-08-13T00:00:00\",\"2023-08-14T00:00:00\",\"2023-08-15T00:00:00\",\"2023-08-16T00:00:00\",\"2023-08-17T00:00:00\",\"2023-08-18T00:00:00\",\"2023-08-19T00:00:00\",\"2023-08-20T00:00:00\",\"2023-08-21T00:00:00\",\"2023-08-22T00:00:00\",\"2023-08-23T00:00:00\",\"2023-08-24T00:00:00\",\"2023-08-25T00:00:00\",\"2023-08-26T00:00:00\",\"2023-08-27T00:00:00\",\"2023-08-28T00:00:00\",\"2023-08-29T00:00:00\",\"2023-08-30T00:00:00\",\"2023-08-31T00:00:00\",\"2023-09-01T00:00:00\",\"2023-09-02T00:00:00\",\"2023-09-03T00:00:00\",\"2023-09-04T00:00:00\",\"2023-09-05T00:00:00\",\"2023-09-06T00:00:00\",\"2023-09-07T00:00:00\",\"2023-09-08T00:00:00\",\"2023-09-09T00:00:00\",\"2023-09-10T00:00:00\",\"2023-09-11T00:00:00\",\"2023-09-12T00:00:00\",\"2023-09-13T00:00:00\",\"2023-09-14T00:00:00\",\"2023-09-15T00:00:00\",\"2023-09-16T00:00:00\",\"2023-09-17T00:00:00\",\"2023-09-18T00:00:00\",\"2023-09-19T00:00:00\",\"2023-09-20T00:00:00\",\"2023-09-21T00:00:00\",\"2023-09-22T00:00:00\",\"2023-09-23T00:00:00\",\"2023-09-24T00:00:00\",\"2023-09-25T00:00:00\",\"2023-09-26T00:00:00\",\"2023-09-27T00:00:00\",\"2023-09-28T00:00:00\",\"2023-09-29T00:00:00\",\"2023-09-30T00:00:00\",\"2023-10-01T00:00:00\",\"2023-10-02T00:00:00\",\"2023-10-03T00:00:00\",\"2023-10-04T00:00:00\",\"2023-10-05T00:00:00\",\"2023-10-06T00:00:00\",\"2023-10-07T00:00:00\",\"2023-10-08T00:00:00\",\"2023-10-09T00:00:00\",\"2023-10-10T00:00:00\",\"2023-10-11T00:00:00\",\"2023-10-12T00:00:00\",\"2023-10-13T00:00:00\",\"2023-10-14T00:00:00\",\"2023-10-15T00:00:00\",\"2023-10-16T00:00:00\",\"2023-10-17T00:00:00\",\"2023-10-18T00:00:00\",\"2023-10-19T00:00:00\",\"2023-10-20T00:00:00\",\"2023-10-21T00:00:00\",\"2023-10-22T00:00:00\",\"2023-10-23T00:00:00\",\"2023-10-24T00:00:00\",\"2023-10-25T00:00:00\",\"2023-10-26T00:00:00\",\"2023-10-27T00:00:00\",\"2023-10-28T00:00:00\",\"2023-10-29T00:00:00\",\"2023-10-30T00:00:00\",\"2023-10-31T00:00:00\",\"2023-11-01T00:00:00\",\"2023-11-02T00:00:00\",\"2023-11-03T00:00:00\",\"2023-11-04T00:00:00\",\"2023-11-05T00:00:00\",\"2023-11-06T00:00:00\",\"2023-11-07T00:00:00\",\"2023-11-08T00:00:00\",\"2023-11-09T00:00:00\",\"2023-11-10T00:00:00\",\"2023-11-11T00:00:00\",\"2023-11-12T00:00:00\",\"2023-11-13T00:00:00\",\"2023-11-14T00:00:00\",\"2023-11-15T00:00:00\",\"2023-11-16T00:00:00\",\"2023-11-17T00:00:00\",\"2023-11-18T00:00:00\",\"2023-11-19T00:00:00\",\"2023-11-20T00:00:00\",\"2023-11-21T00:00:00\",\"2023-11-22T00:00:00\",\"2023-11-23T00:00:00\",\"2023-11-24T00:00:00\",\"2023-11-25T00:00:00\",\"2023-11-26T00:00:00\",\"2023-11-27T00:00:00\",\"2023-11-28T00:00:00\",\"2023-11-29T00:00:00\",\"2023-11-30T00:00:00\",\"2023-12-01T00:00:00\",\"2023-12-02T00:00:00\",\"2023-12-03T00:00:00\",\"2023-12-04T00:00:00\",\"2023-12-05T00:00:00\",\"2023-12-06T00:00:00\",\"2023-12-07T00:00:00\",\"2023-12-08T00:00:00\",\"2023-12-09T00:00:00\",\"2023-12-10T00:00:00\",\"2023-12-11T00:00:00\",\"2023-12-12T00:00:00\",\"2023-12-13T00:00:00\",\"2023-12-14T00:00:00\",\"2023-12-15T00:00:00\",\"2023-12-16T00:00:00\",\"2023-12-17T00:00:00\",\"2023-12-18T00:00:00\",\"2023-12-19T00:00:00\",\"2023-12-20T00:00:00\",\"2023-12-21T00:00:00\",\"2023-12-22T00:00:00\",\"2023-12-23T00:00:00\",\"2023-12-24T00:00:00\",\"2023-12-25T00:00:00\",\"2023-12-26T00:00:00\",\"2023-12-27T00:00:00\",\"2023-12-28T00:00:00\",\"2023-12-29T00:00:00\",\"2023-12-30T00:00:00\",\"2023-12-31T00:00:00\",\"2024-01-01T00:00:00\",\"2024-01-02T00:00:00\",\"2024-01-03T00:00:00\",\"2024-01-04T00:00:00\",\"2024-01-05T00:00:00\",\"2024-01-06T00:00:00\",\"2024-01-07T00:00:00\",\"2024-01-08T00:00:00\",\"2024-01-09T00:00:00\",\"2024-01-10T00:00:00\",\"2024-01-11T00:00:00\",\"2024-01-12T00:00:00\",\"2024-01-13T00:00:00\",\"2024-01-14T00:00:00\",\"2024-01-15T00:00:00\",\"2024-01-16T00:00:00\",\"2024-01-17T00:00:00\",\"2024-01-18T00:00:00\",\"2024-01-19T00:00:00\",\"2024-01-20T00:00:00\",\"2024-01-21T00:00:00\",\"2024-01-22T00:00:00\",\"2024-01-23T00:00:00\",\"2024-01-24T00:00:00\",\"2024-01-25T00:00:00\",\"2024-01-26T00:00:00\",\"2024-01-27T00:00:00\",\"2024-01-28T00:00:00\",\"2024-01-29T00:00:00\",\"2024-01-30T00:00:00\",\"2024-01-31T00:00:00\",\"2024-02-01T00:00:00\",\"2024-02-02T00:00:00\",\"2024-02-03T00:00:00\",\"2024-02-04T00:00:00\",\"2024-02-05T00:00:00\",\"2024-02-06T00:00:00\",\"2024-02-07T00:00:00\",\"2024-02-08T00:00:00\",\"2024-02-09T00:00:00\",\"2024-02-10T00:00:00\",\"2024-02-11T00:00:00\",\"2024-02-12T00:00:00\",\"2024-02-13T00:00:00\",\"2024-02-14T00:00:00\",\"2024-02-15T00:00:00\",\"2024-02-16T00:00:00\",\"2024-02-17T00:00:00\",\"2024-02-18T00:00:00\",\"2024-02-19T00:00:00\",\"2024-02-20T00:00:00\",\"2024-02-21T00:00:00\",\"2024-02-22T00:00:00\",\"2024-02-23T00:00:00\",\"2024-02-24T00:00:00\",\"2024-02-25T00:00:00\",\"2024-02-26T00:00:00\",\"2024-02-27T00:00:00\",\"2024-02-28T00:00:00\",\"2024-02-29T00:00:00\",\"2024-03-01T00:00:00\",\"2024-03-02T00:00:00\",\"2024-03-03T00:00:00\",\"2024-03-04T00:00:00\",\"2024-03-05T00:00:00\",\"2024-03-06T00:00:00\",\"2024-03-07T00:00:00\",\"2024-03-08T00:00:00\",\"2024-03-09T00:00:00\",\"2024-03-10T00:00:00\",\"2024-03-11T00:00:00\",\"2024-03-12T00:00:00\",\"2024-03-13T00:00:00\",\"2024-03-14T00:00:00\",\"2024-03-15T00:00:00\",\"2024-03-16T00:00:00\",\"2024-03-17T00:00:00\",\"2024-03-18T00:00:00\",\"2024-03-19T00:00:00\",\"2024-03-20T00:00:00\",\"2024-03-21T00:00:00\",\"2024-03-22T00:00:00\",\"2024-03-23T00:00:00\",\"2024-03-24T00:00:00\",\"2024-03-25T00:00:00\",\"2024-03-26T00:00:00\",\"2024-03-27T00:00:00\",\"2024-03-28T00:00:00\",\"2024-03-29T00:00:00\",\"2024-03-30T00:00:00\",\"2024-03-31T00:00:00\",\"2024-04-01T00:00:00\",\"2024-04-02T00:00:00\",\"2024-04-03T00:00:00\",\"2024-04-04T00:00:00\",\"2024-04-05T00:00:00\",\"2024-04-06T00:00:00\",\"2024-04-07T00:00:00\",\"2024-04-08T00:00:00\",\"2024-04-09T00:00:00\",\"2024-04-10T00:00:00\",\"2024-04-11T00:00:00\",\"2024-04-12T00:00:00\",\"2024-04-13T00:00:00\",\"2024-04-14T00:00:00\",\"2024-04-15T00:00:00\",\"2024-04-16T00:00:00\",\"2024-04-17T00:00:00\",\"2024-04-18T00:00:00\",\"2024-04-19T00:00:00\",\"2024-04-20T00:00:00\",\"2024-04-21T00:00:00\",\"2024-04-22T00:00:00\",\"2024-04-23T00:00:00\",\"2024-04-24T00:00:00\",\"2024-04-25T00:00:00\",\"2024-04-26T00:00:00\",\"2024-04-27T00:00:00\",\"2024-04-28T00:00:00\",\"2024-04-29T00:00:00\",\"2024-04-30T00:00:00\",\"2024-05-01T00:00:00\",\"2024-05-02T00:00:00\",\"2024-05-03T00:00:00\",\"2024-05-04T00:00:00\",\"2024-05-05T00:00:00\",\"2024-05-06T00:00:00\",\"2024-05-07T00:00:00\",\"2024-05-08T00:00:00\",\"2024-05-09T00:00:00\",\"2024-05-10T00:00:00\",\"2024-05-11T00:00:00\",\"2024-05-12T00:00:00\",\"2024-05-13T00:00:00\",\"2024-05-14T00:00:00\",\"2024-05-15T00:00:00\",\"2024-05-16T00:00:00\",\"2024-05-17T00:00:00\",\"2024-05-18T00:00:00\",\"2024-05-19T00:00:00\",\"2024-05-20T00:00:00\",\"2024-05-21T00:00:00\",\"2024-05-22T00:00:00\",\"2024-05-23T00:00:00\",\"2024-05-24T00:00:00\",\"2024-05-25T00:00:00\",\"2024-05-26T00:00:00\",\"2024-05-27T00:00:00\",\"2024-05-28T00:00:00\",\"2024-05-29T00:00:00\",\"2024-05-30T00:00:00\",\"2024-05-31T00:00:00\",\"2024-06-01T00:00:00\",\"2024-06-02T00:00:00\",\"2024-06-03T00:00:00\"],\"y\":[52.16220272179359,52.02390814071131,52.52798922727788,51.59746041203212,52.29016338394127,52.40998587349653,52.93823605203454,53.509687987643524,53.7117976273303,53.55292003241579,53.26373377218595,52.96365061673762,54.574388963243244,54.13851264721627,54.805014513145004,54.401533149006504,55.0121079115479,54.073096692595996,54.82661174379357,55.08863334015043,55.153305690001815,55.213438558983036,55.90193370958421,54.794913022978264,55.223433543980626,54.65416623572948,56.39067137088432,55.29325360953092,55.86757670538879,55.51035207815397,55.11064567255171,55.01595862833777,54.32787368676651,55.349603368858865,54.474915346776385,55.323055347970744,54.472849791014504,54.762493642184495,54.29980872514867,53.86119723268603,55.35854735709627,54.0349675437516,54.64540655160731,54.853576378453496,55.12280116002529,54.841147854874364,54.11120704923573,55.30269290223803,55.257565290679175,56.10844285519814,55.110700952198705,55.27538973130945,55.339470829601005,55.23941816959063,55.96250879001024,55.5253567926311,55.77954570896525,55.95083663323086,55.554667297154104,55.814619598839116,55.927730154011414,55.70064893885395,56.1243872062007,55.997705760724784,55.0209134390212,55.40793762330377,54.53865735323756,53.84974439211442,55.77011185552836,55.20773483835978,55.489500927746505,54.16799894459602,54.461620775599755,54.38123876145146,54.07127208991906,55.06893592251732,53.93010709572844,54.57156589052294,53.921658798068776,54.513989594477486,54.13139849994931,53.903790704757576,56.32500716650357,54.36174163476512,55.67199463729917,55.04963218959932,55.60881757262142,55.322827870166925,54.985789457471064,55.47509400986673,55.41170502733118,56.088495445356145,56.143591639245514,55.89974128862412,56.08364625016128,55.311364200715,56.653710203258385,56.5574464136517,56.55086792242971,55.75438999132958,56.19240539498338,55.97221692616355,54.75692093010278,56.462434516211346,56.21260126859505,55.54745230978935,55.77397256978146,55.4456500962501,55.40661392575565,54.729144211919724,55.253331548388516,54.32740114478926,54.60514717912331,54.07705341691321,53.77015577129797,53.48852395588835,52.57892114432783,54.279810011333936,53.58449748461955,53.78649111926975,53.609277806531274,52.99220036789381,54.44541001822352,53.62041854436152,54.36941795367559,54.30573277513384,54.35202654493482,53.612256454382035,53.818243417142874,53.100441720680394,53.12616259783767,54.172774149854924,54.21194896521777,54.55091983521264,53.674836719714705,53.89709199457243,54.223751904235364,53.78158883308816,55.036123962615285,53.96712031969027,54.57644489498423,54.87692201788659,53.67841184465561,53.6310188288246,53.811688979405695,55.022280128284386,54.57169139706027,53.59754912806335,54.33420586978682,54.0928400901451,53.19198420671966,53.82246650701522,54.18339746117997,54.101948442565806,54.82757912840438,53.997757907156384,54.338165134315034,54.15674643639667,53.95575880780664,55.15305264054431,53.92046238004038,55.093342376433625,54.597916222753625,54.281019870977865,54.658718655946174,54.966079265505556,55.5397851083938,54.73180053813414,55.28931332007867,55.11361033871633,54.58871336934201,54.82647430555121,54.0837388521354,54.874676431219875,54.042789309708844,55.15956943488846,55.03694663407078,54.03982736385753,55.25458216606865,53.95109229842336,53.9841341709402,54.291402669015525,55.2920120555709,54.54410987567868,55.34554927765215,54.14651211754347,54.00810915140871,54.52988021423361,54.53871120417883,56.16338723115707,54.87598493836626,55.14683585806812,54.58639270665005,54.28455916832972,55.08548313722807,55.099237282917294,55.47998327533141,55.473415149516896,55.271526639468505,55.16579003783316,54.838996466445856,55.28352906837608,56.68482449296611,56.18063695898432,55.820474847440856,55.7084332812371,55.26126397454052,54.64376955053548,55.79498100998988,54.99927195211175,56.09619345300033,54.98196982897461,55.50296181942298,55.2605148195462,54.83097967281171,55.62666713577709,54.897575289371225,54.98155976068381,54.48024795505508,54.71734196341947,54.19588179782853,54.60904396236528,55.4887142598515,54.70886234386186,54.80202128532706,54.953258503432586,54.29225115345666,54.42916885186092,53.86698462454002,54.76083841222026,53.703337558520566,55.03559733905874,54.466525746858984,54.36589873987277,54.707934974482654,54.61692970194352,55.40716141413908,55.203282640842275,55.15293810832897,54.98682693655022,55.41537613089348,54.799060648649295,54.333528917841946,55.124846088547464,55.427514920466876,55.306047800717714,55.27782015333447,54.47101338803046,54.37352809601908,53.591186890067185,54.72734255621,54.02611004272769,54.48592728974636,54.633339077045285,53.11109079507746,54.12117706481014,53.92151582626035,53.91085951257571,53.86125569733148,54.190272918989514,53.53207003873148,53.64980833528033,53.56045503665384,53.65373754075897,54.44542716560666,54.92847583635646,54.43037783961306,54.173201413409,53.83749948021597,54.18699276114663,53.928194758065516,55.129626961084284,54.79038158556829,55.5887713986237,55.18915298607104,54.82686993660509,55.67119679675715,54.85677860898176,56.28132207085771,56.28534033966624,56.05489138790736,56.18851738284787,56.3264803848056,56.08073001302172,55.512538163594925,56.78899908231676,55.406172636691515,56.718670986037296,56.19699907032647,55.66865218352011,55.967355557201564,55.88662224842759,56.82733945019111,55.07644273556744,55.91756541365136,55.918253476672476,54.903683998104775,55.48205239409839,54.899035788558734,56.17396405085596,55.125482549664504,55.15274031160523,54.97522719468696,54.91953906392776,54.932517377824304,53.90366691929016,55.45706439851747,53.52087591550459,54.62862651558011,54.20424123391562,54.368462705004944,53.84447064820528,54.29142947663346,54.55833957930112,54.229198024951295,54.5183547423259,54.85281854987575,53.23900726730667,53.715479573161225,53.932322340656654,54.36176061891723,54.05042915641258,54.77355966292748,53.89091154095746,53.140393037412636,53.48247892822706,52.4594662465828,53.75189682843573,53.73112399189234,54.58795675859452,53.77286103322476,53.82460266656506,53.93055497340561,52.900981421731124,54.73571946051174,54.27646312481071,55.02072622765767,54.51996491320626,54.13846093600487,53.45485332440193,53.41056520618496,54.83652397976113,53.685994417035275,54.12727924275519,54.191145420236566,54.142668098937385,53.54078002094713,53.740015790632405,54.440565491293434,53.2560816847124,54.51586126268027,54.21212984376652,53.867169592433534,52.89980957213126,52.83295853996742,53.47768146234227,53.43660963123135,53.84587234334586,53.524367602747574,51.91587411406177,52.38328358441375,52.28794247682683,52.39373222242323,53.32753935983496,52.980841382807924,52.43801329672457,52.452971777684006,52.702942363090905,53.20517220593756,54.01885673838931,53.171114776217735,53.85133039649209,53.571095591203374,52.871571365351855,53.1868616592948,53.604219012260735,54.2366190135181,54.70101786741347,55.38918135925512,55.23697666997955,54.43729553653796,55.18642672567389,54.40102009727177,56.177001532851904,55.72843737509311,56.64480608684243,55.73136492187947,55.19809866704052,55.4238687337059,55.304501254603615,55.841573836562596,55.42885029347425,56.39482393424546,55.79711799104243,55.544101151175944,55.638350445193275,55.291271684286095,55.42562477624009,54.92567026472701,56.03118247278731,54.732542525395445,55.22285988476487,55.2052032593253,54.15916145360703,55.31287246968905,54.28704877816353,55.124749441608564,54.77180919807565,54.8010750114458,54.8700808128965,55.21653513603064,55.21251955047009,54.575844483035475,55.87672722717437,55.69963490830136,55.45234544510798,55.741034080635075,55.3582902111337,56.15275537288112,55.881460330815315,56.96527378669441,56.736630780536814,55.46286829141786,56.0149652890707,56.613519367125306,56.62303493950069,56.25668057381158,57.08021701999237,55.983906272382995,55.693491342729885,55.094576139811366,55.58313487290618,56.33305437588049,55.066246251344154,55.74132113125739,55.17140792473384,55.04659128365525,54.54944935470442,54.772318095961104,55.13700877845657,55.110103612995836,55.427830016525135,55.00647036880445,54.245323038087115,54.78152340873859,54.470753097904776,55.455507944535775,55.00705509260741,55.94723501284465,55.42528524438519,55.45518184219291,55.31279507321427,55.44435844813385,56.47705516718253,56.463588184969566,56.795273742598724,56.36247055765197,55.85877808608942,55.72326030779276,56.20539095086663,57.10473171890956,56.30992297815589,56.29053801489668,56.87974817678126,56.72722692674966,56.06370465622914,56.523536846723424,56.59968349111223,57.304238903220224,57.37000862129968,56.406839454021274,55.52180655132415,55.30725579111848,54.60423323512525,55.73580246380119,55.83554098891734,55.17153775553778,55.415868116822274,54.684416536757745,55.18013665469417,54.50387305947008,54.65234426761249,54.431321942571884,55.010614992950025,53.75558499752211,53.47628004950952,53.8162702132216,53.456672763169195,54.633349931987475,54.49046313384526,54.807041506893626,54.09395428417796,54.06126233273829,53.98485340366634,53.84944999366144,54.896082902510955,54.14281220566755,55.219468762203704,54.42868641422554,53.47278271331068,54.14948185087949,53.51921668371574,54.48007612435261,54.741968453830616,54.76738609438267,54.88363469669107,53.829239577589824,53.742432066033345,53.73762177534293,54.49120481947848,54.52191731257811,54.941503271076044,55.0135933972138,54.131184292361674,54.10321012690724,53.92883097914773,55.39082684907503,54.02936292927883,55.04610888820238,54.32095336828491,54.565872219501216,54.340439903832376,54.53006618114499,55.118880506356426,55.12976219219745,55.464906557744456,54.812239396975684,55.32803723140149,54.916675150937444,55.00094180325041,55.198221210690754,55.34678994100793,55.66811634605966,55.52118606553459,55.45838397398275,55.546916651920206,54.580374289153966,56.36664273389468,55.191246986575905,54.989676943674695,55.10716725290202,55.574735553451006,54.6819246768146,54.79918685940797,54.76456694834694,54.15482705859962,55.247022883257905,55.22683780400451,55.06840246235353,54.456375619954905,54.402943032460335,55.526327384635835,55.03317006548291,55.6994920458099,54.48136409838122,54.79727004603293,55.32314455012644,54.89334542952777,56.08054396468926,55.59043697881411,56.1651156533688,55.19388321094634,55.35818673191556,55.53548777074709,55.216749114767744,56.32845756939969,55.917187532489685,55.91087468798573,56.884059094005366,55.636867755470654,55.54204034673976,55.46777820652155,56.29219005510504,55.866455722137374,56.30520526200277,55.458209204618974,55.664956762651684,55.7620994538724,55.29017479109383,55.826351685845935,55.62663640348404,55.91634258220926,54.93818973072516,55.16221446049594,55.60544182341243,55.00386202983231,55.2176972539948,55.06402171293716,55.266054191645274,54.44518520986495,55.16319275702039,54.72184041751427,54.29471684685494,55.48225365479341,54.83334640235837,55.45807162388614,55.04074513966493,55.107494762416515,55.037137408506304,54.45350431760105,55.95101544485774,55.53508308849644,55.53821822687554,55.36054734786373,55.78496815996345,55.90780112258257,54.857976938840345,56.660064059950074,55.2162187937767,56.54779365788803,55.380912845276754,55.83046054894281,54.861888624084294,54.92452552349438,55.45736156786489,54.18998156532251,55.174936389244245,54.58566703122321,54.037752388625606,53.47883838794758,54.159911626107935,54.128684804034556,53.657264112999016,54.60849999055926,53.88908683651617,54.34132677132064,54.21176663748151,53.71287403388918,54.45426924586862,54.8769580419967,55.179031492048,54.62168656367716,54.168874217281676,54.836451642107605,54.24126147906025,55.02257151723514,55.13471479413689,55.86476497206876,55.12971071184756,55.44046542718519,56.17443813028484,56.102534331496926,56.67177011890381,56.459195495065195,56.04367362928636,56.123725947624415,57.28203617828384,56.1207060627464,56.091920402992585,57.05891707719154,56.108256144471305,56.6623384632395,56.78145652975782,56.343722725013166,57.180033315727876,55.831322911894034,56.24523253288722,56.3503797826174,57.190736971671626,55.59439693903979,56.38078218818255,55.60964691505932,55.31060828930296,56.308321703123234,56.32093580064254,55.809207266452304,55.32899740113956,54.598036908964815,55.055756647203296,54.61436609000426,55.25214626408316,55.241114453380185,55.79669207901249,54.64916320919129,55.27766903272417,54.693610408539854,54.348596282623845,55.32365054650686,54.82620507167504,54.88520816016067,55.50861174554475,54.154886817596605,54.76484587705522,54.3595637879483,55.113538615686004,54.429785472661266,55.225206474577234,53.99608660450991,54.29752498943837,54.2857673366942,53.86773771638317,54.63865306581887,54.06442479174297,54.39814222590436,54.07599814885901,54.277478414964655,54.28985708540554,53.782280085427274,55.15062781532855,54.27672550804102,54.97791457057801,54.80268565108973,54.971341808940245,54.71239538649531,53.975756678257014,54.76565686647105,54.713187657328085,55.0769972834972,55.12357038173891,54.02971825293133,54.217575379254555,54.66672548827929,55.351883206304386,54.34257798360974,55.207835230050215,54.85101342396964,54.45559106863144,54.19801801679949,53.734655167005904,54.291864616523256,54.541090984826006,54.724192216993536,53.538361482429565,53.38187041641448,53.78265577535078,53.48838461443088,54.14079386457218,53.5291570732527,54.20684537540372,53.120622342371504,53.717201308685006,53.51808949163972,52.676185675042376,54.268631852174124,53.09182602769742,54.07302875189531,54.681295520545035,53.63225806000414,54.64329599374926,53.78892795905504,54.86851436353066,54.69259475698293,56.02927995308116,55.52574232442309,54.7629325383792,56.03872245909901,55.49840767460048,55.78788157262626,55.978411256722566,56.68513660584497,56.125200827852225,56.25699268147996,56.00486080947636,55.69680481585361,57.47378844689008,57.037263383396756,56.76564835967915,55.328066141604744,55.83844114611483,56.73363061441841,56.03068469257726,56.02885920085557,56.3127315360285,55.909353857272436,55.659535251185034,55.37194077774672,55.500547630662396,54.56384963810869,55.99642067226622,55.56265485452927,56.07064765587766,56.01181115517303,55.608556050132755,55.10768115627417,55.0013374783314,55.68160736220668,56.00737611341368,55.97903248935977,56.03415086531239,55.37736270535955,55.86569391545949,55.77822836609722,56.950143807391335,56.51732613639229,57.60004366401957,57.319561640466375,56.95762345094014,56.614445232463034,55.700663927116935,57.27678185822345,57.12329057719829,57.124381167769414,56.84281265592785,56.46584333216633,55.8169372702328,56.35809960267303,56.21076544782748,55.97540960390445,56.366124102920956,56.53560542600174,55.40638677541802,55.662848360377176,55.76018298752091,55.662014227733536,55.09267254967238,55.477706837746354,55.53904403650765,54.718922124409644,55.025871980495964,54.19808766527532,55.71477111629464,55.68259480032517,56.315734473053155,55.69717829288871,55.51708659817956,55.18896302453326,55.79121806289573,56.19018179112523,55.29436573221795,57.13308936886617,57.166662525035356,56.08308911663079,56.184519493974996,56.75196763550984,57.296286782008,57.12483095699559,57.74211481796184,57.14867252652043,57.964659273924234,56.51373969995803,55.97774568414424,57.51788308911434,55.73748635475919,58.23402068432262,56.795303541725474,56.213791847333674,56.56834414073966,55.594616114671695,56.56251152108191,56.246032526276316,56.64884408612426,55.511170276064306,55.9063816100571,55.20632813965204,54.53730967735382,55.18481200202002,55.95381034031937,54.8477103536442,54.04021519248902,54.53060690821128,53.36464222003109,54.4333757455464,54.52629817442473,53.32826882308403,54.692367312568315,54.49993480938808,54.76497865203851,53.64741662012989,53.90876518999278,54.71573037469588,54.08347629450476,55.1638266134342,54.11391898326211,54.51138952737568,54.563622520092785,54.17351858969581,55.42630747114163,53.98392590283684,54.682093038516165,54.11550438713357,55.47938802912923,54.49041329743006,54.96357385504582,55.33329569206921,54.37789288779145,54.980544824626186,54.722580407087385,54.47234355918101,54.30681367294415,54.32527729567535,55.20698473874353,54.19331884937009,54.80642143693684,54.61323939804653,55.50286007682687,54.90307369716301,54.61924261181198,55.51652220968822,55.07418121661428,55.483079715331904,55.675056664269015,54.66682077796381,55.091907237264344,54.90113196193018,55.99978208036644,55.144572919641114,56.20790183996409,55.236388859390544,55.802465291537786,53.830570818292976,54.86591274801365,55.32170557889309,55.619949602456124,55.30366206492586,55.02345798735407,54.90112729754018,54.649528847653954,54.05375154581437,55.02947198892404,54.7908462572919,55.53100925684686,54.97555844530577,54.67564995262839,54.16745527387225,54.096819564891625,54.89061840881763,55.089863513613786,54.77458250355956,54.76932585891365,54.74749214770651,54.70891633353286,54.438779904861654,55.78973499962418,55.53423933574142,55.764196884484335,55.006921840352064,55.86071690818782,54.10312588102123,54.18328244102607,56.32405152342324,55.27716403580269,56.01980456733287,55.15008300726563,55.1868885063652,56.15004395334817,55.15753261033288,56.0206089821495,55.189333196719105,56.00492199068101,55.23047746846328,55.87273979747912,55.125885266914146,54.4076351549394,54.489472674592854,55.39182602800253,55.73998709024918,54.58591329432509,54.39022056266614,54.491061505134205,54.04442420948584,54.95601360164274,54.047040287445604,55.14428070953863,54.19634452341121,53.85431076528847,53.871829761825275,54.36345256035475,54.864038587326114,54.715574877059105,54.18173290529443,54.469897170343344,53.071742322381375,54.57889749914001,54.48619231714975,54.9226604340713,54.85970833268111,54.5098027959908,54.50294667922633,54.37768218295123,54.293730993727,54.63466814550043,54.884411955296315,54.26145817464603,55.32124560510011,54.53433588010583,55.0047785865925,54.11069850707732,53.3209999780829,54.75074464942568,53.659588797466355,54.96247661865264,54.58733113798632,53.36654264746882,53.23105691668799,53.55466928731963,54.25376595653202,53.32994959896022,53.49664195351996,52.76307880049413,52.71165430258559,52.32546833554709,52.84353484174526,54.103729990645256,53.55396902617093,53.6349859614986,54.09077596609724,53.07442609678918,53.557675268285195,53.24132630677641,53.881366361972454,54.117034270089626,54.87028000213952,54.32366388162709,54.08804612320324,55.485266539421396,54.83836460881553,54.41432762404536,54.883354683465456,55.79600478930852,54.681606647552115,55.28876024138397,55.17754681644856,54.585638027582824,57.10352358814045,55.589146430361595,56.51610433977501,55.08157170620374,55.84656377898492,55.300045755277885,55.05469758941996,55.7893237861402,55.634488203045244,55.08296718086955,56.0961382321579,54.66112300018536,54.43437661966549,54.497016542504326,54.72461091858458,54.86701003767352,54.89350359384001,54.10657492940717,54.56109157062194,54.444990085744415,54.299202845350045,54.314845210322304,54.34336554924453,54.254499449467254,54.429957920932836,53.912114086664204,53.60329673588785,53.828922728700874,53.84298732289959,53.78781058911052,54.26682467392917,54.053482237835986,53.545048796888736,52.96881159620713,53.37869213997387,53.70652069654146,52.73810361532549,54.012818293423095,53.39387326246449,53.60407691126313,52.70381430671762,53.21854533369932,53.60817213011334,53.444083451848975,53.78344654509658,53.50933840889821,53.13191980437518,53.42746644463726,53.00363458947782,53.75497159512523,52.95036439198678,53.84667185603511,54.116575977075016,53.477161521214036,53.25017271446971,53.04402996135447,54.02056451335842,53.438372962802795,54.32979564899936,53.461729729129175,53.99493205491536,52.75894348936311,53.01334918960473,54.7553812627952,52.71779980728275,54.09587237453844,53.96122064256932,53.348960965514806,53.36914079544535,52.82965408613099,53.26209217450569,53.41906178465214,53.51963092111828,52.111077223600375,52.5593724081415,52.57830992377858,52.55001591549436,53.213340803634466,51.377895717088734,52.71930754906976,52.62104433178578,52.18983636211913,52.43203379296011,52.06835318129346,53.26620624592485,52.63750769997007,53.23280756968885,53.215990133588335,52.02214924974934,52.27696931977463,53.17590761534867,53.88916281675183,53.76179854903117,54.34537485455105,54.57031968698349,54.33635519203986,54.708307961279885,54.01826273736494,55.608791838105304,54.6597014121874,55.674998009241286,55.304947362411,55.45070224224468,55.58730071906235,55.77811652820374,56.133034108437855,55.61802984086007,55.04425169452444,55.92319889481512,55.74580240657924,55.37296826509704,54.687228506535504,55.771113488849196,54.82116279856583,56.19015398238814,55.24625505946,55.02981468797639,55.37866206730229,54.54796119822693,54.75784834645434,54.21525124009413,55.61000681397395,55.469029773958674,55.1399129586383,54.62744757058977,54.64852169784312,55.56490980072964,54.90777213503507,55.680210783803716,55.0887531914514,54.82605306235219,55.54830796248187,55.5032105940256,55.876290802842284,56.1252354187689,56.77565912273501,56.29816821628973,56.74011733006993,55.871254478680555,55.50472600838998,56.5751785597532,56.76134054128394,56.734946425842935,56.46791675332628,56.63181588245386,56.24319468223927,56.182670036657605,56.39571706674332,56.25214110559766,56.38460359348023,55.76036407718805,55.720527227007835,55.354350679885414,55.75856627264207,56.348215744975725,54.87865740316982,55.17442286560947,55.024683637236194,54.5271477609985,55.53000205069966,54.535779607772334,55.361272855334526,55.00476883881477,55.84833105565668,55.28894771201225,54.82147312669894,55.44561839327135,55.535689981402875,55.32467478442235,55.70592023135859,56.21753951249248,56.4422790924841,56.54058276448245,55.98186745263512,56.08888662267023,56.57457269232661,56.37295165678342,57.56253963742373,57.174468747414494,56.96978728983351,56.6239486641878,56.8387744322383,57.472439951772145,57.26930224778842,57.264101971248685,56.69174866822532,56.76993684506657,55.77391501619571,55.562722615032754,56.5957875804536,56.80021343603447,56.46576806481427,55.7179028051738,55.78411611225356,55.17287559901313,55.16849716464127,55.89108602937766,54.629013599688655,56.175114416416946,54.35444171308773,54.65712086854405,54.60157794782394,53.70404124324231,54.77289726915226,54.273189920052864,54.6232073258246,54.44316001534067,54.14801181398801,54.48177153129038,53.57871514481113,54.747942263579205,54.32008561606688,55.066776956017215,54.588864409988325,55.09098210941662,53.736430886831286,54.65111772663335,55.499026987174396,54.856705932023594,55.080316962776614,55.609076589725454,54.8674932486426,55.48870668875352,54.26484489349434,55.30723757895056,55.386902937065734,55.822272768621744,54.26218141753379,54.8750242672125,55.186777150488204,54.3442137754712,55.53274850320822,54.29696193008982,55.9114289510763,55.26678567147769,55.34075643418234,55.67130483513278,54.87582386107637,56.02424762076956,54.81139161627559,56.286454453274665,55.26235938766142,55.546149479298954,55.06339334981,55.082286735131525,56.058594004934896,56.07103599478267,56.875220561030964,55.80701228861843,55.41736178394396,56.27378579200632,55.12733831129741,56.54957280217929,56.549729521013035,56.242998149369335,56.52989284886374,55.13863959995607,55.43513234801056,54.63164561269002,56.487414131897715,55.6428624567209,55.798925715636535,55.43406041844513,56.06856340992319,54.17111452637414,55.00807555228322,56.121641028386605,56.070804473054636,55.993906171500726,55.63567429459863,55.34998475332392,55.5759349123395,55.39561209737097,56.58158811066387,55.1947679751211,55.704671812895945,55.578393056355125,56.61313607997974,56.12888938527566,55.38012639150858,57.26544797307236,56.57875284171547,56.560250836473315,56.47711625815627,56.24538187630812,56.06194614086756,56.35854134802624,57.175294274315654,56.1550595355766,57.027618050939715,56.42535105989515,56.36037035175877,56.343837156139436,55.96141564977435,56.27744905227333,56.543419853128114,56.33735382242217,55.33635996251498,55.639077498780814,55.15208403244076,55.138154358192814,55.76155853181768,55.00731338737966,55.96030906949635,55.52723667156179,54.76331087088416,55.486782861418426,54.429844774629885,55.98049881295652,54.909097836380596,55.90414796092486,54.87585795915139,54.87650190789485,55.33195379233317,54.37065798010255,55.243802152494794,55.860737280347095,56.55788760295401,55.981621983651166,55.50598583772912,56.06493270557617,55.13158523145429,56.65633558983762,55.52964795233712,56.12346235931122,55.88906919132057,55.55351478464225,54.98705795608663,54.372072822582574,56.37189037190362,55.74131260225678,55.69078484702071,54.887348380014316,55.165606585044735,54.8497871603872,54.79833531584273,54.54019393694772,54.5663730232018,55.30549540480652,54.546398309328445,53.80960550230624,54.8904069380509,54.4408473117407,53.923660351368795,54.779251755966555,55.54672641787665,54.45808669056734,54.55597741277188,53.8101077362764,54.48789495737995,55.28999984406754,55.7407889045426,55.89774591300744,55.319241086654664,55.39294745312346,55.1994680161986,54.965942817520705,56.49139302133595,56.37261760919287,56.371285781461424,56.23061644468898,56.08786525727346,56.267015055544,55.65343241709441,56.70389797174688,56.13741987700751,57.09378831029753,56.64643970564895,56.440013612381144,56.41103259645897,55.19383853575597,56.795384759085195,56.343778136254286,57.272722251006094,56.54027627588389,55.847632499393306,55.737707102036566,55.19578089533862,55.93045507509091,55.609463692968674,56.17585156404124,56.040632872288406,56.17660882899713,55.367993041462235,55.692443089280175,55.43789494812693,55.7127469353137,55.715309686843135,54.475281556692025,55.087508296411656,54.67261810811789,54.70062168066998,55.714059684589834,54.512516879007876,54.56566919814445,54.127080045715324,54.41479637854566,54.03882272995447,53.38915007896061,54.80798898746034,54.405867943919056,54.46428806721673,54.51568176213012,54.704271492283645,53.400034525646724,54.10084321151117,54.571187009849616,54.154605946386866,54.77904446875587,53.924772610693395,54.40399034197814,54.22948854017886,53.981871267380235,54.582811835684204,53.72475095941227,55.37542828130826,54.136473754700674,54.305640848075754,53.990352897395894,54.93085156857598,55.01081124496352,53.980383138362626,54.87821170253995,54.29407785689932,54.14720400710876,53.69911565439464,54.06360746009338,55.13085975005854,54.13805346834719,54.806989150413095,54.27976605423463,54.39624815012385,53.63850103334466,53.52095104460755,54.38107149591181,53.9891621870999,54.23992641669245,53.38473296047719,52.813942779233905,53.56115958303458,53.60036319444926,53.80207618462991,53.25326931481949,53.65842078621201,52.960542029279864,53.28305831905055,52.51661081636491,52.378458584081386,52.96541686922314,51.922656101853896,53.46655343902733,53.007947652844784,53.02663000375264,52.45007393394015,53.38995892378172,53.505240998815395,53.23310738900935,54.17154393089366,53.8728129054788,53.92063116448202,54.637540526833384,53.950245212008426,55.26426165021973,54.93758012319483,55.85545205908549,54.45392932287889,55.30064209955608,55.61222646483328,55.397519073405775,56.43016241368126,55.78889283505865,56.54597962876968,55.72807984041082,55.22144077743852,56.07142811467586,55.01957276715768,56.50379653936763,55.64436802608976,55.944896653220475,55.03236957829707,55.46965665274213,54.47623689468542,55.00315118760784,55.77468567616182,54.83196788804926,54.71373522727143,54.84375339464427,54.23972782001832,55.25532925536396,54.017747745710025,55.8630888385521,54.122522895570555,55.245640382493484,54.77709789252175,54.61500605509437,54.81227530936921,54.51343386245898,55.637113690666055,55.11992323779474,56.35098374975584,55.660566801297904,55.56380249752077,55.77773839839975,55.717755756346726,56.4768832586427,55.90848918563198,56.11885757197827,55.572455170984846,55.96083355444084,55.163970296914165,55.38302175058362,56.060290275471075,55.356329084038414,56.03892762074729,55.49941614762361,54.738571474324,55.48817077922013,54.36675754925662,55.46043977549152,54.77714378582768,55.529701344134985,54.34060333044541,54.15398767932698,54.256770737102116,54.39425944363701,55.02575381027212,53.87435635897128,54.43335866034698,54.622886358132796,54.084576104235936,54.633704647906086,54.06311104833842,55.59307793299579,54.55237614966332,55.70847788299542,55.33449145022575,54.922354545543556,55.82465533978219,54.92028269995131,55.80291768743244,56.000601259136985,56.41438941778682,55.715925307123086,55.63379136378708,56.58771551564955,55.86580947097568,57.14643833953485,56.10745517017836,56.428507842925015,55.90448156820857,55.58373373469851,55.04780107274511,55.684224582620274,56.138413726130004,55.09835040656329,55.53521494627275,54.791716903968016,55.044083700698394,54.67667703403331,54.072920352153446,55.198849644506524,54.17138644275122,54.777905317648674,53.54026502853269,53.8828906621708,53.63208359111869,53.16033012418574,52.18190443795637,52.91327992723504,53.83490779278125,53.444588372012525,52.85168812905393,52.57389047307157,53.112368777858,54.215361953092874,53.74803894106813,53.37459591618418,53.85717114563595,53.34464501608433,53.7031711354623,52.505247035863725,53.858193763943035,53.5589755603327,54.58513136231275,53.54033385186532,54.14209001263493,53.365050380458314,53.19173545474768,53.41646250320325,53.17419289724689,54.13524142633139,53.2232160399046,53.64003931001274,53.83894004491834,54.036694816548994,54.004451457803015,53.968988692153886,54.31855573840598,54.379787389389186,53.39363146111395,53.24268414583075,53.61632843831961,54.66979395308866],\"type\":\"scatter\"},{\"fill\":\"tonexty\",\"fillcolor\":\"rgba(16,185,129,0.15)\",\"line\":{\"width\":0},\"mode\":\"lines\",\"name\":\"Forecast interval\",\"x\":[\"2020-01-01T00:00:00\",\"2020-01-02T00:00:00\",\"2020-01-03T00:00:00\",\"2020-01-04T00:00:00\",\"2020-01-05T00:00:00\",\"2020-01-06T00:00:00\",\"2020-01-07T00:00:00\",\"2020-01-08T00:00:00\",\"2020-01-09T00:00:00\",\"2020-01-10T00:00:00\",\"2020-01-11T00:00:00\",\"2020-01-12T00:00:00\",\"2020-01-13T00:00:00\",\"2020-01-14T00:00:00\",\"2020-01-15T00:00:00\",\"2020-01-16T00:00:00\",\"2020-01-17T00:00:00\",\"2020-01-18T00:00:00\",\"2020-01-19T00:00:00\",\"2020-01-20T00:00:00\",\"2020-01-21T00:00:00\",\"2020-01-22T00:00:00\",\"2020-01-23T00:00:00\",\"2020-01-24T00:00:00\",\"2020-01-25T00:00:00\",\"2020-01-26T00:00:00\",\"2020-01-27T00:00:00\",\"2020-01-28T00:00:00\",\"2020-01-29T00:00:00\",\"2020-01-30T00:00:00\",\"2020-01-31T00:00:00\",\"2020-02-01T00:00:00\",\"2020-02-02T00:00:00\",\"2020-02-03T00:00:00\",\"2020-02-04T00:00:00\",\"2020-02-05T00:00:00\",\"2020-02-06T00:00:00\",\"2020-02-07T00:00:00\",\"2020-02-08T00:00:00\",\"2020-02-09T00:00:00\",\"2020-02-10T00:00:00\",\"2020-02-11T00:00:00\",\"2020-02-12T00:00:00\",\"2020-02-13T00:00:00\",\"2020-02-14T00:00:00\",\"2020-02-15T00:00:00\",\"2020-02-16T00:00:00\",\"2020-02-17T00:00:00\",\"2020-02-18T00:00:00\",\"2020-02-19T00:00:00\",\"2020-02-20T00:00:00\",\"2020-02-21T00:00:00\",\"2020-02-22T00:00:00\",\"2020-02-23T00:00:00\",\"2020-02-24T00:00:00\",\"2020-02-25T00:00:00\",\"2020-02-26T00:00:00\",\"2020-02-27T00:00:00\",\"2020-02-28T00:00:00\",\"2020-02-29T00:00:00\",\"2020-03-01T00:00:00\",\"2020-03-02T00:00:00\",\"2020-03-03T00:00:00\",\"2020-03-04T00:00:00\",\"2020-03-05T00:00:00\",\"2020-03-06T00:00:00\",\"2020-03-07T00:00:00\",\"2020-03-08T00:00:00\",\"2020-03-09T00:00:00\",\"2020-03-10T00:00:00\",\"2020-03-11T00:00:00\",\"2020-03-12T00:00:00\",\"2020-03-13T00:00:00\",\"2020-03-14T00:00:00\",\"2020-03-15T00:00:00\",\"2020-03-16T00:00:00\",\"2020-03-17T00:00:00\",\"2020-03-18T00:00:00\",\"2020-03-19T00:00:00\",\"2020-03-20T00:00:00\",\"2020-03-21T00:00:00\",\"2020-03-22T00:00:00\",\"2020-03-23T00:00:00\",\"2020-03-24T00:00:00\",\"2020-03-25T00:00:00\",\"2020-03-26T00:00:00\",\"2020-03-27T00:00:00\",\"2020-03-28T00:00:00\",\"2020-03-29T00:00:00\",\"2020-03-30T00:00:00\",\"2020-03-31T00:00:00\",\"2020-04-01T00:00:00\",\"2020-04-02T00:00:00\",\"2020-04-03T00:00:00\",\"2020-04-04T00:00:00\",\"2020-04-05T00:00:00\",\"2020-04-06T00:00:00\",\"2020-04-07T00:00:00\",\"2020-04-08T00:00:00\",\"2020-04-09T00:00:00\",\"2020-04-10T00:00:00\",\"2020-04-11T00:00:00\",\"2020-04-12T00:00:00\",\"2020-04-13T00:00:00\",\"2020-04-14T00:00:00\",\"2020-04-15T00:00:00\",\"2020-04-16T00:00:00\",\"2020-04-17T00:00:00\",\"2020-04-18T00:00:00\",\"2020-04-19T00:00:00\",\"2020-04-20T00:00:00\",\"2020-04-21T00:00:00\",\"2020-04-22T00:00:00\",\"2020-04-23T00:00:00\",\"2020-04-24T00:00:00\",\"2020-04-25T00:00:00\",\"2020-04-26T00:00:00\",\"2020-04-27T00:00:00\",\"2020-04-28T00:00:00\",\"2020-04-29T00:00:00\",\"2020-04-30T00:00:00\",\"2020-05-01T00:00:00\",\"2020-05-02T00:00:00\",\"2020-05-03T00:00:00\",\"2020-05-04T00:00:00\",\"2020-05-05T00:00:00\",\"2020-05-06T00:00:00\",\"2020-05-07T00:00:00\",\"2020-05-08T00:00:00\",\"2020-05-09T00:00:00\",\"2020-05-10T00:00:00\",\"2020-05-11T00:00:00\",\"2020-05-12T00:00:00\",\"2020-05-13T00:00:00\",\"2020-05-14T00:00:00\",\"2020-05-15T00:00:00\",\"2020-05-16T00:00:00\",\"2020-05-17T00:00:00\",\"2020-05-18T00:00:00\",\"2020-05-19T00:00:00\",\"2020-05-20T00:00:00\",\"2020-05-21T00:00:00\",\"2020-05-22T00:00:00\",\"2020-05-23T00:00:00\",\"2020-05-24T00:00:00\",\"2020-05-25T00:00:00\",\"2020-05-26T00:00:00\",\"2020-05-27T00:00:00\",\"2020-05-28T00:00:00\",\"2020-05-29T00:00:00\",\"2020-05-30T00:00:00\",\"2020-05-31T00:00:00\",\"2020-06-01T00:00:00\",\"2020-06-02T00:00:00\",\"2020-06-03T00:00:00\",\"2020-06-04T00:00:00\",\"2020-06-05T00:00:00\",\"2020-06-06T00:00:00\",\"2020-06-07T00:00:00\",\"2020-06-08T00:00:00\",\"2020-06-09T00:00:00\",\"2020-06-10T00:00:00\",\"2020-06-11T00:00:00\",\"2020-06-12T00:00:00\",\"2020-06-13T00:00:00\",\"2020-06-14T00:00:00\",\"2020-06-15T00:00:00\",\"2020-06-16T00:00:00\",\"2020-06-17T00:00:00\",\"2020-06-18T00:00:00\",\"2020-06-19T00:00:00\",\"2020-06-20T00:00:00\",\"2020-06-21T00:00:00\",\"2020-06-22T00:00:00\",\"2020-06-23T00:00:00\",\"2020-06-24T00:00:00\",\"2020-06-25T00:00:00\",\"2020-06-26T00:00:00\",\"2020-06-27T00:00:00\",\"2020-06-28T00:00:00\",\"2020-06-29T00:00:00\",\"2020-06-30T00:00:00\",\"2020-07-01T00:00:00\",\"2020-07-02T00:00:00\",\"2020-07-03T00:00:00\",\"2020-07-04T00:00:00\",\"2020-07-05T00:00:00\",\"2020-07-06T00:00:00\",\"2020-07-07T00:00:00\",\"2020-07-08T00:00:00\",\"2020-07-09T00:00:00\",\"2020-07-10T00:00:00\",\"2020-07-11T00:00:00\",\"2020-07-12T00:00:00\",\"2020-07-13T00:00:00\",\"2020-07-14T00:00:00\",\"2020-07-15T00:00:00\",\"2020-07-16T00:00:00\",\"2020-07-17T00:00:00\",\"2020-07-18T00:00:00\",\"2020-07-19T00:00:00\",\"2020-07-20T00:00:00\",\"2020-07-21T00:00:00\",\"2020-07-22T00:00:00\",\"2020-07-23T00:00:00\",\"2020-07-24T00:00:00\",\"2020-07-25T00:00:00\",\"2020-07-26T00:00:00\",\"2020-07-27T00:00:00\",\"2020-07-28T00:00:00\",\"2020-07-29T00:00:00\",\"2020-07-30T00:00:00\",\"2020-07-31T00:00:00\",\"2020-08-01T00:00:00\",\"2020-08-02T00:00:00\",\"2020-08-03T00:00:00\",\"2020-08-04T00:00:00\",\"2020-08-05T00:00:00\",\"2020-08-06T00:00:00\",\"2020-08-07T00:00:00\",\"2020-08-08T00:00:00\",\"2020-08-09T00:00:00\",\"2020-08-10T00:00:00\",\"2020-08-11T00:00:00\",\"2020-08-12T00:00:00\",\"2020-08-13T00:00:00\",\"2020-08-14T00:00:00\",\"2020-08-15T00:00:00\",\"2020-08-16T00:00:00\",\"2020-08-17T00:00:00\",\"2020-08-18T00:00:00\",\"2020-08-19T00:00:00\",\"2020-08-20T00:00:00\",\"2020-08-21T00:00:00\",\"2020-08-22T00:00:00\",\"2020-08-23T00:00:00\",\"2020-08-24T00:00:00\",\"2020-08-25T00:00:00\",\"2020-08-26T00:00:00\",\"2020-08-27T00:00:00\",\"2020-08-28T00:00:00\",\"2020-08-29T00:00:00\",\"2020-08-30T00:00:00\",\"2020-08-31T00:00:00\",\"2020-09-01T00:00:00\",\"2020-09-02T00:00:00\",\"2020-09-03T00:00:00\",\"2020-09-04T00:00:00\",\"2020-09-05T00:00:00\",\"2020-09-06T00:00:00\",\"2020-09-07T00:00:00\",\"2020-09-08T00:00:00\",\"2020-09-09T00:00:00\",\"2020-09-10T00:00:00\",\"2020-09-11T00:00:00\",\"2020-09-12T00:00:00\",\"2020-09-13T00:00:00\",\"2020-09-14T00:00:00\",\"2020-09-15T00:00:00\",\"2020-09-16T00:00:00\",\"2020-09-17T00:00:00\",\"2020-09-18T00:00:00\",\"2020-09-19T00:00:00\",\"2020-09-20T00:00:00\",\"2020-09-21T00:00:00\",\"2020-09-22T00:00:00\",\"2020-09-23T00:00:00\",\"2020-09-24T00:00:00\",\"2020-09-25T00:00:00\",\"2020-09-26T00:00:00\",\"2020-09-27T00:00:00\",\"2020-09-28T00:00:00\",\"2020-09-29T00:00:00\",\"2020-09-30T00:00:00\",\"2020-10-01T00:00:00\",\"2020-10-02T00:00:00\",\"2020-10-03T00:00:00\",\"2020-10-04T00:00:00\",\"2020-10-05T00:00:00\",\"2020-10-06T00:00:00\",\"2020-10-07T00:00:00\",\"2020-10-08T00:00:00\",\"2020-10-09T00:00:00\",\"2020-10-10T00:00:00\",\"2020-10-11T00:00:00\",\"2020-10-12T00:00:00\",\"2020-10-13T00:00:00\",\"2020-10-14T00:00:00\",\"2020-10-15T00:00:00\",\"2020-10-16T00:00:00\",\"2020-10-17T00:00:00\",\"2020-10-18T00:00:00\",\"2020-10-19T00:00:00\",\"2020-10-20T00:00:00\",\"2020-10-21T00:00:00\",\"2020-10-22T00:00:00\",\"2020-10-23T00:00:00\",\"2020-10-24T00:00:00\",\"2020-10-25T00:00:00\",\"2020-10-26T00:00:00\",\"2020-10-27T00:00:00\",\"2020-10-28T00:00:00\",\"2020-10-29T00:00:00\",\"2020-10-30T00:00:00\",\"2020-10-31T00:00:00\",\"2020-11-01T00:00:00\",\"2020-11-02T00:00:00\",\"2020-11-03T00:00:00\",\"2020-11-04T00:00:00\",\"2020-11-05T00:00:00\",\"2020-11-06T00:00:00\",\"2020-11-07T00:00:00\",\"2020-11-08T00:00:00\",\"2020-11-09T00:00:00\",\"2020-11-10T00:00:00\",\"2020-11-11T00:00:00\",\"2020-11-12T00:00:00\",\"2020-11-13T00:00:00\",\"2020-11-14T00:00:00\",\"2020-11-15T00:00:00\",\"2020-11-16T00:00:00\",\"2020-11-17T00:00:00\",\"2020-11-18T00:00:00\",\"2020-11-19T00:00:00\",\"2020-11-20T00:00:00\",\"2020-11-21T00:00:00\",\"2020-11-22T00:00:00\",\"2020-11-23T00:00:00\",\"2020-11-24T00:00:00\",\"2020-11-25T00:00:00\",\"2020-11-26T00:00:00\",\"2020-11-27T00:00:00\",\"2020-11-28T00:00:00\",\"2020-11-29T00:00:00\",\"2020-11-30T00:00:00\",\"2020-12-01T00:00:00\",\"2020-12-02T00:00:00\",\"2020-12-03T00:00:00\",\"2020-12-04T00:00:00\",\"2020-12-05T00:00:00\",\"2020-12-06T00:00:00\",\"2020-12-07T00:00:00\",\"2020-12-08T00:00:00\",\"2020-12-09T00:00:00\",\"2020-12-10T00:00:00\",\"2020-12-11T00:00:00\",\"2020-12-12T00:00:00\",\"2020-12-13T00:00:00\",\"2020-12-14T00:00:00\",\"2020-12-15T00:00:00\",\"2020-12-16T00:00:00\",\"2020-12-17T00:00:00\",\"2020-12-18T00:00:00\",\"2020-12-19T00:00:00\",\"2020-12-20T00:00:00\",\"2020-12-21T00:00:00\",\"2020-12-22T00:00:00\",\"2020-12-23T00:00:00\",\"2020-12-24T00:00:00\",\"2020-12-25T00:00:00\",\"2020-12-26T00:00:00\",\"2020-12-27T00:00:00\",\"2020-12-28T00:00:00\",\"2020-12-29T00:00:00\",\"2020-12-30T00:00:00\",\"2020-12-31T00:00:00\",\"2021-01-01T00:00:00\",\"2021-01-02T00:00:00\",\"2021-01-03T00:00:00\",\"2021-01-04T00:00:00\",\"2021-01-05T00:00:00\",\"2021-01-06T00:00:00\",\"2021-01-07T00:00:00\",\"2021-01-08T00:00:00\",\"2021-01-09T00:00:00\",\"2021-01-10T00:00:00\",\"2021-01-11T00:00:00\",\"2021-01-12T00:00:00\",\"2021-01-13T00:00:00\",\"2021-01-14T00:00:00\",\"2021-01-15T00:00:00\",\"2021-01-16T00:00:00\",\"2021-01-17T00:00:00\",\"2021-01-18T00:00:00\",\"2021-01-19T00:00:00\",\"2021-01-20T00:00:00\",\"2021-01-21T00:00:00\",\"2021-01-22T00:00:00\",\"2021-01-23T00:00:00\",\"2021-01-24T00:00:00\",\"2021-01-25T00:00:00\",\"2021-01-26T00:00:00\",\"2021-01-27T00:00:00\",\"2021-01-28T00:00:00\",\"2021-01-29T00:00:00\",\"2021-01-30T00:00:00\",\"2021-01-31T00:00:00\",\"2021-02-01T00:00:00\",\"2021-02-02T00:00:00\",\"2021-02-03T00:00:00\",\"2021-02-04T00:00:00\",\"2021-02-05T00:00:00\",\"2021-02-06T00:00:00\",\"2021-02-07T00:00:00\",\"2021-02-08T00:00:00\",\"2021-02-09T00:00:00\",\"2021-02-10T00:00:00\",\"2021-02-11T00:00:00\",\"2021-02-12T00:00:00\",\"2021-02-13T00:00:00\",\"2021-02-14T00:00:00\",\"2021-02-15T00:00:00\",\"2021-02-16T00:00:00\",\"2021-02-17T00:00:00\",\"2021-02-18T00:00:00\",\"2021-02-19T00:00:00\",\"2021-02-20T00:00:00\",\"2021-02-21T00:00:00\",\"2021-02-22T00:00:00\",\"2021-02-23T00:00:00\",\"2021-02-24T00:00:00\",\"2021-02-25T00:00:00\",\"2021-02-26T00:00:00\",\"2021-02-27T00:00:00\",\"2021-02-28T00:00:00\",\"2021-03-01T00:00:00\",\"2021-03-02T00:00:00\",\"2021-03-03T00:00:00\",\"2021-03-04T00:00:00\",\"2021-03-05T00:00:00\",\"2021-03-06T00:00:00\",\"2021-03-07T00:00:00\",\"2021-03-08T00:00:00\",\"2021-03-09T00:00:00\",\"2021-03-10T00:00:00\",\"2021-03-11T00:00:00\",\"2021-03-12T00:00:00\",\"2021-03-13T00:00:00\",\"2021-03-14T00:00:00\",\"2021-03-15T00:00:00\",\"2021-03-16T00:00:00\",\"2021-03-17T00:00:00\",\"2021-03-18T00:00:00\",\"2021-03-19T00:00:00\",\"2021-03-20T00:00:00\",\"2021-03-21T00:00:00\",\"2021-03-22T00:00:00\",\"2021-03-23T00:00:00\",\"2021-03-24T00:00:00\",\"2021-03-25T00:00:00\",\"2021-03-26T00:00:00\",\"2021-03-27T00:00:00\",\"2021-03-28T00:00:00\",\"2021-03-29T00:00:00\",\"2021-03-30T00:00:00\",\"2021-03-31T00:00:00\",\"2021-04-01T00:00:00\",\"2021-04-02T00:00:00\",\"2021-04-03T00:00:00\",\"2021-04-04T00:00:00\",\"2021-04-05T00:00:00\",\"2021-04-06T00:00:00\",\"2021-04-07T00:00:00\",\"2021-04-08T00:00:00\",\"2021-04-09T00:00:00\",\"2021-04-10T00:00:00\",\"2021-04-11T00:00:00\",\"2021-04-12T00:00:00\",\"2021-04-13T00:00:00\",\"2021-04-14T00:00:00\",\"2021-04-15T00:00:00\",\"2021-04-16T00:00:00\",\"2021-04-17T00:00:00\",\"2021-04-18T00:00:00\",\"2021-04-19T00:00:00\",\"2021-04-20T00:00:00\",\"2021-04-21T00:00:00\",\"2021-04-22T00:00:00\",\"2021-04-23T00:00:00\",\"2021-04-24T00:00:00\",\"2021-04-25T00:00:00\",\"2021-04-26T00:00:00\",\"2021-04-27T00:00:00\",\"2021-04-28T00:00:00\",\"2021-04-29T00:00:00\",\"2021-04-30T00:00:00\",\"2021-05-01T00:00:00\",\"2021-05-02T00:00:00\",\"2021-05-03T00:00:00\",\"2021-05-04T00:00:00\",\"2021-05-05T00:00:00\",\"2021-05-06T00:00:00\",\"2021-05-07T00:00:00\",\"2021-05-08T00:00:00\",\"2021-05-09T00:00:00\",\"2021-05-10T00:00:00\",\"2021-05-11T00:00:00\",\"2021-05-12T00:00:00\",\"2021-05-13T00:00:00\",\"2021-05-14T00:00:00\",\"2021-05-15T00:00:00\",\"2021-05-16T00:00:00\",\"2021-05-17T00:00:00\",\"2021-05-18T00:00:00\",\"2021-05-19T00:00:00\",\"2021-05-20T00:00:00\",\"2021-05-21T00:00:00\",\"2021-05-22T00:00:00\",\"2021-05-23T00:00:00\",\"2021-05-24T00:00:00\",\"2021-05-25T00:00:00\",\"2021-05-26T00:00:00\",\"2021-05-27T00:00:00\",\"2021-05-28T00:00:00\",\"2021-05-29T00:00:00\",\"2021-05-30T00:00:00\",\"2021-05-31T00:00:00\",\"2021-06-01T00:00:00\",\"2021-06-02T00:00:00\",\"2021-06-03T00:00:00\",\"2021-06-04T00:00:00\",\"2021-06-05T00:00:00\",\"2021-06-06T00:00:00\",\"2021-06-07T00:00:00\",\"2021-06-08T00:00:00\",\"2021-06-09T00:00:00\",\"2021-06-10T00:00:00\",\"2021-06-11T00:00:00\",\"2021-06-12T00:00:00\",\"2021-06-13T00:00:00\",\"2021-06-14T00:00:00\",\"2021-06-15T00:00:00\",\"2021-06-16T00:00:00\",\"2021-06-17T00:00:00\",\"2021-06-18T00:00:00\",\"2021-06-19T00:00:00\",\"2021-06-20T00:00:00\",\"2021-06-21T00:00:00\",\"2021-06-22T00:00:00\",\"2021-06-23T00:00:00\",\"2021-06-24T00:00:00\",\"2021-06-25T00:00:00\",\"2021-06-26T00:00:00\",\"2021-06-27T00:00:00\",\"2021-06-28T00:00:00\",\"2021-06-29T00:00:00\",\"2021-06-30T00:00:00\",\"2021-07-01T00:00:00\",\"2021-07-02T00:00:00\",\"2021-07-03T00:00:00\",\"2021-07-04T00:00:00\",\"2021-07-05T00:00:00\",\"2021-07-06T00:00:00\",\"2021-07-07T00:00:00\",\"2021-07-08T00:00:00\",\"2021-07-09T00:00:00\",\"2021-07-10T00:00:00\",\"2021-07-11T00:00:00\",\"2021-07-12T00:00:00\",\"2021-07-13T00:00:00\",\"2021-07-14T00:00:00\",\"2021-07-15T00:00:00\",\"2021-07-16T00:00:00\",\"2021-07-17T00:00:00\",\"2021-07-18T00:00:00\",\"2021-07-19T00:00:00\",\"2021-07-20T00:00:00\",\"2021-07-21T00:00:00\",\"2021-07-22T00:00:00\",\"2021-07-23T00:00:00\",\"2021-07-24T00:00:00\",\"2021-07-25T00:00:00\",\"2021-07-26T00:00:00\",\"2021-07-27T00:00:00\",\"2021-07-28T00:00:00\",\"2021-07-29T00:00:00\",\"2021-07-30T00:00:00\",\"2021-07-31T00:00:00\",\"2021-08-01T00:00:00\",\"2021-08-02T00:00:00\",\"2021-08-03T00:00:00\",\"2021-08-04T00:00:00\",\"2021-08-05T00:00:00\",\"2021-08-06T00:00:00\",\"2021-08-07T00:00:00\",\"2021-08-08T00:00:00\",\"2021-08-09T00:00:00\",\"2021-08-10T00:00:00\",\"2021-08-11T00:00:00\",\"2021-08-12T00:00:00\",\"2021-08-13T00:00:00\",\"2021-08-14T00:00:00\",\"2021-08-15T00:00:00\",\"2021-08-16T00:00:00\",\"2021-08-17T00:00:00\",\"2021-08-18T00:00:00\",\"2021-08-19T00:00:00\",\"2021-08-20T00:00:00\",\"2021-08-21T00:00:00\",\"2021-08-22T00:00:00\",\"2021-08-23T00:00:00\",\"2021-08-24T00:00:00\",\"2021-08-25T00:00:00\",\"2021-08-26T00:00:00\",\"2021-08-27T00:00:00\",\"2021-08-28T00:00:00\",\"2021-08-29T00:00:00\",\"2021-08-30T00:00:00\",\"2021-08-31T00:00:00\",\"2021-09-01T00:00:00\",\"2021-09-02T00:00:00\",\"2021-09-03T00:00:00\",\"2021-09-04T00:00:00\",\"2021-09-05T00:00:00\",\"2021-09-06T00:00:00\",\"2021-09-07T00:00:00\",\"2021-09-08T00:00:00\",\"2021-09-09T00:00:00\",\"2021-09-10T00:00:00\",\"2021-09-11T00:00:00\",\"2021-09-12T00:00:00\",\"2021-09-13T00:00:00\",\"2021-09-14T00:00:00\",\"2021-09-15T00:00:00\",\"2021-09-16T00:00:00\",\"2021-09-17T00:00:00\",\"2021-09-18T00:00:00\",\"2021-09-19T00:00:00\",\"2021-09-20T00:00:00\",\"2021-09-21T00:00:00\",\"2021-09-22T00:00:00\",\"2021-09-23T00:00:00\",\"2021-09-24T00:00:00\",\"2021-09-25T00:00:00\",\"2021-09-26T00:00:00\",\"2021-09-27T00:00:00\",\"2021-09-28T00:00:00\",\"2021-09-29T00:00:00\",\"2021-09-30T00:00:00\",\"2021-10-01T00:00:00\",\"2021-10-02T00:00:00\",\"2021-10-03T00:00:00\",\"2021-10-04T00:00:00\",\"2021-10-05T00:00:00\",\"2021-10-06T00:00:00\",\"2021-10-07T00:00:00\",\"2021-10-08T00:00:00\",\"2021-10-09T00:00:00\",\"2021-10-10T00:00:00\",\"2021-10-11T00:00:00\",\"2021-10-12T00:00:00\",\"2021-10-13T00:00:00\",\"2021-10-14T00:00:00\",\"2021-10-15T00:00:00\",\"2021-10-16T00:00:00\",\"2021-10-17T00:00:00\",\"2021-10-18T00:00:00\",\"2021-10-19T00:00:00\",\"2021-10-20T00:00:00\",\"2021-10-21T00:00:00\",\"2021-10-22T00:00:00\",\"2021-10-23T00:00:00\",\"2021-10-24T00:00:00\",\"2021-10-25T00:00:00\",\"2021-10-26T00:00:00\",\"2021-10-27T00:00:00\",\"2021-10-28T00:00:00\",\"2021-10-29T00:00:00\",\"2021-10-30T00:00:00\",\"2021-10-31T00:00:00\",\"2021-11-01T00:00:00\",\"2021-11-02T00:00:00\",\"2021-11-03T00:00:00\",\"2021-11-04T00:00:00\",\"2021-11-05T00:00:00\",\"2021-11-06T00:00:00\",\"2021-11-07T00:00:00\",\"2021-11-08T00:00:00\",\"2021-11-09T00:00:00\",\"2021-11-10T00:00:00\",\"2021-11-11T00:00:00\",\"2021-11-12T00:00:00\",\"2021-11-13T00:00:00\",\"2021-11-14T00:00:00\",\"2021-11-15T00:00:00\",\"2021-11-16T00:00:00\",\"2021-11-17T00:00:00\",\"2021-11-18T00:00:00\",\"2021-11-19T00:00:00\",\"2021-11-20T00:00:00\",\"2021-11-21T00:00:00\",\"2021-11-22T00:00:00\",\"2021-11-23T00:00:00\",\"2021-11-24T00:00:00\",\"2021-11-25T00:00:00\",\"2021-11-26T00:00:00\",\"2021-11-27T00:00:00\",\"2021-11-28T00:00:00\",\"2021-11-29T00:00:00\",\"2021-11-30T00:00:00\",\"2021-12-01T00:00:00\",\"2021-12-02T00:00:00\",\"2021-12-03T00:00:00\",\"2021-12-04T00:00:00\",\"2021-12-05T00:00:00\",\"2021-12-06T00:00:00\",\"2021-12-07T00:00:00\",\"2021-12-08T00:00:00\",\"2021-12-09T00:00:00\",\"2021-12-10T00:00:00\",\"2021-12-11T00:00:00\",\"2021-12-12T00:00:00\",\"2021-12-13T00:00:00\",\"2021-12-14T00:00:00\",\"2021-12-15T00:00:00\",\"2021-12-16T00:00:00\",\"2021-12-17T00:00:00\",\"2021-12-18T00:00:00\",\"2021-12-19T00:00:00\",\"2021-12-20T00:00:00\",\"2021-12-21T00:00:00\",\"2021-12-22T00:00:00\",\"2021-12-23T00:00:00\",\"2021-12-24T00:00:00\",\"2021-12-25T00:00:00\",\"2021-12-26T00:00:00\",\"2021-12-27T00:00:00\",\"2021-12-28T00:00:00\",\"2021-12-29T00:00:00\",\"2021-12-30T00:00:00\",\"2021-12-31T00:00:00\",\"2022-01-01T00:00:00\",\"2022-01-02T00:00:00\",\"2022-01-03T00:00:00\",\"2022-01-04T00:00:00\",\"2022-01-05T00:00:00\",\"2022-01-06T00:00:00\",\"2022-01-07T00:00:00\",\"2022-01-08T00:00:00\",\"2022-01-09T00:00:00\",\"2022-01-10T00:00:00\",\"2022-01-11T00:00:00\",\"2022-01-12T00:00:00\",\"2022-01-13T00:00:00\",\"2022-01-14T00:00:00\",\"2022-01-15T00:00:00\",\"2022-01-16T00:00:00\",\"2022-01-17T00:00:00\",\"2022-01-18T00:00:00\",\"2022-01-19T00:00:00\",\"2022-01-20T00:00:00\",\"2022-01-21T00:00:00\",\"2022-01-22T00:00:00\",\"2022-01-23T00:00:00\",\"2022-01-24T00:00:00\",\"2022-01-25T00:00:00\",\"2022-01-26T00:00:00\",\"2022-01-27T00:00:00\",\"2022-01-28T00:00:00\",\"2022-01-29T00:00:00\",\"2022-01-30T00:00:00\",\"2022-01-31T00:00:00\",\"2022-02-01T00:00:00\",\"2022-02-02T00:00:00\",\"2022-02-03T00:00:00\",\"2022-02-04T00:00:00\",\"2022-02-05T00:00:00\",\"2022-02-06T00:00:00\",\"2022-02-07T00:00:00\",\"2022-02-08T00:00:00\",\"2022-02-09T00:00:00\",\"2022-02-10T00:00:00\",\"2022-02-11T00:00:00\",\"2022-02-12T00:00:00\",\"2022-02-13T00:00:00\",\"2022-02-14T00:00:00\",\"2022-02-15T00:00:00\",\"2022-02-16T00:00:00\",\"2022-02-17T00:00:00\",\"2022-02-18T00:00:00\",\"2022-02-19T00:00:00\",\"2022-02-20T00:00:00\",\"2022-02-21T00:00:00\",\"2022-02-22T00:00:00\",\"2022-02-23T00:00:00\",\"2022-02-24T00:00:00\",\"2022-02-25T00:00:00\",\"2022-02-26T00:00:00\",\"2022-02-27T00:00:00\",\"2022-02-28T00:00:00\",\"2022-03-01T00:00:00\",\"2022-03-02T00:00:00\",\"2022-03-03T00:00:00\",\"2022-03-04T00:00:00\",\"2022-03-05T00:00:00\",\"2022-03-06T00:00:00\",\"2022-03-07T00:00:00\",\"2022-03-08T00:00:00\",\"2022-03-09T00:00:00\",\"2022-03-10T00:00:00\",\"2022-03-11T00:00:00\",\"2022-03-12T00:00:00\",\"2022-03-13T00:00:00\",\"2022-03-14T00:00:00\",\"2022-03-15T00:00:00\",\"2022-03-16T00:00:00\",\"2022-03-17T00:00:00\",\"2022-03-18T00:00:00\",\"2022-03-19T00:00:00\",\"2022-03-20T00:00:00\",\"2022-03-21T00:00:00\",\"2022-03-22T00:00:00\",\"2022-03-23T00:00:00\",\"2022-03-24T00:00:00\",\"2022-03-25T00:00:00\",\"2022-03-26T00:00:00\",\"2022-03-27T00:00:00\",\"2022-03-28T00:00:00\",\"2022-03-29T00:00:00\",\"2022-03-30T00:00:00\",\"2022-03-31T00:00:00\",\"2022-04-01T00:00:00\",\"2022-04-02T00:00:00\",\"2022-04-03T00:00:00\",\"2022-04-04T00:00:00\",\"2022-04-05T00:00:00\",\"2022-04-06T00:00:00\",\"2022-04-07T00:00:00\",\"2022-04-08T00:00:00\",\"2022-04-09T00:00:00\",\"2022-04-10T00:00:00\",\"2022-04-11T00:00:00\",\"2022-04-12T00:00:00\",\"2022-04-13T00:00:00\",\"2022-04-14T00:00:00\",\"2022-04-15T00:00:00\",\"2022-04-16T00:00:00\",\"2022-04-17T00:00:00\",\"2022-04-18T00:00:00\",\"2022-04-19T00:00:00\",\"2022-04-20T00:00:00\",\"2022-04-21T00:00:00\",\"2022-04-22T00:00:00\",\"2022-04-23T00:00:00\",\"2022-04-24T00:00:00\",\"2022-04-25T00:00:00\",\"2022-04-26T00:00:00\",\"2022-04-27T00:00:00\",\"2022-04-28T00:00:00\",\"2022-04-29T00:00:00\",\"2022-04-30T00:00:00\",\"2022-05-01T00:00:00\",\"2022-05-02T00:00:00\",\"2022-05-03T00:00:00\",\"2022-05-04T00:00:00\",\"2022-05-05T00:00:00\",\"2022-05-06T00:00:00\",\"2022-05-07T00:00:00\",\"2022-05-08T00:00:00\",\"2022-05-09T00:00:00\",\"2022-05-10T00:00:00\",\"2022-05-11T00:00:00\",\"2022-05-12T00:00:00\",\"2022-05-13T00:00:00\",\"2022-05-14T00:00:00\",\"2022-05-15T00:00:00\",\"2022-05-16T00:00:00\",\"2022-05-17T00:00:00\",\"2022-05-18T00:00:00\",\"2022-05-19T00:00:00\",\"2022-05-20T00:00:00\",\"2022-05-21T00:00:00\",\"2022-05-22T00:00:00\",\"2022-05-23T00:00:00\",\"2022-05-24T00:00:00\",\"2022-05-25T00:00:00\",\"2022-05-26T00:00:00\",\"2022-05-27T00:00:00\",\"2022-05-28T00:00:00\",\"2022-05-29T00:00:00\",\"2022-05-30T00:00:00\",\"2022-05-31T00:00:00\",\"2022-06-01T00:00:00\",\"2022-06-02T00:00:00\",\"2022-06-03T00:00:00\",\"2022-06-04T00:00:00\",\"2022-06-05T00:00:00\",\"2022-06-06T00:00:00\",\"2022-06-07T00:00:00\",\"2022-06-08T00:00:00\",\"2022-06-09T00:00:00\",\"2022-06-10T00:00:00\",\"2022-06-11T00:00:00\",\"2022-06-12T00:00:00\",\"2022-06-13T00:00:00\",\"2022-06-14T00:00:00\",\"2022-06-15T00:00:00\",\"2022-06-16T00:00:00\",\"2022-06-17T00:00:00\",\"2022-06-18T00:00:00\",\"2022-06-19T00:00:00\",\"2022-06-20T00:00:00\",\"2022-06-21T00:00:00\",\"2022-06-22T00:00:00\",\"2022-06-23T00:00:00\",\"2022-06-24T00:00:00\",\"2022-06-25T00:00:00\",\"2022-06-26T00:00:00\",\"2022-06-27T00:00:00\",\"2022-06-28T00:00:00\",\"2022-06-29T00:00:00\",\"2022-06-30T00:00:00\",\"2022-07-01T00:00:00\",\"2022-07-02T00:00:00\",\"2022-07-03T00:00:00\",\"2022-07-04T00:00:00\",\"2022-07-05T00:00:00\",\"2022-07-06T00:00:00\",\"2022-07-07T00:00:00\",\"2022-07-08T00:00:00\",\"2022-07-09T00:00:00\",\"2022-07-10T00:00:00\",\"2022-07-11T00:00:00\",\"2022-07-12T00:00:00\",\"2022-07-13T00:00:00\",\"2022-07-14T00:00:00\",\"2022-07-15T00:00:00\",\"2022-07-16T00:00:00\",\"2022-07-17T00:00:00\",\"2022-07-18T00:00:00\",\"2022-07-19T00:00:00\",\"2022-07-20T00:00:00\",\"2022-07-21T00:00:00\",\"2022-07-22T00:00:00\",\"2022-07-23T00:00:00\",\"2022-07-24T00:00:00\",\"2022-07-25T00:00:00\",\"2022-07-26T00:00:00\",\"2022-07-27T00:00:00\",\"2022-07-28T00:00:00\",\"2022-07-29T00:00:00\",\"2022-07-30T00:00:00\",\"2022-07-31T00:00:00\",\"2022-08-01T00:00:00\",\"2022-08-02T00:00:00\",\"2022-08-03T00:00:00\",\"2022-08-04T00:00:00\",\"2022-08-05T00:00:00\",\"2022-08-06T00:00:00\",\"2022-08-07T00:00:00\",\"2022-08-08T00:00:00\",\"2022-08-09T00:00:00\",\"2022-08-10T00:00:00\",\"2022-08-11T00:00:00\",\"2022-08-12T00:00:00\",\"2022-08-13T00:00:00\",\"2022-08-14T00:00:00\",\"2022-08-15T00:00:00\",\"2022-08-16T00:00:00\",\"2022-08-17T00:00:00\",\"2022-08-18T00:00:00\",\"2022-08-19T00:00:00\",\"2022-08-20T00:00:00\",\"2022-08-21T00:00:00\",\"2022-08-22T00:00:00\",\"2022-08-23T00:00:00\",\"2022-08-24T00:00:00\",\"2022-08-25T00:00:00\",\"2022-08-26T00:00:00\",\"2022-08-27T00:00:00\",\"2022-08-28T00:00:00\",\"2022-08-29T00:00:00\",\"2022-08-30T00:00:00\",\"2022-08-31T00:00:00\",\"2022-09-01T00:00:00\",\"2022-09-02T00:00:00\",\"2022-09-03T00:00:00\",\"2022-09-04T00:00:00\",\"2022-09-05T00:00:00\",\"2022-09-06T00:00:00\",\"2022-09-07T00:00:00\",\"2022-09-08T00:00:00\",\"2022-09-09T00:00:00\",\"2022-09-10T00:00:00\",\"2022-09-11T00:00:00\",\"2022-09-12T00:00:00\",\"2022-09-13T00:00:00\",\"2022-09-14T00:00:00\",\"2022-09-15T00:00:00\",\"2022-09-16T00:00:00\",\"2022-09-17T00:00:00\",\"2022-09-18T00:00:00\",\"2022-09-19T00:00:00\",\"2022-09-20T00:00:00\",\"2022-09-21T00:00:00\",\"2022-09-22T00:00:00\",\"2022-09-23T00:00:00\",\"2022-09-24T00:00:00\",\"2022-09-25T00:00:00\",\"2022-09-26T00:00:00\",\"2022-09-27T00:00:00\",\"2022-09-28T00:00:00\",\"2022-09-29T00:00:00\",\"2022-09-30T00:00:00\",\"2022-10-01T00:00:00\",\"2022-10-02T00:00:00\",\"2022-10-03T00:00:00\",\"2022-10-04T00:00:00\",\"2022-10-05T00:00:00\",\"2022-10-06T00:00:00\",\"2022-10-07T00:00:00\",\"2022-10-08T00:00:00\",\"2022-10-09T00:00:00\",\"2022-10-10T00:00:00\",\"2022-10-11T00:00:00\",\"2022-10-12T00:00:00\",\"2022-10-13T00:00:00\",\"2022-10-14T00:00:00\",\"2022-10-15T00:00:00\",\"2022-10-16T00:00:00\",\"2022-10-17T00:00:00\",\"2022-10-18T00:00:00\",\"2022-10-19T00:00:00\",\"2022-10-20T00:00:00\",\"2022-10-21T00:00:00\",\"2022-10-22T00:00:00\",\"2022-10-23T00:00:00\",\"2022-10-24T00:00:00\",\"2022-10-25T00:00:00\",\"2022-10-26T00:00:00\",\"2022-10-27T00:00:00\",\"2022-10-28T00:00:00\",\"2022-10-29T00:00:00\",\"2022-10-30T00:00:00\",\"2022-10-31T00:00:00\",\"2022-11-01T00:00:00\",\"2022-11-02T00:00:00\",\"2022-11-03T00:00:00\",\"2022-11-04T00:00:00\",\"2022-11-05T00:00:00\",\"2022-11-06T00:00:00\",\"2022-11-07T00:00:00\",\"2022-11-08T00:00:00\",\"2022-11-09T00:00:00\",\"2022-11-10T00:00:00\",\"2022-11-11T00:00:00\",\"2022-11-12T00:00:00\",\"2022-11-13T00:00:00\",\"2022-11-14T00:00:00\",\"2022-11-15T00:00:00\",\"2022-11-16T00:00:00\",\"2022-11-17T00:00:00\",\"2022-11-18T00:00:00\",\"2022-11-19T00:00:00\",\"2022-11-20T00:00:00\",\"2022-11-21T00:00:00\",\"2022-11-22T00:00:00\",\"2022-11-23T00:00:00\",\"2022-11-24T00:00:00\",\"2022-11-25T00:00:00\",\"2022-11-26T00:00:00\",\"2022-11-27T00:00:00\",\"2022-11-28T00:00:00\",\"2022-11-29T00:00:00\",\"2022-11-30T00:00:00\",\"2022-12-01T00:00:00\",\"2022-12-02T00:00:00\",\"2022-12-03T00:00:00\",\"2022-12-04T00:00:00\",\"2022-12-05T00:00:00\",\"2022-12-06T00:00:00\",\"2022-12-07T00:00:00\",\"2022-12-08T00:00:00\",\"2022-12-09T00:00:00\",\"2022-12-10T00:00:00\",\"2022-12-11T00:00:00\",\"2022-12-12T00:00:00\",\"2022-12-13T00:00:00\",\"2022-12-14T00:00:00\",\"2022-12-15T00:00:00\",\"2022-12-16T00:00:00\",\"2022-12-17T00:00:00\",\"2022-12-18T00:00:00\",\"2022-12-19T00:00:00\",\"2022-12-20T00:00:00\",\"2022-12-21T00:00:00\",\"2022-12-22T00:00:00\",\"2022-12-23T00:00:00\",\"2022-12-24T00:00:00\",\"2022-12-25T00:00:00\",\"2022-12-26T00:00:00\",\"2022-12-27T00:00:00\",\"2022-12-28T00:00:00\",\"2022-12-29T00:00:00\",\"2022-12-30T00:00:00\",\"2022-12-31T00:00:00\",\"2023-01-01T00:00:00\",\"2023-01-02T00:00:00\",\"2023-01-03T00:00:00\",\"2023-01-04T00:00:00\",\"2023-01-05T00:00:00\",\"2023-01-06T00:00:00\",\"2023-01-07T00:00:00\",\"2023-01-08T00:00:00\",\"2023-01-09T00:00:00\",\"2023-01-10T00:00:00\",\"2023-01-11T00:00:00\",\"2023-01-12T00:00:00\",\"2023-01-13T00:00:00\",\"2023-01-14T00:00:00\",\"2023-01-15T00:00:00\",\"2023-01-16T00:00:00\",\"2023-01-17T00:00:00\",\"2023-01-18T00:00:00\",\"2023-01-19T00:00:00\",\"2023-01-20T00:00:00\",\"2023-01-21T00:00:00\",\"2023-01-22T00:00:00\",\"2023-01-23T00:00:00\",\"2023-01-24T00:00:00\",\"2023-01-25T00:00:00\",\"2023-01-26T00:00:00\",\"2023-01-27T00:00:00\",\"2023-01-28T00:00:00\",\"2023-01-29T00:00:00\",\"2023-01-30T00:00:00\",\"2023-01-31T00:00:00\",\"2023-02-01T00:00:00\",\"2023-02-02T00:00:00\",\"2023-02-03T00:00:00\",\"2023-02-04T00:00:00\",\"2023-02-05T00:00:00\",\"2023-02-06T00:00:00\",\"2023-02-07T00:00:00\",\"2023-02-08T00:00:00\",\"2023-02-09T00:00:00\",\"2023-02-10T00:00:00\",\"2023-02-11T00:00:00\",\"2023-02-12T00:00:00\",\"2023-02-13T00:00:00\",\"2023-02-14T00:00:00\",\"2023-02-15T00:00:00\",\"2023-02-16T00:00:00\",\"2023-02-17T00:00:00\",\"2023-02-18T00:00:00\",\"2023-02-19T00:00:00\",\"2023-02-20T00:00:00\",\"2023-02-21T00:00:00\",\"2023-02-22T00:00:00\",\"2023-02-23T00:00:00\",\"2023-02-24T00:00:00\",\"2023-02-25T00:00:00\",\"2023-02-26T00:00:00\",\"2023-02-27T00:00:00\",\"2023-02-28T00:00:00\",\"2023-03-01T00:00:00\",\"2023-03-02T00:00:00\",\"2023-03-03T00:00:00\",\"2023-03-04T00:00:00\",\"2023-03-05T00:00:00\",\"2023-03-06T00:00:00\",\"2023-03-07T00:00:00\",\"2023-03-08T00:00:00\",\"2023-03-09T00:00:00\",\"2023-03-10T00:00:00\",\"2023-03-11T00:00:00\",\"2023-03-12T00:00:00\",\"2023-03-13T00:00:00\",\"2023-03-14T00:00:00\",\"2023-03-15T00:00:00\",\"2023-03-16T00:00:00\",\"2023-03-17T00:00:00\",\"2023-03-18T00:00:00\",\"2023-03-19T00:00:00\",\"2023-03-20T00:00:00\",\"2023-03-21T00:00:00\",\"2023-03-22T00:00:00\",\"2023-03-23T00:00:00\",\"2023-03-24T00:00:00\",\"2023-03-25T00:00:00\",\"2023-03-26T00:00:00\",\"2023-03-27T00:00:00\",\"2023-03-28T00:00:00\",\"2023-03-29T00:00:00\",\"2023-03-30T00:00:00\",\"2023-03-31T00:00:00\",\"2023-04-01T00:00:00\",\"2023-04-02T00:00:00\",\"2023-04-03T00:00:00\",\"2023-04-04T00:00:00\",\"2023-04-05T00:00:00\",\"2023-04-06T00:00:00\",\"2023-04-07T00:00:00\",\"2023-04-08T00:00:00\",\"2023-04-09T00:00:00\",\"2023-04-10T00:00:00\",\"2023-04-11T00:00:00\",\"2023-04-12T00:00:00\",\"2023-04-13T00:00:00\",\"2023-04-14T00:00:00\",\"2023-04-15T00:00:00\",\"2023-04-16T00:00:00\",\"2023-04-17T00:00:00\",\"2023-04-18T00:00:00\",\"2023-04-19T00:00:00\",\"2023-04-20T00:00:00\",\"2023-04-21T00:00:00\",\"2023-04-22T00:00:00\",\"2023-04-23T00:00:00\",\"2023-04-24T00:00:00\",\"2023-04-25T00:00:00\",\"2023-04-26T00:00:00\",\"2023-04-27T00:00:00\",\"2023-04-28T00:00:00\",\"2023-04-29T00:00:00\",\"2023-04-30T00:00:00\",\"2023-05-01T00:00:00\",\"2023-05-02T00:00:00\",\"2023-05-03T00:00:00\",\"2023-05-04T00:00:00\",\"2023-05-05T00:00:00\",\"2023-05-06T00:00:00\",\"2023-05-07T00:00:00\",\"2023-05-08T00:00:00\",\"2023-05-09T00:00:00\",\"2023-05-10T00:00:00\",\"2023-05-11T00:00:00\",\"2023-05-12T00:00:00\",\"2023-05-13T00:00:00\",\"2023-05-14T00:00:00\",\"2023-05-15T00:00:00\",\"2023-05-16T00:00:00\",\"2023-05-17T00:00:00\",\"2023-05-18T00:00:00\",\"2023-05-19T00:00:00\",\"2023-05-20T00:00:00\",\"2023-05-21T00:00:00\",\"2023-05-22T00:00:00\",\"2023-05-23T00:00:00\",\"2023-05-24T00:00:00\",\"2023-05-25T00:00:00\",\"2023-05-26T00:00:00\",\"2023-05-27T00:00:00\",\"2023-05-28T00:00:00\",\"2023-05-29T00:00:00\",\"2023-05-30T00:00:00\",\"2023-05-31T00:00:00\",\"2023-06-01T00:00:00\",\"2023-06-02T00:00:00\",\"2023-06-03T00:00:00\",\"2023-06-04T00:00:00\",\"2023-06-05T00:00:00\",\"2023-06-06T00:00:00\",\"2023-06-07T00:00:00\",\"2023-06-08T00:00:00\",\"2023-06-09T00:00:00\",\"2023-06-10T00:00:00\",\"2023-06-11T00:00:00\",\"2023-06-12T00:00:00\",\"2023-06-13T00:00:00\",\"2023-06-14T00:00:00\",\"2023-06-15T00:00:00\",\"2023-06-16T00:00:00\",\"2023-06-17T00:00:00\",\"2023-06-18T00:00:00\",\"2023-06-19T00:00:00\",\"2023-06-20T00:00:00\",\"2023-06-21T00:00:00\",\"2023-06-22T00:00:00\",\"2023-06-23T00:00:00\",\"2023-06-24T00:00:00\",\"2023-06-25T00:00:00\",\"2023-06-26T00:00:00\",\"2023-06-27T00:00:00\",\"2023-06-28T00:00:00\",\"2023-06-29T00:00:00\",\"2023-06-30T00:00:00\",\"2023-07-01T00:00:00\",\"2023-07-02T00:00:00\",\"2023-07-03T00:00:00\",\"2023-07-04T00:00:00\",\"2023-07-05T00:00:00\",\"2023-07-06T00:00:00\",\"2023-07-07T00:00:00\",\"2023-07-08T00:00:00\",\"2023-07-09T00:00:00\",\"2023-07-10T00:00:00\",\"2023-07-11T00:00:00\",\"2023-07-12T00:00:00\",\"2023-07-13T00:00:00\",\"2023-07-14T00:00:00\",\"2023-07-15T00:00:00\",\"2023-07-16T00:00:00\",\"2023-07-17T00:00:00\",\"2023-07-18T00:00:00\",\"2023-07-19T00:00:00\",\"2023-07-20T00:00:00\",\"2023-07-21T00:00:00\",\"2023-07-22T00:00:00\",\"2023-07-23T00:00:00\",\"2023-07-24T00:00:00\",\"2023-07-25T00:00:00\",\"2023-07-26T00:00:00\",\"2023-07-27T00:00:00\",\"2023-07-28T00:00:00\",\"2023-07-29T00:00:00\",\"2023-07-30T00:00:00\",\"2023-07-31T00:00:00\",\"2023-08-01T00:00:00\",\"2023-08-02T00:00:00\",\"2023-08-03T00:00:00\",\"2023-08-04T00:00:00\",\"2023-08-05T00:00:00\",\"2023-08-06T00:00:00\",\"2023-08-07T00:00:00\",\"2023-08-08T00:00:00\",\"2023-08-09T00:00:00\",\"2023-08-10T00:00:00\",\"2023-08-11T00:00:00\",\"2023-08-12T00:00:00\",\"2023-08-13T00:00:00\",\"2023-08-14T00:00:00\",\"2023-08-15T00:00:00\",\"2023-08-16T00:00:00\",\"2023-08-17T00:00:00\",\"2023-08-18T00:00:00\",\"2023-08-19T00:00:00\",\"2023-08-20T00:00:00\",\"2023-08-21T00:00:00\",\"2023-08-22T00:00:00\",\"2023-08-23T00:00:00\",\"2023-08-24T00:00:00\",\"2023-08-25T00:00:00\",\"2023-08-26T00:00:00\",\"2023-08-27T00:00:00\",\"2023-08-28T00:00:00\",\"2023-08-29T00:00:00\",\"2023-08-30T00:00:00\",\"2023-08-31T00:00:00\",\"2023-09-01T00:00:00\",\"2023-09-02T00:00:00\",\"2023-09-03T00:00:00\",\"2023-09-04T00:00:00\",\"2023-09-05T00:00:00\",\"2023-09-06T00:00:00\",\"2023-09-07T00:00:00\",\"2023-09-08T00:00:00\",\"2023-09-09T00:00:00\",\"2023-09-10T00:00:00\",\"2023-09-11T00:00:00\",\"2023-09-12T00:00:00\",\"2023-09-13T00:00:00\",\"2023-09-14T00:00:00\",\"2023-09-15T00:00:00\",\"2023-09-16T00:00:00\",\"2023-09-17T00:00:00\",\"2023-09-18T00:00:00\",\"2023-09-19T00:00:00\",\"2023-09-20T00:00:00\",\"2023-09-21T00:00:00\",\"2023-09-22T00:00:00\",\"2023-09-23T00:00:00\",\"2023-09-24T00:00:00\",\"2023-09-25T00:00:00\",\"2023-09-26T00:00:00\",\"2023-09-27T00:00:00\",\"2023-09-28T00:00:00\",\"2023-09-29T00:00:00\",\"2023-09-30T00:00:00\",\"2023-10-01T00:00:00\",\"2023-10-02T00:00:00\",\"2023-10-03T00:00:00\",\"2023-10-04T00:00:00\",\"2023-10-05T00:00:00\",\"2023-10-06T00:00:00\",\"2023-10-07T00:00:00\",\"2023-10-08T00:00:00\",\"2023-10-09T00:00:00\",\"2023-10-10T00:00:00\",\"2023-10-11T00:00:00\",\"2023-10-12T00:00:00\",\"2023-10-13T00:00:00\",\"2023-10-14T00:00:00\",\"2023-10-15T00:00:00\",\"2023-10-16T00:00:00\",\"2023-10-17T00:00:00\",\"2023-10-18T00:00:00\",\"2023-10-19T00:00:00\",\"2023-10-20T00:00:00\",\"2023-10-21T00:00:00\",\"2023-10-22T00:00:00\",\"2023-10-23T00:00:00\",\"2023-10-24T00:00:00\",\"2023-10-25T00:00:00\",\"2023-10-26T00:00:00\",\"2023-10-27T00:00:00\",\"2023-10-28T00:00:00\",\"2023-10-29T00:00:00\",\"2023-10-30T00:00:00\",\"2023-10-31T00:00:00\",\"2023-11-01T00:00:00\",\"2023-11-02T00:00:00\",\"2023-11-03T00:00:00\",\"2023-11-04T00:00:00\",\"2023-11-05T00:00:00\",\"2023-11-06T00:00:00\",\"2023-11-07T00:00:00\",\"2023-11-08T00:00:00\",\"2023-11-09T00:00:00\",\"2023-11-10T00:00:00\",\"2023-11-11T00:00:00\",\"2023-11-12T00:00:00\",\"2023-11-13T00:00:00\",\"2023-11-14T00:00:00\",\"2023-11-15T00:00:00\",\"2023-11-16T00:00:00\",\"2023-11-17T00:00:00\",\"2023-11-18T00:00:00\",\"2023-11-19T00:00:00\",\"2023-11-20T00:00:00\",\"2023-11-21T00:00:00\",\"2023-11-22T00:00:00\",\"2023-11-23T00:00:00\",\"2023-11-24T00:00:00\",\"2023-11-25T00:00:00\",\"2023-11-26T00:00:00\",\"2023-11-27T00:00:00\",\"2023-11-28T00:00:00\",\"2023-11-29T00:00:00\",\"2023-11-30T00:00:00\",\"2023-12-01T00:00:00\",\"2023-12-02T00:00:00\",\"2023-12-03T00:00:00\",\"2023-12-04T00:00:00\",\"2023-12-05T00:00:00\",\"2023-12-06T00:00:00\",\"2023-12-07T00:00:00\",\"2023-12-08T00:00:00\",\"2023-12-09T00:00:00\",\"2023-12-10T00:00:00\",\"2023-12-11T00:00:00\",\"2023-12-12T00:00:00\",\"2023-12-13T00:00:00\",\"2023-12-14T00:00:00\",\"2023-12-15T00:00:00\",\"2023-12-16T00:00:00\",\"2023-12-17T00:00:00\",\"2023-12-18T00:00:00\",\"2023-12-19T00:00:00\",\"2023-12-20T00:00:00\",\"2023-12-21T00:00:00\",\"2023-12-22T00:00:00\",\"2023-12-23T00:00:00\",\"2023-12-24T00:00:00\",\"2023-12-25T00:00:00\",\"2023-12-26T00:00:00\",\"2023-12-27T00:00:00\",\"2023-12-28T00:00:00\",\"2023-12-29T00:00:00\",\"2023-12-30T00:00:00\",\"2023-12-31T00:00:00\",\"2024-01-01T00:00:00\",\"2024-01-02T00:00:00\",\"2024-01-03T00:00:00\",\"2024-01-04T00:00:00\",\"2024-01-05T00:00:00\",\"2024-01-06T00:00:00\",\"2024-01-07T00:00:00\",\"2024-01-08T00:00:00\",\"2024-01-09T00:00:00\",\"2024-01-10T00:00:00\",\"2024-01-11T00:00:00\",\"2024-01-12T00:00:00\",\"2024-01-13T00:00:00\",\"2024-01-14T00:00:00\",\"2024-01-15T00:00:00\",\"2024-01-16T00:00:00\",\"2024-01-17T00:00:00\",\"2024-01-18T00:00:00\",\"2024-01-19T00:00:00\",\"2024-01-20T00:00:00\",\"2024-01-21T00:00:00\",\"2024-01-22T00:00:00\",\"2024-01-23T00:00:00\",\"2024-01-24T00:00:00\",\"2024-01-25T00:00:00\",\"2024-01-26T00:00:00\",\"2024-01-27T00:00:00\",\"2024-01-28T00:00:00\",\"2024-01-29T00:00:00\",\"2024-01-30T00:00:00\",\"2024-01-31T00:00:00\",\"2024-02-01T00:00:00\",\"2024-02-02T00:00:00\",\"2024-02-03T00:00:00\",\"2024-02-04T00:00:00\",\"2024-02-05T00:00:00\",\"2024-02-06T00:00:00\",\"2024-02-07T00:00:00\",\"2024-02-08T00:00:00\",\"2024-02-09T00:00:00\",\"2024-02-10T00:00:00\",\"2024-02-11T00:00:00\",\"2024-02-12T00:00:00\",\"2024-02-13T00:00:00\",\"2024-02-14T00:00:00\",\"2024-02-15T00:00:00\",\"2024-02-16T00:00:00\",\"2024-02-17T00:00:00\",\"2024-02-18T00:00:00\",\"2024-02-19T00:00:00\",\"2024-02-20T00:00:00\",\"2024-02-21T00:00:00\",\"2024-02-22T00:00:00\",\"2024-02-23T00:00:00\",\"2024-02-24T00:00:00\",\"2024-02-25T00:00:00\",\"2024-02-26T00:00:00\",\"2024-02-27T00:00:00\",\"2024-02-28T00:00:00\",\"2024-02-29T00:00:00\",\"2024-03-01T00:00:00\",\"2024-03-02T00:00:00\",\"2024-03-03T00:00:00\",\"2024-03-04T00:00:00\",\"2024-03-05T00:00:00\",\"2024-03-06T00:00:00\",\"2024-03-07T00:00:00\",\"2024-03-08T00:00:00\",\"2024-03-09T00:00:00\",\"2024-03-10T00:00:00\",\"2024-03-11T00:00:00\",\"2024-03-12T00:00:00\",\"2024-03-13T00:00:00\",\"2024-03-14T00:00:00\",\"2024-03-15T00:00:00\",\"2024-03-16T00:00:00\",\"2024-03-17T00:00:00\",\"2024-03-18T00:00:00\",\"2024-03-19T00:00:00\",\"2024-03-20T00:00:00\",\"2024-03-21T00:00:00\",\"2024-03-22T00:00:00\",\"2024-03-23T00:00:00\",\"2024-03-24T00:00:00\",\"2024-03-25T00:00:00\",\"2024-03-26T00:00:00\",\"2024-03-27T00:00:00\",\"2024-03-28T00:00:00\",\"2024-03-29T00:00:00\",\"2024-03-30T00:00:00\",\"2024-03-31T00:00:00\",\"2024-04-01T00:00:00\",\"2024-04-02T00:00:00\",\"2024-04-03T00:00:00\",\"2024-04-04T00:00:00\",\"2024-04-05T00:00:00\",\"2024-04-06T00:00:00\",\"2024-04-07T00:00:00\",\"2024-04-08T00:00:00\",\"2024-04-09T00:00:00\",\"2024-04-10T00:00:00\",\"2024-04-11T00:00:00\",\"2024-04-12T00:00:00\",\"2024-04-13T00:00:00\",\"2024-04-14T00:00:00\",\"2024-04-15T00:00:00\",\"2024-04-16T00:00:00\",\"2024-04-17T00:00:00\",\"2024-04-18T00:00:00\",\"2024-04-19T00:00:00\",\"2024-04-20T00:00:00\",\"2024-04-21T00:00:00\",\"2024-04-22T00:00:00\",\"2024-04-23T00:00:00\",\"2024-04-24T00:00:00\",\"2024-04-25T00:00:00\",\"2024-04-26T00:00:00\",\"2024-04-27T00:00:00\",\"2024-04-28T00:00:00\",\"2024-04-29T00:00:00\",\"2024-04-30T00:00:00\",\"2024-05-01T00:00:00\",\"2024-05-02T00:00:00\",\"2024-05-03T00:00:00\",\"2024-05-04T00:00:00\",\"2024-05-05T00:00:00\",\"2024-05-06T00:00:00\",\"2024-05-07T00:00:00\",\"2024-05-08T00:00:00\",\"2024-05-09T00:00:00\",\"2024-05-10T00:00:00\",\"2024-05-11T00:00:00\",\"2024-05-12T00:00:00\",\"2024-05-13T00:00:00\",\"2024-05-14T00:00:00\",\"2024-05-15T00:00:00\",\"2024-05-16T00:00:00\",\"2024-05-17T00:00:00\",\"2024-05-18T00:00:00\",\"2024-05-19T00:00:00\",\"2024-05-20T00:00:00\",\"2024-05-21T00:00:00\",\"2024-05-22T00:00:00\",\"2024-05-23T00:00:00\",\"2024-05-24T00:00:00\",\"2024-05-25T00:00:00\",\"2024-05-26T00:00:00\",\"2024-05-27T00:00:00\",\"2024-05-28T00:00:00\",\"2024-05-29T00:00:00\",\"2024-05-30T00:00:00\",\"2024-05-31T00:00:00\",\"2024-06-01T00:00:00\",\"2024-06-02T00:00:00\",\"2024-06-03T00:00:00\"],\"y\":[34.29068882658311,33.31761402560167,34.35863717523074,33.60631031233215,33.81619593261458,33.739249549552284,34.13046821199633,35.32313341863243,34.9718813749745,35.75699218377439,34.8168428357435,34.4839084596966,36.37536491915684,35.672968844759374,36.71122587424456,36.501107571777595,36.035168244586195,36.66325301263152,36.54012921666338,37.26715275931223,36.93381648632822,37.818304793644884,36.927086814958145,36.52819924382814,36.51088003039691,36.35508754741361,37.3339267072527,37.00114980433233,37.65418059589547,36.17687111721768,36.87329017129641,36.14013224693368,36.57307934434597,36.91660745854475,36.98242216798765,36.76394844359091,36.05709554063974,35.99303173526751,36.35026945646535,36.215387233403995,36.93394110213976,36.83629531370534,37.26124301829172,35.94326205692511,35.69112924181138,36.265858563362805,35.92102314297459,37.182303510835034,36.748097699916336,37.44727600495774,36.90680683689778,37.123348803645314,37.649524513404565,36.438981077767025,38.00070890036606,37.39754413970798,38.34189878974208,37.44500605291636,37.787154907566574,37.71608724099526,38.24745880184634,37.67328110685745,38.01409571433125,38.180278626227384,37.101861585267905,37.13503247351331,37.28846989163257,36.223799733548645,37.394686588945085,36.177364017218636,37.44655044021214,36.30106853889477,36.89875459145592,35.24781668899229,36.03208386701712,36.689905437573906,35.6727623912961,36.20858662068984,36.09997181108832,36.296881730442465,36.36599971172838,35.854714846112934,36.30154091801092,36.183786563774845,37.39086579918207,37.06596817347633,37.234115679348456,36.94215415057294,36.676175589955534,36.99129367936406,37.01632736000457,37.14118093408385,37.981720300790656,37.24648830178573,37.27756301968062,37.387809565518914,38.682260572208484,37.168709007970705,38.11815773462259,37.69788885956677,37.70528428036372,38.05648557354207,37.249582625508225,38.01740929715485,37.36182611069096,37.736417662897544,37.00967947918702,37.33456039041222,36.28607718727047,36.05205057337413,37.23525569123854,36.15965672749321,36.69037802686291,36.260013561337864,36.30194324337742,35.68310430396618,36.23998552583106,36.37089727523966,34.931006111866814,35.263145730638456,35.10482612237127,35.37353988540058,35.56229479560508,34.35690333291404,35.42836959528552,35.39802621677234,36.28992456540955,35.45940390594023,35.229111193713926,34.77295809073886,35.07711594264359,35.453506719386944,35.88079747093768,35.7496949167682,35.429808578640014,35.61807427154269,35.588526367482245,36.41463047608311,36.36214350850964,36.27613483595979,36.27930764347474,36.43538020557802,35.67092915886827,35.77271255104439,35.82135564260553,36.10162797946014,36.121300373812666,36.413901866733205,36.57971045853839,36.371078343528,35.04118747566428,34.889294523262485,36.55849297868754,36.09723456820484,37.47387855767525,36.67204231975457,35.94198674221531,35.58959644890743,36.05937737376187,36.796295191417265,36.45005376316629,37.103724524490254,36.927442536377306,36.392560314604005,35.947905480144584,36.76932132304877,36.906411171104125,36.33883227663958,37.02631754748838,37.32035878383919,36.10693756981612,37.15562551080315,35.8122427750593,37.04756131110286,36.03719870926062,35.948724496635016,36.50011497588206,35.584408215437485,36.66475651299517,36.01273068783395,36.9760852118033,36.58568664819776,36.80961200020712,36.62563123977448,36.15781817990388,35.55902753931264,35.31827262238055,36.398345171247286,36.468313367847394,37.27843073231726,36.63588250755687,37.163973107889454,36.914117706745856,36.03008140957013,38.21685665749686,35.94975943128731,37.72268372597469,37.472508265151085,37.02404811197837,36.35626125102009,36.497517783635836,37.597587366934036,37.475291681547574,38.14828992507752,37.30543163040285,37.658392207458974,37.266236290215915,37.06000500796234,37.73553114973287,37.32261917956563,38.02968004271417,37.21893103632075,36.7220142120353,36.14376192298163,36.68167027821182,36.80324824631401,36.519708653418064,37.166295952590986,36.69423155868141,36.711405505199956,36.21406833972448,35.858138342332744,37.229114901066886,36.25564570093175,37.380093178585255,35.79620754620929,35.384581033942254,35.74195222492161,36.85139061642559,36.8163014524603,36.14115908711336,36.89365602195586,36.82212756644315,36.169573014606016,36.34705533662689,36.492363376161215,37.23170500575472,36.34717929633491,36.9334257197702,37.26446812163077,36.64426049082641,36.921895623409945,36.60619639536316,37.31048734330013,36.733024839952705,36.34778073130181,36.22584847997617,36.47245420534713,36.32679909257122,35.47230196477846,36.54606256533426,36.45137638770016,36.796597622611735,35.927631228344005,35.6798434830955,35.59676753175636,35.75752295712514,36.15353821765069,35.196781881132054,35.74034569271498,35.4727788628283,35.07499016834669,35.25868305269854,35.5508103158683,36.21909961025679,35.50485622211446,36.46096091312712,35.42373935726205,35.53223496959004,36.1195714102477,35.18421865957561,36.70412201057818,35.91357145248062,37.58440524326802,37.068320924102515,37.505825320363634,37.48651196362684,37.06443078365518,38.48079848946825,38.26755495042386,38.24967454823486,38.55225610500774,37.4043555505191,38.305139552420115,37.538317218993,38.90464800616233,37.9092694583432,38.33526131917838,37.80229524188776,36.78837128821415,37.83589257227177,37.64034574586764,38.62665262522172,37.476040602311585,38.16088073407323,37.02087802707363,37.07113512868786,37.03758531749707,36.63210008168685,37.568772419108605,36.67567413676464,37.5939302199154,37.13027967998,36.80895967687552,36.04257697331381,35.14545077979976,37.19026823171566,35.665881327406034,36.21617961423272,36.55115427711991,35.19545203581844,35.64642275990319,35.376177537320444,36.43140341319738,35.70176198218226,36.40440677057668,35.88212189177074,35.790746236302255,35.64299615145924,34.71505482216644,35.71042000913895,35.071355985919645,36.44274035009477,35.97588682565758,35.52668614502296,35.29003788722412,34.880454828588284,36.446249051957984,35.568494138931065,36.953728955519956,35.636952647330915,35.889553152262906,35.47179123557479,35.27817740896809,37.030409265409865,35.97456450495804,36.63439424152298,35.528171883512144,35.94426979547761,35.32940990572965,35.12979034526761,36.64307210707991,35.809409319673655,36.394711148234606,36.07736957965837,35.91105290040021,35.29321145110903,35.82508403084605,35.910069390668184,35.956198354715085,36.176585798087395,35.307962178488815,36.10898427848424,34.954027367774685,35.059931768821016,34.89720399240411,34.95614754947364,35.1732356968446,35.670307408359044,34.23837864644286,34.23014049975527,33.82522408223622,34.53676279366393,35.009593115039415,34.90325157519222,34.0635417031191,34.418830994101675,34.43642466404681,33.829639574879614,35.63491161069453,34.58260273912186,35.52458612213868,35.20193970492782,35.30237836856993,35.61639991170774,35.27335244241883,36.23410093482803,36.07305554861733,36.41014301841322,36.5675243638612,36.71510260035955,36.90874304550047,36.4151499489454,37.72728432172664,37.54506766416953,38.34431416357431,38.18762471839315,37.18189955489013,37.04929657581248,36.897034152459184,37.73152540059937,37.89416163127241,37.84052170031186,37.15899030131785,37.38544171648396,37.871378166433615,36.69010663561474,37.11929783697085,37.01790399640377,37.31496221104977,37.1131793479448,36.37829753735743,36.69459636490698,36.316636251946235,36.998280104994144,36.731706313134865,36.756055930213684,36.123600329167374,36.65095468532142,36.347713610692956,36.47978130690114,38.01151160679381,37.13077234764897,38.28992859430467,37.59047511211382,37.63464288859004,36.509761890946336,37.127694119580404,38.24936246792353,37.66343218360759,38.74757657197355,37.83492343711649,37.889901738824264,37.71898617976406,37.54490065726727,38.63085458403852,37.74070652481082,38.218776426954314,37.70562834781104,37.259493505436765,37.10848846025789,37.07750429264467,37.40181184863242,36.56301631335424,37.36143878636016,36.4979413198503,36.40175640868075,36.75264903431058,35.92785123364668,37.25011543716546,36.777548081901216,37.05927503461846,36.75596381489788,36.05419760316566,36.445326642394846,36.77044389022338,36.894267947241765,36.55766392420098,37.93109123688676,37.82076203974895,37.430051660873076,37.54160509927747,37.11101400203872,38.06983029679509,37.39193336725158,38.429764052938324,38.18420750038092,37.7391644002787,38.147913477214146,37.22310281776866,38.89386524031876,37.99079638718394,38.97663428623682,38.832050312707935,38.068929338769564,38.28423033167795,38.551007866900925,37.54471875706851,38.41681661662299,38.58168585060854,38.26504076480813,37.33680582912283,37.57046798079652,36.87691670045592,37.98373140984792,37.215567527732055,36.903976886071824,37.257023965120794,36.23102500484755,36.715612537576526,34.94635037126988,36.60632541329763,36.10563101715059,36.02023691002831,35.89960584546305,36.399174345131364,35.51585408176924,34.98083733321067,36.15619255327918,35.84472787457917,36.1643014407242,36.02340562764702,35.54546351179763,35.67269287436683,34.98899734516313,36.547318731564694,35.179451148845466,36.39370433493471,35.75323892027229,35.45487224298743,35.824165840237825,35.015176941599854,36.50175303095533,36.10641773230823,37.11067338954891,36.45668969582485,35.956221878355905,35.73015417509443,35.65306278458566,36.02801310106677,36.22897677749423,36.77859914556187,36.597991581741134,35.81906365906677,35.86325924078485,35.5520907948309,37.18976364049225,36.486643823497225,36.46471675041075,36.67510100469237,37.010778254670115,36.27006249604216,35.71742549903688,36.228796926435265,36.9819525742124,37.0738807884362,36.73847825294363,36.29761242073861,36.818600658433844,36.40603047666305,37.21933667784281,37.24026434059806,37.80652283079663,37.060933108467474,37.312197144975734,36.95746832026341,36.823352987291514,37.3141305633419,37.39317271864142,37.767244753091276,37.006245948450314,36.943737330553205,36.66331994949291,36.591904428882856,37.09629095755452,36.24057505485424,37.30802864080778,36.769155709518614,36.07756229433579,36.13046509743171,35.9309417713764,37.05567220457378,36.54450859164633,37.55347294108037,36.57825317519476,36.60982626557268,36.478598293136365,36.02545140504782,37.253268741065774,36.26172025593359,37.704632791084904,37.58067537361051,37.16788765005272,38.0253325019938,37.04630369121116,37.77126946810233,38.29631123588863,38.34951595436515,37.45080586411626,38.98168652297478,37.568822228842805,37.36826878261623,38.669395307378615,37.27024807339973,38.428556225696276,37.82921504666074,37.69865136339369,36.78008251277879,37.46250752360067,37.875710278829594,37.214691430856455,37.613428343592496,37.67033108572601,37.25738390827715,37.038231249471586,36.213035294105005,36.47909444360422,37.28966491593803,37.20851757616403,36.60562716183897,37.040534953222306,37.237920825874745,36.52352094320168,36.961614623468236,37.6782731911536,37.517384620324435,36.76759122113435,37.192841283280046,36.104394689934985,37.05594844907448,36.99607935740845,37.0639011643258,37.50556222132594,37.39377799955331,37.52197589966068,36.20186380101075,37.20774392862844,37.516324219828384,37.15556419101599,38.64384819014309,37.33059134091907,36.73305417962042,36.199937408471136,36.360839182681744,37.53355846342629,36.12358712461787,37.230651564459286,36.38127645991798,35.933529238566265,35.87177075847466,35.519674279462855,35.819451824079806,36.12030019653527,35.88834643192173,35.588673692368204,35.761051660521844,34.868844133046615,35.67362742061608,36.261329749614674,35.36177697808575,37.249060770933,35.90337274957319,36.03282630862825,36.043586428635095,35.940890938823564,37.28463196198134,36.773669393333876,37.331151965740105,37.44878525404948,37.15569506588807,37.28387492541132,38.031123153793175,38.26644715559679,38.054427787209775,38.321544907749235,37.638026903096325,37.46081317150569,38.6770773406252,38.33432280131063,39.028305768492174,37.982948669569225,38.499510162687145,37.97511795006984,37.63750255480453,38.281834684010875,37.65934498831026,38.79305151767261,37.84145312081245,38.63214342216519,38.045744441846296,37.350461293818086,37.59551249398859,37.045851016522484,37.33650323716721,37.84844810423172,38.188589539633846,37.10648116708767,37.201019674985254,36.814224268695725,36.460804769189714,37.1736274124551,36.71732236394875,36.93848253344088,36.56885945231779,36.38170597682828,36.492077207772994,35.35399987254818,37.21526757506741,36.258477221784275,36.56943247443169,35.812502813309095,36.26155259609745,36.36526120954247,35.93416533276029,36.75117224574256,36.516272671721765,36.79915366075112,36.79495271873576,35.98358539069202,35.910029260327704,35.60038382505158,36.48335251094241,35.60879351584653,36.45227270829919,36.270531419713116,35.3333937418091,35.70370065360266,35.867173561813296,36.509440163880654,35.742374327365404,35.70295848993516,36.558300753733505,36.31860222884006,37.29981215811521,35.3597268395888,37.001313568141505,36.46780733580237,35.619655379620355,36.35980235580747,36.96917645129042,36.5006731946047,36.281355284152305,35.96737552699318,36.146722605550345,36.806668821078254,36.33696337640379,35.92034162616926,35.91939208778066,36.06349080499868,36.040893397701375,35.96106119534658,36.436731752438554,35.34180090786334,35.25847243459589,34.556235612671124,34.56403055951322,34.965086303180854,34.94543747351504,35.95293963891187,35.800773465523974,35.21822195557478,35.53514429547561,34.99249138130708,35.39500007086629,35.53028472366945,35.73125962326782,36.28198105070485,35.38689154139262,36.52872983224301,36.385186109898356,36.87481682412311,35.99567349316234,37.449298327329814,36.94950093568383,37.726032906784575,36.77970548396112,37.04659963047652,37.90413213443332,37.09582894485126,38.127863460552895,38.17566500589746,38.351846266437555,38.0988077367833,37.372148701780134,38.98470301768836,38.274149111838135,38.826553184149574,38.111175269965834,37.44560041508648,38.24906406628512,37.1495114549501,38.28444724093283,37.71993625865632,38.03267191452026,37.41214036372792,37.59280323521785,37.42163069612978,36.67760879186942,37.36049623889627,36.679204141389086,38.0725753231839,37.19089120292601,37.22952858635215,37.17405867910473,36.21077440736501,38.21028932541582,37.6460787487375,38.18231731765921,37.91850876968796,37.26358799678509,38.117760692473794,38.02924817593001,38.80698191922541,38.7023267413935,39.23953246051888,38.218375515402386,39.13867398968889,39.142508552197555,37.98770627601548,39.18466203755409,38.595663892631066,39.00639588881759,39.217281045203556,38.277757212660774,38.13839411273545,37.72171488398241,37.95365840489706,37.88242556923442,38.116512999405906,37.88198645806691,37.237610835289104,38.01318680523765,37.05863199737688,37.603695421786355,37.29004125843462,37.00703718719375,37.21598886193567,37.01009618518513,37.282618949177355,36.26881501988216,38.02005736559678,37.52476214746995,37.88523061088678,36.21947409970181,37.2452312403034,37.22522473710264,37.72739428444796,38.13891708457092,37.45243911756305,38.93254751188578,38.86821192740135,37.92364045309567,38.99148849901532,38.63788794404284,38.918857019934755,39.3010266306858,39.445065404474875,38.580907417760464,38.63537927529184,38.73608939990051,38.325505411015726,39.44093932637275,38.4787774416389,39.36945552834093,38.52427676257847,38.02951241015513,38.61626735717907,38.06582026742834,38.25998386921363,37.77537786164651,37.71437047014673,37.50710007157398,37.03347635038994,37.30545273381861,36.80666457437736,37.62086209653066,36.2379410878157,37.036261196398534,37.067877657377934,35.63615721238045,36.0826315293835,35.63516757098293,35.891567353613866,35.631715924427716,37.06223241695836,35.995485597763405,36.452197397065895,36.113783824359494,35.55684220070083,36.48008991783328,36.05205479695328,36.542339907090714,36.4834029765073,36.59936133987113,36.09461713257266,36.242795358920084,37.38400608426369,36.9339479762102,36.783276135703694,36.27310359612313,36.489084861595,36.00197018124771,35.57871328798101,36.56044849119222,36.496062300163686,37.919493023325074,36.80090175936497,36.0722960196811,36.09142170060573,36.167114070754685,37.494046245049276,36.35293762519161,37.575755179189215,36.67610681981434,36.51615554110978,35.853150583190235,35.82619194469715,36.77290600223591,37.16464523530595,37.70149690770126,36.70853757710159,36.47653520070424,36.797351458119685,36.234410237528586,37.93576325221757,37.12966463826021,37.368951636305795,36.516058588664556,36.93849178371878,37.92819596608786,36.63579410639132,37.0741651523655,36.12197690622593,37.446205646124035,36.193449610171896,36.39468794032234,36.67987263147313,37.16768298695605,36.62546719946757,36.28906583719243,36.56413674983956,36.843542358575775,36.381682868333456,36.54045323222828,35.30682477072868,36.99474182923699,35.466012698843535,36.42402353285448,36.4467276205407,36.235671105408265,36.15550982918568,36.7062340867819,36.79120939145062,36.69652313282082,38.101114995861266,37.09551992230445,36.674865482278356,36.74134199003896,36.014348537439446,37.8503246632781,36.397005258954394,37.47699305254105,37.5612081489137,37.30078185079878,37.69889866549761,36.296016293326545,37.70514087375334,37.35201771689775,37.9885999187036,37.2611563381881,36.98027272708254,36.067628795251096,36.64497887569093,37.41793169140699,36.71117974390262,36.885261818128924,36.61581536355593,36.16320137870301,36.098445050945735,36.08819282178738,37.32387997869897,35.516902604152214,37.42237069011054,36.19659785007792,35.5313506789257,36.71644721504941,34.92161179771774,36.799032906072746,35.75774440872815,35.725934202129984,35.67639027241543,34.74599191463758,36.17608999382503,35.62030908799145,36.94618551413342,36.98221726579986,36.353664471010006,36.99471724454779,35.77263309414327,36.21847144299928,36.05273487061474,36.76924867301505,36.456740537468306,36.182512567789466,36.36061951152008,35.52253447951754,35.70998262744724,35.61681897332079,36.62696046095704,35.65235093314304,35.499780567103116,35.41218049843512,36.228823997675036,35.304604478119685,34.79356432575826,35.9595335311414,35.21768663490408,35.50884432209955,35.43790937903673,34.90937892589669,34.66929847987695,34.6970642413619,35.89547385875443,35.278558665352406,35.29382116817866,35.54623814277263,34.83559875133927,35.189855633700276,34.49671148011566,35.64341170712805,35.93719048563321,36.811377774963006,36.44839653762135,36.340046132502636,36.268947300328705,35.58954291170189,37.14665810773617,36.63740948692737,37.541264985060536,37.81487799528778,36.949703457305375,36.73758482595652,37.129791792455244,38.21112728405591,37.06384062749383,37.86605911191238,37.45827158312182,37.980616155604494,37.11488113644363,36.87475679558328,36.816502027330145,37.31369450001438,37.532755064964014,37.12802845251421,36.12829336512955,36.71346002235964,36.339749391252006,36.60236920230672,35.93814492338603,36.963779020951996,36.28329621397702,36.11122644174446,35.97616398869243,35.57102994100933,36.71843387889337,35.55421560614934,35.59109084080317,35.6931804203085,35.2494489727204,34.93743975069526,35.27095844529829,36.410630108901415,34.99658655184149,36.187414818856666,35.224229196174406,35.11328924779242,34.68573228604345,35.24547089137444,35.91873851613047,34.769215280352704,35.778837533094475,34.39963518050896,34.641668122442155,34.33591127013757,35.09009940706906,35.41543489693007,35.077838812115985,34.911670406578494,35.085300696968865,35.37842366389638,35.183485904950984,34.62000431646027,36.16725018543196,35.43815104228014,35.53646054679645,35.27723609512741,34.54022944071256,34.309198815751,35.21709340094963,35.37033199463605,35.081456067819126,35.88291580442365,35.414328715228955,35.537248796070706,35.65949289615537,34.62888208394923,35.67042783082942,35.415251056122656,35.46197085907015,34.980414978148005,34.77779496899544,35.515869785650395,34.84567671114869,35.48173473638513,34.55165859704642,36.007710183180826,34.706377681333244,34.41849807236658,34.362243747532396,33.46746021527235,34.83558625275959,34.36214851240151,34.93576502897228,34.10279660085879,33.35123446906452,33.582271137948965,33.19863153371718,34.576803821068744,33.80195330967461,34.613478074283506,34.9849698606073,34.773831814594324,34.630605751870206,35.5063054553715,35.751207578863465,35.31081765818496,35.48362627041947,35.660752395424325,36.174461403436325,36.53673568372158,35.54331595300434,37.55749587313981,36.63386096166966,37.72818936761359,36.86602132168809,36.76748828875173,37.493141332899775,36.95231815507293,37.60707122607869,37.44052982464675,37.90081523713009,37.318909931448715,37.59662696790267,37.07285616421827,36.105233634545904,37.15676378384284,37.14631316541553,38.182423616622074,36.722506459187734,36.611331633769744,36.32461703264878,36.408374818555025,36.904162557571034,36.06773156979949,37.01242530542014,36.30142665590745,36.430456517281144,35.78853238928732,36.94632182158092,37.404063557787154,36.10181352516415,37.42640533364693,37.343851140972525,37.014888834168225,37.23449790649075,36.50357493516285,37.16367242300778,36.893164690867344,37.889045324381485,37.864454931570165,37.4533612316905,37.05120097526135,37.30207150224401,39.16304723697785,37.98731792315198,38.370325858908075,37.01686086395573,38.901584766071274,38.137774275557206,37.84043170545124,37.590297653615366,37.08695174663762,37.98662779487792,37.103913119180035,37.214733199262696,37.356983925994236,36.68115800647573,37.37483656242917,37.08051887216882,37.33671320781571,37.35608430146912,36.829279131210455,37.21592312078685,35.580160994630674,37.0789472922066,36.55541893897742,37.37236376922054,37.095542775897584,36.9058744894182,36.41189062528547,36.95811799553861,37.85961426074683,37.57129194251767,38.193733687100185,38.54472269254343,37.60310755251531,37.820054818466204,37.60050581105081,39.307118006092715,37.991160286835566,39.29320104489756,39.099564898592924,38.499524371209795,38.25510331015266,37.259710767630345,38.79949204887796,38.72548559960536,39.288740846112496,38.499377906924565,38.719076621673075,38.46121682214927,37.4372635988153,38.24019151396359,38.67204854708598,38.04415394648441,37.59393319091908,37.475249880524196,37.0339742159795,37.25611779852992,37.62589026754445,36.78456955920311,37.60830372532416,36.742031268811466,36.388609012385295,36.255358487224,35.63578892803553,36.584139959081675,35.865644291565495,36.79151831278485,36.820971418365865,35.95218892051946,36.5684087102698,35.51003752432164,36.654494849941536,36.72945997759469,37.38490056168621,36.42463710569848,36.14822141101823,35.89989994749589,36.39326783805158,37.32425575209915,36.987716411670206,37.55903181542636,36.66807018828145,36.233120903564014,36.7794944272097,36.65043286273797,36.98081323432136,36.706445637777044,37.22217980764758,36.70996159540196,35.89359254807661,37.613862360393554,36.26660020628193,37.06555038718778,36.97962876006984,36.89091098279163,37.37561449643079,36.702324488514336,36.51565915302327,36.139560041964884,37.60489931080132,37.490341135340174,37.05753442644223,37.552191828435795,37.49712395747712,37.35092562216763,37.51625845859186,38.071273997030396,37.61018894287562,38.60598512223831,37.83815890321521,37.839422644051446,37.67656593826435,37.41432960878743,38.168978214796624,37.976132893439164,37.793732800950174,37.82809555857976,37.03035785170109,37.63594718570275,36.50463487191596,37.468753307541384,37.46980644718208,37.60163773107006,37.07504248305781,37.42613615123688,36.95043153489202,37.33047820123944,37.014987263071426,37.241395069328846,37.88030346376292,37.14778752883227,37.09497052496319,37.29441038295313,36.87163474516145,38.515310052896254,37.067361650492046,37.466232476129946,38.184165897084455,37.84174874812046,37.9134853120337,37.4544987035442,38.19097041754327,38.30125816944456,38.678544321696926,38.29927512337785,38.30496895584977,39.019515678090734,37.57720535965945,38.53716156322266,37.93637311107747,37.954610383282976,38.872729255084224,37.95311712159034,37.612855641185554,37.89064612637217,37.94904674655088,37.795276845337305,38.39191203600975,37.94336263515056,37.19968203724037,36.94902238864534,36.63440978657158,37.01262085263326,36.66055979172319,37.901043391190555,37.42825562461252,36.29497517435731,36.93019934170726,36.98697668296862,37.783350647133204,37.10736593542014,37.793968241745105,37.42244479966096,37.07414094560464,36.77633194476794,36.887693113779804,37.75447719835369,37.0874411270662,38.23688501055218,37.79127275253079,36.93098452480383,37.10445348851268,36.663982771938265,37.803551943752815,37.67963056870876,38.3401492146255,38.09311065678986,37.46613089306924,36.88176483882914,36.58623912571123,37.89553802819838,37.00790489776921,37.348651639069196,36.901418766531165,36.29074173658003,36.30430204011078,36.89402321050889,36.70842053734554,34.664794565389066,36.14784800005849,36.27897349171222,35.75869892960853,36.226467910270706,35.63939081352532,36.23980608191993,35.07142373915788,37.15946719079954,36.29038252061584,35.7775656298288,36.68715651721,35.837116759268916,36.99031209201163,36.868640639782555,37.70513519364508,37.55033509598353,37.72171346184522,37.51558816563596,36.723135286642886,37.9800795202781,37.90101748268839,37.472987621930585,37.842806556648775,37.58099181169614,37.7338561583713,37.87621815979039,38.552247858820785,37.621233057964574,38.84968019056591,38.21289012559663,37.92777621035135,38.004457512154296,37.38865589195419,37.92763966029674,38.34230559959919,37.77336577934521,38.026441413229215,38.315173695604386,37.54111938191906,37.23528521564983,37.842247105011644,37.322734787068896,38.286688092716126,37.33764907537006,36.79467857784888,36.70198985314186,36.26145505512185,37.893420483950784,36.33825135884343,37.35621528935446,37.427228794365476,37.21605117170507,36.12423719170884,36.425428274308345,36.65451660026197,36.1568710851766,37.35979681665796,36.58782738482547,36.400639809301346,36.150732482468655,35.45090309553345,36.69167910929477,36.27556381548217,36.46015823586917,36.2143176383549,35.962765724496876,35.921760086119285,35.47880953750092,36.30670111753263,35.63122945970812,36.250064684951035,36.21157079149879,34.851277189392654,35.60735246892046,35.09188643315883,36.2711990728642,35.34597069547412,36.05823521033041,35.81272618456918,35.77596005660643,36.104915405153086,35.766965722629514,36.749180509021286,37.05554946759155,36.675250366063665,35.996705013641815,35.35278615308822,35.888601527983504,36.0437493137551,36.285881564714984,35.7168467117082,36.848012326036866,36.0333464684557,36.31017215464849,35.48071781911128,35.05697342222581,36.05257016310304,35.40912455537648,35.86447684797091,36.16790969536479,35.09460483429366,35.33372300445117,34.3144842366182,34.63096960953112,34.97915352955955,35.702512054616996,34.9674581156637,34.539871098226456,33.83945571057755,33.84490874771601,34.715973525079235,34.05534324289292,35.377912199051394,34.33636527666991,34.870906498875115,34.905277731847704,34.03163781971656,36.16713003647035,34.85004747149011,36.01846956337141,36.48375070819614,35.92883912082055,36.189351552610304,35.54027489795306,37.2441322204981,36.712164108976765,36.42895197170149,37.124913517390084,36.469411680098816,37.54517261737496,36.99255137849583,37.4723944806626,37.54454312311153,37.79026974830936,37.08059146207557,37.58127095232263,36.454332999580714,36.65073172711298,37.96456680635249,37.49509213444386,37.6866497254466,36.61914839578288,37.055837392938855,35.90847979563716,36.39954053562553,37.30296214201438,36.31238260408954,37.167156958954216,36.37391161954006,36.46393631738181,36.29288107061473,36.78511607061111,37.70820427415783,35.89833610663612,36.873457146497984,36.329779186444014,36.27100884232553,37.5222196300774,36.23821815444582,37.442550357777755,36.89146883745134,37.75778790986518,37.858349062971314,37.23723479661918,37.722561081553465,37.38507031387548,37.88478538418454,37.45066550308234,38.34545056269588,37.70039322903499,38.11611460920889,37.57685654591565,36.78955040791396,37.8581067347145,37.7975098547784,38.530031104918926,37.50021532877177,37.81853644350772,36.910486866055415,36.668915613059546,36.461403964992655,36.33217856882235,36.9987272793075,36.89067969064254,36.17757457363586,36.476038969652095,36.10522299523938,36.82238627196493,35.57555298880516,36.37205123224813,37.200443000598575,36.11226790204071,36.249022786364804,36.5716794024349,36.85796142373027,36.355883113725014,37.13226319606368,36.76726958587722,36.7900280046918,37.03341018686975,37.374948827268994,37.67821681043529,37.494367268390896,38.35331390330792,37.141952754398865,37.8421908073199,38.04688890757205,37.46612069165235,38.774526974011835,37.802708604293905,37.88730946601985,37.63742254926891,38.1415325756706,37.515937878045726,37.04810223206967,38.0988898838942,37.28938612214404,37.141335988267194,37.26239843429574,36.629604026841946,36.180736403537786,35.501256175277256,35.5547742204191,35.642807617675196,36.56316933995636,35.614306485488775,35.71752301884255,35.49982400255133,34.8694544635195,34.74272929060007,34.923246419170724,35.560201194008435,35.1236363374325,34.95822979913603,34.40238265385246,33.926305385743646,34.80905819289375,34.81210911517846,35.82117659906879,35.755690258584394,34.990084476885364,35.73459093323259,34.810808147449734,35.747613803181444,35.03544764156253,35.49913495255397,35.46875074312508,35.630046499541834,35.48780752744281,35.13889291528642,35.929255438257314,35.41835464146029,36.07645090061472,35.71650627906296,35.36627050874565,35.62415370698339,35.1660470067146,35.38332484101448,35.42973509826195,35.459748199732275,35.39258498622874,35.14355868112749,35.726055948164685,35.45961526348868,35.87436336674431],\"type\":\"scatter\"}],                        {\"template\":{\"data\":{\"histogram2dcontour\":[{\"type\":\"histogram2dcontour\",\"colorbar\":{\"outlinewidth\":0,\"ticks\":\"\"},\"colorscale\":[[0.0,\"#0d0887\"],[0.1111111111111111,\"#46039f\"],[0.2222222222222222,\"#7201a8\"],[0.3333333333333333,\"#9c179e\"],[0.4444444444444444,\"#bd3786\"],[0.5555555555555556,\"#d8576b\"],[0.6666666666666666,\"#ed7953\"],[0.7777777777777778,\"#fb9f3a\"],[0.8888888888888888,\"#fdca26\"],[1.0,\"#f0f921\"]]}],\"choropleth\":[{\"type\":\"choropleth\",\"colorbar\":{\"outlinewidth\":0,\"ticks\":\"\"}}],\"histogram2d\":[{\"type\":\"histogram2d\",\"colorbar\":{\"outlinewidth\":0,\"ticks\":\"\"},\"colorscale\":[[0.0,\"#0d0887\"],[0.1111111111111111,\"#46039f\"],[0.2222222222222222,\"#7201a8\"],[0.3333333333333333,\"#9c179e\"],[0.4444444444444444,\"#bd3786\"],[0.5555555555555556,\"#d8576b\"],[0.6666666666666666,\"#ed7953\"],[0.7777777777777778,\"#fb9f3a\"],[0.8888888888888888,\"#fdca26\"],[1.0,\"#f0f921\"]]}],\"heatmap\":[{\"type\":\"heatmap\",\"colorbar\":{\"outlinewidth\":0,\"ticks\":\"\"},\"colorscale\":[[0.0,\"#0d0887\"],[0.1111111111111111,\"#46039f\"],[0.2222222222222222,\"#7201a8\"],[0.3333333333333333,\"#9c179e\"],[0.4444444444444444,\"#bd3786\"],[0.5555555555555556,\"#d8576b\"],[0.6666666666666666,\"#ed7953\"],[0.7777777777777778,\"#fb9f3a\"],[0.8888888888888888,\"#fdca26\"],[1.0,\"#f0f921\"]]}],\"heatmapgl\":[{\"type\":\"heatmapgl\",\"colorbar\":{\"outlinewidth\":0,\"ticks\":\"\"},\"colorscale\":[[0.0,\"#0d0887\"],[0.1111111111111111,\"#46039f\"],[0.2222222222222222,\"#7201a8\"],[0.3333333333333333,\"#9c179e\"],[0.4444444444444444,\"#bd3786\"],[0.5555555555555556,\"#d8576b\"],[0.6666666666666666,\"#ed7953\"],[0.7777777777777778,\"#fb9f3a\"],[0.8888888888888888,\"#fdca26\"],[1.0,\"#f0f921\"]]}],\"contourcarpet\":[{\"type\":\"contourcarpet\",\"colorbar\":{\"outlinewidth\":0,\"ticks\":\"\"}}],\"contour\":[{\"type\":\"contour\",\"colorbar\":{\"outlinewidth\":0,\"ticks\":\"\"},\"colorscale\":[[0.0,\"#0d0887\"],[0.1111111111111111,\"#46039f\"],[0.2222222222222222,\"#7201a8\"],[0.3333333333333333,\"#9c179e\"],[0.4444444444444444,\"#bd3786\"],[0.5555555555555556,\"#d8576b\"],[0.6666666666666666,\"#ed7953\"],[0.7777777777777778,\"#fb9f3a\"],[0.8888888888888888,\"#fdca26\"],[1.0,\"#f0f921\"]]}],\"surface\":[{\"type\":\"surface\",\"colorbar\":{\"outlinewidth\":0,\"ticks\":\"\"},\"colorscale\":[[0.0,\"#0d0887\"],[0.1111111111111111,\"#46039f\"],[0.2222222222222222,\"#7201a8\"],[0.3333333333333333,\"#9c179e\"],[0.4444444444444444,\"#bd3786\"],[0.5555555555555556,\"#d8576b\"],[0.6666666666666666,\"#ed7953\"],[0.7777777777777778,\"#fb9f3a\"],[0.8888888888888888,\"#fdca26\"],[1.0,\"#f0f921\"]]}],\"mesh3d\":[{\"type\":\"mesh3d\",\"colorbar\":{\"outlinewidth\":0,\"ticks\":\"\"}}],\"scatter\":[{\"fillpattern\":{\"fillmode\":\"overlay\",\"size\":10,\"solidity\":0.2},\"type\":\"scatter\"}],\"parcoords\":[{\"type\":\"parcoords\",\"line\":{\"colorbar\":{\"outlinewidth\":0,\"ticks\":\"\"}}}],\"scatterpolargl\":[{\"type\":\"scatterpolargl\",\"marker\":{\"colorbar\":{\"outlinewidth\":0,\"ticks\":\"\"}}}],\"bar\":[{\"error_x\":{\"color\":\"#2a3f5f\"},\"error_y\":{\"color\":\"#2a3f5f\"},\"marker\":{\"line\":{\"color\":\"#E5ECF6\",\"width\":0.5},\"pattern\":{\"fillmode\":\"overlay\",\"size\":10,\"solidity\":0.2}},\"type\":\"bar\"}],\"scattergeo\":[{\"type\":\"scattergeo\",\"marker\":{\"colorbar\":{\"outlinewidth\":0,\"ticks\":\"\"}}}],\"scatterpolar\":[{\"type\":\"scatterpolar\",\"marker\":{\"colorbar\":{\"outlinewidth\":0,\"ticks\":\"\"}}}],\"histogram\":[{\"marker\":{\"pattern\":{\"fillmode\":\"overlay\",\"size\":10,\"solidity\":0.2}},\"type\":\"histogram\"}],\"scattergl\":[{\"type\":\"scattergl\",\"marker\":{\"colorbar\":{\"outlinewidth\":0,\"ticks\":\"\"}}}],\"scatter3d\":[{\"type\":\"scatter3d\",\"line\":{\"colorbar\":{\"outlinewidth\":0,\"ticks\":\"\"}},\"marker\":{\"colorbar\":{\"outlinewidth\":0,\"ticks\":\"\"}}}],\"scattermapbox\":[{\"type\":\"scattermapbox\",\"marker\":{\"colorbar\":{\"outlinewidth\":0,\"ticks\":\"\"}}}],\"scatterternary\":[{\"type\":\"scatterternary\",\"marker\":{\"colorbar\":{\"outlinewidth\":0,\"ticks\":\"\"}}}],\"scattercarpet\":[{\"type\":\"scattercarpet\",\"marker\":{\"colorbar\":{\"outlinewidth\":0,\"ticks\":\"\"}}}],\"carpet\":[{\"aaxis\":{\"endlinecolor\":\"#2a3f5f\",\"gridcolor\":\"white\",\"linecolor\":\"white\",\"minorgridcolor\":\"white\",\"startlinecolor\":\"#2a3f5f\"},\"baxis\":{\"endlinecolor\":\"#2a3f5f\",\"gridcolor\":\"white\",\"linecolor\":\"white\",\"minorgridcolor\":\"white\",\"startlinecolor\":\"#2a3f5f\"},\"type\":\"carpet\"}],\"table\":[{\"cells\":{\"fill\":{\"color\":\"#EBF0F8\"},\"line\":{\"color\":\"white\"}},\"header\":{\"fill\":{\"color\":\"#C8D4E3\"},\"line\":{\"color\":\"white\"}},\"type\":\"table\"}],\"barpolar\":[{\"marker\":{\"line\":{\"color\":\"#E5ECF6\",\"width\":0.5},\"pattern\":{\"fillmode\":\"overlay\",\"size\":10,\"solidity\":0.2}},\"type\":\"barpolar\"}],\"pie\":[{\"automargin\":true,\"type\":\"pie\"}]},\"layout\":{\"autotypenumbers\":\"strict\",\"colorway\":[\"#636efa\",\"#EF553B\",\"#00cc96\",\"#ab63fa\",\"#FFA15A\",\"#19d3f3\",\"#FF6692\",\"#B6E880\",\"#FF97FF\",\"#FECB52\"],\"font\":{\"color\":\"#2a3f5f\"},\"hovermode\":\"closest\",\"hoverlabel\":{\"align\":\"left\"},\"paper_bgcolor\":\"white\",\"plot_bgcolor\":\"#E5ECF6\",\"polar\":{\"bgcolor\":\"#E5ECF6\",\"angularaxis\":{\"gridcolor\":\"white\",\"linecolor\":\"white\",\"ticks\":\"\"},\"radialaxis\":{\"gridcolor\":\"white\",\"linecolor\":\"white\",\"ticks\":\"\"}},\"ternary\":{\"bgcolor\":\"#E5ECF6\",\"aaxis\":{\"gridcolor\":\"white\",\"linecolor\":\"white\",\"ticks\":\"\"},\"baxis\":{\"gridcolor\":\"white\",\"linecolor\":\"white\",\"ticks\":\"\"},\"caxis\":{\"gridcolor\":\"white\",\"linecolor\":\"white\",\"ticks\":\"\"}},\"coloraxis\":{\"colorbar\":{\"outlinewidth\":0,\"ticks\":\"\"}},\"colorscale\":{\"sequential\":[[0.0,\"#0d0887\"],[0.1111111111111111,\"#46039f\"],[0.2222222222222222,\"#7201a8\"],[0.3333333333333333,\"#9c179e\"],[0.4444444444444444,\"#bd3786\"],[0.5555555555555556,\"#d8576b\"],[0.6666666666666666,\"#ed7953\"],[0.7777777777777778,\"#fb9f3a\"],[0.8888888888888888,\"#fdca26\"],[1.0,\"#f0f921\"]],\"sequentialminus\":[[0.0,\"#0d0887\"],[0.1111111111111111,\"#46039f\"],[0.2222222222222222,\"#7201a8\"],[0.3333333333333333,\"#9c179e\"],[0.4444444444444444,\"#bd3786\"],[0.5555555555555556,\"#d8576b\"],[0.6666666666666666,\"#ed7953\"],[0.7777777777777778,\"#fb9f3a\"],[0.8888888888888888,\"#fdca26\"],[1.0,\"#f0f921\"]],\"diverging\":[[0,\"#8e0152\"],[0.1,\"#c51b7d\"],[0.2,\"#de77ae\"],[0.3,\"#f1b6da\"],[0.4,\"#fde0ef\"],[0.5,\"#f7f7f7\"],[0.6,\"#e6f5d0\"],[0.7,\"#b8e186\"],[0.8,\"#7fbc41\"],[0.9,\"#4d9221\"],[1,\"#276419\"]]},\"xaxis\":{\"gridcolor\":\"white\",\"linecolor\":\"white\",\"ticks\":\"\",\"title\":{\"standoff\":15},\"zerolinecolor\":\"white\",\"automargin\":true,\"zerolinewidth\":2},\"yaxis\":{\"gridcolor\":\"white\",\"linecolor\":\"white\",\"ticks\":\"\",\"title\":{\"standoff\":15},\"zerolinecolor\":\"white\",\"automargin\":true,\"zerolinewidth\":2},\"scene\":{\"xaxis\":{\"backgroundcolor\":\"#E5ECF6\",\"gridcolor\":\"white\",\"linecolor\":\"white\",\"showbackground\":true,\"ticks\":\"\",\"zerolinecolor\":\"white\",\"gridwidth\":2},\"yaxis\":{\"backgroundcolor\":\"#E5ECF6\",\"gridcolor\":\"white\",\"linecolor\":\"white\",\"showbackground\":true,\"ticks\":\"\",\"zerolinecolor\":\"white\",\"gridwidth\":2},\"zaxis\":{\"backgroundcolor\":\"#E5ECF6\",\"gridcolor\":\"white\",\"linecolor\":\"white\",\"showbackground\":true,\"ticks\":\"\",\"zerolinecolor\":\"white\",\"gridwidth\":2}},\"shapedefaults\":{\"line\":{\"color\":\"#2a3f5f\"}},\"annotationdefaults\":{\"arrowcolor\":\"#2a3f5f\",\"arrowhead\":0,\"arrowwidth\":1},\"geo\":{\"bgcolor\":\"white\",\"landcolor\":\"#E5ECF6\",\"subunitcolor\":\"white\",\"showland\":true,\"showlakes\":true,\"lakecolor\":\"white\"},\"title\":{\"x\":0.05},\"mapbox\":{\"style\":\"light\"}}},\"shapes\":[{\"line\":{\"color\":\"gray\",\"dash\":\"dot\"},\"type\":\"line\",\"x0\":\"2024-05-04T00:00:00\",\"x1\":\"2024-05-04T00:00:00\",\"xref\":\"x\",\"y0\":0,\"y1\":1,\"yref\":\"y domain\"}],\"annotations\":[{\"showarrow\":false,\"text\":\"Train\\u002fTest split\",\"x\":\"2024-05-04T00:00:00\",\"y\":71,\"yshift\":20}],\"legend\":{\"title\":{\"text\":\"Series\"}},\"title\":{\"text\":\"Prophet Forecast \\u2014 Toothpaste (horizon=30d, holdout=14d)\"},\"xaxis\":{\"title\":{\"text\":\"Date\"}},\"yaxis\":{\"title\":{\"text\":\"Quantity\"}},\"height\":520},                        {\"responsive\": true}                    )                };                            </script>        </div>\n",
       "</body>\n",
       "</html>"
      ]
     },
     "metadata": {},
     "output_type": "display_data"
    }
   ],
   "source": [
    "# STEP 9: Forecast daily demand with Prophet (train/test + forecast plot)\n",
    "\n",
    "import sys, subprocess\n",
    "from pyspark.sql import functions as F\n",
    "import pandas as pd\n",
    "import numpy as np\n",
    "from datetime import timedelta\n",
    "import plotly.graph_objects as go\n",
    "\n",
    "CATALOG = \"retail_demand_catalog\"\n",
    "SCHEMA  = \"retail_demand_schema\"\n",
    "GOLD_DAILY = f\"{CATALOG}.{SCHEMA}.gold_daily_product_demand\"\n",
    "\n",
    "spark.sql(f\"USE CATALOG {CATALOG}\")\n",
    "spark.sql(f\"USE {SCHEMA}\")\n",
    "\n",
    "# ---------- Widgets ----------\n",
    "# Default product = highest total demand\n",
    "daily = spark.table(GOLD_DAILY)\n",
    "\n",
    "if daily.limit(1).count() == 0:\n",
    "    displayHTML(\"<h3>No data in gold_daily_product_demand. Please run Step 7 first.</h3>\")\n",
    "else:\n",
    "    default_product_row = (daily.groupBy(\"product_name\")\n",
    "                                .agg(F.sum(\"total_quantity\").alias(\"qty\"))\n",
    "                                .orderBy(F.desc(\"qty\")).limit(1).collect())\n",
    "    default_product = default_product_row[0][\"product_name\"] if default_product_row else \"\"\n",
    "\n",
    "    dbutils.widgets.removeAll()\n",
    "    dbutils.widgets.text(\"product_name\", default_product, \"Product to forecast\")\n",
    "    dbutils.widgets.text(\"horizon_days\", \"30\", \"Forecast horizon (days)\")\n",
    "    dbutils.widgets.text(\"test_days\", \"14\", \"Holdout (last N days)\")\n",
    "    product = dbutils.widgets.get(\"product_name\")\n",
    "    horizon_days = int(dbutils.widgets.get(\"horizon_days\") or \"30\")\n",
    "    test_days = int(dbutils.widgets.get(\"test_days\") or \"14\")\n",
    "\n",
    "    # ---------- Get series for product ----------\n",
    "    ts_sdf = (daily\n",
    "              .filter(F.col(\"product_name\") == product)\n",
    "              .select(\"Event_Date\", \"total_quantity\")\n",
    "              .orderBy(\"Event_Date\"))\n",
    "\n",
    "    if ts_sdf.limit(1).count() == 0:\n",
    "        displayHTML(f\"<h3>No time series found for product: <code>{product}</code></h3>\")\n",
    "    else:\n",
    "        # Convert to pandas and fill any missing dates with 0 quantity\n",
    "        pdf = ts_sdf.toPandas().sort_values(\"Event_Date\")\n",
    "        pdf[\"Event_Date\"] = pd.to_datetime(pdf[\"Event_Date\"])\n",
    "        if pdf[\"Event_Date\"].isnull().any():\n",
    "            pdf = pdf.dropna(subset=[\"Event_Date\"])\n",
    "        if len(pdf) == 0:\n",
    "            displayHTML(f\"<h3>No valid dates for: <code>{product}</code></h3>\")\n",
    "        else:\n",
    "            full_idx = pd.date_range(pdf[\"Event_Date\"].min(), pdf[\"Event_Date\"].max(), freq=\"D\")\n",
    "            pdf_full = (pdf.set_index(\"Event_Date\")\n",
    "                          .reindex(full_idx)\n",
    "                          .fillna({\"total_quantity\": 0})\n",
    "                          .rename_axis(\"Event_Date\")\n",
    "                          .reset_index())\n",
    "            pdf_full.columns = [\"ds\", \"y\"]  # Prophet expects ds (date), y (value)\n",
    "\n",
    "            # Adjust test_days if series is short\n",
    "            if len(pdf_full) < (test_days + 7):\n",
    "                test_days = max(3, min(7, len(pdf_full)//4))\n",
    "\n",
    "            # Train / Test split\n",
    "            train = pdf_full.iloc[:-test_days] if test_days > 0 else pdf_full.copy()\n",
    "            test = pdf_full.iloc[-test_days:] if test_days > 0 else pd.DataFrame(columns=pdf_full.columns)\n",
    "\n",
    "            # ---------- Import / install Prophet ----------\n",
    "            try:\n",
    "                from prophet import Prophet\n",
    "            except Exception as e:\n",
    "                # Try to install prophet silently\n",
    "                print(\"Installing prophet ...\")\n",
    "                subprocess.check_call([sys.executable, \"-m\", \"pip\", \"install\", \"prophet==1.1.5\", \"-q\"])\n",
    "                from prophet import Prophet\n",
    "\n",
    "            # Build & fit model (simple, robust defaults)\n",
    "            m = Prophet(\n",
    "                daily_seasonality=True,      # daily can help with short series after zero-filling\n",
    "                weekly_seasonality=True,\n",
    "                yearly_seasonality=True,\n",
    "                seasonality_mode=\"additive\",\n",
    "                changepoint_prior_scale=0.5  # a bit flexible\n",
    "            )\n",
    "            # Fit\n",
    "            m.fit(train)\n",
    "\n",
    "            # Future dataframe for horizon\n",
    "            future = m.make_future_dataframe(periods=horizon_days, freq=\"D\")\n",
    "            fcst = m.predict(future)\n",
    "\n",
    "            # ---------- Metrics on holdout ----------\n",
    "            def smape(y_true, y_pred):\n",
    "                denom = (np.abs(y_true) + np.abs(y_pred))\n",
    "                mask = denom > 0\n",
    "                return np.mean(2.0 * np.abs(y_pred - y_true)[mask] / denom[mask]) if mask.any() else np.nan\n",
    "\n",
    "            mae = rmse = smape_val = np.nan\n",
    "            if test_days > 0 and len(test) > 0:\n",
    "                # Align on test dates\n",
    "                merged = test.merge(fcst[[\"ds\", \"yhat\"]], on=\"ds\", how=\"left\")\n",
    "                y_true = merged[\"y\"].values\n",
    "                y_pred = merged[\"yhat\"].values\n",
    "                mae = float(np.mean(np.abs(y_pred - y_true)))\n",
    "                rmse = float(np.sqrt(np.mean((y_pred - y_true) ** 2)))\n",
    "                smape_val = float(smape(y_true, y_pred))\n",
    "\n",
    "            # ---------- Plotly chart: history + forecast ----------\n",
    "            hist = fcst[fcst[\"ds\"] <= train[\"ds\"].max()]\n",
    "            fut = fcst[fcst[\"ds\"] > train[\"ds\"].max()]\n",
    "\n",
    "            fig = go.Figure()\n",
    "\n",
    "            # Actuals (all)\n",
    "            fig.add_trace(go.Scatter(\n",
    "                x=pdf_full[\"ds\"], y=pdf_full[\"y\"], mode=\"lines+markers\",\n",
    "                name=\"Actual (history)\", line=dict(color=\"#2563eb\")\n",
    "            ))\n",
    "\n",
    "            # Forecast (yhat)\n",
    "            fig.add_trace(go.Scatter(\n",
    "                x=fcst[\"ds\"], y=fcst[\"yhat\"], mode=\"lines\",\n",
    "                name=\"Forecast (yhat)\", line=dict(color=\"#10b981\", dash=\"solid\", width=3)\n",
    "            ))\n",
    "\n",
    "            # Uncertainty intervals\n",
    "            fig.add_trace(go.Scatter(\n",
    "                x=fcst[\"ds\"], y=fcst[\"yhat_upper\"], mode=\"lines\",\n",
    "                line=dict(width=0), showlegend=False\n",
    "            ))\n",
    "            fig.add_trace(go.Scatter(\n",
    "                x=fcst[\"ds\"], y=fcst[\"yhat_lower\"], mode=\"lines\",\n",
    "                fill='tonexty', fillcolor=\"rgba(16,185,129,0.15)\",\n",
    "                line=dict(width=0), name=\"Forecast interval\"\n",
    "            ))\n",
    "\n",
    "            # Vertical line at train/test boundary\n",
    "            cutoff = train[\"ds\"].max()\n",
    "            fig.add_vline(x=cutoff, line_color=\"gray\", line_dash=\"dot\")\n",
    "            fig.add_annotation(x=cutoff, y=max(pdf_full[\"y\"].max(), (fcst[\"yhat\"].max() if len(fcst) else 0)),\n",
    "                               text=\"Train/Test split\", showarrow=False, yshift=20)\n",
    "\n",
    "            title = f\"Prophet Forecast — {product} (horizon={horizon_days}d, holdout={test_days}d)\"\n",
    "            fig.update_layout(\n",
    "                title=title,\n",
    "                xaxis_title=\"Date\",\n",
    "                yaxis_title=\"Quantity\",\n",
    "                legend_title_text=\"Series\",\n",
    "                height=520\n",
    "            )\n",
    "\n",
    "            # Metrics panel\n",
    "            metrics_html = f\"\"\"\n",
    "            <div style=\"margin:10px 0;padding:10px;border-left:4px solid #22c55e;background:#f0fff4;\">\n",
    "              <b>Backtest metrics (last {test_days} days)</b><br/>\n",
    "              MAE: <code>{mae:.3f}</code> &nbsp;&nbsp;\n",
    "              RMSE: <code>{rmse:.3f}</code> &nbsp;&nbsp;\n",
    "              sMAPE: <code>{(smape_val*100 if not np.isnan(smape_val) else np.nan):.2f}%</code>\n",
    "            </div>\n",
    "            \"\"\"\n",
    "            displayHTML(metrics_html)\n",
    "            displayHTML(fig.to_html(include_plotlyjs=\"cdn\"))\n",
    "\n",
    "# Optional tweaks you can try (in the same cell after it works once)\n",
    "# Increase horizon_days to 60–90 if you have longer history.\n",
    "# Tune changepoint_prior_scale (lower = smoother, higher = more responsive).\n",
    "# If the series is very spiky with many zeros, consider seasonality_mode=\"multiplicative\" or adding holiday/season regressors later.\n"
   ]
  },
  {
   "cell_type": "code",
   "execution_count": 0,
   "metadata": {
    "application/vnd.databricks.v1+cell": {
     "cellMetadata": {
      "byteLimit": 2048000,
      "rowLimit": 10000
     },
     "inputWidgets": {},
     "nuid": "90fa35f7-87b0-41f2-a486-5b48c13e0480",
     "showTitle": false,
     "tableResultSettingsMap": {},
     "title": ""
    }
   },
   "outputs": [
    {
     "output_type": "stream",
     "name": "stderr",
     "output_type": "stream",
     "text": [
      "/home/spark-32bcb1a9-dadf-4456-b387-fe/.ipykernel/2459/command-4509824920760763-4293602601:64: DeprecationWarning:\n\ndatetime.datetime.utcnow() is deprecated and scheduled for removal in a future version. Use timezone-aware objects to represent datetimes in UTC: datetime.datetime.now(datetime.UTC).\n\n18:58:58 - cmdstanpy - INFO - Chain [1] start processing\n18:58:58 - cmdstanpy - INFO - Chain [1] done processing\n18:58:59 - cmdstanpy - INFO - Chain [1] start processing\n18:58:59 - cmdstanpy - INFO - Chain [1] done processing\n18:59:00 - cmdstanpy - INFO - Chain [1] start processing\n18:59:00 - cmdstanpy - INFO - Chain [1] done processing\n18:59:01 - cmdstanpy - INFO - Chain [1] start processing\n18:59:01 - cmdstanpy - INFO - Chain [1] done processing\n18:59:02 - cmdstanpy - INFO - Chain [1] start processing\n18:59:02 - cmdstanpy - INFO - Chain [1] done processing\n18:59:03 - cmdstanpy - INFO - Chain [1] start processing\n18:59:03 - cmdstanpy - INFO - Chain [1] done processing\n18:59:05 - cmdstanpy - INFO - Chain [1] start processing\n18:59:05 - cmdstanpy - INFO - Chain [1] done processing\n18:59:06 - cmdstanpy - INFO - Chain [1] start processing\n18:59:06 - cmdstanpy - INFO - Chain [1] done processing\n18:59:07 - cmdstanpy - INFO - Chain [1] start processing\n18:59:07 - cmdstanpy - INFO - Chain [1] done processing\n18:59:08 - cmdstanpy - INFO - Chain [1] start processing\n18:59:08 - cmdstanpy - INFO - Chain [1] done processing\n18:59:09 - cmdstanpy - INFO - Chain [1] start processing\n18:59:09 - cmdstanpy - INFO - Chain [1] done processing\n18:59:10 - cmdstanpy - INFO - Chain [1] start processing\n18:59:10 - cmdstanpy - INFO - Chain [1] done processing\n18:59:11 - cmdstanpy - INFO - Chain [1] start processing\n18:59:11 - cmdstanpy - INFO - Chain [1] done processing\n18:59:12 - cmdstanpy - INFO - Chain [1] start processing\n18:59:12 - cmdstanpy - INFO - Chain [1] done processing\n18:59:13 - cmdstanpy - INFO - Chain [1] start processing\n18:59:13 - cmdstanpy - INFO - Chain [1] done processing\n18:59:14 - cmdstanpy - INFO - Chain [1] start processing\n18:59:14 - cmdstanpy - INFO - Chain [1] done processing\n18:59:15 - cmdstanpy - INFO - Chain [1] start processing\n18:59:16 - cmdstanpy - INFO - Chain [1] done processing\n18:59:16 - cmdstanpy - INFO - Chain [1] start processing\n18:59:17 - cmdstanpy - INFO - Chain [1] done processing\n18:59:18 - cmdstanpy - INFO - Chain [1] start processing\n18:59:18 - cmdstanpy - INFO - Chain [1] done processing\n18:59:19 - cmdstanpy - INFO - Chain [1] start processing\n18:59:19 - cmdstanpy - INFO - Chain [1] done processing\n"
     ]
    },
    {
     "output_type": "stream",
     "name": "stdout",
     "output_type": "stream",
     "text": [
      "Wrote forecasts → retail_demand_catalog.retail_demand_schema.gold_product_forecast\n"
     ]
    },
    {
     "output_type": "display_data",
     "data": {
      "text/html": [
       "<style scoped>\n",
       "  .table-result-container {\n",
       "    max-height: 300px;\n",
       "    overflow: auto;\n",
       "  }\n",
       "  table, th, td {\n",
       "    border: 1px solid black;\n",
       "    border-collapse: collapse;\n",
       "  }\n",
       "  th, td {\n",
       "    padding: 5px;\n",
       "  }\n",
       "  th {\n",
       "    text-align: left;\n",
       "  }\n",
       "</style><div class='table-result-container'><table class='table-result'><thead style='background-color: white'><tr><th>product_key</th><th>product_name</th><th>ds</th><th>yhat</th><th>yhat_lower</th><th>yhat_upper</th><th>is_future</th><th>run_timestamp_utc</th></tr></thead><tbody><tr><td>e80f9290d4767ae136c9c44e5a2c6ffc</td><td>Air Freshener</td><td>2020-01-01</td><td>24.18574537137844</td><td>18.627348841797232</td><td>30.896053288658784</td><td>false</td><td>2025-08-27 18:58:57</td></tr><tr><td>e80f9290d4767ae136c9c44e5a2c6ffc</td><td>Air Freshener</td><td>2020-01-02</td><td>23.683051425759526</td><td>17.247927046908146</td><td>29.62251083093836</td><td>false</td><td>2025-08-27 18:58:57</td></tr><tr><td>e80f9290d4767ae136c9c44e5a2c6ffc</td><td>Air Freshener</td><td>2020-01-03</td><td>23.768327794073738</td><td>18.087852867506705</td><td>30.54375612104195</td><td>false</td><td>2025-08-27 18:58:57</td></tr><tr><td>e80f9290d4767ae136c9c44e5a2c6ffc</td><td>Air Freshener</td><td>2020-01-04</td><td>23.31347082341647</td><td>17.056189293745785</td><td>28.89893379428145</td><td>false</td><td>2025-08-27 18:58:57</td></tr><tr><td>e80f9290d4767ae136c9c44e5a2c6ffc</td><td>Air Freshener</td><td>2020-01-05</td><td>23.360457715656405</td><td>17.35793452676442</td><td>29.50440059186379</td><td>false</td><td>2025-08-27 18:58:57</td></tr><tr><td>e80f9290d4767ae136c9c44e5a2c6ffc</td><td>Air Freshener</td><td>2020-01-06</td><td>24.01000751056888</td><td>18.116987918000195</td><td>29.61369150416079</td><td>false</td><td>2025-08-27 18:58:57</td></tr><tr><td>e80f9290d4767ae136c9c44e5a2c6ffc</td><td>Air Freshener</td><td>2020-01-07</td><td>23.724714633609622</td><td>17.282574437908746</td><td>29.630156633445367</td><td>false</td><td>2025-08-27 18:58:57</td></tr><tr><td>e80f9290d4767ae136c9c44e5a2c6ffc</td><td>Air Freshener</td><td>2020-01-08</td><td>24.07136673221393</td><td>17.66391922607091</td><td>30.115279427597756</td><td>false</td><td>2025-08-27 18:58:57</td></tr><tr><td>e80f9290d4767ae136c9c44e5a2c6ffc</td><td>Air Freshener</td><td>2020-01-09</td><td>23.466887241302075</td><td>17.397406655307826</td><td>29.671976895513048</td><td>false</td><td>2025-08-27 18:58:57</td></tr><tr><td>e80f9290d4767ae136c9c44e5a2c6ffc</td><td>Air Freshener</td><td>2020-01-10</td><td>23.456161377252137</td><td>17.00260699277628</td><td>29.812118211725764</td><td>false</td><td>2025-08-27 18:58:57</td></tr><tr><td>e80f9290d4767ae136c9c44e5a2c6ffc</td><td>Air Freshener</td><td>2020-01-11</td><td>22.913508086647937</td><td>16.737388032136252</td><td>29.34381330954271</td><td>false</td><td>2025-08-27 18:58:57</td></tr><tr><td>e80f9290d4767ae136c9c44e5a2c6ffc</td><td>Air Freshener</td><td>2020-01-12</td><td>22.883093806201824</td><td>17.088991372507447</td><td>29.447581170665426</td><td>false</td><td>2025-08-27 18:58:57</td></tr><tr><td>e80f9290d4767ae136c9c44e5a2c6ffc</td><td>Air Freshener</td><td>2020-01-13</td><td>23.467540138785</td><td>16.934749659640165</td><td>30.11272974243305</td><td>false</td><td>2025-08-27 18:58:57</td></tr><tr><td>e80f9290d4767ae136c9c44e5a2c6ffc</td><td>Air Freshener</td><td>2020-01-14</td><td>23.13101180054292</td><td>16.836886261456854</td><td>29.352394410582946</td><td>false</td><td>2025-08-27 18:58:57</td></tr><tr><td>e80f9290d4767ae136c9c44e5a2c6ffc</td><td>Air Freshener</td><td>2020-01-15</td><td>23.441497678668043</td><td>16.81560672325998</td><td>29.549658465566406</td><td>false</td><td>2025-08-27 18:58:57</td></tr><tr><td>e80f9290d4767ae136c9c44e5a2c6ffc</td><td>Air Freshener</td><td>2020-01-16</td><td>22.816726320564243</td><td>16.606931860907004</td><td>29.436297377636997</td><td>false</td><td>2025-08-27 18:58:57</td></tr><tr><td>e80f9290d4767ae136c9c44e5a2c6ffc</td><td>Air Freshener</td><td>2020-01-17</td><td>22.801975176199672</td><td>16.9263767800955</td><td>28.945938388477845</td><td>false</td><td>2025-08-27 18:58:57</td></tr><tr><td>e80f9290d4767ae136c9c44e5a2c6ffc</td><td>Air Freshener</td><td>2020-01-18</td><td>22.271536470585705</td><td>16.0416891099174</td><td>28.44149105533991</td><td>false</td><td>2025-08-27 18:58:57</td></tr><tr><td>e80f9290d4767ae136c9c44e5a2c6ffc</td><td>Air Freshener</td><td>2020-01-19</td><td>22.269135633942394</td><td>16.077504897157343</td><td>28.52909164234199</td><td>false</td><td>2025-08-27 18:58:57</td></tr><tr><td>e80f9290d4767ae136c9c44e5a2c6ffc</td><td>Air Freshener</td><td>2020-01-20</td><td>22.89655418670191</td><td>16.617444158586544</td><td>29.07604835165913</td><td>false</td><td>2025-08-27 18:58:57</td></tr></tbody></table></div>"
      ]
     },
     "metadata": {
      "application/vnd.databricks.v1+output": {
       "addedWidgets": {},
       "aggData": [],
       "aggError": "",
       "aggOverflow": false,
       "aggSchema": [],
       "aggSeriesLimitReached": false,
       "aggType": "",
       "arguments": {},
       "columnCustomDisplayInfos": {},
       "data": [
        [
         "e80f9290d4767ae136c9c44e5a2c6ffc",
         "Air Freshener",
         "2020-01-01",
         24.18574537137844,
         18.627348841797232,
         30.896053288658784,
         false,
         "2025-08-27 18:58:57"
        ],
        [
         "e80f9290d4767ae136c9c44e5a2c6ffc",
         "Air Freshener",
         "2020-01-02",
         23.683051425759526,
         17.247927046908146,
         29.62251083093836,
         false,
         "2025-08-27 18:58:57"
        ],
        [
         "e80f9290d4767ae136c9c44e5a2c6ffc",
         "Air Freshener",
         "2020-01-03",
         23.768327794073738,
         18.087852867506705,
         30.54375612104195,
         false,
         "2025-08-27 18:58:57"
        ],
        [
         "e80f9290d4767ae136c9c44e5a2c6ffc",
         "Air Freshener",
         "2020-01-04",
         23.31347082341647,
         17.056189293745785,
         28.89893379428145,
         false,
         "2025-08-27 18:58:57"
        ],
        [
         "e80f9290d4767ae136c9c44e5a2c6ffc",
         "Air Freshener",
         "2020-01-05",
         23.360457715656405,
         17.35793452676442,
         29.50440059186379,
         false,
         "2025-08-27 18:58:57"
        ],
        [
         "e80f9290d4767ae136c9c44e5a2c6ffc",
         "Air Freshener",
         "2020-01-06",
         24.01000751056888,
         18.116987918000195,
         29.61369150416079,
         false,
         "2025-08-27 18:58:57"
        ],
        [
         "e80f9290d4767ae136c9c44e5a2c6ffc",
         "Air Freshener",
         "2020-01-07",
         23.724714633609622,
         17.282574437908746,
         29.630156633445367,
         false,
         "2025-08-27 18:58:57"
        ],
        [
         "e80f9290d4767ae136c9c44e5a2c6ffc",
         "Air Freshener",
         "2020-01-08",
         24.07136673221393,
         17.66391922607091,
         30.115279427597756,
         false,
         "2025-08-27 18:58:57"
        ],
        [
         "e80f9290d4767ae136c9c44e5a2c6ffc",
         "Air Freshener",
         "2020-01-09",
         23.466887241302075,
         17.397406655307826,
         29.671976895513048,
         false,
         "2025-08-27 18:58:57"
        ],
        [
         "e80f9290d4767ae136c9c44e5a2c6ffc",
         "Air Freshener",
         "2020-01-10",
         23.456161377252137,
         17.00260699277628,
         29.812118211725764,
         false,
         "2025-08-27 18:58:57"
        ],
        [
         "e80f9290d4767ae136c9c44e5a2c6ffc",
         "Air Freshener",
         "2020-01-11",
         22.913508086647937,
         16.737388032136252,
         29.34381330954271,
         false,
         "2025-08-27 18:58:57"
        ],
        [
         "e80f9290d4767ae136c9c44e5a2c6ffc",
         "Air Freshener",
         "2020-01-12",
         22.883093806201824,
         17.088991372507447,
         29.447581170665426,
         false,
         "2025-08-27 18:58:57"
        ],
        [
         "e80f9290d4767ae136c9c44e5a2c6ffc",
         "Air Freshener",
         "2020-01-13",
         23.467540138785,
         16.934749659640165,
         30.11272974243305,
         false,
         "2025-08-27 18:58:57"
        ],
        [
         "e80f9290d4767ae136c9c44e5a2c6ffc",
         "Air Freshener",
         "2020-01-14",
         23.13101180054292,
         16.836886261456854,
         29.352394410582946,
         false,
         "2025-08-27 18:58:57"
        ],
        [
         "e80f9290d4767ae136c9c44e5a2c6ffc",
         "Air Freshener",
         "2020-01-15",
         23.441497678668043,
         16.81560672325998,
         29.549658465566406,
         false,
         "2025-08-27 18:58:57"
        ],
        [
         "e80f9290d4767ae136c9c44e5a2c6ffc",
         "Air Freshener",
         "2020-01-16",
         22.816726320564243,
         16.606931860907004,
         29.436297377636997,
         false,
         "2025-08-27 18:58:57"
        ],
        [
         "e80f9290d4767ae136c9c44e5a2c6ffc",
         "Air Freshener",
         "2020-01-17",
         22.801975176199672,
         16.9263767800955,
         28.945938388477845,
         false,
         "2025-08-27 18:58:57"
        ],
        [
         "e80f9290d4767ae136c9c44e5a2c6ffc",
         "Air Freshener",
         "2020-01-18",
         22.271536470585705,
         16.0416891099174,
         28.44149105533991,
         false,
         "2025-08-27 18:58:57"
        ],
        [
         "e80f9290d4767ae136c9c44e5a2c6ffc",
         "Air Freshener",
         "2020-01-19",
         22.269135633942394,
         16.077504897157343,
         28.52909164234199,
         false,
         "2025-08-27 18:58:57"
        ],
        [
         "e80f9290d4767ae136c9c44e5a2c6ffc",
         "Air Freshener",
         "2020-01-20",
         22.89655418670191,
         16.617444158586544,
         29.07604835165913,
         false,
         "2025-08-27 18:58:57"
        ]
       ],
       "datasetInfos": [],
       "dbfsResultPath": null,
       "isJsonSchema": true,
       "metadata": {},
       "overflow": false,
       "plotOptions": {
        "customPlotOptions": {},
        "displayType": "table",
        "pivotAggregation": null,
        "pivotColumns": null,
        "xColumns": null,
        "yColumns": null
       },
       "removedWidgets": [],
       "schema": [
        {
         "metadata": "{}",
         "name": "product_key",
         "type": "\"string\""
        },
        {
         "metadata": "{}",
         "name": "product_name",
         "type": "\"string\""
        },
        {
         "metadata": "{}",
         "name": "ds",
         "type": "\"date\""
        },
        {
         "metadata": "{}",
         "name": "yhat",
         "type": "\"double\""
        },
        {
         "metadata": "{}",
         "name": "yhat_lower",
         "type": "\"double\""
        },
        {
         "metadata": "{}",
         "name": "yhat_upper",
         "type": "\"double\""
        },
        {
         "metadata": "{}",
         "name": "is_future",
         "type": "\"boolean\""
        },
        {
         "metadata": "{}",
         "name": "run_timestamp_utc",
         "type": "\"string\""
        }
       ],
       "type": "table"
      }
     },
     "output_type": "display_data"
    },
    {
     "output_type": "stream",
     "name": "stdout",
     "output_type": "stream",
     "text": [
      "Wrote metrics → retail_demand_catalog.retail_demand_schema.gold_product_forecast_metrics\n"
     ]
    },
    {
     "output_type": "display_data",
     "data": {
      "text/html": [
       "<style scoped>\n",
       "  .table-result-container {\n",
       "    max-height: 300px;\n",
       "    overflow: auto;\n",
       "  }\n",
       "  table, th, td {\n",
       "    border: 1px solid black;\n",
       "    border-collapse: collapse;\n",
       "  }\n",
       "  th, td {\n",
       "    padding: 5px;\n",
       "  }\n",
       "  th {\n",
       "    text-align: left;\n",
       "  }\n",
       "</style><div class='table-result-container'><table class='table-result'><thead style='background-color: white'><tr><th>product_key</th><th>product_name</th><th>run_timestamp_utc</th><th>train_end</th><th>test_days</th><th>mae</th><th>rmse</th><th>smape</th></tr></thead><tbody><tr><td>7f3b6b9097e3d420cc518fee0618e60b</td><td>Mustard</td><td>2025-08-27 18:58:57</td><td>2024-05-04</td><td>14</td><td>5.580235172591777</td><td>6.404333284358628</td><td>0.24190957874873154</td></tr><tr><td>fe01d67a002dfa0f3ac084298142eccd</td><td>Orange</td><td>2025-08-27 18:58:57</td><td>2024-05-04</td><td>14</td><td>4.567652077800388</td><td>5.484485376714722</td><td>0.21648851190423235</td></tr><tr><td>cbf4e0b7971051760907c327e975f4e5</td><td>Soap</td><td>2025-08-27 18:58:57</td><td>2024-05-04</td><td>14</td><td>4.624373106473172</td><td>5.464847865157615</td><td>0.20061140618781215</td></tr><tr><td>e80f9290d4767ae136c9c44e5a2c6ffc</td><td>Air Freshener</td><td>2025-08-27 18:58:57</td><td>2024-05-04</td><td>14</td><td>4.1911389596500355</td><td>5.477909277873991</td><td>0.18884458570047108</td></tr><tr><td>142daa03fdadf46ee70a698ac364130b</td><td>Laundry Detergent</td><td>2025-08-27 18:58:57</td><td>2024-05-04</td><td>14</td><td>4.2858040851660295</td><td>4.785001130077219</td><td>0.18369184319553092</td></tr><tr><td>623fcd3761e7dc71ac7784cc058e9dc9</td><td>Yogurt</td><td>2025-08-27 18:58:57</td><td>2024-05-04</td><td>14</td><td>4.566776535013349</td><td>6.038563115332859</td><td>0.17879672211581546</td></tr><tr><td>2a92a853a070ee65ee84c2628b4f25fa</td><td>Baby Wipes</td><td>2025-08-27 18:58:57</td><td>2024-05-04</td><td>14</td><td>4.145099457435821</td><td>5.283636479841548</td><td>0.172113275804509</td></tr><tr><td>186a8b72fe696268c330f725f52be9ff</td><td>Carrots</td><td>2025-08-27 18:58:57</td><td>2024-05-04</td><td>14</td><td>3.7792163256659435</td><td>5.190550039053893</td><td>0.1718443902658191</td></tr><tr><td>02cb3332853d4e8482bd85102a392be3</td><td>Toothpaste</td><td>2025-08-27 18:58:57</td><td>2024-05-04</td><td>14</td><td>7.78176736713876</td><td>9.149531134743551</td><td>0.17112679606174558</td></tr><tr><td>8289b549e3cb5290de041270228a4ea8</td><td>Deodorant</td><td>2025-08-27 18:58:57</td><td>2024-05-04</td><td>14</td><td>4.0079642306152055</td><td>4.937726647828309</td><td>0.17011877383400414</td></tr><tr><td>5275cb415e5bc3948e8f2cd492859f26</td><td>Jam</td><td>2025-08-27 18:58:57</td><td>2024-05-04</td><td>14</td><td>3.7227643933005816</td><td>4.189175544889486</td><td>0.16821236518580654</td></tr><tr><td>2d6cfc502a0f108b5f431a1e7aaac603</td><td>Ice Cream</td><td>2025-08-27 18:58:57</td><td>2024-05-04</td><td>14</td><td>3.8948422127920073</td><td>4.867782405373316</td><td>0.1629409393657238</td></tr><tr><td>2a630e71e11d9ed6f19f49ee50596f2f</td><td>Cleaning Rags</td><td>2025-08-27 18:58:57</td><td>2024-05-04</td><td>14</td><td>3.5823602807915718</td><td>4.329609731498318</td><td>0.15669819031232993</td></tr><tr><td>b1eae50c1dbaed02d1dd0a247c3cec3d</td><td>Plant Fertilizer</td><td>2025-08-27 18:58:57</td><td>2024-05-04</td><td>14</td><td>3.404356463044639</td><td>3.9731107382008206</td><td>0.15551271076810935</td></tr><tr><td>102d51d07445ed451c0bbfeb75c46477</td><td>Peanut Butter</td><td>2025-08-27 18:58:57</td><td>2024-05-04</td><td>14</td><td>3.410270180257882</td><td>4.367448682126093</td><td>0.14476680976337938</td></tr><tr><td>ac95c3e7a5e1685f4f63172cd680f7e6</td><td>Soda</td><td>2025-08-27 18:58:57</td><td>2024-05-04</td><td>14</td><td>3.058212514805338</td><td>4.117619075924065</td><td>0.14020812593220056</td></tr><tr><td>4709a79ce8864bde864a013154048915</td><td>Cleaning Spray</td><td>2025-08-27 18:58:57</td><td>2024-05-04</td><td>14</td><td>2.8867988341594235</td><td>3.570088700855069</td><td>0.12721307802821322</td></tr><tr><td>72b302bf297a228a75730123efef7c41</td><td>Banana</td><td>2025-08-27 18:58:57</td><td>2024-05-04</td><td>14</td><td>2.860317430195954</td><td>3.3985195668375505</td><td>0.12487496827793744</td></tr><tr><td>1412835889f85cf13d127fe1b69bc046</td><td>Bath Towels</td><td>2025-08-27 18:58:57</td><td>2024-05-04</td><td>14</td><td>2.744432573061299</td><td>3.0484576120007927</td><td>0.11624334216213704</td></tr><tr><td>9ce6d6124ad3c1b44963d67e011097ed</td><td>Ironing Board</td><td>2025-08-27 18:58:57</td><td>2024-05-04</td><td>14</td><td>2.0359829696406275</td><td>2.9036659723084206</td><td>0.08211554608984474</td></tr></tbody></table></div>"
      ]
     },
     "metadata": {
      "application/vnd.databricks.v1+output": {
       "addedWidgets": {},
       "aggData": [],
       "aggError": "",
       "aggOverflow": false,
       "aggSchema": [],
       "aggSeriesLimitReached": false,
       "aggType": "",
       "arguments": {},
       "columnCustomDisplayInfos": {},
       "data": [
        [
         "7f3b6b9097e3d420cc518fee0618e60b",
         "Mustard",
         "2025-08-27 18:58:57",
         "2024-05-04",
         14,
         5.580235172591777,
         6.404333284358628,
         0.24190957874873154
        ],
        [
         "fe01d67a002dfa0f3ac084298142eccd",
         "Orange",
         "2025-08-27 18:58:57",
         "2024-05-04",
         14,
         4.567652077800388,
         5.484485376714722,
         0.21648851190423235
        ],
        [
         "cbf4e0b7971051760907c327e975f4e5",
         "Soap",
         "2025-08-27 18:58:57",
         "2024-05-04",
         14,
         4.624373106473172,
         5.464847865157615,
         0.20061140618781215
        ],
        [
         "e80f9290d4767ae136c9c44e5a2c6ffc",
         "Air Freshener",
         "2025-08-27 18:58:57",
         "2024-05-04",
         14,
         4.1911389596500355,
         5.477909277873991,
         0.18884458570047108
        ],
        [
         "142daa03fdadf46ee70a698ac364130b",
         "Laundry Detergent",
         "2025-08-27 18:58:57",
         "2024-05-04",
         14,
         4.2858040851660295,
         4.785001130077219,
         0.18369184319553092
        ],
        [
         "623fcd3761e7dc71ac7784cc058e9dc9",
         "Yogurt",
         "2025-08-27 18:58:57",
         "2024-05-04",
         14,
         4.566776535013349,
         6.038563115332859,
         0.17879672211581546
        ],
        [
         "2a92a853a070ee65ee84c2628b4f25fa",
         "Baby Wipes",
         "2025-08-27 18:58:57",
         "2024-05-04",
         14,
         4.145099457435821,
         5.283636479841548,
         0.172113275804509
        ],
        [
         "186a8b72fe696268c330f725f52be9ff",
         "Carrots",
         "2025-08-27 18:58:57",
         "2024-05-04",
         14,
         3.7792163256659435,
         5.190550039053893,
         0.1718443902658191
        ],
        [
         "02cb3332853d4e8482bd85102a392be3",
         "Toothpaste",
         "2025-08-27 18:58:57",
         "2024-05-04",
         14,
         7.78176736713876,
         9.149531134743551,
         0.17112679606174558
        ],
        [
         "8289b549e3cb5290de041270228a4ea8",
         "Deodorant",
         "2025-08-27 18:58:57",
         "2024-05-04",
         14,
         4.0079642306152055,
         4.937726647828309,
         0.17011877383400414
        ],
        [
         "5275cb415e5bc3948e8f2cd492859f26",
         "Jam",
         "2025-08-27 18:58:57",
         "2024-05-04",
         14,
         3.7227643933005816,
         4.189175544889486,
         0.16821236518580654
        ],
        [
         "2d6cfc502a0f108b5f431a1e7aaac603",
         "Ice Cream",
         "2025-08-27 18:58:57",
         "2024-05-04",
         14,
         3.8948422127920073,
         4.867782405373316,
         0.1629409393657238
        ],
        [
         "2a630e71e11d9ed6f19f49ee50596f2f",
         "Cleaning Rags",
         "2025-08-27 18:58:57",
         "2024-05-04",
         14,
         3.5823602807915718,
         4.329609731498318,
         0.15669819031232993
        ],
        [
         "b1eae50c1dbaed02d1dd0a247c3cec3d",
         "Plant Fertilizer",
         "2025-08-27 18:58:57",
         "2024-05-04",
         14,
         3.404356463044639,
         3.9731107382008206,
         0.15551271076810935
        ],
        [
         "102d51d07445ed451c0bbfeb75c46477",
         "Peanut Butter",
         "2025-08-27 18:58:57",
         "2024-05-04",
         14,
         3.410270180257882,
         4.367448682126093,
         0.14476680976337938
        ],
        [
         "ac95c3e7a5e1685f4f63172cd680f7e6",
         "Soda",
         "2025-08-27 18:58:57",
         "2024-05-04",
         14,
         3.058212514805338,
         4.117619075924065,
         0.14020812593220056
        ],
        [
         "4709a79ce8864bde864a013154048915",
         "Cleaning Spray",
         "2025-08-27 18:58:57",
         "2024-05-04",
         14,
         2.8867988341594235,
         3.570088700855069,
         0.12721307802821322
        ],
        [
         "72b302bf297a228a75730123efef7c41",
         "Banana",
         "2025-08-27 18:58:57",
         "2024-05-04",
         14,
         2.860317430195954,
         3.3985195668375505,
         0.12487496827793744
        ],
        [
         "1412835889f85cf13d127fe1b69bc046",
         "Bath Towels",
         "2025-08-27 18:58:57",
         "2024-05-04",
         14,
         2.744432573061299,
         3.0484576120007927,
         0.11624334216213704
        ],
        [
         "9ce6d6124ad3c1b44963d67e011097ed",
         "Ironing Board",
         "2025-08-27 18:58:57",
         "2024-05-04",
         14,
         2.0359829696406275,
         2.9036659723084206,
         0.08211554608984474
        ]
       ],
       "datasetInfos": [],
       "dbfsResultPath": null,
       "isJsonSchema": true,
       "metadata": {},
       "overflow": false,
       "plotOptions": {
        "customPlotOptions": {},
        "displayType": "table",
        "pivotAggregation": null,
        "pivotColumns": null,
        "xColumns": null,
        "yColumns": null
       },
       "removedWidgets": [],
       "schema": [
        {
         "metadata": "{}",
         "name": "product_key",
         "type": "\"string\""
        },
        {
         "metadata": "{}",
         "name": "product_name",
         "type": "\"string\""
        },
        {
         "metadata": "{}",
         "name": "run_timestamp_utc",
         "type": "\"string\""
        },
        {
         "metadata": "{}",
         "name": "train_end",
         "type": "\"date\""
        },
        {
         "metadata": "{}",
         "name": "test_days",
         "type": "\"integer\""
        },
        {
         "metadata": "{}",
         "name": "mae",
         "type": "\"double\""
        },
        {
         "metadata": "{}",
         "name": "rmse",
         "type": "\"double\""
        },
        {
         "metadata": "{}",
         "name": "smape",
         "type": "\"double\""
        }
       ],
       "type": "table"
      }
     },
     "output_type": "display_data"
    }
   ],
   "source": [
    "# STEP 10: Batch Prophet forecasts for multiple products → save forecasts + metrics Gold tables\n",
    "\n",
    "import sys, subprocess\n",
    "from pyspark.sql import functions as F\n",
    "import pandas as pd\n",
    "import numpy as np\n",
    "from datetime import datetime\n",
    "\n",
    "CATALOG = \"retail_demand_catalog\"\n",
    "SCHEMA  = \"retail_demand_schema\"\n",
    "GOLD_DAILY = f\"{CATALOG}.{SCHEMA}.gold_daily_product_demand\"\n",
    "OUT_FORECAST = f\"{CATALOG}.{SCHEMA}.gold_product_forecast\"\n",
    "OUT_METRICS  = f\"{CATALOG}.{SCHEMA}.gold_product_forecast_metrics\"\n",
    "\n",
    "spark.sql(f\"USE CATALOG {CATALOG}\")\n",
    "spark.sql(f\"USE {SCHEMA}\")\n",
    "\n",
    "# Widgets\n",
    "daily = spark.table(GOLD_DAILY)\n",
    "if daily.limit(1).count() == 0:\n",
    "    displayHTML(\"<h3>No data in gold_daily_product_demand. Please run Step 7 first.</h3>\")\n",
    "else:\n",
    "    # Defaults\n",
    "    default_topN = \"20\"\n",
    "    default_horizon = \"30\"\n",
    "    default_test_days = \"14\"\n",
    "    default_min_history = \"21\"  # require at least 3 weeks of data to forecast\n",
    "\n",
    "    dbutils.widgets.removeAll()\n",
    "    dbutils.widgets.text(\"top_n_products\", default_topN, \"Top N products to forecast\")\n",
    "    dbutils.widgets.text(\"horizon_days\", default_horizon, \"Forecast horizon (days)\")\n",
    "    dbutils.widgets.text(\"test_days\", default_test_days, \"Holdout (last N days)\")\n",
    "    dbutils.widgets.text(\"min_history_days\", default_min_history, \"Min history days to include product\")\n",
    "\n",
    "    top_n = int(dbutils.widgets.get(\"top_n_products\") or default_topN)\n",
    "    horizon_days = int(dbutils.widgets.get(\"horizon_days\") or default_horizon)\n",
    "    test_days = int(dbutils.widgets.get(\"test_days\") or default_test_days)\n",
    "    min_history_days = int(dbutils.widgets.get(\"min_history_days\") or default_min_history)\n",
    "\n",
    "    # Select top N products by historical demand\n",
    "    prod_rank = (daily.groupBy(\"product_key\",\"product_name\")\n",
    "                      .agg(F.sum(\"total_quantity\").alias(\"qty\"),\n",
    "                           F.countDistinct(\"Event_Date\").alias(\"history_days\"))\n",
    "                      .filter(F.col(\"history_days\") >= min_history_days)\n",
    "                      .orderBy(F.desc(\"qty\"))\n",
    "                      .limit(top_n)\n",
    "                      .collect())\n",
    "\n",
    "    products = [(r[\"product_key\"], r[\"product_name\"]) for r in prod_rank]\n",
    "\n",
    "    if not products:\n",
    "        displayHTML(f\"<h3>No products meet min_history_days={min_history_days}. Lower the threshold and retry.</h3>\")\n",
    "    else:\n",
    "        # Try Prophet import / install\n",
    "        try:\n",
    "            from prophet import Prophet\n",
    "        except Exception:\n",
    "            print(\"Installing prophet (one-time) ...\")\n",
    "            subprocess.check_call([sys.executable, \"-m\", \"pip\", \"install\", \"prophet==1.1.5\", \"-q\"])\n",
    "            from prophet import Prophet\n",
    "\n",
    "        all_fcst_rows = []\n",
    "        all_metric_rows = []\n",
    "        run_ts = datetime.utcnow().strftime(\"%Y-%m-%d %H:%M:%S\")\n",
    "\n",
    "        for pkey, pname in products:\n",
    "            # Pull product series\n",
    "            sdf = (daily.filter(F.col(\"product_key\") == pkey)\n",
    "                         .select(\"Event_Date\", \"total_quantity\")\n",
    "                         .orderBy(\"Event_Date\"))\n",
    "            pdf = sdf.toPandas().sort_values(\"Event_Date\")\n",
    "            if pdf.empty:\n",
    "                continue\n",
    "\n",
    "            pdf[\"Event_Date\"] = pd.to_datetime(pdf[\"Event_Date\"])\n",
    "            pdf = pdf.dropna(subset=[\"Event_Date\"])\n",
    "            if pdf.empty:\n",
    "                continue\n",
    "\n",
    "            # Fill missing dates with zeros\n",
    "            full_idx = pd.date_range(pdf[\"Event_Date\"].min(), pdf[\"Event_Date\"].max(), freq=\"D\")\n",
    "            pdf_full = (pdf.set_index(\"Event_Date\")\n",
    "                          .reindex(full_idx)\n",
    "                          .fillna({\"total_quantity\": 0})\n",
    "                          .rename_axis(\"ds\")\n",
    "                          .reset_index()\n",
    "                          .rename(columns={\"total_quantity\": \"y\"}))\n",
    "\n",
    "            # Adjust test_days for very short series\n",
    "            local_test_days = test_days\n",
    "            if len(pdf_full) < (local_test_days + 7):\n",
    "                local_test_days = max(3, min(7, len(pdf_full)//4))\n",
    "\n",
    "            train = pdf_full.iloc[:-local_test_days] if local_test_days > 0 else pdf_full.copy()\n",
    "            test  = pdf_full.iloc[-local_test_days:] if local_test_days > 0 else pd.DataFrame(columns=pdf_full.columns)\n",
    "\n",
    "            # Fit Prophet\n",
    "            m = Prophet(\n",
    "                daily_seasonality=True,\n",
    "                weekly_seasonality=True,\n",
    "                yearly_seasonality=True,\n",
    "                seasonality_mode=\"additive\",\n",
    "                changepoint_prior_scale=0.5\n",
    "            )\n",
    "            m.fit(train)\n",
    "\n",
    "            # Predict future\n",
    "            future = m.make_future_dataframe(periods=horizon_days, freq=\"D\")\n",
    "            fcst = m.predict(future)  # contains ds, yhat, yhat_lower, yhat_upper\n",
    "\n",
    "            # Compute simple backtest metrics\n",
    "            def smape(y_true, y_pred):\n",
    "                denom = (np.abs(y_true) + np.abs(y_pred))\n",
    "                mask = denom > 0\n",
    "                return float(np.mean(2.0 * np.abs(y_pred - y_true)[mask] / denom[mask])) if mask.any() else float(\"nan\")\n",
    "\n",
    "            mae = rmse = smape_val = float(\"nan\")\n",
    "            if local_test_days > 0 and not test.empty:\n",
    "                merged = test.merge(fcst[[\"ds\",\"yhat\"]], on=\"ds\", how=\"left\")\n",
    "                y_true = merged[\"y\"].values\n",
    "                y_pred = merged[\"yhat\"].values\n",
    "                if len(y_true) and len(y_pred):\n",
    "                    mae = float(np.mean(np.abs(y_pred - y_true)))\n",
    "                    rmse = float(np.sqrt(np.mean((y_pred - y_true) ** 2)))\n",
    "                    smape_val = smape(y_true, y_pred)\n",
    "\n",
    "            # Accumulate forecast rows\n",
    "            # Mark whether each row is in history or future\n",
    "            hist_end = train[\"ds\"].max()\n",
    "            fcst[\"is_future\"] = fcst[\"ds\"] > hist_end\n",
    "            fcst[\"product_key\"] = pkey\n",
    "            fcst[\"product_name\"] = pname\n",
    "            fcst[\"run_timestamp_utc\"] = run_ts\n",
    "            fcst_subset = fcst[[\"product_key\",\"product_name\",\"ds\",\"yhat\",\"yhat_lower\",\"yhat_upper\",\"is_future\",\"run_timestamp_utc\"]]\n",
    "            all_fcst_rows.append(fcst_subset)\n",
    "\n",
    "            # Accumulate metrics\n",
    "            all_metric_rows.append({\n",
    "                \"product_key\": pkey,\n",
    "                \"product_name\": pname,\n",
    "                \"run_timestamp_utc\": run_ts,\n",
    "                \"train_end\": pd.to_datetime(hist_end),\n",
    "                \"test_days\": int(local_test_days),\n",
    "                \"mae\": mae,\n",
    "                \"rmse\": rmse,\n",
    "                \"smape\": smape_val\n",
    "            })\n",
    "\n",
    "        # Combine and write outputs\n",
    "        if all_fcst_rows:\n",
    "            pdf_all_fcst = pd.concat(all_fcst_rows, ignore_index=True)\n",
    "            sdf_all_fcst = spark.createDataFrame(pdf_all_fcst)\\\n",
    "                                .withColumn(\"ds\", F.to_date(\"ds\"))\\\n",
    "                                .withColumn(\"is_future\", F.col(\"is_future\").cast(\"boolean\"))\\\n",
    "                                .withColumn(\"yhat\", F.col(\"yhat\").cast(\"double\"))\\\n",
    "                                .withColumn(\"yhat_lower\", F.col(\"yhat_lower\").cast(\"double\"))\\\n",
    "                                .withColumn(\"yhat_upper\", F.col(\"yhat_upper\").cast(\"double\"))\n",
    "            (sdf_all_fcst.write\n",
    "                .mode(\"overwrite\")\n",
    "                .format(\"delta\")\n",
    "                .option(\"overwriteSchema\",\"true\")\n",
    "                .saveAsTable(OUT_FORECAST))\n",
    "\n",
    "            print(f\"Wrote forecasts → {OUT_FORECAST}\")\n",
    "            display(spark.table(OUT_FORECAST).orderBy(\"product_name\",\"ds\").limit(20))\n",
    "        else:\n",
    "            displayHTML(\"<h3>No forecasts generated.</h3>\")\n",
    "\n",
    "        if all_metric_rows:\n",
    "            pdf_metrics = pd.DataFrame(all_metric_rows)\n",
    "            sdf_metrics = spark.createDataFrame(pdf_metrics)\\\n",
    "                               .withColumn(\"train_end\", F.to_date(\"train_end\"))\\\n",
    "                               .withColumn(\"test_days\", F.col(\"test_days\").cast(\"int\"))\\\n",
    "                               .withColumn(\"mae\", F.col(\"mae\").cast(\"double\"))\\\n",
    "                               .withColumn(\"rmse\", F.col(\"rmse\").cast(\"double\"))\\\n",
    "                               .withColumn(\"smape\", F.col(\"smape\").cast(\"double\"))\n",
    "            (sdf_metrics.write\n",
    "                .mode(\"overwrite\")\n",
    "                .format(\"delta\")\n",
    "                .option(\"overwriteSchema\",\"true\")\n",
    "                .saveAsTable(OUT_METRICS))\n",
    "\n",
    "            print(f\"Wrote metrics → {OUT_METRICS}\")\n",
    "            display(spark.table(OUT_METRICS).orderBy(F.desc(\"smape\")).limit(20))\n",
    "        else:\n",
    "            displayHTML(\"<p><em>No metrics generated.</em></p>\")\n"
   ]
  },
  {
   "cell_type": "code",
   "execution_count": 0,
   "metadata": {
    "application/vnd.databricks.v1+cell": {
     "cellMetadata": {
      "byteLimit": 2048000,
      "rowLimit": 10000
     },
     "inputWidgets": {},
     "nuid": "ef92f166-1cb5-45e4-a499-ff95a68d3809",
     "showTitle": false,
     "tableResultSettingsMap": {},
     "title": ""
    }
   },
   "outputs": [
    {
     "output_type": "display_data",
     "data": {
      "text/html": [
       "\n",
       "                    <div style=\"margin:10px 0;padding:10px;border-left:4px solid #22c55e;background:#f0fff4;\">\n",
       "                      <b>Backtest metrics (last 14 days)</b><br/>\n",
       "                      MAE: <code>7.782</code> &nbsp;&nbsp;\n",
       "                      RMSE: <code>9.150</code> &nbsp;&nbsp;\n",
       "                      sMAPE: <code>17.11%</code>\n",
       "                    </div>\n",
       "                    "
      ]
     },
     "metadata": {},
     "output_type": "display_data"
    },
    {
     "output_type": "display_data",
     "data": {
      "text/html": [
       "<html>\n",
       "<head><meta charset=\"utf-8\" /></head>\n",
       "<body>\n",
       "    <div>                        <script type=\"text/javascript\">window.PlotlyConfig = {MathJaxConfig: 'local'};</script>\n",
       "        <script charset=\"utf-8\" src=\"https://cdn.plot.ly/plotly-2.32.0.min.js\"></script>                <div id=\"5c0ce374-33ae-46ed-b23b-02f16a6f384b\" class=\"plotly-graph-div\" style=\"height:520px; width:100%;\"></div>            <script type=\"text/javascript\">                                    window.PLOTLYENV=window.PLOTLYENV || {};                                    if (document.getElementById(\"5c0ce374-33ae-46ed-b23b-02f16a6f384b\")) {                    Plotly.newPlot(                        \"5c0ce374-33ae-46ed-b23b-02f16a6f384b\",                        [{\"line\":{\"color\":\"#2563eb\"},\"mode\":\"lines+markers\",\"name\":\"Actuals\",\"x\":[\"2020-01-01T00:00:00\",\"2020-01-02T00:00:00\",\"2020-01-03T00:00:00\",\"2020-01-04T00:00:00\",\"2020-01-05T00:00:00\",\"2020-01-06T00:00:00\",\"2020-01-07T00:00:00\",\"2020-01-08T00:00:00\",\"2020-01-09T00:00:00\",\"2020-01-10T00:00:00\",\"2020-01-11T00:00:00\",\"2020-01-12T00:00:00\",\"2020-01-13T00:00:00\",\"2020-01-14T00:00:00\",\"2020-01-15T00:00:00\",\"2020-01-16T00:00:00\",\"2020-01-17T00:00:00\",\"2020-01-18T00:00:00\",\"2020-01-19T00:00:00\",\"2020-01-20T00:00:00\",\"2020-01-21T00:00:00\",\"2020-01-22T00:00:00\",\"2020-01-23T00:00:00\",\"2020-01-24T00:00:00\",\"2020-01-25T00:00:00\",\"2020-01-26T00:00:00\",\"2020-01-27T00:00:00\",\"2020-01-28T00:00:00\",\"2020-01-29T00:00:00\",\"2020-01-30T00:00:00\",\"2020-01-31T00:00:00\",\"2020-02-01T00:00:00\",\"2020-02-02T00:00:00\",\"2020-02-03T00:00:00\",\"2020-02-04T00:00:00\",\"2020-02-05T00:00:00\",\"2020-02-06T00:00:00\",\"2020-02-07T00:00:00\",\"2020-02-08T00:00:00\",\"2020-02-09T00:00:00\",\"2020-02-10T00:00:00\",\"2020-02-11T00:00:00\",\"2020-02-12T00:00:00\",\"2020-02-13T00:00:00\",\"2020-02-14T00:00:00\",\"2020-02-15T00:00:00\",\"2020-02-16T00:00:00\",\"2020-02-17T00:00:00\",\"2020-02-18T00:00:00\",\"2020-02-19T00:00:00\",\"2020-02-20T00:00:00\",\"2020-02-21T00:00:00\",\"2020-02-22T00:00:00\",\"2020-02-23T00:00:00\",\"2020-02-24T00:00:00\",\"2020-02-25T00:00:00\",\"2020-02-26T00:00:00\",\"2020-02-27T00:00:00\",\"2020-02-28T00:00:00\",\"2020-02-29T00:00:00\",\"2020-03-01T00:00:00\",\"2020-03-02T00:00:00\",\"2020-03-03T00:00:00\",\"2020-03-04T00:00:00\",\"2020-03-05T00:00:00\",\"2020-03-06T00:00:00\",\"2020-03-07T00:00:00\",\"2020-03-08T00:00:00\",\"2020-03-09T00:00:00\",\"2020-03-10T00:00:00\",\"2020-03-11T00:00:00\",\"2020-03-12T00:00:00\",\"2020-03-13T00:00:00\",\"2020-03-14T00:00:00\",\"2020-03-15T00:00:00\",\"2020-03-16T00:00:00\",\"2020-03-17T00:00:00\",\"2020-03-18T00:00:00\",\"2020-03-19T00:00:00\",\"2020-03-20T00:00:00\",\"2020-03-21T00:00:00\",\"2020-03-22T00:00:00\",\"2020-03-23T00:00:00\",\"2020-03-24T00:00:00\",\"2020-03-25T00:00:00\",\"2020-03-26T00:00:00\",\"2020-03-27T00:00:00\",\"2020-03-28T00:00:00\",\"2020-03-29T00:00:00\",\"2020-03-30T00:00:00\",\"2020-03-31T00:00:00\",\"2020-04-01T00:00:00\",\"2020-04-02T00:00:00\",\"2020-04-03T00:00:00\",\"2020-04-04T00:00:00\",\"2020-04-05T00:00:00\",\"2020-04-06T00:00:00\",\"2020-04-07T00:00:00\",\"2020-04-08T00:00:00\",\"2020-04-09T00:00:00\",\"2020-04-10T00:00:00\",\"2020-04-11T00:00:00\",\"2020-04-12T00:00:00\",\"2020-04-13T00:00:00\",\"2020-04-14T00:00:00\",\"2020-04-15T00:00:00\",\"2020-04-16T00:00:00\",\"2020-04-17T00:00:00\",\"2020-04-18T00:00:00\",\"2020-04-19T00:00:00\",\"2020-04-20T00:00:00\",\"2020-04-21T00:00:00\",\"2020-04-22T00:00:00\",\"2020-04-23T00:00:00\",\"2020-04-24T00:00:00\",\"2020-04-25T00:00:00\",\"2020-04-26T00:00:00\",\"2020-04-27T00:00:00\",\"2020-04-28T00:00:00\",\"2020-04-29T00:00:00\",\"2020-04-30T00:00:00\",\"2020-05-01T00:00:00\",\"2020-05-02T00:00:00\",\"2020-05-03T00:00:00\",\"2020-05-04T00:00:00\",\"2020-05-05T00:00:00\",\"2020-05-06T00:00:00\",\"2020-05-07T00:00:00\",\"2020-05-08T00:00:00\",\"2020-05-09T00:00:00\",\"2020-05-10T00:00:00\",\"2020-05-11T00:00:00\",\"2020-05-12T00:00:00\",\"2020-05-13T00:00:00\",\"2020-05-14T00:00:00\",\"2020-05-15T00:00:00\",\"2020-05-16T00:00:00\",\"2020-05-17T00:00:00\",\"2020-05-18T00:00:00\",\"2020-05-19T00:00:00\",\"2020-05-20T00:00:00\",\"2020-05-21T00:00:00\",\"2020-05-22T00:00:00\",\"2020-05-23T00:00:00\",\"2020-05-24T00:00:00\",\"2020-05-25T00:00:00\",\"2020-05-26T00:00:00\",\"2020-05-27T00:00:00\",\"2020-05-28T00:00:00\",\"2020-05-29T00:00:00\",\"2020-05-30T00:00:00\",\"2020-05-31T00:00:00\",\"2020-06-01T00:00:00\",\"2020-06-02T00:00:00\",\"2020-06-03T00:00:00\",\"2020-06-04T00:00:00\",\"2020-06-05T00:00:00\",\"2020-06-06T00:00:00\",\"2020-06-07T00:00:00\",\"2020-06-08T00:00:00\",\"2020-06-09T00:00:00\",\"2020-06-10T00:00:00\",\"2020-06-11T00:00:00\",\"2020-06-12T00:00:00\",\"2020-06-13T00:00:00\",\"2020-06-14T00:00:00\",\"2020-06-15T00:00:00\",\"2020-06-16T00:00:00\",\"2020-06-17T00:00:00\",\"2020-06-18T00:00:00\",\"2020-06-19T00:00:00\",\"2020-06-20T00:00:00\",\"2020-06-21T00:00:00\",\"2020-06-22T00:00:00\",\"2020-06-23T00:00:00\",\"2020-06-24T00:00:00\",\"2020-06-25T00:00:00\",\"2020-06-26T00:00:00\",\"2020-06-27T00:00:00\",\"2020-06-28T00:00:00\",\"2020-06-29T00:00:00\",\"2020-06-30T00:00:00\",\"2020-07-01T00:00:00\",\"2020-07-02T00:00:00\",\"2020-07-03T00:00:00\",\"2020-07-04T00:00:00\",\"2020-07-05T00:00:00\",\"2020-07-06T00:00:00\",\"2020-07-07T00:00:00\",\"2020-07-08T00:00:00\",\"2020-07-09T00:00:00\",\"2020-07-10T00:00:00\",\"2020-07-11T00:00:00\",\"2020-07-12T00:00:00\",\"2020-07-13T00:00:00\",\"2020-07-14T00:00:00\",\"2020-07-15T00:00:00\",\"2020-07-16T00:00:00\",\"2020-07-17T00:00:00\",\"2020-07-18T00:00:00\",\"2020-07-19T00:00:00\",\"2020-07-20T00:00:00\",\"2020-07-21T00:00:00\",\"2020-07-22T00:00:00\",\"2020-07-23T00:00:00\",\"2020-07-24T00:00:00\",\"2020-07-25T00:00:00\",\"2020-07-26T00:00:00\",\"2020-07-27T00:00:00\",\"2020-07-28T00:00:00\",\"2020-07-29T00:00:00\",\"2020-07-30T00:00:00\",\"2020-07-31T00:00:00\",\"2020-08-01T00:00:00\",\"2020-08-02T00:00:00\",\"2020-08-03T00:00:00\",\"2020-08-04T00:00:00\",\"2020-08-05T00:00:00\",\"2020-08-06T00:00:00\",\"2020-08-07T00:00:00\",\"2020-08-08T00:00:00\",\"2020-08-09T00:00:00\",\"2020-08-10T00:00:00\",\"2020-08-11T00:00:00\",\"2020-08-12T00:00:00\",\"2020-08-13T00:00:00\",\"2020-08-14T00:00:00\",\"2020-08-15T00:00:00\",\"2020-08-16T00:00:00\",\"2020-08-17T00:00:00\",\"2020-08-18T00:00:00\",\"2020-08-19T00:00:00\",\"2020-08-20T00:00:00\",\"2020-08-21T00:00:00\",\"2020-08-22T00:00:00\",\"2020-08-23T00:00:00\",\"2020-08-24T00:00:00\",\"2020-08-25T00:00:00\",\"2020-08-26T00:00:00\",\"2020-08-27T00:00:00\",\"2020-08-28T00:00:00\",\"2020-08-29T00:00:00\",\"2020-08-30T00:00:00\",\"2020-08-31T00:00:00\",\"2020-09-01T00:00:00\",\"2020-09-02T00:00:00\",\"2020-09-03T00:00:00\",\"2020-09-04T00:00:00\",\"2020-09-05T00:00:00\",\"2020-09-06T00:00:00\",\"2020-09-07T00:00:00\",\"2020-09-08T00:00:00\",\"2020-09-09T00:00:00\",\"2020-09-10T00:00:00\",\"2020-09-11T00:00:00\",\"2020-09-12T00:00:00\",\"2020-09-13T00:00:00\",\"2020-09-14T00:00:00\",\"2020-09-15T00:00:00\",\"2020-09-16T00:00:00\",\"2020-09-17T00:00:00\",\"2020-09-18T00:00:00\",\"2020-09-19T00:00:00\",\"2020-09-20T00:00:00\",\"2020-09-21T00:00:00\",\"2020-09-22T00:00:00\",\"2020-09-23T00:00:00\",\"2020-09-24T00:00:00\",\"2020-09-25T00:00:00\",\"2020-09-26T00:00:00\",\"2020-09-27T00:00:00\",\"2020-09-28T00:00:00\",\"2020-09-29T00:00:00\",\"2020-09-30T00:00:00\",\"2020-10-01T00:00:00\",\"2020-10-02T00:00:00\",\"2020-10-03T00:00:00\",\"2020-10-04T00:00:00\",\"2020-10-05T00:00:00\",\"2020-10-06T00:00:00\",\"2020-10-07T00:00:00\",\"2020-10-08T00:00:00\",\"2020-10-09T00:00:00\",\"2020-10-10T00:00:00\",\"2020-10-11T00:00:00\",\"2020-10-12T00:00:00\",\"2020-10-13T00:00:00\",\"2020-10-14T00:00:00\",\"2020-10-15T00:00:00\",\"2020-10-16T00:00:00\",\"2020-10-17T00:00:00\",\"2020-10-18T00:00:00\",\"2020-10-19T00:00:00\",\"2020-10-20T00:00:00\",\"2020-10-21T00:00:00\",\"2020-10-22T00:00:00\",\"2020-10-23T00:00:00\",\"2020-10-24T00:00:00\",\"2020-10-25T00:00:00\",\"2020-10-26T00:00:00\",\"2020-10-27T00:00:00\",\"2020-10-28T00:00:00\",\"2020-10-29T00:00:00\",\"2020-10-30T00:00:00\",\"2020-10-31T00:00:00\",\"2020-11-01T00:00:00\",\"2020-11-02T00:00:00\",\"2020-11-03T00:00:00\",\"2020-11-04T00:00:00\",\"2020-11-05T00:00:00\",\"2020-11-06T00:00:00\",\"2020-11-07T00:00:00\",\"2020-11-08T00:00:00\",\"2020-11-09T00:00:00\",\"2020-11-10T00:00:00\",\"2020-11-11T00:00:00\",\"2020-11-12T00:00:00\",\"2020-11-13T00:00:00\",\"2020-11-14T00:00:00\",\"2020-11-15T00:00:00\",\"2020-11-16T00:00:00\",\"2020-11-17T00:00:00\",\"2020-11-18T00:00:00\",\"2020-11-19T00:00:00\",\"2020-11-20T00:00:00\",\"2020-11-21T00:00:00\",\"2020-11-22T00:00:00\",\"2020-11-23T00:00:00\",\"2020-11-24T00:00:00\",\"2020-11-25T00:00:00\",\"2020-11-26T00:00:00\",\"2020-11-27T00:00:00\",\"2020-11-28T00:00:00\",\"2020-11-29T00:00:00\",\"2020-11-30T00:00:00\",\"2020-12-01T00:00:00\",\"2020-12-02T00:00:00\",\"2020-12-03T00:00:00\",\"2020-12-04T00:00:00\",\"2020-12-05T00:00:00\",\"2020-12-06T00:00:00\",\"2020-12-07T00:00:00\",\"2020-12-08T00:00:00\",\"2020-12-09T00:00:00\",\"2020-12-10T00:00:00\",\"2020-12-11T00:00:00\",\"2020-12-12T00:00:00\",\"2020-12-13T00:00:00\",\"2020-12-14T00:00:00\",\"2020-12-15T00:00:00\",\"2020-12-16T00:00:00\",\"2020-12-17T00:00:00\",\"2020-12-18T00:00:00\",\"2020-12-19T00:00:00\",\"2020-12-20T00:00:00\",\"2020-12-21T00:00:00\",\"2020-12-22T00:00:00\",\"2020-12-23T00:00:00\",\"2020-12-24T00:00:00\",\"2020-12-25T00:00:00\",\"2020-12-26T00:00:00\",\"2020-12-27T00:00:00\",\"2020-12-28T00:00:00\",\"2020-12-29T00:00:00\",\"2020-12-30T00:00:00\",\"2020-12-31T00:00:00\",\"2021-01-01T00:00:00\",\"2021-01-02T00:00:00\",\"2021-01-03T00:00:00\",\"2021-01-04T00:00:00\",\"2021-01-05T00:00:00\",\"2021-01-06T00:00:00\",\"2021-01-07T00:00:00\",\"2021-01-08T00:00:00\",\"2021-01-09T00:00:00\",\"2021-01-10T00:00:00\",\"2021-01-11T00:00:00\",\"2021-01-12T00:00:00\",\"2021-01-13T00:00:00\",\"2021-01-14T00:00:00\",\"2021-01-15T00:00:00\",\"2021-01-16T00:00:00\",\"2021-01-17T00:00:00\",\"2021-01-18T00:00:00\",\"2021-01-19T00:00:00\",\"2021-01-20T00:00:00\",\"2021-01-21T00:00:00\",\"2021-01-22T00:00:00\",\"2021-01-23T00:00:00\",\"2021-01-24T00:00:00\",\"2021-01-25T00:00:00\",\"2021-01-26T00:00:00\",\"2021-01-27T00:00:00\",\"2021-01-28T00:00:00\",\"2021-01-29T00:00:00\",\"2021-01-30T00:00:00\",\"2021-01-31T00:00:00\",\"2021-02-01T00:00:00\",\"2021-02-02T00:00:00\",\"2021-02-03T00:00:00\",\"2021-02-04T00:00:00\",\"2021-02-05T00:00:00\",\"2021-02-06T00:00:00\",\"2021-02-07T00:00:00\",\"2021-02-08T00:00:00\",\"2021-02-09T00:00:00\",\"2021-02-10T00:00:00\",\"2021-02-11T00:00:00\",\"2021-02-12T00:00:00\",\"2021-02-13T00:00:00\",\"2021-02-14T00:00:00\",\"2021-02-15T00:00:00\",\"2021-02-16T00:00:00\",\"2021-02-17T00:00:00\",\"2021-02-18T00:00:00\",\"2021-02-19T00:00:00\",\"2021-02-20T00:00:00\",\"2021-02-21T00:00:00\",\"2021-02-22T00:00:00\",\"2021-02-23T00:00:00\",\"2021-02-24T00:00:00\",\"2021-02-25T00:00:00\",\"2021-02-26T00:00:00\",\"2021-02-27T00:00:00\",\"2021-02-28T00:00:00\",\"2021-03-01T00:00:00\",\"2021-03-02T00:00:00\",\"2021-03-03T00:00:00\",\"2021-03-04T00:00:00\",\"2021-03-05T00:00:00\",\"2021-03-06T00:00:00\",\"2021-03-07T00:00:00\",\"2021-03-08T00:00:00\",\"2021-03-09T00:00:00\",\"2021-03-10T00:00:00\",\"2021-03-11T00:00:00\",\"2021-03-12T00:00:00\",\"2021-03-13T00:00:00\",\"2021-03-14T00:00:00\",\"2021-03-15T00:00:00\",\"2021-03-16T00:00:00\",\"2021-03-17T00:00:00\",\"2021-03-18T00:00:00\",\"2021-03-19T00:00:00\",\"2021-03-20T00:00:00\",\"2021-03-21T00:00:00\",\"2021-03-22T00:00:00\",\"2021-03-23T00:00:00\",\"2021-03-24T00:00:00\",\"2021-03-25T00:00:00\",\"2021-03-26T00:00:00\",\"2021-03-27T00:00:00\",\"2021-03-28T00:00:00\",\"2021-03-29T00:00:00\",\"2021-03-30T00:00:00\",\"2021-03-31T00:00:00\",\"2021-04-01T00:00:00\",\"2021-04-02T00:00:00\",\"2021-04-03T00:00:00\",\"2021-04-04T00:00:00\",\"2021-04-05T00:00:00\",\"2021-04-06T00:00:00\",\"2021-04-07T00:00:00\",\"2021-04-08T00:00:00\",\"2021-04-09T00:00:00\",\"2021-04-10T00:00:00\",\"2021-04-11T00:00:00\",\"2021-04-12T00:00:00\",\"2021-04-13T00:00:00\",\"2021-04-14T00:00:00\",\"2021-04-15T00:00:00\",\"2021-04-16T00:00:00\",\"2021-04-17T00:00:00\",\"2021-04-18T00:00:00\",\"2021-04-19T00:00:00\",\"2021-04-20T00:00:00\",\"2021-04-21T00:00:00\",\"2021-04-22T00:00:00\",\"2021-04-23T00:00:00\",\"2021-04-24T00:00:00\",\"2021-04-25T00:00:00\",\"2021-04-26T00:00:00\",\"2021-04-27T00:00:00\",\"2021-04-28T00:00:00\",\"2021-04-29T00:00:00\",\"2021-04-30T00:00:00\",\"2021-05-01T00:00:00\",\"2021-05-02T00:00:00\",\"2021-05-03T00:00:00\",\"2021-05-04T00:00:00\",\"2021-05-05T00:00:00\",\"2021-05-06T00:00:00\",\"2021-05-07T00:00:00\",\"2021-05-08T00:00:00\",\"2021-05-09T00:00:00\",\"2021-05-10T00:00:00\",\"2021-05-11T00:00:00\",\"2021-05-12T00:00:00\",\"2021-05-13T00:00:00\",\"2021-05-14T00:00:00\",\"2021-05-15T00:00:00\",\"2021-05-16T00:00:00\",\"2021-05-17T00:00:00\",\"2021-05-18T00:00:00\",\"2021-05-19T00:00:00\",\"2021-05-20T00:00:00\",\"2021-05-21T00:00:00\",\"2021-05-22T00:00:00\",\"2021-05-23T00:00:00\",\"2021-05-24T00:00:00\",\"2021-05-25T00:00:00\",\"2021-05-26T00:00:00\",\"2021-05-27T00:00:00\",\"2021-05-28T00:00:00\",\"2021-05-29T00:00:00\",\"2021-05-30T00:00:00\",\"2021-05-31T00:00:00\",\"2021-06-01T00:00:00\",\"2021-06-02T00:00:00\",\"2021-06-03T00:00:00\",\"2021-06-04T00:00:00\",\"2021-06-05T00:00:00\",\"2021-06-06T00:00:00\",\"2021-06-07T00:00:00\",\"2021-06-08T00:00:00\",\"2021-06-09T00:00:00\",\"2021-06-10T00:00:00\",\"2021-06-11T00:00:00\",\"2021-06-12T00:00:00\",\"2021-06-13T00:00:00\",\"2021-06-14T00:00:00\",\"2021-06-15T00:00:00\",\"2021-06-16T00:00:00\",\"2021-06-17T00:00:00\",\"2021-06-18T00:00:00\",\"2021-06-19T00:00:00\",\"2021-06-20T00:00:00\",\"2021-06-21T00:00:00\",\"2021-06-22T00:00:00\",\"2021-06-23T00:00:00\",\"2021-06-24T00:00:00\",\"2021-06-25T00:00:00\",\"2021-06-26T00:00:00\",\"2021-06-27T00:00:00\",\"2021-06-28T00:00:00\",\"2021-06-29T00:00:00\",\"2021-06-30T00:00:00\",\"2021-07-01T00:00:00\",\"2021-07-02T00:00:00\",\"2021-07-03T00:00:00\",\"2021-07-04T00:00:00\",\"2021-07-05T00:00:00\",\"2021-07-06T00:00:00\",\"2021-07-07T00:00:00\",\"2021-07-08T00:00:00\",\"2021-07-09T00:00:00\",\"2021-07-10T00:00:00\",\"2021-07-11T00:00:00\",\"2021-07-12T00:00:00\",\"2021-07-13T00:00:00\",\"2021-07-14T00:00:00\",\"2021-07-15T00:00:00\",\"2021-07-16T00:00:00\",\"2021-07-17T00:00:00\",\"2021-07-18T00:00:00\",\"2021-07-19T00:00:00\",\"2021-07-20T00:00:00\",\"2021-07-21T00:00:00\",\"2021-07-22T00:00:00\",\"2021-07-23T00:00:00\",\"2021-07-24T00:00:00\",\"2021-07-25T00:00:00\",\"2021-07-26T00:00:00\",\"2021-07-27T00:00:00\",\"2021-07-28T00:00:00\",\"2021-07-29T00:00:00\",\"2021-07-30T00:00:00\",\"2021-07-31T00:00:00\",\"2021-08-01T00:00:00\",\"2021-08-02T00:00:00\",\"2021-08-03T00:00:00\",\"2021-08-04T00:00:00\",\"2021-08-05T00:00:00\",\"2021-08-06T00:00:00\",\"2021-08-07T00:00:00\",\"2021-08-08T00:00:00\",\"2021-08-09T00:00:00\",\"2021-08-10T00:00:00\",\"2021-08-11T00:00:00\",\"2021-08-12T00:00:00\",\"2021-08-13T00:00:00\",\"2021-08-14T00:00:00\",\"2021-08-15T00:00:00\",\"2021-08-16T00:00:00\",\"2021-08-17T00:00:00\",\"2021-08-18T00:00:00\",\"2021-08-19T00:00:00\",\"2021-08-20T00:00:00\",\"2021-08-21T00:00:00\",\"2021-08-22T00:00:00\",\"2021-08-23T00:00:00\",\"2021-08-24T00:00:00\",\"2021-08-25T00:00:00\",\"2021-08-26T00:00:00\",\"2021-08-27T00:00:00\",\"2021-08-28T00:00:00\",\"2021-08-29T00:00:00\",\"2021-08-30T00:00:00\",\"2021-08-31T00:00:00\",\"2021-09-01T00:00:00\",\"2021-09-02T00:00:00\",\"2021-09-03T00:00:00\",\"2021-09-04T00:00:00\",\"2021-09-05T00:00:00\",\"2021-09-06T00:00:00\",\"2021-09-07T00:00:00\",\"2021-09-08T00:00:00\",\"2021-09-09T00:00:00\",\"2021-09-10T00:00:00\",\"2021-09-11T00:00:00\",\"2021-09-12T00:00:00\",\"2021-09-13T00:00:00\",\"2021-09-14T00:00:00\",\"2021-09-15T00:00:00\",\"2021-09-16T00:00:00\",\"2021-09-17T00:00:00\",\"2021-09-18T00:00:00\",\"2021-09-19T00:00:00\",\"2021-09-20T00:00:00\",\"2021-09-21T00:00:00\",\"2021-09-22T00:00:00\",\"2021-09-23T00:00:00\",\"2021-09-24T00:00:00\",\"2021-09-25T00:00:00\",\"2021-09-26T00:00:00\",\"2021-09-27T00:00:00\",\"2021-09-28T00:00:00\",\"2021-09-29T00:00:00\",\"2021-09-30T00:00:00\",\"2021-10-01T00:00:00\",\"2021-10-02T00:00:00\",\"2021-10-03T00:00:00\",\"2021-10-04T00:00:00\",\"2021-10-05T00:00:00\",\"2021-10-06T00:00:00\",\"2021-10-07T00:00:00\",\"2021-10-08T00:00:00\",\"2021-10-09T00:00:00\",\"2021-10-10T00:00:00\",\"2021-10-11T00:00:00\",\"2021-10-12T00:00:00\",\"2021-10-13T00:00:00\",\"2021-10-14T00:00:00\",\"2021-10-15T00:00:00\",\"2021-10-16T00:00:00\",\"2021-10-17T00:00:00\",\"2021-10-18T00:00:00\",\"2021-10-19T00:00:00\",\"2021-10-20T00:00:00\",\"2021-10-21T00:00:00\",\"2021-10-22T00:00:00\",\"2021-10-23T00:00:00\",\"2021-10-24T00:00:00\",\"2021-10-25T00:00:00\",\"2021-10-26T00:00:00\",\"2021-10-27T00:00:00\",\"2021-10-28T00:00:00\",\"2021-10-29T00:00:00\",\"2021-10-30T00:00:00\",\"2021-10-31T00:00:00\",\"2021-11-01T00:00:00\",\"2021-11-02T00:00:00\",\"2021-11-03T00:00:00\",\"2021-11-04T00:00:00\",\"2021-11-05T00:00:00\",\"2021-11-06T00:00:00\",\"2021-11-07T00:00:00\",\"2021-11-08T00:00:00\",\"2021-11-09T00:00:00\",\"2021-11-10T00:00:00\",\"2021-11-11T00:00:00\",\"2021-11-12T00:00:00\",\"2021-11-13T00:00:00\",\"2021-11-14T00:00:00\",\"2021-11-15T00:00:00\",\"2021-11-16T00:00:00\",\"2021-11-17T00:00:00\",\"2021-11-18T00:00:00\",\"2021-11-19T00:00:00\",\"2021-11-20T00:00:00\",\"2021-11-21T00:00:00\",\"2021-11-22T00:00:00\",\"2021-11-23T00:00:00\",\"2021-11-24T00:00:00\",\"2021-11-25T00:00:00\",\"2021-11-26T00:00:00\",\"2021-11-27T00:00:00\",\"2021-11-28T00:00:00\",\"2021-11-29T00:00:00\",\"2021-11-30T00:00:00\",\"2021-12-01T00:00:00\",\"2021-12-02T00:00:00\",\"2021-12-03T00:00:00\",\"2021-12-04T00:00:00\",\"2021-12-05T00:00:00\",\"2021-12-06T00:00:00\",\"2021-12-07T00:00:00\",\"2021-12-08T00:00:00\",\"2021-12-09T00:00:00\",\"2021-12-10T00:00:00\",\"2021-12-11T00:00:00\",\"2021-12-12T00:00:00\",\"2021-12-13T00:00:00\",\"2021-12-14T00:00:00\",\"2021-12-15T00:00:00\",\"2021-12-16T00:00:00\",\"2021-12-17T00:00:00\",\"2021-12-18T00:00:00\",\"2021-12-19T00:00:00\",\"2021-12-20T00:00:00\",\"2021-12-21T00:00:00\",\"2021-12-22T00:00:00\",\"2021-12-23T00:00:00\",\"2021-12-24T00:00:00\",\"2021-12-25T00:00:00\",\"2021-12-26T00:00:00\",\"2021-12-27T00:00:00\",\"2021-12-28T00:00:00\",\"2021-12-29T00:00:00\",\"2021-12-30T00:00:00\",\"2021-12-31T00:00:00\",\"2022-01-01T00:00:00\",\"2022-01-02T00:00:00\",\"2022-01-03T00:00:00\",\"2022-01-04T00:00:00\",\"2022-01-05T00:00:00\",\"2022-01-06T00:00:00\",\"2022-01-07T00:00:00\",\"2022-01-08T00:00:00\",\"2022-01-09T00:00:00\",\"2022-01-10T00:00:00\",\"2022-01-11T00:00:00\",\"2022-01-12T00:00:00\",\"2022-01-13T00:00:00\",\"2022-01-14T00:00:00\",\"2022-01-15T00:00:00\",\"2022-01-16T00:00:00\",\"2022-01-17T00:00:00\",\"2022-01-18T00:00:00\",\"2022-01-19T00:00:00\",\"2022-01-20T00:00:00\",\"2022-01-21T00:00:00\",\"2022-01-22T00:00:00\",\"2022-01-23T00:00:00\",\"2022-01-24T00:00:00\",\"2022-01-25T00:00:00\",\"2022-01-26T00:00:00\",\"2022-01-27T00:00:00\",\"2022-01-28T00:00:00\",\"2022-01-29T00:00:00\",\"2022-01-30T00:00:00\",\"2022-01-31T00:00:00\",\"2022-02-01T00:00:00\",\"2022-02-02T00:00:00\",\"2022-02-03T00:00:00\",\"2022-02-04T00:00:00\",\"2022-02-05T00:00:00\",\"2022-02-06T00:00:00\",\"2022-02-07T00:00:00\",\"2022-02-08T00:00:00\",\"2022-02-09T00:00:00\",\"2022-02-10T00:00:00\",\"2022-02-11T00:00:00\",\"2022-02-12T00:00:00\",\"2022-02-13T00:00:00\",\"2022-02-14T00:00:00\",\"2022-02-15T00:00:00\",\"2022-02-16T00:00:00\",\"2022-02-17T00:00:00\",\"2022-02-18T00:00:00\",\"2022-02-19T00:00:00\",\"2022-02-20T00:00:00\",\"2022-02-21T00:00:00\",\"2022-02-22T00:00:00\",\"2022-02-23T00:00:00\",\"2022-02-24T00:00:00\",\"2022-02-25T00:00:00\",\"2022-02-26T00:00:00\",\"2022-02-27T00:00:00\",\"2022-02-28T00:00:00\",\"2022-03-01T00:00:00\",\"2022-03-02T00:00:00\",\"2022-03-03T00:00:00\",\"2022-03-04T00:00:00\",\"2022-03-05T00:00:00\",\"2022-03-06T00:00:00\",\"2022-03-07T00:00:00\",\"2022-03-08T00:00:00\",\"2022-03-09T00:00:00\",\"2022-03-10T00:00:00\",\"2022-03-11T00:00:00\",\"2022-03-12T00:00:00\",\"2022-03-13T00:00:00\",\"2022-03-14T00:00:00\",\"2022-03-15T00:00:00\",\"2022-03-16T00:00:00\",\"2022-03-17T00:00:00\",\"2022-03-18T00:00:00\",\"2022-03-19T00:00:00\",\"2022-03-20T00:00:00\",\"2022-03-21T00:00:00\",\"2022-03-22T00:00:00\",\"2022-03-23T00:00:00\",\"2022-03-24T00:00:00\",\"2022-03-25T00:00:00\",\"2022-03-26T00:00:00\",\"2022-03-27T00:00:00\",\"2022-03-28T00:00:00\",\"2022-03-29T00:00:00\",\"2022-03-30T00:00:00\",\"2022-03-31T00:00:00\",\"2022-04-01T00:00:00\",\"2022-04-02T00:00:00\",\"2022-04-03T00:00:00\",\"2022-04-04T00:00:00\",\"2022-04-05T00:00:00\",\"2022-04-06T00:00:00\",\"2022-04-07T00:00:00\",\"2022-04-08T00:00:00\",\"2022-04-09T00:00:00\",\"2022-04-10T00:00:00\",\"2022-04-11T00:00:00\",\"2022-04-12T00:00:00\",\"2022-04-13T00:00:00\",\"2022-04-14T00:00:00\",\"2022-04-15T00:00:00\",\"2022-04-16T00:00:00\",\"2022-04-17T00:00:00\",\"2022-04-18T00:00:00\",\"2022-04-19T00:00:00\",\"2022-04-20T00:00:00\",\"2022-04-21T00:00:00\",\"2022-04-22T00:00:00\",\"2022-04-23T00:00:00\",\"2022-04-24T00:00:00\",\"2022-04-25T00:00:00\",\"2022-04-26T00:00:00\",\"2022-04-27T00:00:00\",\"2022-04-28T00:00:00\",\"2022-04-29T00:00:00\",\"2022-04-30T00:00:00\",\"2022-05-01T00:00:00\",\"2022-05-02T00:00:00\",\"2022-05-03T00:00:00\",\"2022-05-04T00:00:00\",\"2022-05-05T00:00:00\",\"2022-05-06T00:00:00\",\"2022-05-07T00:00:00\",\"2022-05-08T00:00:00\",\"2022-05-09T00:00:00\",\"2022-05-10T00:00:00\",\"2022-05-11T00:00:00\",\"2022-05-12T00:00:00\",\"2022-05-13T00:00:00\",\"2022-05-14T00:00:00\",\"2022-05-15T00:00:00\",\"2022-05-16T00:00:00\",\"2022-05-17T00:00:00\",\"2022-05-18T00:00:00\",\"2022-05-19T00:00:00\",\"2022-05-20T00:00:00\",\"2022-05-21T00:00:00\",\"2022-05-22T00:00:00\",\"2022-05-23T00:00:00\",\"2022-05-24T00:00:00\",\"2022-05-25T00:00:00\",\"2022-05-26T00:00:00\",\"2022-05-27T00:00:00\",\"2022-05-28T00:00:00\",\"2022-05-29T00:00:00\",\"2022-05-30T00:00:00\",\"2022-05-31T00:00:00\",\"2022-06-01T00:00:00\",\"2022-06-02T00:00:00\",\"2022-06-03T00:00:00\",\"2022-06-04T00:00:00\",\"2022-06-05T00:00:00\",\"2022-06-06T00:00:00\",\"2022-06-07T00:00:00\",\"2022-06-08T00:00:00\",\"2022-06-09T00:00:00\",\"2022-06-10T00:00:00\",\"2022-06-11T00:00:00\",\"2022-06-12T00:00:00\",\"2022-06-13T00:00:00\",\"2022-06-14T00:00:00\",\"2022-06-15T00:00:00\",\"2022-06-16T00:00:00\",\"2022-06-17T00:00:00\",\"2022-06-18T00:00:00\",\"2022-06-19T00:00:00\",\"2022-06-20T00:00:00\",\"2022-06-21T00:00:00\",\"2022-06-22T00:00:00\",\"2022-06-23T00:00:00\",\"2022-06-24T00:00:00\",\"2022-06-25T00:00:00\",\"2022-06-26T00:00:00\",\"2022-06-27T00:00:00\",\"2022-06-28T00:00:00\",\"2022-06-29T00:00:00\",\"2022-06-30T00:00:00\",\"2022-07-01T00:00:00\",\"2022-07-02T00:00:00\",\"2022-07-03T00:00:00\",\"2022-07-04T00:00:00\",\"2022-07-05T00:00:00\",\"2022-07-06T00:00:00\",\"2022-07-07T00:00:00\",\"2022-07-08T00:00:00\",\"2022-07-09T00:00:00\",\"2022-07-10T00:00:00\",\"2022-07-11T00:00:00\",\"2022-07-12T00:00:00\",\"2022-07-13T00:00:00\",\"2022-07-14T00:00:00\",\"2022-07-15T00:00:00\",\"2022-07-16T00:00:00\",\"2022-07-17T00:00:00\",\"2022-07-18T00:00:00\",\"2022-07-19T00:00:00\",\"2022-07-20T00:00:00\",\"2022-07-21T00:00:00\",\"2022-07-22T00:00:00\",\"2022-07-23T00:00:00\",\"2022-07-24T00:00:00\",\"2022-07-25T00:00:00\",\"2022-07-26T00:00:00\",\"2022-07-27T00:00:00\",\"2022-07-28T00:00:00\",\"2022-07-29T00:00:00\",\"2022-07-30T00:00:00\",\"2022-07-31T00:00:00\",\"2022-08-01T00:00:00\",\"2022-08-02T00:00:00\",\"2022-08-03T00:00:00\",\"2022-08-04T00:00:00\",\"2022-08-05T00:00:00\",\"2022-08-06T00:00:00\",\"2022-08-07T00:00:00\",\"2022-08-08T00:00:00\",\"2022-08-09T00:00:00\",\"2022-08-10T00:00:00\",\"2022-08-11T00:00:00\",\"2022-08-12T00:00:00\",\"2022-08-13T00:00:00\",\"2022-08-14T00:00:00\",\"2022-08-15T00:00:00\",\"2022-08-16T00:00:00\",\"2022-08-17T00:00:00\",\"2022-08-18T00:00:00\",\"2022-08-19T00:00:00\",\"2022-08-20T00:00:00\",\"2022-08-21T00:00:00\",\"2022-08-22T00:00:00\",\"2022-08-23T00:00:00\",\"2022-08-24T00:00:00\",\"2022-08-25T00:00:00\",\"2022-08-26T00:00:00\",\"2022-08-27T00:00:00\",\"2022-08-28T00:00:00\",\"2022-08-29T00:00:00\",\"2022-08-30T00:00:00\",\"2022-08-31T00:00:00\",\"2022-09-01T00:00:00\",\"2022-09-02T00:00:00\",\"2022-09-03T00:00:00\",\"2022-09-04T00:00:00\",\"2022-09-05T00:00:00\",\"2022-09-06T00:00:00\",\"2022-09-07T00:00:00\",\"2022-09-08T00:00:00\",\"2022-09-09T00:00:00\",\"2022-09-10T00:00:00\",\"2022-09-11T00:00:00\",\"2022-09-12T00:00:00\",\"2022-09-13T00:00:00\",\"2022-09-14T00:00:00\",\"2022-09-15T00:00:00\",\"2022-09-16T00:00:00\",\"2022-09-17T00:00:00\",\"2022-09-18T00:00:00\",\"2022-09-19T00:00:00\",\"2022-09-20T00:00:00\",\"2022-09-21T00:00:00\",\"2022-09-22T00:00:00\",\"2022-09-23T00:00:00\",\"2022-09-24T00:00:00\",\"2022-09-25T00:00:00\",\"2022-09-26T00:00:00\",\"2022-09-27T00:00:00\",\"2022-09-28T00:00:00\",\"2022-09-29T00:00:00\",\"2022-09-30T00:00:00\",\"2022-10-01T00:00:00\",\"2022-10-02T00:00:00\",\"2022-10-03T00:00:00\",\"2022-10-04T00:00:00\",\"2022-10-05T00:00:00\",\"2022-10-06T00:00:00\",\"2022-10-07T00:00:00\",\"2022-10-08T00:00:00\",\"2022-10-09T00:00:00\",\"2022-10-10T00:00:00\",\"2022-10-11T00:00:00\",\"2022-10-12T00:00:00\",\"2022-10-13T00:00:00\",\"2022-10-14T00:00:00\",\"2022-10-15T00:00:00\",\"2022-10-16T00:00:00\",\"2022-10-17T00:00:00\",\"2022-10-18T00:00:00\",\"2022-10-19T00:00:00\",\"2022-10-20T00:00:00\",\"2022-10-21T00:00:00\",\"2022-10-22T00:00:00\",\"2022-10-23T00:00:00\",\"2022-10-24T00:00:00\",\"2022-10-25T00:00:00\",\"2022-10-26T00:00:00\",\"2022-10-27T00:00:00\",\"2022-10-28T00:00:00\",\"2022-10-29T00:00:00\",\"2022-10-30T00:00:00\",\"2022-10-31T00:00:00\",\"2022-11-01T00:00:00\",\"2022-11-02T00:00:00\",\"2022-11-03T00:00:00\",\"2022-11-04T00:00:00\",\"2022-11-05T00:00:00\",\"2022-11-06T00:00:00\",\"2022-11-07T00:00:00\",\"2022-11-08T00:00:00\",\"2022-11-09T00:00:00\",\"2022-11-10T00:00:00\",\"2022-11-11T00:00:00\",\"2022-11-12T00:00:00\",\"2022-11-13T00:00:00\",\"2022-11-14T00:00:00\",\"2022-11-15T00:00:00\",\"2022-11-16T00:00:00\",\"2022-11-17T00:00:00\",\"2022-11-18T00:00:00\",\"2022-11-19T00:00:00\",\"2022-11-20T00:00:00\",\"2022-11-21T00:00:00\",\"2022-11-22T00:00:00\",\"2022-11-23T00:00:00\",\"2022-11-24T00:00:00\",\"2022-11-25T00:00:00\",\"2022-11-26T00:00:00\",\"2022-11-27T00:00:00\",\"2022-11-28T00:00:00\",\"2022-11-29T00:00:00\",\"2022-11-30T00:00:00\",\"2022-12-01T00:00:00\",\"2022-12-02T00:00:00\",\"2022-12-03T00:00:00\",\"2022-12-04T00:00:00\",\"2022-12-05T00:00:00\",\"2022-12-06T00:00:00\",\"2022-12-07T00:00:00\",\"2022-12-08T00:00:00\",\"2022-12-09T00:00:00\",\"2022-12-10T00:00:00\",\"2022-12-11T00:00:00\",\"2022-12-12T00:00:00\",\"2022-12-13T00:00:00\",\"2022-12-14T00:00:00\",\"2022-12-15T00:00:00\",\"2022-12-16T00:00:00\",\"2022-12-17T00:00:00\",\"2022-12-18T00:00:00\",\"2022-12-19T00:00:00\",\"2022-12-20T00:00:00\",\"2022-12-21T00:00:00\",\"2022-12-22T00:00:00\",\"2022-12-23T00:00:00\",\"2022-12-24T00:00:00\",\"2022-12-25T00:00:00\",\"2022-12-26T00:00:00\",\"2022-12-27T00:00:00\",\"2022-12-28T00:00:00\",\"2022-12-29T00:00:00\",\"2022-12-30T00:00:00\",\"2022-12-31T00:00:00\",\"2023-01-01T00:00:00\",\"2023-01-02T00:00:00\",\"2023-01-03T00:00:00\",\"2023-01-04T00:00:00\",\"2023-01-05T00:00:00\",\"2023-01-06T00:00:00\",\"2023-01-07T00:00:00\",\"2023-01-08T00:00:00\",\"2023-01-09T00:00:00\",\"2023-01-10T00:00:00\",\"2023-01-11T00:00:00\",\"2023-01-12T00:00:00\",\"2023-01-13T00:00:00\",\"2023-01-14T00:00:00\",\"2023-01-15T00:00:00\",\"2023-01-16T00:00:00\",\"2023-01-17T00:00:00\",\"2023-01-18T00:00:00\",\"2023-01-19T00:00:00\",\"2023-01-20T00:00:00\",\"2023-01-21T00:00:00\",\"2023-01-22T00:00:00\",\"2023-01-23T00:00:00\",\"2023-01-24T00:00:00\",\"2023-01-25T00:00:00\",\"2023-01-26T00:00:00\",\"2023-01-27T00:00:00\",\"2023-01-28T00:00:00\",\"2023-01-29T00:00:00\",\"2023-01-30T00:00:00\",\"2023-01-31T00:00:00\",\"2023-02-01T00:00:00\",\"2023-02-02T00:00:00\",\"2023-02-03T00:00:00\",\"2023-02-04T00:00:00\",\"2023-02-05T00:00:00\",\"2023-02-06T00:00:00\",\"2023-02-07T00:00:00\",\"2023-02-08T00:00:00\",\"2023-02-09T00:00:00\",\"2023-02-10T00:00:00\",\"2023-02-11T00:00:00\",\"2023-02-12T00:00:00\",\"2023-02-13T00:00:00\",\"2023-02-14T00:00:00\",\"2023-02-15T00:00:00\",\"2023-02-16T00:00:00\",\"2023-02-17T00:00:00\",\"2023-02-18T00:00:00\",\"2023-02-19T00:00:00\",\"2023-02-20T00:00:00\",\"2023-02-21T00:00:00\",\"2023-02-22T00:00:00\",\"2023-02-23T00:00:00\",\"2023-02-24T00:00:00\",\"2023-02-25T00:00:00\",\"2023-02-26T00:00:00\",\"2023-02-27T00:00:00\",\"2023-02-28T00:00:00\",\"2023-03-01T00:00:00\",\"2023-03-02T00:00:00\",\"2023-03-03T00:00:00\",\"2023-03-04T00:00:00\",\"2023-03-05T00:00:00\",\"2023-03-06T00:00:00\",\"2023-03-07T00:00:00\",\"2023-03-08T00:00:00\",\"2023-03-09T00:00:00\",\"2023-03-10T00:00:00\",\"2023-03-11T00:00:00\",\"2023-03-12T00:00:00\",\"2023-03-13T00:00:00\",\"2023-03-14T00:00:00\",\"2023-03-15T00:00:00\",\"2023-03-16T00:00:00\",\"2023-03-17T00:00:00\",\"2023-03-18T00:00:00\",\"2023-03-19T00:00:00\",\"2023-03-20T00:00:00\",\"2023-03-21T00:00:00\",\"2023-03-22T00:00:00\",\"2023-03-23T00:00:00\",\"2023-03-24T00:00:00\",\"2023-03-25T00:00:00\",\"2023-03-26T00:00:00\",\"2023-03-27T00:00:00\",\"2023-03-28T00:00:00\",\"2023-03-29T00:00:00\",\"2023-03-30T00:00:00\",\"2023-03-31T00:00:00\",\"2023-04-01T00:00:00\",\"2023-04-02T00:00:00\",\"2023-04-03T00:00:00\",\"2023-04-04T00:00:00\",\"2023-04-05T00:00:00\",\"2023-04-06T00:00:00\",\"2023-04-07T00:00:00\",\"2023-04-08T00:00:00\",\"2023-04-09T00:00:00\",\"2023-04-10T00:00:00\",\"2023-04-11T00:00:00\",\"2023-04-12T00:00:00\",\"2023-04-13T00:00:00\",\"2023-04-14T00:00:00\",\"2023-04-15T00:00:00\",\"2023-04-16T00:00:00\",\"2023-04-17T00:00:00\",\"2023-04-18T00:00:00\",\"2023-04-19T00:00:00\",\"2023-04-20T00:00:00\",\"2023-04-21T00:00:00\",\"2023-04-22T00:00:00\",\"2023-04-23T00:00:00\",\"2023-04-24T00:00:00\",\"2023-04-25T00:00:00\",\"2023-04-26T00:00:00\",\"2023-04-27T00:00:00\",\"2023-04-28T00:00:00\",\"2023-04-29T00:00:00\",\"2023-04-30T00:00:00\",\"2023-05-01T00:00:00\",\"2023-05-02T00:00:00\",\"2023-05-03T00:00:00\",\"2023-05-04T00:00:00\",\"2023-05-05T00:00:00\",\"2023-05-06T00:00:00\",\"2023-05-07T00:00:00\",\"2023-05-08T00:00:00\",\"2023-05-09T00:00:00\",\"2023-05-10T00:00:00\",\"2023-05-11T00:00:00\",\"2023-05-12T00:00:00\",\"2023-05-13T00:00:00\",\"2023-05-14T00:00:00\",\"2023-05-15T00:00:00\",\"2023-05-16T00:00:00\",\"2023-05-17T00:00:00\",\"2023-05-18T00:00:00\",\"2023-05-19T00:00:00\",\"2023-05-20T00:00:00\",\"2023-05-21T00:00:00\",\"2023-05-22T00:00:00\",\"2023-05-23T00:00:00\",\"2023-05-24T00:00:00\",\"2023-05-25T00:00:00\",\"2023-05-26T00:00:00\",\"2023-05-27T00:00:00\",\"2023-05-28T00:00:00\",\"2023-05-29T00:00:00\",\"2023-05-30T00:00:00\",\"2023-05-31T00:00:00\",\"2023-06-01T00:00:00\",\"2023-06-02T00:00:00\",\"2023-06-03T00:00:00\",\"2023-06-04T00:00:00\",\"2023-06-05T00:00:00\",\"2023-06-06T00:00:00\",\"2023-06-07T00:00:00\",\"2023-06-08T00:00:00\",\"2023-06-09T00:00:00\",\"2023-06-10T00:00:00\",\"2023-06-11T00:00:00\",\"2023-06-12T00:00:00\",\"2023-06-13T00:00:00\",\"2023-06-14T00:00:00\",\"2023-06-15T00:00:00\",\"2023-06-16T00:00:00\",\"2023-06-17T00:00:00\",\"2023-06-18T00:00:00\",\"2023-06-19T00:00:00\",\"2023-06-20T00:00:00\",\"2023-06-21T00:00:00\",\"2023-06-22T00:00:00\",\"2023-06-23T00:00:00\",\"2023-06-24T00:00:00\",\"2023-06-25T00:00:00\",\"2023-06-26T00:00:00\",\"2023-06-27T00:00:00\",\"2023-06-28T00:00:00\",\"2023-06-29T00:00:00\",\"2023-06-30T00:00:00\",\"2023-07-01T00:00:00\",\"2023-07-02T00:00:00\",\"2023-07-03T00:00:00\",\"2023-07-04T00:00:00\",\"2023-07-05T00:00:00\",\"2023-07-06T00:00:00\",\"2023-07-07T00:00:00\",\"2023-07-08T00:00:00\",\"2023-07-09T00:00:00\",\"2023-07-10T00:00:00\",\"2023-07-11T00:00:00\",\"2023-07-12T00:00:00\",\"2023-07-13T00:00:00\",\"2023-07-14T00:00:00\",\"2023-07-15T00:00:00\",\"2023-07-16T00:00:00\",\"2023-07-17T00:00:00\",\"2023-07-18T00:00:00\",\"2023-07-19T00:00:00\",\"2023-07-20T00:00:00\",\"2023-07-21T00:00:00\",\"2023-07-22T00:00:00\",\"2023-07-23T00:00:00\",\"2023-07-24T00:00:00\",\"2023-07-25T00:00:00\",\"2023-07-26T00:00:00\",\"2023-07-27T00:00:00\",\"2023-07-28T00:00:00\",\"2023-07-29T00:00:00\",\"2023-07-30T00:00:00\",\"2023-07-31T00:00:00\",\"2023-08-01T00:00:00\",\"2023-08-02T00:00:00\",\"2023-08-03T00:00:00\",\"2023-08-04T00:00:00\",\"2023-08-05T00:00:00\",\"2023-08-06T00:00:00\",\"2023-08-07T00:00:00\",\"2023-08-08T00:00:00\",\"2023-08-09T00:00:00\",\"2023-08-10T00:00:00\",\"2023-08-11T00:00:00\",\"2023-08-12T00:00:00\",\"2023-08-13T00:00:00\",\"2023-08-14T00:00:00\",\"2023-08-15T00:00:00\",\"2023-08-16T00:00:00\",\"2023-08-17T00:00:00\",\"2023-08-18T00:00:00\",\"2023-08-19T00:00:00\",\"2023-08-20T00:00:00\",\"2023-08-21T00:00:00\",\"2023-08-22T00:00:00\",\"2023-08-23T00:00:00\",\"2023-08-24T00:00:00\",\"2023-08-25T00:00:00\",\"2023-08-26T00:00:00\",\"2023-08-27T00:00:00\",\"2023-08-28T00:00:00\",\"2023-08-29T00:00:00\",\"2023-08-30T00:00:00\",\"2023-08-31T00:00:00\",\"2023-09-01T00:00:00\",\"2023-09-02T00:00:00\",\"2023-09-03T00:00:00\",\"2023-09-04T00:00:00\",\"2023-09-05T00:00:00\",\"2023-09-06T00:00:00\",\"2023-09-07T00:00:00\",\"2023-09-08T00:00:00\",\"2023-09-09T00:00:00\",\"2023-09-10T00:00:00\",\"2023-09-11T00:00:00\",\"2023-09-12T00:00:00\",\"2023-09-13T00:00:00\",\"2023-09-14T00:00:00\",\"2023-09-15T00:00:00\",\"2023-09-16T00:00:00\",\"2023-09-17T00:00:00\",\"2023-09-18T00:00:00\",\"2023-09-19T00:00:00\",\"2023-09-20T00:00:00\",\"2023-09-21T00:00:00\",\"2023-09-22T00:00:00\",\"2023-09-23T00:00:00\",\"2023-09-24T00:00:00\",\"2023-09-25T00:00:00\",\"2023-09-26T00:00:00\",\"2023-09-27T00:00:00\",\"2023-09-28T00:00:00\",\"2023-09-29T00:00:00\",\"2023-09-30T00:00:00\",\"2023-10-01T00:00:00\",\"2023-10-02T00:00:00\",\"2023-10-03T00:00:00\",\"2023-10-04T00:00:00\",\"2023-10-05T00:00:00\",\"2023-10-06T00:00:00\",\"2023-10-07T00:00:00\",\"2023-10-08T00:00:00\",\"2023-10-09T00:00:00\",\"2023-10-10T00:00:00\",\"2023-10-11T00:00:00\",\"2023-10-12T00:00:00\",\"2023-10-13T00:00:00\",\"2023-10-14T00:00:00\",\"2023-10-15T00:00:00\",\"2023-10-16T00:00:00\",\"2023-10-17T00:00:00\",\"2023-10-18T00:00:00\",\"2023-10-19T00:00:00\",\"2023-10-20T00:00:00\",\"2023-10-21T00:00:00\",\"2023-10-22T00:00:00\",\"2023-10-23T00:00:00\",\"2023-10-24T00:00:00\",\"2023-10-25T00:00:00\",\"2023-10-26T00:00:00\",\"2023-10-27T00:00:00\",\"2023-10-28T00:00:00\",\"2023-10-29T00:00:00\",\"2023-10-30T00:00:00\",\"2023-10-31T00:00:00\",\"2023-11-01T00:00:00\",\"2023-11-02T00:00:00\",\"2023-11-03T00:00:00\",\"2023-11-04T00:00:00\",\"2023-11-05T00:00:00\",\"2023-11-06T00:00:00\",\"2023-11-07T00:00:00\",\"2023-11-08T00:00:00\",\"2023-11-09T00:00:00\",\"2023-11-10T00:00:00\",\"2023-11-11T00:00:00\",\"2023-11-12T00:00:00\",\"2023-11-13T00:00:00\",\"2023-11-14T00:00:00\",\"2023-11-15T00:00:00\",\"2023-11-16T00:00:00\",\"2023-11-17T00:00:00\",\"2023-11-18T00:00:00\",\"2023-11-19T00:00:00\",\"2023-11-20T00:00:00\",\"2023-11-21T00:00:00\",\"2023-11-22T00:00:00\",\"2023-11-23T00:00:00\",\"2023-11-24T00:00:00\",\"2023-11-25T00:00:00\",\"2023-11-26T00:00:00\",\"2023-11-27T00:00:00\",\"2023-11-28T00:00:00\",\"2023-11-29T00:00:00\",\"2023-11-30T00:00:00\",\"2023-12-01T00:00:00\",\"2023-12-02T00:00:00\",\"2023-12-03T00:00:00\",\"2023-12-04T00:00:00\",\"2023-12-05T00:00:00\",\"2023-12-06T00:00:00\",\"2023-12-07T00:00:00\",\"2023-12-08T00:00:00\",\"2023-12-09T00:00:00\",\"2023-12-10T00:00:00\",\"2023-12-11T00:00:00\",\"2023-12-12T00:00:00\",\"2023-12-13T00:00:00\",\"2023-12-14T00:00:00\",\"2023-12-15T00:00:00\",\"2023-12-16T00:00:00\",\"2023-12-17T00:00:00\",\"2023-12-18T00:00:00\",\"2023-12-19T00:00:00\",\"2023-12-20T00:00:00\",\"2023-12-21T00:00:00\",\"2023-12-22T00:00:00\",\"2023-12-23T00:00:00\",\"2023-12-24T00:00:00\",\"2023-12-25T00:00:00\",\"2023-12-26T00:00:00\",\"2023-12-27T00:00:00\",\"2023-12-28T00:00:00\",\"2023-12-29T00:00:00\",\"2023-12-30T00:00:00\",\"2023-12-31T00:00:00\",\"2024-01-01T00:00:00\",\"2024-01-02T00:00:00\",\"2024-01-03T00:00:00\",\"2024-01-04T00:00:00\",\"2024-01-05T00:00:00\",\"2024-01-06T00:00:00\",\"2024-01-07T00:00:00\",\"2024-01-08T00:00:00\",\"2024-01-09T00:00:00\",\"2024-01-10T00:00:00\",\"2024-01-11T00:00:00\",\"2024-01-12T00:00:00\",\"2024-01-13T00:00:00\",\"2024-01-14T00:00:00\",\"2024-01-15T00:00:00\",\"2024-01-16T00:00:00\",\"2024-01-17T00:00:00\",\"2024-01-18T00:00:00\",\"2024-01-19T00:00:00\",\"2024-01-20T00:00:00\",\"2024-01-21T00:00:00\",\"2024-01-22T00:00:00\",\"2024-01-23T00:00:00\",\"2024-01-24T00:00:00\",\"2024-01-25T00:00:00\",\"2024-01-26T00:00:00\",\"2024-01-27T00:00:00\",\"2024-01-28T00:00:00\",\"2024-01-29T00:00:00\",\"2024-01-30T00:00:00\",\"2024-01-31T00:00:00\",\"2024-02-01T00:00:00\",\"2024-02-02T00:00:00\",\"2024-02-03T00:00:00\",\"2024-02-04T00:00:00\",\"2024-02-05T00:00:00\",\"2024-02-06T00:00:00\",\"2024-02-07T00:00:00\",\"2024-02-08T00:00:00\",\"2024-02-09T00:00:00\",\"2024-02-10T00:00:00\",\"2024-02-11T00:00:00\",\"2024-02-12T00:00:00\",\"2024-02-13T00:00:00\",\"2024-02-14T00:00:00\",\"2024-02-15T00:00:00\",\"2024-02-16T00:00:00\",\"2024-02-17T00:00:00\",\"2024-02-18T00:00:00\",\"2024-02-19T00:00:00\",\"2024-02-20T00:00:00\",\"2024-02-21T00:00:00\",\"2024-02-22T00:00:00\",\"2024-02-23T00:00:00\",\"2024-02-24T00:00:00\",\"2024-02-25T00:00:00\",\"2024-02-26T00:00:00\",\"2024-02-27T00:00:00\",\"2024-02-28T00:00:00\",\"2024-02-29T00:00:00\",\"2024-03-01T00:00:00\",\"2024-03-02T00:00:00\",\"2024-03-03T00:00:00\",\"2024-03-04T00:00:00\",\"2024-03-05T00:00:00\",\"2024-03-06T00:00:00\",\"2024-03-07T00:00:00\",\"2024-03-08T00:00:00\",\"2024-03-09T00:00:00\",\"2024-03-10T00:00:00\",\"2024-03-11T00:00:00\",\"2024-03-12T00:00:00\",\"2024-03-13T00:00:00\",\"2024-03-14T00:00:00\",\"2024-03-15T00:00:00\",\"2024-03-16T00:00:00\",\"2024-03-17T00:00:00\",\"2024-03-18T00:00:00\",\"2024-03-19T00:00:00\",\"2024-03-20T00:00:00\",\"2024-03-21T00:00:00\",\"2024-03-22T00:00:00\",\"2024-03-23T00:00:00\",\"2024-03-24T00:00:00\",\"2024-03-25T00:00:00\",\"2024-03-26T00:00:00\",\"2024-03-27T00:00:00\",\"2024-03-28T00:00:00\",\"2024-03-29T00:00:00\",\"2024-03-30T00:00:00\",\"2024-03-31T00:00:00\",\"2024-04-01T00:00:00\",\"2024-04-02T00:00:00\",\"2024-04-03T00:00:00\",\"2024-04-04T00:00:00\",\"2024-04-05T00:00:00\",\"2024-04-06T00:00:00\",\"2024-04-07T00:00:00\",\"2024-04-08T00:00:00\",\"2024-04-09T00:00:00\",\"2024-04-10T00:00:00\",\"2024-04-11T00:00:00\",\"2024-04-12T00:00:00\",\"2024-04-13T00:00:00\",\"2024-04-14T00:00:00\",\"2024-04-15T00:00:00\",\"2024-04-16T00:00:00\",\"2024-04-17T00:00:00\",\"2024-04-18T00:00:00\",\"2024-04-19T00:00:00\",\"2024-04-20T00:00:00\",\"2024-04-21T00:00:00\",\"2024-04-22T00:00:00\",\"2024-04-23T00:00:00\",\"2024-04-24T00:00:00\",\"2024-04-25T00:00:00\",\"2024-04-26T00:00:00\",\"2024-04-27T00:00:00\",\"2024-04-28T00:00:00\",\"2024-04-29T00:00:00\",\"2024-04-30T00:00:00\",\"2024-05-01T00:00:00\",\"2024-05-02T00:00:00\",\"2024-05-03T00:00:00\",\"2024-05-04T00:00:00\",\"2024-05-05T00:00:00\",\"2024-05-06T00:00:00\",\"2024-05-07T00:00:00\",\"2024-05-08T00:00:00\",\"2024-05-09T00:00:00\",\"2024-05-10T00:00:00\",\"2024-05-11T00:00:00\",\"2024-05-12T00:00:00\",\"2024-05-13T00:00:00\",\"2024-05-14T00:00:00\",\"2024-05-15T00:00:00\",\"2024-05-16T00:00:00\",\"2024-05-17T00:00:00\",\"2024-05-18T00:00:00\"],\"y\":[51,37,46,36,40,44,46,50,30,28,43,47,55,53,45,39,46,49,44,47,68,36,43,47,47,61,41,46,39,45,40,45,59,43,32,44,45,46,46,47,40,52,45,30,36,43,51,47,36,55,48,55,50,50,47,61,49,40,52,47,49,41,40,46,41,43,45,60,25,48,42,56,44,43,37,46,44,51,51,55,51,54,47,46,36,41,50,44,58,59,50,41,51,59,44,36,57,47,42,39,41,53,47,47,49,43,41,45,36,39,39,39,52,42,37,46,57,43,51,39,38,36,45,39,47,46,47,47,35,47,36,38,41,48,43,36,36,54,45,56,47,35,56,48,46,45,46,39,52,48,50,44,46,44,61,55,39,39,39,39,51,33,38,51,54,49,46,55,33,47,57,54,61,52,56,55,58,35,34,41,46,55,48,49,44,43,33,39,58,50,54,36,45,48,42,48,36,50,53,51,38,44,31,60,44,60,43,30,44,60,41,41,34,42,31,50,45,37,50,40,48,51,48,48,41,61,38,47,63,53,42,61,42,38,43,56,51,38,43,38,56,49,41,39,57,51,49,52,37,38,59,47,53,39,43,46,38,44,40,43,42,55,40,48,39,61,43,48,39,43,41,50,52,41,58,47,57,46,47,45,44,56,48,37,39,36,42,52,38,63,46,38,49,40,47,58,40,41,44,52,36,52,38,39,42,42,56,48,43,55,50,50,46,49,54,57,36,33,57,39,50,43,51,44,56,45,37,48,32,51,45,34,40,38,50,43,38,36,50,44,47,29,49,48,41,64,44,44,40,40,34,42,53,39,57,33,39,54,47,41,48,54,43,40,41,50,32,46,39,55,38,46,50,56,35,46,38,48,55,49,48,45,44,47,42,47,54,38,46,47,45,50,39,46,45,44,42,48,36,48,45,42,51,56,50,38,44,43,49,46,44,50,41,53,60,42,42,46,53,50,39,42,48,53,45,55,35,53,43,49,44,47,37,56,43,46,41,36,49,51,39,48,45,46,53,37,38,43,50,44,32,37,43,43,61,60,52,43,40,44,51,33,55,62,30,42,53,63,55,39,56,53,37,50,57,56,37,47,44,44,41,45,40,65,51,44,39,39,50,52,58,39,38,40,41,42,46,59,39,52,43,53,36,48,43,37,52,35,50,43,49,52,36,51,58,36,47,49,42,47,42,41,37,48,35,47,51,36,53,43,44,37,51,49,34,40,46,51,41,37,49,44,44,42,53,47,53,43,54,46,48,48,39,40,41,45,59,36,41,53,53,48,56,49,33,50,38,40,51,48,42,48,45,43,64,56,47,53,41,42,48,46,55,46,55,58,45,38,49,47,41,34,35,44,43,39,52,50,69,38,42,42,56,47,39,45,55,32,36,48,50,39,50,40,35,38,49,42,54,27,43,45,51,43,41,43,49,40,39,39,38,58,61,47,48,49,52,47,54,37,46,59,41,48,53,43,60,50,48,44,46,42,61,41,45,53,55,45,43,45,49,44,46,49,49,54,52,57,52,40,39,44,52,48,51,46,57,32,37,39,32,47,49,42,46,53,57,55,48,48,39,34,67,53,38,42,37,50,51,58,57,54,37,44,41,46,29,46,53,39,41,43,44,45,40,46,45,43,37,35,41,41,44,33,39,44,36,55,42,43,39,39,50,36,63,49,48,36,44,45,48,45,47,41,38,39,52,57,42,47,52,65,44,44,33,42,55,65,49,48,51,51,59,32,44,52,57,53,38,46,46,37,55,47,52,34,42,43,42,39,43,40,49,48,45,49,41,44,43,37,51,60,49,49,60,59,49,40,59,45,47,39,42,47,60,43,46,45,36,47,38,47,51,43,55,50,44,45,42,52,55,48,49,53,62,44,53,47,43,51,54,53,48,63,34,47,53,59,42,35,49,56,44,58,44,38,50,57,46,40,59,39,42,58,43,35,41,42,54,51,47,43,59,34,37,41,71,39,38,48,51,45,32,48,50,40,46,55,47,39,49,43,55,36,49,46,48,41,51,41,40,40,40,49,42,37,50,55,53,42,52,53,46,32,44,43,36,53,54,48,49,45,48,43,56,44,41,42,38,52,37,48,38,33,46,41,43,45,60,58,38,52,51,48,50,45,38,59,49,52,40,50,50,50,39,42,46,42,46,47,50,38,44,40,51,50,35,56,41,47,52,54,43,56,38,48,28,39,43,45,48,39,51,47,37,41,53,41,47,52,55,63,48,34,33,36,35,39,51,53,33,34,61,43,48,37,44,38,41,39,46,48,36,35,52,33,42,43,54,47,50,44,46,47,52,45,48,38,59,59,51,61,40,41,39,39,50,43,44,33,41,42,53,51,34,40,45,51,40,45,46,45,41,56,49,31,40,48,50,33,45,29,37,45,36,50,39,39,37,42,40,43,39,43,48,52,58,47,47,48,49,45,31,44,44,43,49,52,54,50,30,39,35,55,48,44,45,54,34,49,51,51,39,39,40,39,38,44,45,49,48,48,44,44,50,38,50,44,51,38,50,40,46,38,50,51,40,57,47,39,29,39,47,54,55,49,44,49,45,55,39,61,49,47,42,44,44,35,41,50,41,44,31,42,49,43,53,53,52,58,51,49,40,46,54,42,63,38,44,48,49,41,43,53,50,40,40,46,43,57,53,42,51,45,44,45,47,50,50,48,44,45,42,39,51,60,48,41,49,42,42,37,37,39,39,59,52,40,47,40,55,44,50,42,49,45,52,47,47,42,57,48,43,48,36,55,61,46,58,52,52,40,49,45,43,43,36,44,47,41,49,57,32,43,40,47,40,38,63,46,40,31,48,35,58,51,64,52,58,43,48,45,59,49,50,43,31,56,45,37,41,46,41,44,34,55,47,57,52,50,43,44,39,47,60,40,51,45,45,58,41,44,33,39,38,54,37,45,54,49,60,53,40,51,48,36,38,41,65,43,55,44,58,52,61,46,35,54,43,44,39,50,52,42,50,31,40,39,51,46,35,55,43,46,49,47,53,42,48,43,31,50,38,49,45,51,49,43,44,56,58,39,51,43,49,55,59,50,42,67,48,46,42,45,49,39,52,38,35,45,52,36,55,38,45,53,44,56,43,53,51,48,41,48,39,48,41,43,41,48,51,45,51,42,39,54,45,33,47,65,47,34,44,52,56,43,57,47,37,39,50,53,51,50,43,59,42,53,34,34,37,49,55,36,39,47,45,43,50,28,50,44,49,58,50,41,47,42,34,49,52,49,39,57,44,43,39,56,65,46,51,43,42,39,45,59,35,53,50,54,40,43,51,46,36,32,46,57,44,48,48,52,35,42,52,39,36,54,55,44,41,48,45,51,33,46,40,50,36,46,34,42,39,43,41,56,49,48,47,52,52,39,47,50,52,47,48,39,58,55,44,45,41,42,47,53,37,47,62,41,43,51,44,50,44,51,43,56,44,48,38,53,49,51,37,56,43,50,48,38,52,47,49,35,33,36,49,42,41,54,44,50,55,45,57,51,38,35,38,40,59,47,58,34,37,47,44,56,31,44,55,46,53,50,44,42,48,56,50,46,33,33,52,36,44,41,36,39,35,56,34,45,44,42,41,51,62,43,45,40,52,48,58,37,55,53,31,38,41,36],\"type\":\"scatter\"},{\"line\":{\"color\":\"#10b981\",\"dash\":\"dot\",\"width\":2},\"mode\":\"lines\",\"name\":\"Fitted (yhat)\",\"x\":[\"2020-01-01T00:00:00\",\"2020-01-02T00:00:00\",\"2020-01-03T00:00:00\",\"2020-01-04T00:00:00\",\"2020-01-05T00:00:00\",\"2020-01-06T00:00:00\",\"2020-01-07T00:00:00\",\"2020-01-08T00:00:00\",\"2020-01-09T00:00:00\",\"2020-01-10T00:00:00\",\"2020-01-11T00:00:00\",\"2020-01-12T00:00:00\",\"2020-01-13T00:00:00\",\"2020-01-14T00:00:00\",\"2020-01-15T00:00:00\",\"2020-01-16T00:00:00\",\"2020-01-17T00:00:00\",\"2020-01-18T00:00:00\",\"2020-01-19T00:00:00\",\"2020-01-20T00:00:00\",\"2020-01-21T00:00:00\",\"2020-01-22T00:00:00\",\"2020-01-23T00:00:00\",\"2020-01-24T00:00:00\",\"2020-01-25T00:00:00\",\"2020-01-26T00:00:00\",\"2020-01-27T00:00:00\",\"2020-01-28T00:00:00\",\"2020-01-29T00:00:00\",\"2020-01-30T00:00:00\",\"2020-01-31T00:00:00\",\"2020-02-01T00:00:00\",\"2020-02-02T00:00:00\",\"2020-02-03T00:00:00\",\"2020-02-04T00:00:00\",\"2020-02-05T00:00:00\",\"2020-02-06T00:00:00\",\"2020-02-07T00:00:00\",\"2020-02-08T00:00:00\",\"2020-02-09T00:00:00\",\"2020-02-10T00:00:00\",\"2020-02-11T00:00:00\",\"2020-02-12T00:00:00\",\"2020-02-13T00:00:00\",\"2020-02-14T00:00:00\",\"2020-02-15T00:00:00\",\"2020-02-16T00:00:00\",\"2020-02-17T00:00:00\",\"2020-02-18T00:00:00\",\"2020-02-19T00:00:00\",\"2020-02-20T00:00:00\",\"2020-02-21T00:00:00\",\"2020-02-22T00:00:00\",\"2020-02-23T00:00:00\",\"2020-02-24T00:00:00\",\"2020-02-25T00:00:00\",\"2020-02-26T00:00:00\",\"2020-02-27T00:00:00\",\"2020-02-28T00:00:00\",\"2020-02-29T00:00:00\",\"2020-03-01T00:00:00\",\"2020-03-02T00:00:00\",\"2020-03-03T00:00:00\",\"2020-03-04T00:00:00\",\"2020-03-05T00:00:00\",\"2020-03-06T00:00:00\",\"2020-03-07T00:00:00\",\"2020-03-08T00:00:00\",\"2020-03-09T00:00:00\",\"2020-03-10T00:00:00\",\"2020-03-11T00:00:00\",\"2020-03-12T00:00:00\",\"2020-03-13T00:00:00\",\"2020-03-14T00:00:00\",\"2020-03-15T00:00:00\",\"2020-03-16T00:00:00\",\"2020-03-17T00:00:00\",\"2020-03-18T00:00:00\",\"2020-03-19T00:00:00\",\"2020-03-20T00:00:00\",\"2020-03-21T00:00:00\",\"2020-03-22T00:00:00\",\"2020-03-23T00:00:00\",\"2020-03-24T00:00:00\",\"2020-03-25T00:00:00\",\"2020-03-26T00:00:00\",\"2020-03-27T00:00:00\",\"2020-03-28T00:00:00\",\"2020-03-29T00:00:00\",\"2020-03-30T00:00:00\",\"2020-03-31T00:00:00\",\"2020-04-01T00:00:00\",\"2020-04-02T00:00:00\",\"2020-04-03T00:00:00\",\"2020-04-04T00:00:00\",\"2020-04-05T00:00:00\",\"2020-04-06T00:00:00\",\"2020-04-07T00:00:00\",\"2020-04-08T00:00:00\",\"2020-04-09T00:00:00\",\"2020-04-10T00:00:00\",\"2020-04-11T00:00:00\",\"2020-04-12T00:00:00\",\"2020-04-13T00:00:00\",\"2020-04-14T00:00:00\",\"2020-04-15T00:00:00\",\"2020-04-16T00:00:00\",\"2020-04-17T00:00:00\",\"2020-04-18T00:00:00\",\"2020-04-19T00:00:00\",\"2020-04-20T00:00:00\",\"2020-04-21T00:00:00\",\"2020-04-22T00:00:00\",\"2020-04-23T00:00:00\",\"2020-04-24T00:00:00\",\"2020-04-25T00:00:00\",\"2020-04-26T00:00:00\",\"2020-04-27T00:00:00\",\"2020-04-28T00:00:00\",\"2020-04-29T00:00:00\",\"2020-04-30T00:00:00\",\"2020-05-01T00:00:00\",\"2020-05-02T00:00:00\",\"2020-05-03T00:00:00\",\"2020-05-04T00:00:00\",\"2020-05-05T00:00:00\",\"2020-05-06T00:00:00\",\"2020-05-07T00:00:00\",\"2020-05-08T00:00:00\",\"2020-05-09T00:00:00\",\"2020-05-10T00:00:00\",\"2020-05-11T00:00:00\",\"2020-05-12T00:00:00\",\"2020-05-13T00:00:00\",\"2020-05-14T00:00:00\",\"2020-05-15T00:00:00\",\"2020-05-16T00:00:00\",\"2020-05-17T00:00:00\",\"2020-05-18T00:00:00\",\"2020-05-19T00:00:00\",\"2020-05-20T00:00:00\",\"2020-05-21T00:00:00\",\"2020-05-22T00:00:00\",\"2020-05-23T00:00:00\",\"2020-05-24T00:00:00\",\"2020-05-25T00:00:00\",\"2020-05-26T00:00:00\",\"2020-05-27T00:00:00\",\"2020-05-28T00:00:00\",\"2020-05-29T00:00:00\",\"2020-05-30T00:00:00\",\"2020-05-31T00:00:00\",\"2020-06-01T00:00:00\",\"2020-06-02T00:00:00\",\"2020-06-03T00:00:00\",\"2020-06-04T00:00:00\",\"2020-06-05T00:00:00\",\"2020-06-06T00:00:00\",\"2020-06-07T00:00:00\",\"2020-06-08T00:00:00\",\"2020-06-09T00:00:00\",\"2020-06-10T00:00:00\",\"2020-06-11T00:00:00\",\"2020-06-12T00:00:00\",\"2020-06-13T00:00:00\",\"2020-06-14T00:00:00\",\"2020-06-15T00:00:00\",\"2020-06-16T00:00:00\",\"2020-06-17T00:00:00\",\"2020-06-18T00:00:00\",\"2020-06-19T00:00:00\",\"2020-06-20T00:00:00\",\"2020-06-21T00:00:00\",\"2020-06-22T00:00:00\",\"2020-06-23T00:00:00\",\"2020-06-24T00:00:00\",\"2020-06-25T00:00:00\",\"2020-06-26T00:00:00\",\"2020-06-27T00:00:00\",\"2020-06-28T00:00:00\",\"2020-06-29T00:00:00\",\"2020-06-30T00:00:00\",\"2020-07-01T00:00:00\",\"2020-07-02T00:00:00\",\"2020-07-03T00:00:00\",\"2020-07-04T00:00:00\",\"2020-07-05T00:00:00\",\"2020-07-06T00:00:00\",\"2020-07-07T00:00:00\",\"2020-07-08T00:00:00\",\"2020-07-09T00:00:00\",\"2020-07-10T00:00:00\",\"2020-07-11T00:00:00\",\"2020-07-12T00:00:00\",\"2020-07-13T00:00:00\",\"2020-07-14T00:00:00\",\"2020-07-15T00:00:00\",\"2020-07-16T00:00:00\",\"2020-07-17T00:00:00\",\"2020-07-18T00:00:00\",\"2020-07-19T00:00:00\",\"2020-07-20T00:00:00\",\"2020-07-21T00:00:00\",\"2020-07-22T00:00:00\",\"2020-07-23T00:00:00\",\"2020-07-24T00:00:00\",\"2020-07-25T00:00:00\",\"2020-07-26T00:00:00\",\"2020-07-27T00:00:00\",\"2020-07-28T00:00:00\",\"2020-07-29T00:00:00\",\"2020-07-30T00:00:00\",\"2020-07-31T00:00:00\",\"2020-08-01T00:00:00\",\"2020-08-02T00:00:00\",\"2020-08-03T00:00:00\",\"2020-08-04T00:00:00\",\"2020-08-05T00:00:00\",\"2020-08-06T00:00:00\",\"2020-08-07T00:00:00\",\"2020-08-08T00:00:00\",\"2020-08-09T00:00:00\",\"2020-08-10T00:00:00\",\"2020-08-11T00:00:00\",\"2020-08-12T00:00:00\",\"2020-08-13T00:00:00\",\"2020-08-14T00:00:00\",\"2020-08-15T00:00:00\",\"2020-08-16T00:00:00\",\"2020-08-17T00:00:00\",\"2020-08-18T00:00:00\",\"2020-08-19T00:00:00\",\"2020-08-20T00:00:00\",\"2020-08-21T00:00:00\",\"2020-08-22T00:00:00\",\"2020-08-23T00:00:00\",\"2020-08-24T00:00:00\",\"2020-08-25T00:00:00\",\"2020-08-26T00:00:00\",\"2020-08-27T00:00:00\",\"2020-08-28T00:00:00\",\"2020-08-29T00:00:00\",\"2020-08-30T00:00:00\",\"2020-08-31T00:00:00\",\"2020-09-01T00:00:00\",\"2020-09-02T00:00:00\",\"2020-09-03T00:00:00\",\"2020-09-04T00:00:00\",\"2020-09-05T00:00:00\",\"2020-09-06T00:00:00\",\"2020-09-07T00:00:00\",\"2020-09-08T00:00:00\",\"2020-09-09T00:00:00\",\"2020-09-10T00:00:00\",\"2020-09-11T00:00:00\",\"2020-09-12T00:00:00\",\"2020-09-13T00:00:00\",\"2020-09-14T00:00:00\",\"2020-09-15T00:00:00\",\"2020-09-16T00:00:00\",\"2020-09-17T00:00:00\",\"2020-09-18T00:00:00\",\"2020-09-19T00:00:00\",\"2020-09-20T00:00:00\",\"2020-09-21T00:00:00\",\"2020-09-22T00:00:00\",\"2020-09-23T00:00:00\",\"2020-09-24T00:00:00\",\"2020-09-25T00:00:00\",\"2020-09-26T00:00:00\",\"2020-09-27T00:00:00\",\"2020-09-28T00:00:00\",\"2020-09-29T00:00:00\",\"2020-09-30T00:00:00\",\"2020-10-01T00:00:00\",\"2020-10-02T00:00:00\",\"2020-10-03T00:00:00\",\"2020-10-04T00:00:00\",\"2020-10-05T00:00:00\",\"2020-10-06T00:00:00\",\"2020-10-07T00:00:00\",\"2020-10-08T00:00:00\",\"2020-10-09T00:00:00\",\"2020-10-10T00:00:00\",\"2020-10-11T00:00:00\",\"2020-10-12T00:00:00\",\"2020-10-13T00:00:00\",\"2020-10-14T00:00:00\",\"2020-10-15T00:00:00\",\"2020-10-16T00:00:00\",\"2020-10-17T00:00:00\",\"2020-10-18T00:00:00\",\"2020-10-19T00:00:00\",\"2020-10-20T00:00:00\",\"2020-10-21T00:00:00\",\"2020-10-22T00:00:00\",\"2020-10-23T00:00:00\",\"2020-10-24T00:00:00\",\"2020-10-25T00:00:00\",\"2020-10-26T00:00:00\",\"2020-10-27T00:00:00\",\"2020-10-28T00:00:00\",\"2020-10-29T00:00:00\",\"2020-10-30T00:00:00\",\"2020-10-31T00:00:00\",\"2020-11-01T00:00:00\",\"2020-11-02T00:00:00\",\"2020-11-03T00:00:00\",\"2020-11-04T00:00:00\",\"2020-11-05T00:00:00\",\"2020-11-06T00:00:00\",\"2020-11-07T00:00:00\",\"2020-11-08T00:00:00\",\"2020-11-09T00:00:00\",\"2020-11-10T00:00:00\",\"2020-11-11T00:00:00\",\"2020-11-12T00:00:00\",\"2020-11-13T00:00:00\",\"2020-11-14T00:00:00\",\"2020-11-15T00:00:00\",\"2020-11-16T00:00:00\",\"2020-11-17T00:00:00\",\"2020-11-18T00:00:00\",\"2020-11-19T00:00:00\",\"2020-11-20T00:00:00\",\"2020-11-21T00:00:00\",\"2020-11-22T00:00:00\",\"2020-11-23T00:00:00\",\"2020-11-24T00:00:00\",\"2020-11-25T00:00:00\",\"2020-11-26T00:00:00\",\"2020-11-27T00:00:00\",\"2020-11-28T00:00:00\",\"2020-11-29T00:00:00\",\"2020-11-30T00:00:00\",\"2020-12-01T00:00:00\",\"2020-12-02T00:00:00\",\"2020-12-03T00:00:00\",\"2020-12-04T00:00:00\",\"2020-12-05T00:00:00\",\"2020-12-06T00:00:00\",\"2020-12-07T00:00:00\",\"2020-12-08T00:00:00\",\"2020-12-09T00:00:00\",\"2020-12-10T00:00:00\",\"2020-12-11T00:00:00\",\"2020-12-12T00:00:00\",\"2020-12-13T00:00:00\",\"2020-12-14T00:00:00\",\"2020-12-15T00:00:00\",\"2020-12-16T00:00:00\",\"2020-12-17T00:00:00\",\"2020-12-18T00:00:00\",\"2020-12-19T00:00:00\",\"2020-12-20T00:00:00\",\"2020-12-21T00:00:00\",\"2020-12-22T00:00:00\",\"2020-12-23T00:00:00\",\"2020-12-24T00:00:00\",\"2020-12-25T00:00:00\",\"2020-12-26T00:00:00\",\"2020-12-27T00:00:00\",\"2020-12-28T00:00:00\",\"2020-12-29T00:00:00\",\"2020-12-30T00:00:00\",\"2020-12-31T00:00:00\",\"2021-01-01T00:00:00\",\"2021-01-02T00:00:00\",\"2021-01-03T00:00:00\",\"2021-01-04T00:00:00\",\"2021-01-05T00:00:00\",\"2021-01-06T00:00:00\",\"2021-01-07T00:00:00\",\"2021-01-08T00:00:00\",\"2021-01-09T00:00:00\",\"2021-01-10T00:00:00\",\"2021-01-11T00:00:00\",\"2021-01-12T00:00:00\",\"2021-01-13T00:00:00\",\"2021-01-14T00:00:00\",\"2021-01-15T00:00:00\",\"2021-01-16T00:00:00\",\"2021-01-17T00:00:00\",\"2021-01-18T00:00:00\",\"2021-01-19T00:00:00\",\"2021-01-20T00:00:00\",\"2021-01-21T00:00:00\",\"2021-01-22T00:00:00\",\"2021-01-23T00:00:00\",\"2021-01-24T00:00:00\",\"2021-01-25T00:00:00\",\"2021-01-26T00:00:00\",\"2021-01-27T00:00:00\",\"2021-01-28T00:00:00\",\"2021-01-29T00:00:00\",\"2021-01-30T00:00:00\",\"2021-01-31T00:00:00\",\"2021-02-01T00:00:00\",\"2021-02-02T00:00:00\",\"2021-02-03T00:00:00\",\"2021-02-04T00:00:00\",\"2021-02-05T00:00:00\",\"2021-02-06T00:00:00\",\"2021-02-07T00:00:00\",\"2021-02-08T00:00:00\",\"2021-02-09T00:00:00\",\"2021-02-10T00:00:00\",\"2021-02-11T00:00:00\",\"2021-02-12T00:00:00\",\"2021-02-13T00:00:00\",\"2021-02-14T00:00:00\",\"2021-02-15T00:00:00\",\"2021-02-16T00:00:00\",\"2021-02-17T00:00:00\",\"2021-02-18T00:00:00\",\"2021-02-19T00:00:00\",\"2021-02-20T00:00:00\",\"2021-02-21T00:00:00\",\"2021-02-22T00:00:00\",\"2021-02-23T00:00:00\",\"2021-02-24T00:00:00\",\"2021-02-25T00:00:00\",\"2021-02-26T00:00:00\",\"2021-02-27T00:00:00\",\"2021-02-28T00:00:00\",\"2021-03-01T00:00:00\",\"2021-03-02T00:00:00\",\"2021-03-03T00:00:00\",\"2021-03-04T00:00:00\",\"2021-03-05T00:00:00\",\"2021-03-06T00:00:00\",\"2021-03-07T00:00:00\",\"2021-03-08T00:00:00\",\"2021-03-09T00:00:00\",\"2021-03-10T00:00:00\",\"2021-03-11T00:00:00\",\"2021-03-12T00:00:00\",\"2021-03-13T00:00:00\",\"2021-03-14T00:00:00\",\"2021-03-15T00:00:00\",\"2021-03-16T00:00:00\",\"2021-03-17T00:00:00\",\"2021-03-18T00:00:00\",\"2021-03-19T00:00:00\",\"2021-03-20T00:00:00\",\"2021-03-21T00:00:00\",\"2021-03-22T00:00:00\",\"2021-03-23T00:00:00\",\"2021-03-24T00:00:00\",\"2021-03-25T00:00:00\",\"2021-03-26T00:00:00\",\"2021-03-27T00:00:00\",\"2021-03-28T00:00:00\",\"2021-03-29T00:00:00\",\"2021-03-30T00:00:00\",\"2021-03-31T00:00:00\",\"2021-04-01T00:00:00\",\"2021-04-02T00:00:00\",\"2021-04-03T00:00:00\",\"2021-04-04T00:00:00\",\"2021-04-05T00:00:00\",\"2021-04-06T00:00:00\",\"2021-04-07T00:00:00\",\"2021-04-08T00:00:00\",\"2021-04-09T00:00:00\",\"2021-04-10T00:00:00\",\"2021-04-11T00:00:00\",\"2021-04-12T00:00:00\",\"2021-04-13T00:00:00\",\"2021-04-14T00:00:00\",\"2021-04-15T00:00:00\",\"2021-04-16T00:00:00\",\"2021-04-17T00:00:00\",\"2021-04-18T00:00:00\",\"2021-04-19T00:00:00\",\"2021-04-20T00:00:00\",\"2021-04-21T00:00:00\",\"2021-04-22T00:00:00\",\"2021-04-23T00:00:00\",\"2021-04-24T00:00:00\",\"2021-04-25T00:00:00\",\"2021-04-26T00:00:00\",\"2021-04-27T00:00:00\",\"2021-04-28T00:00:00\",\"2021-04-29T00:00:00\",\"2021-04-30T00:00:00\",\"2021-05-01T00:00:00\",\"2021-05-02T00:00:00\",\"2021-05-03T00:00:00\",\"2021-05-04T00:00:00\",\"2021-05-05T00:00:00\",\"2021-05-06T00:00:00\",\"2021-05-07T00:00:00\",\"2021-05-08T00:00:00\",\"2021-05-09T00:00:00\",\"2021-05-10T00:00:00\",\"2021-05-11T00:00:00\",\"2021-05-12T00:00:00\",\"2021-05-13T00:00:00\",\"2021-05-14T00:00:00\",\"2021-05-15T00:00:00\",\"2021-05-16T00:00:00\",\"2021-05-17T00:00:00\",\"2021-05-18T00:00:00\",\"2021-05-19T00:00:00\",\"2021-05-20T00:00:00\",\"2021-05-21T00:00:00\",\"2021-05-22T00:00:00\",\"2021-05-23T00:00:00\",\"2021-05-24T00:00:00\",\"2021-05-25T00:00:00\",\"2021-05-26T00:00:00\",\"2021-05-27T00:00:00\",\"2021-05-28T00:00:00\",\"2021-05-29T00:00:00\",\"2021-05-30T00:00:00\",\"2021-05-31T00:00:00\",\"2021-06-01T00:00:00\",\"2021-06-02T00:00:00\",\"2021-06-03T00:00:00\",\"2021-06-04T00:00:00\",\"2021-06-05T00:00:00\",\"2021-06-06T00:00:00\",\"2021-06-07T00:00:00\",\"2021-06-08T00:00:00\",\"2021-06-09T00:00:00\",\"2021-06-10T00:00:00\",\"2021-06-11T00:00:00\",\"2021-06-12T00:00:00\",\"2021-06-13T00:00:00\",\"2021-06-14T00:00:00\",\"2021-06-15T00:00:00\",\"2021-06-16T00:00:00\",\"2021-06-17T00:00:00\",\"2021-06-18T00:00:00\",\"2021-06-19T00:00:00\",\"2021-06-20T00:00:00\",\"2021-06-21T00:00:00\",\"2021-06-22T00:00:00\",\"2021-06-23T00:00:00\",\"2021-06-24T00:00:00\",\"2021-06-25T00:00:00\",\"2021-06-26T00:00:00\",\"2021-06-27T00:00:00\",\"2021-06-28T00:00:00\",\"2021-06-29T00:00:00\",\"2021-06-30T00:00:00\",\"2021-07-01T00:00:00\",\"2021-07-02T00:00:00\",\"2021-07-03T00:00:00\",\"2021-07-04T00:00:00\",\"2021-07-05T00:00:00\",\"2021-07-06T00:00:00\",\"2021-07-07T00:00:00\",\"2021-07-08T00:00:00\",\"2021-07-09T00:00:00\",\"2021-07-10T00:00:00\",\"2021-07-11T00:00:00\",\"2021-07-12T00:00:00\",\"2021-07-13T00:00:00\",\"2021-07-14T00:00:00\",\"2021-07-15T00:00:00\",\"2021-07-16T00:00:00\",\"2021-07-17T00:00:00\",\"2021-07-18T00:00:00\",\"2021-07-19T00:00:00\",\"2021-07-20T00:00:00\",\"2021-07-21T00:00:00\",\"2021-07-22T00:00:00\",\"2021-07-23T00:00:00\",\"2021-07-24T00:00:00\",\"2021-07-25T00:00:00\",\"2021-07-26T00:00:00\",\"2021-07-27T00:00:00\",\"2021-07-28T00:00:00\",\"2021-07-29T00:00:00\",\"2021-07-30T00:00:00\",\"2021-07-31T00:00:00\",\"2021-08-01T00:00:00\",\"2021-08-02T00:00:00\",\"2021-08-03T00:00:00\",\"2021-08-04T00:00:00\",\"2021-08-05T00:00:00\",\"2021-08-06T00:00:00\",\"2021-08-07T00:00:00\",\"2021-08-08T00:00:00\",\"2021-08-09T00:00:00\",\"2021-08-10T00:00:00\",\"2021-08-11T00:00:00\",\"2021-08-12T00:00:00\",\"2021-08-13T00:00:00\",\"2021-08-14T00:00:00\",\"2021-08-15T00:00:00\",\"2021-08-16T00:00:00\",\"2021-08-17T00:00:00\",\"2021-08-18T00:00:00\",\"2021-08-19T00:00:00\",\"2021-08-20T00:00:00\",\"2021-08-21T00:00:00\",\"2021-08-22T00:00:00\",\"2021-08-23T00:00:00\",\"2021-08-24T00:00:00\",\"2021-08-25T00:00:00\",\"2021-08-26T00:00:00\",\"2021-08-27T00:00:00\",\"2021-08-28T00:00:00\",\"2021-08-29T00:00:00\",\"2021-08-30T00:00:00\",\"2021-08-31T00:00:00\",\"2021-09-01T00:00:00\",\"2021-09-02T00:00:00\",\"2021-09-03T00:00:00\",\"2021-09-04T00:00:00\",\"2021-09-05T00:00:00\",\"2021-09-06T00:00:00\",\"2021-09-07T00:00:00\",\"2021-09-08T00:00:00\",\"2021-09-09T00:00:00\",\"2021-09-10T00:00:00\",\"2021-09-11T00:00:00\",\"2021-09-12T00:00:00\",\"2021-09-13T00:00:00\",\"2021-09-14T00:00:00\",\"2021-09-15T00:00:00\",\"2021-09-16T00:00:00\",\"2021-09-17T00:00:00\",\"2021-09-18T00:00:00\",\"2021-09-19T00:00:00\",\"2021-09-20T00:00:00\",\"2021-09-21T00:00:00\",\"2021-09-22T00:00:00\",\"2021-09-23T00:00:00\",\"2021-09-24T00:00:00\",\"2021-09-25T00:00:00\",\"2021-09-26T00:00:00\",\"2021-09-27T00:00:00\",\"2021-09-28T00:00:00\",\"2021-09-29T00:00:00\",\"2021-09-30T00:00:00\",\"2021-10-01T00:00:00\",\"2021-10-02T00:00:00\",\"2021-10-03T00:00:00\",\"2021-10-04T00:00:00\",\"2021-10-05T00:00:00\",\"2021-10-06T00:00:00\",\"2021-10-07T00:00:00\",\"2021-10-08T00:00:00\",\"2021-10-09T00:00:00\",\"2021-10-10T00:00:00\",\"2021-10-11T00:00:00\",\"2021-10-12T00:00:00\",\"2021-10-13T00:00:00\",\"2021-10-14T00:00:00\",\"2021-10-15T00:00:00\",\"2021-10-16T00:00:00\",\"2021-10-17T00:00:00\",\"2021-10-18T00:00:00\",\"2021-10-19T00:00:00\",\"2021-10-20T00:00:00\",\"2021-10-21T00:00:00\",\"2021-10-22T00:00:00\",\"2021-10-23T00:00:00\",\"2021-10-24T00:00:00\",\"2021-10-25T00:00:00\",\"2021-10-26T00:00:00\",\"2021-10-27T00:00:00\",\"2021-10-28T00:00:00\",\"2021-10-29T00:00:00\",\"2021-10-30T00:00:00\",\"2021-10-31T00:00:00\",\"2021-11-01T00:00:00\",\"2021-11-02T00:00:00\",\"2021-11-03T00:00:00\",\"2021-11-04T00:00:00\",\"2021-11-05T00:00:00\",\"2021-11-06T00:00:00\",\"2021-11-07T00:00:00\",\"2021-11-08T00:00:00\",\"2021-11-09T00:00:00\",\"2021-11-10T00:00:00\",\"2021-11-11T00:00:00\",\"2021-11-12T00:00:00\",\"2021-11-13T00:00:00\",\"2021-11-14T00:00:00\",\"2021-11-15T00:00:00\",\"2021-11-16T00:00:00\",\"2021-11-17T00:00:00\",\"2021-11-18T00:00:00\",\"2021-11-19T00:00:00\",\"2021-11-20T00:00:00\",\"2021-11-21T00:00:00\",\"2021-11-22T00:00:00\",\"2021-11-23T00:00:00\",\"2021-11-24T00:00:00\",\"2021-11-25T00:00:00\",\"2021-11-26T00:00:00\",\"2021-11-27T00:00:00\",\"2021-11-28T00:00:00\",\"2021-11-29T00:00:00\",\"2021-11-30T00:00:00\",\"2021-12-01T00:00:00\",\"2021-12-02T00:00:00\",\"2021-12-03T00:00:00\",\"2021-12-04T00:00:00\",\"2021-12-05T00:00:00\",\"2021-12-06T00:00:00\",\"2021-12-07T00:00:00\",\"2021-12-08T00:00:00\",\"2021-12-09T00:00:00\",\"2021-12-10T00:00:00\",\"2021-12-11T00:00:00\",\"2021-12-12T00:00:00\",\"2021-12-13T00:00:00\",\"2021-12-14T00:00:00\",\"2021-12-15T00:00:00\",\"2021-12-16T00:00:00\",\"2021-12-17T00:00:00\",\"2021-12-18T00:00:00\",\"2021-12-19T00:00:00\",\"2021-12-20T00:00:00\",\"2021-12-21T00:00:00\",\"2021-12-22T00:00:00\",\"2021-12-23T00:00:00\",\"2021-12-24T00:00:00\",\"2021-12-25T00:00:00\",\"2021-12-26T00:00:00\",\"2021-12-27T00:00:00\",\"2021-12-28T00:00:00\",\"2021-12-29T00:00:00\",\"2021-12-30T00:00:00\",\"2021-12-31T00:00:00\",\"2022-01-01T00:00:00\",\"2022-01-02T00:00:00\",\"2022-01-03T00:00:00\",\"2022-01-04T00:00:00\",\"2022-01-05T00:00:00\",\"2022-01-06T00:00:00\",\"2022-01-07T00:00:00\",\"2022-01-08T00:00:00\",\"2022-01-09T00:00:00\",\"2022-01-10T00:00:00\",\"2022-01-11T00:00:00\",\"2022-01-12T00:00:00\",\"2022-01-13T00:00:00\",\"2022-01-14T00:00:00\",\"2022-01-15T00:00:00\",\"2022-01-16T00:00:00\",\"2022-01-17T00:00:00\",\"2022-01-18T00:00:00\",\"2022-01-19T00:00:00\",\"2022-01-20T00:00:00\",\"2022-01-21T00:00:00\",\"2022-01-22T00:00:00\",\"2022-01-23T00:00:00\",\"2022-01-24T00:00:00\",\"2022-01-25T00:00:00\",\"2022-01-26T00:00:00\",\"2022-01-27T00:00:00\",\"2022-01-28T00:00:00\",\"2022-01-29T00:00:00\",\"2022-01-30T00:00:00\",\"2022-01-31T00:00:00\",\"2022-02-01T00:00:00\",\"2022-02-02T00:00:00\",\"2022-02-03T00:00:00\",\"2022-02-04T00:00:00\",\"2022-02-05T00:00:00\",\"2022-02-06T00:00:00\",\"2022-02-07T00:00:00\",\"2022-02-08T00:00:00\",\"2022-02-09T00:00:00\",\"2022-02-10T00:00:00\",\"2022-02-11T00:00:00\",\"2022-02-12T00:00:00\",\"2022-02-13T00:00:00\",\"2022-02-14T00:00:00\",\"2022-02-15T00:00:00\",\"2022-02-16T00:00:00\",\"2022-02-17T00:00:00\",\"2022-02-18T00:00:00\",\"2022-02-19T00:00:00\",\"2022-02-20T00:00:00\",\"2022-02-21T00:00:00\",\"2022-02-22T00:00:00\",\"2022-02-23T00:00:00\",\"2022-02-24T00:00:00\",\"2022-02-25T00:00:00\",\"2022-02-26T00:00:00\",\"2022-02-27T00:00:00\",\"2022-02-28T00:00:00\",\"2022-03-01T00:00:00\",\"2022-03-02T00:00:00\",\"2022-03-03T00:00:00\",\"2022-03-04T00:00:00\",\"2022-03-05T00:00:00\",\"2022-03-06T00:00:00\",\"2022-03-07T00:00:00\",\"2022-03-08T00:00:00\",\"2022-03-09T00:00:00\",\"2022-03-10T00:00:00\",\"2022-03-11T00:00:00\",\"2022-03-12T00:00:00\",\"2022-03-13T00:00:00\",\"2022-03-14T00:00:00\",\"2022-03-15T00:00:00\",\"2022-03-16T00:00:00\",\"2022-03-17T00:00:00\",\"2022-03-18T00:00:00\",\"2022-03-19T00:00:00\",\"2022-03-20T00:00:00\",\"2022-03-21T00:00:00\",\"2022-03-22T00:00:00\",\"2022-03-23T00:00:00\",\"2022-03-24T00:00:00\",\"2022-03-25T00:00:00\",\"2022-03-26T00:00:00\",\"2022-03-27T00:00:00\",\"2022-03-28T00:00:00\",\"2022-03-29T00:00:00\",\"2022-03-30T00:00:00\",\"2022-03-31T00:00:00\",\"2022-04-01T00:00:00\",\"2022-04-02T00:00:00\",\"2022-04-03T00:00:00\",\"2022-04-04T00:00:00\",\"2022-04-05T00:00:00\",\"2022-04-06T00:00:00\",\"2022-04-07T00:00:00\",\"2022-04-08T00:00:00\",\"2022-04-09T00:00:00\",\"2022-04-10T00:00:00\",\"2022-04-11T00:00:00\",\"2022-04-12T00:00:00\",\"2022-04-13T00:00:00\",\"2022-04-14T00:00:00\",\"2022-04-15T00:00:00\",\"2022-04-16T00:00:00\",\"2022-04-17T00:00:00\",\"2022-04-18T00:00:00\",\"2022-04-19T00:00:00\",\"2022-04-20T00:00:00\",\"2022-04-21T00:00:00\",\"2022-04-22T00:00:00\",\"2022-04-23T00:00:00\",\"2022-04-24T00:00:00\",\"2022-04-25T00:00:00\",\"2022-04-26T00:00:00\",\"2022-04-27T00:00:00\",\"2022-04-28T00:00:00\",\"2022-04-29T00:00:00\",\"2022-04-30T00:00:00\",\"2022-05-01T00:00:00\",\"2022-05-02T00:00:00\",\"2022-05-03T00:00:00\",\"2022-05-04T00:00:00\",\"2022-05-05T00:00:00\",\"2022-05-06T00:00:00\",\"2022-05-07T00:00:00\",\"2022-05-08T00:00:00\",\"2022-05-09T00:00:00\",\"2022-05-10T00:00:00\",\"2022-05-11T00:00:00\",\"2022-05-12T00:00:00\",\"2022-05-13T00:00:00\",\"2022-05-14T00:00:00\",\"2022-05-15T00:00:00\",\"2022-05-16T00:00:00\",\"2022-05-17T00:00:00\",\"2022-05-18T00:00:00\",\"2022-05-19T00:00:00\",\"2022-05-20T00:00:00\",\"2022-05-21T00:00:00\",\"2022-05-22T00:00:00\",\"2022-05-23T00:00:00\",\"2022-05-24T00:00:00\",\"2022-05-25T00:00:00\",\"2022-05-26T00:00:00\",\"2022-05-27T00:00:00\",\"2022-05-28T00:00:00\",\"2022-05-29T00:00:00\",\"2022-05-30T00:00:00\",\"2022-05-31T00:00:00\",\"2022-06-01T00:00:00\",\"2022-06-02T00:00:00\",\"2022-06-03T00:00:00\",\"2022-06-04T00:00:00\",\"2022-06-05T00:00:00\",\"2022-06-06T00:00:00\",\"2022-06-07T00:00:00\",\"2022-06-08T00:00:00\",\"2022-06-09T00:00:00\",\"2022-06-10T00:00:00\",\"2022-06-11T00:00:00\",\"2022-06-12T00:00:00\",\"2022-06-13T00:00:00\",\"2022-06-14T00:00:00\",\"2022-06-15T00:00:00\",\"2022-06-16T00:00:00\",\"2022-06-17T00:00:00\",\"2022-06-18T00:00:00\",\"2022-06-19T00:00:00\",\"2022-06-20T00:00:00\",\"2022-06-21T00:00:00\",\"2022-06-22T00:00:00\",\"2022-06-23T00:00:00\",\"2022-06-24T00:00:00\",\"2022-06-25T00:00:00\",\"2022-06-26T00:00:00\",\"2022-06-27T00:00:00\",\"2022-06-28T00:00:00\",\"2022-06-29T00:00:00\",\"2022-06-30T00:00:00\",\"2022-07-01T00:00:00\",\"2022-07-02T00:00:00\",\"2022-07-03T00:00:00\",\"2022-07-04T00:00:00\",\"2022-07-05T00:00:00\",\"2022-07-06T00:00:00\",\"2022-07-07T00:00:00\",\"2022-07-08T00:00:00\",\"2022-07-09T00:00:00\",\"2022-07-10T00:00:00\",\"2022-07-11T00:00:00\",\"2022-07-12T00:00:00\",\"2022-07-13T00:00:00\",\"2022-07-14T00:00:00\",\"2022-07-15T00:00:00\",\"2022-07-16T00:00:00\",\"2022-07-17T00:00:00\",\"2022-07-18T00:00:00\",\"2022-07-19T00:00:00\",\"2022-07-20T00:00:00\",\"2022-07-21T00:00:00\",\"2022-07-22T00:00:00\",\"2022-07-23T00:00:00\",\"2022-07-24T00:00:00\",\"2022-07-25T00:00:00\",\"2022-07-26T00:00:00\",\"2022-07-27T00:00:00\",\"2022-07-28T00:00:00\",\"2022-07-29T00:00:00\",\"2022-07-30T00:00:00\",\"2022-07-31T00:00:00\",\"2022-08-01T00:00:00\",\"2022-08-02T00:00:00\",\"2022-08-03T00:00:00\",\"2022-08-04T00:00:00\",\"2022-08-05T00:00:00\",\"2022-08-06T00:00:00\",\"2022-08-07T00:00:00\",\"2022-08-08T00:00:00\",\"2022-08-09T00:00:00\",\"2022-08-10T00:00:00\",\"2022-08-11T00:00:00\",\"2022-08-12T00:00:00\",\"2022-08-13T00:00:00\",\"2022-08-14T00:00:00\",\"2022-08-15T00:00:00\",\"2022-08-16T00:00:00\",\"2022-08-17T00:00:00\",\"2022-08-18T00:00:00\",\"2022-08-19T00:00:00\",\"2022-08-20T00:00:00\",\"2022-08-21T00:00:00\",\"2022-08-22T00:00:00\",\"2022-08-23T00:00:00\",\"2022-08-24T00:00:00\",\"2022-08-25T00:00:00\",\"2022-08-26T00:00:00\",\"2022-08-27T00:00:00\",\"2022-08-28T00:00:00\",\"2022-08-29T00:00:00\",\"2022-08-30T00:00:00\",\"2022-08-31T00:00:00\",\"2022-09-01T00:00:00\",\"2022-09-02T00:00:00\",\"2022-09-03T00:00:00\",\"2022-09-04T00:00:00\",\"2022-09-05T00:00:00\",\"2022-09-06T00:00:00\",\"2022-09-07T00:00:00\",\"2022-09-08T00:00:00\",\"2022-09-09T00:00:00\",\"2022-09-10T00:00:00\",\"2022-09-11T00:00:00\",\"2022-09-12T00:00:00\",\"2022-09-13T00:00:00\",\"2022-09-14T00:00:00\",\"2022-09-15T00:00:00\",\"2022-09-16T00:00:00\",\"2022-09-17T00:00:00\",\"2022-09-18T00:00:00\",\"2022-09-19T00:00:00\",\"2022-09-20T00:00:00\",\"2022-09-21T00:00:00\",\"2022-09-22T00:00:00\",\"2022-09-23T00:00:00\",\"2022-09-24T00:00:00\",\"2022-09-25T00:00:00\",\"2022-09-26T00:00:00\",\"2022-09-27T00:00:00\",\"2022-09-28T00:00:00\",\"2022-09-29T00:00:00\",\"2022-09-30T00:00:00\",\"2022-10-01T00:00:00\",\"2022-10-02T00:00:00\",\"2022-10-03T00:00:00\",\"2022-10-04T00:00:00\",\"2022-10-05T00:00:00\",\"2022-10-06T00:00:00\",\"2022-10-07T00:00:00\",\"2022-10-08T00:00:00\",\"2022-10-09T00:00:00\",\"2022-10-10T00:00:00\",\"2022-10-11T00:00:00\",\"2022-10-12T00:00:00\",\"2022-10-13T00:00:00\",\"2022-10-14T00:00:00\",\"2022-10-15T00:00:00\",\"2022-10-16T00:00:00\",\"2022-10-17T00:00:00\",\"2022-10-18T00:00:00\",\"2022-10-19T00:00:00\",\"2022-10-20T00:00:00\",\"2022-10-21T00:00:00\",\"2022-10-22T00:00:00\",\"2022-10-23T00:00:00\",\"2022-10-24T00:00:00\",\"2022-10-25T00:00:00\",\"2022-10-26T00:00:00\",\"2022-10-27T00:00:00\",\"2022-10-28T00:00:00\",\"2022-10-29T00:00:00\",\"2022-10-30T00:00:00\",\"2022-10-31T00:00:00\",\"2022-11-01T00:00:00\",\"2022-11-02T00:00:00\",\"2022-11-03T00:00:00\",\"2022-11-04T00:00:00\",\"2022-11-05T00:00:00\",\"2022-11-06T00:00:00\",\"2022-11-07T00:00:00\",\"2022-11-08T00:00:00\",\"2022-11-09T00:00:00\",\"2022-11-10T00:00:00\",\"2022-11-11T00:00:00\",\"2022-11-12T00:00:00\",\"2022-11-13T00:00:00\",\"2022-11-14T00:00:00\",\"2022-11-15T00:00:00\",\"2022-11-16T00:00:00\",\"2022-11-17T00:00:00\",\"2022-11-18T00:00:00\",\"2022-11-19T00:00:00\",\"2022-11-20T00:00:00\",\"2022-11-21T00:00:00\",\"2022-11-22T00:00:00\",\"2022-11-23T00:00:00\",\"2022-11-24T00:00:00\",\"2022-11-25T00:00:00\",\"2022-11-26T00:00:00\",\"2022-11-27T00:00:00\",\"2022-11-28T00:00:00\",\"2022-11-29T00:00:00\",\"2022-11-30T00:00:00\",\"2022-12-01T00:00:00\",\"2022-12-02T00:00:00\",\"2022-12-03T00:00:00\",\"2022-12-04T00:00:00\",\"2022-12-05T00:00:00\",\"2022-12-06T00:00:00\",\"2022-12-07T00:00:00\",\"2022-12-08T00:00:00\",\"2022-12-09T00:00:00\",\"2022-12-10T00:00:00\",\"2022-12-11T00:00:00\",\"2022-12-12T00:00:00\",\"2022-12-13T00:00:00\",\"2022-12-14T00:00:00\",\"2022-12-15T00:00:00\",\"2022-12-16T00:00:00\",\"2022-12-17T00:00:00\",\"2022-12-18T00:00:00\",\"2022-12-19T00:00:00\",\"2022-12-20T00:00:00\",\"2022-12-21T00:00:00\",\"2022-12-22T00:00:00\",\"2022-12-23T00:00:00\",\"2022-12-24T00:00:00\",\"2022-12-25T00:00:00\",\"2022-12-26T00:00:00\",\"2022-12-27T00:00:00\",\"2022-12-28T00:00:00\",\"2022-12-29T00:00:00\",\"2022-12-30T00:00:00\",\"2022-12-31T00:00:00\",\"2023-01-01T00:00:00\",\"2023-01-02T00:00:00\",\"2023-01-03T00:00:00\",\"2023-01-04T00:00:00\",\"2023-01-05T00:00:00\",\"2023-01-06T00:00:00\",\"2023-01-07T00:00:00\",\"2023-01-08T00:00:00\",\"2023-01-09T00:00:00\",\"2023-01-10T00:00:00\",\"2023-01-11T00:00:00\",\"2023-01-12T00:00:00\",\"2023-01-13T00:00:00\",\"2023-01-14T00:00:00\",\"2023-01-15T00:00:00\",\"2023-01-16T00:00:00\",\"2023-01-17T00:00:00\",\"2023-01-18T00:00:00\",\"2023-01-19T00:00:00\",\"2023-01-20T00:00:00\",\"2023-01-21T00:00:00\",\"2023-01-22T00:00:00\",\"2023-01-23T00:00:00\",\"2023-01-24T00:00:00\",\"2023-01-25T00:00:00\",\"2023-01-26T00:00:00\",\"2023-01-27T00:00:00\",\"2023-01-28T00:00:00\",\"2023-01-29T00:00:00\",\"2023-01-30T00:00:00\",\"2023-01-31T00:00:00\",\"2023-02-01T00:00:00\",\"2023-02-02T00:00:00\",\"2023-02-03T00:00:00\",\"2023-02-04T00:00:00\",\"2023-02-05T00:00:00\",\"2023-02-06T00:00:00\",\"2023-02-07T00:00:00\",\"2023-02-08T00:00:00\",\"2023-02-09T00:00:00\",\"2023-02-10T00:00:00\",\"2023-02-11T00:00:00\",\"2023-02-12T00:00:00\",\"2023-02-13T00:00:00\",\"2023-02-14T00:00:00\",\"2023-02-15T00:00:00\",\"2023-02-16T00:00:00\",\"2023-02-17T00:00:00\",\"2023-02-18T00:00:00\",\"2023-02-19T00:00:00\",\"2023-02-20T00:00:00\",\"2023-02-21T00:00:00\",\"2023-02-22T00:00:00\",\"2023-02-23T00:00:00\",\"2023-02-24T00:00:00\",\"2023-02-25T00:00:00\",\"2023-02-26T00:00:00\",\"2023-02-27T00:00:00\",\"2023-02-28T00:00:00\",\"2023-03-01T00:00:00\",\"2023-03-02T00:00:00\",\"2023-03-03T00:00:00\",\"2023-03-04T00:00:00\",\"2023-03-05T00:00:00\",\"2023-03-06T00:00:00\",\"2023-03-07T00:00:00\",\"2023-03-08T00:00:00\",\"2023-03-09T00:00:00\",\"2023-03-10T00:00:00\",\"2023-03-11T00:00:00\",\"2023-03-12T00:00:00\",\"2023-03-13T00:00:00\",\"2023-03-14T00:00:00\",\"2023-03-15T00:00:00\",\"2023-03-16T00:00:00\",\"2023-03-17T00:00:00\",\"2023-03-18T00:00:00\",\"2023-03-19T00:00:00\",\"2023-03-20T00:00:00\",\"2023-03-21T00:00:00\",\"2023-03-22T00:00:00\",\"2023-03-23T00:00:00\",\"2023-03-24T00:00:00\",\"2023-03-25T00:00:00\",\"2023-03-26T00:00:00\",\"2023-03-27T00:00:00\",\"2023-03-28T00:00:00\",\"2023-03-29T00:00:00\",\"2023-03-30T00:00:00\",\"2023-03-31T00:00:00\",\"2023-04-01T00:00:00\",\"2023-04-02T00:00:00\",\"2023-04-03T00:00:00\",\"2023-04-04T00:00:00\",\"2023-04-05T00:00:00\",\"2023-04-06T00:00:00\",\"2023-04-07T00:00:00\",\"2023-04-08T00:00:00\",\"2023-04-09T00:00:00\",\"2023-04-10T00:00:00\",\"2023-04-11T00:00:00\",\"2023-04-12T00:00:00\",\"2023-04-13T00:00:00\",\"2023-04-14T00:00:00\",\"2023-04-15T00:00:00\",\"2023-04-16T00:00:00\",\"2023-04-17T00:00:00\",\"2023-04-18T00:00:00\",\"2023-04-19T00:00:00\",\"2023-04-20T00:00:00\",\"2023-04-21T00:00:00\",\"2023-04-22T00:00:00\",\"2023-04-23T00:00:00\",\"2023-04-24T00:00:00\",\"2023-04-25T00:00:00\",\"2023-04-26T00:00:00\",\"2023-04-27T00:00:00\",\"2023-04-28T00:00:00\",\"2023-04-29T00:00:00\",\"2023-04-30T00:00:00\",\"2023-05-01T00:00:00\",\"2023-05-02T00:00:00\",\"2023-05-03T00:00:00\",\"2023-05-04T00:00:00\",\"2023-05-05T00:00:00\",\"2023-05-06T00:00:00\",\"2023-05-07T00:00:00\",\"2023-05-08T00:00:00\",\"2023-05-09T00:00:00\",\"2023-05-10T00:00:00\",\"2023-05-11T00:00:00\",\"2023-05-12T00:00:00\",\"2023-05-13T00:00:00\",\"2023-05-14T00:00:00\",\"2023-05-15T00:00:00\",\"2023-05-16T00:00:00\",\"2023-05-17T00:00:00\",\"2023-05-18T00:00:00\",\"2023-05-19T00:00:00\",\"2023-05-20T00:00:00\",\"2023-05-21T00:00:00\",\"2023-05-22T00:00:00\",\"2023-05-23T00:00:00\",\"2023-05-24T00:00:00\",\"2023-05-25T00:00:00\",\"2023-05-26T00:00:00\",\"2023-05-27T00:00:00\",\"2023-05-28T00:00:00\",\"2023-05-29T00:00:00\",\"2023-05-30T00:00:00\",\"2023-05-31T00:00:00\",\"2023-06-01T00:00:00\",\"2023-06-02T00:00:00\",\"2023-06-03T00:00:00\",\"2023-06-04T00:00:00\",\"2023-06-05T00:00:00\",\"2023-06-06T00:00:00\",\"2023-06-07T00:00:00\",\"2023-06-08T00:00:00\",\"2023-06-09T00:00:00\",\"2023-06-10T00:00:00\",\"2023-06-11T00:00:00\",\"2023-06-12T00:00:00\",\"2023-06-13T00:00:00\",\"2023-06-14T00:00:00\",\"2023-06-15T00:00:00\",\"2023-06-16T00:00:00\",\"2023-06-17T00:00:00\",\"2023-06-18T00:00:00\",\"2023-06-19T00:00:00\",\"2023-06-20T00:00:00\",\"2023-06-21T00:00:00\",\"2023-06-22T00:00:00\",\"2023-06-23T00:00:00\",\"2023-06-24T00:00:00\",\"2023-06-25T00:00:00\",\"2023-06-26T00:00:00\",\"2023-06-27T00:00:00\",\"2023-06-28T00:00:00\",\"2023-06-29T00:00:00\",\"2023-06-30T00:00:00\",\"2023-07-01T00:00:00\",\"2023-07-02T00:00:00\",\"2023-07-03T00:00:00\",\"2023-07-04T00:00:00\",\"2023-07-05T00:00:00\",\"2023-07-06T00:00:00\",\"2023-07-07T00:00:00\",\"2023-07-08T00:00:00\",\"2023-07-09T00:00:00\",\"2023-07-10T00:00:00\",\"2023-07-11T00:00:00\",\"2023-07-12T00:00:00\",\"2023-07-13T00:00:00\",\"2023-07-14T00:00:00\",\"2023-07-15T00:00:00\",\"2023-07-16T00:00:00\",\"2023-07-17T00:00:00\",\"2023-07-18T00:00:00\",\"2023-07-19T00:00:00\",\"2023-07-20T00:00:00\",\"2023-07-21T00:00:00\",\"2023-07-22T00:00:00\",\"2023-07-23T00:00:00\",\"2023-07-24T00:00:00\",\"2023-07-25T00:00:00\",\"2023-07-26T00:00:00\",\"2023-07-27T00:00:00\",\"2023-07-28T00:00:00\",\"2023-07-29T00:00:00\",\"2023-07-30T00:00:00\",\"2023-07-31T00:00:00\",\"2023-08-01T00:00:00\",\"2023-08-02T00:00:00\",\"2023-08-03T00:00:00\",\"2023-08-04T00:00:00\",\"2023-08-05T00:00:00\",\"2023-08-06T00:00:00\",\"2023-08-07T00:00:00\",\"2023-08-08T00:00:00\",\"2023-08-09T00:00:00\",\"2023-08-10T00:00:00\",\"2023-08-11T00:00:00\",\"2023-08-12T00:00:00\",\"2023-08-13T00:00:00\",\"2023-08-14T00:00:00\",\"2023-08-15T00:00:00\",\"2023-08-16T00:00:00\",\"2023-08-17T00:00:00\",\"2023-08-18T00:00:00\",\"2023-08-19T00:00:00\",\"2023-08-20T00:00:00\",\"2023-08-21T00:00:00\",\"2023-08-22T00:00:00\",\"2023-08-23T00:00:00\",\"2023-08-24T00:00:00\",\"2023-08-25T00:00:00\",\"2023-08-26T00:00:00\",\"2023-08-27T00:00:00\",\"2023-08-28T00:00:00\",\"2023-08-29T00:00:00\",\"2023-08-30T00:00:00\",\"2023-08-31T00:00:00\",\"2023-09-01T00:00:00\",\"2023-09-02T00:00:00\",\"2023-09-03T00:00:00\",\"2023-09-04T00:00:00\",\"2023-09-05T00:00:00\",\"2023-09-06T00:00:00\",\"2023-09-07T00:00:00\",\"2023-09-08T00:00:00\",\"2023-09-09T00:00:00\",\"2023-09-10T00:00:00\",\"2023-09-11T00:00:00\",\"2023-09-12T00:00:00\",\"2023-09-13T00:00:00\",\"2023-09-14T00:00:00\",\"2023-09-15T00:00:00\",\"2023-09-16T00:00:00\",\"2023-09-17T00:00:00\",\"2023-09-18T00:00:00\",\"2023-09-19T00:00:00\",\"2023-09-20T00:00:00\",\"2023-09-21T00:00:00\",\"2023-09-22T00:00:00\",\"2023-09-23T00:00:00\",\"2023-09-24T00:00:00\",\"2023-09-25T00:00:00\",\"2023-09-26T00:00:00\",\"2023-09-27T00:00:00\",\"2023-09-28T00:00:00\",\"2023-09-29T00:00:00\",\"2023-09-30T00:00:00\",\"2023-10-01T00:00:00\",\"2023-10-02T00:00:00\",\"2023-10-03T00:00:00\",\"2023-10-04T00:00:00\",\"2023-10-05T00:00:00\",\"2023-10-06T00:00:00\",\"2023-10-07T00:00:00\",\"2023-10-08T00:00:00\",\"2023-10-09T00:00:00\",\"2023-10-10T00:00:00\",\"2023-10-11T00:00:00\",\"2023-10-12T00:00:00\",\"2023-10-13T00:00:00\",\"2023-10-14T00:00:00\",\"2023-10-15T00:00:00\",\"2023-10-16T00:00:00\",\"2023-10-17T00:00:00\",\"2023-10-18T00:00:00\",\"2023-10-19T00:00:00\",\"2023-10-20T00:00:00\",\"2023-10-21T00:00:00\",\"2023-10-22T00:00:00\",\"2023-10-23T00:00:00\",\"2023-10-24T00:00:00\",\"2023-10-25T00:00:00\",\"2023-10-26T00:00:00\",\"2023-10-27T00:00:00\",\"2023-10-28T00:00:00\",\"2023-10-29T00:00:00\",\"2023-10-30T00:00:00\",\"2023-10-31T00:00:00\",\"2023-11-01T00:00:00\",\"2023-11-02T00:00:00\",\"2023-11-03T00:00:00\",\"2023-11-04T00:00:00\",\"2023-11-05T00:00:00\",\"2023-11-06T00:00:00\",\"2023-11-07T00:00:00\",\"2023-11-08T00:00:00\",\"2023-11-09T00:00:00\",\"2023-11-10T00:00:00\",\"2023-11-11T00:00:00\",\"2023-11-12T00:00:00\",\"2023-11-13T00:00:00\",\"2023-11-14T00:00:00\",\"2023-11-15T00:00:00\",\"2023-11-16T00:00:00\",\"2023-11-17T00:00:00\",\"2023-11-18T00:00:00\",\"2023-11-19T00:00:00\",\"2023-11-20T00:00:00\",\"2023-11-21T00:00:00\",\"2023-11-22T00:00:00\",\"2023-11-23T00:00:00\",\"2023-11-24T00:00:00\",\"2023-11-25T00:00:00\",\"2023-11-26T00:00:00\",\"2023-11-27T00:00:00\",\"2023-11-28T00:00:00\",\"2023-11-29T00:00:00\",\"2023-11-30T00:00:00\",\"2023-12-01T00:00:00\",\"2023-12-02T00:00:00\",\"2023-12-03T00:00:00\",\"2023-12-04T00:00:00\",\"2023-12-05T00:00:00\",\"2023-12-06T00:00:00\",\"2023-12-07T00:00:00\",\"2023-12-08T00:00:00\",\"2023-12-09T00:00:00\",\"2023-12-10T00:00:00\",\"2023-12-11T00:00:00\",\"2023-12-12T00:00:00\",\"2023-12-13T00:00:00\",\"2023-12-14T00:00:00\",\"2023-12-15T00:00:00\",\"2023-12-16T00:00:00\",\"2023-12-17T00:00:00\",\"2023-12-18T00:00:00\",\"2023-12-19T00:00:00\",\"2023-12-20T00:00:00\",\"2023-12-21T00:00:00\",\"2023-12-22T00:00:00\",\"2023-12-23T00:00:00\",\"2023-12-24T00:00:00\",\"2023-12-25T00:00:00\",\"2023-12-26T00:00:00\",\"2023-12-27T00:00:00\",\"2023-12-28T00:00:00\",\"2023-12-29T00:00:00\",\"2023-12-30T00:00:00\",\"2023-12-31T00:00:00\",\"2024-01-01T00:00:00\",\"2024-01-02T00:00:00\",\"2024-01-03T00:00:00\",\"2024-01-04T00:00:00\",\"2024-01-05T00:00:00\",\"2024-01-06T00:00:00\",\"2024-01-07T00:00:00\",\"2024-01-08T00:00:00\",\"2024-01-09T00:00:00\",\"2024-01-10T00:00:00\",\"2024-01-11T00:00:00\",\"2024-01-12T00:00:00\",\"2024-01-13T00:00:00\",\"2024-01-14T00:00:00\",\"2024-01-15T00:00:00\",\"2024-01-16T00:00:00\",\"2024-01-17T00:00:00\",\"2024-01-18T00:00:00\",\"2024-01-19T00:00:00\",\"2024-01-20T00:00:00\",\"2024-01-21T00:00:00\",\"2024-01-22T00:00:00\",\"2024-01-23T00:00:00\",\"2024-01-24T00:00:00\",\"2024-01-25T00:00:00\",\"2024-01-26T00:00:00\",\"2024-01-27T00:00:00\",\"2024-01-28T00:00:00\",\"2024-01-29T00:00:00\",\"2024-01-30T00:00:00\",\"2024-01-31T00:00:00\",\"2024-02-01T00:00:00\",\"2024-02-02T00:00:00\",\"2024-02-03T00:00:00\",\"2024-02-04T00:00:00\",\"2024-02-05T00:00:00\",\"2024-02-06T00:00:00\",\"2024-02-07T00:00:00\",\"2024-02-08T00:00:00\",\"2024-02-09T00:00:00\",\"2024-02-10T00:00:00\",\"2024-02-11T00:00:00\",\"2024-02-12T00:00:00\",\"2024-02-13T00:00:00\",\"2024-02-14T00:00:00\",\"2024-02-15T00:00:00\",\"2024-02-16T00:00:00\",\"2024-02-17T00:00:00\",\"2024-02-18T00:00:00\",\"2024-02-19T00:00:00\",\"2024-02-20T00:00:00\",\"2024-02-21T00:00:00\",\"2024-02-22T00:00:00\",\"2024-02-23T00:00:00\",\"2024-02-24T00:00:00\",\"2024-02-25T00:00:00\",\"2024-02-26T00:00:00\",\"2024-02-27T00:00:00\",\"2024-02-28T00:00:00\",\"2024-02-29T00:00:00\",\"2024-03-01T00:00:00\",\"2024-03-02T00:00:00\",\"2024-03-03T00:00:00\",\"2024-03-04T00:00:00\",\"2024-03-05T00:00:00\",\"2024-03-06T00:00:00\",\"2024-03-07T00:00:00\",\"2024-03-08T00:00:00\",\"2024-03-09T00:00:00\",\"2024-03-10T00:00:00\",\"2024-03-11T00:00:00\",\"2024-03-12T00:00:00\",\"2024-03-13T00:00:00\",\"2024-03-14T00:00:00\",\"2024-03-15T00:00:00\",\"2024-03-16T00:00:00\",\"2024-03-17T00:00:00\",\"2024-03-18T00:00:00\",\"2024-03-19T00:00:00\",\"2024-03-20T00:00:00\",\"2024-03-21T00:00:00\",\"2024-03-22T00:00:00\",\"2024-03-23T00:00:00\",\"2024-03-24T00:00:00\",\"2024-03-25T00:00:00\",\"2024-03-26T00:00:00\",\"2024-03-27T00:00:00\",\"2024-03-28T00:00:00\",\"2024-03-29T00:00:00\",\"2024-03-30T00:00:00\",\"2024-03-31T00:00:00\",\"2024-04-01T00:00:00\",\"2024-04-02T00:00:00\",\"2024-04-03T00:00:00\",\"2024-04-04T00:00:00\",\"2024-04-05T00:00:00\",\"2024-04-06T00:00:00\",\"2024-04-07T00:00:00\",\"2024-04-08T00:00:00\",\"2024-04-09T00:00:00\",\"2024-04-10T00:00:00\",\"2024-04-11T00:00:00\",\"2024-04-12T00:00:00\",\"2024-04-13T00:00:00\",\"2024-04-14T00:00:00\",\"2024-04-15T00:00:00\",\"2024-04-16T00:00:00\",\"2024-04-17T00:00:00\",\"2024-04-18T00:00:00\",\"2024-04-19T00:00:00\",\"2024-04-20T00:00:00\",\"2024-04-21T00:00:00\",\"2024-04-22T00:00:00\",\"2024-04-23T00:00:00\",\"2024-04-24T00:00:00\",\"2024-04-25T00:00:00\",\"2024-04-26T00:00:00\",\"2024-04-27T00:00:00\",\"2024-04-28T00:00:00\",\"2024-04-29T00:00:00\",\"2024-04-30T00:00:00\",\"2024-05-01T00:00:00\",\"2024-05-02T00:00:00\",\"2024-05-03T00:00:00\",\"2024-05-04T00:00:00\"],\"y\":[43.63686086643481,43.260378887889566,43.13590794993829,43.18368860026103,43.018226334374916,43.996868318240985,43.661861748096115,44.41511674178093,44.172762731258935,44.169525909454514,44.322834365219926,44.244715703930666,45.290442042048866,45.00064697922264,45.77613570913017,45.532475799428994,45.504395092164884,45.60989262920615,45.46212706791037,46.418037554239504,46.02042214813055,46.67269585731789,46.29341708699357,46.12061058399735,46.075794715327675,45.77577973827914,46.581194419133915,46.03846861793777,46.55449648178811,46.051071632441314,45.769124925609404,45.632674970761,45.26056020164418,46.01491171051234,45.44309598976769,45.95235337489874,45.4642243175576,45.218794377555795,45.138667991545724,44.840739236498194,45.68471780150634,45.215137910455894,45.83607422392459,45.46565476631142,45.34039942370417,45.379291530149494,45.195648093594556,46.1457441545417,45.77091632143689,46.47236690909722,46.16575629328724,46.08560983077575,46.14944478555556,45.96968216269986,46.902295998602966,46.48892622148688,47.13167533694504,46.74767691296402,46.573462848149575,46.529036112935124,46.22971444466386,47.03470118038278,46.48910970462061,46.99866507589774,46.48417322803236,46.185787447918834,46.0269815791324,45.62629815715906,46.345830274957464,45.733166088811345,46.19602171137826,45.65665476179953,45.35608978728332,45.218066115979326,44.86077702508932,45.645359250740846,45.11786152148064,45.68391718593634,45.26321209920176,45.093777480070784,45.09601644208342,44.88453092345082,45.81670564178275,45.434775180774935,46.14059660187623,45.85021603993,45.798256335842034,45.90203187029018,45.77345497388379,46.76768844379726,46.42526848817089,47.146919063307124,46.848145029984195,46.76363057076761,46.81134885685269,46.60444760223993,47.49986572500499,47.04040653200962,47.62948985913514,47.185672388480214,46.94696465546239,46.8348530210999,46.466093689484026,47.20123648328243,46.58660637192878,47.028967602015186,46.44996201475994,46.09035220347817,45.87397967989339,45.4195067155473,46.08890084410548,45.429390841741714,45.848119562497736,45.26658526127285,44.92490173342116,44.74578672309724,44.34634618738756,45.08661199519508,44.51156018824209,45.02583325978536,44.54825598931808,44.31617295693036,44.2495149384214,43.96265953681999,44.81304148202929,44.34323772388767,44.955748973683555,44.56756568310266,44.414545328116304,44.41550726861555,44.18410995807732,45.07746571466887,44.6382183215694,45.269305607619636,44.888495827296516,44.732725842394736,44.722148777809025,44.4719575485618,45.34094126184395,44.8735016675727,45.474353768531,45.06300136330583,44.87801741341881,44.84103867426624,44.568542579597704,45.42036475483051,44.94168544315542,45.53770977371704,45.12813314873907,44.95142181764246,44.928817925091536,44.676136548298956,45.55231232033831,45.101363029027034,45.72729301440313,45.3484277586673,45.20180647051046,45.207241008490435,44.979166703224344,45.875240893379186,45.43841468998006,46.071700007924186,45.6927202222033,45.538071660734644,45.527402517376295,45.2752742349766,46.13976080425724,45.66451143717114,46.25349891289232,45.82554251964124,45.618633658993495,45.553971813199084,45.24777726988738,46.05983758025622,45.53551487807212,46.08043811288133,45.61497090805369,45.37848487432938,45.29334776535387,44.976694424719845,45.788938876609315,45.275755840912,45.84275662078994,45.40995068051537,45.21602304394348,45.18233688194529,44.924728901182874,45.80205523924769,45.35821520803656,45.996876629904634,45.63599265152987,45.51213854615024,45.54457611393862,45.34711144828397,46.27670189732167,45.87553771270141,46.54582036157122,46.204325753462086,46.08677944438318,46.11195020906593,45.8935267973351,46.788733049466636,46.34040652603319,46.951762621815185,46.5401527352965,46.34374423312987,46.2832295004878,45.97443018394072,46.776853253190914,46.23570572385081,46.75659184488206,46.25998326154253,45.985491842272985,45.85585447796811,45.48869779411256,46.245041190724315,45.67126662708894,46.17378030746983,45.673457863058815,45.409903502067046,45.305432894894096,44.97684785376441,45.78396099663789,45.27159824815241,45.84430344632824,45.42083546387971,45.23848686458313,45.21713218623403,44.97107205846104,45.85762937112234,45.41922330632411,46.05814345576502,45.69111243738071,45.55366414647183,45.56424401193264,45.33609595879338,46.22589104380889,45.77582262187951,46.388389631614956,45.980956120849285,45.790114202906636,45.73575721722058,45.432928534502494,46.240402026731395,45.70272039792981,46.224914548228966,45.72699387681158,45.448236648787294,45.31118922780357,44.93344167885363,45.676137802697525,45.085947758049656,45.56972826722223,45.048961945670065,44.764005626454605,44.63806088009222,44.288928512378945,45.07751214054698,44.54979588710529,45.11152165415015,44.682656995498235,44.50168326993866,44.48961286872419,44.26180244904283,45.17651911744837,44.77698609158686,45.466130747225904,45.16112410347312,45.097739458373674,45.19443704701981,45.06423983733957,46.06335574682055,45.733271349898466,46.47553876643489,46.20634384242298,46.16088269258132,46.2574531489323,46.109326223297394,47.07335317696245,46.69203388180814,47.368269061140154,47.01988567233793,46.88396386865795,46.88087362530627,46.62608780478394,47.478728996519266,46.98357757924398,47.54576532780301,47.085245478160054,46.84106920925868,46.73537797420776,46.38517959058278,47.1508663163602,46.57820298398403,47.073009856099844,46.55563116976691,46.26521909475286,46.12374203046533,45.747784388457845,46.497095096540065,45.916611713244095,46.41118347917091,45.900082826212596,45.62133356303473,45.49576314194329,45.13884465303174,45.90928447404581,45.35108101281722,45.868276949566045,45.3794935111507,45.12227434679547,45.017145994491315,44.679460449423615,45.4679757857285,44.92690082560901,45.46062670429127,44.98823480307007,44.74780964825244,44.66046497336104,44.34214978540289,45.15219179212035,44.63530561934758,45.19629008258961,44.75450533382028,44.54815971689306,44.498315609225926,44.22068197752932,45.074151666977315,44.60281126607692,45.21064795869087,44.816044057614086,44.65608865326732,44.65061499154027,44.41403039944327,45.30389564946824,44.862980290708414,45.49401689835789,45.11424337546765,44.9597611284761,44.94961611805406,44.697668043112216,45.56120309064028,45.083015472617824,45.6661795904986,45.228601085060866,45.00737398429568,44.92285063390873,44.59048965891634,45.36943769412601,44.80457072097655,45.30121776638004,44.779656413208855,44.479408773016914,44.323246250766665,43.92897015694081,44.657925822079775,44.05697805887187,44.533172519722804,44.00817466083497,43.72251639730766,43.59956056903015,43.25725162458567,44.056611294829246,43.54370787420415,44.124324305469905,43.718416538831875,43.56439235112144,43.58311994974818,43.38973383241911,44.342195371339784,43.98333513799013,44.71560030447867,44.455596524287415,44.43845225757017,44.58191255379413,44.4982274240417,45.542789972133036,45.25624910598529,46.039318139009815,45.807366885781335,45.794823699927655,45.9192932772663,45.79345453126764,46.77369327695001,46.402194519868324,47.08171604869403,46.73013173118691,46.58477214559004,46.56646991379027,46.29137590615049,47.119503187088185,46.59672584444133,47.129456896788824,46.63909625561336,46.366278961425394,46.234833585517244,45.86351936006187,46.614501098477774,46.0352909797751,46.533383004137136,46.030672345449375,45.76769066760995,45.66756771710441,45.34778773444835,46.168699283926045,45.67550668048219,46.272973314605885,45.87989843692355,45.733454431515256,45.75323463591931,45.55310673858037,46.48982191401983,46.105105160649074,46.80044863380277,46.49169588797754,46.41344360491678,46.483166574778814,46.313129998057214,47.2590434270199,46.8621805581907,47.524185835623456,47.1616553907302,47.01051896300499,46.990129091208374,46.71512260597283,47.54401012040405,47.0212194849189,47.55181624937097,47.05599101257514,46.77334286399202,46.62686790274682,46.2347206213175,46.95870659111766,46.346235065601036,46.8049570286031,46.25718081960111,45.94409649691016,45.78971953135401,45.4126228319527,46.17441632939627,45.621703074162056,46.16073726282658,45.71187575850375,45.513853265897524,45.487790346807905,45.24900150497334,46.155560477120886,45.75034934098824,46.435814315982654,46.12851716377887,46.06350964366466,46.15843753089702,46.02543885121554,47.019791065162664,46.68203164802964,47.4127730728414,47.12729958232307,47.05998330280234,47.12836932712077,46.945106460276435,47.86656618921915,47.434931069929384,48.052963303168895,47.638542262456255,47.428999012489754,47.34515561525055,47.00313583074171,47.76290450527715,47.17026318224234,47.63152647159808,47.06797043095439,46.720083373264075,46.51152909755592,46.06089111093593,46.73015680614069,46.066670466430146,46.477780603029785,45.88527345529938,45.52962324287379,45.33396893672957,44.915885495829286,45.635907541967875,45.03953301601038,45.53193069695683,45.03244154541481,44.77890240387074,44.69169963712877,44.38561841381148,45.21844335908353,44.7330359476948,45.33211047484669,44.93279671063017,44.77101615402806,44.7655781369776,44.5300604650501,45.42142965482324,44.982125825754906,45.61483413643407,45.23703127997114,45.08533470349684,45.079561864103304,44.834565546768665,45.708801876412906,45.246357837111745,45.85166207108473,45.443969424330426,45.26164886504974,45.22618399808131,44.95474431193117,45.806333889613455,45.32614891093388,45.91946581399445,45.5061030184419,45.324696112102224,45.29669598319257,45.038157655691414,45.908277705715015,45.45140779805292,46.07176830490207,45.6879521258508,45.53724746629458,45.53968743910455,45.309892516894564,46.205661924353535,45.77003971977348,46.40607779206223,46.03138426516618,45.882484599181325,45.87890198976321,45.635022073708306,46.50869728608127,46.04331617164755,46.64255974236456,46.224933553613646,46.02810327891418,45.97294116932407,45.675349459805034,46.494817359170014,45.976438414539984,46.52561198079167,46.06251920636942,45.82640309970355,45.739561837592134,45.41912308825668,46.225557578301704,45.70466011961639,46.26222303945011,45.81849338747548,45.61244416528684,45.56576911760837,45.29466891972799,46.15838673254805,45.70122077027794,46.327237955906064,45.95477889779028,45.82078305367137,45.844842043988145,45.64104722050729,46.566603042981285,46.16385498737809,46.83510829595349,46.49717191168124,46.3857318397686,46.41944498962865,46.21181832301665,47.11982842999907,46.686006573366434,47.31321099750268,46.919174851624625,46.74085716445132,46.69850390297927,46.40748482223455,47.226862395816084,46.70141928981648,47.236367811145,46.751831480796085,46.48712808320284,46.364763195761526,46.00220187665454,46.76037671349266,46.185660493567646,46.68452855674107,46.17800239513737,45.90590500564338,45.79083786057225,45.449947716128456,46.2434416658818,45.71657856065255,46.274361375504235,45.83602127927754,45.63932279824331,45.60459855039446,45.34658014639559,46.22298185232402,45.77656318713782,46.409893006726925,46.03990377927317,45.902263430011814,45.9154713141212,45.69274314671658,46.59063992032979,46.151165665533,46.77655557490939,46.38384247919016,46.20922867418986,46.17216962542294,45.88723469625396,46.71270058649548,46.19260331454698,46.7314735358536,46.2488347019774,45.98351282050962,45.8576462223048,45.488472503173455,46.23684838542205,45.64923038484167,46.13234105939402,45.60761221754177,45.315435510661146,45.17913030122663,44.816697161115684,45.58931564836668,45.04331482623168,45.58484154167406,45.13431773926287,44.93071679454822,44.89556799419236,44.64475645226178,45.53707577747344,45.116260392995436,45.78572078080886,45.46307104979247,45.384476857572544,45.46873083871047,45.32912088984157,46.32204677889102,45.98911027583647,46.73190056375491,46.466563048907,46.4281785868439,46.53485955791856,46.39962773522787,47.37902932471557,47.015212606228296,47.71069047460843,47.3828768288471,47.26842491731907,47.28727538966212,47.054480500486,47.928761484662246,47.45452626118985,48.03657152807975,47.59455994243893,47.36730217042179,47.27675311600103,46.93979016816869,47.71673167771626,47.15332377528702,47.655420285847974,47.14344684710149,46.85667909220344,46.71724429186947,46.34191335790558,47.090641214774244,46.508582465884,47.000806020508875,46.48679848609308,46.20478481305523,46.07577384227601,45.7153946332337,46.48247958591866,45.9211201077831,46.43541713581406,45.94401517171427,45.68444736561747,45.577198571597016,45.237551772713914,46.02417366963926,45.48116523131844,46.01279982869989,45.53803817234335,45.29484838450545,45.20423912911811,44.882072368898676,45.68761284667318,45.165541480424935,45.720656725269954,45.27235454824655,45.05891671631571,45.00151658915393,44.71601010865344,45.561470020866466,45.08219124105731,45.682391892373694,45.280700878957596,45.11446163607055,45.10376091665864,44.86324970735601,45.75071345965479,45.30911847039432,45.94135767085832,45.564785257718405,45.41556826864517,45.41276235807686,45.17017724894281,46.04498746738608,45.57981370621032,46.17749672719311,45.75565207164496,45.55103274383276,45.48360644453351,45.16841241556251,45.964153530490634,45.41524897304438,45.926570183165175,45.41794906692302,45.128486783225185,44.980571064251464,44.591668751012044,45.32285083502019,44.72077747276601,45.19236738639701,44.65924273753456,44.36197969250736,44.224074459029836,43.863693137385866,44.64216412524947,44.10594173102904,44.66126629751345,44.2286124802422,44.046956103209595,44.03776921115912,43.816811134048535,44.74267341797081,44.3588060545261,45.06824877980432,44.78815728773387,44.7541527593997,44.88440213956096,44.79149468102572,45.83107027289415,45.543924669233974,46.33081316232688,46.107040471169135,46.10686338605329,46.24761200834622,46.141593830476936,47.14473525299974,46.798685122082034,47.50560170384077,47.18271115172192,47.06666470286917,47.07760153182506,46.83098296352454,47.686154429508356,47.18836182137167,47.74344595650746,47.27230567702664,47.015159381072586,46.89551450622306,46.53191321444089,47.28641309640162,46.706531790500385,47.199881248642676,46.68858385153691,46.41350152418826,46.29818832057847,45.96063525628502,46.76176629621213,46.24741404780479,46.82300008826618,46.40801093960858,46.24029924590333,46.240118692498605,46.021959225399996,46.94313902783488,46.545879191984746,47.23208331129309,46.91791028834094,46.838167253024466,46.91042860463457,46.746945413268286,47.703299583511686,47.3205269902609,47.99993045857438,47.65766994195636,47.529156292856115,47.53315459223556,47.2836616832299,48.138513166832794,47.641445346675454,48.19683465960561,47.72420395247623,47.46252429146844,47.334220786115296,46.95694974176263,47.69210514665037,47.08678273248599,47.548426824371745,46.999251873023034,46.68046967151395,46.51623277425074,46.12536313090372,46.86982525768416,46.29667308212529,46.81269613160676,46.3388569584119,46.114550349564404,46.061593945082976,45.79601796895591,46.67661170964091,46.24695387131266,46.90274879786077,46.56856486830491,46.47998917209837,46.55511919147797,46.406449601369935,47.38951059603665,47.0449824110328,47.77350719257871,47.49028566331167,47.42948488508433,47.508362807189144,47.33917378826687,48.27780972634171,47.865901509439354,48.505602417075934,48.11414181745077,47.92817674691005,47.86784869715516,47.548611738650465,48.329788801441005,47.756583196271265,48.234769492773744,47.685154631656275,47.34783936402675,47.14618975467843,46.69858712713117,47.36691529773762,46.698513930003195,47.10082354999625,46.495814163300366,46.124228243480694,45.90954810432483,45.469755904505945,46.16584460673763,45.54380782077737,46.009332823171626,45.48228713979556,45.20102764871065,45.086440200150605,44.75377584451456,45.561239753947305,45.052058517582836,45.62924790606523,45.2101694094171,45.03090259776349,45.01033962109918,44.762066531416586,45.64298641625606,45.195409265529186,45.82183026561757,45.43948478635471,45.282602682416844,45.272792636799366,45.02457472561723,45.89606495751363,45.431014482530195,46.03353162785251,45.62257688237688,45.436260140997035,45.39584915548207,45.1175567909586,45.96106518533676,45.47151493823612,46.05418422512636,45.62894920413275,45.43455599408291,45.392613833820654,45.119377362812564,45.974276132155445,45.501919157246036,46.10679877876097,45.707784278112186,45.54243434398224,45.53103659568475,45.2884405225694,46.17264024136949,45.72683310380331,46.35417662607567,45.97233243197896,45.81782464696994,45.81011943684056,45.56349073174632,46.43562745399259,45.96970746632576,46.56916019000159,46.15220637105632,45.9562025343067,45.901697232729575,45.60426484609839,46.42307323690998,45.902911715915316,46.4489027095699,45.98098721354279,45.73821329041843,45.6427364975326,45.31159978146094,46.105250878889755,45.56952530316265,46.11031978009033,45.648047486956976,45.421905381033135,45.35386325923204,45.060442531860176,45.90124290958621,45.42094488681006,46.02401240027304,45.62918621907197,45.47379727730468,45.47780826607768,45.255649944835326,46.16480865781128,45.74789114824641,46.407389173102914,46.060232606442405,45.94215842647337,45.9718021957405,45.762576947546,46.67129462571084,46.240255080787264,46.87202431904585,46.48399019488534,46.312722769405525,46.278046104387656,45.994886893854655,46.82185588541094,46.303288193750305,46.84396556471777,46.36361036646666,46.10118029448354,45.978872450496965,45.613904160015856,46.367028457276334,45.78451227288045,46.2728022143588,45.75296939308345,45.46496375621759,45.331587806893104,44.9702580146975,45.74151246892385,45.19099309952728,45.724127303012196,45.26060003062145,45.0386460692135,44.979071357331634,44.697070315035354,45.55079617075321,45.08341084060582,45.69783727783909,45.31130333562637,45.15970482277166,45.161694566623765,44.9305625145627,45.823332237923196,45.38144782286975,46.006974584973364,45.61669964240977,45.44651018122238,45.41548557168987,45.137768248015895,45.971168755048076,45.45923047066298,46.00597643791299,45.53042744418639,45.27091969619551,45.14913013061566,44.78187613880607,45.52964709765666,44.93859526883245,45.41521056052383,44.88077029681713,44.57559424186456,44.423014653958134,44.0411296707132,44.79129868555395,44.22010825536186,44.734033694148444,44.25388782396975,44.01908711396465,43.95164462586089,43.66795738197868,44.52734582331141,44.07407262781639,44.712064534571965,44.35942694100142,44.25277965514362,44.311321281351496,44.14868788060233,45.12156161988898,44.77175480546572,45.50099120078568,45.22547283125449,45.180259315632235,45.28336611968162,45.14764657862502,46.12941291628042,45.77052148775341,46.47314429901758,46.15431546989729,46.05028043966538,46.08055533948574,45.85976264259048,46.74619978007923,46.283867559537974,46.886545863577446,46.464188489802446,46.25530381606219,46.181593284751784,45.85973397392182,46.649899669728605,46.09774852276389,46.60910206914189,46.10440680262723,45.8230083366775,45.68714747714636,45.313745817903175,46.06293861433907,45.48008237899928,45.9704610996264,45.45378117410174,45.168483835525905,45.03578299092001,44.67149460328015,45.43461385242067,44.869366011663786,45.379953494161676,44.88508782377308,44.62233411348561,44.51217497140318,44.16985917846,44.95399082990889,44.408584592236224,44.93780950995913,44.46051036298605,44.21453465889072,44.120772919477965,43.79497855769995,44.59632416904274,44.069421163240065,44.61902654405169,44.16452726420414,43.94423167120656,43.87937709153698,43.58592114699263,44.42307479026567,43.93530497362805,44.52703153670082,44.117109280777285,43.94312502724054,43.925418718367325,43.67889589051753,44.56158897325088,44.11669453910298,44.747310067442655,44.376978300180475,44.23597591310597,44.243437407810895,44.01319659886105,44.902393212383124,44.45355179137634,45.06935495541406,44.66719936781696,44.483561601234086,44.4380804457743,44.14542065101692,44.96387347125537,44.43741938100933,44.97047515606212,44.4824141347965,44.21188761861367,44.08085501240567,43.706389015580676,44.449212779949306,43.85569613358447,44.332534934729225,43.80120432236011,43.502215800318226,43.359087701628894,42.990097198354896,43.75677248027877,43.20585370778357,43.743948060075724,43.29197061205449,43.08940161936775,43.058270052431126,42.81493147577553,43.718598459916294,43.31335133392717,44.00285345933265,43.704861301431265,43.655558141134065,43.773619297506364,43.67207480576237,44.70692546371989,44.41923772147426,45.209939267427096,44.99440333164934,45.00684843137531,45.1644595094704,45.07929474635306,46.10693259966561,45.78858353495558,46.52588766853897,46.235486113292566,46.15339293425063,46.19907431253577,45.987299920854404,46.87672297307696,46.41191457957368,46.9980759042484,46.555518107161646,46.3239394090064,46.22640836702387,45.88112122683341,46.64989183757823,46.080102770096744,46.57934316486309,46.06982541681815,45.79261181159687,45.67156163901133,45.325067700357785,46.11454133388097,45.58637479928831,46.146606306265554,45.71537911332201,45.53122470877924,45.51507910356189,45.282099302714876,46.19023692637152,45.782295422383626,46.460693577046705,46.142024062983296,46.061434313925055,46.136736074713106,45.98030812704572,46.94774678177948,46.57998845308526,47.27812520626054,46.95800056715295,46.8546118361347,46.886224642182995,46.666264076663126,47.55193729366585,47.086312637409264,47.673077363194636,47.23106281145817,46.9985652035735,46.89737002140105,46.544546776204356,47.3009716908385,46.7133060912865,47.18865533198454,46.64899981896818,46.33542887532771,46.1720877874283,45.777906948536156,46.515072414811755,45.930967070457754,46.43280826094066,45.94207399535627,45.69874859114596,45.625297755294575,45.33844123274645,46.19768112604168,45.747313502498976,46.391147180552494,46.047019600679015,45.95113818873564,46.0221546014151,45.873037293122216,46.8596978072024,46.523095772189336,47.26404399656342,46.99780127565266,46.95847929499254,47.0631693194676,46.92385277515522,47.896050197702586,47.52093302458523,48.20011955919331,47.85024309090804,47.707319349188545,47.69082017252125,47.415519052754235,48.24006489790412,47.709010621705595,48.22752021850435,47.7158447716742,47.413597100892204,47.24373444883114,46.824317309181815,47.51700303504409,46.86900292326008,47.28772825564301,46.695217254289986,46.332373812851884,46.12292817960578,45.68518807084819,46.380538825278805,45.75542086726657,46.216009149966915,45.68268537056074,45.3943323375388,45.27235891296841,44.93252203813276,45.73350232501263,45.21687829576416,45.78812650363001,45.36492648166702,45.183607412302855,45.16323816916093,44.91750646026396,45.80334207564081,45.363009106923045,45.998888712828574,45.62804051466475,45.48656975594525,45.49370692446542,45.26366518482935,46.1542315337422,45.70881775112351,46.3311941823421,45.93999610604665,45.773031647715875,45.751299862241375,45.49078629765783,46.35099389573591,45.87693716626486,46.473824398579744,46.06151920631258,45.87881167512974,45.847408776751905,45.583712102679996,46.44734119602666,45.98313051239248,46.59582453916245,46.20456181672595,46.0471772806562,46.04423146793539,45.8108332879986,46.70521309566612,46.270772416420286,46.91083308710228,46.54317475927298,46.404388414424886,46.41395274617324,46.18609855653618,47.07841653257881,46.63393360809534,47.25587978818979,46.86223378649075,46.690074832658276,46.65964752849562,46.38620523679994,47.22858800916088,46.73126118058851,47.29903768616544,46.841012986551824,46.6065458198001,46.51758477260637,46.191016504075705,46.98718912473478,46.45189946633075,46.99106895562249,46.52519935180913,46.29363859898953,46.21856645915264,45.91676800341148,46.74815328632982,46.25775130161129,46.85040283417524,46.44524305246007,46.28000337020487,46.27504123524267,46.04516465858171,46.94820832481456,46.52708772302968,47.184554128070886,46.83773941837907,46.72251838510188,46.75759535530322,46.55638020288046,47.475608996732085,47.05743433046049,47.70420700810433,47.333037192249904,47.180162092537664,47.165026762770154,46.90214315694166,47.74968310127294,47.25153095430547,47.81201865801406,47.3504325858442,47.10532079981526,46.998509008894985,46.6468922432233,47.41095985106645,46.836781569245495,47.33067931908789,46.81367599623976,46.52575158688336,46.38981643021502,46.02346993069257,46.78750333895357,46.22787505623219,46.75038348889003,46.27512875438116,46.04079326034688,45.9686503298667,45.67436821151589,46.516566836948925,46.03885426927441,46.64456614476871,46.251297522201504,46.09525516560553,46.095337386348056,45.86500674373565,46.76091099399542,46.324977381834394,46.95920190516995,46.580221521007736,46.423696139573,46.408406655583434,46.14813376613185,47.000272758775594,46.507909506818116,47.074579791024824,46.61880073556878,46.37840233329778,46.27456671270049,45.92364153496491,46.685684531793655,46.10646638409854,46.592156103481685,46.063779768346265,45.761482615993025,45.60850407413791,45.222933900959625,45.96620802463421,45.385072617858725,45.88624162233079,45.39083931705851,45.13865834271799,45.052142834958644,44.748164563460904,45.58655006293322,45.11208637333525,45.729229400599095,45.35660503841175,45.23133180349923,45.27307281968628,45.09588312518159,46.05680831773775,45.697960191252314,46.42129147506321,46.143158034341255,46.09869566968909,46.20591794963472,46.07759989978383,47.06990269454498,46.72446443980807,47.44317890994737,47.14275067021214,47.05905411036807,47.11120351095731,46.91339993015606,47.823511265979825,47.38511199750638,48.00220604562139,47.59372287497141,47.397816115297324,47.335873584938135,47.024306222241655,47.823073902980006,47.27767612931863,47.79383232823491,47.29194295782051,47.011361526070964,46.87438695960423,46.49804409785542,47.24261027188333,46.65361565003417,47.136541514696106,46.611306845815776,46.31657227362543,46.17376961192183,45.79892337902013,46.55122079971032,45.97505645567947,46.47477423366881,45.96919548099575,45.69596106037514,45.575594284191546,45.223350081822694,45.99780605096642,45.44292095444495,45.96278296096886,45.476136453289755,45.22071527575415,45.11728984017033,44.78149412561036,45.572389124549545,45.03448938732068,45.572476205786515,45.10568761247785,44.872414484743494,44.79391160752299,44.48619113378522,45.308556319613636,44.805603386585354,45.38191608750204,44.95654398541369,44.767294337505874,44.73474678543275,44.47405837038949,45.343516554656446,44.886567635119484,45.506544397941305,45.12118305748283,44.96695819278011,44.963143528514884,44.723664589434634,45.6056993317627,45.15175252013518,45.76442609478896,45.360974032227226,45.1776689878332,45.13388730555798,44.84397736777221,45.665866576874706,45.1431321993224,45.679758075579606,45.19466576826382,44.92604782047852,44.79541040197861,44.419391303037244,45.158309824106574,44.5581752856329,45.02537785170155,44.48115207921272,44.165842800947416,44.002882597123225,43.61054877468793,44.350458285264,43.7695290553814,44.274632983726086,43.78703234070222,43.54663022140359,43.4759450329491,43.1918773183477,44.054227370642295,43.60769176618817,44.25656336390189,43.919225448782235,43.83246928975372,43.91554342214325,43.78200104024358,44.788301842027764,44.47589420559807,45.24599991945375,45.0141898097818,45.01477725535188,45.164935741992764,45.076604867412684,46.10513940541772,45.79142586980883,46.53668769821196,46.25706666980682,46.18800721537257,46.248349850224066,46.05219863236008,46.95751814964529,46.50818575341358,47.10872178608306,46.6787873519685,46.457478481782715,46.3673253111597,46.026063698208326,46.79513737015776,46.22165889490343,46.7130547237346,46.19148620344958,45.898077541186474,45.756861198577724,45.3865096660782,46.148812859307895,45.590630176059456,46.11854277171996,45.653297820270694,45.434075172083304,45.38248588561086,45.114370182807164,45.98835230437361,45.54787922085587,46.195966413911584,45.84973995491721,45.74480262522102,45.79933083468715,45.62596718982896,46.58046358558851,46.20379934386797,46.89699541702577,46.57571198569912,46.47465564903741,46.511701812802144,46.29979640326841,47.19559150616373,46.741539635610934,47.34066828580142,46.91112316448367,46.690507782408545,46.599926845984996,46.25579973780522,47.01840109652001,46.433855802082746,46.908812736970546,46.36488848208491,46.04291134630466,45.86687579196194,45.45567597339995,46.171577583402744,45.56215718725431,46.03493492774241,45.51179287033459,45.23321006564122,45.122224619151076,44.796191257471534,45.61529290936517,45.12453437606188,45.72844247193121,45.345563047839846,45.21278381540394,45.249390861594605,45.068924768169154,46.027792176708886,45.667358168190646,46.38874117910618,46.10739832745367,46.057527717240724,46.15619351501476,46.01523792697019,46.98993448954336,46.62110700965026,47.30993526543457,46.97253516541517,46.84434019700067,46.844190647623584,46.58619582221197,47.42832513677381,46.914454219549484,47.449089201529084,46.951859181065146,46.66180613064807,46.50138124730659,46.08821549853705,46.783622711060644,46.13456367223595,46.548296570957916,45.94680565626576,45.57103897312042,45.34486542454,44.88681978475801,45.55859448795165,44.90700673515754,45.33866591730851,44.77443251588001,44.45369826137208,44.29839639203999,43.9248089476692,44.69212800165057,44.14449727961422,44.685756957228755,44.23398054761573,44.02583142720961,43.98064569528195],\"type\":\"scatter\"},{\"line\":{\"color\":\"#10b981\",\"width\":3},\"mode\":\"lines\",\"name\":\"Forecast (yhat)\",\"x\":[\"2024-05-05T00:00:00\",\"2024-05-06T00:00:00\",\"2024-05-07T00:00:00\",\"2024-05-08T00:00:00\",\"2024-05-09T00:00:00\",\"2024-05-10T00:00:00\",\"2024-05-11T00:00:00\",\"2024-05-12T00:00:00\",\"2024-05-13T00:00:00\",\"2024-05-14T00:00:00\",\"2024-05-15T00:00:00\",\"2024-05-16T00:00:00\",\"2024-05-17T00:00:00\",\"2024-05-18T00:00:00\",\"2024-05-19T00:00:00\",\"2024-05-20T00:00:00\",\"2024-05-21T00:00:00\",\"2024-05-22T00:00:00\",\"2024-05-23T00:00:00\",\"2024-05-24T00:00:00\",\"2024-05-25T00:00:00\",\"2024-05-26T00:00:00\",\"2024-05-27T00:00:00\",\"2024-05-28T00:00:00\",\"2024-05-29T00:00:00\",\"2024-05-30T00:00:00\",\"2024-05-31T00:00:00\",\"2024-06-01T00:00:00\",\"2024-06-02T00:00:00\",\"2024-06-03T00:00:00\"],\"y\":[43.71230629972434,44.57786353195689,44.11962678980752,44.739949144822624,44.35579269421757,44.203101664879604,44.200889744331846,43.96310671381581,44.84723998230373,44.39637675041348,45.01394947551242,44.61825401982356,44.446769071774014,44.42018510791541,44.1542098762291,45.00810795962507,44.52670210282939,45.115060862946706,44.6929637326902,44.49917391921751,44.45542841731433,44.17821346822031,45.02728378122042,44.54765370467094,45.14428508358082,44.73656279992732,44.56258770433035,44.54319579922948,44.29377070894287,45.17280651519819],\"type\":\"scatter\"},{\"line\":{\"width\":0},\"mode\":\"lines\",\"showlegend\":false,\"x\":[\"2024-05-05T00:00:00\",\"2024-05-06T00:00:00\",\"2024-05-07T00:00:00\",\"2024-05-08T00:00:00\",\"2024-05-09T00:00:00\",\"2024-05-10T00:00:00\",\"2024-05-11T00:00:00\",\"2024-05-12T00:00:00\",\"2024-05-13T00:00:00\",\"2024-05-14T00:00:00\",\"2024-05-15T00:00:00\",\"2024-05-16T00:00:00\",\"2024-05-17T00:00:00\",\"2024-05-18T00:00:00\",\"2024-05-19T00:00:00\",\"2024-05-20T00:00:00\",\"2024-05-21T00:00:00\",\"2024-05-22T00:00:00\",\"2024-05-23T00:00:00\",\"2024-05-24T00:00:00\",\"2024-05-25T00:00:00\",\"2024-05-26T00:00:00\",\"2024-05-27T00:00:00\",\"2024-05-28T00:00:00\",\"2024-05-29T00:00:00\",\"2024-05-30T00:00:00\",\"2024-05-31T00:00:00\",\"2024-06-01T00:00:00\",\"2024-06-02T00:00:00\",\"2024-06-03T00:00:00\"],\"y\":[52.250878829052624,53.60028342417675,52.81699565570938,53.6744968382217,53.5310915973865,53.7775804101218,53.32519663011004,53.12010301640229,53.73167494443479,53.74502641959961,54.67236558231691,53.78124534117149,52.92766772131267,52.73196377602672,52.92883798876544,54.27094218897442,53.803517911514014,53.793393168876044,53.52441020270324,52.9592864648835,53.381148165370924,52.73945719685593,53.75276153800648,53.75427389756658,53.52141691868269,53.82119449151226,53.48854596524391,53.91335885957959,53.99874471554114,54.343188222994556],\"type\":\"scatter\"},{\"fill\":\"tonexty\",\"fillcolor\":\"rgba(16,185,129,0.15)\",\"line\":{\"width\":0},\"mode\":\"lines\",\"name\":\"Forecast interval\",\"x\":[\"2024-05-05T00:00:00\",\"2024-05-06T00:00:00\",\"2024-05-07T00:00:00\",\"2024-05-08T00:00:00\",\"2024-05-09T00:00:00\",\"2024-05-10T00:00:00\",\"2024-05-11T00:00:00\",\"2024-05-12T00:00:00\",\"2024-05-13T00:00:00\",\"2024-05-14T00:00:00\",\"2024-05-15T00:00:00\",\"2024-05-16T00:00:00\",\"2024-05-17T00:00:00\",\"2024-05-18T00:00:00\",\"2024-05-19T00:00:00\",\"2024-05-20T00:00:00\",\"2024-05-21T00:00:00\",\"2024-05-22T00:00:00\",\"2024-05-23T00:00:00\",\"2024-05-24T00:00:00\",\"2024-05-25T00:00:00\",\"2024-05-26T00:00:00\",\"2024-05-27T00:00:00\",\"2024-05-28T00:00:00\",\"2024-05-29T00:00:00\",\"2024-05-30T00:00:00\",\"2024-05-31T00:00:00\",\"2024-06-01T00:00:00\",\"2024-06-02T00:00:00\",\"2024-06-03T00:00:00\"],\"y\":[34.80591628340684,35.50760045306134,35.2173058163829,35.95866194020313,35.09479946797874,34.61819072624033,34.561294231742686,34.626565835322346,35.41825730316907,35.32738366146788,36.44153137834959,34.995681050743805,35.40109464195984,35.00803422721995,35.300663802561175,35.776484864904994,35.24965204525132,36.45521206546744,35.279148045367236,35.46473734732792,35.50205259835484,36.24729759216511,36.147213489991216,35.910128593810995,35.437884066231824,35.50448916819974,35.513554172536175,35.11746603820021,35.25017929892471,36.287955681209056],\"type\":\"scatter\"}],                        {\"template\":{\"data\":{\"histogram2dcontour\":[{\"type\":\"histogram2dcontour\",\"colorbar\":{\"outlinewidth\":0,\"ticks\":\"\"},\"colorscale\":[[0.0,\"#0d0887\"],[0.1111111111111111,\"#46039f\"],[0.2222222222222222,\"#7201a8\"],[0.3333333333333333,\"#9c179e\"],[0.4444444444444444,\"#bd3786\"],[0.5555555555555556,\"#d8576b\"],[0.6666666666666666,\"#ed7953\"],[0.7777777777777778,\"#fb9f3a\"],[0.8888888888888888,\"#fdca26\"],[1.0,\"#f0f921\"]]}],\"choropleth\":[{\"type\":\"choropleth\",\"colorbar\":{\"outlinewidth\":0,\"ticks\":\"\"}}],\"histogram2d\":[{\"type\":\"histogram2d\",\"colorbar\":{\"outlinewidth\":0,\"ticks\":\"\"},\"colorscale\":[[0.0,\"#0d0887\"],[0.1111111111111111,\"#46039f\"],[0.2222222222222222,\"#7201a8\"],[0.3333333333333333,\"#9c179e\"],[0.4444444444444444,\"#bd3786\"],[0.5555555555555556,\"#d8576b\"],[0.6666666666666666,\"#ed7953\"],[0.7777777777777778,\"#fb9f3a\"],[0.8888888888888888,\"#fdca26\"],[1.0,\"#f0f921\"]]}],\"heatmap\":[{\"type\":\"heatmap\",\"colorbar\":{\"outlinewidth\":0,\"ticks\":\"\"},\"colorscale\":[[0.0,\"#0d0887\"],[0.1111111111111111,\"#46039f\"],[0.2222222222222222,\"#7201a8\"],[0.3333333333333333,\"#9c179e\"],[0.4444444444444444,\"#bd3786\"],[0.5555555555555556,\"#d8576b\"],[0.6666666666666666,\"#ed7953\"],[0.7777777777777778,\"#fb9f3a\"],[0.8888888888888888,\"#fdca26\"],[1.0,\"#f0f921\"]]}],\"heatmapgl\":[{\"type\":\"heatmapgl\",\"colorbar\":{\"outlinewidth\":0,\"ticks\":\"\"},\"colorscale\":[[0.0,\"#0d0887\"],[0.1111111111111111,\"#46039f\"],[0.2222222222222222,\"#7201a8\"],[0.3333333333333333,\"#9c179e\"],[0.4444444444444444,\"#bd3786\"],[0.5555555555555556,\"#d8576b\"],[0.6666666666666666,\"#ed7953\"],[0.7777777777777778,\"#fb9f3a\"],[0.8888888888888888,\"#fdca26\"],[1.0,\"#f0f921\"]]}],\"contourcarpet\":[{\"type\":\"contourcarpet\",\"colorbar\":{\"outlinewidth\":0,\"ticks\":\"\"}}],\"contour\":[{\"type\":\"contour\",\"colorbar\":{\"outlinewidth\":0,\"ticks\":\"\"},\"colorscale\":[[0.0,\"#0d0887\"],[0.1111111111111111,\"#46039f\"],[0.2222222222222222,\"#7201a8\"],[0.3333333333333333,\"#9c179e\"],[0.4444444444444444,\"#bd3786\"],[0.5555555555555556,\"#d8576b\"],[0.6666666666666666,\"#ed7953\"],[0.7777777777777778,\"#fb9f3a\"],[0.8888888888888888,\"#fdca26\"],[1.0,\"#f0f921\"]]}],\"surface\":[{\"type\":\"surface\",\"colorbar\":{\"outlinewidth\":0,\"ticks\":\"\"},\"colorscale\":[[0.0,\"#0d0887\"],[0.1111111111111111,\"#46039f\"],[0.2222222222222222,\"#7201a8\"],[0.3333333333333333,\"#9c179e\"],[0.4444444444444444,\"#bd3786\"],[0.5555555555555556,\"#d8576b\"],[0.6666666666666666,\"#ed7953\"],[0.7777777777777778,\"#fb9f3a\"],[0.8888888888888888,\"#fdca26\"],[1.0,\"#f0f921\"]]}],\"mesh3d\":[{\"type\":\"mesh3d\",\"colorbar\":{\"outlinewidth\":0,\"ticks\":\"\"}}],\"scatter\":[{\"fillpattern\":{\"fillmode\":\"overlay\",\"size\":10,\"solidity\":0.2},\"type\":\"scatter\"}],\"parcoords\":[{\"type\":\"parcoords\",\"line\":{\"colorbar\":{\"outlinewidth\":0,\"ticks\":\"\"}}}],\"scatterpolargl\":[{\"type\":\"scatterpolargl\",\"marker\":{\"colorbar\":{\"outlinewidth\":0,\"ticks\":\"\"}}}],\"bar\":[{\"error_x\":{\"color\":\"#2a3f5f\"},\"error_y\":{\"color\":\"#2a3f5f\"},\"marker\":{\"line\":{\"color\":\"#E5ECF6\",\"width\":0.5},\"pattern\":{\"fillmode\":\"overlay\",\"size\":10,\"solidity\":0.2}},\"type\":\"bar\"}],\"scattergeo\":[{\"type\":\"scattergeo\",\"marker\":{\"colorbar\":{\"outlinewidth\":0,\"ticks\":\"\"}}}],\"scatterpolar\":[{\"type\":\"scatterpolar\",\"marker\":{\"colorbar\":{\"outlinewidth\":0,\"ticks\":\"\"}}}],\"histogram\":[{\"marker\":{\"pattern\":{\"fillmode\":\"overlay\",\"size\":10,\"solidity\":0.2}},\"type\":\"histogram\"}],\"scattergl\":[{\"type\":\"scattergl\",\"marker\":{\"colorbar\":{\"outlinewidth\":0,\"ticks\":\"\"}}}],\"scatter3d\":[{\"type\":\"scatter3d\",\"line\":{\"colorbar\":{\"outlinewidth\":0,\"ticks\":\"\"}},\"marker\":{\"colorbar\":{\"outlinewidth\":0,\"ticks\":\"\"}}}],\"scattermapbox\":[{\"type\":\"scattermapbox\",\"marker\":{\"colorbar\":{\"outlinewidth\":0,\"ticks\":\"\"}}}],\"scatterternary\":[{\"type\":\"scatterternary\",\"marker\":{\"colorbar\":{\"outlinewidth\":0,\"ticks\":\"\"}}}],\"scattercarpet\":[{\"type\":\"scattercarpet\",\"marker\":{\"colorbar\":{\"outlinewidth\":0,\"ticks\":\"\"}}}],\"carpet\":[{\"aaxis\":{\"endlinecolor\":\"#2a3f5f\",\"gridcolor\":\"white\",\"linecolor\":\"white\",\"minorgridcolor\":\"white\",\"startlinecolor\":\"#2a3f5f\"},\"baxis\":{\"endlinecolor\":\"#2a3f5f\",\"gridcolor\":\"white\",\"linecolor\":\"white\",\"minorgridcolor\":\"white\",\"startlinecolor\":\"#2a3f5f\"},\"type\":\"carpet\"}],\"table\":[{\"cells\":{\"fill\":{\"color\":\"#EBF0F8\"},\"line\":{\"color\":\"white\"}},\"header\":{\"fill\":{\"color\":\"#C8D4E3\"},\"line\":{\"color\":\"white\"}},\"type\":\"table\"}],\"barpolar\":[{\"marker\":{\"line\":{\"color\":\"#E5ECF6\",\"width\":0.5},\"pattern\":{\"fillmode\":\"overlay\",\"size\":10,\"solidity\":0.2}},\"type\":\"barpolar\"}],\"pie\":[{\"automargin\":true,\"type\":\"pie\"}]},\"layout\":{\"autotypenumbers\":\"strict\",\"colorway\":[\"#636efa\",\"#EF553B\",\"#00cc96\",\"#ab63fa\",\"#FFA15A\",\"#19d3f3\",\"#FF6692\",\"#B6E880\",\"#FF97FF\",\"#FECB52\"],\"font\":{\"color\":\"#2a3f5f\"},\"hovermode\":\"closest\",\"hoverlabel\":{\"align\":\"left\"},\"paper_bgcolor\":\"white\",\"plot_bgcolor\":\"#E5ECF6\",\"polar\":{\"bgcolor\":\"#E5ECF6\",\"angularaxis\":{\"gridcolor\":\"white\",\"linecolor\":\"white\",\"ticks\":\"\"},\"radialaxis\":{\"gridcolor\":\"white\",\"linecolor\":\"white\",\"ticks\":\"\"}},\"ternary\":{\"bgcolor\":\"#E5ECF6\",\"aaxis\":{\"gridcolor\":\"white\",\"linecolor\":\"white\",\"ticks\":\"\"},\"baxis\":{\"gridcolor\":\"white\",\"linecolor\":\"white\",\"ticks\":\"\"},\"caxis\":{\"gridcolor\":\"white\",\"linecolor\":\"white\",\"ticks\":\"\"}},\"coloraxis\":{\"colorbar\":{\"outlinewidth\":0,\"ticks\":\"\"}},\"colorscale\":{\"sequential\":[[0.0,\"#0d0887\"],[0.1111111111111111,\"#46039f\"],[0.2222222222222222,\"#7201a8\"],[0.3333333333333333,\"#9c179e\"],[0.4444444444444444,\"#bd3786\"],[0.5555555555555556,\"#d8576b\"],[0.6666666666666666,\"#ed7953\"],[0.7777777777777778,\"#fb9f3a\"],[0.8888888888888888,\"#fdca26\"],[1.0,\"#f0f921\"]],\"sequentialminus\":[[0.0,\"#0d0887\"],[0.1111111111111111,\"#46039f\"],[0.2222222222222222,\"#7201a8\"],[0.3333333333333333,\"#9c179e\"],[0.4444444444444444,\"#bd3786\"],[0.5555555555555556,\"#d8576b\"],[0.6666666666666666,\"#ed7953\"],[0.7777777777777778,\"#fb9f3a\"],[0.8888888888888888,\"#fdca26\"],[1.0,\"#f0f921\"]],\"diverging\":[[0,\"#8e0152\"],[0.1,\"#c51b7d\"],[0.2,\"#de77ae\"],[0.3,\"#f1b6da\"],[0.4,\"#fde0ef\"],[0.5,\"#f7f7f7\"],[0.6,\"#e6f5d0\"],[0.7,\"#b8e186\"],[0.8,\"#7fbc41\"],[0.9,\"#4d9221\"],[1,\"#276419\"]]},\"xaxis\":{\"gridcolor\":\"white\",\"linecolor\":\"white\",\"ticks\":\"\",\"title\":{\"standoff\":15},\"zerolinecolor\":\"white\",\"automargin\":true,\"zerolinewidth\":2},\"yaxis\":{\"gridcolor\":\"white\",\"linecolor\":\"white\",\"ticks\":\"\",\"title\":{\"standoff\":15},\"zerolinecolor\":\"white\",\"automargin\":true,\"zerolinewidth\":2},\"scene\":{\"xaxis\":{\"backgroundcolor\":\"#E5ECF6\",\"gridcolor\":\"white\",\"linecolor\":\"white\",\"showbackground\":true,\"ticks\":\"\",\"zerolinecolor\":\"white\",\"gridwidth\":2},\"yaxis\":{\"backgroundcolor\":\"#E5ECF6\",\"gridcolor\":\"white\",\"linecolor\":\"white\",\"showbackground\":true,\"ticks\":\"\",\"zerolinecolor\":\"white\",\"gridwidth\":2},\"zaxis\":{\"backgroundcolor\":\"#E5ECF6\",\"gridcolor\":\"white\",\"linecolor\":\"white\",\"showbackground\":true,\"ticks\":\"\",\"zerolinecolor\":\"white\",\"gridwidth\":2}},\"shapedefaults\":{\"line\":{\"color\":\"#2a3f5f\"}},\"annotationdefaults\":{\"arrowcolor\":\"#2a3f5f\",\"arrowhead\":0,\"arrowwidth\":1},\"geo\":{\"bgcolor\":\"white\",\"landcolor\":\"#E5ECF6\",\"subunitcolor\":\"white\",\"showland\":true,\"showlakes\":true,\"lakecolor\":\"white\"},\"title\":{\"x\":0.05},\"mapbox\":{\"style\":\"light\"}}},\"shapes\":[{\"line\":{\"color\":\"gray\",\"dash\":\"dot\"},\"type\":\"line\",\"x0\":\"2024-05-04T00:00:00\",\"x1\":\"2024-05-04T00:00:00\",\"xref\":\"x\",\"y0\":0,\"y1\":1,\"yref\":\"y domain\"}],\"annotations\":[{\"showarrow\":false,\"text\":\"Training horizon\",\"x\":\"2024-05-04T00:00:00\",\"y\":71,\"yshift\":16}],\"legend\":{\"title\":{\"text\":\"Series\"}},\"title\":{\"text\":\"Daily Demand \\u2014 Toothpaste (latest run: 2025-08-27 18:58:57 UTC)\"},\"xaxis\":{\"title\":{\"text\":\"Date\"}},\"yaxis\":{\"title\":{\"text\":\"Quantity\"}},\"height\":520},                        {\"responsive\": true}                    )                };                            </script>        </div>\n",
       "</body>\n",
       "</html>"
      ]
     },
     "metadata": {},
     "output_type": "display_data"
    }
   ],
   "source": [
    "# STEP 11: Visualization — Actuals + Prophet Forecast (latest run) per product\n",
    "\n",
    "from pyspark.sql import functions as F\n",
    "import plotly.graph_objects as go\n",
    "import pandas as pd\n",
    "\n",
    "CATALOG = \"retail_demand_catalog\"\n",
    "SCHEMA  = \"retail_demand_schema\"\n",
    "GOLD_DAILY   = f\"{CATALOG}.{SCHEMA}.gold_daily_product_demand\"\n",
    "GOLD_FCST    = f\"{CATALOG}.{SCHEMA}.gold_product_forecast\"\n",
    "GOLD_METRICS = f\"{CATALOG}.{SCHEMA}.gold_product_forecast_metrics\"\n",
    "\n",
    "spark.sql(f\"USE CATALOG {CATALOG}\")\n",
    "spark.sql(f\"USE {SCHEMA}\")\n",
    "\n",
    "# ----- Check tables exist -----\n",
    "tables_ok = True\n",
    "for t in [GOLD_DAILY, GOLD_FCST]:\n",
    "    try:\n",
    "        _ = spark.table(t).limit(1).count()\n",
    "    except Exception as e:\n",
    "        tables_ok = False\n",
    "\n",
    "if not tables_ok:\n",
    "    displayHTML(\"<h3>Required tables not found. Please complete Steps 7 and 10 first.</h3>\")\n",
    "else:\n",
    "    daily = spark.table(GOLD_DAILY)\n",
    "    fcst_all = spark.table(GOLD_FCST)\n",
    "    metrics_all = None\n",
    "    try:\n",
    "        metrics_all = spark.table(GOLD_METRICS)\n",
    "    except Exception:\n",
    "        metrics_all = None  # metrics are optional\n",
    "\n",
    "    # ----- Build product dropdown (top 50 by total demand) -----\n",
    "    prod_rows = (daily.groupBy(\"product_name\")\n",
    "                       .agg(F.sum(\"total_quantity\").alias(\"qty\"))\n",
    "                       .orderBy(F.desc(\"qty\"))\n",
    "                       .limit(50)\n",
    "                       .collect())\n",
    "    prod_list = [r[\"product_name\"] for r in prod_rows] or []\n",
    "    default_product = prod_list[0] if prod_list else \"\"\n",
    "\n",
    "    dbutils.widgets.removeAll()\n",
    "    dbutils.widgets.dropdown(\"product_name\", default_product, prod_list or [default_product or \"\"])\n",
    "    dbutils.widgets.dropdown(\"view\", \"All\", [\"All\", \"History+Forecast\", \"Forecast only\"], \"View\")\n",
    "\n",
    "    product = dbutils.widgets.get(\"product_name\")\n",
    "    view = dbutils.widgets.get(\"view\")\n",
    "\n",
    "    # ----- Pull actuals -----\n",
    "    sdf_actuals = (daily\n",
    "                   .filter(F.col(\"product_name\") == product)\n",
    "                   .select(F.col(\"Event_Date\").alias(\"ds\"),\n",
    "                           F.col(\"total_quantity\").alias(\"y\"))\n",
    "                   .orderBy(\"ds\"))\n",
    "\n",
    "    if sdf_actuals.limit(1).count() == 0:\n",
    "        displayHTML(f\"<h3>No data for product: <code>{product}</code></h3>\")\n",
    "    else:\n",
    "        pdf_actuals = sdf_actuals.toPandas()\n",
    "        pdf_actuals[\"ds\"] = pd.to_datetime(pdf_actuals[\"ds\"])\n",
    "\n",
    "        # ----- Find latest forecast run for this product -----\n",
    "        latest_run_row = (fcst_all\n",
    "                          .filter(F.col(\"product_name\") == product)\n",
    "                          .agg(F.max(\"run_timestamp_utc\").alias(\"run_ts\"))\n",
    "                          .collect())\n",
    "        if not latest_run_row or latest_run_row[0][\"run_ts\"] is None:\n",
    "            displayHTML(f\"<h3>No forecast found for product: <code>{product}</code>. Run Step 10.</h3>\")\n",
    "        else:\n",
    "            latest_run = latest_run_row[0][\"run_ts\"]\n",
    "\n",
    "            fcst = (fcst_all\n",
    "                    .filter((F.col(\"product_name\") == product) &\n",
    "                            (F.col(\"run_timestamp_utc\") == F.lit(latest_run)))\n",
    "                    .select(\"ds\", \"yhat\", \"yhat_lower\", \"yhat_upper\", \"is_future\")\n",
    "                    .orderBy(\"ds\"))\n",
    "            pdf_fcst = fcst.toPandas()\n",
    "            pdf_fcst[\"ds\"] = pd.to_datetime(pdf_fcst[\"ds\"])\n",
    "\n",
    "            # Determine train end (first day marked as future minus 1)\n",
    "            if \"is_future\" in pdf_fcst.columns and pdf_fcst[\"is_future\"].any():\n",
    "                first_future_idx = pdf_fcst.index[pdf_fcst[\"is_future\"]].min()\n",
    "                hist_end = pdf_fcst.loc[first_future_idx - 1, \"ds\"] if first_future_idx > 0 else pdf_actuals[\"ds\"].max()\n",
    "            else:\n",
    "                hist_end = pdf_actuals[\"ds\"].max()\n",
    "\n",
    "            # ----- Build Plotly figure -----\n",
    "            fig = go.Figure()\n",
    "\n",
    "            # Actuals (history)\n",
    "            if view in (\"All\", \"History+Forecast\"):\n",
    "                fig.add_trace(go.Scatter(\n",
    "                    x=pdf_actuals[\"ds\"], y=pdf_actuals[\"y\"],\n",
    "                    mode=\"lines+markers\", name=\"Actuals\",\n",
    "                    line=dict(color=\"#2563eb\")\n",
    "                ))\n",
    "\n",
    "            # Fitted on history (if available in forecast rows)\n",
    "            if view in (\"All\", \"History+Forecast\"):\n",
    "                fitted = pdf_fcst[pdf_fcst[\"ds\"] <= hist_end]\n",
    "                if not fitted.empty:\n",
    "                    fig.add_trace(go.Scatter(\n",
    "                        x=fitted[\"ds\"], y=fitted[\"yhat\"],\n",
    "                        mode=\"lines\", name=\"Fitted (yhat)\",\n",
    "                        line=dict(color=\"#10b981\", dash=\"dot\", width=2)\n",
    "                    ))\n",
    "\n",
    "            # Future forecast\n",
    "            fut = pdf_fcst[pdf_fcst[\"ds\"] > hist_end]\n",
    "            if not fut.empty:\n",
    "                fig.add_trace(go.Scatter(\n",
    "                    x=fut[\"ds\"], y=fut[\"yhat\"],\n",
    "                    mode=\"lines\", name=\"Forecast (yhat)\",\n",
    "                    line=dict(color=\"#10b981\", width=3)\n",
    "                ))\n",
    "                # Confidence band\n",
    "                fig.add_trace(go.Scatter(\n",
    "                    x=fut[\"ds\"], y=fut[\"yhat_upper\"], mode=\"lines\",\n",
    "                    line=dict(width=0), showlegend=False\n",
    "                ))\n",
    "                fig.add_trace(go.Scatter(\n",
    "                    x=fut[\"ds\"], y=fut[\"yhat_lower\"], mode=\"lines\",\n",
    "                    fill='tonexty', fillcolor=\"rgba(16,185,129,0.15)\",\n",
    "                    line=dict(width=0), name=\"Forecast interval\"\n",
    "                ))\n",
    "\n",
    "            # Vertical split line\n",
    "            fig.add_vline(x=hist_end, line_color=\"gray\", line_dash=\"dot\")\n",
    "            fig.add_annotation(x=hist_end, y=(max(pdf_actuals[\"y\"].max(), pdf_fcst[\"yhat\"].max()) if len(pdf_fcst) else pdf_actuals[\"y\"].max()),\n",
    "                               text=\"Training horizon\", showarrow=False, yshift=16)\n",
    "\n",
    "            fig.update_layout(\n",
    "                title=f\"Daily Demand — {product} (latest run: {latest_run} UTC)\",\n",
    "                xaxis_title=\"Date\",\n",
    "                yaxis_title=\"Quantity\",\n",
    "                legend_title_text=\"Series\",\n",
    "                height=520\n",
    "            )\n",
    "\n",
    "            # ----- Metrics panel (latest run) -----\n",
    "            metrics_html = \"\"\n",
    "            if metrics_all is not None:\n",
    "                met = (metrics_all\n",
    "                       .filter((F.col(\"product_name\") == product) &\n",
    "                               (F.col(\"run_timestamp_utc\") == F.lit(latest_run)))\n",
    "                       .select(\"mae\",\"rmse\",\"smape\",\"test_days\")\n",
    "                       .limit(1)\n",
    "                       .toPandas())\n",
    "                if not met.empty:\n",
    "                    mae = met.loc[0, \"mae\"]\n",
    "                    rmse = met.loc[0, \"rmse\"]\n",
    "                    smape = met.loc[0, \"smape\"]\n",
    "                    test_days = met.loc[0, \"test_days\"]\n",
    "                    metrics_html = f\"\"\"\n",
    "                    <div style=\"margin:10px 0;padding:10px;border-left:4px solid #22c55e;background:#f0fff4;\">\n",
    "                      <b>Backtest metrics (last {int(test_days)} days)</b><br/>\n",
    "                      MAE: <code>{mae:.3f}</code> &nbsp;&nbsp;\n",
    "                      RMSE: <code>{rmse:.3f}</code> &nbsp;&nbsp;\n",
    "                      sMAPE: <code>{(smape*100 if pd.notnull(smape) else float('nan')):.2f}%</code>\n",
    "                    </div>\n",
    "                    \"\"\"\n",
    "\n",
    "            if metrics_html:\n",
    "                displayHTML(metrics_html)\n",
    "            displayHTML(fig.to_html(include_plotlyjs=\"cdn\"))\n"
   ]
  }
 ],
 "metadata": {
  "application/vnd.databricks.v1+notebook": {
   "computePreferences": null,
   "dashboards": [],
   "environmentMetadata": {
    "base_environment": "",
    "environment_version": "3"
   },
   "inputWidgetPreferences": null,
   "language": "python",
   "notebookMetadata": {
    "pythonIndentUnit": 4
   },
   "notebookName": "Retail_Demand_Forecast_Project",
   "widgets": {
    "product_name": {
     "currentValue": "Toothpaste",
     "nuid": "bc39db6f-8c89-4318-ba26-6ccdd10c2fb7",
     "typedWidgetInfo": {
      "autoCreated": false,
      "defaultValue": "Toothpaste",
      "label": null,
      "name": "product_name",
      "options": {
       "widgetDisplayType": "Dropdown",
       "choices": [
        "Toothpaste",
        "Ice Cream",
        "Soap",
        "Jam",
        "Orange",
        "Soda",
        "Deodorant",
        "Cleaning Rags",
        "Air Freshener",
        "Peanut Butter",
        "Banana",
        "Baby Wipes",
        "Cleaning Spray",
        "Laundry Detergent",
        "Yogurt",
        "Plant Fertilizer",
        "Ironing Board",
        "Carrots",
        "Mustard",
        "Bath Towels",
        "Beef",
        "Chips",
        "Honey",
        "Shampoo",
        "Milk",
        "Insect Repellent",
        "Extension Cords",
        "Sponges",
        "Tomatoes",
        "Pasta",
        "Coffee",
        "Shaving Cream",
        "Eggs",
        "Trash Cans",
        "Onions",
        "Olive Oil",
        "BBQ Sauce",
        "Light Bulbs",
        "Garden Hose",
        "Rice",
        "Potatoes",
        "Cheese",
        "Salmon",
        "Feminine Hygiene Products",
        "Pancake Mix",
        "Lawn Mower",
        "Pickles",
        "Cereal Bars",
        "Hair Gel",
        "Diapers"
       ],
       "fixedDomain": true,
       "multiselect": false
      },
      "parameterDataType": "String"
     },
     "widgetInfo": {
      "widgetType": "dropdown",
      "defaultValue": "Toothpaste",
      "label": null,
      "name": "product_name",
      "options": {
       "widgetType": "dropdown",
       "autoCreated": false,
       "choices": [
        "Toothpaste",
        "Ice Cream",
        "Soap",
        "Jam",
        "Orange",
        "Soda",
        "Deodorant",
        "Cleaning Rags",
        "Air Freshener",
        "Peanut Butter",
        "Banana",
        "Baby Wipes",
        "Cleaning Spray",
        "Laundry Detergent",
        "Yogurt",
        "Plant Fertilizer",
        "Ironing Board",
        "Carrots",
        "Mustard",
        "Bath Towels",
        "Beef",
        "Chips",
        "Honey",
        "Shampoo",
        "Milk",
        "Insect Repellent",
        "Extension Cords",
        "Sponges",
        "Tomatoes",
        "Pasta",
        "Coffee",
        "Shaving Cream",
        "Eggs",
        "Trash Cans",
        "Onions",
        "Olive Oil",
        "BBQ Sauce",
        "Light Bulbs",
        "Garden Hose",
        "Rice",
        "Potatoes",
        "Cheese",
        "Salmon",
        "Feminine Hygiene Products",
        "Pancake Mix",
        "Lawn Mower",
        "Pickles",
        "Cereal Bars",
        "Hair Gel",
        "Diapers"
       ]
      }
     }
    },
    "view": {
     "currentValue": "All",
     "nuid": "048af792-ebd8-468d-b55d-2c2d9ba4334c",
     "typedWidgetInfo": {
      "autoCreated": false,
      "defaultValue": "All",
      "label": "View",
      "name": "view",
      "options": {
       "widgetDisplayType": "Dropdown",
       "choices": [
        "All",
        "History+Forecast",
        "Forecast only"
       ],
       "fixedDomain": true,
       "multiselect": false
      },
      "parameterDataType": "String"
     },
     "widgetInfo": {
      "widgetType": "dropdown",
      "defaultValue": "All",
      "label": "View",
      "name": "view",
      "options": {
       "widgetType": "dropdown",
       "autoCreated": false,
       "choices": [
        "All",
        "History+Forecast",
        "Forecast only"
       ]
      }
     }
    }
   }
  },
  "language_info": {
   "name": "python"
  }
 },
 "nbformat": 4,
 "nbformat_minor": 0
}