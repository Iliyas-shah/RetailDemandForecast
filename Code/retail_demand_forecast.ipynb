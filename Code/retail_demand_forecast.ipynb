{
 "cells": [
  {
   "cell_type": "code",
   "execution_count": 0,
   "metadata": {
    "application/vnd.databricks.v1+cell": {
     "cellMetadata": {
      "byteLimit": 2048000,
      "rowLimit": 10000
     },
     "inputWidgets": {},
     "nuid": "3364eb8e-a446-444f-8b10-44587b3c891e",
     "showTitle": false,
     "tableResultSettingsMap": {},
     "title": ""
    }
   },
   "outputs": [
    {
     "output_type": "display_data",
     "data": {
      "text/html": [
       "<style scoped>\n",
       "  .table-result-container {\n",
       "    max-height: 300px;\n",
       "    overflow: auto;\n",
       "  }\n",
       "  table, th, td {\n",
       "    border: 1px solid black;\n",
       "    border-collapse: collapse;\n",
       "  }\n",
       "  th, td {\n",
       "    padding: 5px;\n",
       "  }\n",
       "  th {\n",
       "    text-align: left;\n",
       "  }\n",
       "</style><div class='table-result-container'><table class='table-result'><thead style='background-color: white'><tr><th>Transaction_ID</th><th>Date</th><th>Customer_Name</th><th>Product</th><th>Total_Items</th><th>Total_Cost</th><th>Payment_Method</th><th>City</th><th>Store_Type</th><th>Discount_Applied</th><th>Customer_Category</th><th>Season</th><th>Promotion</th></tr></thead><tbody><tr><td>1000000000</td><td>2022-01-21 06:27:29</td><td>Stacey Price</td><td>['Ketchup', 'Shaving Cream', 'Light Bulbs']</td><td>3</td><td>71.65</td><td>Mobile Payment</td><td>Los Angeles</td><td>Warehouse Club</td><td>True</td><td>Homemaker</td><td>Winter</td><td>None</td></tr><tr><td>1000000001</td><td>2023-03-01 13:01:21</td><td>Michelle Carlson</td><td>['Ice Cream', 'Milk', 'Olive Oil', 'Bread', 'Potatoes']</td><td>2</td><td>25.93</td><td>Cash</td><td>San Francisco</td><td>Specialty Store</td><td>True</td><td>Professional</td><td>Fall</td><td>BOGO (Buy One Get One)</td></tr><tr><td>1000000002</td><td>2024-03-21 15:37:04</td><td>Lisa Graves</td><td>['Spinach']</td><td>6</td><td>41.49</td><td>Credit Card</td><td>Houston</td><td>Department Store</td><td>True</td><td>Professional</td><td>Winter</td><td>None</td></tr><tr><td>1000000003</td><td>2020-10-31 09:59:47</td><td>Mrs. Patricia May</td><td>['Tissues', 'Mustard']</td><td>1</td><td>39.34</td><td>Mobile Payment</td><td>Chicago</td><td>Pharmacy</td><td>True</td><td>Homemaker</td><td>Spring</td><td>None</td></tr><tr><td>1000000004</td><td>2020-12-10 00:59:59</td><td>Susan Mitchell</td><td>['Dish Soap']</td><td>10</td><td>16.42</td><td>Debit Card</td><td>Houston</td><td>Specialty Store</td><td>False</td><td>Young Adult</td><td>Winter</td><td>Discount on Selected Items</td></tr></tbody></table></div>"
      ]
     },
     "metadata": {
      "application/vnd.databricks.v1+output": {
       "addedWidgets": {},
       "aggData": [],
       "aggError": "",
       "aggOverflow": false,
       "aggSchema": [],
       "aggSeriesLimitReached": false,
       "aggType": "",
       "arguments": {},
       "columnCustomDisplayInfos": {},
       "data": [
        [
         "1000000000",
         "2022-01-21 06:27:29",
         "Stacey Price",
         "['Ketchup', 'Shaving Cream', 'Light Bulbs']",
         "3",
         "71.65",
         "Mobile Payment",
         "Los Angeles",
         "Warehouse Club",
         "True",
         "Homemaker",
         "Winter",
         "None"
        ],
        [
         "1000000001",
         "2023-03-01 13:01:21",
         "Michelle Carlson",
         "['Ice Cream', 'Milk', 'Olive Oil', 'Bread', 'Potatoes']",
         "2",
         "25.93",
         "Cash",
         "San Francisco",
         "Specialty Store",
         "True",
         "Professional",
         "Fall",
         "BOGO (Buy One Get One)"
        ],
        [
         "1000000002",
         "2024-03-21 15:37:04",
         "Lisa Graves",
         "['Spinach']",
         "6",
         "41.49",
         "Credit Card",
         "Houston",
         "Department Store",
         "True",
         "Professional",
         "Winter",
         "None"
        ],
        [
         "1000000003",
         "2020-10-31 09:59:47",
         "Mrs. Patricia May",
         "['Tissues', 'Mustard']",
         "1",
         "39.34",
         "Mobile Payment",
         "Chicago",
         "Pharmacy",
         "True",
         "Homemaker",
         "Spring",
         "None"
        ],
        [
         "1000000004",
         "2020-12-10 00:59:59",
         "Susan Mitchell",
         "['Dish Soap']",
         "10",
         "16.42",
         "Debit Card",
         "Houston",
         "Specialty Store",
         "False",
         "Young Adult",
         "Winter",
         "Discount on Selected Items"
        ]
       ],
       "datasetInfos": [],
       "dbfsResultPath": null,
       "isJsonSchema": true,
       "metadata": {},
       "overflow": false,
       "plotOptions": {
        "customPlotOptions": {},
        "displayType": "table",
        "pivotAggregation": null,
        "pivotColumns": null,
        "xColumns": null,
        "yColumns": null
       },
       "removedWidgets": [],
       "schema": [
        {
         "metadata": "{}",
         "name": "Transaction_ID",
         "type": "\"string\""
        },
        {
         "metadata": "{}",
         "name": "Date",
         "type": "\"string\""
        },
        {
         "metadata": "{}",
         "name": "Customer_Name",
         "type": "\"string\""
        },
        {
         "metadata": "{}",
         "name": "Product",
         "type": "\"string\""
        },
        {
         "metadata": "{}",
         "name": "Total_Items",
         "type": "\"string\""
        },
        {
         "metadata": "{}",
         "name": "Total_Cost",
         "type": "\"string\""
        },
        {
         "metadata": "{}",
         "name": "Payment_Method",
         "type": "\"string\""
        },
        {
         "metadata": "{}",
         "name": "City",
         "type": "\"string\""
        },
        {
         "metadata": "{}",
         "name": "Store_Type",
         "type": "\"string\""
        },
        {
         "metadata": "{}",
         "name": "Discount_Applied",
         "type": "\"string\""
        },
        {
         "metadata": "{}",
         "name": "Customer_Category",
         "type": "\"string\""
        },
        {
         "metadata": "{}",
         "name": "Season",
         "type": "\"string\""
        },
        {
         "metadata": "{}",
         "name": "Promotion",
         "type": "\"string\""
        }
       ],
       "type": "table"
      }
     },
     "output_type": "display_data"
    }
   ],
   "source": [
    "df = spark.read.option(\"header\", True).csv(\"/Volumes/retail_catalog/retail_schema/retail_volume/Retail_Transactions_Dataset.csv\")\n",
    "display(df.limit(5))\n"
   ]
  },
  {
   "cell_type": "code",
   "execution_count": 0,
   "metadata": {
    "application/vnd.databricks.v1+cell": {
     "cellMetadata": {
      "byteLimit": 2048000,
      "rowLimit": 10000
     },
     "inputWidgets": {},
     "nuid": "373260db-f53b-41d1-a7d4-5cb716fd4c8f",
     "showTitle": false,
     "tableResultSettingsMap": {},
     "title": ""
    }
   },
   "outputs": [
    {
     "output_type": "display_data",
     "data": {
      "text/html": [
       "<style scoped>\n",
       "  .table-result-container {\n",
       "    max-height: 300px;\n",
       "    overflow: auto;\n",
       "  }\n",
       "  table, th, td {\n",
       "    border: 1px solid black;\n",
       "    border-collapse: collapse;\n",
       "  }\n",
       "  th, td {\n",
       "    padding: 5px;\n",
       "  }\n",
       "  th {\n",
       "    text-align: left;\n",
       "  }\n",
       "</style><div class='table-result-container'><table class='table-result'><thead style='background-color: white'><tr><th>Transaction_ID</th><th>Date</th><th>Customer_Name</th><th>Product</th><th>Total_Items</th><th>Total_Cost</th><th>Payment_Method</th><th>City</th><th>Store_Type</th><th>Discount_Applied</th><th>Customer_Category</th><th>Season</th><th>Promotion</th></tr></thead><tbody><tr><td>1000000000</td><td>2022-01-21T06:27:29.000Z</td><td>Stacey Price</td><td>['Ketchup', 'Shaving Cream', 'Light Bulbs']</td><td>3</td><td>71.65</td><td>Mobile Payment</td><td>Los Angeles</td><td>Warehouse Club</td><td>true</td><td>Homemaker</td><td>Winter</td><td>None</td></tr><tr><td>1000000001</td><td>2023-03-01T13:01:21.000Z</td><td>Michelle Carlson</td><td>['Ice Cream', 'Milk', 'Olive Oil', 'Bread', 'Potatoes']</td><td>2</td><td>25.93</td><td>Cash</td><td>San Francisco</td><td>Specialty Store</td><td>true</td><td>Professional</td><td>Fall</td><td>BOGO (Buy One Get One)</td></tr><tr><td>1000000002</td><td>2024-03-21T15:37:04.000Z</td><td>Lisa Graves</td><td>['Spinach']</td><td>6</td><td>41.49</td><td>Credit Card</td><td>Houston</td><td>Department Store</td><td>true</td><td>Professional</td><td>Winter</td><td>None</td></tr><tr><td>1000000003</td><td>2020-10-31T09:59:47.000Z</td><td>Mrs. Patricia May</td><td>['Tissues', 'Mustard']</td><td>1</td><td>39.34</td><td>Mobile Payment</td><td>Chicago</td><td>Pharmacy</td><td>true</td><td>Homemaker</td><td>Spring</td><td>None</td></tr><tr><td>1000000004</td><td>2020-12-10T00:59:59.000Z</td><td>Susan Mitchell</td><td>['Dish Soap']</td><td>10</td><td>16.42</td><td>Debit Card</td><td>Houston</td><td>Specialty Store</td><td>false</td><td>Young Adult</td><td>Winter</td><td>Discount on Selected Items</td></tr></tbody></table></div>"
      ]
     },
     "metadata": {
      "application/vnd.databricks.v1+output": {
       "addedWidgets": {},
       "aggData": [],
       "aggError": "",
       "aggOverflow": false,
       "aggSchema": [],
       "aggSeriesLimitReached": false,
       "aggType": "",
       "arguments": {},
       "columnCustomDisplayInfos": {},
       "data": [
        [
         1000000000,
         "2022-01-21T06:27:29.000Z",
         "Stacey Price",
         "['Ketchup', 'Shaving Cream', 'Light Bulbs']",
         3,
         71.65,
         "Mobile Payment",
         "Los Angeles",
         "Warehouse Club",
         true,
         "Homemaker",
         "Winter",
         "None"
        ],
        [
         1000000001,
         "2023-03-01T13:01:21.000Z",
         "Michelle Carlson",
         "['Ice Cream', 'Milk', 'Olive Oil', 'Bread', 'Potatoes']",
         2,
         25.93,
         "Cash",
         "San Francisco",
         "Specialty Store",
         true,
         "Professional",
         "Fall",
         "BOGO (Buy One Get One)"
        ],
        [
         1000000002,
         "2024-03-21T15:37:04.000Z",
         "Lisa Graves",
         "['Spinach']",
         6,
         41.49,
         "Credit Card",
         "Houston",
         "Department Store",
         true,
         "Professional",
         "Winter",
         "None"
        ],
        [
         1000000003,
         "2020-10-31T09:59:47.000Z",
         "Mrs. Patricia May",
         "['Tissues', 'Mustard']",
         1,
         39.34,
         "Mobile Payment",
         "Chicago",
         "Pharmacy",
         true,
         "Homemaker",
         "Spring",
         "None"
        ],
        [
         1000000004,
         "2020-12-10T00:59:59.000Z",
         "Susan Mitchell",
         "['Dish Soap']",
         10,
         16.42,
         "Debit Card",
         "Houston",
         "Specialty Store",
         false,
         "Young Adult",
         "Winter",
         "Discount on Selected Items"
        ]
       ],
       "datasetInfos": [],
       "dbfsResultPath": null,
       "isJsonSchema": true,
       "metadata": {},
       "overflow": false,
       "plotOptions": {
        "customPlotOptions": {},
        "displayType": "table",
        "pivotAggregation": null,
        "pivotColumns": null,
        "xColumns": null,
        "yColumns": null
       },
       "removedWidgets": [],
       "schema": [
        {
         "metadata": "{}",
         "name": "Transaction_ID",
         "type": "\"integer\""
        },
        {
         "metadata": "{}",
         "name": "Date",
         "type": "\"timestamp\""
        },
        {
         "metadata": "{}",
         "name": "Customer_Name",
         "type": "\"string\""
        },
        {
         "metadata": "{}",
         "name": "Product",
         "type": "\"string\""
        },
        {
         "metadata": "{}",
         "name": "Total_Items",
         "type": "\"integer\""
        },
        {
         "metadata": "{}",
         "name": "Total_Cost",
         "type": "\"double\""
        },
        {
         "metadata": "{}",
         "name": "Payment_Method",
         "type": "\"string\""
        },
        {
         "metadata": "{}",
         "name": "City",
         "type": "\"string\""
        },
        {
         "metadata": "{}",
         "name": "Store_Type",
         "type": "\"string\""
        },
        {
         "metadata": "{}",
         "name": "Discount_Applied",
         "type": "\"boolean\""
        },
        {
         "metadata": "{}",
         "name": "Customer_Category",
         "type": "\"string\""
        },
        {
         "metadata": "{}",
         "name": "Season",
         "type": "\"string\""
        },
        {
         "metadata": "{}",
         "name": "Promotion",
         "type": "\"string\""
        }
       ],
       "type": "table"
      }
     },
     "output_type": "display_data"
    },
    {
     "output_type": "stream",
     "name": "stdout",
     "output_type": "stream",
     "text": [
      "root\n |-- Transaction_ID: integer (nullable = true)\n |-- Date: timestamp (nullable = true)\n |-- Customer_Name: string (nullable = true)\n |-- Product: string (nullable = true)\n |-- Total_Items: integer (nullable = true)\n |-- Total_Cost: double (nullable = true)\n |-- Payment_Method: string (nullable = true)\n |-- City: string (nullable = true)\n |-- Store_Type: string (nullable = true)\n |-- Discount_Applied: boolean (nullable = true)\n |-- Customer_Category: string (nullable = true)\n |-- Season: string (nullable = true)\n |-- Promotion: string (nullable = true)\n\n"
     ]
    }
   ],
   "source": [
    "# Replace with your actual catalog/schema/volume names\n",
    "file_path = \"/Volumes/retail_catalog/retail_schema/retail_volume/Retail_Transactions_Dataset.csv\"\n",
    "\n",
    "# Load CSV into Spark DataFrame\n",
    "df = spark.read.option(\"header\", True).option(\"inferSchema\", True).csv(file_path)\n",
    "\n",
    "# Show first few rows\n",
    "display(df.limit(5))\n",
    "\n",
    "# Check schema\n",
    "df.printSchema()\n"
   ]
  },
  {
   "cell_type": "code",
   "execution_count": 0,
   "metadata": {
    "application/vnd.databricks.v1+cell": {
     "cellMetadata": {
      "byteLimit": 2048000,
      "rowLimit": 10000
     },
     "inputWidgets": {},
     "nuid": "5adb5505-731e-4154-8c60-d7c90c3b4bfd",
     "showTitle": false,
     "tableResultSettingsMap": {},
     "title": ""
    }
   },
   "outputs": [
    {
     "output_type": "display_data",
     "data": {
      "text/html": [
       "<style scoped>\n",
       "  .table-result-container {\n",
       "    max-height: 300px;\n",
       "    overflow: auto;\n",
       "  }\n",
       "  table, th, td {\n",
       "    border: 1px solid black;\n",
       "    border-collapse: collapse;\n",
       "  }\n",
       "  th, td {\n",
       "    padding: 5px;\n",
       "  }\n",
       "  th {\n",
       "    text-align: left;\n",
       "  }\n",
       "</style><div class='table-result-container'><table class='table-result'><thead style='background-color: white'><tr><th>Transaction_ID</th><th>Date</th><th>Customer_Name</th><th>Product</th><th>Total_Items</th><th>Total_Cost</th><th>Payment_Method</th><th>City</th><th>Store_Type</th><th>Discount_Applied</th><th>Customer_Category</th><th>Season</th><th>Promotion</th><th>event_ts</th><th>event_date</th></tr></thead><tbody><tr><td>1000000000</td><td>2022-01-21T06:27:29.000Z</td><td>Stacey Price</td><td>['Ketchup', 'Shaving Cream', 'Light Bulbs']</td><td>3</td><td>71.65</td><td>Mobile Payment</td><td>Los Angeles</td><td>Warehouse Club</td><td>true</td><td>Homemaker</td><td>Winter</td><td>None</td><td>2022-01-21T06:27:29.000Z</td><td>2022-01-21</td></tr><tr><td>1000000001</td><td>2023-03-01T13:01:21.000Z</td><td>Michelle Carlson</td><td>['Ice Cream', 'Milk', 'Olive Oil', 'Bread', 'Potatoes']</td><td>2</td><td>25.93</td><td>Cash</td><td>San Francisco</td><td>Specialty Store</td><td>true</td><td>Professional</td><td>Fall</td><td>BOGO (Buy One Get One)</td><td>2023-03-01T13:01:21.000Z</td><td>2023-03-01</td></tr><tr><td>1000000002</td><td>2024-03-21T15:37:04.000Z</td><td>Lisa Graves</td><td>['Spinach']</td><td>6</td><td>41.49</td><td>Credit Card</td><td>Houston</td><td>Department Store</td><td>true</td><td>Professional</td><td>Winter</td><td>None</td><td>2024-03-21T15:37:04.000Z</td><td>2024-03-21</td></tr><tr><td>1000000003</td><td>2020-10-31T09:59:47.000Z</td><td>Mrs. Patricia May</td><td>['Tissues', 'Mustard']</td><td>1</td><td>39.34</td><td>Mobile Payment</td><td>Chicago</td><td>Pharmacy</td><td>true</td><td>Homemaker</td><td>Spring</td><td>None</td><td>2020-10-31T09:59:47.000Z</td><td>2020-10-31</td></tr><tr><td>1000000004</td><td>2020-12-10T00:59:59.000Z</td><td>Susan Mitchell</td><td>['Dish Soap']</td><td>10</td><td>16.42</td><td>Debit Card</td><td>Houston</td><td>Specialty Store</td><td>false</td><td>Young Adult</td><td>Winter</td><td>Discount on Selected Items</td><td>2020-12-10T00:59:59.000Z</td><td>2020-12-10</td></tr></tbody></table></div>"
      ]
     },
     "metadata": {
      "application/vnd.databricks.v1+output": {
       "addedWidgets": {},
       "aggData": [],
       "aggError": "",
       "aggOverflow": false,
       "aggSchema": [],
       "aggSeriesLimitReached": false,
       "aggType": "",
       "arguments": {},
       "columnCustomDisplayInfos": {},
       "data": [
        [
         1000000000,
         "2022-01-21T06:27:29.000Z",
         "Stacey Price",
         "['Ketchup', 'Shaving Cream', 'Light Bulbs']",
         3,
         71.65,
         "Mobile Payment",
         "Los Angeles",
         "Warehouse Club",
         true,
         "Homemaker",
         "Winter",
         "None",
         "2022-01-21T06:27:29.000Z",
         "2022-01-21"
        ],
        [
         1000000001,
         "2023-03-01T13:01:21.000Z",
         "Michelle Carlson",
         "['Ice Cream', 'Milk', 'Olive Oil', 'Bread', 'Potatoes']",
         2,
         25.93,
         "Cash",
         "San Francisco",
         "Specialty Store",
         true,
         "Professional",
         "Fall",
         "BOGO (Buy One Get One)",
         "2023-03-01T13:01:21.000Z",
         "2023-03-01"
        ],
        [
         1000000002,
         "2024-03-21T15:37:04.000Z",
         "Lisa Graves",
         "['Spinach']",
         6,
         41.49,
         "Credit Card",
         "Houston",
         "Department Store",
         true,
         "Professional",
         "Winter",
         "None",
         "2024-03-21T15:37:04.000Z",
         "2024-03-21"
        ],
        [
         1000000003,
         "2020-10-31T09:59:47.000Z",
         "Mrs. Patricia May",
         "['Tissues', 'Mustard']",
         1,
         39.34,
         "Mobile Payment",
         "Chicago",
         "Pharmacy",
         true,
         "Homemaker",
         "Spring",
         "None",
         "2020-10-31T09:59:47.000Z",
         "2020-10-31"
        ],
        [
         1000000004,
         "2020-12-10T00:59:59.000Z",
         "Susan Mitchell",
         "['Dish Soap']",
         10,
         16.42,
         "Debit Card",
         "Houston",
         "Specialty Store",
         false,
         "Young Adult",
         "Winter",
         "Discount on Selected Items",
         "2020-12-10T00:59:59.000Z",
         "2020-12-10"
        ]
       ],
       "datasetInfos": [],
       "dbfsResultPath": null,
       "isJsonSchema": true,
       "metadata": {},
       "overflow": false,
       "plotOptions": {
        "customPlotOptions": {},
        "displayType": "table",
        "pivotAggregation": null,
        "pivotColumns": null,
        "xColumns": null,
        "yColumns": null
       },
       "removedWidgets": [],
       "schema": [
        {
         "metadata": "{}",
         "name": "Transaction_ID",
         "type": "\"integer\""
        },
        {
         "metadata": "{}",
         "name": "Date",
         "type": "\"timestamp\""
        },
        {
         "metadata": "{}",
         "name": "Customer_Name",
         "type": "\"string\""
        },
        {
         "metadata": "{}",
         "name": "Product",
         "type": "\"string\""
        },
        {
         "metadata": "{}",
         "name": "Total_Items",
         "type": "\"integer\""
        },
        {
         "metadata": "{}",
         "name": "Total_Cost",
         "type": "\"double\""
        },
        {
         "metadata": "{}",
         "name": "Payment_Method",
         "type": "\"string\""
        },
        {
         "metadata": "{}",
         "name": "City",
         "type": "\"string\""
        },
        {
         "metadata": "{}",
         "name": "Store_Type",
         "type": "\"string\""
        },
        {
         "metadata": "{}",
         "name": "Discount_Applied",
         "type": "\"boolean\""
        },
        {
         "metadata": "{}",
         "name": "Customer_Category",
         "type": "\"string\""
        },
        {
         "metadata": "{}",
         "name": "Season",
         "type": "\"string\""
        },
        {
         "metadata": "{}",
         "name": "Promotion",
         "type": "\"string\""
        },
        {
         "metadata": "{}",
         "name": "event_ts",
         "type": "\"timestamp\""
        },
        {
         "metadata": "{}",
         "name": "event_date",
         "type": "\"date\""
        }
       ],
       "type": "table"
      }
     },
     "output_type": "display_data"
    }
   ],
   "source": [
    "\n",
    "from pyspark.sql import functions as F, types as T\n",
    "\n",
    "# 1) Convert Date to timestamp\n",
    "df = df.withColumn(\"event_ts\", F.to_timestamp(F.col(\"Date\"), \"dd-MM-yyyy HH:mm\")) \\\n",
    "       .withColumn(\"event_date\", F.to_date(\"event_ts\"))\n",
    "display(df.limit(5))"
   ]
  },
  {
   "cell_type": "code",
   "execution_count": 0,
   "metadata": {
    "application/vnd.databricks.v1+cell": {
     "cellMetadata": {
      "byteLimit": 2048000,
      "rowLimit": 10000
     },
     "inputWidgets": {},
     "nuid": "12371914-4fe7-46fe-b1be-52771ecec6ea",
     "showTitle": false,
     "tableResultSettingsMap": {},
     "title": ""
    }
   },
   "outputs": [
    {
     "output_type": "display_data",
     "data": {
      "text/html": [
       "<style scoped>\n",
       "  .table-result-container {\n",
       "    max-height: 300px;\n",
       "    overflow: auto;\n",
       "  }\n",
       "  table, th, td {\n",
       "    border: 1px solid black;\n",
       "    border-collapse: collapse;\n",
       "  }\n",
       "  th, td {\n",
       "    padding: 5px;\n",
       "  }\n",
       "  th {\n",
       "    text-align: left;\n",
       "  }\n",
       "</style><div class='table-result-container'><table class='table-result'><thead style='background-color: white'><tr><th>Transaction_ID</th><th>Date</th><th>Customer_Name</th><th>Product</th><th>Total_Items</th><th>Total_Cost</th><th>payment_method</th><th>city</th><th>store_type</th><th>Discount_Applied</th><th>Customer_Category</th><th>Season</th><th>Promotion</th><th>event_ts</th><th>event_date</th></tr></thead><tbody><tr><td>1000000000</td><td>2022-01-21T06:27:29.000Z</td><td>Stacey Price</td><td>['Ketchup', 'Shaving Cream', 'Light Bulbs']</td><td>3</td><td>71.65</td><td>Mobile Payment</td><td>Los Angeles</td><td>Warehouse Club</td><td>true</td><td>Homemaker</td><td>Winter</td><td>None</td><td>2022-01-21T06:27:29.000Z</td><td>2022-01-21</td></tr><tr><td>1000000001</td><td>2023-03-01T13:01:21.000Z</td><td>Michelle Carlson</td><td>['Ice Cream', 'Milk', 'Olive Oil', 'Bread', 'Potatoes']</td><td>2</td><td>25.93</td><td>Cash</td><td>San Francisco</td><td>Specialty Store</td><td>true</td><td>Professional</td><td>Fall</td><td>BOGO (Buy One Get One)</td><td>2023-03-01T13:01:21.000Z</td><td>2023-03-01</td></tr><tr><td>1000000002</td><td>2024-03-21T15:37:04.000Z</td><td>Lisa Graves</td><td>['Spinach']</td><td>6</td><td>41.49</td><td>Credit Card</td><td>Houston</td><td>Department Store</td><td>true</td><td>Professional</td><td>Winter</td><td>None</td><td>2024-03-21T15:37:04.000Z</td><td>2024-03-21</td></tr><tr><td>1000000003</td><td>2020-10-31T09:59:47.000Z</td><td>Mrs. Patricia May</td><td>['Tissues', 'Mustard']</td><td>1</td><td>39.34</td><td>Mobile Payment</td><td>Chicago</td><td>Pharmacy</td><td>true</td><td>Homemaker</td><td>Spring</td><td>None</td><td>2020-10-31T09:59:47.000Z</td><td>2020-10-31</td></tr><tr><td>1000000004</td><td>2020-12-10T00:59:59.000Z</td><td>Susan Mitchell</td><td>['Dish Soap']</td><td>10</td><td>16.42</td><td>Debit Card</td><td>Houston</td><td>Specialty Store</td><td>false</td><td>Young Adult</td><td>Winter</td><td>Discount on Selected Items</td><td>2020-12-10T00:59:59.000Z</td><td>2020-12-10</td></tr></tbody></table></div>"
      ]
     },
     "metadata": {
      "application/vnd.databricks.v1+output": {
       "addedWidgets": {},
       "aggData": [],
       "aggError": "",
       "aggOverflow": false,
       "aggSchema": [],
       "aggSeriesLimitReached": false,
       "aggType": "",
       "arguments": {},
       "columnCustomDisplayInfos": {},
       "data": [
        [
         1000000000,
         "2022-01-21T06:27:29.000Z",
         "Stacey Price",
         "['Ketchup', 'Shaving Cream', 'Light Bulbs']",
         3,
         71.65,
         "Mobile Payment",
         "Los Angeles",
         "Warehouse Club",
         true,
         "Homemaker",
         "Winter",
         "None",
         "2022-01-21T06:27:29.000Z",
         "2022-01-21"
        ],
        [
         1000000001,
         "2023-03-01T13:01:21.000Z",
         "Michelle Carlson",
         "['Ice Cream', 'Milk', 'Olive Oil', 'Bread', 'Potatoes']",
         2,
         25.93,
         "Cash",
         "San Francisco",
         "Specialty Store",
         true,
         "Professional",
         "Fall",
         "BOGO (Buy One Get One)",
         "2023-03-01T13:01:21.000Z",
         "2023-03-01"
        ],
        [
         1000000002,
         "2024-03-21T15:37:04.000Z",
         "Lisa Graves",
         "['Spinach']",
         6,
         41.49,
         "Credit Card",
         "Houston",
         "Department Store",
         true,
         "Professional",
         "Winter",
         "None",
         "2024-03-21T15:37:04.000Z",
         "2024-03-21"
        ],
        [
         1000000003,
         "2020-10-31T09:59:47.000Z",
         "Mrs. Patricia May",
         "['Tissues', 'Mustard']",
         1,
         39.34,
         "Mobile Payment",
         "Chicago",
         "Pharmacy",
         true,
         "Homemaker",
         "Spring",
         "None",
         "2020-10-31T09:59:47.000Z",
         "2020-10-31"
        ],
        [
         1000000004,
         "2020-12-10T00:59:59.000Z",
         "Susan Mitchell",
         "['Dish Soap']",
         10,
         16.42,
         "Debit Card",
         "Houston",
         "Specialty Store",
         false,
         "Young Adult",
         "Winter",
         "Discount on Selected Items",
         "2020-12-10T00:59:59.000Z",
         "2020-12-10"
        ]
       ],
       "datasetInfos": [],
       "dbfsResultPath": null,
       "isJsonSchema": true,
       "metadata": {},
       "overflow": false,
       "plotOptions": {
        "customPlotOptions": {},
        "displayType": "table",
        "pivotAggregation": null,
        "pivotColumns": null,
        "xColumns": null,
        "yColumns": null
       },
       "removedWidgets": [],
       "schema": [
        {
         "metadata": "{}",
         "name": "Transaction_ID",
         "type": "\"integer\""
        },
        {
         "metadata": "{}",
         "name": "Date",
         "type": "\"timestamp\""
        },
        {
         "metadata": "{}",
         "name": "Customer_Name",
         "type": "\"string\""
        },
        {
         "metadata": "{}",
         "name": "Product",
         "type": "\"string\""
        },
        {
         "metadata": "{}",
         "name": "Total_Items",
         "type": "\"integer\""
        },
        {
         "metadata": "{}",
         "name": "Total_Cost",
         "type": "\"double\""
        },
        {
         "metadata": "{}",
         "name": "payment_method",
         "type": "\"string\""
        },
        {
         "metadata": "{}",
         "name": "city",
         "type": "\"string\""
        },
        {
         "metadata": "{}",
         "name": "store_type",
         "type": "\"string\""
        },
        {
         "metadata": "{}",
         "name": "Discount_Applied",
         "type": "\"boolean\""
        },
        {
         "metadata": "{}",
         "name": "Customer_Category",
         "type": "\"string\""
        },
        {
         "metadata": "{}",
         "name": "Season",
         "type": "\"string\""
        },
        {
         "metadata": "{}",
         "name": "Promotion",
         "type": "\"string\""
        },
        {
         "metadata": "{}",
         "name": "event_ts",
         "type": "\"timestamp\""
        },
        {
         "metadata": "{}",
         "name": "event_date",
         "type": "\"date\""
        }
       ],
       "type": "table"
      }
     },
     "output_type": "display_data"
    }
   ],
   "source": [
    "\n",
    "# 2) Normalize text fields\n",
    "df = df.withColumn(\"city\", F.initcap(\"City\")) \\\n",
    "       .withColumn(\"store_type\", F.initcap(\"Store_Type\")) \\\n",
    "       .withColumn(\"payment_method\", F.initcap(\"Payment_Method\"))\n",
    "display(df.limit(5))"
   ]
  },
  {
   "cell_type": "code",
   "execution_count": 0,
   "metadata": {
    "application/vnd.databricks.v1+cell": {
     "cellMetadata": {
      "byteLimit": 2048000,
      "rowLimit": 10000
     },
     "inputWidgets": {},
     "nuid": "927d9ec7-2c6d-455b-9dda-e57a40d13acc",
     "showTitle": false,
     "tableResultSettingsMap": {},
     "title": ""
    }
   },
   "outputs": [
    {
     "output_type": "display_data",
     "data": {
      "text/html": [
       "<style scoped>\n",
       "  .table-result-container {\n",
       "    max-height: 300px;\n",
       "    overflow: auto;\n",
       "  }\n",
       "  table, th, td {\n",
       "    border: 1px solid black;\n",
       "    border-collapse: collapse;\n",
       "  }\n",
       "  th, td {\n",
       "    padding: 5px;\n",
       "  }\n",
       "  th {\n",
       "    text-align: left;\n",
       "  }\n",
       "</style><div class='table-result-container'><table class='table-result'><thead style='background-color: white'><tr><th>Transaction_ID</th><th>Date</th><th>Customer_Name</th><th>Product</th><th>Total_Items</th><th>Total_Cost</th><th>payment_method</th><th>city</th><th>store_type</th><th>Discount_Applied</th><th>Customer_Category</th><th>Season</th><th>Promotion</th><th>event_ts</th><th>event_date</th><th>products</th></tr></thead><tbody><tr><td>1000000000</td><td>2022-01-21T06:27:29.000Z</td><td>Stacey Price</td><td>['Ketchup', 'Shaving Cream', 'Light Bulbs']</td><td>3</td><td>71.65</td><td>Mobile Payment</td><td>Los Angeles</td><td>Warehouse Club</td><td>true</td><td>Homemaker</td><td>Winter</td><td>None</td><td>2022-01-21T06:27:29.000Z</td><td>2022-01-21</td><td>List(Ketchup, Shaving Cream, Light Bulbs)</td></tr><tr><td>1000000001</td><td>2023-03-01T13:01:21.000Z</td><td>Michelle Carlson</td><td>['Ice Cream', 'Milk', 'Olive Oil', 'Bread', 'Potatoes']</td><td>2</td><td>25.93</td><td>Cash</td><td>San Francisco</td><td>Specialty Store</td><td>true</td><td>Professional</td><td>Fall</td><td>BOGO (Buy One Get One)</td><td>2023-03-01T13:01:21.000Z</td><td>2023-03-01</td><td>List(Ice Cream, Milk, Olive Oil, Bread, Potatoes)</td></tr><tr><td>1000000002</td><td>2024-03-21T15:37:04.000Z</td><td>Lisa Graves</td><td>['Spinach']</td><td>6</td><td>41.49</td><td>Credit Card</td><td>Houston</td><td>Department Store</td><td>true</td><td>Professional</td><td>Winter</td><td>None</td><td>2024-03-21T15:37:04.000Z</td><td>2024-03-21</td><td>List(Spinach)</td></tr><tr><td>1000000003</td><td>2020-10-31T09:59:47.000Z</td><td>Mrs. Patricia May</td><td>['Tissues', 'Mustard']</td><td>1</td><td>39.34</td><td>Mobile Payment</td><td>Chicago</td><td>Pharmacy</td><td>true</td><td>Homemaker</td><td>Spring</td><td>None</td><td>2020-10-31T09:59:47.000Z</td><td>2020-10-31</td><td>List(Tissues, Mustard)</td></tr><tr><td>1000000004</td><td>2020-12-10T00:59:59.000Z</td><td>Susan Mitchell</td><td>['Dish Soap']</td><td>10</td><td>16.42</td><td>Debit Card</td><td>Houston</td><td>Specialty Store</td><td>false</td><td>Young Adult</td><td>Winter</td><td>Discount on Selected Items</td><td>2020-12-10T00:59:59.000Z</td><td>2020-12-10</td><td>List(Dish Soap)</td></tr></tbody></table></div>"
      ]
     },
     "metadata": {
      "application/vnd.databricks.v1+output": {
       "addedWidgets": {},
       "aggData": [],
       "aggError": "",
       "aggOverflow": false,
       "aggSchema": [],
       "aggSeriesLimitReached": false,
       "aggType": "",
       "arguments": {},
       "columnCustomDisplayInfos": {},
       "data": [
        [
         1000000000,
         "2022-01-21T06:27:29.000Z",
         "Stacey Price",
         "['Ketchup', 'Shaving Cream', 'Light Bulbs']",
         3,
         71.65,
         "Mobile Payment",
         "Los Angeles",
         "Warehouse Club",
         true,
         "Homemaker",
         "Winter",
         "None",
         "2022-01-21T06:27:29.000Z",
         "2022-01-21",
         [
          "Ketchup",
          "Shaving Cream",
          "Light Bulbs"
         ]
        ],
        [
         1000000001,
         "2023-03-01T13:01:21.000Z",
         "Michelle Carlson",
         "['Ice Cream', 'Milk', 'Olive Oil', 'Bread', 'Potatoes']",
         2,
         25.93,
         "Cash",
         "San Francisco",
         "Specialty Store",
         true,
         "Professional",
         "Fall",
         "BOGO (Buy One Get One)",
         "2023-03-01T13:01:21.000Z",
         "2023-03-01",
         [
          "Ice Cream",
          "Milk",
          "Olive Oil",
          "Bread",
          "Potatoes"
         ]
        ],
        [
         1000000002,
         "2024-03-21T15:37:04.000Z",
         "Lisa Graves",
         "['Spinach']",
         6,
         41.49,
         "Credit Card",
         "Houston",
         "Department Store",
         true,
         "Professional",
         "Winter",
         "None",
         "2024-03-21T15:37:04.000Z",
         "2024-03-21",
         [
          "Spinach"
         ]
        ],
        [
         1000000003,
         "2020-10-31T09:59:47.000Z",
         "Mrs. Patricia May",
         "['Tissues', 'Mustard']",
         1,
         39.34,
         "Mobile Payment",
         "Chicago",
         "Pharmacy",
         true,
         "Homemaker",
         "Spring",
         "None",
         "2020-10-31T09:59:47.000Z",
         "2020-10-31",
         [
          "Tissues",
          "Mustard"
         ]
        ],
        [
         1000000004,
         "2020-12-10T00:59:59.000Z",
         "Susan Mitchell",
         "['Dish Soap']",
         10,
         16.42,
         "Debit Card",
         "Houston",
         "Specialty Store",
         false,
         "Young Adult",
         "Winter",
         "Discount on Selected Items",
         "2020-12-10T00:59:59.000Z",
         "2020-12-10",
         [
          "Dish Soap"
         ]
        ]
       ],
       "datasetInfos": [],
       "dbfsResultPath": null,
       "isJsonSchema": true,
       "metadata": {},
       "overflow": false,
       "plotOptions": {
        "customPlotOptions": {},
        "displayType": "table",
        "pivotAggregation": null,
        "pivotColumns": null,
        "xColumns": null,
        "yColumns": null
       },
       "removedWidgets": [],
       "schema": [
        {
         "metadata": "{}",
         "name": "Transaction_ID",
         "type": "\"integer\""
        },
        {
         "metadata": "{}",
         "name": "Date",
         "type": "\"timestamp\""
        },
        {
         "metadata": "{}",
         "name": "Customer_Name",
         "type": "\"string\""
        },
        {
         "metadata": "{}",
         "name": "Product",
         "type": "\"string\""
        },
        {
         "metadata": "{}",
         "name": "Total_Items",
         "type": "\"integer\""
        },
        {
         "metadata": "{}",
         "name": "Total_Cost",
         "type": "\"double\""
        },
        {
         "metadata": "{}",
         "name": "payment_method",
         "type": "\"string\""
        },
        {
         "metadata": "{}",
         "name": "city",
         "type": "\"string\""
        },
        {
         "metadata": "{}",
         "name": "store_type",
         "type": "\"string\""
        },
        {
         "metadata": "{}",
         "name": "Discount_Applied",
         "type": "\"boolean\""
        },
        {
         "metadata": "{}",
         "name": "Customer_Category",
         "type": "\"string\""
        },
        {
         "metadata": "{}",
         "name": "Season",
         "type": "\"string\""
        },
        {
         "metadata": "{}",
         "name": "Promotion",
         "type": "\"string\""
        },
        {
         "metadata": "{}",
         "name": "event_ts",
         "type": "\"timestamp\""
        },
        {
         "metadata": "{}",
         "name": "event_date",
         "type": "\"date\""
        },
        {
         "metadata": "{}",
         "name": "products",
         "type": "{\"containsNull\":true,\"elementType\":\"string\",\"type\":\"array\"}"
        }
       ],
       "type": "table"
      }
     },
     "output_type": "display_data"
    }
   ],
   "source": [
    "\n",
    "# 3) Parse Product list (convert single quotes to double quotes, then parse JSON)\n",
    "df = df.withColumn(\"products_json\", F.regexp_replace(F.col(\"Product\"), \"'\", '\"')) \\\n",
    "       .withColumn(\"products\", F.from_json(\"products_json\", T.ArrayType(T.StringType()))) \\\n",
    "       .drop(\"products_json\")\n",
    "display(df.limit(5))"
   ]
  },
  {
   "cell_type": "code",
   "execution_count": 0,
   "metadata": {
    "application/vnd.databricks.v1+cell": {
     "cellMetadata": {
      "byteLimit": 2048000,
      "rowLimit": 10000
     },
     "inputWidgets": {},
     "nuid": "53e88562-95bc-48ae-a94a-0a4d2c192450",
     "showTitle": false,
     "tableResultSettingsMap": {},
     "title": ""
    }
   },
   "outputs": [
    {
     "output_type": "display_data",
     "data": {
      "text/html": [
       "<style scoped>\n",
       "  .table-result-container {\n",
       "    max-height: 300px;\n",
       "    overflow: auto;\n",
       "  }\n",
       "  table, th, td {\n",
       "    border: 1px solid black;\n",
       "    border-collapse: collapse;\n",
       "  }\n",
       "  th, td {\n",
       "    padding: 5px;\n",
       "  }\n",
       "  th {\n",
       "    text-align: left;\n",
       "  }\n",
       "</style><div class='table-result-container'><table class='table-result'><thead style='background-color: white'><tr><th>Transaction_ID</th><th>Date</th><th>Customer_Name</th><th>product</th><th>Total_Items</th><th>Total_Cost</th><th>payment_method</th><th>city</th><th>store_type</th><th>Discount_Applied</th><th>Customer_Category</th><th>Season</th><th>Promotion</th><th>event_ts</th><th>event_date</th><th>products</th></tr></thead><tbody><tr><td>1000000000</td><td>2022-01-21T06:27:29.000Z</td><td>Stacey Price</td><td>Ketchup</td><td>3</td><td>71.65</td><td>Mobile Payment</td><td>Los Angeles</td><td>Warehouse Club</td><td>true</td><td>Homemaker</td><td>Winter</td><td>None</td><td>2022-01-21T06:27:29.000Z</td><td>2022-01-21</td><td>List(Ketchup, Shaving Cream, Light Bulbs)</td></tr><tr><td>1000000000</td><td>2022-01-21T06:27:29.000Z</td><td>Stacey Price</td><td>Shaving Cream</td><td>3</td><td>71.65</td><td>Mobile Payment</td><td>Los Angeles</td><td>Warehouse Club</td><td>true</td><td>Homemaker</td><td>Winter</td><td>None</td><td>2022-01-21T06:27:29.000Z</td><td>2022-01-21</td><td>List(Ketchup, Shaving Cream, Light Bulbs)</td></tr><tr><td>1000000000</td><td>2022-01-21T06:27:29.000Z</td><td>Stacey Price</td><td>Light Bulbs</td><td>3</td><td>71.65</td><td>Mobile Payment</td><td>Los Angeles</td><td>Warehouse Club</td><td>true</td><td>Homemaker</td><td>Winter</td><td>None</td><td>2022-01-21T06:27:29.000Z</td><td>2022-01-21</td><td>List(Ketchup, Shaving Cream, Light Bulbs)</td></tr><tr><td>1000000001</td><td>2023-03-01T13:01:21.000Z</td><td>Michelle Carlson</td><td>Ice Cream</td><td>2</td><td>25.93</td><td>Cash</td><td>San Francisco</td><td>Specialty Store</td><td>true</td><td>Professional</td><td>Fall</td><td>BOGO (Buy One Get One)</td><td>2023-03-01T13:01:21.000Z</td><td>2023-03-01</td><td>List(Ice Cream, Milk, Olive Oil, Bread, Potatoes)</td></tr><tr><td>1000000001</td><td>2023-03-01T13:01:21.000Z</td><td>Michelle Carlson</td><td>Milk</td><td>2</td><td>25.93</td><td>Cash</td><td>San Francisco</td><td>Specialty Store</td><td>true</td><td>Professional</td><td>Fall</td><td>BOGO (Buy One Get One)</td><td>2023-03-01T13:01:21.000Z</td><td>2023-03-01</td><td>List(Ice Cream, Milk, Olive Oil, Bread, Potatoes)</td></tr></tbody></table></div>"
      ]
     },
     "metadata": {
      "application/vnd.databricks.v1+output": {
       "addedWidgets": {},
       "aggData": [],
       "aggError": "",
       "aggOverflow": false,
       "aggSchema": [],
       "aggSeriesLimitReached": false,
       "aggType": "",
       "arguments": {},
       "columnCustomDisplayInfos": {},
       "data": [
        [
         1000000000,
         "2022-01-21T06:27:29.000Z",
         "Stacey Price",
         "Ketchup",
         3,
         71.65,
         "Mobile Payment",
         "Los Angeles",
         "Warehouse Club",
         true,
         "Homemaker",
         "Winter",
         "None",
         "2022-01-21T06:27:29.000Z",
         "2022-01-21",
         [
          "Ketchup",
          "Shaving Cream",
          "Light Bulbs"
         ]
        ],
        [
         1000000000,
         "2022-01-21T06:27:29.000Z",
         "Stacey Price",
         "Shaving Cream",
         3,
         71.65,
         "Mobile Payment",
         "Los Angeles",
         "Warehouse Club",
         true,
         "Homemaker",
         "Winter",
         "None",
         "2022-01-21T06:27:29.000Z",
         "2022-01-21",
         [
          "Ketchup",
          "Shaving Cream",
          "Light Bulbs"
         ]
        ],
        [
         1000000000,
         "2022-01-21T06:27:29.000Z",
         "Stacey Price",
         "Light Bulbs",
         3,
         71.65,
         "Mobile Payment",
         "Los Angeles",
         "Warehouse Club",
         true,
         "Homemaker",
         "Winter",
         "None",
         "2022-01-21T06:27:29.000Z",
         "2022-01-21",
         [
          "Ketchup",
          "Shaving Cream",
          "Light Bulbs"
         ]
        ],
        [
         1000000001,
         "2023-03-01T13:01:21.000Z",
         "Michelle Carlson",
         "Ice Cream",
         2,
         25.93,
         "Cash",
         "San Francisco",
         "Specialty Store",
         true,
         "Professional",
         "Fall",
         "BOGO (Buy One Get One)",
         "2023-03-01T13:01:21.000Z",
         "2023-03-01",
         [
          "Ice Cream",
          "Milk",
          "Olive Oil",
          "Bread",
          "Potatoes"
         ]
        ],
        [
         1000000001,
         "2023-03-01T13:01:21.000Z",
         "Michelle Carlson",
         "Milk",
         2,
         25.93,
         "Cash",
         "San Francisco",
         "Specialty Store",
         true,
         "Professional",
         "Fall",
         "BOGO (Buy One Get One)",
         "2023-03-01T13:01:21.000Z",
         "2023-03-01",
         [
          "Ice Cream",
          "Milk",
          "Olive Oil",
          "Bread",
          "Potatoes"
         ]
        ]
       ],
       "datasetInfos": [],
       "dbfsResultPath": null,
       "isJsonSchema": true,
       "metadata": {},
       "overflow": false,
       "plotOptions": {
        "customPlotOptions": {},
        "displayType": "table",
        "pivotAggregation": null,
        "pivotColumns": null,
        "xColumns": null,
        "yColumns": null
       },
       "removedWidgets": [],
       "schema": [
        {
         "metadata": "{}",
         "name": "Transaction_ID",
         "type": "\"integer\""
        },
        {
         "metadata": "{}",
         "name": "Date",
         "type": "\"timestamp\""
        },
        {
         "metadata": "{}",
         "name": "Customer_Name",
         "type": "\"string\""
        },
        {
         "metadata": "{}",
         "name": "product",
         "type": "\"string\""
        },
        {
         "metadata": "{}",
         "name": "Total_Items",
         "type": "\"integer\""
        },
        {
         "metadata": "{}",
         "name": "Total_Cost",
         "type": "\"double\""
        },
        {
         "metadata": "{}",
         "name": "payment_method",
         "type": "\"string\""
        },
        {
         "metadata": "{}",
         "name": "city",
         "type": "\"string\""
        },
        {
         "metadata": "{}",
         "name": "store_type",
         "type": "\"string\""
        },
        {
         "metadata": "{}",
         "name": "Discount_Applied",
         "type": "\"boolean\""
        },
        {
         "metadata": "{}",
         "name": "Customer_Category",
         "type": "\"string\""
        },
        {
         "metadata": "{}",
         "name": "Season",
         "type": "\"string\""
        },
        {
         "metadata": "{}",
         "name": "Promotion",
         "type": "\"string\""
        },
        {
         "metadata": "{}",
         "name": "event_ts",
         "type": "\"timestamp\""
        },
        {
         "metadata": "{}",
         "name": "event_date",
         "type": "\"date\""
        },
        {
         "metadata": "{}",
         "name": "products",
         "type": "{\"containsNull\":true,\"elementType\":\"string\",\"type\":\"array\"}"
        }
       ],
       "type": "table"
      }
     },
     "output_type": "display_data"
    }
   ],
   "source": [
    "\n",
    "# 4) Explode products into individual rows\n",
    "df_items = df.withColumn(\"product\", F.explode_outer(\"products\"))\n",
    "\n",
    "display(df_items.limit(5))\n"
   ]
  },
  {
   "cell_type": "code",
   "execution_count": 0,
   "metadata": {
    "application/vnd.databricks.v1+cell": {
     "cellMetadata": {
      "byteLimit": 2048000,
      "rowLimit": 10000
     },
     "inputWidgets": {},
     "nuid": "c5987a86-3fdd-4188-a563-6dc4ab1f5ad1",
     "showTitle": false,
     "tableResultSettingsMap": {},
     "title": ""
    }
   },
   "outputs": [
    {
     "output_type": "display_data",
     "data": {
      "text/html": [
       "<style scoped>\n",
       "  .table-result-container {\n",
       "    max-height: 300px;\n",
       "    overflow: auto;\n",
       "  }\n",
       "  table, th, td {\n",
       "    border: 1px solid black;\n",
       "    border-collapse: collapse;\n",
       "  }\n",
       "  th, td {\n",
       "    padding: 5px;\n",
       "  }\n",
       "  th {\n",
       "    text-align: left;\n",
       "  }\n",
       "</style><div class='table-result-container'><table class='table-result'><thead style='background-color: white'><tr><th>Transaction_ID</th><th>Date</th><th>Customer_Name</th><th>product</th><th>Total_Cost</th><th>payment_method</th><th>city</th><th>store_type</th><th>Discount_Applied</th><th>Customer_Category</th><th>Season</th><th>Promotion</th><th>event_ts</th><th>event_date</th><th>products</th><th>computed_total_items</th><th>item_qty_est</th><th>item_revenue_est</th></tr></thead><tbody><tr><td>1000000000</td><td>2022-01-21T06:27:29.000Z</td><td>Stacey Price</td><td>Ketchup</td><td>71.65</td><td>Mobile Payment</td><td>Los Angeles</td><td>Warehouse Club</td><td>true</td><td>Homemaker</td><td>Winter</td><td>None</td><td>2022-01-21T06:27:29.000Z</td><td>2022-01-21</td><td>List(Ketchup, Shaving Cream, Light Bulbs)</td><td>3</td><td>1.0</td><td>23.883333333333336</td></tr><tr><td>1000000000</td><td>2022-01-21T06:27:29.000Z</td><td>Stacey Price</td><td>Shaving Cream</td><td>71.65</td><td>Mobile Payment</td><td>Los Angeles</td><td>Warehouse Club</td><td>true</td><td>Homemaker</td><td>Winter</td><td>None</td><td>2022-01-21T06:27:29.000Z</td><td>2022-01-21</td><td>List(Ketchup, Shaving Cream, Light Bulbs)</td><td>3</td><td>1.0</td><td>23.883333333333336</td></tr><tr><td>1000000000</td><td>2022-01-21T06:27:29.000Z</td><td>Stacey Price</td><td>Light Bulbs</td><td>71.65</td><td>Mobile Payment</td><td>Los Angeles</td><td>Warehouse Club</td><td>true</td><td>Homemaker</td><td>Winter</td><td>None</td><td>2022-01-21T06:27:29.000Z</td><td>2022-01-21</td><td>List(Ketchup, Shaving Cream, Light Bulbs)</td><td>3</td><td>1.0</td><td>23.883333333333336</td></tr><tr><td>1000000001</td><td>2023-03-01T13:01:21.000Z</td><td>Michelle Carlson</td><td>Ice Cream</td><td>25.93</td><td>Cash</td><td>San Francisco</td><td>Specialty Store</td><td>true</td><td>Professional</td><td>Fall</td><td>BOGO (Buy One Get One)</td><td>2023-03-01T13:01:21.000Z</td><td>2023-03-01</td><td>List(Ice Cream, Milk, Olive Oil, Bread, Potatoes)</td><td>5</td><td>1.0</td><td>5.186</td></tr><tr><td>1000000001</td><td>2023-03-01T13:01:21.000Z</td><td>Michelle Carlson</td><td>Milk</td><td>25.93</td><td>Cash</td><td>San Francisco</td><td>Specialty Store</td><td>true</td><td>Professional</td><td>Fall</td><td>BOGO (Buy One Get One)</td><td>2023-03-01T13:01:21.000Z</td><td>2023-03-01</td><td>List(Ice Cream, Milk, Olive Oil, Bread, Potatoes)</td><td>5</td><td>1.0</td><td>5.186</td></tr><tr><td>1000000001</td><td>2023-03-01T13:01:21.000Z</td><td>Michelle Carlson</td><td>Olive Oil</td><td>25.93</td><td>Cash</td><td>San Francisco</td><td>Specialty Store</td><td>true</td><td>Professional</td><td>Fall</td><td>BOGO (Buy One Get One)</td><td>2023-03-01T13:01:21.000Z</td><td>2023-03-01</td><td>List(Ice Cream, Milk, Olive Oil, Bread, Potatoes)</td><td>5</td><td>1.0</td><td>5.186</td></tr><tr><td>1000000001</td><td>2023-03-01T13:01:21.000Z</td><td>Michelle Carlson</td><td>Bread</td><td>25.93</td><td>Cash</td><td>San Francisco</td><td>Specialty Store</td><td>true</td><td>Professional</td><td>Fall</td><td>BOGO (Buy One Get One)</td><td>2023-03-01T13:01:21.000Z</td><td>2023-03-01</td><td>List(Ice Cream, Milk, Olive Oil, Bread, Potatoes)</td><td>5</td><td>1.0</td><td>5.186</td></tr><tr><td>1000000001</td><td>2023-03-01T13:01:21.000Z</td><td>Michelle Carlson</td><td>Potatoes</td><td>25.93</td><td>Cash</td><td>San Francisco</td><td>Specialty Store</td><td>true</td><td>Professional</td><td>Fall</td><td>BOGO (Buy One Get One)</td><td>2023-03-01T13:01:21.000Z</td><td>2023-03-01</td><td>List(Ice Cream, Milk, Olive Oil, Bread, Potatoes)</td><td>5</td><td>1.0</td><td>5.186</td></tr><tr><td>1000000002</td><td>2024-03-21T15:37:04.000Z</td><td>Lisa Graves</td><td>Spinach</td><td>41.49</td><td>Credit Card</td><td>Houston</td><td>Department Store</td><td>true</td><td>Professional</td><td>Winter</td><td>None</td><td>2024-03-21T15:37:04.000Z</td><td>2024-03-21</td><td>List(Spinach)</td><td>1</td><td>1.0</td><td>41.49</td></tr><tr><td>1000000003</td><td>2020-10-31T09:59:47.000Z</td><td>Mrs. Patricia May</td><td>Tissues</td><td>39.34</td><td>Mobile Payment</td><td>Chicago</td><td>Pharmacy</td><td>true</td><td>Homemaker</td><td>Spring</td><td>None</td><td>2020-10-31T09:59:47.000Z</td><td>2020-10-31</td><td>List(Tissues, Mustard)</td><td>2</td><td>1.0</td><td>19.67</td></tr></tbody></table></div>"
      ]
     },
     "metadata": {
      "application/vnd.databricks.v1+output": {
       "addedWidgets": {},
       "aggData": [],
       "aggError": "",
       "aggOverflow": false,
       "aggSchema": [],
       "aggSeriesLimitReached": false,
       "aggType": "",
       "arguments": {},
       "columnCustomDisplayInfos": {},
       "data": [
        [
         1000000000,
         "2022-01-21T06:27:29.000Z",
         "Stacey Price",
         "Ketchup",
         71.65,
         "Mobile Payment",
         "Los Angeles",
         "Warehouse Club",
         true,
         "Homemaker",
         "Winter",
         "None",
         "2022-01-21T06:27:29.000Z",
         "2022-01-21",
         [
          "Ketchup",
          "Shaving Cream",
          "Light Bulbs"
         ],
         3,
         1.0,
         23.883333333333336
        ],
        [
         1000000000,
         "2022-01-21T06:27:29.000Z",
         "Stacey Price",
         "Shaving Cream",
         71.65,
         "Mobile Payment",
         "Los Angeles",
         "Warehouse Club",
         true,
         "Homemaker",
         "Winter",
         "None",
         "2022-01-21T06:27:29.000Z",
         "2022-01-21",
         [
          "Ketchup",
          "Shaving Cream",
          "Light Bulbs"
         ],
         3,
         1.0,
         23.883333333333336
        ],
        [
         1000000000,
         "2022-01-21T06:27:29.000Z",
         "Stacey Price",
         "Light Bulbs",
         71.65,
         "Mobile Payment",
         "Los Angeles",
         "Warehouse Club",
         true,
         "Homemaker",
         "Winter",
         "None",
         "2022-01-21T06:27:29.000Z",
         "2022-01-21",
         [
          "Ketchup",
          "Shaving Cream",
          "Light Bulbs"
         ],
         3,
         1.0,
         23.883333333333336
        ],
        [
         1000000001,
         "2023-03-01T13:01:21.000Z",
         "Michelle Carlson",
         "Ice Cream",
         25.93,
         "Cash",
         "San Francisco",
         "Specialty Store",
         true,
         "Professional",
         "Fall",
         "BOGO (Buy One Get One)",
         "2023-03-01T13:01:21.000Z",
         "2023-03-01",
         [
          "Ice Cream",
          "Milk",
          "Olive Oil",
          "Bread",
          "Potatoes"
         ],
         5,
         1.0,
         5.186
        ],
        [
         1000000001,
         "2023-03-01T13:01:21.000Z",
         "Michelle Carlson",
         "Milk",
         25.93,
         "Cash",
         "San Francisco",
         "Specialty Store",
         true,
         "Professional",
         "Fall",
         "BOGO (Buy One Get One)",
         "2023-03-01T13:01:21.000Z",
         "2023-03-01",
         [
          "Ice Cream",
          "Milk",
          "Olive Oil",
          "Bread",
          "Potatoes"
         ],
         5,
         1.0,
         5.186
        ],
        [
         1000000001,
         "2023-03-01T13:01:21.000Z",
         "Michelle Carlson",
         "Olive Oil",
         25.93,
         "Cash",
         "San Francisco",
         "Specialty Store",
         true,
         "Professional",
         "Fall",
         "BOGO (Buy One Get One)",
         "2023-03-01T13:01:21.000Z",
         "2023-03-01",
         [
          "Ice Cream",
          "Milk",
          "Olive Oil",
          "Bread",
          "Potatoes"
         ],
         5,
         1.0,
         5.186
        ],
        [
         1000000001,
         "2023-03-01T13:01:21.000Z",
         "Michelle Carlson",
         "Bread",
         25.93,
         "Cash",
         "San Francisco",
         "Specialty Store",
         true,
         "Professional",
         "Fall",
         "BOGO (Buy One Get One)",
         "2023-03-01T13:01:21.000Z",
         "2023-03-01",
         [
          "Ice Cream",
          "Milk",
          "Olive Oil",
          "Bread",
          "Potatoes"
         ],
         5,
         1.0,
         5.186
        ],
        [
         1000000001,
         "2023-03-01T13:01:21.000Z",
         "Michelle Carlson",
         "Potatoes",
         25.93,
         "Cash",
         "San Francisco",
         "Specialty Store",
         true,
         "Professional",
         "Fall",
         "BOGO (Buy One Get One)",
         "2023-03-01T13:01:21.000Z",
         "2023-03-01",
         [
          "Ice Cream",
          "Milk",
          "Olive Oil",
          "Bread",
          "Potatoes"
         ],
         5,
         1.0,
         5.186
        ],
        [
         1000000002,
         "2024-03-21T15:37:04.000Z",
         "Lisa Graves",
         "Spinach",
         41.49,
         "Credit Card",
         "Houston",
         "Department Store",
         true,
         "Professional",
         "Winter",
         "None",
         "2024-03-21T15:37:04.000Z",
         "2024-03-21",
         [
          "Spinach"
         ],
         1,
         1.0,
         41.49
        ],
        [
         1000000003,
         "2020-10-31T09:59:47.000Z",
         "Mrs. Patricia May",
         "Tissues",
         39.34,
         "Mobile Payment",
         "Chicago",
         "Pharmacy",
         true,
         "Homemaker",
         "Spring",
         "None",
         "2020-10-31T09:59:47.000Z",
         "2020-10-31",
         [
          "Tissues",
          "Mustard"
         ],
         2,
         1.0,
         19.67
        ]
       ],
       "datasetInfos": [],
       "dbfsResultPath": null,
       "isJsonSchema": true,
       "metadata": {},
       "overflow": false,
       "plotOptions": {
        "customPlotOptions": {},
        "displayType": "table",
        "pivotAggregation": null,
        "pivotColumns": null,
        "xColumns": null,
        "yColumns": null
       },
       "removedWidgets": [],
       "schema": [
        {
         "metadata": "{}",
         "name": "Transaction_ID",
         "type": "\"integer\""
        },
        {
         "metadata": "{}",
         "name": "Date",
         "type": "\"timestamp\""
        },
        {
         "metadata": "{}",
         "name": "Customer_Name",
         "type": "\"string\""
        },
        {
         "metadata": "{}",
         "name": "product",
         "type": "\"string\""
        },
        {
         "metadata": "{}",
         "name": "Total_Cost",
         "type": "\"double\""
        },
        {
         "metadata": "{}",
         "name": "payment_method",
         "type": "\"string\""
        },
        {
         "metadata": "{}",
         "name": "city",
         "type": "\"string\""
        },
        {
         "metadata": "{}",
         "name": "store_type",
         "type": "\"string\""
        },
        {
         "metadata": "{}",
         "name": "Discount_Applied",
         "type": "\"boolean\""
        },
        {
         "metadata": "{}",
         "name": "Customer_Category",
         "type": "\"string\""
        },
        {
         "metadata": "{}",
         "name": "Season",
         "type": "\"string\""
        },
        {
         "metadata": "{}",
         "name": "Promotion",
         "type": "\"string\""
        },
        {
         "metadata": "{}",
         "name": "event_ts",
         "type": "\"timestamp\""
        },
        {
         "metadata": "{}",
         "name": "event_date",
         "type": "\"date\""
        },
        {
         "metadata": "{}",
         "name": "products",
         "type": "{\"containsNull\":true,\"elementType\":\"string\",\"type\":\"array\"}"
        },
        {
         "metadata": "{}",
         "name": "computed_total_items",
         "type": "\"integer\""
        },
        {
         "metadata": "{}",
         "name": "item_qty_est",
         "type": "\"double\""
        },
        {
         "metadata": "{}",
         "name": "item_revenue_est",
         "type": "\"double\""
        }
       ],
       "type": "table"
      }
     },
     "output_type": "display_data"
    }
   ],
   "source": [
    "from pyspark.sql import functions as F\n",
    "\n",
    "# Recompute using product count from the parsed array\n",
    "df_items = (df_items\n",
    "    .withColumn(\"computed_total_items\", F.size(\"products\"))\n",
    "    # Each product in the list is 1 unit\n",
    "    .withColumn(\"item_qty_est\", F.when(F.col(\"computed_total_items\") > 0, F.lit(1.0)).otherwise(F.lit(None)))\n",
    "    # Split the basket total_cost equally across the products\n",
    "    .withColumn(\"item_revenue_est\",\n",
    "                F.when(F.col(\"computed_total_items\") > 0,\n",
    "                       F.col(\"Total_Cost\") / F.col(\"computed_total_items\"))\n",
    "                 .otherwise(F.lit(None)))\n",
    ")\n",
    "\n",
    "\n",
    "df_items = df_items.drop(\"Total_Items\")\n",
    "\n",
    "display(df_items.limit(10))\n",
    "\n",
    "\n"
   ]
  },
  {
   "cell_type": "code",
   "execution_count": 0,
   "metadata": {
    "application/vnd.databricks.v1+cell": {
     "cellMetadata": {
      "byteLimit": 2048000,
      "rowLimit": 10000
     },
     "inputWidgets": {},
     "nuid": "690e56e8-72d7-4e17-b6f9-b5dac8a9d423",
     "showTitle": false,
     "tableResultSettingsMap": {},
     "title": ""
    }
   },
   "outputs": [
    {
     "output_type": "display_data",
     "data": {
      "text/html": [
       "<style scoped>\n",
       "  .table-result-container {\n",
       "    max-height: 300px;\n",
       "    overflow: auto;\n",
       "  }\n",
       "  table, th, td {\n",
       "    border: 1px solid black;\n",
       "    border-collapse: collapse;\n",
       "  }\n",
       "  th, td {\n",
       "    padding: 5px;\n",
       "  }\n",
       "  th {\n",
       "    text-align: left;\n",
       "  }\n",
       "</style><div class='table-result-container'><table class='table-result'><thead style='background-color: white'><tr><th>Transaction_ID</th><th>event_date</th><th>product</th><th>Discount_Applied</th><th>discount_bool</th><th>Season</th><th>season_computed</th><th>season_mismatch_flag</th></tr></thead><tbody><tr><td>1000000000</td><td>2022-01-21</td><td>Ketchup</td><td>true</td><td>true</td><td>Winter</td><td>Winter</td><td>0</td></tr><tr><td>1000000000</td><td>2022-01-21</td><td>Shaving Cream</td><td>true</td><td>true</td><td>Winter</td><td>Winter</td><td>0</td></tr><tr><td>1000000000</td><td>2022-01-21</td><td>Light Bulbs</td><td>true</td><td>true</td><td>Winter</td><td>Winter</td><td>0</td></tr><tr><td>1000000001</td><td>2023-03-01</td><td>Ice Cream</td><td>true</td><td>true</td><td>Fall</td><td>Spring</td><td>1</td></tr><tr><td>1000000001</td><td>2023-03-01</td><td>Milk</td><td>true</td><td>true</td><td>Fall</td><td>Spring</td><td>1</td></tr><tr><td>1000000001</td><td>2023-03-01</td><td>Olive Oil</td><td>true</td><td>true</td><td>Fall</td><td>Spring</td><td>1</td></tr><tr><td>1000000001</td><td>2023-03-01</td><td>Bread</td><td>true</td><td>true</td><td>Fall</td><td>Spring</td><td>1</td></tr><tr><td>1000000001</td><td>2023-03-01</td><td>Potatoes</td><td>true</td><td>true</td><td>Fall</td><td>Spring</td><td>1</td></tr><tr><td>1000000002</td><td>2024-03-21</td><td>Spinach</td><td>true</td><td>true</td><td>Winter</td><td>Spring</td><td>1</td></tr><tr><td>1000000003</td><td>2020-10-31</td><td>Tissues</td><td>true</td><td>true</td><td>Spring</td><td>Fall</td><td>1</td></tr><tr><td>1000000003</td><td>2020-10-31</td><td>Mustard</td><td>true</td><td>true</td><td>Spring</td><td>Fall</td><td>1</td></tr><tr><td>1000000004</td><td>2020-12-10</td><td>Dish Soap</td><td>false</td><td>false</td><td>Winter</td><td>Winter</td><td>0</td></tr><tr><td>1000000005</td><td>2021-10-07</td><td>Toothpaste</td><td>true</td><td>true</td><td>Spring</td><td>Fall</td><td>1</td></tr><tr><td>1000000005</td><td>2021-10-07</td><td>Chicken</td><td>true</td><td>true</td><td>Spring</td><td>Fall</td><td>1</td></tr><tr><td>1000000006</td><td>2023-01-08</td><td>Honey</td><td>false</td><td>false</td><td>Summer</td><td>Winter</td><td>1</td></tr><tr><td>1000000006</td><td>2023-01-08</td><td>BBQ Sauce</td><td>false</td><td>false</td><td>Summer</td><td>Winter</td><td>1</td></tr><tr><td>1000000006</td><td>2023-01-08</td><td>Soda</td><td>false</td><td>false</td><td>Summer</td><td>Winter</td><td>1</td></tr><tr><td>1000000006</td><td>2023-01-08</td><td>Olive Oil</td><td>false</td><td>false</td><td>Summer</td><td>Winter</td><td>1</td></tr><tr><td>1000000006</td><td>2023-01-08</td><td>Garden Hose</td><td>false</td><td>false</td><td>Summer</td><td>Winter</td><td>1</td></tr><tr><td>1000000007</td><td>2020-09-03</td><td>Syrup</td><td>false</td><td>false</td><td>Winter</td><td>Fall</td><td>1</td></tr></tbody></table></div>"
      ]
     },
     "metadata": {
      "application/vnd.databricks.v1+output": {
       "addedWidgets": {},
       "aggData": [],
       "aggError": "",
       "aggOverflow": false,
       "aggSchema": [],
       "aggSeriesLimitReached": false,
       "aggType": "",
       "arguments": {},
       "columnCustomDisplayInfos": {},
       "data": [
        [
         1000000000,
         "2022-01-21",
         "Ketchup",
         true,
         true,
         "Winter",
         "Winter",
         0
        ],
        [
         1000000000,
         "2022-01-21",
         "Shaving Cream",
         true,
         true,
         "Winter",
         "Winter",
         0
        ],
        [
         1000000000,
         "2022-01-21",
         "Light Bulbs",
         true,
         true,
         "Winter",
         "Winter",
         0
        ],
        [
         1000000001,
         "2023-03-01",
         "Ice Cream",
         true,
         true,
         "Fall",
         "Spring",
         1
        ],
        [
         1000000001,
         "2023-03-01",
         "Milk",
         true,
         true,
         "Fall",
         "Spring",
         1
        ],
        [
         1000000001,
         "2023-03-01",
         "Olive Oil",
         true,
         true,
         "Fall",
         "Spring",
         1
        ],
        [
         1000000001,
         "2023-03-01",
         "Bread",
         true,
         true,
         "Fall",
         "Spring",
         1
        ],
        [
         1000000001,
         "2023-03-01",
         "Potatoes",
         true,
         true,
         "Fall",
         "Spring",
         1
        ],
        [
         1000000002,
         "2024-03-21",
         "Spinach",
         true,
         true,
         "Winter",
         "Spring",
         1
        ],
        [
         1000000003,
         "2020-10-31",
         "Tissues",
         true,
         true,
         "Spring",
         "Fall",
         1
        ],
        [
         1000000003,
         "2020-10-31",
         "Mustard",
         true,
         true,
         "Spring",
         "Fall",
         1
        ],
        [
         1000000004,
         "2020-12-10",
         "Dish Soap",
         false,
         false,
         "Winter",
         "Winter",
         0
        ],
        [
         1000000005,
         "2021-10-07",
         "Toothpaste",
         true,
         true,
         "Spring",
         "Fall",
         1
        ],
        [
         1000000005,
         "2021-10-07",
         "Chicken",
         true,
         true,
         "Spring",
         "Fall",
         1
        ],
        [
         1000000006,
         "2023-01-08",
         "Honey",
         false,
         false,
         "Summer",
         "Winter",
         1
        ],
        [
         1000000006,
         "2023-01-08",
         "BBQ Sauce",
         false,
         false,
         "Summer",
         "Winter",
         1
        ],
        [
         1000000006,
         "2023-01-08",
         "Soda",
         false,
         false,
         "Summer",
         "Winter",
         1
        ],
        [
         1000000006,
         "2023-01-08",
         "Olive Oil",
         false,
         false,
         "Summer",
         "Winter",
         1
        ],
        [
         1000000006,
         "2023-01-08",
         "Garden Hose",
         false,
         false,
         "Summer",
         "Winter",
         1
        ],
        [
         1000000007,
         "2020-09-03",
         "Syrup",
         false,
         false,
         "Winter",
         "Fall",
         1
        ]
       ],
       "datasetInfos": [],
       "dbfsResultPath": null,
       "isJsonSchema": true,
       "metadata": {},
       "overflow": false,
       "plotOptions": {
        "customPlotOptions": {},
        "displayType": "table",
        "pivotAggregation": null,
        "pivotColumns": null,
        "xColumns": null,
        "yColumns": null
       },
       "removedWidgets": [],
       "schema": [
        {
         "metadata": "{}",
         "name": "Transaction_ID",
         "type": "\"integer\""
        },
        {
         "metadata": "{}",
         "name": "event_date",
         "type": "\"date\""
        },
        {
         "metadata": "{}",
         "name": "product",
         "type": "\"string\""
        },
        {
         "metadata": "{}",
         "name": "Discount_Applied",
         "type": "\"boolean\""
        },
        {
         "metadata": "{}",
         "name": "discount_bool",
         "type": "\"boolean\""
        },
        {
         "metadata": "{}",
         "name": "Season",
         "type": "\"string\""
        },
        {
         "metadata": "{}",
         "name": "season_computed",
         "type": "\"string\""
        },
        {
         "metadata": "{}",
         "name": "season_mismatch_flag",
         "type": "\"integer\""
        }
       ],
       "type": "table"
      }
     },
     "output_type": "display_data"
    },
    {
     "output_type": "stream",
     "name": "stdout",
     "output_type": "stream",
     "text": [
      "Season mismatches: 2250730\n"
     ]
    }
   ],
   "source": [
    "from pyspark.sql import functions as F\n",
    "\n",
    "# Add boolean and computed season, plus a simple mismatch flag for sanity check\n",
    "df_items = (\n",
    "    df_items\n",
    "    .withColumn(\n",
    "        \"discount_bool\",\n",
    "        F.lower(F.col(\"Discount_Applied\").cast(\"string\")).isin(\"true\",\"t\",\"yes\",\"y\",\"1\").cast(\"boolean\")\n",
    "    )\n",
    "    .withColumn(\n",
    "        \"season_computed\",\n",
    "        F.when(F.month(\"event_date\").isin(12,1,2), \"Winter\")\n",
    "         .when(F.month(\"event_date\").isin(3,4,5),  \"Spring\")\n",
    "         .when(F.month(\"event_date\").isin(6,7,8),  \"Summer\")\n",
    "         .otherwise(\"Fall\")\n",
    "    )\n",
    "    .withColumn(\n",
    "        \"season_mismatch_flag\",\n",
    "        F.when(F.col(\"Season\").isNotNull() & (F.col(\"Season\") != F.col(\"season_computed\")), F.lit(1)).otherwise(F.lit(0))\n",
    "    )\n",
    ")\n",
    "\n",
    "# Quick look\n",
    "display(\n",
    "  df_items.select(\n",
    "    \"Transaction_ID\",\"event_date\",\"product\",\n",
    "    \"Discount_Applied\",\"discount_bool\",\n",
    "    \"Season\",\"season_computed\",\"season_mismatch_flag\"\n",
    "  ).limit(20)\n",
    ")\n",
    "\n",
    "# Simple check: how many rows have Season different from computed season\n",
    "mismatch_count = df_items.agg(F.sum(\"season_mismatch_flag\").alias(\"mismatch_rows\")).first()[\"mismatch_rows\"]\n",
    "print(\"Season mismatches:\", mismatch_count)\n",
    "\n"
   ]
  },
  {
   "cell_type": "code",
   "execution_count": 0,
   "metadata": {
    "application/vnd.databricks.v1+cell": {
     "cellMetadata": {
      "byteLimit": 2048000,
      "rowLimit": 10000
     },
     "inputWidgets": {},
     "nuid": "f6dae213-00f4-4e18-a3da-9ab143bd1e66",
     "showTitle": false,
     "tableResultSettingsMap": {},
     "title": ""
    }
   },
   "outputs": [],
   "source": [
    "df_items = df_items.drop(\"Season\")"
   ]
  },
  {
   "cell_type": "code",
   "execution_count": 0,
   "metadata": {
    "application/vnd.databricks.v1+cell": {
     "cellMetadata": {
      "byteLimit": 2048000,
      "rowLimit": 10000
     },
     "inputWidgets": {},
     "nuid": "45d52779-e505-4a10-a298-48706dfc7a77",
     "showTitle": false,
     "tableResultSettingsMap": {},
     "title": ""
    }
   },
   "outputs": [],
   "source": [
    "df_items = df_items.drop(\"season_mismatch_flag\")"
   ]
  },
  {
   "cell_type": "code",
   "execution_count": 0,
   "metadata": {
    "application/vnd.databricks.v1+cell": {
     "cellMetadata": {
      "byteLimit": 2048000,
      "rowLimit": 10000
     },
     "inputWidgets": {},
     "nuid": "71df2672-4f70-478c-bf07-44289de9e0f1",
     "showTitle": false,
     "tableResultSettingsMap": {},
     "title": ""
    }
   },
   "outputs": [
    {
     "output_type": "display_data",
     "data": {
      "text/html": [
       "<style scoped>\n",
       "  .table-result-container {\n",
       "    max-height: 300px;\n",
       "    overflow: auto;\n",
       "  }\n",
       "  table, th, td {\n",
       "    border: 1px solid black;\n",
       "    border-collapse: collapse;\n",
       "  }\n",
       "  th, td {\n",
       "    padding: 5px;\n",
       "  }\n",
       "  th {\n",
       "    text-align: left;\n",
       "  }\n",
       "</style><div class='table-result-container'><table class='table-result'><thead style='background-color: white'><tr><th>Transaction_ID</th><th>Date</th><th>Customer_Name</th><th>product</th><th>Total_Cost</th><th>payment_method</th><th>city</th><th>store_type</th><th>Discount_Applied</th><th>Customer_Category</th><th>Promotion</th><th>event_ts</th><th>event_date</th><th>products</th><th>computed_total_items</th><th>item_qty_est</th><th>item_revenue_est</th><th>discount_bool</th><th>season_computed</th></tr></thead><tbody><tr><td>1000000000</td><td>2022-01-21T06:27:29.000Z</td><td>Stacey Price</td><td>Ketchup</td><td>71.65</td><td>Mobile Payment</td><td>Los Angeles</td><td>Warehouse Club</td><td>true</td><td>Homemaker</td><td>None</td><td>2022-01-21T06:27:29.000Z</td><td>2022-01-21</td><td>List(Ketchup, Shaving Cream, Light Bulbs)</td><td>3</td><td>1.0</td><td>23.883333333333336</td><td>true</td><td>Winter</td></tr><tr><td>1000000000</td><td>2022-01-21T06:27:29.000Z</td><td>Stacey Price</td><td>Shaving Cream</td><td>71.65</td><td>Mobile Payment</td><td>Los Angeles</td><td>Warehouse Club</td><td>true</td><td>Homemaker</td><td>None</td><td>2022-01-21T06:27:29.000Z</td><td>2022-01-21</td><td>List(Ketchup, Shaving Cream, Light Bulbs)</td><td>3</td><td>1.0</td><td>23.883333333333336</td><td>true</td><td>Winter</td></tr><tr><td>1000000000</td><td>2022-01-21T06:27:29.000Z</td><td>Stacey Price</td><td>Light Bulbs</td><td>71.65</td><td>Mobile Payment</td><td>Los Angeles</td><td>Warehouse Club</td><td>true</td><td>Homemaker</td><td>None</td><td>2022-01-21T06:27:29.000Z</td><td>2022-01-21</td><td>List(Ketchup, Shaving Cream, Light Bulbs)</td><td>3</td><td>1.0</td><td>23.883333333333336</td><td>true</td><td>Winter</td></tr><tr><td>1000000001</td><td>2023-03-01T13:01:21.000Z</td><td>Michelle Carlson</td><td>Ice Cream</td><td>25.93</td><td>Cash</td><td>San Francisco</td><td>Specialty Store</td><td>true</td><td>Professional</td><td>BOGO (Buy One Get One)</td><td>2023-03-01T13:01:21.000Z</td><td>2023-03-01</td><td>List(Ice Cream, Milk, Olive Oil, Bread, Potatoes)</td><td>5</td><td>1.0</td><td>5.186</td><td>true</td><td>Spring</td></tr><tr><td>1000000001</td><td>2023-03-01T13:01:21.000Z</td><td>Michelle Carlson</td><td>Milk</td><td>25.93</td><td>Cash</td><td>San Francisco</td><td>Specialty Store</td><td>true</td><td>Professional</td><td>BOGO (Buy One Get One)</td><td>2023-03-01T13:01:21.000Z</td><td>2023-03-01</td><td>List(Ice Cream, Milk, Olive Oil, Bread, Potatoes)</td><td>5</td><td>1.0</td><td>5.186</td><td>true</td><td>Spring</td></tr><tr><td>1000000001</td><td>2023-03-01T13:01:21.000Z</td><td>Michelle Carlson</td><td>Olive Oil</td><td>25.93</td><td>Cash</td><td>San Francisco</td><td>Specialty Store</td><td>true</td><td>Professional</td><td>BOGO (Buy One Get One)</td><td>2023-03-01T13:01:21.000Z</td><td>2023-03-01</td><td>List(Ice Cream, Milk, Olive Oil, Bread, Potatoes)</td><td>5</td><td>1.0</td><td>5.186</td><td>true</td><td>Spring</td></tr><tr><td>1000000001</td><td>2023-03-01T13:01:21.000Z</td><td>Michelle Carlson</td><td>Bread</td><td>25.93</td><td>Cash</td><td>San Francisco</td><td>Specialty Store</td><td>true</td><td>Professional</td><td>BOGO (Buy One Get One)</td><td>2023-03-01T13:01:21.000Z</td><td>2023-03-01</td><td>List(Ice Cream, Milk, Olive Oil, Bread, Potatoes)</td><td>5</td><td>1.0</td><td>5.186</td><td>true</td><td>Spring</td></tr><tr><td>1000000001</td><td>2023-03-01T13:01:21.000Z</td><td>Michelle Carlson</td><td>Potatoes</td><td>25.93</td><td>Cash</td><td>San Francisco</td><td>Specialty Store</td><td>true</td><td>Professional</td><td>BOGO (Buy One Get One)</td><td>2023-03-01T13:01:21.000Z</td><td>2023-03-01</td><td>List(Ice Cream, Milk, Olive Oil, Bread, Potatoes)</td><td>5</td><td>1.0</td><td>5.186</td><td>true</td><td>Spring</td></tr><tr><td>1000000002</td><td>2024-03-21T15:37:04.000Z</td><td>Lisa Graves</td><td>Spinach</td><td>41.49</td><td>Credit Card</td><td>Houston</td><td>Department Store</td><td>true</td><td>Professional</td><td>None</td><td>2024-03-21T15:37:04.000Z</td><td>2024-03-21</td><td>List(Spinach)</td><td>1</td><td>1.0</td><td>41.49</td><td>true</td><td>Spring</td></tr><tr><td>1000000003</td><td>2020-10-31T09:59:47.000Z</td><td>Mrs. Patricia May</td><td>Tissues</td><td>39.34</td><td>Mobile Payment</td><td>Chicago</td><td>Pharmacy</td><td>true</td><td>Homemaker</td><td>None</td><td>2020-10-31T09:59:47.000Z</td><td>2020-10-31</td><td>List(Tissues, Mustard)</td><td>2</td><td>1.0</td><td>19.67</td><td>true</td><td>Fall</td></tr></tbody></table></div>"
      ]
     },
     "metadata": {
      "application/vnd.databricks.v1+output": {
       "addedWidgets": {},
       "aggData": [],
       "aggError": "",
       "aggOverflow": false,
       "aggSchema": [],
       "aggSeriesLimitReached": false,
       "aggType": "",
       "arguments": {},
       "columnCustomDisplayInfos": {},
       "data": [
        [
         1000000000,
         "2022-01-21T06:27:29.000Z",
         "Stacey Price",
         "Ketchup",
         71.65,
         "Mobile Payment",
         "Los Angeles",
         "Warehouse Club",
         true,
         "Homemaker",
         "None",
         "2022-01-21T06:27:29.000Z",
         "2022-01-21",
         [
          "Ketchup",
          "Shaving Cream",
          "Light Bulbs"
         ],
         3,
         1.0,
         23.883333333333336,
         true,
         "Winter"
        ],
        [
         1000000000,
         "2022-01-21T06:27:29.000Z",
         "Stacey Price",
         "Shaving Cream",
         71.65,
         "Mobile Payment",
         "Los Angeles",
         "Warehouse Club",
         true,
         "Homemaker",
         "None",
         "2022-01-21T06:27:29.000Z",
         "2022-01-21",
         [
          "Ketchup",
          "Shaving Cream",
          "Light Bulbs"
         ],
         3,
         1.0,
         23.883333333333336,
         true,
         "Winter"
        ],
        [
         1000000000,
         "2022-01-21T06:27:29.000Z",
         "Stacey Price",
         "Light Bulbs",
         71.65,
         "Mobile Payment",
         "Los Angeles",
         "Warehouse Club",
         true,
         "Homemaker",
         "None",
         "2022-01-21T06:27:29.000Z",
         "2022-01-21",
         [
          "Ketchup",
          "Shaving Cream",
          "Light Bulbs"
         ],
         3,
         1.0,
         23.883333333333336,
         true,
         "Winter"
        ],
        [
         1000000001,
         "2023-03-01T13:01:21.000Z",
         "Michelle Carlson",
         "Ice Cream",
         25.93,
         "Cash",
         "San Francisco",
         "Specialty Store",
         true,
         "Professional",
         "BOGO (Buy One Get One)",
         "2023-03-01T13:01:21.000Z",
         "2023-03-01",
         [
          "Ice Cream",
          "Milk",
          "Olive Oil",
          "Bread",
          "Potatoes"
         ],
         5,
         1.0,
         5.186,
         true,
         "Spring"
        ],
        [
         1000000001,
         "2023-03-01T13:01:21.000Z",
         "Michelle Carlson",
         "Milk",
         25.93,
         "Cash",
         "San Francisco",
         "Specialty Store",
         true,
         "Professional",
         "BOGO (Buy One Get One)",
         "2023-03-01T13:01:21.000Z",
         "2023-03-01",
         [
          "Ice Cream",
          "Milk",
          "Olive Oil",
          "Bread",
          "Potatoes"
         ],
         5,
         1.0,
         5.186,
         true,
         "Spring"
        ],
        [
         1000000001,
         "2023-03-01T13:01:21.000Z",
         "Michelle Carlson",
         "Olive Oil",
         25.93,
         "Cash",
         "San Francisco",
         "Specialty Store",
         true,
         "Professional",
         "BOGO (Buy One Get One)",
         "2023-03-01T13:01:21.000Z",
         "2023-03-01",
         [
          "Ice Cream",
          "Milk",
          "Olive Oil",
          "Bread",
          "Potatoes"
         ],
         5,
         1.0,
         5.186,
         true,
         "Spring"
        ],
        [
         1000000001,
         "2023-03-01T13:01:21.000Z",
         "Michelle Carlson",
         "Bread",
         25.93,
         "Cash",
         "San Francisco",
         "Specialty Store",
         true,
         "Professional",
         "BOGO (Buy One Get One)",
         "2023-03-01T13:01:21.000Z",
         "2023-03-01",
         [
          "Ice Cream",
          "Milk",
          "Olive Oil",
          "Bread",
          "Potatoes"
         ],
         5,
         1.0,
         5.186,
         true,
         "Spring"
        ],
        [
         1000000001,
         "2023-03-01T13:01:21.000Z",
         "Michelle Carlson",
         "Potatoes",
         25.93,
         "Cash",
         "San Francisco",
         "Specialty Store",
         true,
         "Professional",
         "BOGO (Buy One Get One)",
         "2023-03-01T13:01:21.000Z",
         "2023-03-01",
         [
          "Ice Cream",
          "Milk",
          "Olive Oil",
          "Bread",
          "Potatoes"
         ],
         5,
         1.0,
         5.186,
         true,
         "Spring"
        ],
        [
         1000000002,
         "2024-03-21T15:37:04.000Z",
         "Lisa Graves",
         "Spinach",
         41.49,
         "Credit Card",
         "Houston",
         "Department Store",
         true,
         "Professional",
         "None",
         "2024-03-21T15:37:04.000Z",
         "2024-03-21",
         [
          "Spinach"
         ],
         1,
         1.0,
         41.49,
         true,
         "Spring"
        ],
        [
         1000000003,
         "2020-10-31T09:59:47.000Z",
         "Mrs. Patricia May",
         "Tissues",
         39.34,
         "Mobile Payment",
         "Chicago",
         "Pharmacy",
         true,
         "Homemaker",
         "None",
         "2020-10-31T09:59:47.000Z",
         "2020-10-31",
         [
          "Tissues",
          "Mustard"
         ],
         2,
         1.0,
         19.67,
         true,
         "Fall"
        ]
       ],
       "datasetInfos": [],
       "dbfsResultPath": null,
       "isJsonSchema": true,
       "metadata": {},
       "overflow": false,
       "plotOptions": {
        "customPlotOptions": {},
        "displayType": "table",
        "pivotAggregation": null,
        "pivotColumns": null,
        "xColumns": null,
        "yColumns": null
       },
       "removedWidgets": [],
       "schema": [
        {
         "metadata": "{}",
         "name": "Transaction_ID",
         "type": "\"integer\""
        },
        {
         "metadata": "{}",
         "name": "Date",
         "type": "\"timestamp\""
        },
        {
         "metadata": "{}",
         "name": "Customer_Name",
         "type": "\"string\""
        },
        {
         "metadata": "{}",
         "name": "product",
         "type": "\"string\""
        },
        {
         "metadata": "{}",
         "name": "Total_Cost",
         "type": "\"double\""
        },
        {
         "metadata": "{}",
         "name": "payment_method",
         "type": "\"string\""
        },
        {
         "metadata": "{}",
         "name": "city",
         "type": "\"string\""
        },
        {
         "metadata": "{}",
         "name": "store_type",
         "type": "\"string\""
        },
        {
         "metadata": "{}",
         "name": "Discount_Applied",
         "type": "\"boolean\""
        },
        {
         "metadata": "{}",
         "name": "Customer_Category",
         "type": "\"string\""
        },
        {
         "metadata": "{}",
         "name": "Promotion",
         "type": "\"string\""
        },
        {
         "metadata": "{}",
         "name": "event_ts",
         "type": "\"timestamp\""
        },
        {
         "metadata": "{}",
         "name": "event_date",
         "type": "\"date\""
        },
        {
         "metadata": "{}",
         "name": "products",
         "type": "{\"containsNull\":true,\"elementType\":\"string\",\"type\":\"array\"}"
        },
        {
         "metadata": "{}",
         "name": "computed_total_items",
         "type": "\"integer\""
        },
        {
         "metadata": "{}",
         "name": "item_qty_est",
         "type": "\"double\""
        },
        {
         "metadata": "{}",
         "name": "item_revenue_est",
         "type": "\"double\""
        },
        {
         "metadata": "{}",
         "name": "discount_bool",
         "type": "\"boolean\""
        },
        {
         "metadata": "{}",
         "name": "season_computed",
         "type": "\"string\""
        }
       ],
       "type": "table"
      }
     },
     "output_type": "display_data"
    }
   ],
   "source": [
    "display(df_items.limit(10))"
   ]
  },
  {
   "cell_type": "code",
   "execution_count": 0,
   "metadata": {
    "application/vnd.databricks.v1+cell": {
     "cellMetadata": {
      "byteLimit": 2048000,
      "rowLimit": 10000
     },
     "inputWidgets": {},
     "nuid": "489d64ae-6dad-40c6-bb56-af24a56e3d9e",
     "showTitle": false,
     "tableResultSettingsMap": {},
     "title": ""
    }
   },
   "outputs": [
    {
     "output_type": "display_data",
     "data": {
      "text/html": [
       "<style scoped>\n",
       "  .table-result-container {\n",
       "    max-height: 300px;\n",
       "    overflow: auto;\n",
       "  }\n",
       "  table, th, td {\n",
       "    border: 1px solid black;\n",
       "    border-collapse: collapse;\n",
       "  }\n",
       "  th, td {\n",
       "    padding: 5px;\n",
       "  }\n",
       "  th {\n",
       "    text-align: left;\n",
       "  }\n",
       "</style><div class='table-result-container'><table class='table-result'><thead style='background-color: white'><tr><th>transaction_id</th><th>event_ts</th><th>event_date</th><th>customer_name</th><th>product</th><th>products</th><th>total_cost</th><th>payment_method</th><th>city</th><th>store_type</th><th>discount_applied</th><th>discount_bool</th><th>customer_category</th><th>promotion</th><th>season_computed</th><th>computed_total_items</th><th>item_qty_est</th><th>item_revenue_est</th></tr></thead><tbody><tr><td>1000000991</td><td>2022-11-29T00:35:28.000Z</td><td>2022-11-29</td><td>Mrs. Stephanie Spencer</td><td>Baby Wipes</td><td>List(Baby Wipes, Butter, Lawn Mower, Toilet Paper)</td><td>61.89</td><td>Cash</td><td>Miami</td><td>Warehouse Club</td><td>true</td><td>true</td><td>Student</td><td>Discount on Selected Items</td><td>Fall</td><td>4</td><td>1.0</td><td>15.4725</td></tr><tr><td>1000000991</td><td>2022-11-29T00:35:28.000Z</td><td>2022-11-29</td><td>Mrs. Stephanie Spencer</td><td>Butter</td><td>List(Baby Wipes, Butter, Lawn Mower, Toilet Paper)</td><td>61.89</td><td>Cash</td><td>Miami</td><td>Warehouse Club</td><td>true</td><td>true</td><td>Student</td><td>Discount on Selected Items</td><td>Fall</td><td>4</td><td>1.0</td><td>15.4725</td></tr><tr><td>1000000991</td><td>2022-11-29T00:35:28.000Z</td><td>2022-11-29</td><td>Mrs. Stephanie Spencer</td><td>Lawn Mower</td><td>List(Baby Wipes, Butter, Lawn Mower, Toilet Paper)</td><td>61.89</td><td>Cash</td><td>Miami</td><td>Warehouse Club</td><td>true</td><td>true</td><td>Student</td><td>Discount on Selected Items</td><td>Fall</td><td>4</td><td>1.0</td><td>15.4725</td></tr><tr><td>1000000991</td><td>2022-11-29T00:35:28.000Z</td><td>2022-11-29</td><td>Mrs. Stephanie Spencer</td><td>Toilet Paper</td><td>List(Baby Wipes, Butter, Lawn Mower, Toilet Paper)</td><td>61.89</td><td>Cash</td><td>Miami</td><td>Warehouse Club</td><td>true</td><td>true</td><td>Student</td><td>Discount on Selected Items</td><td>Fall</td><td>4</td><td>1.0</td><td>15.4725</td></tr><tr><td>1000002802</td><td>2022-11-29T20:55:25.000Z</td><td>2022-11-29</td><td>Connor Patel</td><td>Eggs</td><td>List(Eggs, Deodorant)</td><td>68.6</td><td>Credit Card</td><td>Atlanta</td><td>Convenience Store</td><td>true</td><td>true</td><td>Senior Citizen</td><td>None</td><td>Fall</td><td>2</td><td>1.0</td><td>34.3</td></tr><tr><td>1000002802</td><td>2022-11-29T20:55:25.000Z</td><td>2022-11-29</td><td>Connor Patel</td><td>Deodorant</td><td>List(Eggs, Deodorant)</td><td>68.6</td><td>Credit Card</td><td>Atlanta</td><td>Convenience Store</td><td>true</td><td>true</td><td>Senior Citizen</td><td>None</td><td>Fall</td><td>2</td><td>1.0</td><td>34.3</td></tr><tr><td>1000002949</td><td>2022-11-29T06:14:59.000Z</td><td>2022-11-29</td><td>Daniel Aguilar</td><td>Apple</td><td>List(Apple, Shaving Cream, Laundry Detergent, Shampoo, Cheese)</td><td>35.87</td><td>Debit Card</td><td>New York</td><td>Warehouse Club</td><td>true</td><td>true</td><td>Retiree</td><td>Discount on Selected Items</td><td>Fall</td><td>5</td><td>1.0</td><td>7.1739999999999995</td></tr><tr><td>1000002949</td><td>2022-11-29T06:14:59.000Z</td><td>2022-11-29</td><td>Daniel Aguilar</td><td>Shaving Cream</td><td>List(Apple, Shaving Cream, Laundry Detergent, Shampoo, Cheese)</td><td>35.87</td><td>Debit Card</td><td>New York</td><td>Warehouse Club</td><td>true</td><td>true</td><td>Retiree</td><td>Discount on Selected Items</td><td>Fall</td><td>5</td><td>1.0</td><td>7.1739999999999995</td></tr><tr><td>1000002949</td><td>2022-11-29T06:14:59.000Z</td><td>2022-11-29</td><td>Daniel Aguilar</td><td>Laundry Detergent</td><td>List(Apple, Shaving Cream, Laundry Detergent, Shampoo, Cheese)</td><td>35.87</td><td>Debit Card</td><td>New York</td><td>Warehouse Club</td><td>true</td><td>true</td><td>Retiree</td><td>Discount on Selected Items</td><td>Fall</td><td>5</td><td>1.0</td><td>7.1739999999999995</td></tr><tr><td>1000002949</td><td>2022-11-29T06:14:59.000Z</td><td>2022-11-29</td><td>Daniel Aguilar</td><td>Shampoo</td><td>List(Apple, Shaving Cream, Laundry Detergent, Shampoo, Cheese)</td><td>35.87</td><td>Debit Card</td><td>New York</td><td>Warehouse Club</td><td>true</td><td>true</td><td>Retiree</td><td>Discount on Selected Items</td><td>Fall</td><td>5</td><td>1.0</td><td>7.1739999999999995</td></tr></tbody></table></div>"
      ]
     },
     "metadata": {
      "application/vnd.databricks.v1+output": {
       "addedWidgets": {},
       "aggData": [],
       "aggError": "",
       "aggOverflow": false,
       "aggSchema": [],
       "aggSeriesLimitReached": false,
       "aggType": "",
       "arguments": {},
       "columnCustomDisplayInfos": {},
       "data": [
        [
         1000000991,
         "2022-11-29T00:35:28.000Z",
         "2022-11-29",
         "Mrs. Stephanie Spencer",
         "Baby Wipes",
         [
          "Baby Wipes",
          "Butter",
          "Lawn Mower",
          "Toilet Paper"
         ],
         61.89,
         "Cash",
         "Miami",
         "Warehouse Club",
         true,
         true,
         "Student",
         "Discount on Selected Items",
         "Fall",
         4,
         1.0,
         15.4725
        ],
        [
         1000000991,
         "2022-11-29T00:35:28.000Z",
         "2022-11-29",
         "Mrs. Stephanie Spencer",
         "Butter",
         [
          "Baby Wipes",
          "Butter",
          "Lawn Mower",
          "Toilet Paper"
         ],
         61.89,
         "Cash",
         "Miami",
         "Warehouse Club",
         true,
         true,
         "Student",
         "Discount on Selected Items",
         "Fall",
         4,
         1.0,
         15.4725
        ],
        [
         1000000991,
         "2022-11-29T00:35:28.000Z",
         "2022-11-29",
         "Mrs. Stephanie Spencer",
         "Lawn Mower",
         [
          "Baby Wipes",
          "Butter",
          "Lawn Mower",
          "Toilet Paper"
         ],
         61.89,
         "Cash",
         "Miami",
         "Warehouse Club",
         true,
         true,
         "Student",
         "Discount on Selected Items",
         "Fall",
         4,
         1.0,
         15.4725
        ],
        [
         1000000991,
         "2022-11-29T00:35:28.000Z",
         "2022-11-29",
         "Mrs. Stephanie Spencer",
         "Toilet Paper",
         [
          "Baby Wipes",
          "Butter",
          "Lawn Mower",
          "Toilet Paper"
         ],
         61.89,
         "Cash",
         "Miami",
         "Warehouse Club",
         true,
         true,
         "Student",
         "Discount on Selected Items",
         "Fall",
         4,
         1.0,
         15.4725
        ],
        [
         1000002802,
         "2022-11-29T20:55:25.000Z",
         "2022-11-29",
         "Connor Patel",
         "Eggs",
         [
          "Eggs",
          "Deodorant"
         ],
         68.6,
         "Credit Card",
         "Atlanta",
         "Convenience Store",
         true,
         true,
         "Senior Citizen",
         "None",
         "Fall",
         2,
         1.0,
         34.3
        ],
        [
         1000002802,
         "2022-11-29T20:55:25.000Z",
         "2022-11-29",
         "Connor Patel",
         "Deodorant",
         [
          "Eggs",
          "Deodorant"
         ],
         68.6,
         "Credit Card",
         "Atlanta",
         "Convenience Store",
         true,
         true,
         "Senior Citizen",
         "None",
         "Fall",
         2,
         1.0,
         34.3
        ],
        [
         1000002949,
         "2022-11-29T06:14:59.000Z",
         "2022-11-29",
         "Daniel Aguilar",
         "Apple",
         [
          "Apple",
          "Shaving Cream",
          "Laundry Detergent",
          "Shampoo",
          "Cheese"
         ],
         35.87,
         "Debit Card",
         "New York",
         "Warehouse Club",
         true,
         true,
         "Retiree",
         "Discount on Selected Items",
         "Fall",
         5,
         1.0,
         7.1739999999999995
        ],
        [
         1000002949,
         "2022-11-29T06:14:59.000Z",
         "2022-11-29",
         "Daniel Aguilar",
         "Shaving Cream",
         [
          "Apple",
          "Shaving Cream",
          "Laundry Detergent",
          "Shampoo",
          "Cheese"
         ],
         35.87,
         "Debit Card",
         "New York",
         "Warehouse Club",
         true,
         true,
         "Retiree",
         "Discount on Selected Items",
         "Fall",
         5,
         1.0,
         7.1739999999999995
        ],
        [
         1000002949,
         "2022-11-29T06:14:59.000Z",
         "2022-11-29",
         "Daniel Aguilar",
         "Laundry Detergent",
         [
          "Apple",
          "Shaving Cream",
          "Laundry Detergent",
          "Shampoo",
          "Cheese"
         ],
         35.87,
         "Debit Card",
         "New York",
         "Warehouse Club",
         true,
         true,
         "Retiree",
         "Discount on Selected Items",
         "Fall",
         5,
         1.0,
         7.1739999999999995
        ],
        [
         1000002949,
         "2022-11-29T06:14:59.000Z",
         "2022-11-29",
         "Daniel Aguilar",
         "Shampoo",
         [
          "Apple",
          "Shaving Cream",
          "Laundry Detergent",
          "Shampoo",
          "Cheese"
         ],
         35.87,
         "Debit Card",
         "New York",
         "Warehouse Club",
         true,
         true,
         "Retiree",
         "Discount on Selected Items",
         "Fall",
         5,
         1.0,
         7.1739999999999995
        ]
       ],
       "datasetInfos": [],
       "dbfsResultPath": null,
       "isJsonSchema": true,
       "metadata": {},
       "overflow": false,
       "plotOptions": {
        "customPlotOptions": {},
        "displayType": "table",
        "pivotAggregation": null,
        "pivotColumns": null,
        "xColumns": null,
        "yColumns": null
       },
       "removedWidgets": [],
       "schema": [
        {
         "metadata": "{}",
         "name": "transaction_id",
         "type": "\"long\""
        },
        {
         "metadata": "{}",
         "name": "event_ts",
         "type": "\"timestamp\""
        },
        {
         "metadata": "{}",
         "name": "event_date",
         "type": "\"date\""
        },
        {
         "metadata": "{}",
         "name": "customer_name",
         "type": "\"string\""
        },
        {
         "metadata": "{}",
         "name": "product",
         "type": "\"string\""
        },
        {
         "metadata": "{}",
         "name": "products",
         "type": "{\"containsNull\":true,\"elementType\":\"string\",\"type\":\"array\"}"
        },
        {
         "metadata": "{}",
         "name": "total_cost",
         "type": "\"double\""
        },
        {
         "metadata": "{}",
         "name": "payment_method",
         "type": "\"string\""
        },
        {
         "metadata": "{}",
         "name": "city",
         "type": "\"string\""
        },
        {
         "metadata": "{}",
         "name": "store_type",
         "type": "\"string\""
        },
        {
         "metadata": "{}",
         "name": "discount_applied",
         "type": "\"boolean\""
        },
        {
         "metadata": "{}",
         "name": "discount_bool",
         "type": "\"boolean\""
        },
        {
         "metadata": "{}",
         "name": "customer_category",
         "type": "\"string\""
        },
        {
         "metadata": "{}",
         "name": "promotion",
         "type": "\"string\""
        },
        {
         "metadata": "{}",
         "name": "season_computed",
         "type": "\"string\""
        },
        {
         "metadata": "{}",
         "name": "computed_total_items",
         "type": "\"integer\""
        },
        {
         "metadata": "{}",
         "name": "item_qty_est",
         "type": "\"double\""
        },
        {
         "metadata": "{}",
         "name": "item_revenue_est",
         "type": "\"double\""
        }
       ],
       "type": "table"
      }
     },
     "output_type": "display_data"
    }
   ],
   "source": [
    "from pyspark.sql import functions as F\n",
    "\n",
    "# Curate columns & types for a clean Silver schema\n",
    "df_silver = (\n",
    "    df_items.select(\n",
    "        F.col(\"Transaction_ID\").cast(\"long\").alias(\"transaction_id\"),\n",
    "        F.col(\"event_ts\").cast(\"timestamp\").alias(\"event_ts\"),\n",
    "        F.col(\"event_date\").cast(\"date\").alias(\"event_date\"),\n",
    "        F.col(\"Customer_Name\").alias(\"customer_name\"),\n",
    "        F.col(\"product\"),\n",
    "        F.col(\"products\"),\n",
    "        F.col(\"Total_Cost\").cast(\"double\").alias(\"total_cost\"),\n",
    "        F.col(\"payment_method\"),\n",
    "        F.col(\"city\"),\n",
    "        F.col(\"store_type\"),\n",
    "        F.col(\"Discount_Applied\").alias(\"discount_applied\"),\n",
    "        F.col(\"discount_bool\").cast(\"boolean\").alias(\"discount_bool\"),\n",
    "        F.col(\"Customer_Category\").alias(\"customer_category\"),\n",
    "        F.col(\"Promotion\").alias(\"promotion\"),\n",
    "        F.col(\"season_computed\"),\n",
    "        F.col(\"computed_total_items\").cast(\"int\").alias(\"computed_total_items\"),\n",
    "        F.col(\"item_qty_est\").cast(\"double\").alias(\"item_qty_est\"),\n",
    "        F.col(\"item_revenue_est\").cast(\"double\").alias(\"item_revenue_est\")\n",
    "    )\n",
    ")\n",
    "\n",
    "# Save as a Delta table (Unity Catalog)\n",
    "catalog = \"retail_catalog\"\n",
    "schema  = \"retail_schema\"\n",
    "spark.sql(f\"USE CATALOG {catalog}\")\n",
    "spark.sql(f\"USE {schema}\")\n",
    "\n",
    "silver_table = f\"{catalog}.{schema}.transactions_items_silver\"\n",
    "\n",
    "(df_silver\n",
    " .write\n",
    " .mode(\"overwrite\")\n",
    " .format(\"delta\")\n",
    " .partitionBy(\"event_date\")            # good for time-based queries\n",
    " .option(\"overwriteSchema\", \"true\")\n",
    " .saveAsTable(silver_table))\n",
    "\n",
    "# Quick visual check (no spark.sql needed)\n",
    "display(spark.table(silver_table).limit(10))\n"
   ]
  },
  {
   "cell_type": "code",
   "execution_count": 0,
   "metadata": {
    "application/vnd.databricks.v1+cell": {
     "cellMetadata": {
      "byteLimit": 2048000,
      "rowLimit": 10000
     },
     "inputWidgets": {},
     "nuid": "789f2934-74c1-485a-99a4-cfd473d75095",
     "showTitle": false,
     "tableResultSettingsMap": {},
     "title": ""
    }
   },
   "outputs": [
    {
     "output_type": "display_data",
     "data": {
      "text/html": [
       "<style scoped>\n",
       "  .table-result-container {\n",
       "    max-height: 300px;\n",
       "    overflow: auto;\n",
       "  }\n",
       "  table, th, td {\n",
       "    border: 1px solid black;\n",
       "    border-collapse: collapse;\n",
       "  }\n",
       "  th, td {\n",
       "    padding: 5px;\n",
       "  }\n",
       "  th {\n",
       "    text-align: left;\n",
       "  }\n",
       "</style><div class='table-result-container'><table class='table-result'><thead style='background-color: white'><tr><th>event_date</th><th>product</th><th>units</th><th>revenue</th><th>transactions</th><th>any_promo</th><th>any_discount</th><th>avg_price_per_unit</th></tr></thead><tbody><tr><td>2020-01-01</td><td>Air Freshener</td><td>21.0</td><td>369.44649999999996</td><td>21</td><td>1</td><td>1</td><td>17.592690476190473</td></tr><tr><td>2020-01-01</td><td>Apple</td><td>26.0</td><td>668.952</td><td>26</td><td>1</td><td>1</td><td>25.728923076923078</td></tr><tr><td>2020-01-01</td><td>BBQ Sauce</td><td>25.0</td><td>461.642</td><td>25</td><td>1</td><td>1</td><td>18.46568</td></tr><tr><td>2020-01-01</td><td>Baby Wipes</td><td>21.0</td><td>448.80550000000005</td><td>21</td><td>1</td><td>1</td><td>21.37169047619048</td></tr><tr><td>2020-01-01</td><td>Banana</td><td>24.0</td><td>446.4943333333334</td><td>24</td><td>1</td><td>1</td><td>18.603930555555557</td></tr><tr><td>2020-01-01</td><td>Bath Towels</td><td>24.0</td><td>545.5206666666667</td><td>24</td><td>1</td><td>1</td><td>22.730027777777778</td></tr><tr><td>2020-01-01</td><td>Beef</td><td>19.0</td><td>314.53</td><td>19</td><td>1</td><td>1</td><td>16.55421052631579</td></tr><tr><td>2020-01-01</td><td>Bread</td><td>18.0</td><td>255.3781666666667</td><td>17</td><td>1</td><td>1</td><td>14.187675925925927</td></tr><tr><td>2020-01-01</td><td>Broom</td><td>20.0</td><td>317.20683333333335</td><td>19</td><td>1</td><td>1</td><td>15.860341666666667</td></tr><tr><td>2020-01-01</td><td>Butter</td><td>19.0</td><td>305.4991666666667</td><td>19</td><td>1</td><td>1</td><td>16.078903508771933</td></tr><tr><td>2020-01-01</td><td>Canned Soup</td><td>18.0</td><td>342.71916666666664</td><td>18</td><td>1</td><td>1</td><td>19.039953703703702</td></tr><tr><td>2020-01-01</td><td>Carrots</td><td>24.0</td><td>410.8528333333333</td><td>23</td><td>1</td><td>1</td><td>17.118868055555556</td></tr><tr><td>2020-01-01</td><td>Cereal</td><td>27.0</td><td>438.75966666666665</td><td>26</td><td>1</td><td>1</td><td>16.25035802469136</td></tr><tr><td>2020-01-01</td><td>Cereal Bars</td><td>28.0</td><td>554.4190000000001</td><td>28</td><td>1</td><td>1</td><td>19.800678571428573</td></tr><tr><td>2020-01-01</td><td>Cheese</td><td>25.0</td><td>542.6715</td><td>25</td><td>1</td><td>1</td><td>21.706860000000002</td></tr><tr><td>2020-01-01</td><td>Chicken</td><td>25.0</td><td>517.2971666666667</td><td>24</td><td>1</td><td>1</td><td>20.69188666666667</td></tr><tr><td>2020-01-01</td><td>Chips</td><td>22.0</td><td>363.2991666666667</td><td>22</td><td>1</td><td>1</td><td>16.513598484848487</td></tr><tr><td>2020-01-01</td><td>Cleaning Rags</td><td>15.0</td><td>275.98883333333333</td><td>15</td><td>1</td><td>1</td><td>18.399255555555555</td></tr><tr><td>2020-01-01</td><td>Cleaning Spray</td><td>23.0</td><td>340.6621666666667</td><td>23</td><td>1</td><td>1</td><td>14.811398550724638</td></tr><tr><td>2020-01-01</td><td>Coffee</td><td>17.0</td><td>195.89849999999998</td><td>17</td><td>1</td><td>1</td><td>11.523441176470588</td></tr></tbody></table></div>"
      ]
     },
     "metadata": {
      "application/vnd.databricks.v1+output": {
       "addedWidgets": {},
       "aggData": [],
       "aggError": "",
       "aggOverflow": false,
       "aggSchema": [],
       "aggSeriesLimitReached": false,
       "aggType": "",
       "arguments": {},
       "columnCustomDisplayInfos": {},
       "data": [
        [
         "2020-01-01",
         "Air Freshener",
         21.0,
         369.44649999999996,
         21,
         1,
         1,
         17.592690476190473
        ],
        [
         "2020-01-01",
         "Apple",
         26.0,
         668.952,
         26,
         1,
         1,
         25.728923076923078
        ],
        [
         "2020-01-01",
         "BBQ Sauce",
         25.0,
         461.642,
         25,
         1,
         1,
         18.46568
        ],
        [
         "2020-01-01",
         "Baby Wipes",
         21.0,
         448.80550000000005,
         21,
         1,
         1,
         21.37169047619048
        ],
        [
         "2020-01-01",
         "Banana",
         24.0,
         446.4943333333334,
         24,
         1,
         1,
         18.603930555555557
        ],
        [
         "2020-01-01",
         "Bath Towels",
         24.0,
         545.5206666666667,
         24,
         1,
         1,
         22.730027777777778
        ],
        [
         "2020-01-01",
         "Beef",
         19.0,
         314.53,
         19,
         1,
         1,
         16.55421052631579
        ],
        [
         "2020-01-01",
         "Bread",
         18.0,
         255.3781666666667,
         17,
         1,
         1,
         14.187675925925927
        ],
        [
         "2020-01-01",
         "Broom",
         20.0,
         317.20683333333335,
         19,
         1,
         1,
         15.860341666666667
        ],
        [
         "2020-01-01",
         "Butter",
         19.0,
         305.4991666666667,
         19,
         1,
         1,
         16.078903508771933
        ],
        [
         "2020-01-01",
         "Canned Soup",
         18.0,
         342.71916666666664,
         18,
         1,
         1,
         19.039953703703702
        ],
        [
         "2020-01-01",
         "Carrots",
         24.0,
         410.8528333333333,
         23,
         1,
         1,
         17.118868055555556
        ],
        [
         "2020-01-01",
         "Cereal",
         27.0,
         438.75966666666665,
         26,
         1,
         1,
         16.25035802469136
        ],
        [
         "2020-01-01",
         "Cereal Bars",
         28.0,
         554.4190000000001,
         28,
         1,
         1,
         19.800678571428573
        ],
        [
         "2020-01-01",
         "Cheese",
         25.0,
         542.6715,
         25,
         1,
         1,
         21.706860000000002
        ],
        [
         "2020-01-01",
         "Chicken",
         25.0,
         517.2971666666667,
         24,
         1,
         1,
         20.69188666666667
        ],
        [
         "2020-01-01",
         "Chips",
         22.0,
         363.2991666666667,
         22,
         1,
         1,
         16.513598484848487
        ],
        [
         "2020-01-01",
         "Cleaning Rags",
         15.0,
         275.98883333333333,
         15,
         1,
         1,
         18.399255555555555
        ],
        [
         "2020-01-01",
         "Cleaning Spray",
         23.0,
         340.6621666666667,
         23,
         1,
         1,
         14.811398550724638
        ],
        [
         "2020-01-01",
         "Coffee",
         17.0,
         195.89849999999998,
         17,
         1,
         1,
         11.523441176470588
        ]
       ],
       "datasetInfos": [],
       "dbfsResultPath": null,
       "isJsonSchema": true,
       "metadata": {},
       "overflow": false,
       "plotOptions": {
        "customPlotOptions": {},
        "displayType": "table",
        "pivotAggregation": null,
        "pivotColumns": null,
        "xColumns": null,
        "yColumns": null
       },
       "removedWidgets": [],
       "schema": [
        {
         "metadata": "{}",
         "name": "event_date",
         "type": "\"date\""
        },
        {
         "metadata": "{}",
         "name": "product",
         "type": "\"string\""
        },
        {
         "metadata": "{}",
         "name": "units",
         "type": "\"double\""
        },
        {
         "metadata": "{}",
         "name": "revenue",
         "type": "\"double\""
        },
        {
         "metadata": "{}",
         "name": "transactions",
         "type": "\"long\""
        },
        {
         "metadata": "{}",
         "name": "any_promo",
         "type": "\"integer\""
        },
        {
         "metadata": "{}",
         "name": "any_discount",
         "type": "\"integer\""
        },
        {
         "metadata": "{}",
         "name": "avg_price_per_unit",
         "type": "\"double\""
        }
       ],
       "type": "table"
      }
     },
     "output_type": "display_data"
    }
   ],
   "source": [
    "from pyspark.sql import functions as F\n",
    "\n",
    "# Read Silver\n",
    "silver_table = \"retail_catalog.retail_schema.transactions_items_silver\"\n",
    "df_silver = spark.table(silver_table)\n",
    "\n",
    "# Aggregate to daily product demand\n",
    "gold_daily = (\n",
    "    df_silver\n",
    "    .groupBy(\"event_date\", \"product\")   # To aggregate by store too, add \"city\",\"store_type\" here\n",
    "    .agg(\n",
    "        F.sum(\"item_qty_est\").alias(\"units\"),\n",
    "        F.sum(\"item_revenue_est\").alias(\"revenue\"),\n",
    "        F.countDistinct(\"transaction_id\").alias(\"transactions\"),\n",
    "        F.max(F.when((F.col(\"promotion\").isNotNull()) & (F.col(\"promotion\") != \"None\"), 1).otherwise(0)).alias(\"any_promo\"),\n",
    "        F.max(F.col(\"discount_bool\").cast(\"int\")).alias(\"any_discount\")\n",
    "    )\n",
    "    .withColumn(\"avg_price_per_unit\", F.when(F.col(\"units\") > 0, F.col(\"revenue\") / F.col(\"units\")))\n",
    ")\n",
    "\n",
    "# Save Gold table\n",
    "gold_table = \"retail_catalog.retail_schema.demand_daily_gold\"\n",
    "(gold_daily\n",
    " .write\n",
    " .mode(\"overwrite\")\n",
    " .format(\"delta\")\n",
    " .partitionBy(\"event_date\")\n",
    " .option(\"overwriteSchema\", \"true\")\n",
    " .saveAsTable(gold_table))\n",
    "\n",
    "# Quick look\n",
    "display(spark.table(gold_table).orderBy(\"event_date\",\"product\").limit(20))\n"
   ]
  },
  {
   "cell_type": "code",
   "execution_count": 0,
   "metadata": {
    "application/vnd.databricks.v1+cell": {
     "cellMetadata": {
      "byteLimit": 2048000,
      "rowLimit": 10000
     },
     "inputWidgets": {},
     "nuid": "468d873e-f0f0-42c4-a7bc-673a14fa21a7",
     "showTitle": false,
     "tableResultSettingsMap": {},
     "title": ""
    }
   },
   "outputs": [
    {
     "output_type": "display_data",
     "data": {
      "text/html": [
       "<style scoped>\n",
       "  .table-result-container {\n",
       "    max-height: 300px;\n",
       "    overflow: auto;\n",
       "  }\n",
       "  table, th, td {\n",
       "    border: 1px solid black;\n",
       "    border-collapse: collapse;\n",
       "  }\n",
       "  th, td {\n",
       "    padding: 5px;\n",
       "  }\n",
       "  th {\n",
       "    text-align: left;\n",
       "  }\n",
       "</style><div class='table-result-container'><table class='table-result'><thead style='background-color: white'><tr><th>event_date</th><th>product</th><th>units</th><th>revenue</th><th>transactions</th><th>any_promo</th><th>any_discount</th><th>avg_price_per_unit</th><th>lag_1d_units</th><th>lag_7d_units</th><th>ma_7d_units</th><th>ma_14d_units</th><th>ma_28d_units</th><th>lag_1d_revenue</th><th>ma_7d_revenue</th><th>ma_14d_revenue</th><th>ma_28d_revenue</th></tr></thead><tbody><tr><td>2020-01-01</td><td>Air Freshener</td><td>21.0</td><td>369.44649999999996</td><td>21</td><td>1</td><td>1</td><td>17.592690476190473</td><td>null</td><td>null</td><td>21.0</td><td>21.0</td><td>21.0</td><td>null</td><td>369.44649999999996</td><td>369.44649999999996</td><td>369.44649999999996</td></tr><tr><td>2020-01-01</td><td>Apple</td><td>26.0</td><td>668.952</td><td>26</td><td>1</td><td>1</td><td>25.728923076923078</td><td>null</td><td>null</td><td>26.0</td><td>26.0</td><td>26.0</td><td>null</td><td>668.952</td><td>668.952</td><td>668.952</td></tr><tr><td>2020-01-01</td><td>BBQ Sauce</td><td>25.0</td><td>461.642</td><td>25</td><td>1</td><td>1</td><td>18.46568</td><td>null</td><td>null</td><td>25.0</td><td>25.0</td><td>25.0</td><td>null</td><td>461.642</td><td>461.642</td><td>461.642</td></tr><tr><td>2020-01-01</td><td>Baby Wipes</td><td>21.0</td><td>448.80550000000005</td><td>21</td><td>1</td><td>1</td><td>21.37169047619048</td><td>null</td><td>null</td><td>21.0</td><td>21.0</td><td>21.0</td><td>null</td><td>448.80550000000005</td><td>448.80550000000005</td><td>448.80550000000005</td></tr><tr><td>2020-01-01</td><td>Banana</td><td>24.0</td><td>446.4943333333334</td><td>24</td><td>1</td><td>1</td><td>18.603930555555557</td><td>null</td><td>null</td><td>24.0</td><td>24.0</td><td>24.0</td><td>null</td><td>446.4943333333334</td><td>446.4943333333334</td><td>446.4943333333334</td></tr><tr><td>2020-01-01</td><td>Bath Towels</td><td>24.0</td><td>545.5206666666667</td><td>24</td><td>1</td><td>1</td><td>22.730027777777778</td><td>null</td><td>null</td><td>24.0</td><td>24.0</td><td>24.0</td><td>null</td><td>545.5206666666667</td><td>545.5206666666667</td><td>545.5206666666667</td></tr><tr><td>2020-01-01</td><td>Beef</td><td>19.0</td><td>314.53</td><td>19</td><td>1</td><td>1</td><td>16.55421052631579</td><td>null</td><td>null</td><td>19.0</td><td>19.0</td><td>19.0</td><td>null</td><td>314.53</td><td>314.53</td><td>314.53</td></tr><tr><td>2020-01-01</td><td>Bread</td><td>18.0</td><td>255.3781666666667</td><td>17</td><td>1</td><td>1</td><td>14.187675925925927</td><td>null</td><td>null</td><td>18.0</td><td>18.0</td><td>18.0</td><td>null</td><td>255.3781666666667</td><td>255.3781666666667</td><td>255.3781666666667</td></tr><tr><td>2020-01-01</td><td>Broom</td><td>20.0</td><td>317.20683333333335</td><td>19</td><td>1</td><td>1</td><td>15.860341666666667</td><td>null</td><td>null</td><td>20.0</td><td>20.0</td><td>20.0</td><td>null</td><td>317.20683333333335</td><td>317.20683333333335</td><td>317.20683333333335</td></tr><tr><td>2020-01-01</td><td>Butter</td><td>19.0</td><td>305.4991666666667</td><td>19</td><td>1</td><td>1</td><td>16.078903508771933</td><td>null</td><td>null</td><td>19.0</td><td>19.0</td><td>19.0</td><td>null</td><td>305.4991666666667</td><td>305.4991666666667</td><td>305.4991666666667</td></tr><tr><td>2020-01-01</td><td>Canned Soup</td><td>18.0</td><td>342.71916666666664</td><td>18</td><td>1</td><td>1</td><td>19.039953703703702</td><td>null</td><td>null</td><td>18.0</td><td>18.0</td><td>18.0</td><td>null</td><td>342.71916666666664</td><td>342.71916666666664</td><td>342.71916666666664</td></tr><tr><td>2020-01-01</td><td>Carrots</td><td>24.0</td><td>410.8528333333333</td><td>23</td><td>1</td><td>1</td><td>17.118868055555556</td><td>null</td><td>null</td><td>24.0</td><td>24.0</td><td>24.0</td><td>null</td><td>410.8528333333333</td><td>410.8528333333333</td><td>410.8528333333333</td></tr><tr><td>2020-01-01</td><td>Cereal</td><td>27.0</td><td>438.75966666666665</td><td>26</td><td>1</td><td>1</td><td>16.25035802469136</td><td>null</td><td>null</td><td>27.0</td><td>27.0</td><td>27.0</td><td>null</td><td>438.75966666666665</td><td>438.75966666666665</td><td>438.75966666666665</td></tr><tr><td>2020-01-01</td><td>Cereal Bars</td><td>28.0</td><td>554.4190000000001</td><td>28</td><td>1</td><td>1</td><td>19.800678571428573</td><td>null</td><td>null</td><td>28.0</td><td>28.0</td><td>28.0</td><td>null</td><td>554.4190000000001</td><td>554.4190000000001</td><td>554.4190000000001</td></tr><tr><td>2020-01-01</td><td>Cheese</td><td>25.0</td><td>542.6715</td><td>25</td><td>1</td><td>1</td><td>21.706860000000002</td><td>null</td><td>null</td><td>25.0</td><td>25.0</td><td>25.0</td><td>null</td><td>542.6715</td><td>542.6715</td><td>542.6715</td></tr><tr><td>2020-01-01</td><td>Chicken</td><td>25.0</td><td>517.2971666666667</td><td>24</td><td>1</td><td>1</td><td>20.69188666666667</td><td>null</td><td>null</td><td>25.0</td><td>25.0</td><td>25.0</td><td>null</td><td>517.2971666666667</td><td>517.2971666666667</td><td>517.2971666666667</td></tr><tr><td>2020-01-01</td><td>Chips</td><td>22.0</td><td>363.2991666666667</td><td>22</td><td>1</td><td>1</td><td>16.513598484848487</td><td>null</td><td>null</td><td>22.0</td><td>22.0</td><td>22.0</td><td>null</td><td>363.2991666666667</td><td>363.2991666666667</td><td>363.2991666666667</td></tr><tr><td>2020-01-01</td><td>Cleaning Rags</td><td>15.0</td><td>275.98883333333333</td><td>15</td><td>1</td><td>1</td><td>18.399255555555555</td><td>null</td><td>null</td><td>15.0</td><td>15.0</td><td>15.0</td><td>null</td><td>275.98883333333333</td><td>275.98883333333333</td><td>275.98883333333333</td></tr><tr><td>2020-01-01</td><td>Cleaning Spray</td><td>23.0</td><td>340.6621666666667</td><td>23</td><td>1</td><td>1</td><td>14.811398550724638</td><td>null</td><td>null</td><td>23.0</td><td>23.0</td><td>23.0</td><td>null</td><td>340.6621666666667</td><td>340.6621666666667</td><td>340.6621666666667</td></tr><tr><td>2020-01-01</td><td>Coffee</td><td>17.0</td><td>195.89849999999998</td><td>17</td><td>1</td><td>1</td><td>11.523441176470588</td><td>null</td><td>null</td><td>17.0</td><td>17.0</td><td>17.0</td><td>null</td><td>195.89849999999998</td><td>195.89849999999998</td><td>195.89849999999998</td></tr></tbody></table></div>"
      ]
     },
     "metadata": {
      "application/vnd.databricks.v1+output": {
       "addedWidgets": {},
       "aggData": [],
       "aggError": "",
       "aggOverflow": false,
       "aggSchema": [],
       "aggSeriesLimitReached": false,
       "aggType": "",
       "arguments": {},
       "columnCustomDisplayInfos": {},
       "data": [
        [
         "2020-01-01",
         "Air Freshener",
         21.0,
         369.44649999999996,
         21,
         1,
         1,
         17.592690476190473,
         null,
         null,
         21.0,
         21.0,
         21.0,
         null,
         369.44649999999996,
         369.44649999999996,
         369.44649999999996
        ],
        [
         "2020-01-01",
         "Apple",
         26.0,
         668.952,
         26,
         1,
         1,
         25.728923076923078,
         null,
         null,
         26.0,
         26.0,
         26.0,
         null,
         668.952,
         668.952,
         668.952
        ],
        [
         "2020-01-01",
         "BBQ Sauce",
         25.0,
         461.642,
         25,
         1,
         1,
         18.46568,
         null,
         null,
         25.0,
         25.0,
         25.0,
         null,
         461.642,
         461.642,
         461.642
        ],
        [
         "2020-01-01",
         "Baby Wipes",
         21.0,
         448.80550000000005,
         21,
         1,
         1,
         21.37169047619048,
         null,
         null,
         21.0,
         21.0,
         21.0,
         null,
         448.80550000000005,
         448.80550000000005,
         448.80550000000005
        ],
        [
         "2020-01-01",
         "Banana",
         24.0,
         446.4943333333334,
         24,
         1,
         1,
         18.603930555555557,
         null,
         null,
         24.0,
         24.0,
         24.0,
         null,
         446.4943333333334,
         446.4943333333334,
         446.4943333333334
        ],
        [
         "2020-01-01",
         "Bath Towels",
         24.0,
         545.5206666666667,
         24,
         1,
         1,
         22.730027777777778,
         null,
         null,
         24.0,
         24.0,
         24.0,
         null,
         545.5206666666667,
         545.5206666666667,
         545.5206666666667
        ],
        [
         "2020-01-01",
         "Beef",
         19.0,
         314.53,
         19,
         1,
         1,
         16.55421052631579,
         null,
         null,
         19.0,
         19.0,
         19.0,
         null,
         314.53,
         314.53,
         314.53
        ],
        [
         "2020-01-01",
         "Bread",
         18.0,
         255.3781666666667,
         17,
         1,
         1,
         14.187675925925927,
         null,
         null,
         18.0,
         18.0,
         18.0,
         null,
         255.3781666666667,
         255.3781666666667,
         255.3781666666667
        ],
        [
         "2020-01-01",
         "Broom",
         20.0,
         317.20683333333335,
         19,
         1,
         1,
         15.860341666666667,
         null,
         null,
         20.0,
         20.0,
         20.0,
         null,
         317.20683333333335,
         317.20683333333335,
         317.20683333333335
        ],
        [
         "2020-01-01",
         "Butter",
         19.0,
         305.4991666666667,
         19,
         1,
         1,
         16.078903508771933,
         null,
         null,
         19.0,
         19.0,
         19.0,
         null,
         305.4991666666667,
         305.4991666666667,
         305.4991666666667
        ],
        [
         "2020-01-01",
         "Canned Soup",
         18.0,
         342.71916666666664,
         18,
         1,
         1,
         19.039953703703702,
         null,
         null,
         18.0,
         18.0,
         18.0,
         null,
         342.71916666666664,
         342.71916666666664,
         342.71916666666664
        ],
        [
         "2020-01-01",
         "Carrots",
         24.0,
         410.8528333333333,
         23,
         1,
         1,
         17.118868055555556,
         null,
         null,
         24.0,
         24.0,
         24.0,
         null,
         410.8528333333333,
         410.8528333333333,
         410.8528333333333
        ],
        [
         "2020-01-01",
         "Cereal",
         27.0,
         438.75966666666665,
         26,
         1,
         1,
         16.25035802469136,
         null,
         null,
         27.0,
         27.0,
         27.0,
         null,
         438.75966666666665,
         438.75966666666665,
         438.75966666666665
        ],
        [
         "2020-01-01",
         "Cereal Bars",
         28.0,
         554.4190000000001,
         28,
         1,
         1,
         19.800678571428573,
         null,
         null,
         28.0,
         28.0,
         28.0,
         null,
         554.4190000000001,
         554.4190000000001,
         554.4190000000001
        ],
        [
         "2020-01-01",
         "Cheese",
         25.0,
         542.6715,
         25,
         1,
         1,
         21.706860000000002,
         null,
         null,
         25.0,
         25.0,
         25.0,
         null,
         542.6715,
         542.6715,
         542.6715
        ],
        [
         "2020-01-01",
         "Chicken",
         25.0,
         517.2971666666667,
         24,
         1,
         1,
         20.69188666666667,
         null,
         null,
         25.0,
         25.0,
         25.0,
         null,
         517.2971666666667,
         517.2971666666667,
         517.2971666666667
        ],
        [
         "2020-01-01",
         "Chips",
         22.0,
         363.2991666666667,
         22,
         1,
         1,
         16.513598484848487,
         null,
         null,
         22.0,
         22.0,
         22.0,
         null,
         363.2991666666667,
         363.2991666666667,
         363.2991666666667
        ],
        [
         "2020-01-01",
         "Cleaning Rags",
         15.0,
         275.98883333333333,
         15,
         1,
         1,
         18.399255555555555,
         null,
         null,
         15.0,
         15.0,
         15.0,
         null,
         275.98883333333333,
         275.98883333333333,
         275.98883333333333
        ],
        [
         "2020-01-01",
         "Cleaning Spray",
         23.0,
         340.6621666666667,
         23,
         1,
         1,
         14.811398550724638,
         null,
         null,
         23.0,
         23.0,
         23.0,
         null,
         340.6621666666667,
         340.6621666666667,
         340.6621666666667
        ],
        [
         "2020-01-01",
         "Coffee",
         17.0,
         195.89849999999998,
         17,
         1,
         1,
         11.523441176470588,
         null,
         null,
         17.0,
         17.0,
         17.0,
         null,
         195.89849999999998,
         195.89849999999998,
         195.89849999999998
        ]
       ],
       "datasetInfos": [],
       "dbfsResultPath": null,
       "isJsonSchema": true,
       "metadata": {},
       "overflow": false,
       "plotOptions": {
        "customPlotOptions": {},
        "displayType": "table",
        "pivotAggregation": null,
        "pivotColumns": null,
        "xColumns": null,
        "yColumns": null
       },
       "removedWidgets": [],
       "schema": [
        {
         "metadata": "{}",
         "name": "event_date",
         "type": "\"date\""
        },
        {
         "metadata": "{}",
         "name": "product",
         "type": "\"string\""
        },
        {
         "metadata": "{}",
         "name": "units",
         "type": "\"double\""
        },
        {
         "metadata": "{}",
         "name": "revenue",
         "type": "\"double\""
        },
        {
         "metadata": "{}",
         "name": "transactions",
         "type": "\"long\""
        },
        {
         "metadata": "{}",
         "name": "any_promo",
         "type": "\"integer\""
        },
        {
         "metadata": "{}",
         "name": "any_discount",
         "type": "\"integer\""
        },
        {
         "metadata": "{}",
         "name": "avg_price_per_unit",
         "type": "\"double\""
        },
        {
         "metadata": "{}",
         "name": "lag_1d_units",
         "type": "\"double\""
        },
        {
         "metadata": "{}",
         "name": "lag_7d_units",
         "type": "\"double\""
        },
        {
         "metadata": "{}",
         "name": "ma_7d_units",
         "type": "\"double\""
        },
        {
         "metadata": "{}",
         "name": "ma_14d_units",
         "type": "\"double\""
        },
        {
         "metadata": "{}",
         "name": "ma_28d_units",
         "type": "\"double\""
        },
        {
         "metadata": "{}",
         "name": "lag_1d_revenue",
         "type": "\"double\""
        },
        {
         "metadata": "{}",
         "name": "ma_7d_revenue",
         "type": "\"double\""
        },
        {
         "metadata": "{}",
         "name": "ma_14d_revenue",
         "type": "\"double\""
        },
        {
         "metadata": "{}",
         "name": "ma_28d_revenue",
         "type": "\"double\""
        }
       ],
       "type": "table"
      }
     },
     "output_type": "display_data"
    }
   ],
   "source": [
    "from pyspark.sql import functions as F\n",
    "from pyspark.sql import Window as W\n",
    "\n",
    "# Read Gold (daily product demand)\n",
    "gold_table = \"retail_catalog.retail_schema.demand_daily_gold\"\n",
    "df_gold = spark.table(gold_table)\n",
    "\n",
    "# Window per product ordered by date\n",
    "w = W.partitionBy(\"product\").orderBy(\"event_date\")\n",
    "\n",
    "# Add simple lags & moving averages (units + revenue)\n",
    "df_feats = (\n",
    "    df_gold\n",
    "    .withColumn(\"lag_1d_units\", F.lag(\"units\", 1).over(w))\n",
    "    .withColumn(\"lag_7d_units\", F.lag(\"units\", 7).over(w))\n",
    "    .withColumn(\"ma_7d_units\",  F.avg(\"units\").over(w.rowsBetween(-6, 0)))\n",
    "    .withColumn(\"ma_14d_units\", F.avg(\"units\").over(w.rowsBetween(-13, 0)))\n",
    "    .withColumn(\"ma_28d_units\", F.avg(\"units\").over(w.rowsBetween(-27, 0)))\n",
    "\n",
    "    .withColumn(\"lag_1d_revenue\", F.lag(\"revenue\", 1).over(w))\n",
    "    .withColumn(\"ma_7d_revenue\",  F.avg(\"revenue\").over(w.rowsBetween(-6, 0)))\n",
    "    .withColumn(\"ma_14d_revenue\", F.avg(\"revenue\").over(w.rowsBetween(-13, 0)))\n",
    "    .withColumn(\"ma_28d_revenue\", F.avg(\"revenue\").over(w.rowsBetween(-27, 0)))\n",
    ")\n",
    "\n",
    "# Save as a new Gold table with features\n",
    "features_table = \"retail_catalog.retail_schema.demand_daily_features_gold\"\n",
    "(df_feats\n",
    " .write\n",
    " .mode(\"overwrite\")\n",
    " .format(\"delta\")\n",
    " .partitionBy(\"event_date\")\n",
    " .option(\"overwriteSchema\", \"true\")\n",
    " .saveAsTable(features_table))\n",
    "\n",
    "# Quick look\n",
    "display(spark.table(features_table).orderBy(\"event_date\", \"product\").limit(20))\n"
   ]
  },
  {
   "cell_type": "code",
   "execution_count": 0,
   "metadata": {
    "application/vnd.databricks.v1+cell": {
     "cellMetadata": {
      "byteLimit": 2048000,
      "rowLimit": 10000
     },
     "inputWidgets": {},
     "nuid": "7bd89780-ab98-41e2-a39d-587d6c9b5e7c",
     "showTitle": false,
     "tableResultSettingsMap": {},
     "title": ""
    }
   },
   "outputs": [
    {
     "output_type": "display_data",
     "data": {
      "text/html": [
       "<style scoped>\n",
       "  .table-result-container {\n",
       "    max-height: 300px;\n",
       "    overflow: auto;\n",
       "  }\n",
       "  table, th, td {\n",
       "    border: 1px solid black;\n",
       "    border-collapse: collapse;\n",
       "  }\n",
       "  th, td {\n",
       "    padding: 5px;\n",
       "  }\n",
       "  th {\n",
       "    text-align: left;\n",
       "  }\n",
       "</style><div class='table-result-container'><table class='table-result'><thead style='background-color: white'><tr><th>product</th><th>as_of_date</th><th>forecast_date</th><th>pred_units</th></tr></thead><tbody><tr><td>Air Freshener</td><td>2024-05-18</td><td>2024-05-19</td><td>22.143</td></tr><tr><td>Apple</td><td>2024-05-18</td><td>2024-05-19</td><td>21.857</td></tr><tr><td>BBQ Sauce</td><td>2024-05-18</td><td>2024-05-19</td><td>19.429</td></tr><tr><td>Baby Wipes</td><td>2024-05-18</td><td>2024-05-19</td><td>22.429</td></tr><tr><td>Banana</td><td>2024-05-18</td><td>2024-05-19</td><td>23.286</td></tr><tr><td>Bath Towels</td><td>2024-05-18</td><td>2024-05-19</td><td>24.714</td></tr><tr><td>Beef</td><td>2024-05-18</td><td>2024-05-19</td><td>25.0</td></tr><tr><td>Bread</td><td>2024-05-18</td><td>2024-05-19</td><td>21.286</td></tr><tr><td>Broom</td><td>2024-05-18</td><td>2024-05-19</td><td>23.0</td></tr><tr><td>Butter</td><td>2024-05-18</td><td>2024-05-19</td><td>22.429</td></tr><tr><td>Canned Soup</td><td>2024-05-18</td><td>2024-05-19</td><td>21.286</td></tr><tr><td>Carrots</td><td>2024-05-18</td><td>2024-05-19</td><td>23.0</td></tr><tr><td>Cereal</td><td>2024-05-18</td><td>2024-05-19</td><td>21.286</td></tr><tr><td>Cereal Bars</td><td>2024-05-18</td><td>2024-05-19</td><td>23.429</td></tr><tr><td>Cheese</td><td>2024-05-18</td><td>2024-05-19</td><td>17.0</td></tr><tr><td>Chicken</td><td>2024-05-18</td><td>2024-05-19</td><td>22.143</td></tr><tr><td>Chips</td><td>2024-05-18</td><td>2024-05-19</td><td>25.0</td></tr><tr><td>Cleaning Rags</td><td>2024-05-18</td><td>2024-05-19</td><td>20.714</td></tr><tr><td>Cleaning Spray</td><td>2024-05-18</td><td>2024-05-19</td><td>22.286</td></tr><tr><td>Coffee</td><td>2024-05-18</td><td>2024-05-19</td><td>24.571</td></tr></tbody></table></div>"
      ]
     },
     "metadata": {
      "application/vnd.databricks.v1+output": {
       "addedWidgets": {},
       "aggData": [],
       "aggError": "",
       "aggOverflow": false,
       "aggSchema": [],
       "aggSeriesLimitReached": false,
       "aggType": "",
       "arguments": {},
       "columnCustomDisplayInfos": {},
       "data": [
        [
         "Air Freshener",
         "2024-05-18",
         "2024-05-19",
         22.143
        ],
        [
         "Apple",
         "2024-05-18",
         "2024-05-19",
         21.857
        ],
        [
         "BBQ Sauce",
         "2024-05-18",
         "2024-05-19",
         19.429
        ],
        [
         "Baby Wipes",
         "2024-05-18",
         "2024-05-19",
         22.429
        ],
        [
         "Banana",
         "2024-05-18",
         "2024-05-19",
         23.286
        ],
        [
         "Bath Towels",
         "2024-05-18",
         "2024-05-19",
         24.714
        ],
        [
         "Beef",
         "2024-05-18",
         "2024-05-19",
         25.0
        ],
        [
         "Bread",
         "2024-05-18",
         "2024-05-19",
         21.286
        ],
        [
         "Broom",
         "2024-05-18",
         "2024-05-19",
         23.0
        ],
        [
         "Butter",
         "2024-05-18",
         "2024-05-19",
         22.429
        ],
        [
         "Canned Soup",
         "2024-05-18",
         "2024-05-19",
         21.286
        ],
        [
         "Carrots",
         "2024-05-18",
         "2024-05-19",
         23.0
        ],
        [
         "Cereal",
         "2024-05-18",
         "2024-05-19",
         21.286
        ],
        [
         "Cereal Bars",
         "2024-05-18",
         "2024-05-19",
         23.429
        ],
        [
         "Cheese",
         "2024-05-18",
         "2024-05-19",
         17.0
        ],
        [
         "Chicken",
         "2024-05-18",
         "2024-05-19",
         22.143
        ],
        [
         "Chips",
         "2024-05-18",
         "2024-05-19",
         25.0
        ],
        [
         "Cleaning Rags",
         "2024-05-18",
         "2024-05-19",
         20.714
        ],
        [
         "Cleaning Spray",
         "2024-05-18",
         "2024-05-19",
         22.286
        ],
        [
         "Coffee",
         "2024-05-18",
         "2024-05-19",
         24.571
        ]
       ],
       "datasetInfos": [],
       "dbfsResultPath": null,
       "isJsonSchema": true,
       "metadata": {},
       "overflow": false,
       "plotOptions": {
        "customPlotOptions": {},
        "displayType": "table",
        "pivotAggregation": null,
        "pivotColumns": null,
        "xColumns": null,
        "yColumns": null
       },
       "removedWidgets": [],
       "schema": [
        {
         "metadata": "{}",
         "name": "product",
         "type": "\"string\""
        },
        {
         "metadata": "{}",
         "name": "as_of_date",
         "type": "\"date\""
        },
        {
         "metadata": "{}",
         "name": "forecast_date",
         "type": "\"date\""
        },
        {
         "metadata": "{}",
         "name": "pred_units",
         "type": "\"double\""
        }
       ],
       "type": "table"
      }
     },
     "output_type": "display_data"
    }
   ],
   "source": [
    "from pyspark.sql import functions as F\n",
    "from pyspark.sql import Window as W\n",
    "\n",
    "# Read features\n",
    "features_table = \"retail_catalog.retail_schema.demand_daily_features_gold\"\n",
    "df_feats = spark.table(features_table)\n",
    "\n",
    "# Pick the latest date per product\n",
    "w_desc = W.partitionBy(\"product\").orderBy(F.desc(\"event_date\"))\n",
    "latest = (\n",
    "    df_feats\n",
    "    .withColumn(\"rn\", F.row_number().over(w_desc))\n",
    "    .filter(\"rn = 1\")\n",
    "    .drop(\"rn\")\n",
    ")\n",
    "\n",
    "# Build next-day forecast\n",
    "preds = (\n",
    "    latest\n",
    "    .withColumn(\"forecast_date\", F.date_add(F.col(\"event_date\"), 1))\n",
    "    .withColumn(\n",
    "        \"pred_units\",\n",
    "        F.coalesce(\n",
    "            F.col(\"ma_7d_units\"),\n",
    "            F.col(\"lag_1d_units\"),\n",
    "            F.col(\"units\"),\n",
    "            F.lit(1.0)\n",
    "        ).cast(\"double\")\n",
    "    )\n",
    "    .select(\n",
    "        \"product\",\n",
    "        F.col(\"event_date\").alias(\"as_of_date\"),\n",
    "        \"forecast_date\",\n",
    "        F.round(F.col(\"pred_units\"), 3).alias(\"pred_units\")\n",
    "    )\n",
    ")\n",
    "\n",
    "# Save predictions\n",
    "pred_table = \"retail_catalog.retail_schema.demand_forecast_baseline\"\n",
    "(preds\n",
    " .write\n",
    " .mode(\"overwrite\")\n",
    " .format(\"delta\")\n",
    " .option(\"overwriteSchema\", \"true\")\n",
    " .saveAsTable(pred_table))\n",
    "\n",
    "# Quick look\n",
    "display(spark.table(pred_table).orderBy(\"product\").limit(20))\n"
   ]
  },
  {
   "cell_type": "code",
   "execution_count": 0,
   "metadata": {
    "application/vnd.databricks.v1+cell": {
     "cellMetadata": {
      "byteLimit": 2048000,
      "rowLimit": 10000
     },
     "inputWidgets": {},
     "nuid": "eed70cba-e1f9-49de-8a0b-343475302303",
     "showTitle": false,
     "tableResultSettingsMap": {},
     "title": ""
    }
   },
   "outputs": [
    {
     "output_type": "display_data",
     "data": {
      "text/html": [
       "<style scoped>\n",
       "  .table-result-container {\n",
       "    max-height: 300px;\n",
       "    overflow: auto;\n",
       "  }\n",
       "  table, th, td {\n",
       "    border: 1px solid black;\n",
       "    border-collapse: collapse;\n",
       "  }\n",
       "  th, td {\n",
       "    padding: 5px;\n",
       "  }\n",
       "  th {\n",
       "    text-align: left;\n",
       "  }\n",
       "</style><div class='table-result-container'><table class='table-result'><thead style='background-color: white'><tr><th>n_rows</th><th>avg_actual</th><th>avg_pred</th><th>MAE</th><th>RMSE</th><th>MAPE_pct</th></tr></thead><tbody><tr><td>129519</td><td>23.150989430122223</td><td>23.152098993381742</td><td>4.15380935100899</td><td>5.212214573495697</td><td>19.402201026275787</td></tr></tbody></table></div>"
      ]
     },
     "metadata": {
      "application/vnd.databricks.v1+output": {
       "addedWidgets": {},
       "aggData": [],
       "aggError": "",
       "aggOverflow": false,
       "aggSchema": [],
       "aggSeriesLimitReached": false,
       "aggType": "",
       "arguments": {},
       "columnCustomDisplayInfos": {},
       "data": [
        [
         129519,
         23.150989430122223,
         23.152098993381742,
         4.15380935100899,
         5.212214573495697,
         19.402201026275787
        ]
       ],
       "datasetInfos": [],
       "dbfsResultPath": null,
       "isJsonSchema": true,
       "metadata": {},
       "overflow": false,
       "plotOptions": {
        "customPlotOptions": {},
        "displayType": "table",
        "pivotAggregation": null,
        "pivotColumns": null,
        "xColumns": null,
        "yColumns": null
       },
       "removedWidgets": [],
       "schema": [
        {
         "metadata": "{}",
         "name": "n_rows",
         "type": "\"long\""
        },
        {
         "metadata": "{}",
         "name": "avg_actual",
         "type": "\"double\""
        },
        {
         "metadata": "{}",
         "name": "avg_pred",
         "type": "\"double\""
        },
        {
         "metadata": "{}",
         "name": "MAE",
         "type": "\"double\""
        },
        {
         "metadata": "{}",
         "name": "RMSE",
         "type": "\"double\""
        },
        {
         "metadata": "{}",
         "name": "MAPE_pct",
         "type": "\"double\""
        }
       ],
       "type": "table"
      }
     },
     "output_type": "display_data"
    },
    {
     "output_type": "display_data",
     "data": {
      "text/html": [
       "<style scoped>\n",
       "  .table-result-container {\n",
       "    max-height: 300px;\n",
       "    overflow: auto;\n",
       "  }\n",
       "  table, th, td {\n",
       "    border: 1px solid black;\n",
       "    border-collapse: collapse;\n",
       "  }\n",
       "  th, td {\n",
       "    padding: 5px;\n",
       "  }\n",
       "  th {\n",
       "    text-align: left;\n",
       "  }\n",
       "</style><div class='table-result-container'><table class='table-result'><thead style='background-color: white'><tr><th>product</th><th>event_date</th><th>as_of_date</th><th>pred_units</th><th>actual_units</th><th>abs_err</th><th>sq_err</th><th>ape</th></tr></thead><tbody><tr><td>Tea</td><td>2024-05-18</td><td>2024-05-17</td><td>23.714285714285715</td><td>18.0</td><td>5.714285714285715</td><td>32.65306122448981</td><td>0.3174603174603175</td></tr><tr><td>Yogurt</td><td>2024-05-18</td><td>2024-05-17</td><td>24.0</td><td>16.0</td><td>8.0</td><td>64.0</td><td>0.5</td></tr><tr><td>Shrimp</td><td>2024-05-18</td><td>2024-05-17</td><td>24.571428571428573</td><td>24.0</td><td>0.571428571428573</td><td>0.3265306122448997</td><td>0.023809523809523874</td></tr><tr><td>Trash Cans</td><td>2024-05-18</td><td>2024-05-17</td><td>21.285714285714285</td><td>30.0</td><td>8.714285714285715</td><td>75.9387755102041</td><td>0.2904761904761905</td></tr><tr><td>Syrup</td><td>2024-05-18</td><td>2024-05-17</td><td>20.571428571428573</td><td>17.0</td><td>3.571428571428573</td><td>12.755102040816338</td><td>0.21008403361344546</td></tr><tr><td>Razors</td><td>2024-05-18</td><td>2024-05-17</td><td>21.571428571428573</td><td>16.0</td><td>5.571428571428573</td><td>31.040816326530628</td><td>0.3482142857142858</td></tr><tr><td>Mayonnaise</td><td>2024-05-18</td><td>2024-05-17</td><td>25.0</td><td>15.0</td><td>10.0</td><td>100.0</td><td>0.6666666666666666</td></tr><tr><td>Paper Towels</td><td>2024-05-18</td><td>2024-05-17</td><td>25.714285714285715</td><td>15.0</td><td>10.714285714285715</td><td>114.79591836734696</td><td>0.7142857142857143</td></tr><tr><td>Onions</td><td>2024-05-18</td><td>2024-05-17</td><td>22.285714285714285</td><td>22.0</td><td>0.2857142857142847</td><td>0.08163265306122391</td><td>0.012987012987012941</td></tr><tr><td>Mustard</td><td>2024-05-18</td><td>2024-05-17</td><td>27.428571428571427</td><td>13.0</td><td>14.428571428571427</td><td>208.1836734693877</td><td>1.1098901098901097</td></tr><tr><td>Soap</td><td>2024-05-18</td><td>2024-05-17</td><td>21.857142857142858</td><td>21.0</td><td>0.8571428571428577</td><td>0.7346938775510212</td><td>0.04081632653061227</td></tr><tr><td>Vinegar</td><td>2024-05-18</td><td>2024-05-17</td><td>23.571428571428573</td><td>22.0</td><td>1.571428571428573</td><td>2.4693877551020456</td><td>0.0714285714285715</td></tr><tr><td>Toilet Paper</td><td>2024-05-18</td><td>2024-05-17</td><td>23.571428571428573</td><td>15.0</td><td>8.571428571428573</td><td>73.46938775510206</td><td>0.5714285714285715</td></tr><tr><td>Toothbrush</td><td>2024-05-18</td><td>2024-05-17</td><td>22.428571428571427</td><td>24.0</td><td>1.571428571428573</td><td>2.4693877551020456</td><td>0.06547619047619054</td></tr><tr><td>Jam</td><td>2024-05-18</td><td>2024-05-17</td><td>23.0</td><td>18.0</td><td>5.0</td><td>25.0</td><td>0.2777777777777778</td></tr><tr><td>Orange</td><td>2024-05-18</td><td>2024-05-17</td><td>21.857142857142858</td><td>14.0</td><td>7.857142857142858</td><td>61.73469387755103</td><td>0.5612244897959184</td></tr><tr><td>Lawn Mower</td><td>2024-05-18</td><td>2024-05-17</td><td>20.857142857142858</td><td>17.0</td><td>3.8571428571428577</td><td>14.877551020408168</td><td>0.22689075630252103</td></tr><tr><td>Shower Gel</td><td>2024-05-18</td><td>2024-05-17</td><td>26.0</td><td>12.0</td><td>14.0</td><td>196.0</td><td>1.1666666666666667</td></tr><tr><td>Toothpaste</td><td>2024-05-18</td><td>2024-05-17</td><td>44.714285714285715</td><td>36.0</td><td>8.714285714285715</td><td>75.9387755102041</td><td>0.2420634920634921</td></tr><tr><td>Insect Repellent</td><td>2024-05-18</td><td>2024-05-17</td><td>20.142857142857142</td><td>26.0</td><td>5.857142857142858</td><td>34.3061224489796</td><td>0.2252747252747253</td></tr></tbody></table></div>"
      ]
     },
     "metadata": {
      "application/vnd.databricks.v1+output": {
       "addedWidgets": {},
       "aggData": [],
       "aggError": "",
       "aggOverflow": false,
       "aggSchema": [],
       "aggSeriesLimitReached": false,
       "aggType": "",
       "arguments": {},
       "columnCustomDisplayInfos": {},
       "data": [
        [
         "Tea",
         "2024-05-18",
         "2024-05-17",
         23.714285714285715,
         18.0,
         5.714285714285715,
         32.65306122448981,
         0.3174603174603175
        ],
        [
         "Yogurt",
         "2024-05-18",
         "2024-05-17",
         24.0,
         16.0,
         8.0,
         64.0,
         0.5
        ],
        [
         "Shrimp",
         "2024-05-18",
         "2024-05-17",
         24.571428571428573,
         24.0,
         0.571428571428573,
         0.3265306122448997,
         0.023809523809523874
        ],
        [
         "Trash Cans",
         "2024-05-18",
         "2024-05-17",
         21.285714285714285,
         30.0,
         8.714285714285715,
         75.9387755102041,
         0.2904761904761905
        ],
        [
         "Syrup",
         "2024-05-18",
         "2024-05-17",
         20.571428571428573,
         17.0,
         3.571428571428573,
         12.755102040816338,
         0.21008403361344546
        ],
        [
         "Razors",
         "2024-05-18",
         "2024-05-17",
         21.571428571428573,
         16.0,
         5.571428571428573,
         31.040816326530628,
         0.3482142857142858
        ],
        [
         "Mayonnaise",
         "2024-05-18",
         "2024-05-17",
         25.0,
         15.0,
         10.0,
         100.0,
         0.6666666666666666
        ],
        [
         "Paper Towels",
         "2024-05-18",
         "2024-05-17",
         25.714285714285715,
         15.0,
         10.714285714285715,
         114.79591836734696,
         0.7142857142857143
        ],
        [
         "Onions",
         "2024-05-18",
         "2024-05-17",
         22.285714285714285,
         22.0,
         0.2857142857142847,
         0.08163265306122391,
         0.012987012987012941
        ],
        [
         "Mustard",
         "2024-05-18",
         "2024-05-17",
         27.428571428571427,
         13.0,
         14.428571428571427,
         208.1836734693877,
         1.1098901098901097
        ],
        [
         "Soap",
         "2024-05-18",
         "2024-05-17",
         21.857142857142858,
         21.0,
         0.8571428571428577,
         0.7346938775510212,
         0.04081632653061227
        ],
        [
         "Vinegar",
         "2024-05-18",
         "2024-05-17",
         23.571428571428573,
         22.0,
         1.571428571428573,
         2.4693877551020456,
         0.0714285714285715
        ],
        [
         "Toilet Paper",
         "2024-05-18",
         "2024-05-17",
         23.571428571428573,
         15.0,
         8.571428571428573,
         73.46938775510206,
         0.5714285714285715
        ],
        [
         "Toothbrush",
         "2024-05-18",
         "2024-05-17",
         22.428571428571427,
         24.0,
         1.571428571428573,
         2.4693877551020456,
         0.06547619047619054
        ],
        [
         "Jam",
         "2024-05-18",
         "2024-05-17",
         23.0,
         18.0,
         5.0,
         25.0,
         0.2777777777777778
        ],
        [
         "Orange",
         "2024-05-18",
         "2024-05-17",
         21.857142857142858,
         14.0,
         7.857142857142858,
         61.73469387755103,
         0.5612244897959184
        ],
        [
         "Lawn Mower",
         "2024-05-18",
         "2024-05-17",
         20.857142857142858,
         17.0,
         3.8571428571428577,
         14.877551020408168,
         0.22689075630252103
        ],
        [
         "Shower Gel",
         "2024-05-18",
         "2024-05-17",
         26.0,
         12.0,
         14.0,
         196.0,
         1.1666666666666667
        ],
        [
         "Toothpaste",
         "2024-05-18",
         "2024-05-17",
         44.714285714285715,
         36.0,
         8.714285714285715,
         75.9387755102041,
         0.2420634920634921
        ],
        [
         "Insect Repellent",
         "2024-05-18",
         "2024-05-17",
         20.142857142857142,
         26.0,
         5.857142857142858,
         34.3061224489796,
         0.2252747252747253
        ]
       ],
       "datasetInfos": [],
       "dbfsResultPath": null,
       "isJsonSchema": true,
       "metadata": {},
       "overflow": false,
       "plotOptions": {
        "customPlotOptions": {},
        "displayType": "table",
        "pivotAggregation": null,
        "pivotColumns": null,
        "xColumns": null,
        "yColumns": null
       },
       "removedWidgets": [],
       "schema": [
        {
         "metadata": "{}",
         "name": "product",
         "type": "\"string\""
        },
        {
         "metadata": "{}",
         "name": "event_date",
         "type": "\"date\""
        },
        {
         "metadata": "{}",
         "name": "as_of_date",
         "type": "\"date\""
        },
        {
         "metadata": "{}",
         "name": "pred_units",
         "type": "\"double\""
        },
        {
         "metadata": "{}",
         "name": "actual_units",
         "type": "\"double\""
        },
        {
         "metadata": "{}",
         "name": "abs_err",
         "type": "\"double\""
        },
        {
         "metadata": "{}",
         "name": "sq_err",
         "type": "\"double\""
        },
        {
         "metadata": "{}",
         "name": "ape",
         "type": "\"double\""
        }
       ],
       "type": "table"
      }
     },
     "output_type": "display_data"
    }
   ],
   "source": [
    "from pyspark.sql import functions as F\n",
    "\n",
    "# Read features\n",
    "features_table = \"retail_catalog.retail_schema.demand_daily_features_gold\"\n",
    "df = spark.table(features_table)\n",
    "\n",
    "# Use the same baseline logic: predict next-day units from today's MA(7) (fallbacks: lag_1d -> units -> 1.0)\n",
    "pred_source = (\n",
    "    df\n",
    "    .withColumn(\n",
    "        \"pred_units\",\n",
    "        F.coalesce(F.col(\"ma_7d_units\"), F.col(\"lag_1d_units\"), F.col(\"units\"), F.lit(1.0)).cast(\"double\")\n",
    "    )\n",
    "    .select(\"product\", F.col(\"event_date\").alias(\"as_of_date\"), \"pred_units\")\n",
    ")\n",
    "\n",
    "# Actual units for each date\n",
    "actuals = df.select(\"product\", F.col(\"event_date\").alias(\"event_date\"), F.col(\"units\").alias(\"actual_units\"))\n",
    "\n",
    "# Align predictions made on day t to actuals on day t+1\n",
    "bt = (\n",
    "    pred_source\n",
    "    .withColumn(\"event_date\", F.date_add(F.col(\"as_of_date\"), 1))\n",
    "    .join(actuals, [\"product\", \"event_date\"], \"inner\")\n",
    ")\n",
    "\n",
    "# Errors and metrics\n",
    "eval_df = (\n",
    "    bt\n",
    "    .withColumn(\"abs_err\", F.abs(F.col(\"actual_units\") - F.col(\"pred_units\")))\n",
    "    .withColumn(\"sq_err\",  (F.col(\"actual_units\") - F.col(\"pred_units\"))**2)\n",
    "    .withColumn(\"ape\",     F.when(F.col(\"actual_units\") > 0, F.col(\"abs_err\") / F.col(\"actual_units\")))\n",
    ")\n",
    "\n",
    "metrics_overall = eval_df.agg(\n",
    "    F.count(\"*\").alias(\"n_rows\"),\n",
    "    F.avg(\"actual_units\").alias(\"avg_actual\"),\n",
    "    F.avg(\"pred_units\").alias(\"avg_pred\"),\n",
    "    F.avg(\"abs_err\").alias(\"MAE\"),\n",
    "    F.sqrt(F.avg(\"sq_err\")).alias(\"RMSE\"),\n",
    "    (F.avg(\"ape\") * 100).alias(\"MAPE_pct\")\n",
    ")\n",
    "\n",
    "display(metrics_overall)\n",
    "display(eval_df.orderBy(F.desc(\"event_date\")).limit(20))\n"
   ]
  },
  {
   "cell_type": "code",
   "execution_count": 0,
   "metadata": {
    "application/vnd.databricks.v1+cell": {
     "cellMetadata": {
      "byteLimit": 2048000,
      "rowLimit": 10000
     },
     "inputWidgets": {},
     "nuid": "43484a22-b73b-4c22-b2e1-d90b9f392e78",
     "showTitle": false,
     "tableResultSettingsMap": {},
     "title": ""
    }
   },
   "outputs": [
    {
     "output_type": "stream",
     "name": "stderr",
     "output_type": "stream",
     "text": [
      "Exception ignored on calling ctypes callback function: <function _ThreadpoolInfo._find_modules_with_dl_iterate_phdr.<locals>.match_module_callback at 0x7f5f373ebd80>\nTraceback (most recent call last):\n  File \"/databricks/python/lib/python3.12/site-packages/threadpoolctl.py\", line 400, in match_module_callback\n    self._make_module_from_path(filepath)\n  File \"/databricks/python/lib/python3.12/site-packages/threadpoolctl.py\", line 515, in _make_module_from_path\n    module = module_class(filepath, prefix, user_api, internal_api)\n             ^^^^^^^^^^^^^^^^^^^^^^^^^^^^^^^^^^^^^^^^^^^^^^^^^^^^^^\n  File \"/databricks/python/lib/python3.12/site-packages/threadpoolctl.py\", line 606, in __init__\n    self.version = self.get_version()\n                   ^^^^^^^^^^^^^^^^^^\n  File \"/databricks/python/lib/python3.12/site-packages/threadpoolctl.py\", line 646, in get_version\n    config = get_config().split()\n             ^^^^^^^^^^^^^^^^^^\nAttributeError: 'NoneType' object has no attribute 'split'\n/databricks/python/lib/python3.12/site-packages/sklearn/metrics/_regression.py:483: FutureWarning: 'squared' is deprecated in version 1.4 and will be removed in 1.6. To calculate the root mean squared error, use the function'root_mean_squared_error'.\n  warnings.warn(\n"
     ]
    },
    {
     "output_type": "stream",
     "name": "stdout",
     "output_type": "stream",
     "text": [
      "HistGradientBoosting Evaluation:\n  MAE  = 3.8905\n  RMSE = 4.8837\n  MAPE = 18.18%\n"
     ]
    },
    {
     "output_type": "display_data",
     "data": {
      "text/html": [
       "<style scoped>\n",
       "  .table-result-container {\n",
       "    max-height: 300px;\n",
       "    overflow: auto;\n",
       "  }\n",
       "  table, th, td {\n",
       "    border: 1px solid black;\n",
       "    border-collapse: collapse;\n",
       "  }\n",
       "  th, td {\n",
       "    padding: 5px;\n",
       "  }\n",
       "  th {\n",
       "    text-align: left;\n",
       "  }\n",
       "</style><div class='table-result-container'><table class='table-result'><thead style='background-color: white'><tr><th>product</th><th>event_date</th><th>label</th><th>pred_units</th></tr></thead><tbody><tr><td>Shower Gel</td><td>2024-05-17T00:00:00.000Z</td><td>12.0</td><td>22.908770351877802</td></tr><tr><td>Shrimp</td><td>2024-05-17T00:00:00.000Z</td><td>24.0</td><td>22.88054190220649</td></tr><tr><td>Soap</td><td>2024-05-17T00:00:00.000Z</td><td>21.0</td><td>22.85163637507024</td></tr><tr><td>Soda</td><td>2024-05-17T00:00:00.000Z</td><td>25.0</td><td>22.837935093569424</td></tr><tr><td>Spinach</td><td>2024-05-17T00:00:00.000Z</td><td>15.0</td><td>22.82913132429655</td></tr><tr><td>Sponges</td><td>2024-05-17T00:00:00.000Z</td><td>18.0</td><td>22.94511907162759</td></tr><tr><td>Syrup</td><td>2024-05-17T00:00:00.000Z</td><td>17.0</td><td>22.93990659749638</td></tr><tr><td>Tea</td><td>2024-05-17T00:00:00.000Z</td><td>18.0</td><td>22.824842278387802</td></tr><tr><td>Tissues</td><td>2024-05-17T00:00:00.000Z</td><td>23.0</td><td>22.913522621985713</td></tr><tr><td>Toilet Paper</td><td>2024-05-17T00:00:00.000Z</td><td>15.0</td><td>22.887701547760095</td></tr><tr><td>Tomatoes</td><td>2024-05-17T00:00:00.000Z</td><td>21.0</td><td>22.857546913156288</td></tr><tr><td>Toothbrush</td><td>2024-05-17T00:00:00.000Z</td><td>24.0</td><td>22.79952450924882</td></tr><tr><td>Toothpaste</td><td>2024-05-17T00:00:00.000Z</td><td>36.0</td><td>45.630793458987135</td></tr><tr><td>Trash Bags</td><td>2024-05-17T00:00:00.000Z</td><td>15.0</td><td>22.85342898387246</td></tr><tr><td>Trash Cans</td><td>2024-05-17T00:00:00.000Z</td><td>30.0</td><td>22.822528452956348</td></tr><tr><td>Tuna</td><td>2024-05-17T00:00:00.000Z</td><td>23.0</td><td>22.806833947746426</td></tr><tr><td>Vacuum Cleaner</td><td>2024-05-17T00:00:00.000Z</td><td>14.0</td><td>22.895821902352182</td></tr><tr><td>Vinegar</td><td>2024-05-17T00:00:00.000Z</td><td>22.0</td><td>22.862497908650386</td></tr><tr><td>Water</td><td>2024-05-17T00:00:00.000Z</td><td>16.0</td><td>23.013265441080456</td></tr><tr><td>Yogurt</td><td>2024-05-17T00:00:00.000Z</td><td>16.0</td><td>22.88437867013686</td></tr></tbody></table></div>"
      ]
     },
     "metadata": {
      "application/vnd.databricks.v1+output": {
       "addedWidgets": {},
       "aggData": [],
       "aggError": "",
       "aggOverflow": false,
       "aggSchema": [],
       "aggSeriesLimitReached": false,
       "aggType": "",
       "arguments": {},
       "columnCustomDisplayInfos": {},
       "data": [
        [
         "Shower Gel",
         "2024-05-17T00:00:00.000Z",
         12.0,
         22.908770351877802
        ],
        [
         "Shrimp",
         "2024-05-17T00:00:00.000Z",
         24.0,
         22.88054190220649
        ],
        [
         "Soap",
         "2024-05-17T00:00:00.000Z",
         21.0,
         22.85163637507024
        ],
        [
         "Soda",
         "2024-05-17T00:00:00.000Z",
         25.0,
         22.837935093569424
        ],
        [
         "Spinach",
         "2024-05-17T00:00:00.000Z",
         15.0,
         22.82913132429655
        ],
        [
         "Sponges",
         "2024-05-17T00:00:00.000Z",
         18.0,
         22.94511907162759
        ],
        [
         "Syrup",
         "2024-05-17T00:00:00.000Z",
         17.0,
         22.93990659749638
        ],
        [
         "Tea",
         "2024-05-17T00:00:00.000Z",
         18.0,
         22.824842278387802
        ],
        [
         "Tissues",
         "2024-05-17T00:00:00.000Z",
         23.0,
         22.913522621985713
        ],
        [
         "Toilet Paper",
         "2024-05-17T00:00:00.000Z",
         15.0,
         22.887701547760095
        ],
        [
         "Tomatoes",
         "2024-05-17T00:00:00.000Z",
         21.0,
         22.857546913156288
        ],
        [
         "Toothbrush",
         "2024-05-17T00:00:00.000Z",
         24.0,
         22.79952450924882
        ],
        [
         "Toothpaste",
         "2024-05-17T00:00:00.000Z",
         36.0,
         45.630793458987135
        ],
        [
         "Trash Bags",
         "2024-05-17T00:00:00.000Z",
         15.0,
         22.85342898387246
        ],
        [
         "Trash Cans",
         "2024-05-17T00:00:00.000Z",
         30.0,
         22.822528452956348
        ],
        [
         "Tuna",
         "2024-05-17T00:00:00.000Z",
         23.0,
         22.806833947746426
        ],
        [
         "Vacuum Cleaner",
         "2024-05-17T00:00:00.000Z",
         14.0,
         22.895821902352182
        ],
        [
         "Vinegar",
         "2024-05-17T00:00:00.000Z",
         22.0,
         22.862497908650386
        ],
        [
         "Water",
         "2024-05-17T00:00:00.000Z",
         16.0,
         23.013265441080456
        ],
        [
         "Yogurt",
         "2024-05-17T00:00:00.000Z",
         16.0,
         22.88437867013686
        ]
       ],
       "datasetInfos": [],
       "dbfsResultPath": null,
       "isJsonSchema": true,
       "metadata": {},
       "overflow": false,
       "plotOptions": {
        "customPlotOptions": {},
        "displayType": "table",
        "pivotAggregation": null,
        "pivotColumns": null,
        "xColumns": null,
        "yColumns": null
       },
       "removedWidgets": [],
       "schema": [
        {
         "metadata": "{}",
         "name": "product",
         "type": "\"string\""
        },
        {
         "metadata": "{}",
         "name": "event_date",
         "type": "\"timestamp\""
        },
        {
         "metadata": "{}",
         "name": "label",
         "type": "\"double\""
        },
        {
         "metadata": "{}",
         "name": "pred_units",
         "type": "\"double\""
        }
       ],
       "type": "table"
      }
     },
     "output_type": "display_data"
    }
   ],
   "source": [
    "# One cell: build label, convert to pandas, train HistGradientBoosting, evaluate\n",
    "\n",
    "from pyspark.sql import functions as F, Window as W\n",
    "import numpy as np\n",
    "import pandas as pd\n",
    "from sklearn.ensemble import HistGradientBoostingRegressor\n",
    "from sklearn.metrics import mean_absolute_error, mean_squared_error\n",
    "\n",
    "# ---------- Load features ----------\n",
    "features_table = \"retail_catalog.retail_schema.demand_daily_features_gold\"\n",
    "df = spark.table(features_table)\n",
    "\n",
    "# ---------- Build ML frame: label = next day's units (t+1) ----------\n",
    "w = W.partitionBy(\"product\").orderBy(\"event_date\")\n",
    "df_ml = (\n",
    "    df\n",
    "    .withColumn(\"label\", F.lead(\"units\", 1).over(w))   # predict t+1\n",
    "    .dropna(subset=[\"label\"])\n",
    ")\n",
    "\n",
    "feature_cols = [\n",
    "    \"units\", \"lag_1d_units\", \"lag_7d_units\",\n",
    "    \"ma_7d_units\", \"ma_14d_units\", \"ma_28d_units\",\n",
    "    \"revenue\", \"avg_price_per_unit\",\n",
    "    \"any_promo\", \"any_discount\"\n",
    "]\n",
    "\n",
    "# Fill nulls in features with 0 to keep it simple\n",
    "df_ml = df_ml.fillna(0, subset=feature_cols)\n",
    "\n",
    "# Select only the needed columns and convert to pandas\n",
    "sel_cols = [\"product\", \"event_date\", \"label\"] + feature_cols\n",
    "pdf = df_ml.select(*sel_cols).toPandas()\n",
    "\n",
    "# Ensure event_date is datetime and sort\n",
    "pdf[\"event_date\"] = pd.to_datetime(pdf[\"event_date\"])\n",
    "pdf = pdf.sort_values([\"product\", \"event_date\"]).reset_index(drop=True)\n",
    "\n",
    "# ---------- Time-based split (safe) ----------\n",
    "# 80th percentile date across the whole dataset\n",
    "cutoff = pdf[\"event_date\"].quantile(0.80)\n",
    "train = pdf[pdf[\"event_date\"] <= cutoff].copy()\n",
    "test  = pdf[pdf[\"event_date\"]  > cutoff].copy()\n",
    "\n",
    "# Fallbacks if split is empty/tiny\n",
    "if test.empty or train.empty:\n",
    "    last_date = pdf[\"event_date\"].max()\n",
    "    train = pdf[pdf[\"event_date\"] < last_date].copy()\n",
    "    test  = pdf[pdf[\"event_date\"] == last_date].copy()\n",
    "    if test.empty or train.empty:\n",
    "        # final fallback: random shuffle split\n",
    "        pdf_shuf = pdf.sample(frac=1.0, random_state=42).reset_index(drop=True)\n",
    "        split_idx = int(0.8 * len(pdf_shuf))\n",
    "        train, test = pdf_shuf.iloc[:split_idx].copy(), pdf_shuf.iloc[split_idx:].copy()\n",
    "\n",
    "X_train, y_train = train[feature_cols].values, train[\"label\"].values\n",
    "X_test,  y_test  = test[feature_cols].values,  test[\"label\"].values\n",
    "\n",
    "# ---------- Train a fast, strong baseline: HistGradientBoosting ----------\n",
    "hgb = HistGradientBoostingRegressor(\n",
    "    max_depth=6,\n",
    "    max_iter=300,\n",
    "    learning_rate=0.05,\n",
    "    random_state=42\n",
    ")\n",
    "hgb.fit(X_train, y_train)\n",
    "\n",
    "# ---------- Predict & evaluate ----------\n",
    "y_pred = hgb.predict(X_test)\n",
    "\n",
    "mae  = mean_absolute_error(y_test, y_pred)\n",
    "rmse = mean_squared_error(y_test, y_pred, squared=False)\n",
    "# MAPE (ignore zeros in actuals)\n",
    "mask = y_test != 0\n",
    "mape = float(np.mean(np.abs((y_test[mask] - y_pred[mask]) / y_test[mask])) * 100) if mask.any() else np.nan\n",
    "\n",
    "print(\"HistGradientBoosting Evaluation:\")\n",
    "print(f\"  MAE  = {mae:.4f}\")\n",
    "print(f\"  RMSE = {rmse:.4f}\")\n",
    "print(f\"  MAPE = {mape:.2f}%\")\n",
    "\n",
    "# Peek recent predictions\n",
    "preview = test.assign(pred_units=y_pred)\n",
    "preview = preview.sort_values([\"event_date\", \"product\"]).tail(20)\n",
    "preview_display = preview[[\"product\", \"event_date\", \"label\", \"pred_units\"]]\n",
    "display(preview_display)\n"
   ]
  },
  {
   "cell_type": "code",
   "execution_count": 0,
   "metadata": {
    "application/vnd.databricks.v1+cell": {
     "cellMetadata": {
      "byteLimit": 2048000,
      "rowLimit": 10000
     },
     "inputWidgets": {},
     "nuid": "3500f50f-53f3-43c1-be84-04769550b13b",
     "showTitle": false,
     "tableResultSettingsMap": {},
     "title": ""
    }
   },
   "outputs": [
    {
     "output_type": "stream",
     "name": "stdout",
     "output_type": "stream",
     "text": [
      "Spark version: 4.0.0\nTest count: 1\n"
     ]
    }
   ],
   "source": [
    "# Ensure Spark is active (attach to a running cluster first if needed)\n",
    "from pyspark.sql import SparkSession\n",
    "\n",
    "spark = SparkSession.builder.getOrCreate()\n",
    "\n",
    "# Quick sanity checks\n",
    "print(\"Spark version:\", spark.version)\n",
    "print(\"Test count:\", spark.range(1).count())\n"
   ]
  },
  {
   "cell_type": "code",
   "execution_count": 0,
   "metadata": {
    "application/vnd.databricks.v1+cell": {
     "cellMetadata": {
      "byteLimit": 2048000,
      "rowLimit": 10000
     },
     "inputWidgets": {},
     "nuid": "dc384d7d-bb38-4fc2-adf6-d04356fac1f1",
     "showTitle": false,
     "tableResultSettingsMap": {},
     "title": ""
    }
   },
   "outputs": [
    {
     "output_type": "display_data",
     "data": {
      "text/html": [
       "<style scoped>\n",
       "  .table-result-container {\n",
       "    max-height: 300px;\n",
       "    overflow: auto;\n",
       "  }\n",
       "  table, th, td {\n",
       "    border: 1px solid black;\n",
       "    border-collapse: collapse;\n",
       "  }\n",
       "  th, td {\n",
       "    padding: 5px;\n",
       "  }\n",
       "  th {\n",
       "    text-align: left;\n",
       "  }\n",
       "</style><div class='table-result-container'><table class='table-result'><thead style='background-color: white'><tr><th>product</th><th>as_of_date</th><th>forecast_date</th><th>pred_units</th></tr></thead><tbody><tr><td>Air Freshener</td><td>2024-05-18T00:00:00.000Z</td><td>2024-05-19T00:00:00.000Z</td><td>22.804</td></tr><tr><td>Apple</td><td>2024-05-18T00:00:00.000Z</td><td>2024-05-19T00:00:00.000Z</td><td>22.84</td></tr><tr><td>BBQ Sauce</td><td>2024-05-18T00:00:00.000Z</td><td>2024-05-19T00:00:00.000Z</td><td>22.906</td></tr><tr><td>Baby Wipes</td><td>2024-05-18T00:00:00.000Z</td><td>2024-05-19T00:00:00.000Z</td><td>22.92</td></tr><tr><td>Banana</td><td>2024-05-18T00:00:00.000Z</td><td>2024-05-19T00:00:00.000Z</td><td>22.864</td></tr><tr><td>Bath Towels</td><td>2024-05-18T00:00:00.000Z</td><td>2024-05-19T00:00:00.000Z</td><td>22.901</td></tr><tr><td>Beef</td><td>2024-05-18T00:00:00.000Z</td><td>2024-05-19T00:00:00.000Z</td><td>22.746</td></tr><tr><td>Bread</td><td>2024-05-18T00:00:00.000Z</td><td>2024-05-19T00:00:00.000Z</td><td>22.827</td></tr><tr><td>Broom</td><td>2024-05-18T00:00:00.000Z</td><td>2024-05-19T00:00:00.000Z</td><td>22.776</td></tr><tr><td>Butter</td><td>2024-05-18T00:00:00.000Z</td><td>2024-05-19T00:00:00.000Z</td><td>22.799</td></tr><tr><td>Canned Soup</td><td>2024-05-18T00:00:00.000Z</td><td>2024-05-19T00:00:00.000Z</td><td>22.918</td></tr><tr><td>Carrots</td><td>2024-05-18T00:00:00.000Z</td><td>2024-05-19T00:00:00.000Z</td><td>22.846</td></tr><tr><td>Cereal</td><td>2024-05-18T00:00:00.000Z</td><td>2024-05-19T00:00:00.000Z</td><td>22.796</td></tr><tr><td>Cereal Bars</td><td>2024-05-18T00:00:00.000Z</td><td>2024-05-19T00:00:00.000Z</td><td>22.779</td></tr><tr><td>Cheese</td><td>2024-05-18T00:00:00.000Z</td><td>2024-05-19T00:00:00.000Z</td><td>23.348</td></tr><tr><td>Chicken</td><td>2024-05-18T00:00:00.000Z</td><td>2024-05-19T00:00:00.000Z</td><td>22.947</td></tr><tr><td>Chips</td><td>2024-05-18T00:00:00.000Z</td><td>2024-05-19T00:00:00.000Z</td><td>22.813</td></tr><tr><td>Cleaning Rags</td><td>2024-05-18T00:00:00.000Z</td><td>2024-05-19T00:00:00.000Z</td><td>22.866</td></tr><tr><td>Cleaning Spray</td><td>2024-05-18T00:00:00.000Z</td><td>2024-05-19T00:00:00.000Z</td><td>22.798</td></tr><tr><td>Coffee</td><td>2024-05-18T00:00:00.000Z</td><td>2024-05-19T00:00:00.000Z</td><td>22.931</td></tr><tr><td>Deodorant</td><td>2024-05-18T00:00:00.000Z</td><td>2024-05-19T00:00:00.000Z</td><td>22.825</td></tr><tr><td>Diapers</td><td>2024-05-18T00:00:00.000Z</td><td>2024-05-19T00:00:00.000Z</td><td>22.747</td></tr><tr><td>Dish Soap</td><td>2024-05-18T00:00:00.000Z</td><td>2024-05-19T00:00:00.000Z</td><td>22.845</td></tr><tr><td>Dishware</td><td>2024-05-18T00:00:00.000Z</td><td>2024-05-19T00:00:00.000Z</td><td>22.902</td></tr><tr><td>Dustpan</td><td>2024-05-18T00:00:00.000Z</td><td>2024-05-19T00:00:00.000Z</td><td>23.005</td></tr><tr><td>Eggs</td><td>2024-05-18T00:00:00.000Z</td><td>2024-05-19T00:00:00.000Z</td><td>22.833</td></tr><tr><td>Extension Cords</td><td>2024-05-18T00:00:00.000Z</td><td>2024-05-19T00:00:00.000Z</td><td>22.827</td></tr><tr><td>Feminine Hygiene Products</td><td>2024-05-18T00:00:00.000Z</td><td>2024-05-19T00:00:00.000Z</td><td>22.887</td></tr><tr><td>Garden Hose</td><td>2024-05-18T00:00:00.000Z</td><td>2024-05-19T00:00:00.000Z</td><td>22.906</td></tr><tr><td>Hair Gel</td><td>2024-05-18T00:00:00.000Z</td><td>2024-05-19T00:00:00.000Z</td><td>22.992</td></tr><tr><td>Hand Sanitizer</td><td>2024-05-18T00:00:00.000Z</td><td>2024-05-19T00:00:00.000Z</td><td>22.945</td></tr><tr><td>Honey</td><td>2024-05-18T00:00:00.000Z</td><td>2024-05-19T00:00:00.000Z</td><td>22.853</td></tr><tr><td>Ice Cream</td><td>2024-05-18T00:00:00.000Z</td><td>2024-05-19T00:00:00.000Z</td><td>22.902</td></tr><tr><td>Insect Repellent</td><td>2024-05-18T00:00:00.000Z</td><td>2024-05-19T00:00:00.000Z</td><td>22.865</td></tr><tr><td>Iron</td><td>2024-05-18T00:00:00.000Z</td><td>2024-05-19T00:00:00.000Z</td><td>22.815</td></tr><tr><td>Ironing Board</td><td>2024-05-18T00:00:00.000Z</td><td>2024-05-19T00:00:00.000Z</td><td>22.792</td></tr><tr><td>Jam</td><td>2024-05-18T00:00:00.000Z</td><td>2024-05-19T00:00:00.000Z</td><td>22.918</td></tr><tr><td>Ketchup</td><td>2024-05-18T00:00:00.000Z</td><td>2024-05-19T00:00:00.000Z</td><td>22.847</td></tr><tr><td>Laundry Detergent</td><td>2024-05-18T00:00:00.000Z</td><td>2024-05-19T00:00:00.000Z</td><td>22.779</td></tr><tr><td>Lawn Mower</td><td>2024-05-18T00:00:00.000Z</td><td>2024-05-19T00:00:00.000Z</td><td>22.918</td></tr><tr><td>Light Bulbs</td><td>2024-05-18T00:00:00.000Z</td><td>2024-05-19T00:00:00.000Z</td><td>22.752</td></tr><tr><td>Mayonnaise</td><td>2024-05-18T00:00:00.000Z</td><td>2024-05-19T00:00:00.000Z</td><td>22.81</td></tr><tr><td>Milk</td><td>2024-05-18T00:00:00.000Z</td><td>2024-05-19T00:00:00.000Z</td><td>22.854</td></tr><tr><td>Mop</td><td>2024-05-18T00:00:00.000Z</td><td>2024-05-19T00:00:00.000Z</td><td>22.906</td></tr><tr><td>Mustard</td><td>2024-05-18T00:00:00.000Z</td><td>2024-05-19T00:00:00.000Z</td><td>22.753</td></tr><tr><td>Olive Oil</td><td>2024-05-18T00:00:00.000Z</td><td>2024-05-19T00:00:00.000Z</td><td>22.934</td></tr><tr><td>Onions</td><td>2024-05-18T00:00:00.000Z</td><td>2024-05-19T00:00:00.000Z</td><td>22.902</td></tr><tr><td>Orange</td><td>2024-05-18T00:00:00.000Z</td><td>2024-05-19T00:00:00.000Z</td><td>22.881</td></tr><tr><td>Pancake Mix</td><td>2024-05-18T00:00:00.000Z</td><td>2024-05-19T00:00:00.000Z</td><td>22.921</td></tr><tr><td>Paper Towels</td><td>2024-05-18T00:00:00.000Z</td><td>2024-05-19T00:00:00.000Z</td><td>22.815</td></tr><tr><td>Pasta</td><td>2024-05-18T00:00:00.000Z</td><td>2024-05-19T00:00:00.000Z</td><td>22.931</td></tr><tr><td>Peanut Butter</td><td>2024-05-18T00:00:00.000Z</td><td>2024-05-19T00:00:00.000Z</td><td>22.795</td></tr><tr><td>Pickles</td><td>2024-05-18T00:00:00.000Z</td><td>2024-05-19T00:00:00.000Z</td><td>22.885</td></tr><tr><td>Plant Fertilizer</td><td>2024-05-18T00:00:00.000Z</td><td>2024-05-19T00:00:00.000Z</td><td>22.945</td></tr><tr><td>Potatoes</td><td>2024-05-18T00:00:00.000Z</td><td>2024-05-19T00:00:00.000Z</td><td>22.89</td></tr><tr><td>Power Strips</td><td>2024-05-18T00:00:00.000Z</td><td>2024-05-19T00:00:00.000Z</td><td>22.812</td></tr><tr><td>Razors</td><td>2024-05-18T00:00:00.000Z</td><td>2024-05-19T00:00:00.000Z</td><td>22.857</td></tr><tr><td>Rice</td><td>2024-05-18T00:00:00.000Z</td><td>2024-05-19T00:00:00.000Z</td><td>22.931</td></tr><tr><td>Salmon</td><td>2024-05-18T00:00:00.000Z</td><td>2024-05-19T00:00:00.000Z</td><td>22.867</td></tr><tr><td>Shampoo</td><td>2024-05-18T00:00:00.000Z</td><td>2024-05-19T00:00:00.000Z</td><td>22.875</td></tr><tr><td>Shaving Cream</td><td>2024-05-18T00:00:00.000Z</td><td>2024-05-19T00:00:00.000Z</td><td>22.902</td></tr><tr><td>Shower Gel</td><td>2024-05-18T00:00:00.000Z</td><td>2024-05-19T00:00:00.000Z</td><td>22.662</td></tr><tr><td>Shrimp</td><td>2024-05-18T00:00:00.000Z</td><td>2024-05-19T00:00:00.000Z</td><td>22.845</td></tr><tr><td>Soap</td><td>2024-05-18T00:00:00.000Z</td><td>2024-05-19T00:00:00.000Z</td><td>22.811</td></tr><tr><td>Soda</td><td>2024-05-18T00:00:00.000Z</td><td>2024-05-19T00:00:00.000Z</td><td>22.828</td></tr><tr><td>Spinach</td><td>2024-05-18T00:00:00.000Z</td><td>2024-05-19T00:00:00.000Z</td><td>22.8</td></tr><tr><td>Sponges</td><td>2024-05-18T00:00:00.000Z</td><td>2024-05-19T00:00:00.000Z</td><td>22.842</td></tr><tr><td>Syrup</td><td>2024-05-18T00:00:00.000Z</td><td>2024-05-19T00:00:00.000Z</td><td>22.867</td></tr><tr><td>Tea</td><td>2024-05-18T00:00:00.000Z</td><td>2024-05-19T00:00:00.000Z</td><td>22.887</td></tr><tr><td>Tissues</td><td>2024-05-18T00:00:00.000Z</td><td>2024-05-19T00:00:00.000Z</td><td>22.916</td></tr><tr><td>Toilet Paper</td><td>2024-05-18T00:00:00.000Z</td><td>2024-05-19T00:00:00.000Z</td><td>22.828</td></tr><tr><td>Tomatoes</td><td>2024-05-18T00:00:00.000Z</td><td>2024-05-19T00:00:00.000Z</td><td>22.863</td></tr><tr><td>Toothbrush</td><td>2024-05-18T00:00:00.000Z</td><td>2024-05-19T00:00:00.000Z</td><td>22.835</td></tr><tr><td>Toothpaste</td><td>2024-05-18T00:00:00.000Z</td><td>2024-05-19T00:00:00.000Z</td><td>43.146</td></tr><tr><td>Trash Bags</td><td>2024-05-18T00:00:00.000Z</td><td>2024-05-19T00:00:00.000Z</td><td>22.876</td></tr><tr><td>Trash Cans</td><td>2024-05-18T00:00:00.000Z</td><td>2024-05-19T00:00:00.000Z</td><td>22.699</td></tr><tr><td>Tuna</td><td>2024-05-18T00:00:00.000Z</td><td>2024-05-19T00:00:00.000Z</td><td>22.813</td></tr><tr><td>Vacuum Cleaner</td><td>2024-05-18T00:00:00.000Z</td><td>2024-05-19T00:00:00.000Z</td><td>22.918</td></tr><tr><td>Vinegar</td><td>2024-05-18T00:00:00.000Z</td><td>2024-05-19T00:00:00.000Z</td><td>22.779</td></tr><tr><td>Water</td><td>2024-05-18T00:00:00.000Z</td><td>2024-05-19T00:00:00.000Z</td><td>22.82</td></tr><tr><td>Yogurt</td><td>2024-05-18T00:00:00.000Z</td><td>2024-05-19T00:00:00.000Z</td><td>22.864</td></tr></tbody></table></div>"
      ]
     },
     "metadata": {
      "application/vnd.databricks.v1+output": {
       "addedWidgets": {},
       "aggData": [],
       "aggError": "",
       "aggOverflow": false,
       "aggSchema": [],
       "aggSeriesLimitReached": false,
       "aggType": "",
       "arguments": {},
       "columnCustomDisplayInfos": {},
       "data": [
        [
         "Air Freshener",
         "2024-05-18T00:00:00.000Z",
         "2024-05-19T00:00:00.000Z",
         22.804
        ],
        [
         "Apple",
         "2024-05-18T00:00:00.000Z",
         "2024-05-19T00:00:00.000Z",
         22.84
        ],
        [
         "BBQ Sauce",
         "2024-05-18T00:00:00.000Z",
         "2024-05-19T00:00:00.000Z",
         22.906
        ],
        [
         "Baby Wipes",
         "2024-05-18T00:00:00.000Z",
         "2024-05-19T00:00:00.000Z",
         22.92
        ],
        [
         "Banana",
         "2024-05-18T00:00:00.000Z",
         "2024-05-19T00:00:00.000Z",
         22.864
        ],
        [
         "Bath Towels",
         "2024-05-18T00:00:00.000Z",
         "2024-05-19T00:00:00.000Z",
         22.901
        ],
        [
         "Beef",
         "2024-05-18T00:00:00.000Z",
         "2024-05-19T00:00:00.000Z",
         22.746
        ],
        [
         "Bread",
         "2024-05-18T00:00:00.000Z",
         "2024-05-19T00:00:00.000Z",
         22.827
        ],
        [
         "Broom",
         "2024-05-18T00:00:00.000Z",
         "2024-05-19T00:00:00.000Z",
         22.776
        ],
        [
         "Butter",
         "2024-05-18T00:00:00.000Z",
         "2024-05-19T00:00:00.000Z",
         22.799
        ],
        [
         "Canned Soup",
         "2024-05-18T00:00:00.000Z",
         "2024-05-19T00:00:00.000Z",
         22.918
        ],
        [
         "Carrots",
         "2024-05-18T00:00:00.000Z",
         "2024-05-19T00:00:00.000Z",
         22.846
        ],
        [
         "Cereal",
         "2024-05-18T00:00:00.000Z",
         "2024-05-19T00:00:00.000Z",
         22.796
        ],
        [
         "Cereal Bars",
         "2024-05-18T00:00:00.000Z",
         "2024-05-19T00:00:00.000Z",
         22.779
        ],
        [
         "Cheese",
         "2024-05-18T00:00:00.000Z",
         "2024-05-19T00:00:00.000Z",
         23.348
        ],
        [
         "Chicken",
         "2024-05-18T00:00:00.000Z",
         "2024-05-19T00:00:00.000Z",
         22.947
        ],
        [
         "Chips",
         "2024-05-18T00:00:00.000Z",
         "2024-05-19T00:00:00.000Z",
         22.813
        ],
        [
         "Cleaning Rags",
         "2024-05-18T00:00:00.000Z",
         "2024-05-19T00:00:00.000Z",
         22.866
        ],
        [
         "Cleaning Spray",
         "2024-05-18T00:00:00.000Z",
         "2024-05-19T00:00:00.000Z",
         22.798
        ],
        [
         "Coffee",
         "2024-05-18T00:00:00.000Z",
         "2024-05-19T00:00:00.000Z",
         22.931
        ],
        [
         "Deodorant",
         "2024-05-18T00:00:00.000Z",
         "2024-05-19T00:00:00.000Z",
         22.825
        ],
        [
         "Diapers",
         "2024-05-18T00:00:00.000Z",
         "2024-05-19T00:00:00.000Z",
         22.747
        ],
        [
         "Dish Soap",
         "2024-05-18T00:00:00.000Z",
         "2024-05-19T00:00:00.000Z",
         22.845
        ],
        [
         "Dishware",
         "2024-05-18T00:00:00.000Z",
         "2024-05-19T00:00:00.000Z",
         22.902
        ],
        [
         "Dustpan",
         "2024-05-18T00:00:00.000Z",
         "2024-05-19T00:00:00.000Z",
         23.005
        ],
        [
         "Eggs",
         "2024-05-18T00:00:00.000Z",
         "2024-05-19T00:00:00.000Z",
         22.833
        ],
        [
         "Extension Cords",
         "2024-05-18T00:00:00.000Z",
         "2024-05-19T00:00:00.000Z",
         22.827
        ],
        [
         "Feminine Hygiene Products",
         "2024-05-18T00:00:00.000Z",
         "2024-05-19T00:00:00.000Z",
         22.887
        ],
        [
         "Garden Hose",
         "2024-05-18T00:00:00.000Z",
         "2024-05-19T00:00:00.000Z",
         22.906
        ],
        [
         "Hair Gel",
         "2024-05-18T00:00:00.000Z",
         "2024-05-19T00:00:00.000Z",
         22.992
        ],
        [
         "Hand Sanitizer",
         "2024-05-18T00:00:00.000Z",
         "2024-05-19T00:00:00.000Z",
         22.945
        ],
        [
         "Honey",
         "2024-05-18T00:00:00.000Z",
         "2024-05-19T00:00:00.000Z",
         22.853
        ],
        [
         "Ice Cream",
         "2024-05-18T00:00:00.000Z",
         "2024-05-19T00:00:00.000Z",
         22.902
        ],
        [
         "Insect Repellent",
         "2024-05-18T00:00:00.000Z",
         "2024-05-19T00:00:00.000Z",
         22.865
        ],
        [
         "Iron",
         "2024-05-18T00:00:00.000Z",
         "2024-05-19T00:00:00.000Z",
         22.815
        ],
        [
         "Ironing Board",
         "2024-05-18T00:00:00.000Z",
         "2024-05-19T00:00:00.000Z",
         22.792
        ],
        [
         "Jam",
         "2024-05-18T00:00:00.000Z",
         "2024-05-19T00:00:00.000Z",
         22.918
        ],
        [
         "Ketchup",
         "2024-05-18T00:00:00.000Z",
         "2024-05-19T00:00:00.000Z",
         22.847
        ],
        [
         "Laundry Detergent",
         "2024-05-18T00:00:00.000Z",
         "2024-05-19T00:00:00.000Z",
         22.779
        ],
        [
         "Lawn Mower",
         "2024-05-18T00:00:00.000Z",
         "2024-05-19T00:00:00.000Z",
         22.918
        ],
        [
         "Light Bulbs",
         "2024-05-18T00:00:00.000Z",
         "2024-05-19T00:00:00.000Z",
         22.752
        ],
        [
         "Mayonnaise",
         "2024-05-18T00:00:00.000Z",
         "2024-05-19T00:00:00.000Z",
         22.81
        ],
        [
         "Milk",
         "2024-05-18T00:00:00.000Z",
         "2024-05-19T00:00:00.000Z",
         22.854
        ],
        [
         "Mop",
         "2024-05-18T00:00:00.000Z",
         "2024-05-19T00:00:00.000Z",
         22.906
        ],
        [
         "Mustard",
         "2024-05-18T00:00:00.000Z",
         "2024-05-19T00:00:00.000Z",
         22.753
        ],
        [
         "Olive Oil",
         "2024-05-18T00:00:00.000Z",
         "2024-05-19T00:00:00.000Z",
         22.934
        ],
        [
         "Onions",
         "2024-05-18T00:00:00.000Z",
         "2024-05-19T00:00:00.000Z",
         22.902
        ],
        [
         "Orange",
         "2024-05-18T00:00:00.000Z",
         "2024-05-19T00:00:00.000Z",
         22.881
        ],
        [
         "Pancake Mix",
         "2024-05-18T00:00:00.000Z",
         "2024-05-19T00:00:00.000Z",
         22.921
        ],
        [
         "Paper Towels",
         "2024-05-18T00:00:00.000Z",
         "2024-05-19T00:00:00.000Z",
         22.815
        ],
        [
         "Pasta",
         "2024-05-18T00:00:00.000Z",
         "2024-05-19T00:00:00.000Z",
         22.931
        ],
        [
         "Peanut Butter",
         "2024-05-18T00:00:00.000Z",
         "2024-05-19T00:00:00.000Z",
         22.795
        ],
        [
         "Pickles",
         "2024-05-18T00:00:00.000Z",
         "2024-05-19T00:00:00.000Z",
         22.885
        ],
        [
         "Plant Fertilizer",
         "2024-05-18T00:00:00.000Z",
         "2024-05-19T00:00:00.000Z",
         22.945
        ],
        [
         "Potatoes",
         "2024-05-18T00:00:00.000Z",
         "2024-05-19T00:00:00.000Z",
         22.89
        ],
        [
         "Power Strips",
         "2024-05-18T00:00:00.000Z",
         "2024-05-19T00:00:00.000Z",
         22.812
        ],
        [
         "Razors",
         "2024-05-18T00:00:00.000Z",
         "2024-05-19T00:00:00.000Z",
         22.857
        ],
        [
         "Rice",
         "2024-05-18T00:00:00.000Z",
         "2024-05-19T00:00:00.000Z",
         22.931
        ],
        [
         "Salmon",
         "2024-05-18T00:00:00.000Z",
         "2024-05-19T00:00:00.000Z",
         22.867
        ],
        [
         "Shampoo",
         "2024-05-18T00:00:00.000Z",
         "2024-05-19T00:00:00.000Z",
         22.875
        ],
        [
         "Shaving Cream",
         "2024-05-18T00:00:00.000Z",
         "2024-05-19T00:00:00.000Z",
         22.902
        ],
        [
         "Shower Gel",
         "2024-05-18T00:00:00.000Z",
         "2024-05-19T00:00:00.000Z",
         22.662
        ],
        [
         "Shrimp",
         "2024-05-18T00:00:00.000Z",
         "2024-05-19T00:00:00.000Z",
         22.845
        ],
        [
         "Soap",
         "2024-05-18T00:00:00.000Z",
         "2024-05-19T00:00:00.000Z",
         22.811
        ],
        [
         "Soda",
         "2024-05-18T00:00:00.000Z",
         "2024-05-19T00:00:00.000Z",
         22.828
        ],
        [
         "Spinach",
         "2024-05-18T00:00:00.000Z",
         "2024-05-19T00:00:00.000Z",
         22.8
        ],
        [
         "Sponges",
         "2024-05-18T00:00:00.000Z",
         "2024-05-19T00:00:00.000Z",
         22.842
        ],
        [
         "Syrup",
         "2024-05-18T00:00:00.000Z",
         "2024-05-19T00:00:00.000Z",
         22.867
        ],
        [
         "Tea",
         "2024-05-18T00:00:00.000Z",
         "2024-05-19T00:00:00.000Z",
         22.887
        ],
        [
         "Tissues",
         "2024-05-18T00:00:00.000Z",
         "2024-05-19T00:00:00.000Z",
         22.916
        ],
        [
         "Toilet Paper",
         "2024-05-18T00:00:00.000Z",
         "2024-05-19T00:00:00.000Z",
         22.828
        ],
        [
         "Tomatoes",
         "2024-05-18T00:00:00.000Z",
         "2024-05-19T00:00:00.000Z",
         22.863
        ],
        [
         "Toothbrush",
         "2024-05-18T00:00:00.000Z",
         "2024-05-19T00:00:00.000Z",
         22.835
        ],
        [
         "Toothpaste",
         "2024-05-18T00:00:00.000Z",
         "2024-05-19T00:00:00.000Z",
         43.146
        ],
        [
         "Trash Bags",
         "2024-05-18T00:00:00.000Z",
         "2024-05-19T00:00:00.000Z",
         22.876
        ],
        [
         "Trash Cans",
         "2024-05-18T00:00:00.000Z",
         "2024-05-19T00:00:00.000Z",
         22.699
        ],
        [
         "Tuna",
         "2024-05-18T00:00:00.000Z",
         "2024-05-19T00:00:00.000Z",
         22.813
        ],
        [
         "Vacuum Cleaner",
         "2024-05-18T00:00:00.000Z",
         "2024-05-19T00:00:00.000Z",
         22.918
        ],
        [
         "Vinegar",
         "2024-05-18T00:00:00.000Z",
         "2024-05-19T00:00:00.000Z",
         22.779
        ],
        [
         "Water",
         "2024-05-18T00:00:00.000Z",
         "2024-05-19T00:00:00.000Z",
         22.82
        ],
        [
         "Yogurt",
         "2024-05-18T00:00:00.000Z",
         "2024-05-19T00:00:00.000Z",
         22.864
        ]
       ],
       "datasetInfos": [],
       "dbfsResultPath": null,
       "isJsonSchema": true,
       "metadata": {},
       "overflow": false,
       "plotOptions": {
        "customPlotOptions": {},
        "displayType": "table",
        "pivotAggregation": null,
        "pivotColumns": null,
        "xColumns": null,
        "yColumns": null
       },
       "removedWidgets": [],
       "schema": [
        {
         "metadata": "{}",
         "name": "product",
         "type": "\"string\""
        },
        {
         "metadata": "{}",
         "name": "as_of_date",
         "type": "\"timestamp\""
        },
        {
         "metadata": "{}",
         "name": "forecast_date",
         "type": "\"timestamp\""
        },
        {
         "metadata": "{}",
         "name": "pred_units",
         "type": "\"double\""
        }
       ],
       "type": "table"
      }
     },
     "output_type": "display_data"
    }
   ],
   "source": [
    "# Uses the trained sklearn model `hgb` to predict tomorrow's units per product\n",
    "# Saves to: retail_catalog.retail_schema.demand_forecast_gbt\n",
    "\n",
    "from pyspark.sql import functions as F\n",
    "import pandas as pd\n",
    "import numpy as np\n",
    "\n",
    "# --- Config ---\n",
    "features_table = \"retail_catalog.retail_schema.demand_daily_features_gold\"\n",
    "pred_table     = \"retail_catalog.retail_schema.demand_forecast_gbt\"\n",
    "\n",
    "# --- Make sure model exists ---\n",
    "assert \"hgb\" in globals(), \"Model 'hgb' not found. Please re-run the previous training cell to create 'hgb'.\"\n",
    "\n",
    "# --- Read features and get the latest date per product ---\n",
    "df_feat = spark.table(features_table)\n",
    "\n",
    "latest_per_product = (\n",
    "    df_feat\n",
    "    .groupBy(\"product\")\n",
    "    .agg(F.max(\"event_date\").alias(\"as_of_date\"))\n",
    ")\n",
    "\n",
    "# Feature set used during training\n",
    "feature_cols = [\n",
    "    \"units\", \"lag_1d_units\", \"lag_7d_units\",\n",
    "    \"ma_7d_units\", \"ma_14d_units\", \"ma_28d_units\",\n",
    "    \"revenue\", \"avg_price_per_unit\",\n",
    "    \"any_promo\", \"any_discount\"\n",
    "]\n",
    "\n",
    "latest_rows = (\n",
    "    df_feat.alias(\"f\")\n",
    "    .join(latest_per_product.alias(\"m\"), on=\"product\", how=\"inner\")\n",
    "    .where(F.col(\"f.event_date\") == F.col(\"m.as_of_date\"))\n",
    "    .select(\n",
    "        F.col(\"f.product\"),\n",
    "        F.col(\"f.event_date\").alias(\"as_of_date\"),\n",
    "        *[F.col(f\"f.{c}\") for c in feature_cols]\n",
    "    )\n",
    ")\n",
    "\n",
    "# Convert to pandas & prepare features\n",
    "pdf_latest = latest_rows.fillna(0, subset=feature_cols).toPandas()\n",
    "X_latest = pdf_latest[feature_cols].values\n",
    "\n",
    "# Predict next-day units and clip to non-negative\n",
    "pred = hgb.predict(X_latest)\n",
    "pred = np.clip(pred, 0, None)\n",
    "\n",
    "# Build forecast dataframe (t+1)\n",
    "pdf_pred = pd.DataFrame({\n",
    "    \"product\": pdf_latest[\"product\"],\n",
    "    \"as_of_date\": pd.to_datetime(pdf_latest[\"as_of_date\"]),\n",
    "    \"forecast_date\": pd.to_datetime(pdf_latest[\"as_of_date\"]) + pd.Timedelta(days=1),\n",
    "    \"pred_units\": np.round(pred, 3)\n",
    "})\n",
    "\n",
    "# Save to Delta\n",
    "df_pred = spark.createDataFrame(pdf_pred)\n",
    "(df_pred\n",
    " .write\n",
    " .mode(\"overwrite\")\n",
    " .format(\"delta\")\n",
    " .partitionBy(\"forecast_date\")\n",
    " .option(\"overwriteSchema\", \"true\")\n",
    " .saveAsTable(pred_table))\n",
    "\n",
    "# Preview\n",
    "display(spark.table(pred_table).orderBy(\"product\").limit(100))\n"
   ]
  },
  {
   "cell_type": "code",
   "execution_count": 0,
   "metadata": {
    "application/vnd.databricks.v1+cell": {
     "cellMetadata": {
      "byteLimit": 2048000,
      "rowLimit": 10000
     },
     "inputWidgets": {},
     "nuid": "72274cc9-900b-4289-926e-78919e33287b",
     "showTitle": false,
     "tableResultSettingsMap": {},
     "title": ""
    }
   },
   "outputs": [
    {
     "output_type": "display_data",
     "data": {
      "text/html": [
       "<style scoped>\n",
       "  .table-result-container {\n",
       "    max-height: 300px;\n",
       "    overflow: auto;\n",
       "  }\n",
       "  table, th, td {\n",
       "    border: 1px solid black;\n",
       "    border-collapse: collapse;\n",
       "  }\n",
       "  th, td {\n",
       "    padding: 5px;\n",
       "  }\n",
       "  th {\n",
       "    text-align: left;\n",
       "  }\n",
       "</style><div class='table-result-container'><table class='table-result'><thead style='background-color: white'><tr><th>product</th><th>as_of_date</th><th>forecast_date</th><th>pred_units</th></tr></thead><tbody><tr><td>Air Freshener</td><td>2024-05-18T00:00:00.000Z</td><td>2024-05-19T00:00:00.000Z</td><td>22.804</td></tr><tr><td>Apple</td><td>2024-05-18T00:00:00.000Z</td><td>2024-05-19T00:00:00.000Z</td><td>22.84</td></tr><tr><td>BBQ Sauce</td><td>2024-05-18T00:00:00.000Z</td><td>2024-05-19T00:00:00.000Z</td><td>22.906</td></tr><tr><td>Baby Wipes</td><td>2024-05-18T00:00:00.000Z</td><td>2024-05-19T00:00:00.000Z</td><td>22.92</td></tr><tr><td>Banana</td><td>2024-05-18T00:00:00.000Z</td><td>2024-05-19T00:00:00.000Z</td><td>22.864</td></tr><tr><td>Bath Towels</td><td>2024-05-18T00:00:00.000Z</td><td>2024-05-19T00:00:00.000Z</td><td>22.901</td></tr><tr><td>Beef</td><td>2024-05-18T00:00:00.000Z</td><td>2024-05-19T00:00:00.000Z</td><td>22.746</td></tr><tr><td>Bread</td><td>2024-05-18T00:00:00.000Z</td><td>2024-05-19T00:00:00.000Z</td><td>22.827</td></tr><tr><td>Broom</td><td>2024-05-18T00:00:00.000Z</td><td>2024-05-19T00:00:00.000Z</td><td>22.776</td></tr><tr><td>Butter</td><td>2024-05-18T00:00:00.000Z</td><td>2024-05-19T00:00:00.000Z</td><td>22.799</td></tr><tr><td>Canned Soup</td><td>2024-05-18T00:00:00.000Z</td><td>2024-05-19T00:00:00.000Z</td><td>22.918</td></tr><tr><td>Carrots</td><td>2024-05-18T00:00:00.000Z</td><td>2024-05-19T00:00:00.000Z</td><td>22.846</td></tr><tr><td>Cereal</td><td>2024-05-18T00:00:00.000Z</td><td>2024-05-19T00:00:00.000Z</td><td>22.796</td></tr><tr><td>Cereal Bars</td><td>2024-05-18T00:00:00.000Z</td><td>2024-05-19T00:00:00.000Z</td><td>22.779</td></tr><tr><td>Cheese</td><td>2024-05-18T00:00:00.000Z</td><td>2024-05-19T00:00:00.000Z</td><td>23.348</td></tr><tr><td>Chicken</td><td>2024-05-18T00:00:00.000Z</td><td>2024-05-19T00:00:00.000Z</td><td>22.947</td></tr><tr><td>Chips</td><td>2024-05-18T00:00:00.000Z</td><td>2024-05-19T00:00:00.000Z</td><td>22.813</td></tr><tr><td>Cleaning Rags</td><td>2024-05-18T00:00:00.000Z</td><td>2024-05-19T00:00:00.000Z</td><td>22.866</td></tr><tr><td>Cleaning Spray</td><td>2024-05-18T00:00:00.000Z</td><td>2024-05-19T00:00:00.000Z</td><td>22.798</td></tr><tr><td>Coffee</td><td>2024-05-18T00:00:00.000Z</td><td>2024-05-19T00:00:00.000Z</td><td>22.931</td></tr></tbody></table></div>"
      ]
     },
     "metadata": {
      "application/vnd.databricks.v1+output": {
       "addedWidgets": {},
       "aggData": [],
       "aggError": "",
       "aggOverflow": false,
       "aggSchema": [],
       "aggSeriesLimitReached": false,
       "aggType": "",
       "arguments": {},
       "columnCustomDisplayInfos": {},
       "data": [
        [
         "Air Freshener",
         "2024-05-18T00:00:00.000Z",
         "2024-05-19T00:00:00.000Z",
         22.804
        ],
        [
         "Apple",
         "2024-05-18T00:00:00.000Z",
         "2024-05-19T00:00:00.000Z",
         22.84
        ],
        [
         "BBQ Sauce",
         "2024-05-18T00:00:00.000Z",
         "2024-05-19T00:00:00.000Z",
         22.906
        ],
        [
         "Baby Wipes",
         "2024-05-18T00:00:00.000Z",
         "2024-05-19T00:00:00.000Z",
         22.92
        ],
        [
         "Banana",
         "2024-05-18T00:00:00.000Z",
         "2024-05-19T00:00:00.000Z",
         22.864
        ],
        [
         "Bath Towels",
         "2024-05-18T00:00:00.000Z",
         "2024-05-19T00:00:00.000Z",
         22.901
        ],
        [
         "Beef",
         "2024-05-18T00:00:00.000Z",
         "2024-05-19T00:00:00.000Z",
         22.746
        ],
        [
         "Bread",
         "2024-05-18T00:00:00.000Z",
         "2024-05-19T00:00:00.000Z",
         22.827
        ],
        [
         "Broom",
         "2024-05-18T00:00:00.000Z",
         "2024-05-19T00:00:00.000Z",
         22.776
        ],
        [
         "Butter",
         "2024-05-18T00:00:00.000Z",
         "2024-05-19T00:00:00.000Z",
         22.799
        ],
        [
         "Canned Soup",
         "2024-05-18T00:00:00.000Z",
         "2024-05-19T00:00:00.000Z",
         22.918
        ],
        [
         "Carrots",
         "2024-05-18T00:00:00.000Z",
         "2024-05-19T00:00:00.000Z",
         22.846
        ],
        [
         "Cereal",
         "2024-05-18T00:00:00.000Z",
         "2024-05-19T00:00:00.000Z",
         22.796
        ],
        [
         "Cereal Bars",
         "2024-05-18T00:00:00.000Z",
         "2024-05-19T00:00:00.000Z",
         22.779
        ],
        [
         "Cheese",
         "2024-05-18T00:00:00.000Z",
         "2024-05-19T00:00:00.000Z",
         23.348
        ],
        [
         "Chicken",
         "2024-05-18T00:00:00.000Z",
         "2024-05-19T00:00:00.000Z",
         22.947
        ],
        [
         "Chips",
         "2024-05-18T00:00:00.000Z",
         "2024-05-19T00:00:00.000Z",
         22.813
        ],
        [
         "Cleaning Rags",
         "2024-05-18T00:00:00.000Z",
         "2024-05-19T00:00:00.000Z",
         22.866
        ],
        [
         "Cleaning Spray",
         "2024-05-18T00:00:00.000Z",
         "2024-05-19T00:00:00.000Z",
         22.798
        ],
        [
         "Coffee",
         "2024-05-18T00:00:00.000Z",
         "2024-05-19T00:00:00.000Z",
         22.931
        ]
       ],
       "datasetInfos": [],
       "dbfsResultPath": null,
       "isJsonSchema": true,
       "metadata": {},
       "overflow": false,
       "plotOptions": {
        "customPlotOptions": {},
        "displayType": "table",
        "pivotAggregation": null,
        "pivotColumns": null,
        "xColumns": null,
        "yColumns": null
       },
       "removedWidgets": [],
       "schema": [
        {
         "metadata": "{}",
         "name": "product",
         "type": "\"string\""
        },
        {
         "metadata": "{}",
         "name": "as_of_date",
         "type": "\"timestamp\""
        },
        {
         "metadata": "{}",
         "name": "forecast_date",
         "type": "\"timestamp\""
        },
        {
         "metadata": "{}",
         "name": "pred_units",
         "type": "\"double\""
        }
       ],
       "type": "table"
      }
     },
     "output_type": "display_data"
    }
   ],
   "source": [
    "# Reusable scorer: generates next-day (t+1) forecasts per product using the trained sklearn model `hgb`\n",
    "\n",
    "from pyspark.sql import functions as F\n",
    "import pandas as pd\n",
    "import numpy as np\n",
    "\n",
    "# 1) Feature list (same as used during training)\n",
    "feature_cols = [\n",
    "    \"units\", \"lag_1d_units\", \"lag_7d_units\",\n",
    "    \"ma_7d_units\", \"ma_14d_units\", \"ma_28d_units\",\n",
    "    \"revenue\", \"avg_price_per_unit\",\n",
    "    \"any_promo\", \"any_discount\"\n",
    "]\n",
    "\n",
    "# 2) Scoring function\n",
    "def forecast_next_day(df_features_spark, model, feature_cols):\n",
    "    \"\"\"\n",
    "    Produces t+1 forecasts per product from the latest available date in df_features_spark.\n",
    "    Returns a Spark DataFrame: product, as_of_date, forecast_date, pred_units\n",
    "    \"\"\"\n",
    "    assert model is not None, \"Model is required\"\n",
    "    \n",
    "    # Latest date per product\n",
    "    latest_per_product = (\n",
    "        df_features_spark.groupBy(\"product\")\n",
    "        .agg(F.max(\"event_date\").alias(\"as_of_date\"))\n",
    "    )\n",
    "    \n",
    "    # Join features for those latest rows\n",
    "    latest_rows = (\n",
    "        df_features_spark.alias(\"f\")\n",
    "        .join(latest_per_product.alias(\"m\"), on=\"product\", how=\"inner\")\n",
    "        .where(F.col(\"f.event_date\") == F.col(\"m.as_of_date\"))\n",
    "        .select(\n",
    "            F.col(\"f.product\"),\n",
    "            F.col(\"f.event_date\").alias(\"as_of_date\"),\n",
    "            *[F.col(f\"f.{c}\") for c in feature_cols]\n",
    "        )\n",
    "        .fillna(0, subset=feature_cols)  # keep predictions robust\n",
    "    )\n",
    "    \n",
    "    # Convert to pandas, predict, and build output\n",
    "    pdf = latest_rows.toPandas()\n",
    "    X = pdf[feature_cols].values\n",
    "    yhat = model.predict(X)\n",
    "    yhat = np.clip(yhat, 0, None)  # no negative units\n",
    "    \n",
    "    pdf_pred = pd.DataFrame({\n",
    "        \"product\": pdf[\"product\"],\n",
    "        \"as_of_date\": pd.to_datetime(pdf[\"as_of_date\"]),\n",
    "        \"forecast_date\": pd.to_datetime(pdf[\"as_of_date\"]) + pd.Timedelta(days=1),\n",
    "        \"pred_units\": np.round(yhat, 3)\n",
    "    })\n",
    "    \n",
    "    return spark.createDataFrame(pdf_pred)\n",
    "\n",
    "# 3) Use the scorer on your features table and save\n",
    "features_table = \"retail_catalog.retail_schema.demand_daily_features_gold\"\n",
    "pred_table     = \"retail_catalog.retail_schema.demand_forecast_gbt\"\n",
    "\n",
    "df_features = spark.table(features_table)\n",
    "\n",
    "# Make sure your trained sklearn model 'hgb' exists in the notebook session\n",
    "assert \"hgb\" in globals(), \"Model 'hgb' not found. Re-run the training cell to create it.\"\n",
    "\n",
    "df_forecast = forecast_next_day(df_features, hgb, feature_cols)\n",
    "\n",
    "# Save (append so you can keep history per forecast_date)\n",
    "(df_forecast\n",
    " .write\n",
    " .mode(\"append\")\n",
    " .format(\"delta\")\n",
    " .partitionBy(\"forecast_date\")\n",
    " .saveAsTable(pred_table))\n",
    "\n",
    "# Quick look\n",
    "display(df_forecast.orderBy(\"product\").limit(20))\n"
   ]
  },
  {
   "cell_type": "code",
   "execution_count": 0,
   "metadata": {
    "application/vnd.databricks.v1+cell": {
     "cellMetadata": {
      "byteLimit": 2048000,
      "rowLimit": 10000
     },
     "inputWidgets": {},
     "nuid": "bd49a82b-e8bc-4be2-a7f8-4e574a7d484e",
     "showTitle": false,
     "tableResultSettingsMap": {},
     "title": ""
    }
   },
   "outputs": [
    {
     "output_type": "display_data",
     "data": {
      "text/html": [
       "<style scoped>\n",
       "  .table-result-container {\n",
       "    max-height: 300px;\n",
       "    overflow: auto;\n",
       "  }\n",
       "  table, th, td {\n",
       "    border: 1px solid black;\n",
       "    border-collapse: collapse;\n",
       "  }\n",
       "  th, td {\n",
       "    padding: 5px;\n",
       "  }\n",
       "  th {\n",
       "    text-align: left;\n",
       "  }\n",
       "</style><div class='table-result-container'><table class='table-result'><thead style='background-color: white'><tr><th>event_date</th><th>product</th><th>city</th><th>store_type</th><th>units</th><th>revenue</th><th>transactions</th><th>any_promo</th><th>any_discount</th><th>avg_price_per_unit</th></tr></thead><tbody><tr><td>2020-01-01</td><td>Air Freshener</td><td>Atlanta</td><td>Specialty Store</td><td>1.0</td><td>82.87</td><td>1</td><td>1</td><td>0</td><td>82.87</td></tr><tr><td>2020-01-01</td><td>Air Freshener</td><td>Boston</td><td>Pharmacy</td><td>1.0</td><td>1.255</td><td>1</td><td>1</td><td>1</td><td>1.255</td></tr><tr><td>2020-01-01</td><td>Air Freshener</td><td>Boston</td><td>Specialty Store</td><td>1.0</td><td>17.85</td><td>1</td><td>0</td><td>1</td><td>17.85</td></tr><tr><td>2020-01-01</td><td>Air Freshener</td><td>Chicago</td><td>Warehouse Club</td><td>1.0</td><td>8.59</td><td>1</td><td>0</td><td>1</td><td>8.59</td></tr><tr><td>2020-01-01</td><td>Air Freshener</td><td>Houston</td><td>Convenience Store</td><td>2.0</td><td>40.72</td><td>2</td><td>1</td><td>1</td><td>20.36</td></tr><tr><td>2020-01-01</td><td>Air Freshener</td><td>Houston</td><td>Specialty Store</td><td>1.0</td><td>11.352</td><td>1</td><td>1</td><td>1</td><td>11.352</td></tr><tr><td>2020-01-01</td><td>Air Freshener</td><td>Los Angeles</td><td>Pharmacy</td><td>1.0</td><td>1.06</td><td>1</td><td>1</td><td>0</td><td>1.06</td></tr><tr><td>2020-01-01</td><td>Air Freshener</td><td>Miami</td><td>Department Store</td><td>1.0</td><td>17.416</td><td>1</td><td>1</td><td>0</td><td>17.416</td></tr><tr><td>2020-01-01</td><td>Air Freshener</td><td>Miami</td><td>Pharmacy</td><td>2.0</td><td>37.722</td><td>2</td><td>1</td><td>1</td><td>18.861</td></tr><tr><td>2020-01-01</td><td>Air Freshener</td><td>Miami</td><td>Supermarket</td><td>2.0</td><td>55.762</td><td>2</td><td>1</td><td>1</td><td>27.881</td></tr><tr><td>2020-01-01</td><td>Air Freshener</td><td>Miami</td><td>Warehouse Club</td><td>2.0</td><td>43.754</td><td>2</td><td>1</td><td>1</td><td>21.877</td></tr><tr><td>2020-01-01</td><td>Air Freshener</td><td>San Francisco</td><td>Department Store</td><td>2.0</td><td>19.941000000000003</td><td>2</td><td>1</td><td>1</td><td>9.970500000000001</td></tr><tr><td>2020-01-01</td><td>Air Freshener</td><td>San Francisco</td><td>Pharmacy</td><td>1.0</td><td>2.8325</td><td>1</td><td>0</td><td>1</td><td>2.8325</td></tr><tr><td>2020-01-01</td><td>Air Freshener</td><td>Seattle</td><td>Convenience Store</td><td>1.0</td><td>1.15</td><td>1</td><td>1</td><td>1</td><td>1.15</td></tr><tr><td>2020-01-01</td><td>Air Freshener</td><td>Seattle</td><td>Department Store</td><td>1.0</td><td>13.297999999999998</td><td>1</td><td>0</td><td>1</td><td>13.297999999999998</td></tr><tr><td>2020-01-01</td><td>Air Freshener</td><td>Seattle</td><td>Warehouse Club</td><td>1.0</td><td>13.874</td><td>1</td><td>1</td><td>0</td><td>13.874</td></tr><tr><td>2020-01-01</td><td>Apple</td><td>Atlanta</td><td>Department Store</td><td>1.0</td><td>25.796666666666667</td><td>1</td><td>1</td><td>1</td><td>25.796666666666667</td></tr><tr><td>2020-01-01</td><td>Apple</td><td>Atlanta</td><td>Warehouse Club</td><td>2.0</td><td>76.2425</td><td>2</td><td>1</td><td>0</td><td>38.12125</td></tr><tr><td>2020-01-01</td><td>Apple</td><td>Boston</td><td>Convenience Store</td><td>2.0</td><td>59.041</td><td>2</td><td>1</td><td>0</td><td>29.5205</td></tr><tr><td>2020-01-01</td><td>Apple</td><td>Boston</td><td>Department Store</td><td>1.0</td><td>41.77</td><td>1</td><td>0</td><td>1</td><td>41.77</td></tr></tbody></table></div>"
      ]
     },
     "metadata": {
      "application/vnd.databricks.v1+output": {
       "addedWidgets": {},
       "aggData": [],
       "aggError": "",
       "aggOverflow": false,
       "aggSchema": [],
       "aggSeriesLimitReached": false,
       "aggType": "",
       "arguments": {},
       "columnCustomDisplayInfos": {},
       "data": [
        [
         "2020-01-01",
         "Air Freshener",
         "Atlanta",
         "Specialty Store",
         1.0,
         82.87,
         1,
         1,
         0,
         82.87
        ],
        [
         "2020-01-01",
         "Air Freshener",
         "Boston",
         "Pharmacy",
         1.0,
         1.255,
         1,
         1,
         1,
         1.255
        ],
        [
         "2020-01-01",
         "Air Freshener",
         "Boston",
         "Specialty Store",
         1.0,
         17.85,
         1,
         0,
         1,
         17.85
        ],
        [
         "2020-01-01",
         "Air Freshener",
         "Chicago",
         "Warehouse Club",
         1.0,
         8.59,
         1,
         0,
         1,
         8.59
        ],
        [
         "2020-01-01",
         "Air Freshener",
         "Houston",
         "Convenience Store",
         2.0,
         40.72,
         2,
         1,
         1,
         20.36
        ],
        [
         "2020-01-01",
         "Air Freshener",
         "Houston",
         "Specialty Store",
         1.0,
         11.352,
         1,
         1,
         1,
         11.352
        ],
        [
         "2020-01-01",
         "Air Freshener",
         "Los Angeles",
         "Pharmacy",
         1.0,
         1.06,
         1,
         1,
         0,
         1.06
        ],
        [
         "2020-01-01",
         "Air Freshener",
         "Miami",
         "Department Store",
         1.0,
         17.416,
         1,
         1,
         0,
         17.416
        ],
        [
         "2020-01-01",
         "Air Freshener",
         "Miami",
         "Pharmacy",
         2.0,
         37.722,
         2,
         1,
         1,
         18.861
        ],
        [
         "2020-01-01",
         "Air Freshener",
         "Miami",
         "Supermarket",
         2.0,
         55.762,
         2,
         1,
         1,
         27.881
        ],
        [
         "2020-01-01",
         "Air Freshener",
         "Miami",
         "Warehouse Club",
         2.0,
         43.754,
         2,
         1,
         1,
         21.877
        ],
        [
         "2020-01-01",
         "Air Freshener",
         "San Francisco",
         "Department Store",
         2.0,
         19.941000000000003,
         2,
         1,
         1,
         9.970500000000001
        ],
        [
         "2020-01-01",
         "Air Freshener",
         "San Francisco",
         "Pharmacy",
         1.0,
         2.8325,
         1,
         0,
         1,
         2.8325
        ],
        [
         "2020-01-01",
         "Air Freshener",
         "Seattle",
         "Convenience Store",
         1.0,
         1.15,
         1,
         1,
         1,
         1.15
        ],
        [
         "2020-01-01",
         "Air Freshener",
         "Seattle",
         "Department Store",
         1.0,
         13.297999999999998,
         1,
         0,
         1,
         13.297999999999998
        ],
        [
         "2020-01-01",
         "Air Freshener",
         "Seattle",
         "Warehouse Club",
         1.0,
         13.874,
         1,
         1,
         0,
         13.874
        ],
        [
         "2020-01-01",
         "Apple",
         "Atlanta",
         "Department Store",
         1.0,
         25.796666666666667,
         1,
         1,
         1,
         25.796666666666667
        ],
        [
         "2020-01-01",
         "Apple",
         "Atlanta",
         "Warehouse Club",
         2.0,
         76.2425,
         2,
         1,
         0,
         38.12125
        ],
        [
         "2020-01-01",
         "Apple",
         "Boston",
         "Convenience Store",
         2.0,
         59.041,
         2,
         1,
         0,
         29.5205
        ],
        [
         "2020-01-01",
         "Apple",
         "Boston",
         "Department Store",
         1.0,
         41.77,
         1,
         0,
         1,
         41.77
        ]
       ],
       "datasetInfos": [],
       "dbfsResultPath": null,
       "isJsonSchema": true,
       "metadata": {},
       "overflow": false,
       "plotOptions": {
        "customPlotOptions": {},
        "displayType": "table",
        "pivotAggregation": null,
        "pivotColumns": null,
        "xColumns": null,
        "yColumns": null
       },
       "removedWidgets": [],
       "schema": [
        {
         "metadata": "{}",
         "name": "event_date",
         "type": "\"date\""
        },
        {
         "metadata": "{}",
         "name": "product",
         "type": "\"string\""
        },
        {
         "metadata": "{}",
         "name": "city",
         "type": "\"string\""
        },
        {
         "metadata": "{}",
         "name": "store_type",
         "type": "\"string\""
        },
        {
         "metadata": "{}",
         "name": "units",
         "type": "\"double\""
        },
        {
         "metadata": "{}",
         "name": "revenue",
         "type": "\"double\""
        },
        {
         "metadata": "{}",
         "name": "transactions",
         "type": "\"long\""
        },
        {
         "metadata": "{}",
         "name": "any_promo",
         "type": "\"integer\""
        },
        {
         "metadata": "{}",
         "name": "any_discount",
         "type": "\"integer\""
        },
        {
         "metadata": "{}",
         "name": "avg_price_per_unit",
         "type": "\"double\""
        }
       ],
       "type": "table"
      }
     },
     "output_type": "display_data"
    }
   ],
   "source": [
    "from pyspark.sql import functions as F\n",
    "\n",
    "# Read item-level Silver\n",
    "silver_table = \"retail_catalog.retail_schema.transactions_items_silver\"\n",
    "df_silver = spark.table(silver_table)\n",
    "\n",
    "# Aggregate per (date, product, city, store_type)\n",
    "gold_store_daily = (\n",
    "    df_silver\n",
    "    .groupBy(\"event_date\", \"product\", \"city\", \"store_type\")\n",
    "    .agg(\n",
    "        F.sum(\"item_qty_est\").alias(\"units\"),\n",
    "        F.sum(\"item_revenue_est\").alias(\"revenue\"),\n",
    "        F.countDistinct(\"transaction_id\").alias(\"transactions\"),\n",
    "        F.max(F.when((F.col(\"promotion\").isNotNull()) & (F.col(\"promotion\") != \"None\"), 1).otherwise(0)).alias(\"any_promo\"),\n",
    "        F.max(F.col(\"discount_bool\").cast(\"int\")).alias(\"any_discount\")\n",
    "    )\n",
    "    .withColumn(\"avg_price_per_unit\", F.when(F.col(\"units\") > 0, F.col(\"revenue\") / F.col(\"units\")))\n",
    ")\n",
    "\n",
    "# Save as Delta\n",
    "gold_store_table = \"retail_catalog.retail_schema.demand_daily_store_gold\"\n",
    "(gold_store_daily\n",
    " .write\n",
    " .mode(\"overwrite\")\n",
    " .format(\"delta\")\n",
    " .partitionBy(\"event_date\")\n",
    " .option(\"overwriteSchema\", \"true\")\n",
    " .saveAsTable(gold_store_table))\n",
    "\n",
    "# Preview\n",
    "display(spark.table(gold_store_table).orderBy(\"event_date\",\"product\",\"city\",\"store_type\").limit(20))\n"
   ]
  },
  {
   "cell_type": "code",
   "execution_count": 0,
   "metadata": {
    "application/vnd.databricks.v1+cell": {
     "cellMetadata": {
      "byteLimit": 2048000,
      "rowLimit": 10000
     },
     "inputWidgets": {},
     "nuid": "b962a21f-5e4d-46fe-8bb5-66894debb095",
     "showTitle": false,
     "tableResultSettingsMap": {},
     "title": ""
    }
   },
   "outputs": [
    {
     "output_type": "display_data",
     "data": {
      "text/html": [
       "<style scoped>\n",
       "  .table-result-container {\n",
       "    max-height: 300px;\n",
       "    overflow: auto;\n",
       "  }\n",
       "  table, th, td {\n",
       "    border: 1px solid black;\n",
       "    border-collapse: collapse;\n",
       "  }\n",
       "  th, td {\n",
       "    padding: 5px;\n",
       "  }\n",
       "  th {\n",
       "    text-align: left;\n",
       "  }\n",
       "</style><div class='table-result-container'><table class='table-result'><thead style='background-color: white'><tr><th>event_date</th><th>product</th><th>city</th><th>store_type</th><th>units</th><th>revenue</th><th>transactions</th><th>any_promo</th><th>any_discount</th><th>avg_price_per_unit</th><th>lag_1d_units</th><th>lag_7d_units</th><th>ma_7d_units</th><th>ma_14d_units</th><th>ma_28d_units</th><th>lag_1d_revenue</th><th>ma_7d_revenue</th><th>ma_14d_revenue</th><th>ma_28d_revenue</th></tr></thead><tbody><tr><td>2020-01-01</td><td>Air Freshener</td><td>Atlanta</td><td>Specialty Store</td><td>1.0</td><td>82.87</td><td>1</td><td>1</td><td>0</td><td>82.87</td><td>null</td><td>null</td><td>1.0</td><td>1.0</td><td>1.0</td><td>null</td><td>82.87</td><td>82.87</td><td>82.87</td></tr><tr><td>2020-01-01</td><td>Air Freshener</td><td>Boston</td><td>Pharmacy</td><td>1.0</td><td>1.255</td><td>1</td><td>1</td><td>1</td><td>1.255</td><td>null</td><td>null</td><td>1.0</td><td>1.0</td><td>1.0</td><td>null</td><td>1.255</td><td>1.255</td><td>1.255</td></tr><tr><td>2020-01-01</td><td>Air Freshener</td><td>Boston</td><td>Specialty Store</td><td>1.0</td><td>17.85</td><td>1</td><td>0</td><td>1</td><td>17.85</td><td>null</td><td>null</td><td>1.0</td><td>1.0</td><td>1.0</td><td>null</td><td>17.85</td><td>17.85</td><td>17.85</td></tr><tr><td>2020-01-01</td><td>Air Freshener</td><td>Chicago</td><td>Warehouse Club</td><td>1.0</td><td>8.59</td><td>1</td><td>0</td><td>1</td><td>8.59</td><td>null</td><td>null</td><td>1.0</td><td>1.0</td><td>1.0</td><td>null</td><td>8.59</td><td>8.59</td><td>8.59</td></tr><tr><td>2020-01-01</td><td>Air Freshener</td><td>Houston</td><td>Convenience Store</td><td>2.0</td><td>40.72</td><td>2</td><td>1</td><td>1</td><td>20.36</td><td>null</td><td>null</td><td>2.0</td><td>2.0</td><td>2.0</td><td>null</td><td>40.72</td><td>40.72</td><td>40.72</td></tr><tr><td>2020-01-01</td><td>Air Freshener</td><td>Houston</td><td>Specialty Store</td><td>1.0</td><td>11.352</td><td>1</td><td>1</td><td>1</td><td>11.352</td><td>null</td><td>null</td><td>1.0</td><td>1.0</td><td>1.0</td><td>null</td><td>11.352</td><td>11.352</td><td>11.352</td></tr><tr><td>2020-01-01</td><td>Air Freshener</td><td>Los Angeles</td><td>Pharmacy</td><td>1.0</td><td>1.06</td><td>1</td><td>1</td><td>0</td><td>1.06</td><td>null</td><td>null</td><td>1.0</td><td>1.0</td><td>1.0</td><td>null</td><td>1.06</td><td>1.06</td><td>1.06</td></tr><tr><td>2020-01-01</td><td>Air Freshener</td><td>Miami</td><td>Department Store</td><td>1.0</td><td>17.416</td><td>1</td><td>1</td><td>0</td><td>17.416</td><td>null</td><td>null</td><td>1.0</td><td>1.0</td><td>1.0</td><td>null</td><td>17.416</td><td>17.416</td><td>17.416</td></tr><tr><td>2020-01-01</td><td>Air Freshener</td><td>Miami</td><td>Pharmacy</td><td>2.0</td><td>37.722</td><td>2</td><td>1</td><td>1</td><td>18.861</td><td>null</td><td>null</td><td>2.0</td><td>2.0</td><td>2.0</td><td>null</td><td>37.722</td><td>37.722</td><td>37.722</td></tr><tr><td>2020-01-01</td><td>Air Freshener</td><td>Miami</td><td>Supermarket</td><td>2.0</td><td>55.762</td><td>2</td><td>1</td><td>1</td><td>27.881</td><td>null</td><td>null</td><td>2.0</td><td>2.0</td><td>2.0</td><td>null</td><td>55.762</td><td>55.762</td><td>55.762</td></tr><tr><td>2020-01-01</td><td>Air Freshener</td><td>Miami</td><td>Warehouse Club</td><td>2.0</td><td>43.754</td><td>2</td><td>1</td><td>1</td><td>21.877</td><td>null</td><td>null</td><td>2.0</td><td>2.0</td><td>2.0</td><td>null</td><td>43.754</td><td>43.754</td><td>43.754</td></tr><tr><td>2020-01-01</td><td>Air Freshener</td><td>San Francisco</td><td>Department Store</td><td>2.0</td><td>19.941000000000003</td><td>2</td><td>1</td><td>1</td><td>9.970500000000001</td><td>null</td><td>null</td><td>2.0</td><td>2.0</td><td>2.0</td><td>null</td><td>19.941000000000003</td><td>19.941000000000003</td><td>19.941000000000003</td></tr><tr><td>2020-01-01</td><td>Air Freshener</td><td>San Francisco</td><td>Pharmacy</td><td>1.0</td><td>2.8325</td><td>1</td><td>0</td><td>1</td><td>2.8325</td><td>null</td><td>null</td><td>1.0</td><td>1.0</td><td>1.0</td><td>null</td><td>2.8325</td><td>2.8325</td><td>2.8325</td></tr><tr><td>2020-01-01</td><td>Air Freshener</td><td>Seattle</td><td>Convenience Store</td><td>1.0</td><td>1.15</td><td>1</td><td>1</td><td>1</td><td>1.15</td><td>null</td><td>null</td><td>1.0</td><td>1.0</td><td>1.0</td><td>null</td><td>1.15</td><td>1.15</td><td>1.15</td></tr><tr><td>2020-01-01</td><td>Air Freshener</td><td>Seattle</td><td>Department Store</td><td>1.0</td><td>13.297999999999998</td><td>1</td><td>0</td><td>1</td><td>13.297999999999998</td><td>null</td><td>null</td><td>1.0</td><td>1.0</td><td>1.0</td><td>null</td><td>13.297999999999998</td><td>13.297999999999998</td><td>13.297999999999998</td></tr><tr><td>2020-01-01</td><td>Air Freshener</td><td>Seattle</td><td>Warehouse Club</td><td>1.0</td><td>13.874</td><td>1</td><td>1</td><td>0</td><td>13.874</td><td>null</td><td>null</td><td>1.0</td><td>1.0</td><td>1.0</td><td>null</td><td>13.874</td><td>13.874</td><td>13.874</td></tr><tr><td>2020-01-01</td><td>Apple</td><td>Atlanta</td><td>Department Store</td><td>1.0</td><td>25.796666666666667</td><td>1</td><td>1</td><td>1</td><td>25.796666666666667</td><td>null</td><td>null</td><td>1.0</td><td>1.0</td><td>1.0</td><td>null</td><td>25.796666666666667</td><td>25.796666666666667</td><td>25.796666666666667</td></tr><tr><td>2020-01-01</td><td>Apple</td><td>Atlanta</td><td>Warehouse Club</td><td>2.0</td><td>76.2425</td><td>2</td><td>1</td><td>0</td><td>38.12125</td><td>null</td><td>null</td><td>2.0</td><td>2.0</td><td>2.0</td><td>null</td><td>76.2425</td><td>76.2425</td><td>76.2425</td></tr><tr><td>2020-01-01</td><td>Apple</td><td>Boston</td><td>Convenience Store</td><td>2.0</td><td>59.041</td><td>2</td><td>1</td><td>0</td><td>29.5205</td><td>null</td><td>null</td><td>2.0</td><td>2.0</td><td>2.0</td><td>null</td><td>59.041</td><td>59.041</td><td>59.041</td></tr><tr><td>2020-01-01</td><td>Apple</td><td>Boston</td><td>Department Store</td><td>1.0</td><td>41.77</td><td>1</td><td>0</td><td>1</td><td>41.77</td><td>null</td><td>null</td><td>1.0</td><td>1.0</td><td>1.0</td><td>null</td><td>41.77</td><td>41.77</td><td>41.77</td></tr></tbody></table></div>"
      ]
     },
     "metadata": {
      "application/vnd.databricks.v1+output": {
       "addedWidgets": {},
       "aggData": [],
       "aggError": "",
       "aggOverflow": false,
       "aggSchema": [],
       "aggSeriesLimitReached": false,
       "aggType": "",
       "arguments": {},
       "columnCustomDisplayInfos": {},
       "data": [
        [
         "2020-01-01",
         "Air Freshener",
         "Atlanta",
         "Specialty Store",
         1.0,
         82.87,
         1,
         1,
         0,
         82.87,
         null,
         null,
         1.0,
         1.0,
         1.0,
         null,
         82.87,
         82.87,
         82.87
        ],
        [
         "2020-01-01",
         "Air Freshener",
         "Boston",
         "Pharmacy",
         1.0,
         1.255,
         1,
         1,
         1,
         1.255,
         null,
         null,
         1.0,
         1.0,
         1.0,
         null,
         1.255,
         1.255,
         1.255
        ],
        [
         "2020-01-01",
         "Air Freshener",
         "Boston",
         "Specialty Store",
         1.0,
         17.85,
         1,
         0,
         1,
         17.85,
         null,
         null,
         1.0,
         1.0,
         1.0,
         null,
         17.85,
         17.85,
         17.85
        ],
        [
         "2020-01-01",
         "Air Freshener",
         "Chicago",
         "Warehouse Club",
         1.0,
         8.59,
         1,
         0,
         1,
         8.59,
         null,
         null,
         1.0,
         1.0,
         1.0,
         null,
         8.59,
         8.59,
         8.59
        ],
        [
         "2020-01-01",
         "Air Freshener",
         "Houston",
         "Convenience Store",
         2.0,
         40.72,
         2,
         1,
         1,
         20.36,
         null,
         null,
         2.0,
         2.0,
         2.0,
         null,
         40.72,
         40.72,
         40.72
        ],
        [
         "2020-01-01",
         "Air Freshener",
         "Houston",
         "Specialty Store",
         1.0,
         11.352,
         1,
         1,
         1,
         11.352,
         null,
         null,
         1.0,
         1.0,
         1.0,
         null,
         11.352,
         11.352,
         11.352
        ],
        [
         "2020-01-01",
         "Air Freshener",
         "Los Angeles",
         "Pharmacy",
         1.0,
         1.06,
         1,
         1,
         0,
         1.06,
         null,
         null,
         1.0,
         1.0,
         1.0,
         null,
         1.06,
         1.06,
         1.06
        ],
        [
         "2020-01-01",
         "Air Freshener",
         "Miami",
         "Department Store",
         1.0,
         17.416,
         1,
         1,
         0,
         17.416,
         null,
         null,
         1.0,
         1.0,
         1.0,
         null,
         17.416,
         17.416,
         17.416
        ],
        [
         "2020-01-01",
         "Air Freshener",
         "Miami",
         "Pharmacy",
         2.0,
         37.722,
         2,
         1,
         1,
         18.861,
         null,
         null,
         2.0,
         2.0,
         2.0,
         null,
         37.722,
         37.722,
         37.722
        ],
        [
         "2020-01-01",
         "Air Freshener",
         "Miami",
         "Supermarket",
         2.0,
         55.762,
         2,
         1,
         1,
         27.881,
         null,
         null,
         2.0,
         2.0,
         2.0,
         null,
         55.762,
         55.762,
         55.762
        ],
        [
         "2020-01-01",
         "Air Freshener",
         "Miami",
         "Warehouse Club",
         2.0,
         43.754,
         2,
         1,
         1,
         21.877,
         null,
         null,
         2.0,
         2.0,
         2.0,
         null,
         43.754,
         43.754,
         43.754
        ],
        [
         "2020-01-01",
         "Air Freshener",
         "San Francisco",
         "Department Store",
         2.0,
         19.941000000000003,
         2,
         1,
         1,
         9.970500000000001,
         null,
         null,
         2.0,
         2.0,
         2.0,
         null,
         19.941000000000003,
         19.941000000000003,
         19.941000000000003
        ],
        [
         "2020-01-01",
         "Air Freshener",
         "San Francisco",
         "Pharmacy",
         1.0,
         2.8325,
         1,
         0,
         1,
         2.8325,
         null,
         null,
         1.0,
         1.0,
         1.0,
         null,
         2.8325,
         2.8325,
         2.8325
        ],
        [
         "2020-01-01",
         "Air Freshener",
         "Seattle",
         "Convenience Store",
         1.0,
         1.15,
         1,
         1,
         1,
         1.15,
         null,
         null,
         1.0,
         1.0,
         1.0,
         null,
         1.15,
         1.15,
         1.15
        ],
        [
         "2020-01-01",
         "Air Freshener",
         "Seattle",
         "Department Store",
         1.0,
         13.297999999999998,
         1,
         0,
         1,
         13.297999999999998,
         null,
         null,
         1.0,
         1.0,
         1.0,
         null,
         13.297999999999998,
         13.297999999999998,
         13.297999999999998
        ],
        [
         "2020-01-01",
         "Air Freshener",
         "Seattle",
         "Warehouse Club",
         1.0,
         13.874,
         1,
         1,
         0,
         13.874,
         null,
         null,
         1.0,
         1.0,
         1.0,
         null,
         13.874,
         13.874,
         13.874
        ],
        [
         "2020-01-01",
         "Apple",
         "Atlanta",
         "Department Store",
         1.0,
         25.796666666666667,
         1,
         1,
         1,
         25.796666666666667,
         null,
         null,
         1.0,
         1.0,
         1.0,
         null,
         25.796666666666667,
         25.796666666666667,
         25.796666666666667
        ],
        [
         "2020-01-01",
         "Apple",
         "Atlanta",
         "Warehouse Club",
         2.0,
         76.2425,
         2,
         1,
         0,
         38.12125,
         null,
         null,
         2.0,
         2.0,
         2.0,
         null,
         76.2425,
         76.2425,
         76.2425
        ],
        [
         "2020-01-01",
         "Apple",
         "Boston",
         "Convenience Store",
         2.0,
         59.041,
         2,
         1,
         0,
         29.5205,
         null,
         null,
         2.0,
         2.0,
         2.0,
         null,
         59.041,
         59.041,
         59.041
        ],
        [
         "2020-01-01",
         "Apple",
         "Boston",
         "Department Store",
         1.0,
         41.77,
         1,
         0,
         1,
         41.77,
         null,
         null,
         1.0,
         1.0,
         1.0,
         null,
         41.77,
         41.77,
         41.77
        ]
       ],
       "datasetInfos": [],
       "dbfsResultPath": null,
       "isJsonSchema": true,
       "metadata": {},
       "overflow": false,
       "plotOptions": {
        "customPlotOptions": {},
        "displayType": "table",
        "pivotAggregation": null,
        "pivotColumns": null,
        "xColumns": null,
        "yColumns": null
       },
       "removedWidgets": [],
       "schema": [
        {
         "metadata": "{}",
         "name": "event_date",
         "type": "\"date\""
        },
        {
         "metadata": "{}",
         "name": "product",
         "type": "\"string\""
        },
        {
         "metadata": "{}",
         "name": "city",
         "type": "\"string\""
        },
        {
         "metadata": "{}",
         "name": "store_type",
         "type": "\"string\""
        },
        {
         "metadata": "{}",
         "name": "units",
         "type": "\"double\""
        },
        {
         "metadata": "{}",
         "name": "revenue",
         "type": "\"double\""
        },
        {
         "metadata": "{}",
         "name": "transactions",
         "type": "\"long\""
        },
        {
         "metadata": "{}",
         "name": "any_promo",
         "type": "\"integer\""
        },
        {
         "metadata": "{}",
         "name": "any_discount",
         "type": "\"integer\""
        },
        {
         "metadata": "{}",
         "name": "avg_price_per_unit",
         "type": "\"double\""
        },
        {
         "metadata": "{}",
         "name": "lag_1d_units",
         "type": "\"double\""
        },
        {
         "metadata": "{}",
         "name": "lag_7d_units",
         "type": "\"double\""
        },
        {
         "metadata": "{}",
         "name": "ma_7d_units",
         "type": "\"double\""
        },
        {
         "metadata": "{}",
         "name": "ma_14d_units",
         "type": "\"double\""
        },
        {
         "metadata": "{}",
         "name": "ma_28d_units",
         "type": "\"double\""
        },
        {
         "metadata": "{}",
         "name": "lag_1d_revenue",
         "type": "\"double\""
        },
        {
         "metadata": "{}",
         "name": "ma_7d_revenue",
         "type": "\"double\""
        },
        {
         "metadata": "{}",
         "name": "ma_14d_revenue",
         "type": "\"double\""
        },
        {
         "metadata": "{}",
         "name": "ma_28d_revenue",
         "type": "\"double\""
        }
       ],
       "type": "table"
      }
     },
     "output_type": "display_data"
    }
   ],
   "source": [
    "from pyspark.sql import functions as F\n",
    "from pyspark.sql import Window as W\n",
    "\n",
    "# Read store-level Gold\n",
    "gold_store_table = \"retail_catalog.retail_schema.demand_daily_store_gold\"\n",
    "df_store = spark.table(gold_store_table)\n",
    "\n",
    "# Window: per (product, city, store_type) ordered by event_date\n",
    "w = W.partitionBy(\"product\", \"city\", \"store_type\").orderBy(\"event_date\")\n",
    "\n",
    "# Add lags & moving averages for units and revenue\n",
    "df_store_feats = (\n",
    "    df_store\n",
    "    .withColumn(\"lag_1d_units\", F.lag(\"units\", 1).over(w))\n",
    "    .withColumn(\"lag_7d_units\", F.lag(\"units\", 7).over(w))\n",
    "    .withColumn(\"ma_7d_units\",  F.avg(\"units\").over(w.rowsBetween(-6, 0)))\n",
    "    .withColumn(\"ma_14d_units\", F.avg(\"units\").over(w.rowsBetween(-13, 0)))\n",
    "    .withColumn(\"ma_28d_units\", F.avg(\"units\").over(w.rowsBetween(-27, 0)))\n",
    "\n",
    "    .withColumn(\"lag_1d_revenue\", F.lag(\"revenue\", 1).over(w))\n",
    "    .withColumn(\"ma_7d_revenue\",  F.avg(\"revenue\").over(w.rowsBetween(-6, 0)))\n",
    "    .withColumn(\"ma_14d_revenue\", F.avg(\"revenue\").over(w.rowsBetween(-13, 0)))\n",
    "    .withColumn(\"ma_28d_revenue\", F.avg(\"revenue\").over(w.rowsBetween(-27, 0)))\n",
    ")\n",
    "\n",
    "# Save as Delta\n",
    "features_store_table = \"retail_catalog.retail_schema.demand_daily_store_features_gold\"\n",
    "(df_store_feats\n",
    " .write\n",
    " .mode(\"overwrite\")\n",
    " .format(\"delta\")\n",
    " .partitionBy(\"event_date\")\n",
    " .option(\"overwriteSchema\", \"true\")\n",
    " .saveAsTable(features_store_table))\n",
    "\n",
    "# Quick look\n",
    "display(spark.table(features_store_table).orderBy(\"event_date\", \"product\", \"city\", \"store_type\").limit(20))\n"
   ]
  }
 ],
 "metadata": {
  "application/vnd.databricks.v1+notebook": {
   "computePreferences": null,
   "dashboards": [],
   "environmentMetadata": {
    "base_environment": "",
    "environment_version": "3"
   },
   "inputWidgetPreferences": null,
   "language": "python",
   "notebookMetadata": {
    "pythonIndentUnit": 4
   },
   "notebookName": "Retail_Demand_Forecast",
   "widgets": {}
  },
  "language_info": {
   "name": "python"
  }
 },
 "nbformat": 4,
 "nbformat_minor": 0
}